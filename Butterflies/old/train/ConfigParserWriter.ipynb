{
 "cells": [
  {
   "cell_type": "markdown",
   "metadata": {},
   "source": [
    "Imports"
   ]
  },
  {
   "cell_type": "code",
   "execution_count": 1,
   "metadata": {},
   "outputs": [],
   "source": [
    "from configParser import ConfigParser, getModelName, getDatasetName"
   ]
  },
  {
   "cell_type": "markdown",
   "metadata": {},
   "source": [
    "Parameters"
   ]
  },
  {
   "cell_type": "code",
   "execution_count": 2,
   "metadata": {},
   "outputs": [],
   "source": [
    "experimentName = \"50_hier_baseline_phase8\"\n",
    "numOfExperiments=20\n",
    "\n",
    "params = {\n",
    "    # Do not change for multi/hyperp experiments\n",
    "    \"image_path\": \"/data/BGNN_data/INHS_cropped\", # \"/data/BGNN_data/CIFAR\", # \"/data/BGNN_data/INHS_cropped\",\n",
    "    \"suffix\":'50', #  #'50_11', '50', None # used to get a subset cleaned_metadata file. set to None otherwise to use full metadata\n",
    "    \n",
    "    # dataset\n",
    "    \"training_count\":0.64,\n",
    "    \"validation_count\":0.16,\n",
    "\n",
    "    # training\n",
    "    \"batchSize\": 32, # Bigger is more stable\n",
    "    \"n_epochs\":5000, # allow it to run for long time 4000\n",
    "    \"learning_rate\":0.01, # Seems 0.0001 to be best value with Adam. 0.1 best for SGD\n",
    "    \"numOfTrials\":3,\n",
    "    \"patience\": 100,\n",
    "    # temp. Should be optimized and removed\n",
    "    \"fc_width\":200,\n",
    "    \"fc_layers\": 1,\n",
    "    \"modelType\":\"\",\n",
    "    \"lambda\": 0.6,\n",
    "    \"unsupervisedOnTest\": False,\n",
    "    ###\n",
    "    \"tl_model\", # Keep '18', '50', 'CIFAR', 'NIN'\n",
    "}"
   ]
  },
  {
   "cell_type": "markdown",
   "metadata": {},
   "source": [
    "Create file"
   ]
  },
  {
   "cell_type": "code",
   "execution_count": 3,
   "metadata": {},
   "outputs": [
    {
     "data": {
      "text/plain": [
       "'50_hier_baseline_phase8-2fe7e3d0a74b11eab9d5ac1f6b9e3b4a/params.json'"
      ]
     },
     "execution_count": 3,
     "metadata": {},
     "output_type": "execute_result"
    }
   ],
   "source": [
    "cp = ConfigParser(experimentName)\n",
    "\n",
    "cp.write(params)"
   ]
  },
  {
   "cell_type": "markdown",
   "metadata": {},
   "source": [
    "Read file"
   ]
  },
  {
   "cell_type": "code",
   "execution_count": 4,
   "metadata": {},
   "outputs": [
    {
     "name": "stdout",
     "output_type": "stream",
     "text": [
      "{'image_path': '/data/BGNN_data/INHS_cropped', 'suffix': '50', 'training_count': 0.64, 'validation_count': 0.16, 'batchSize': 32, 'n_epochs': 5000, 'learning_rate': 0.01, 'numOfTrials': 3, 'patience': 100, 'useHeirarchy': True, 'downsample': True, 'downsampleOutput': 200, 'takeFromIntermediate': True, 'takeFromIntermediateOutput': 200, 'lambda': 0.6, 'unsupervisedOnTest': False, 'fc_layers': 1, 'resnet': '50', 'normalizeFromResnet': True}\n"
     ]
    }
   ],
   "source": [
    "j = cp.read()\n",
    "print(j)"
   ]
  },
  {
   "cell_type": "markdown",
   "metadata": {},
   "source": [
    "Create hyperp"
   ]
  },
  {
   "cell_type": "code",
   "execution_count": 5,
   "metadata": {},
   "outputs": [
    {
     "data": {
      "text/plain": [
       "'50_hier_baseline_phase8-2fe7e3d0a74b11eab9d5ac1f6b9e3b4a/hyperp_params.json'"
      ]
     },
     "execution_count": 5,
     "metadata": {},
     "output_type": "execute_result"
    }
   ],
   "source": [
    "hyperp_params = {\n",
    "    \"dummy\":[0]\n",
    "#     \"fc_layers\":[1,2,3],\n",
    "    \n",
    "#     \"imageDimension\": [28, 56, 224],\n",
    "#     \"n_channels\": [1, 3],\n",
    "#     \"kernelSize\": [5, 9],\n",
    "#     \"useZCAWhitening\": [False, True],\n",
    "#     \"patience\": [100, 200],\n",
    "#     \"batchSize\": [500, 1300, 2600],\n",
    "#     \"useHeirarchy\": [True, False],\n",
    "#     \"resnet\": ['18', '50']\n",
    "#     \"batchNormalize\": [True]\n",
    "#     \"lambda\": [0, 0.25, 0.75, 1, 4, 50]\n",
    "}\n",
    "\n",
    "cp.writeHyperp(hyperp_params)"
   ]
  },
  {
   "cell_type": "markdown",
   "metadata": {},
   "source": [
    "Get experiments"
   ]
  },
  {
   "cell_type": "code",
   "execution_count": 6,
   "metadata": {},
   "outputs": [
    {
     "name": "stdout",
     "output_type": "stream",
     "text": [
      "{'image_path': '/data/BGNN_data/INHS_cropped', 'suffix': '50', 'training_count': 0.64, 'validation_count': 0.16, 'batchSize': 32, 'n_epochs': 5000, 'learning_rate': 0.01, 'numOfTrials': 3, 'patience': 100, 'useHeirarchy': True, 'downsample': True, 'downsampleOutput': 200, 'takeFromIntermediate': True, 'takeFromIntermediateOutput': 200, 'lambda': 0.6, 'unsupervisedOnTest': False, 'fc_layers': 1, 'resnet': '50', 'normalizeFromResnet': True, 'dummy': 0}\n"
     ]
    }
   ],
   "source": [
    "for i in cp.getHyperpIter():\n",
    "    print(i)"
   ]
  },
  {
   "cell_type": "markdown",
   "metadata": {},
   "source": [
    "Model name"
   ]
  },
  {
   "cell_type": "code",
   "execution_count": 7,
   "metadata": {},
   "outputs": [
    {
     "name": "stdout",
     "output_type": "stream",
     "text": [
      "tc0.640000_vc0.160000_bs32_e5000_p100_lr0.010000_hTrue_dsTrue_dso200_tfiTrue_tfio200_res50_fc1_nResTrue_unsupFalse_lmda0.6\n",
      "tc0.640000_vc0.160000\n"
     ]
    }
   ],
   "source": [
    "print(getModelName(j))\n",
    "print(getDatasetName(j))"
   ]
  },
  {
   "cell_type": "markdown",
   "metadata": {},
   "source": [
    "Hyperp search write"
   ]
  },
  {
   "cell_type": "code",
   "execution_count": 8,
   "metadata": {},
   "outputs": [
    {
     "data": {
      "text/plain": [
       "'50_hier_baseline_phase8-2fe7e3d0a74b11eab9d5ac1f6b9e3b4a/hyperp_search_params.pkl'"
      ]
     },
     "execution_count": 8,
     "metadata": {},
     "output_type": "execute_result"
    }
   ],
   "source": [
    "from hyperopt import fmin, hp, rand, tpe\n",
    "from hyperopt.pyll.base import scope\n",
    "import math\n",
    "\n",
    "hyperp_search_params = {\n",
    "#     \"kernels\": [ scope.int(hp.quniform('kernels1', 8, 16, 1)),\n",
    "#                 scope.int(hp.quniform('kernels2', 16, 32, 1)),\n",
    "#                 scope.int(hp.qloguniform('kernels3', math.log(1), math.log(16), 1)),\n",
    "#                 scope.int(hp.qloguniform('kernels4', math.log(1), math.log(16), 1)),\n",
    "#                 scope.int(hp.qloguniform('kernels5', math.log(1), math.log(16), 1))],\n",
    "#     \"kernelSize\": scope.int(hp.quniform('kernelSize', 3, 10, 1)), \n",
    "    # \"useZCAWhitening\": hp.choice('useZCAWhitening', [False, True]), \n",
    "#     \"n_channels\": scope.int(hp.choice('n_channels', [1, 3])), \n",
    "#     \"imageDimension\": scope.int(hp.quniform('imageDimension', 28, 420, 28)),\n",
    "#     \"batchSize\": scope.int(hp.quniform('batchSize', 50, 550, 50)),\n",
    "#     \"learning_rate\": hp.loguniform('learning_rate', math.log(0.0001), math.log(0.01)),\n",
    "#     \"patience\": scope.int(hp.quniform('patience', 50, 500, 25)),\n",
    "    \"lambda\": hp.uniform('lambda', 0.05, 1),\n",
    "#     \"learning_rate\": hp.uniform('learning_rate', 0.0001, 0.01),\n",
    "#     \"downsample\": hp.pchoice('downsample', [(0.7, True), (0.3, False)]),\n",
    "#     \"takeFromIntermediate\": hp.pchoice('takeFromIntermediate', [(0.7, True), (0.3, False)]),\n",
    "    \"downsampleOutput\": scope.int(hp.quniform('downsampleOutput', 50, 500, 50)),\n",
    "    \"takeFromIntermediateOutput\": scope.int(hp.quniform('takeFromIntermediateOutput', 50, 500, 50)),\n",
    "    \"fc_layers\": scope.int(hp.quniform('fc_layers', 1, 5, 1)),\n",
    "    \"resnet\": hp.choice('resnet', [\"50\", \"18\"]),\n",
    "    \"numOfTrials\": hp.choice('numOfTrials', [2])\n",
    "}\n",
    "\n",
    "cp.writeHyperpSearch(hyperp_search_params)"
   ]
  },
  {
   "cell_type": "markdown",
   "metadata": {},
   "source": [
    "Hyperp search read"
   ]
  },
  {
   "cell_type": "code",
   "execution_count": 9,
   "metadata": {},
   "outputs": [
    {
     "name": "stdout",
     "output_type": "stream",
     "text": [
      "{'lambda': <hyperopt.pyll.base.Apply object at 0x7fcff3835e48>, 'downsampleOutput': <hyperopt.pyll.base.Apply object at 0x7fcff38355c0>, 'takeFromIntermediateOutput': <hyperopt.pyll.base.Apply object at 0x7fcff383f048>, 'fc_layers': <hyperopt.pyll.base.Apply object at 0x7fcff383f278>, 'resnet': <hyperopt.pyll.base.Apply object at 0x7fcff383fda0>, 'numOfTrials': <hyperopt.pyll.base.Apply object at 0x7fcff384c048>, 'image_path': <hyperopt.pyll.base.Apply object at 0x7fcff3835c50>, 'suffix': <hyperopt.pyll.base.Apply object at 0x7fcff384c2b0>, 'training_count': <hyperopt.pyll.base.Apply object at 0x7fcff384c400>, 'validation_count': <hyperopt.pyll.base.Apply object at 0x7fcff384c550>, 'batchSize': <hyperopt.pyll.base.Apply object at 0x7fcff384c6a0>, 'n_epochs': <hyperopt.pyll.base.Apply object at 0x7fcff384c7f0>, 'learning_rate': <hyperopt.pyll.base.Apply object at 0x7fcff384c940>, 'patience': <hyperopt.pyll.base.Apply object at 0x7fcff384ca90>, 'useHeirarchy': <hyperopt.pyll.base.Apply object at 0x7fcff384cbe0>, 'downsample': <hyperopt.pyll.base.Apply object at 0x7fcff384cd30>, 'takeFromIntermediate': <hyperopt.pyll.base.Apply object at 0x7fcff384ce80>, 'unsupervisedOnTest': <hyperopt.pyll.base.Apply object at 0x7fcff384cfd0>, 'normalizeFromResnet': <hyperopt.pyll.base.Apply object at 0x7fcff384e160>}\n",
      "{'batchSize': 32, 'downsample': True, 'downsampleOutput': 450, 'fc_layers': 2, 'image_path': '/data/BGNN_data/INHS_cropped', 'lambda': 0.32533532049689423, 'learning_rate': 0.01, 'n_epochs': 5000, 'normalizeFromResnet': True, 'numOfTrials': 2, 'patience': 100, 'resnet': '50', 'suffix': '50', 'takeFromIntermediate': True, 'takeFromIntermediateOutput': 300, 'training_count': 0.64, 'unsupervisedOnTest': False, 'useHeirarchy': True, 'validation_count': 0.16}\n",
      "{'batchSize': 32, 'downsample': True, 'downsampleOutput': 300, 'fc_layers': 3, 'image_path': '/data/BGNN_data/INHS_cropped', 'lambda': 0.8782755493277533, 'learning_rate': 0.01, 'n_epochs': 5000, 'normalizeFromResnet': True, 'numOfTrials': 2, 'patience': 100, 'resnet': '18', 'suffix': '50', 'takeFromIntermediate': True, 'takeFromIntermediateOutput': 150, 'training_count': 0.64, 'unsupervisedOnTest': False, 'useHeirarchy': True, 'validation_count': 0.16}\n",
      "{'batchSize': 32, 'downsample': True, 'downsampleOutput': 200, 'fc_layers': 3, 'image_path': '/data/BGNN_data/INHS_cropped', 'lambda': 0.5308393284516179, 'learning_rate': 0.01, 'n_epochs': 5000, 'normalizeFromResnet': True, 'numOfTrials': 2, 'patience': 100, 'resnet': '18', 'suffix': '50', 'takeFromIntermediate': True, 'takeFromIntermediateOutput': 150, 'training_count': 0.64, 'unsupervisedOnTest': False, 'useHeirarchy': True, 'validation_count': 0.16}\n",
      "{'batchSize': 32, 'downsample': True, 'downsampleOutput': 450, 'fc_layers': 2, 'image_path': '/data/BGNN_data/INHS_cropped', 'lambda': 0.8012366656378772, 'learning_rate': 0.01, 'n_epochs': 5000, 'normalizeFromResnet': True, 'numOfTrials': 2, 'patience': 100, 'resnet': '50', 'suffix': '50', 'takeFromIntermediate': True, 'takeFromIntermediateOutput': 100, 'training_count': 0.64, 'unsupervisedOnTest': False, 'useHeirarchy': True, 'validation_count': 0.16}\n",
      "{'batchSize': 32, 'downsample': True, 'downsampleOutput': 400, 'fc_layers': 4, 'image_path': '/data/BGNN_data/INHS_cropped', 'lambda': 0.42490189910289516, 'learning_rate': 0.01, 'n_epochs': 5000, 'normalizeFromResnet': True, 'numOfTrials': 2, 'patience': 100, 'resnet': '18', 'suffix': '50', 'takeFromIntermediate': True, 'takeFromIntermediateOutput': 150, 'training_count': 0.64, 'unsupervisedOnTest': False, 'useHeirarchy': True, 'validation_count': 0.16}\n",
      "{'batchSize': 32, 'downsample': True, 'downsampleOutput': 350, 'fc_layers': 1, 'image_path': '/data/BGNN_data/INHS_cropped', 'lambda': 0.39620225100338735, 'learning_rate': 0.01, 'n_epochs': 5000, 'normalizeFromResnet': True, 'numOfTrials': 2, 'patience': 100, 'resnet': '50', 'suffix': '50', 'takeFromIntermediate': True, 'takeFromIntermediateOutput': 150, 'training_count': 0.64, 'unsupervisedOnTest': False, 'useHeirarchy': True, 'validation_count': 0.16}\n",
      "{'batchSize': 32, 'downsample': True, 'downsampleOutput': 100, 'fc_layers': 2, 'image_path': '/data/BGNN_data/INHS_cropped', 'lambda': 0.5908034201791987, 'learning_rate': 0.01, 'n_epochs': 5000, 'normalizeFromResnet': True, 'numOfTrials': 2, 'patience': 100, 'resnet': '18', 'suffix': '50', 'takeFromIntermediate': True, 'takeFromIntermediateOutput': 250, 'training_count': 0.64, 'unsupervisedOnTest': False, 'useHeirarchy': True, 'validation_count': 0.16}\n",
      "{'batchSize': 32, 'downsample': True, 'downsampleOutput': 400, 'fc_layers': 5, 'image_path': '/data/BGNN_data/INHS_cropped', 'lambda': 0.848921936292401, 'learning_rate': 0.01, 'n_epochs': 5000, 'normalizeFromResnet': True, 'numOfTrials': 2, 'patience': 100, 'resnet': '18', 'suffix': '50', 'takeFromIntermediate': True, 'takeFromIntermediateOutput': 400, 'training_count': 0.64, 'unsupervisedOnTest': False, 'useHeirarchy': True, 'validation_count': 0.16}\n",
      "{'batchSize': 32, 'downsample': True, 'downsampleOutput': 50, 'fc_layers': 3, 'image_path': '/data/BGNN_data/INHS_cropped', 'lambda': 0.9209941705931067, 'learning_rate': 0.01, 'n_epochs': 5000, 'normalizeFromResnet': True, 'numOfTrials': 2, 'patience': 100, 'resnet': '50', 'suffix': '50', 'takeFromIntermediate': True, 'takeFromIntermediateOutput': 350, 'training_count': 0.64, 'unsupervisedOnTest': False, 'useHeirarchy': True, 'validation_count': 0.16}\n",
      "{'batchSize': 32, 'downsample': True, 'downsampleOutput': 350, 'fc_layers': 3, 'image_path': '/data/BGNN_data/INHS_cropped', 'lambda': 0.47756545174731835, 'learning_rate': 0.01, 'n_epochs': 5000, 'normalizeFromResnet': True, 'numOfTrials': 2, 'patience': 100, 'resnet': '18', 'suffix': '50', 'takeFromIntermediate': True, 'takeFromIntermediateOutput': 450, 'training_count': 0.64, 'unsupervisedOnTest': False, 'useHeirarchy': True, 'validation_count': 0.16}\n",
      "{'batchSize': 32, 'downsample': True, 'downsampleOutput': 450, 'fc_layers': 3, 'image_path': '/data/BGNN_data/INHS_cropped', 'lambda': 0.49785244251655136, 'learning_rate': 0.01, 'n_epochs': 5000, 'normalizeFromResnet': True, 'numOfTrials': 2, 'patience': 100, 'resnet': '18', 'suffix': '50', 'takeFromIntermediate': True, 'takeFromIntermediateOutput': 200, 'training_count': 0.64, 'unsupervisedOnTest': False, 'useHeirarchy': True, 'validation_count': 0.16}\n",
      "{'batchSize': 32, 'downsample': True, 'downsampleOutput': 150, 'fc_layers': 4, 'image_path': '/data/BGNN_data/INHS_cropped', 'lambda': 0.338346530771061, 'learning_rate': 0.01, 'n_epochs': 5000, 'normalizeFromResnet': True, 'numOfTrials': 2, 'patience': 100, 'resnet': '18', 'suffix': '50', 'takeFromIntermediate': True, 'takeFromIntermediateOutput': 50, 'training_count': 0.64, 'unsupervisedOnTest': False, 'useHeirarchy': True, 'validation_count': 0.16}\n",
      "{'batchSize': 32, 'downsample': True, 'downsampleOutput': 350, 'fc_layers': 2, 'image_path': '/data/BGNN_data/INHS_cropped', 'lambda': 0.7262922499554125, 'learning_rate': 0.01, 'n_epochs': 5000, 'normalizeFromResnet': True, 'numOfTrials': 2, 'patience': 100, 'resnet': '18', 'suffix': '50', 'takeFromIntermediate': True, 'takeFromIntermediateOutput': 300, 'training_count': 0.64, 'unsupervisedOnTest': False, 'useHeirarchy': True, 'validation_count': 0.16}\n",
      "{'batchSize': 32, 'downsample': True, 'downsampleOutput': 300, 'fc_layers': 2, 'image_path': '/data/BGNN_data/INHS_cropped', 'lambda': 0.7512508132500814, 'learning_rate': 0.01, 'n_epochs': 5000, 'normalizeFromResnet': True, 'numOfTrials': 2, 'patience': 100, 'resnet': '18', 'suffix': '50', 'takeFromIntermediate': True, 'takeFromIntermediateOutput': 400, 'training_count': 0.64, 'unsupervisedOnTest': False, 'useHeirarchy': True, 'validation_count': 0.16}\n",
      "{'batchSize': 32, 'downsample': True, 'downsampleOutput': 200, 'fc_layers': 3, 'image_path': '/data/BGNN_data/INHS_cropped', 'lambda': 0.45805007740620945, 'learning_rate': 0.01, 'n_epochs': 5000, 'normalizeFromResnet': True, 'numOfTrials': 2, 'patience': 100, 'resnet': '18', 'suffix': '50', 'takeFromIntermediate': True, 'takeFromIntermediateOutput': 100, 'training_count': 0.64, 'unsupervisedOnTest': False, 'useHeirarchy': True, 'validation_count': 0.16}\n"
     ]
    },
    {
     "name": "stdout",
     "output_type": "stream",
     "text": [
      "{'batchSize': 32, 'downsample': True, 'downsampleOutput': 150, 'fc_layers': 3, 'image_path': '/data/BGNN_data/INHS_cropped', 'lambda': 0.8408290086350604, 'learning_rate': 0.01, 'n_epochs': 5000, 'normalizeFromResnet': True, 'numOfTrials': 2, 'patience': 100, 'resnet': '18', 'suffix': '50', 'takeFromIntermediate': True, 'takeFromIntermediateOutput': 350, 'training_count': 0.64, 'unsupervisedOnTest': False, 'useHeirarchy': True, 'validation_count': 0.16}\n",
      "{'batchSize': 32, 'downsample': True, 'downsampleOutput': 100, 'fc_layers': 3, 'image_path': '/data/BGNN_data/INHS_cropped', 'lambda': 0.39209479510963413, 'learning_rate': 0.01, 'n_epochs': 5000, 'normalizeFromResnet': True, 'numOfTrials': 2, 'patience': 100, 'resnet': '18', 'suffix': '50', 'takeFromIntermediate': True, 'takeFromIntermediateOutput': 400, 'training_count': 0.64, 'unsupervisedOnTest': False, 'useHeirarchy': True, 'validation_count': 0.16}\n",
      "{'batchSize': 32, 'downsample': True, 'downsampleOutput': 450, 'fc_layers': 3, 'image_path': '/data/BGNN_data/INHS_cropped', 'lambda': 0.819345717803591, 'learning_rate': 0.01, 'n_epochs': 5000, 'normalizeFromResnet': True, 'numOfTrials': 2, 'patience': 100, 'resnet': '50', 'suffix': '50', 'takeFromIntermediate': True, 'takeFromIntermediateOutput': 250, 'training_count': 0.64, 'unsupervisedOnTest': False, 'useHeirarchy': True, 'validation_count': 0.16}\n",
      "{'batchSize': 32, 'downsample': True, 'downsampleOutput': 250, 'fc_layers': 4, 'image_path': '/data/BGNN_data/INHS_cropped', 'lambda': 0.7705852583479486, 'learning_rate': 0.01, 'n_epochs': 5000, 'normalizeFromResnet': True, 'numOfTrials': 2, 'patience': 100, 'resnet': '50', 'suffix': '50', 'takeFromIntermediate': True, 'takeFromIntermediateOutput': 350, 'training_count': 0.64, 'unsupervisedOnTest': False, 'useHeirarchy': True, 'validation_count': 0.16}\n",
      "{'batchSize': 32, 'downsample': True, 'downsampleOutput': 150, 'fc_layers': 4, 'image_path': '/data/BGNN_data/INHS_cropped', 'lambda': 0.6693162645814107, 'learning_rate': 0.01, 'n_epochs': 5000, 'normalizeFromResnet': True, 'numOfTrials': 2, 'patience': 100, 'resnet': '18', 'suffix': '50', 'takeFromIntermediate': True, 'takeFromIntermediateOutput': 300, 'training_count': 0.64, 'unsupervisedOnTest': False, 'useHeirarchy': True, 'validation_count': 0.16}\n",
      "100%|██████████| 20/20 [00:00<00:00, 188.48trial/s, best loss: 1.0]\n"
     ]
    },
    {
     "data": {
      "text/plain": [
       "{'batchSize': 0,\n",
       " 'downsample': 0,\n",
       " 'downsampleOutput': 450.0,\n",
       " 'fc_layers': 2.0,\n",
       " 'image_path': 0,\n",
       " 'lambda': 0.32533532049689423,\n",
       " 'learning_rate': 0,\n",
       " 'n_epochs': 0,\n",
       " 'normalizeFromResnet': 0,\n",
       " 'numOfTrials': 0,\n",
       " 'patience': 0,\n",
       " 'resnet': 0,\n",
       " 'suffix': 0,\n",
       " 'takeFromIntermediate': 0,\n",
       " 'takeFromIntermediateOutput': 300.0,\n",
       " 'training_count': 0,\n",
       " 'unsupervisedOnTest': 0,\n",
       " 'useHeirarchy': 0,\n",
       " 'validation_count': 0}"
      ]
     },
     "execution_count": 9,
     "metadata": {},
     "output_type": "execute_result"
    }
   ],
   "source": [
    "hyperp_obj = cp.getHyperpSearchObject()\n",
    "print(hyperp_obj)\n",
    "\n",
    "def objective(experiment_params):\n",
    "    print(experiment_params)\n",
    "    dummyObjective = 1\n",
    "    return dummyObjective\n",
    "\n",
    "fmin(objective,\n",
    "     space=hyperp_obj,\n",
    "     algo=rand.suggest, \n",
    "     max_evals=numOfExperiments)"
   ]
  },
  {
   "cell_type": "markdown",
   "metadata": {},
   "source": [
    "Selected hyperp write"
   ]
  },
  {
   "cell_type": "code",
   "execution_count": 10,
   "metadata": {},
   "outputs": [
    {
     "data": {
      "text/plain": [
       "'50_hier_baseline_phase8-2fe7e3d0a74b11eab9d5ac1f6b9e3b4a/hyperp_selected_params.pkl'"
      ]
     },
     "execution_count": 10,
     "metadata": {},
     "output_type": "execute_result"
    }
   ],
   "source": [
    "selected_hyperp_params = [\n",
    "#     {\"training_count\":0.32,\"validation_count\":0.08,},\n",
    "#     {\"training_count\":0.32,\"validation_count\":0.08,'downsample': True, 'takeFromIntermediate': False, 'takeFromIntermediateOutput':-1 },\n",
    "#     {\"training_count\":0.16,\"validation_count\":0.04,'downsample': True, 'takeFromIntermediate': False, 'takeFromIntermediateOutput':-1 },\n",
    "#     {\"training_count\":0.16,\"validation_count\":0.04}\n",
    "    \n",
    "#     {\"training_count\":0.64,\"validation_count\":0.16,'downsample': True, 'takeFromIntermediate': False, 'takeFromIntermediateOutput':-1 },\n",
    "#     {\"training_count\":0.64,\"validation_count\":0.16}\n",
    "    \n",
    "    {'downsample': True, 'takeFromIntermediate': True, 'downsampleOutput':200, 'takeFromIntermediateOutput':200, \"fc_layers\": 1 }, #size\n",
    "#     {'downsample': True, 'takeFromIntermediate': True, 'downsampleOutput':400, 'takeFromIntermediateOutput':400, \"fc_layers\": 2 }, #size\n",
    "#     {'downsample': True, 'takeFromIntermediate': True, 'downsampleOutput':200, 'takeFromIntermediateOutput':200, \"fc_layers\": 3 }, #size\n",
    "#     {'downsample': True, 'takeFromIntermediate': True, 'downsampleOutput':400, 'takeFromIntermediateOutput':400, \"fc_layers\": 3 }, #size\n",
    "\n",
    "#     {'downsample': True, 'takeFromIntermediate': True }, #HGNN\n",
    "#     {'downsample': True, 'takeFromIntermediate': False, 'takeFromIntermediateOutput':-1 }, #blackbox\n",
    "#     {'downsample': False, 'takeFromIntermediate': True }, #baseline1\n",
    "#     {'downsample': True, 'takeFromIntermediate': False }, #baseline2\n",
    "#     {'downsample': False, 'takeFromIntermediate': False }, #baseline3\n",
    "#     {'downsample': False, 'takeFromIntermediate': True, 'downsampleOutput':0 }, #DISCO\n",
    "#     {'downsample': False, 'takeFromIntermediate': True, 'downsampleOutput':-1 }, #DSN\n",
    "#     {'downsample': True, 'takeFromIntermediate': True, 'lambda':0 }, #Lambda0\n",
    "\n",
    "\n",
    "]\n",
    "\n",
    "cp.writeHyperpSelected(selected_hyperp_params)"
   ]
  },
  {
   "cell_type": "markdown",
   "metadata": {},
   "source": [
    "Selected hyperp read"
   ]
  },
  {
   "cell_type": "code",
   "execution_count": 11,
   "metadata": {},
   "outputs": [
    {
     "name": "stdout",
     "output_type": "stream",
     "text": [
      "{'image_path': '/data/BGNN_data/INHS_cropped', 'suffix': '50', 'training_count': 0.64, 'validation_count': 0.16, 'batchSize': 32, 'n_epochs': 5000, 'learning_rate': 0.01, 'numOfTrials': 3, 'patience': 100, 'useHeirarchy': True, 'downsample': True, 'downsampleOutput': 200, 'takeFromIntermediate': True, 'takeFromIntermediateOutput': 200, 'lambda': 0.6, 'unsupervisedOnTest': False, 'fc_layers': 1, 'resnet': '50', 'normalizeFromResnet': True}\n"
     ]
    }
   ],
   "source": [
    "for i in cp.getHyperpSelectedIter():\n",
    "    print(i)"
   ]
  },
  {
   "cell_type": "code",
   "execution_count": null,
   "metadata": {},
   "outputs": [],
   "source": []
  }
 ],
 "metadata": {
  "kernelspec": {
   "display_name": "Python 3",
   "language": "python",
   "name": "python3"
  },
  "language_info": {
   "codemirror_mode": {
    "name": "ipython",
    "version": 3
   },
   "file_extension": ".py",
   "mimetype": "text/x-python",
   "name": "python",
   "nbconvert_exporter": "python",
   "pygments_lexer": "ipython3",
   "version": "3.6.9"
  }
 },
 "nbformat": 4,
 "nbformat_minor": 2
}
