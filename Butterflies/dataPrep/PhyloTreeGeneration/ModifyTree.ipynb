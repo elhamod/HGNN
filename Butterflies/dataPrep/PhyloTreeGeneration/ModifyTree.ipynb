{
 "cells": [
  {
   "cell_type": "code",
   "execution_count": null,
   "metadata": {},
   "outputs": [],
   "source": [
    "library(datelife)\n",
    "library(treeplyr)\n",
    "library(rotl)\n",
    "\n",
    "inputTreeFile = \"/raid/elhamod/Fish/Curated4/Easy_30/cleaned_metadata.tre\"\n",
    "\n",
    "usingDateLife=1 # 38/38 This is what we use for our project\n",
    "outputDatLifeTree = \"./Output/datelife.tre\"\n",
    "\n",
    "usingFishTol=0 #34/38 This is supposedly more accurate but missing 4 species\n",
    "GrandFishTolTree = \"./timetree.tre.xz\"\n",
    "outputFishTolTree = \"./Output/fishTOL.tre\"\n",
    "\n",
    "\n",
    "tree <- read.tree(inputTreeFile)\n",
    "\n",
    "synth_tree <- get_otol_synthetic_tree(ott_ids = gsub(\"ott\", \"\", tree$tip.label))\n",
    "print(\"Original tree\")\n",
    "plot(synth_tree) # Original from Wasila\n",
    "print(\"-------\")\n",
    "\n",
    "if (usingDateLife==1) {\n",
    "    synth_tree_dated <- get_dated_otol_induced_subtree(ott_ids=gsub(\"ott\", \"\", tree$tip.label)) \n",
    "    synth_tree_dated$tip.label = synth_tree_dated$ott_ids\n",
    "    write.tree(synth_tree_dated, file=outputDatLifeTree)\n",
    "    print(\"Open Tree Timed \")\n",
    "    plot(synth_tree_dated) \n",
    "    print(\"-------\")\n",
    "}\n",
    "\n",
    "if (usingFishTol==1) {\n",
    "    fishtree <- read.tree(GrandFishTolTree)\n",
    "    \n",
    "    ## Get species names from ottids to match to fishtree of life\n",
    "    species <- rotl::taxonomy_taxon_info(as.integer(gsub(\"ott\", \"\", tree$tip.label))) # Strip out the \"ott\" prefix and get taxonomy info\n",
    "    species <- sapply(species, function(x) x$name) #Grab name\n",
    "    species <- gsub(\" \", \"_\", species) #Replace space with underscore\n",
    "\n",
    "    fishtree_td <- make.treedata(fishtree, data.frame(genspec=species, ottid=tree$tip.label)) #Match tree and data\n",
    "    ftol <- fishtree_td$phy #Pull out tree\n",
    "    # ftol$tip.label <- as.character(fishtree_td[[\"ottid\"]]) #Replace tip labels with original tip labels\n",
    "\n",
    "    # Save the trees\n",
    "    write.tree(ftol, file=outputFishTolTree) \n",
    "\n",
    "    plot(ftol) \n",
    "}\n",
    "\n",
    "\n"
   ]
  },
  {
   "cell_type": "code",
   "execution_count": null,
   "metadata": {},
   "outputs": [],
   "source": [
    "# names(synth_tree_dated)"
   ]
  },
  {
   "cell_type": "code",
   "execution_count": null,
   "metadata": {},
   "outputs": [],
   "source": [
    "synth_tree_dated$ott_ids"
   ]
  },
  {
   "cell_type": "code",
   "execution_count": null,
   "metadata": {},
   "outputs": [],
   "source": [
    "synth_tree_dated$tip.label"
   ]
  },
  {
   "cell_type": "code",
   "execution_count": null,
   "metadata": {},
   "outputs": [],
   "source": [
    "taxa <- c(\"Lepisosteus_platostomus\")\n",
    "tnrs_match_names(taxa)"
   ]
  },
  {
   "cell_type": "code",
   "execution_count": null,
   "metadata": {},
   "outputs": [],
   "source": [
    "# summary(fishtree_td)"
   ]
  },
  {
   "cell_type": "code",
   "execution_count": null,
   "metadata": {},
   "outputs": [],
   "source": [
    "# for (x in fishtree_td) {\n",
    "#     for (y in x) {\n",
    "#         print(y)\n",
    "#     }\n",
    "# }"
   ]
  },
  {
   "cell_type": "code",
   "execution_count": null,
   "metadata": {},
   "outputs": [],
   "source": []
  }
 ],
 "metadata": {
  "kernelspec": {
   "display_name": "R",
   "language": "R",
   "name": "ir"
  },
  "language_info": {
   "codemirror_mode": "r",
   "file_extension": ".r",
   "mimetype": "text/x-r-source",
   "name": "R",
   "pygments_lexer": "r",
   "version": "4.1.0"
  }
 },
 "nbformat": 4,
 "nbformat_minor": 4
}
