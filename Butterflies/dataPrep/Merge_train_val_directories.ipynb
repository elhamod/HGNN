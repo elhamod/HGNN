{
 "cells": [
  {
   "cell_type": "code",
   "execution_count": 1,
   "metadata": {},
   "outputs": [],
   "source": [
    "import os\n",
    "from distutils.dir_util import copy_tree"
   ]
  },
  {
   "cell_type": "code",
   "execution_count": 2,
   "metadata": {},
   "outputs": [],
   "source": [
    "dataset_path = \"/raid/elhamod/Fish/Curated4/Easy_200\"\n",
    "train_dir = \"train\"\n",
    "val_dir = \"val\"\n",
    "train_val_dir = \"train_val\""
   ]
  },
  {
   "cell_type": "code",
   "execution_count": 3,
   "metadata": {},
   "outputs": [],
   "source": [
    "%%capture\n",
    "train_val_fullpath = os.path.join(dataset_path, train_val_dir)\n",
    "if not os.path.exists(train_val_fullpath):\n",
    "    os.mkdir(train_val_fullpath)\n",
    "    \n",
    "copy_tree(os.path.join(dataset_path, train_dir), train_val_fullpath)\n",
    "copy_tree(os.path.join(dataset_path, val_dir), train_val_fullpath)"
   ]
  },
  {
   "cell_type": "code",
   "execution_count": null,
   "metadata": {},
   "outputs": [],
   "source": []
  }
 ],
 "metadata": {
  "kernelspec": {
   "display_name": "Python 3",
   "language": "python",
   "name": "python3"
  },
  "language_info": {
   "codemirror_mode": {
    "name": "ipython",
    "version": 3
   },
   "file_extension": ".py",
   "mimetype": "text/x-python",
   "name": "python",
   "nbconvert_exporter": "python",
   "pygments_lexer": "ipython3",
   "version": "3.6.9"
  }
 },
 "nbformat": 4,
 "nbformat_minor": 4
}
