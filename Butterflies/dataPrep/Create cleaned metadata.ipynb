{
 "cells": [
  {
   "cell_type": "markdown",
   "metadata": {},
   "source": [
    "imports"
   ]
  },
  {
   "cell_type": "code",
   "execution_count": 46,
   "metadata": {},
   "outputs": [],
   "source": [
    "import pandas as pd\n",
    "import matplotlib.pyplot as plt\n",
    "import os\n",
    "import torch\n",
    "import math\n",
    "\n",
    "from myhelpers import config_plots\n",
    "config_plots.global_settings()"
   ]
  },
  {
   "cell_type": "markdown",
   "metadata": {},
   "source": [
    "parameters"
   ]
  },
  {
   "cell_type": "code",
   "execution_count": 47,
   "metadata": {},
   "outputs": [],
   "source": [
    "species_csv_fileName = \"TableS2HoyalCuthilletal2019ScienceAdvances.csv\"\n",
    "species_csv_fileName_cleaned = \"TableS2HoyalCuthilletal2019ScienceAdvances_cleaned.csv\"\n",
    "\n",
    "image_subpath = \"images\"\n",
    "species_csv_fileName_header = \"Image filename\"\n",
    "species_csv_scientificName_header = \"Species\"\n",
    "species_csv_fullsubspecies_header= \"Fullsubspecies\"\n",
    "species_csv_view_header = \"View\"\n",
    "species_csv_subspecies_header = \"Subspecies\"\n",
    "species_csv_sex_header = \"Sex\"\n",
    "\n",
    "species_csv_usedColumns = [species_csv_fileName_header,\n",
    "                          species_csv_scientificName_header,\n",
    "                          species_csv_view_header,\n",
    "                          species_csv_subspecies_header,\n",
    "                          species_csv_sex_header]\n",
    "\n",
    "dataPath=\"/raid/elhamod/Butterflies2/Datasets/LowResolution\"\n",
    "\n",
    "suffix=\"full\"\n",
    "\n",
    "cuda=1\n",
    "\n",
    "numberOfImagesPerSpecies_min =4 # If None, no min\n",
    "numberOfImagesPerSpecies_toKeep =None # If None, keep all"
   ]
  },
  {
   "cell_type": "code",
   "execution_count": null,
   "metadata": {},
   "outputs": [],
   "source": [
    "# set cuda\n",
    "if torch.cuda.is_available():\n",
    "    torch.cuda.set_device(cuda)\n",
    "    print(\"using cuda\", cuda)"
   ]
  },
  {
   "cell_type": "markdown",
   "metadata": {},
   "source": [
    "Subset creation"
   ]
  },
  {
   "cell_type": "code",
   "execution_count": 53,
   "metadata": {},
   "outputs": [
    {
     "name": "stdout",
     "output_type": "stream",
     "text": [
      "output                    fileName         scientificName        Genus         Family\n",
      "0      INHS_FISH_103994.jpg       Gambusia affinis     Gambusia    Poeciliidae\n",
      "1      INHS_FISH_108425.jpg    Notropis stramineus     Notropis     Cyprinidae\n",
      "2       INHS_FISH_59772.jpg      Lepomis cyanellus      Lepomis  Centrarchidae\n",
      "3        INHS_FISH_4051.jpg        Noturus gyrinus      Noturus    Ictaluridae\n",
      "4       INHS_FISH_21948.jpg  Notropis atherinoides     Notropis     Cyprinidae\n",
      "...                     ...                    ...          ...            ...\n",
      "2595    INHS_FISH_31114.jpg       Notropis greenei     Notropis     Cyprinidae\n",
      "2596    INHS_FISH_75551.jpg     Lepomis marginatus      Lepomis  Centrarchidae\n",
      "2597  INHS_FISH_52739_2.jpg   Lepisosteus oculatus  Lepisosteus  Lepisosteidae\n",
      "2598    INHS_FISH_81504.jpg       Notropis greenei     Notropis     Cyprinidae\n",
      "2599    INHS_FISH_85916.jpg   Lepisosteus oculatus  Lepisosteus  Lepisosteidae\n",
      "\n",
      "[2600 rows x 4 columns]\n"
     ]
    }
   ],
   "source": [
    "dir_path = os.path.join(dataPath, suffix)\n",
    "file_path = os.path.join(dir_path, species_csv_fileName)\n",
    "if not os.path.exists(file_path):\n",
    "    print(file_path, \"File not found\")\n",
    "    raise\n",
    "\n",
    "# Read data frame\n",
    "df = pd.read_csv(file_path, delimiter=',', index_col=species_csv_fileName_header, usecols=species_csv_usedColumns)\n",
    "df[species_csv_fullsubspecies_header] = df[species_csv_scientificName_header] + \" \" + df[species_csv_subspecies_header]\n",
    "\n",
    "# find species that have a specific number of images\n",
    "grouped_by = df[species_csv_fullsubspecies_header].value_counts()\n",
    "if numberOfImagesPerSpecies_min is not None:\n",
    "    grouped_by = grouped_by[grouped_by > numberOfImagesPerSpecies_min]\n",
    "scientificNameValues = grouped_by.index.values\n",
    "thresholded = df[df[species_csv_fullsubspecies_header].isin(scientificNameValues)]\n",
    "\n",
    "# Get first n images from each\n",
    "if numberOfImagesPerSpecies_toKeep is not None:\n",
    "    trimmed = thresholded.groupby(species_csv_fullsubspecies_header, group_keys=False)\n",
    "    trimmed = trimmed.apply(lambda x: x.sample(n=numberOfImagesPerSpecies_toKeep) if len(x) >= numberOfImagesPerSpecies_toKeep else x)\n",
    "    trimmed.reset_index(drop=True)\n",
    "else:\n",
    "    trimmed = thresholded\n",
    "print('output', trimmed)\n",
    "\n",
    "# save the file\n",
    "path = os.path.join(dataPath, suffix)\n",
    "trimmed.to_csv(os.path.join(path, species_csv_fileName_cleaned), sep=',')"
   ]
  },
  {
   "cell_type": "code",
   "execution_count": null,
   "metadata": {},
   "outputs": [],
   "source": []
  },
  {
   "cell_type": "code",
   "execution_count": null,
   "metadata": {},
   "outputs": [],
   "source": []
  }
 ],
 "metadata": {
  "kernelspec": {
   "display_name": "Python 3",
   "language": "python",
   "name": "python3"
  },
  "language_info": {
   "codemirror_mode": {
    "name": "ipython",
    "version": 3
   },
   "file_extension": ".py",
   "mimetype": "text/x-python",
   "name": "python",
   "nbconvert_exporter": "python",
   "pygments_lexer": "ipython3",
   "version": "3.6.9"
  }
 },
 "nbformat": 4,
 "nbformat_minor": 4
}
