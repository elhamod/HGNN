{
 "cells": [
  {
   "cell_type": "code",
   "execution_count": 1,
   "metadata": {},
   "outputs": [],
   "source": [
    "from HGNN.train.CSV_processor import CSV_processor"
   ]
  },
  {
   "cell_type": "code",
   "execution_count": 2,
   "metadata": {},
   "outputs": [],
   "source": [
    "cleaned_fine_csv_fileName = \"cleaned_metadata2.csv\"\n",
    "data_root = \"/raid/elhamod/Fish/cropped2/FMNH\"\n",
    "suffix=\"\""
   ]
  },
  {
   "cell_type": "code",
   "execution_count": 3,
   "metadata": {},
   "outputs": [
    {
     "name": "stdout",
     "output_type": "stream",
     "text": [
      "                             Family  Genus       scientificName\n",
      "fileName                                                       \n",
      "1518_lat_FMNH_FZ.jpg      Clupeidae  Alosa  Alosa chrysochloris\n",
      "85103_lat_FMNH_FZ.jpg     Clupeidae  Alosa  Alosa chrysochloris\n",
      "74567_lat_FMNH_FZ.jpg     Clupeidae  Alosa  Alosa chrysochloris\n",
      "74568_lat_FMNH_FZ.jpg     Clupeidae  Alosa  Alosa chrysochloris\n",
      "100788_lat_FMNH_FZ.jpg    Clupeidae  Alosa  Alosa chrysochloris\n",
      "...                             ...    ...                  ...\n",
      "61788_lat_FMNH_FZ.jpg    Salmonidae  Salmo         Salmo trutta\n",
      "86328_lat_FMNH_FZ.jpg    Salmonidae  Salmo         Salmo trutta\n",
      "83695_lat_FMNH_FZ.jpg    Salmonidae  Salmo         Salmo trutta\n",
      "15619_lat_FMNH_FZ_a.jpg  Salmonidae  Salmo         Salmo trutta\n",
      "15619_lat_FMNH_FZ.jpg    Salmonidae  Salmo         Salmo trutta\n",
      "\n",
      "[2722 rows x 3 columns]\n"
     ]
    }
   ],
   "source": [
    "p = CSV_processor(data_root, suffix, cleanup=True, verbose=True, cleaned_fine_csv_fileName = cleaned_fine_csv_fileName, build_taxonomy=False)"
   ]
  }
 ],
 "metadata": {
  "kernelspec": {
   "display_name": "Python 3",
   "language": "python",
   "name": "python3"
  },
  "language_info": {
   "codemirror_mode": {
    "name": "ipython",
    "version": 3
   },
   "file_extension": ".py",
   "mimetype": "text/x-python",
   "name": "python",
   "nbconvert_exporter": "python",
   "pygments_lexer": "ipython3",
   "version": "3.6.9"
  }
 },
 "nbformat": 4,
 "nbformat_minor": 4
}
