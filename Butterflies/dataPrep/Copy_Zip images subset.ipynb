{
 "cells": [
  {
   "cell_type": "markdown",
   "metadata": {},
   "source": [
    "imports"
   ]
  },
  {
   "cell_type": "code",
   "execution_count": 1,
   "metadata": {},
   "outputs": [],
   "source": [
    "from tqdm.notebook import tqdm as tqdm\n",
    "import pandas as pd\n",
    "import shutil\n",
    "import tarfile\n",
    "import os.path\n",
    "\n",
    "from HGNN.train.configParser import ConfigParser"
   ]
  },
  {
   "cell_type": "markdown",
   "metadata": {},
   "source": [
    "params"
   ]
  },
  {
   "cell_type": "code",
   "execution_count": 2,
   "metadata": {},
   "outputs": [],
   "source": [
    "# defining global variables\n",
    "image_directory='/data/BGNN_data/INHS_cropped'\n",
    "subset = 'biology_paper_cleaned_200max'\n",
    "zip_output_directory = '/data/BGNN_data/biology_paper_cleaned_200max_show'\n",
    "\n",
    "import os\n",
    "if not os.path.exists(zip_output_directory):\n",
    "    os.makedirs(zip_output_directory)"
   ]
  },
  {
   "cell_type": "markdown",
   "metadata": {},
   "source": [
    "pre-defined constants"
   ]
  },
  {
   "cell_type": "code",
   "execution_count": 3,
   "metadata": {},
   "outputs": [],
   "source": [
    "cleaned_csv_fileName = \"cleaned_metadata.csv\"\n",
    "species_csv_fileName_header = \"fileName\"\n",
    "species_csv_scientificName_header = \"scientificName\"\n",
    "species_csv_Genus_header = \"Genus\"\n",
    "species_csv_Family_header = \"Family\"\n",
    "image_subpath = \"images\"\n",
    "species_csv_usedColumns = [species_csv_fileName_header,\n",
    "                          species_csv_scientificName_header,\n",
    "                          species_csv_Genus_header,\n",
    "                          species_csv_Family_header]"
   ]
  },
  {
   "cell_type": "markdown",
   "metadata": {},
   "source": [
    "Copy files"
   ]
  },
  {
   "cell_type": "code",
   "execution_count": 4,
   "metadata": {},
   "outputs": [
    {
     "data": {
      "application/vnd.jupyter.widget-view+json": {
       "model_id": "7c16f21eb4fe452eb9ea0500e36e577b",
       "version_major": 2,
       "version_minor": 0
      },
      "text/plain": [
       "HBox(children=(FloatProgress(value=0.0, description='Saving images', max=6470.0, style=ProgressStyle(descripti…"
      ]
     },
     "metadata": {},
     "output_type": "display_data"
    },
    {
     "name": "stderr",
     "output_type": "stream",
     "text": [
      "IOPub message rate exceeded.\n",
      "The notebook server will temporarily stop sending output\n",
      "to the client in order to avoid crashing it.\n",
      "To change this limit, set the config variable\n",
      "`--NotebookApp.iopub_msg_rate_limit`.\n",
      "\n",
      "Current values:\n",
      "NotebookApp.iopub_msg_rate_limit=1000.0 (msgs/sec)\n",
      "NotebookApp.rate_limit_window=3.0 (secs)\n",
      "\n",
      "IOPub message rate exceeded.\n",
      "The notebook server will temporarily stop sending output\n",
      "to the client in order to avoid crashing it.\n",
      "To change this limit, set the config variable\n",
      "`--NotebookApp.iopub_msg_rate_limit`.\n",
      "\n",
      "Current values:\n",
      "NotebookApp.iopub_msg_rate_limit=1000.0 (msgs/sec)\n",
      "NotebookApp.rate_limit_window=3.0 (secs)\n",
      "\n",
      "IOPub message rate exceeded.\n",
      "The notebook server will temporarily stop sending output\n",
      "to the client in order to avoid crashing it.\n",
      "To change this limit, set the config variable\n",
      "`--NotebookApp.iopub_msg_rate_limit`.\n",
      "\n",
      "Current values:\n",
      "NotebookApp.iopub_msg_rate_limit=1000.0 (msgs/sec)\n",
      "NotebookApp.rate_limit_window=3.0 (secs)\n",
      "\n"
     ]
    },
    {
     "name": "stdout",
     "output_type": "stream",
     "text": [
      "\n",
      "Creating tar file\n",
      "tar file created\n"
     ]
    }
   ],
   "source": [
    "# Get file\n",
    "fileName = os.path.join(image_directory, subset, cleaned_csv_fileName)\n",
    "fileNameExists = os.path.exists(fileName)\n",
    "csv_file = pd.read_csv(fileName, delimiter='\\t', index_col=species_csv_fileName_header, usecols=species_csv_usedColumns)\n",
    "img_count = len(csv_file.index)\n",
    "\n",
    "# Save images\n",
    "with tqdm(total=img_count, desc=\"Saving images\") as bar:\n",
    "    for indx, row in csv_file.iterrows(): \n",
    "        sub_dir = os.path.join(zip_output_directory, row[\"scientificName\"])\n",
    "        if not os.path.exists(sub_dir):\n",
    "            os.makedirs(sub_dir)\n",
    "        fileFullName = os.path.join(sub_dir,indx)\n",
    "        newFile = shutil.copy(os.path.join(image_directory, image_subpath, indx), fileFullName)\n",
    "        bar.set_postfix(file=newFile)\n",
    "        bar.update()\n",
    "\n",
    "# Save csv file\n",
    "csv_file.to_csv(os.path.join(zip_output_directory,\"metadata.csv\"))\n",
    "\n",
    "def make_tarfile(output_filename, source_dir):\n",
    "    with tarfile.open(output_filename, \"w:gz\") as tar:\n",
    "        tar.add(source_dir, arcname=os.path.basename(source_dir))\n",
    "    tar.close()\n",
    "        \n",
    "print(\"Creating tar file\")\n",
    "make_tarfile(os.path.join(zip_output_directory,'images.tar.gz'), os.path.join(zip_output_directory))\n",
    "print(\"tar file created\")"
   ]
  },
  {
   "cell_type": "code",
   "execution_count": null,
   "metadata": {},
   "outputs": [],
   "source": []
  }
 ],
 "metadata": {
  "kernelspec": {
   "display_name": "Python 3",
   "language": "python",
   "name": "python3"
  },
  "language_info": {
   "codemirror_mode": {
    "name": "ipython",
    "version": 3
   },
   "file_extension": ".py",
   "mimetype": "text/x-python",
   "name": "python",
   "nbconvert_exporter": "python",
   "pygments_lexer": "ipython3",
   "version": "3.6.9"
  }
 },
 "nbformat": 4,
 "nbformat_minor": 4
}
