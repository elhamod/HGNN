{
 "cells": [
  {
   "cell_type": "markdown",
   "metadata": {},
   "source": [
    "imports"
   ]
  },
  {
   "cell_type": "code",
   "execution_count": 10,
   "metadata": {},
   "outputs": [],
   "source": [
    "import torch\n",
    "import os\n",
    "from tqdm.notebook import tqdm as tqdm\n",
    "import shutil\n",
    "\n",
    "from HGNN.train.configParser import ConfigParser, getExperimentParamsAndRecord\n",
    "from HGNN.train import dataLoader\n",
    "\n",
    "testIndicesFile = \"testIndex.csv\"\n",
    "trainingIndicesFile = \"trainingIndex.csv\"\n",
    "valIndicesFile = \"valIndex.csv\""
   ]
  },
  {
   "cell_type": "markdown",
   "metadata": {},
   "source": [
    "params"
   ]
  },
  {
   "cell_type": "code",
   "execution_count": 11,
   "metadata": {},
   "outputs": [],
   "source": [
    "experimentsPath=\"/home/elhamod/HGNN/experiments/\"\n",
    "dataPath=\"/data/BGNN_data/\"\n",
    "experimentName=\"biology_paper_augmentation_effect\"\n",
    "trial_hash=\"825aa4c30a7ace1285f54f2f26af4f9702b5fec2a2f7edf3b35666f7\"\n",
    "\n",
    "output_folder = \"/data/BGNN_data/loaders_visualization/biology_paper_augmentation_effect\"\n",
    "\n",
    "cuda=7"
   ]
  },
  {
   "cell_type": "markdown",
   "metadata": {},
   "source": [
    "cuda"
   ]
  },
  {
   "cell_type": "code",
   "execution_count": 12,
   "metadata": {},
   "outputs": [
    {
     "name": "stdout",
     "output_type": "stream",
     "text": [
      "using cuda 7\n"
     ]
    }
   ],
   "source": [
    "# set cuda\n",
    "if torch.cuda.is_available():\n",
    "    torch.cuda.set_device(cuda)\n",
    "    print(\"using cuda\", cuda)"
   ]
  },
  {
   "cell_type": "markdown",
   "metadata": {},
   "source": [
    "load dataset"
   ]
  },
  {
   "cell_type": "code",
   "execution_count": 13,
   "metadata": {},
   "outputs": [
    {
     "name": "stdout",
     "output_type": "stream",
     "text": [
      "{'image_path': 'INHS_cropped', 'suffix': 'biology_paper_200max', 'training_count': 0.64, 'validation_count': 0.16, 'batchSize': 128, 'n_epochs': 500, 'learning_rate': 5e-05, 'numOfTrials': 3, 'patience': 10, 'fc_width': 200, 'fc_layers': 1, 'modelType': 'BB', 'lambda': 0.6, 'unsupervisedOnTest': False, 'tl_model': 'ResNet18', 'augmented': True, 'weight_decay': 0.0001, 'img_res': 448, 'tl_freeze': False, 'cnn_layers': 0, 'cnn_channels': 128, 'pretrained': True, 'two_nets': True, 'link_layer': 'layer3', 'dataset_norm': True, 'aug_profile': 'withRotation_PCA1.5'}\n",
      "Creating dataset...\n"
     ]
    },
    {
     "name": "stderr",
     "output_type": "stream",
     "text": [
      "Loading images: 100%|██████████| 6522/6522 [00:27<00:00, 235.04it/s, fileName=/data/BGNN_data/INHS_cropped/images/INHS_FISH_63588_448.jpg]  \n"
     ]
    },
    {
     "name": "stdout",
     "output_type": "stream",
     "text": [
      "Creating dataset... Done.\n"
     ]
    }
   ],
   "source": [
    "experimentPathAndName = os.path.join(experimentsPath, experimentName)\n",
    "experiment_params, experimentRecord = getExperimentParamsAndRecord(experimentsPath, experimentName, trial_hash)\n",
    "print(experiment_params)\n",
    "\n",
    "config_parser = ConfigParser(experimentsPath, dataPath, experimentName)\n",
    "datasetManager = dataLoader.datasetManager(experimentPathAndName, True)\n",
    "datasetManager.updateParams(config_parser.fixPaths({**experiment_params,**{'augmented': False}}))\n",
    "dataset = datasetManager.getDataset()\n",
    "aug, norm, _ = dataset.toggle_image_loading(augmentation=False, normalization=False)\n",
    "fineList = dataset.csv_processor.getFineList()\n",
    "coarseList = dataset.csv_processor.getCoarseList()"
   ]
  },
  {
   "cell_type": "markdown",
   "metadata": {},
   "source": [
    "visualize loaders"
   ]
  },
  {
   "cell_type": "code",
   "execution_count": 49,
   "metadata": {},
   "outputs": [],
   "source": [
    "def visualizeLoader(subset, folderName):\n",
    "    loader = torch.utils.data.DataLoader(subset, batch_size=1)\n",
    "    with tqdm(total=len(loader), desc=\"images\") as bar:\n",
    "        for entry in loader: \n",
    "            fileName = entry['fileName'][0]\n",
    "            fine = entry['fine'].item()\n",
    "            fine_name = str(fine)+\"_\"+fineList[fine]\n",
    "            sub_dir = os.path.join(output_folder, fine_name, folderName)\n",
    "            if not os.path.exists(sub_dir):\n",
    "                os.makedirs(sub_dir)\n",
    "            fileFullName = os.path.join(sub_dir,fine_name+\"_\"+fileName)\n",
    "            newFile = shutil.copy(os.path.join(dataPath, experiment_params['image_path'], 'images', fileName), fileFullName)\n",
    "            bar.set_postfix(file=fileName)\n",
    "            bar.update()\n"
   ]
  },
  {
   "cell_type": "code",
   "execution_count": 50,
   "metadata": {},
   "outputs": [
    {
     "name": "stdout",
     "output_type": "stream",
     "text": [
      "file /home/elhamod/HGNN/experiments/biology_paper_augmentation_effect/datasplits/b4896471167c5599680115e51349929def797e403bead8f0fe554d79/trainingIndex.csv read\n"
     ]
    },
    {
     "data": {
      "application/vnd.jupyter.widget-view+json": {
       "model_id": "fb34d4e343a84390b45109cf2e683f5f",
       "version_major": 2,
       "version_minor": 0
      },
      "text/plain": [
       "HBox(children=(FloatProgress(value=0.0, description='images', max=4173.0, style=ProgressStyle(description_widt…"
      ]
     },
     "metadata": {},
     "output_type": "display_data"
    },
    {
     "name": "stdout",
     "output_type": "stream",
     "text": [
      "\n"
     ]
    }
   ],
   "source": [
    "index_file_path = os.path.join(experimentPathAndName, experimentRecord['datasetName'].item(), trainingIndicesFile)\n",
    "subset = torch.utils.data.Subset(dataset, dataLoader.readFile(index_file_path))\n",
    "\n",
    "visualizeLoader(subset, 'training_set')"
   ]
  },
  {
   "cell_type": "code",
   "execution_count": 51,
   "metadata": {},
   "outputs": [
    {
     "name": "stdout",
     "output_type": "stream",
     "text": [
      "file /home/elhamod/HGNN/experiments/biology_paper_augmentation_effect/datasplits/b4896471167c5599680115e51349929def797e403bead8f0fe554d79/valIndex.csv read\n"
     ]
    },
    {
     "data": {
      "application/vnd.jupyter.widget-view+json": {
       "model_id": "d046d77f3f114b668f58d0c898cc4524",
       "version_major": 2,
       "version_minor": 0
      },
      "text/plain": [
       "HBox(children=(FloatProgress(value=0.0, description='images', max=1044.0, style=ProgressStyle(description_widt…"
      ]
     },
     "metadata": {},
     "output_type": "display_data"
    },
    {
     "name": "stdout",
     "output_type": "stream",
     "text": [
      "\n"
     ]
    }
   ],
   "source": [
    "index_file_path = os.path.join(experimentPathAndName, experimentRecord['datasetName'].item(), valIndicesFile)\n",
    "subset = torch.utils.data.Subset(dataset, dataLoader.readFile(index_file_path))\n",
    "\n",
    "visualizeLoader(subset, 'val_set')"
   ]
  },
  {
   "cell_type": "code",
   "execution_count": 52,
   "metadata": {},
   "outputs": [
    {
     "name": "stdout",
     "output_type": "stream",
     "text": [
      "file /home/elhamod/HGNN/experiments/biology_paper_augmentation_effect/datasplits/b4896471167c5599680115e51349929def797e403bead8f0fe554d79/testIndex.csv read\n"
     ]
    },
    {
     "data": {
      "application/vnd.jupyter.widget-view+json": {
       "model_id": "b5b174e1233c41b5bb5ed25efc7459ff",
       "version_major": 2,
       "version_minor": 0
      },
      "text/plain": [
       "HBox(children=(FloatProgress(value=0.0, description='images', max=1305.0, style=ProgressStyle(description_widt…"
      ]
     },
     "metadata": {},
     "output_type": "display_data"
    },
    {
     "name": "stdout",
     "output_type": "stream",
     "text": [
      "\n"
     ]
    }
   ],
   "source": [
    "index_file_path = os.path.join(experimentPathAndName, experimentRecord['datasetName'].item(), testIndicesFile)\n",
    "subset = torch.utils.data.Subset(dataset, dataLoader.readFile(index_file_path))\n",
    "\n",
    "visualizeLoader(subset, 'test_set')"
   ]
  },
  {
   "cell_type": "code",
   "execution_count": 53,
   "metadata": {},
   "outputs": [
    {
     "data": {
      "text/plain": [
       "(False, False, True)"
      ]
     },
     "execution_count": 53,
     "metadata": {},
     "output_type": "execute_result"
    }
   ],
   "source": [
    "dataset.toggle_image_loading(augmentation=aug, normalization=norm)"
   ]
  },
  {
   "cell_type": "code",
   "execution_count": null,
   "metadata": {},
   "outputs": [],
   "source": []
  }
 ],
 "metadata": {
  "kernelspec": {
   "display_name": "Python 3",
   "language": "python",
   "name": "python3"
  },
  "language_info": {
   "codemirror_mode": {
    "name": "ipython",
    "version": 3
   },
   "file_extension": ".py",
   "mimetype": "text/x-python",
   "name": "python",
   "nbconvert_exporter": "python",
   "pygments_lexer": "ipython3",
   "version": "3.6.9"
  }
 },
 "nbformat": 4,
 "nbformat_minor": 4
}
