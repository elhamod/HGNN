{
 "cells": [
  {
   "cell_type": "code",
   "execution_count": null,
   "metadata": {},
   "outputs": [],
   "source": [
    "import pandas as pd\n",
    "import os\n",
    "from tqdm.notebook import tqdm\n",
    "\n",
    "data_root = \"/raid/elhamod/CUB\"\n",
    "path = os.path.join(data_root,\"official/CUB_200_2011/\")\n",
    "images_subfoler = os.path.join(path,\"images\")\n",
    "fileName_imgLabel = os.path.join(path,\"image_class_labels.txt\")\n",
    "fileName_train_test = os.path.join(path,\"train_test_split.txt\")\n",
    "fileName_imageName = os.path.join(path,\"images.txt\")\n",
    "fileName_ClassNames = os.path.join(path,\"classes.txt\")\n",
    "\n",
    "\n",
    "suffix = \"Standard\"\n"
   ]
  },
  {
   "cell_type": "code",
   "execution_count": null,
   "metadata": {},
   "outputs": [],
   "source": [
    "df = pd.read_csv(fileName_imgLabel,delimiter=' ', header=None, names=['sample_id', 'label']).set_index('sample_id')\n",
    "df = df.apply(pd.to_numeric, errors='coerce')\n",
    "df2 = pd.read_csv(fileName_train_test,delimiter=' ', header=None, names=['sample_id', 'split']).set_index('sample_id')\n",
    "df2 = df2.apply(pd.to_numeric, errors='coerce')   \n",
    "dfjoined = df2.join(df)\n",
    "df3 = pd.read_csv(fileName_imageName,delimiter=' ', header=None, names=['sample_id', 'imgName']).set_index('sample_id')\n",
    "df3 = df3.apply(pd.to_numeric, errors='coerce')   \n",
    "dfjoined = dfjoined.join(df3)\n",
    "\n",
    "df_class = pd.read_csv(fileName_ClassNames,delimiter=' ', header=None, names=['label', 'labelName']).set_index('label')"
   ]
  },
  {
   "cell_type": "code",
   "execution_count": null,
   "metadata": {},
   "outputs": [],
   "source": [
    "def create_dataset(subset_name, csv, isTrain):\n",
    "    # create directiory\n",
    "    folder_name = os.path.join(data_root, suffix, subset_name)\n",
    "    if not os.path.exists(folder_name):\n",
    "        os.makedirs(folder_name)\n",
    "    \n",
    "    for i, row in tqdm(dfjoined.iterrows()): \n",
    "        row = csv.iloc[i]\n",
    "        fine_label = row['label']\n",
    "        file_name = csv.index[i]\n",
    "\n",
    "        # create fine_label directory if not found\n",
    "        sub_folder_name = os.path.join(data_root, suffix, subset_name, fine_label)\n",
    "        if not os.path.exists(sub_folder_name):\n",
    "            os.makedirs(sub_folder_name)\n",
    "            \n",
    "        # copy file\n",
    "        for source in source_suffix_list:\n",
    "            try:\n",
    "                fileFullName = os.path.join(sub_folder_name,file_name)\n",
    "                newFile = shutil.copy(os.path.join(data_root, source, 'images', file_name), fileFullName)\n",
    "                break\n",
    "            except:\n",
    "                pass\n",
    "        "
   ]
  }
 ],
 "metadata": {
  "kernelspec": {
   "display_name": "Python 3",
   "language": "python",
   "name": "python3"
  },
  "language_info": {
   "codemirror_mode": {
    "name": "ipython",
    "version": 3
   },
   "file_extension": ".py",
   "mimetype": "text/x-python",
   "name": "python",
   "nbconvert_exporter": "python",
   "pygments_lexer": "ipython3",
   "version": "3.6.9"
  }
 },
 "nbformat": 4,
 "nbformat_minor": 4
}
