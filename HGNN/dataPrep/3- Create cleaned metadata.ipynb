{
 "cells": [
  {
   "cell_type": "markdown",
   "metadata": {},
   "source": [
    "imports"
   ]
  },
  {
   "cell_type": "code",
   "execution_count": 1,
   "metadata": {},
   "outputs": [],
   "source": [
    "import os\n",
    "import pandas as pd\n",
    "from HGNN.train import CSV_processor"
   ]
  },
  {
   "cell_type": "markdown",
   "metadata": {},
   "source": [
    "parameters"
   ]
  },
  {
   "cell_type": "code",
   "execution_count": 2,
   "metadata": {},
   "outputs": [],
   "source": [
    "dataPath=\"/raid/elhamod/Fish/Curated3/\"\n",
    "image_path='Easy'\n",
    "output_directory_name=\"curated_30_50\" #curated_minimum5images\"#\"biology_paper_cleaned_30max\"\n",
    "output_cleaned_species_csv_fileName = \"cleaned_metadata.csv\"\n",
    "input_species_csv_fileName = \"cleaned_metadata.csv\"#\"biology_paper_cleaned_all/cleaned_metadata.csv\"\n",
    "numberOfImagesPerSpecies_min =30 # If None, no min\n",
    "numberOfImagesPerSpecies_toKeep =50 # If None, keep all"
   ]
  },
  {
   "cell_type": "markdown",
   "metadata": {},
   "source": [
    "cleanup metadata"
   ]
  },
  {
   "cell_type": "code",
   "execution_count": 3,
   "metadata": {},
   "outputs": [],
   "source": [
    "# csv_processor = CSV_processor.CSV_processor(os.path.join(dataPath, image_path), '', cleanup=True)"
   ]
  },
  {
   "cell_type": "markdown",
   "metadata": {},
   "source": [
    "Subset creation"
   ]
  },
  {
   "cell_type": "code",
   "execution_count": 4,
   "metadata": {},
   "outputs": [
    {
     "name": "stdout",
     "output_type": "stream",
     "text": [
      "output                   fileName         scientificName        Genus      Family\n",
      "13     INHS_FISH_48349.JPG    Alosa chrysochloris        Alosa   Clupeidae\n",
      "21    INHS_FISH_106186.JPG    Alosa chrysochloris        Alosa   Clupeidae\n",
      "44      INHS_FISH_5773.JPG    Alosa chrysochloris        Alosa   Clupeidae\n",
      "58     INHS_FISH_25323.JPG    Alosa chrysochloris        Alosa   Clupeidae\n",
      "23    INHS_FISH_105918.JPG    Alosa chrysochloris        Alosa   Clupeidae\n",
      "...                    ...                    ...          ...         ...\n",
      "6372   INHS_FISH_19332.jpg  Phenacobius mirabilis  Phenacobius  Cyprinidae\n",
      "6405   INHS_FISH_91842.jpg  Phenacobius mirabilis  Phenacobius  Cyprinidae\n",
      "6302   INHS_FISH_25634.jpg  Phenacobius mirabilis  Phenacobius  Cyprinidae\n",
      "6442   INHS_FISH_57438.jpg  Phenacobius mirabilis  Phenacobius  Cyprinidae\n",
      "6386   INHS_FISH_16284.jpg  Phenacobius mirabilis  Phenacobius  Cyprinidae\n",
      "\n",
      "[1900 rows x 4 columns]\n"
     ]
    }
   ],
   "source": [
    "# get metadata file\n",
    "metadata_csv_df = pd.read_csv(os.path.join(dataPath ,image_path, input_species_csv_fileName), sep='\\t')\n",
    "\n",
    "# find species that have a specific number of images\n",
    "grouped_by = metadata_csv_df['scientificName'].value_counts()\n",
    "if numberOfImagesPerSpecies_min is not None:\n",
    "    grouped_by = grouped_by[grouped_by > numberOfImagesPerSpecies_min]\n",
    "scientificNameValues = grouped_by.index.values\n",
    "thresholded = metadata_csv_df[metadata_csv_df['scientificName'].isin(scientificNameValues)]\n",
    "\n",
    "# Get first n images from each\n",
    "if numberOfImagesPerSpecies_toKeep is not None:\n",
    "    trimmed = thresholded.groupby('scientificName', group_keys=False)\n",
    "    trimmed = trimmed.apply(lambda x: x.sample(n=numberOfImagesPerSpecies_toKeep) if len(x) >= numberOfImagesPerSpecies_toKeep else x)\n",
    "#     trimmed = trimmed.head(numberOfImagesPerSpecies_toKeep)\n",
    "#     trimmed = trimmed.sample(10)\n",
    "    trimmed.reset_index(drop=True)\n",
    "else:\n",
    "    trimmed = thresholded\n",
    "print('output', trimmed)\n",
    "\n",
    "# save the file\n",
    "path = os.path.join(dataPath ,image_path, output_directory_name)\n",
    "try:\n",
    "    os.mkdir(path)\n",
    "except:\n",
    "    pass\n",
    "trimmed.to_csv(os.path.join(path, output_cleaned_species_csv_fileName), sep='\\t')\n"
   ]
  },
  {
   "cell_type": "code",
   "execution_count": null,
   "metadata": {},
   "outputs": [],
   "source": []
  },
  {
   "cell_type": "code",
   "execution_count": null,
   "metadata": {},
   "outputs": [],
   "source": []
  }
 ],
 "metadata": {
  "kernelspec": {
   "display_name": "Python 3",
   "language": "python",
   "name": "python3"
  },
  "language_info": {
   "codemirror_mode": {
    "name": "ipython",
    "version": 3
   },
   "file_extension": ".py",
   "mimetype": "text/x-python",
   "name": "python",
   "nbconvert_exporter": "python",
   "pygments_lexer": "ipython3",
   "version": "3.6.9"
  }
 },
 "nbformat": 4,
 "nbformat_minor": 2
}
