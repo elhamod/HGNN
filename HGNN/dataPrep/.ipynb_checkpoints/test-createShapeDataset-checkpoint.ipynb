{
 "cells": [
  {
   "cell_type": "code",
   "execution_count": 11,
   "metadata": {},
   "outputs": [],
   "source": [
    "from PIL import Image, ImageDraw\n",
    "import numpy as np\n",
    "\n",
    "path = \"/data/BGNN_data/Shapes/\"\n",
    "\n",
    "width = 224\n",
    "height = 224\n",
    "numOfSamples = 50\n",
    "\n",
    "centerX = np.random.normal(width/2, width/10, numOfSamples)\n",
    "centerY = np.random.normal(height/2, height/10, numOfSamples)\n",
    "dim = np.random.normal(height/5, height/20, numOfSamples)\n",
    "colorR = np.random.randint(0, 225, numOfSamples)\n",
    "colorG = np.random.randint(0, 225, numOfSamples)\n",
    "colorB = np.random.randint(0, 225, numOfSamples)\n",
    "colorR2 = np.random.randint(0, 225, numOfSamples)\n",
    "colorG2 = np.random.randint(0, 225, numOfSamples)\n",
    "colorB2 = np.random.randint(0, 225, numOfSamples)\n",
    "\n",
    "for i in range(numOfSamples):\n",
    "    im = Image.new('RGB', (width, height), (colorR[i], colorR[i], colorR[i]))\n",
    "\n",
    "    draw = ImageDraw.Draw(im)\n",
    "    draw.ellipse((centerX[i]-dim[i], centerY[i]-dim[i], centerX[i]+dim[i], centerY[i]+dim[i]), \n",
    "                 fill=(colorR2[i], colorR2[i], colorR2[i]))\n",
    "    im.save(path+\"Circles/\"+str(i)+'.jpg', quality=95)\n",
    "    \n",
    "    draw = ImageDraw.Draw(im)\n",
    "    draw.rectangle((centerX[i]-dim[i], centerY[i]-dim[i], centerX[i]+dim[i], centerY[i]+dim[i]), \n",
    "                   fill=(colorR2[i], colorR2[i], colorR2[i]))\n",
    "    im.save(path+\"Squares/\"+str(i)+'.jpg', quality=95)\n",
    "\n"
   ]
  },
  {
   "cell_type": "code",
   "execution_count": null,
   "metadata": {},
   "outputs": [],
   "source": []
  }
 ],
 "metadata": {
  "kernelspec": {
   "display_name": "Python 3",
   "language": "python",
   "name": "python3"
  },
  "language_info": {
   "codemirror_mode": {
    "name": "ipython",
    "version": 3
   },
   "file_extension": ".py",
   "mimetype": "text/x-python",
   "name": "python",
   "nbconvert_exporter": "python",
   "pygments_lexer": "ipython3",
   "version": "3.6.9"
  }
 },
 "nbformat": 4,
 "nbformat_minor": 4
}
