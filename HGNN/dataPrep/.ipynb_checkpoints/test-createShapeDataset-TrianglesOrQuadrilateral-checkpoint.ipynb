{
 "cells": [
  {
   "cell_type": "code",
   "execution_count": 5,
   "metadata": {},
   "outputs": [
    {
     "name": "stdout",
     "output_type": "stream",
     "text": [
      "66.26246100845908\n"
     ]
    },
    {
     "ename": "TypeError",
     "evalue": "'numpy.float64' object does not support item assignment",
     "output_type": "error",
     "traceback": [
      "\u001b[0;31m---------------------------------------------------------------------------\u001b[0m",
      "\u001b[0;31mTypeError\u001b[0m                                 Traceback (most recent call last)",
      "\u001b[0;32m<ipython-input-5-9da703d99977>\u001b[0m in \u001b[0;36m<module>\u001b[0;34m\u001b[0m\n\u001b[1;32m     24\u001b[0m \u001b[0mdim1\u001b[0m \u001b[0;34m=\u001b[0m \u001b[0mnp\u001b[0m\u001b[0;34m.\u001b[0m\u001b[0mmax\u001b[0m\u001b[0;34m(\u001b[0m\u001b[0mnp\u001b[0m\u001b[0;34m.\u001b[0m\u001b[0mabs\u001b[0m\u001b[0;34m(\u001b[0m\u001b[0mnp\u001b[0m\u001b[0;34m.\u001b[0m\u001b[0mrandom\u001b[0m\u001b[0;34m.\u001b[0m\u001b[0mnormal\u001b[0m\u001b[0;34m(\u001b[0m\u001b[0;36m1.5\u001b[0m\u001b[0;34m*\u001b[0m\u001b[0mwidth\u001b[0m\u001b[0;34m/\u001b[0m\u001b[0;36m20\u001b[0m\u001b[0;34m,\u001b[0m \u001b[0;36m1.5\u001b[0m\u001b[0;34m*\u001b[0m\u001b[0mwidth\u001b[0m\u001b[0;34m/\u001b[0m\u001b[0;36m20\u001b[0m\u001b[0;34m,\u001b[0m \u001b[0mnumOfSamples\u001b[0m\u001b[0;34m)\u001b[0m\u001b[0;34m)\u001b[0m\u001b[0;34m)\u001b[0m\u001b[0;34m\u001b[0m\u001b[0;34m\u001b[0m\u001b[0m\n\u001b[1;32m     25\u001b[0m \u001b[0mprint\u001b[0m\u001b[0;34m(\u001b[0m\u001b[0mdim1\u001b[0m\u001b[0;34m)\u001b[0m\u001b[0;34m\u001b[0m\u001b[0;34m\u001b[0m\u001b[0m\n\u001b[0;32m---> 26\u001b[0;31m \u001b[0mdim1\u001b[0m\u001b[0;34m[\u001b[0m\u001b[0mdim1\u001b[0m \u001b[0;34m<\u001b[0m \u001b[0;36m10.0\u001b[0m\u001b[0;34m]\u001b[0m \u001b[0;34m=\u001b[0m \u001b[0;36m10\u001b[0m\u001b[0;34m\u001b[0m\u001b[0;34m\u001b[0m\u001b[0m\n\u001b[0m\u001b[1;32m     27\u001b[0m \u001b[0mdim1\u001b[0m\u001b[0;34m[\u001b[0m\u001b[0mdim1\u001b[0m \u001b[0;34m>\u001b[0m \u001b[0;36m50.0\u001b[0m\u001b[0;34m]\u001b[0m \u001b[0;34m=\u001b[0m \u001b[0;36m50\u001b[0m\u001b[0;34m\u001b[0m\u001b[0;34m\u001b[0m\u001b[0m\n\u001b[1;32m     28\u001b[0m \u001b[0mdim2\u001b[0m \u001b[0;34m=\u001b[0m \u001b[0mnp\u001b[0m\u001b[0;34m.\u001b[0m\u001b[0mabs\u001b[0m\u001b[0;34m(\u001b[0m\u001b[0mnp\u001b[0m\u001b[0;34m.\u001b[0m\u001b[0mrandom\u001b[0m\u001b[0;34m.\u001b[0m\u001b[0mnormal\u001b[0m\u001b[0;34m(\u001b[0m\u001b[0;36m4\u001b[0m\u001b[0;34m*\u001b[0m\u001b[0mheight\u001b[0m\u001b[0;34m/\u001b[0m\u001b[0;36m20\u001b[0m\u001b[0;34m,\u001b[0m \u001b[0;36m1.5\u001b[0m\u001b[0;34m*\u001b[0m\u001b[0mheight\u001b[0m\u001b[0;34m/\u001b[0m\u001b[0;36m20\u001b[0m\u001b[0;34m,\u001b[0m \u001b[0mnumOfSamples\u001b[0m\u001b[0;34m)\u001b[0m\u001b[0;34m)\u001b[0m\u001b[0;34m\u001b[0m\u001b[0;34m\u001b[0m\u001b[0m\n",
      "\u001b[0;31mTypeError\u001b[0m: 'numpy.float64' object does not support item assignment"
     ]
    }
   ],
   "source": [
    "from PIL import Image, ImageDraw\n",
    "import numpy as np\n",
    "import os\n",
    "import progressbar\n",
    "\n",
    "path = \"/data/BGNN_data/Shapes2/\"\n",
    "\n",
    "shapes={\n",
    "    \"Curved\": [\"Circle\", \"Ellipse\"],\n",
    "    \"Quadrilateral\":[\"Square\", \"Rectangle\"],\n",
    "}\n",
    "\n",
    "\n",
    "width = 224\n",
    "height = 224\n",
    "numOfSamples = 125\n",
    "\n",
    "x = np.abs(np.random.normal(width/2, width/10, numOfSamples))\n",
    "x[x < 10] = 10\n",
    "x[x > 200] = 200\n",
    "y = np.abs(np.random.normal(height/2, height/10, numOfSamples))\n",
    "y[y < 10] = 10\n",
    "y[y > 200] = 200\n",
    "dim1 = np.abs(np.random.normal(1.5*width/20, 1.5*width/20, numOfSamples))\n",
    "dim1[dim1 < 10.0] = 10\n",
    "dim1[dim1 > 50.0] = 50\n",
    "dim2 = np.abs(np.random.normal(4*height/20, 1.5*height/20, numOfSamples))\n",
    "dim2[dim2 < 10.0] = 10\n",
    "dim2[dim2 > 50.0] = 50\n",
    "\n",
    "colorR = np.random.randint(0, 255, numOfSamples)\n",
    "colorG = np.random.randint(0, 255, numOfSamples)\n",
    "colorB = np.random.randint(0, 255, numOfSamples)\n",
    "colorR2 = 255 - colorR\n",
    "colorG2 = 255 - colorG\n",
    "colorB2 = 255 - colorB\n",
    "\n",
    "for category in shapes:\n",
    "    category_list = shapes[category]\n",
    "    path_category = os.path.join(path, category)\n",
    "    if not os.path.exists(path_category):\n",
    "        os.makedirs(path_category)\n",
    "    for sub_category in category_list:\n",
    "        path_sub_category = os.path.join(path, category, sub_category)\n",
    "        if not os.path.exists(path_sub_category):\n",
    "            os.makedirs(path_sub_category)\n",
    "        print(category + \" - \" + sub_category)\n",
    "        with progressbar.ProgressBar(maxval=numOfSamples, redirect_stdout=True) as bar:\n",
    "            bar.update(0)\n",
    "            for i in range(numOfSamples):\n",
    "                im = Image.new('RGB', (width, height), (colorR[i], colorG[i], colorB[i]))\n",
    "\n",
    "                draw = ImageDraw.Draw(im)\n",
    "                if sub_category == \"Square\":\n",
    "                    draw.rectangle((x[i]-dim1[i], y[i]-dim1[i], x[i]+dim1[i], y[i]+dim1[i]), \n",
    "                       fill=(colorR2[i], colorG2[i], colorB2[i]))\n",
    "                if sub_category == \"Rectangle\":\n",
    "                    draw.rectangle((x[i]-dim1[i], y[i]-dim2[i], x[i]+dim1[i], y[i]+dim2[i]), \n",
    "                       fill=(colorR2[i], colorG2[i], colorB2[i]))\n",
    "                if sub_category == \"Ellipse\":\n",
    "                    draw.ellipse((x[i]-dim1[i], y[i]-dim2[i], x[i]+dim1[i], y[i]+dim2[i]),\n",
    "                                 fill=(colorR2[i], colorG2[i], colorB2[i]))\n",
    "                if sub_category == \"Circle\":\n",
    "                    draw.ellipse((x[i]-dim1[i], y[i]-dim1[i], x[i]+dim1[i], y[i]+dim1[i]),\n",
    "                                 fill=(colorR2[i], colorG2[i], colorB2[i]))\n",
    "\n",
    "                im.save(os.path.join(path, category, sub_category, str(i)+'.jpg'), quality=95)\n",
    "                bar.update(i+1)\n",
    "\n"
   ]
  },
  {
   "cell_type": "code",
   "execution_count": null,
   "metadata": {},
   "outputs": [],
   "source": []
  }
 ],
 "metadata": {
  "kernelspec": {
   "display_name": "Python 3",
   "language": "python",
   "name": "python3"
  },
  "language_info": {
   "codemirror_mode": {
    "name": "ipython",
    "version": 3
   },
   "file_extension": ".py",
   "mimetype": "text/x-python",
   "name": "python",
   "nbconvert_exporter": "python",
   "pygments_lexer": "ipython3",
   "version": "3.6.9"
  }
 },
 "nbformat": 4,
 "nbformat_minor": 4
}
