{
 "cells": [
  {
   "cell_type": "markdown",
   "metadata": {},
   "source": [
    "imports"
   ]
  },
  {
   "cell_type": "code",
   "execution_count": 1,
   "metadata": {},
   "outputs": [],
   "source": [
    "import os\n",
    "import pandas as pd"
   ]
  },
  {
   "cell_type": "markdown",
   "metadata": {},
   "source": [
    "parameters"
   ]
  },
  {
   "cell_type": "code",
   "execution_count": 2,
   "metadata": {},
   "outputs": [],
   "source": [
    "dataPath=\"/data/BGNN_data\"\n",
    "image_path='INHS_cropped'\n",
    "output_directory_name=\"biology_paper_cleaned_30max\"\n",
    "cleaned_species_csv_fileName = \"cleaned_metadata.csv\"\n",
    "species_csv_fileName = \"biology_paper_cleaned_all/cleaned_metadata.csv\"\n",
    "numberOfImagesPerSpecies_min =None # If None, no min\n",
    "numberOfImagesPerSpecies_toKeep =30 # If None, keep all"
   ]
  },
  {
   "cell_type": "markdown",
   "metadata": {},
   "source": [
    "Subset creation"
   ]
  },
  {
   "cell_type": "code",
   "execution_count": 3,
   "metadata": {},
   "outputs": [
    {
     "name": "stdout",
     "output_type": "stream",
     "text": [
      "output       Unnamed: 0  Unnamed: 0.1              fileName         scientificName  \\\n",
      "0              0             0  INHS_FISH_103994.jpg       Gambusia affinis   \n",
      "1              1             1  INHS_FISH_108425.jpg    Notropis stramineus   \n",
      "2              2             2   INHS_FISH_59772.jpg      Lepomis cyanellus   \n",
      "3              3             3    INHS_FISH_4051.jpg        Noturus gyrinus   \n",
      "4              4             4   INHS_FISH_21948.jpg  Notropis atherinoides   \n",
      "...          ...           ...                   ...                    ...   \n",
      "7458        7458          7759     INHS_FISH_935.JPG    Alosa chrysochloris   \n",
      "7777        7777          8091   INHS_FISH_24054.JPG    Alosa chrysochloris   \n",
      "8328        8328          8662   INHS_FISH_25512.JPG    Alosa chrysochloris   \n",
      "8445        8445          8782   INHS_FISH_91608.JPG    Alosa chrysochloris   \n",
      "8486        8486          8827   INHS_FISH_38721.JPG    Alosa chrysochloris   \n",
      "\n",
      "         Genus         Family  \n",
      "0     Gambusia    Poeciliidae  \n",
      "1     Notropis     Cyprinidae  \n",
      "2      Lepomis  Centrarchidae  \n",
      "3      Noturus    Ictaluridae  \n",
      "4     Notropis     Cyprinidae  \n",
      "...        ...            ...  \n",
      "7458     Alosa      Clupeidae  \n",
      "7777     Alosa      Clupeidae  \n",
      "8328     Alosa      Clupeidae  \n",
      "8445     Alosa      Clupeidae  \n",
      "8486     Alosa      Clupeidae  \n",
      "\n",
      "[1140 rows x 6 columns]\n"
     ]
    }
   ],
   "source": [
    "# get metadata file\n",
    "metadata_csv_df = pd.read_csv(os.path.join(dataPath ,image_path, species_csv_fileName), sep='\\t')\n",
    "\n",
    "# find species that have a specific number of images\n",
    "grouped_by = metadata_csv_df['scientificName'].value_counts()\n",
    "if numberOfImagesPerSpecies_min is not None:\n",
    "    grouped_by = grouped_by[grouped_by > numberOfImagesPerSpecies_min]\n",
    "scientificNameValues = grouped_by.index.values\n",
    "thresholded = metadata_csv_df[metadata_csv_df['scientificName'].isin(scientificNameValues)]\n",
    "\n",
    "# Get first n images from each\n",
    "if numberOfImagesPerSpecies_toKeep is not None:\n",
    "    trimmed = thresholded.groupby('scientificName')\n",
    "    trimmed = trimmed.head(numberOfImagesPerSpecies_toKeep)\n",
    "    trimmed.reset_index(drop=True)\n",
    "else:\n",
    "    trimmed = thresholded\n",
    "print('output', trimmed)\n",
    "\n",
    "# save the file\n",
    "path = os.path.join(dataPath ,image_path, output_directory_name)\n",
    "try:\n",
    "    os.mkdir(path)\n",
    "except:\n",
    "    pass\n",
    "trimmed.to_csv(os.path.join(path, cleaned_species_csv_fileName), sep='\\t')\n"
   ]
  },
  {
   "cell_type": "code",
   "execution_count": null,
   "metadata": {},
   "outputs": [],
   "source": []
  },
  {
   "cell_type": "code",
   "execution_count": null,
   "metadata": {},
   "outputs": [],
   "source": []
  }
 ],
 "metadata": {
  "kernelspec": {
   "display_name": "Python 3",
   "language": "python",
   "name": "python3"
  },
  "language_info": {
   "codemirror_mode": {
    "name": "ipython",
    "version": 3
   },
   "file_extension": ".py",
   "mimetype": "text/x-python",
   "name": "python",
   "nbconvert_exporter": "python",
   "pygments_lexer": "ipython3",
   "version": "3.6.9"
  }
 },
 "nbformat": 4,
 "nbformat_minor": 2
}
