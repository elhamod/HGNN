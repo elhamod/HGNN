{
 "cells": [
  {
   "cell_type": "markdown",
   "metadata": {},
   "source": [
    "imports"
   ]
  },
  {
   "cell_type": "code",
   "execution_count": 1,
   "metadata": {},
   "outputs": [],
   "source": [
    "import os\n",
    "import pandas as pd"
   ]
  },
  {
   "cell_type": "markdown",
   "metadata": {},
   "source": [
    "parameters"
   ]
  },
  {
   "cell_type": "code",
   "execution_count": 2,
   "metadata": {},
   "outputs": [],
   "source": [
    "dataPath=\"/data/BGNN_data\"\n",
    "image_path='INHS_cropped'\n",
    "output_directory_name=\"biology_paper_200max\"\n",
    "cleaned_species_csv_fileName = \"cleaned_metadata.csv\"\n",
    "species_csv_fileName = \"metadata.csv\"\n",
    "numberOfImagesPerSpecies_min =100 \n",
    "numberOfImagesPerSpecies_toKeep =200 # If None, keep all"
   ]
  },
  {
   "cell_type": "markdown",
   "metadata": {},
   "source": [
    "Subset creation"
   ]
  },
  {
   "cell_type": "code",
   "execution_count": 3,
   "metadata": {},
   "outputs": [
    {
     "name": "stdout",
     "output_type": "stream",
     "text": [
      "output                    fileName           scientificName     Genus         Family\n",
      "0      INHS_FISH_103994.jpg         Gambusia affinis  Gambusia    Poeciliidae\n",
      "1      INHS_FISH_108425.jpg      Notropis stramineus  Notropis     Cyprinidae\n",
      "2       INHS_FISH_59772.jpg        Lepomis cyanellus   Lepomis  Centrarchidae\n",
      "3        INHS_FISH_4051.jpg          Noturus gyrinus   Noturus    Ictaluridae\n",
      "4       INHS_FISH_21948.jpg    Notropis atherinoides  Notropis     Cyprinidae\n",
      "...                     ...                      ...       ...            ...\n",
      "22930   INHS_FISH_45549.jpg      Notropis telescopus  Notropis     Cyprinidae\n",
      "22935   INHS_FISH_95162.JPG  Morone mississippiensis    Morone      Moronidae\n",
      "22949   INHS_FISH_82558.jpg      Notropis telescopus  Notropis     Cyprinidae\n",
      "22959   INHS_FISH_77892.jpg           Noturus exilis   Noturus    Ictaluridae\n",
      "22961   INHS_FISH_87269.jpg          Lepomis auritus   Lepomis  Centrarchidae\n",
      "\n",
      "[6695 rows x 4 columns]\n"
     ]
    }
   ],
   "source": [
    "# get metadata file\n",
    "metadata_csv_df = pd.read_csv(os.path.join(dataPath ,image_path, species_csv_fileName), sep='\\t')\n",
    "\n",
    "# find species that have a specific number of images\n",
    "grouped_by = metadata_csv_df['scientificName'].value_counts()\n",
    "grouped_by = grouped_by[grouped_by > numberOfImagesPerSpecies_min]\n",
    "scientificNameValues = grouped_by.index.values\n",
    "thresholded = metadata_csv_df[metadata_csv_df['scientificName'].isin(scientificNameValues)]\n",
    "\n",
    "# Get first n images from each\n",
    "if numberOfImagesPerSpecies_toKeep is not None:\n",
    "    trimmed = thresholded.groupby('scientificName')\n",
    "    trimmed = trimmed.head(numberOfImagesPerSpecies_toKeep)\n",
    "    trimmed.reset_index(drop=True)\n",
    "else:\n",
    "    trimmed = thresholded\n",
    "print('output', trimmed)\n",
    "\n",
    "# save the file\n",
    "path = os.path.join(dataPath ,image_path, output_directory_name)\n",
    "try:\n",
    "    os.mkdir(path)\n",
    "except:\n",
    "    pass\n",
    "trimmed.to_csv(os.path.join(path, cleaned_species_csv_fileName), sep='\\t')\n"
   ]
  },
  {
   "cell_type": "code",
   "execution_count": null,
   "metadata": {},
   "outputs": [],
   "source": []
  },
  {
   "cell_type": "code",
   "execution_count": null,
   "metadata": {},
   "outputs": [],
   "source": []
  }
 ],
 "metadata": {
  "kernelspec": {
   "display_name": "Python 3",
   "language": "python",
   "name": "python3"
  },
  "language_info": {
   "codemirror_mode": {
    "name": "ipython",
    "version": 3
   },
   "file_extension": ".py",
   "mimetype": "text/x-python",
   "name": "python",
   "nbconvert_exporter": "python",
   "pygments_lexer": "ipython3",
   "version": "3.6.9"
  }
 },
 "nbformat": 4,
 "nbformat_minor": 2
}
