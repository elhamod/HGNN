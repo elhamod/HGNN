{
 "cells": [
  {
   "cell_type": "markdown",
   "metadata": {},
   "source": [
    "imports"
   ]
  },
  {
   "cell_type": "code",
   "execution_count": 1,
   "metadata": {},
   "outputs": [],
   "source": [
    "import os\n",
    "import pandas as pd"
   ]
  },
  {
   "cell_type": "markdown",
   "metadata": {},
   "source": [
    "parameters"
   ]
  },
  {
   "cell_type": "code",
   "execution_count": 2,
   "metadata": {},
   "outputs": [],
   "source": [
    "dataPath=\"/data/BGNN_data\"\n",
    "image_path='INHS_cropped'\n",
    "output_directory_name=\"200per\"\n",
    "cleaned_species_csv_fileName = \"cleaned_metadata.csv\"\n",
    "species_csv_fileName = \"metadata.csv\"\n",
    "numberOfImagesPerSpecies =200"
   ]
  },
  {
   "cell_type": "markdown",
   "metadata": {},
   "source": [
    "Subset creation"
   ]
  },
  {
   "cell_type": "code",
   "execution_count": 3,
   "metadata": {},
   "outputs": [
    {
     "name": "stdout",
     "output_type": "stream",
     "text": [
      "output                   fileName         scientificName     Genus         Family\n",
      "0     INHS_FISH_103994.jpg       Gambusia affinis  Gambusia    Poeciliidae\n",
      "1     INHS_FISH_108425.jpg    Notropis stramineus  Notropis     Cyprinidae\n",
      "2      INHS_FISH_59772.jpg      Lepomis cyanellus   Lepomis  Centrarchidae\n",
      "3       INHS_FISH_4051.jpg        Noturus gyrinus   Noturus    Ictaluridae\n",
      "4      INHS_FISH_21948.jpg  Notropis atherinoides  Notropis     Cyprinidae\n",
      "...                    ...                    ...       ...            ...\n",
      "4395  INHS_FISH_101648.jpg         Noturus miurus   Noturus    Ictaluridae\n",
      "4396   INHS_FISH_19001.jpg         Noturus miurus   Noturus    Ictaluridae\n",
      "4397    INHS_FISH_2603.jpg         Noturus miurus   Noturus    Ictaluridae\n",
      "4398   INHS_FISH_61604.jpg         Noturus miurus   Noturus    Ictaluridae\n",
      "4399   INHS_FISH_33864.jpg         Noturus miurus   Noturus    Ictaluridae\n",
      "\n",
      "[4400 rows x 4 columns]\n"
     ]
    }
   ],
   "source": [
    "# get metadata file\n",
    "metadata_csv_df = pd.read_csv(os.path.join(dataPath ,image_path, species_csv_fileName), sep='\\t')\n",
    "\n",
    "# find species that have a specific number of images\n",
    "grouped_by = metadata_csv_df['scientificName'].value_counts()\n",
    "grouped_by_larger = grouped_by[grouped_by > numberOfImagesPerSpecies]\n",
    "scientificNameValues = grouped_by_larger.index.values\n",
    "thresholded = metadata_csv_df[metadata_csv_df['scientificName'].isin(scientificNameValues)]\n",
    "\n",
    "# Get first n images from each\n",
    "trimmed = thresholded.groupby('scientificName').head(numberOfImagesPerSpecies).reset_index(drop=True)\n",
    "print('output', trimmed)\n",
    "\n",
    "# save the file\n",
    "path = os.path.join(dataPath ,image_path, output_directory_name)\n",
    "try:\n",
    "    os.mkdir(path)\n",
    "except:\n",
    "    pass\n",
    "trimmed.to_csv(os.path.join(path, cleaned_species_csv_fileName), sep='\\t')\n"
   ]
  },
  {
   "cell_type": "code",
   "execution_count": null,
   "metadata": {},
   "outputs": [],
   "source": []
  },
  {
   "cell_type": "code",
   "execution_count": null,
   "metadata": {},
   "outputs": [],
   "source": []
  }
 ],
 "metadata": {
  "kernelspec": {
   "display_name": "Python 3",
   "language": "python",
   "name": "python3"
  },
  "language_info": {
   "codemirror_mode": {
    "name": "ipython",
    "version": 3
   },
   "file_extension": ".py",
   "mimetype": "text/x-python",
   "name": "python",
   "nbconvert_exporter": "python",
   "pygments_lexer": "ipython3",
   "version": "3.6.9"
  }
 },
 "nbformat": 4,
 "nbformat_minor": 2
}
