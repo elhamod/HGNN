{
 "cells": [
  {
   "cell_type": "code",
   "execution_count": 3,
   "metadata": {},
   "outputs": [],
   "source": [
    "import pandas as pd"
   ]
  },
  {
   "cell_type": "markdown",
   "metadata": {},
   "source": [
    "Correctly predicted by first but not second"
   ]
  },
  {
   "cell_type": "code",
   "execution_count": 9,
   "metadata": {},
   "outputs": [
    {
     "name": "stdout",
     "output_type": "stream",
     "text": [
      "                file name true_x predicted_x true_y predicted_y     _merge\n",
      "37   INHS_FISH_100636.jpg      0           0    NaN         NaN  left_only\n",
      "135  INHS_FISH_014466.jpg      2           2    NaN         NaN  left_only\n",
      "136   INHS_FISH_25279.jpg      2           2    NaN         NaN  left_only\n",
      "139   INHS_FISH_23133.jpg      3           3    NaN         NaN  left_only\n",
      "144   INHS_FISH_13056.jpg      3           3    NaN         NaN  left_only\n",
      "150   INHS_FISH_25108.jpg      3           3    NaN         NaN  left_only\n",
      "166   INHS_FISH_90518.jpg      3           3    NaN         NaN  left_only\n",
      "219   INHS_FISH_63373.jpg      4           4    NaN         NaN  left_only\n",
      "246   INHS_FISH_85738.jpg      5           5    NaN         NaN  left_only\n",
      "280   INHS_FISH_99121.jpg      5           5    NaN         NaN  left_only\n",
      "293    INHS_FISH_2198.jpg      6           6    NaN         NaN  left_only\n",
      "294   INHS_FISH_32638.jpg      6           6    NaN         NaN  left_only\n",
      "295    INHS_FISH_6820.jpg      6           6    NaN         NaN  left_only\n",
      "296   INHS_FISH_56007.jpg      6           6    NaN         NaN  left_only\n",
      "312    INHS_FISH_6183.jpg      6           6    NaN         NaN  left_only\n",
      "319   INHS_FISH_85232.jpg      6           6    NaN         NaN  left_only\n",
      "324   INHS_FISH_99351.jpg      6           6    NaN         NaN  left_only\n",
      "368   INHS_FISH_12820.jpg      7           7    NaN         NaN  left_only\n",
      "386   INHS_FISH_23032.jpg      8           8    NaN         NaN  left_only\n",
      "410  INHS_FISH_106563.jpg      8           8    NaN         NaN  left_only\n",
      "412   INHS_FISH_85839.jpg      8           8    NaN         NaN  left_only\n",
      "423   INHS_FISH_42717.jpg      9           9    NaN         NaN  left_only\n",
      "443   INHS_FISH_61785.jpg      9           9    NaN         NaN  left_only\n",
      "474   INHS_FISH_32332.jpg     10          10    NaN         NaN  left_only\n",
      "477   INHS_FISH_83472.jpg     10          10    NaN         NaN  left_only\n"
     ]
    }
   ],
   "source": [
    "df1 = pd.read_pickle(\"test_22987_suffix50_11_CNN2_differentConfig_batchnorm/multi-trial/correctlypredictedList.pkl\")\n",
    "df2 = pd.read_pickle(\"test_22987_suffix50_11_CNN2_differentConfig_baseline4fclayers/multi-trial/correctlypredictedList.pkl\")\n",
    "\n",
    "df_diff = df1.merge(df2,  on='file name', how = 'outer' ,indicator=True).loc[lambda x : x['_merge']=='left_only']\n",
    "print(df_diff)"
   ]
  },
  {
   "cell_type": "markdown",
   "metadata": {},
   "source": [
    "Correctly predicted by second but not first"
   ]
  },
  {
   "cell_type": "code",
   "execution_count": 10,
   "metadata": {},
   "outputs": [
    {
     "name": "stdout",
     "output_type": "stream",
     "text": [
      "                file name true_x predicted_x true_y predicted_y     _merge\n",
      "4     INHS_FISH_79838.jpg      0           0    NaN         NaN  left_only\n",
      "10     INHS_FISH_2401.jpg      0           0    NaN         NaN  left_only\n",
      "67    INHS_FISH_51478.jpg      1           1    NaN         NaN  left_only\n",
      "133   INHS_FISH_88450.jpg      2           2    NaN         NaN  left_only\n",
      "177  INHS_FISH_100521.jpg      3           3    NaN         NaN  left_only\n",
      "311  INHS_FISH_105980.jpg      6           6    NaN         NaN  left_only\n",
      "313   INHS_FISH_57607.jpg      6           6    NaN         NaN  left_only\n",
      "350   INHS_FISH_85012.jpg      7           7    NaN         NaN  left_only\n",
      "372    INHS_FISH_2475.jpg      8           8    NaN         NaN  left_only\n",
      "382   INHS_FISH_36377.jpg      8           8    NaN         NaN  left_only\n",
      "391   INHS_FISH_95077.jpg      8           8    NaN         NaN  left_only\n"
     ]
    }
   ],
   "source": [
    "df1 = pd.read_pickle(\"test_22987_suffix50_11_CNN2_differentConfig_batchnorm/multi-trial/correctlypredictedList.pkl\")\n",
    "df2 = pd.read_pickle(\"test_22987_suffix50_11_CNN2_differentConfig_baseline4fclayers/multi-trial/correctlypredictedList.pkl\")\n",
    "\n",
    "df_diff = df2.merge(df1,  on='file name', how = 'outer' ,indicator=True).loc[lambda x : x['_merge']=='left_only']\n",
    "print(df_diff)"
   ]
  },
  {
   "cell_type": "code",
   "execution_count": null,
   "metadata": {},
   "outputs": [],
   "source": []
  }
 ],
 "metadata": {
  "kernelspec": {
   "display_name": "Python 3",
   "language": "python",
   "name": "python3"
  },
  "language_info": {
   "codemirror_mode": {
    "name": "ipython",
    "version": 3
   },
   "file_extension": ".py",
   "mimetype": "text/x-python",
   "name": "python",
   "nbconvert_exporter": "python",
   "pygments_lexer": "ipython3",
   "version": "3.6.9"
  }
 },
 "nbformat": 4,
 "nbformat_minor": 4
}
