{
 "cells": [
  {
   "cell_type": "markdown",
   "metadata": {},
   "source": [
    "imports"
   ]
  },
  {
   "cell_type": "code",
   "execution_count": 1,
   "metadata": {},
   "outputs": [],
   "source": [
    "from tqdm.notebook import tqdm as tqdm\n",
    "import os\n",
    "import json\n",
    "import pandas as pd\n",
    "\n",
    "from HGNN.train.configParser import ConfigParser, getModelName, getDatasetName\n",
    "from myhelpers import TrialStatistics"
   ]
  },
  {
   "cell_type": "markdown",
   "metadata": {},
   "source": [
    "parameters"
   ]
  },
  {
   "cell_type": "code",
   "execution_count": 2,
   "metadata": {},
   "outputs": [],
   "source": [
    "experimentsPath=\"/home/elhamod/HGNN/experiments/\"\n",
    "dataPath=\"/data/BGNN_data\"\n",
    "experimentName=\"biology_paper_dataset_differentModels\"\n",
    "\n",
    "cuda=6"
   ]
  },
  {
   "cell_type": "markdown",
   "metadata": {},
   "source": [
    "file and changes"
   ]
  },
  {
   "cell_type": "code",
   "execution_count": 3,
   "metadata": {},
   "outputs": [],
   "source": [
    "old_params_file = os.path.join(experimentsPath, experimentName, \"params.json\")\n",
    "\n",
    "# Keep same order as ConfigParserWriter!\n",
    "changes = {\n",
    "    'numOfTrials': 3\n",
    "}"
   ]
  },
  {
   "cell_type": "markdown",
   "metadata": {},
   "source": [
    "prepare"
   ]
  },
  {
   "cell_type": "code",
   "execution_count": 4,
   "metadata": {},
   "outputs": [],
   "source": [
    "config_parser = ConfigParser(experimentsPath, dataPath, experimentName)\n",
    "paramsIterator = config_parser.getExperiments()  \n",
    "number_of_experiments = sum(1 for e in paramsIterator)\n",
    "\n",
    "# populate a hash table of all experiments, indexed by trial hash\n",
    "experiments = {}\n",
    "for i, experiment_params in enumerate(config_parser.getExperiments(fixExperiments=False)):\n",
    "    num_of_models = experiment_params[\"numOfTrials\"]\n",
    "    for k in range(num_of_models):\n",
    "        old_trialHash = TrialStatistics.getTrialName(experiment_params, k)\n",
    "        experiment_params_new = {**experiment_params, **changes} \n",
    "        experiment_params_new = config_parser.fixExperimentParams(experiment_params_new)\n",
    "        new_trialHash = TrialStatistics.getTrialName(experiment_params_new, k)\n",
    "        experiments[old_trialHash] = {\"trialHash\": new_trialHash}"
   ]
  },
  {
   "cell_type": "markdown",
   "metadata": {},
   "source": [
    "Fix data splits"
   ]
  },
  {
   "cell_type": "code",
   "execution_count": 5,
   "metadata": {},
   "outputs": [
    {
     "data": {
      "application/vnd.jupyter.widget-view+json": {
       "model_id": "dcf1d1bb26cf454f812ff8fd3bdc9e75",
       "version_major": 2,
       "version_minor": 0
      },
      "text/plain": [
       "HBox(children=(FloatProgress(value=0.0, description='experiment', max=4.0, style=ProgressStyle(description_wid…"
      ]
     },
     "metadata": {},
     "output_type": "display_data"
    },
    {
     "name": "stdout",
     "output_type": "stream",
     "text": [
      "datasplit /home/elhamod/HGNN/experiments/biology_paper_dataset_differentModels/datasplits/b4896471167c5599680115e51349929def797e403bead8f0fe554d79 -> /home/elhamod/HGNN/experiments/biology_paper_dataset_differentModels/datasplits/b4896471167c5599680115e51349929def797e403bead8f0fe554d79 updated\n",
      "json /home/elhamod/HGNN/experiments/biology_paper_dataset_differentModels/datasplits/b4896471167c5599680115e51349929def797e403bead8f0fe554d79/params.json updated\n",
      "datasplit /home/elhamod/HGNN/experiments/biology_paper_dataset_differentModels/datasplits/b4896471167c5599680115e51349929def797e403bead8f0fe554d79 -> /home/elhamod/HGNN/experiments/biology_paper_dataset_differentModels/datasplits/b4896471167c5599680115e51349929def797e403bead8f0fe554d79 updated\n",
      "json /home/elhamod/HGNN/experiments/biology_paper_dataset_differentModels/datasplits/b4896471167c5599680115e51349929def797e403bead8f0fe554d79/params.json updated\n",
      "datasplit /home/elhamod/HGNN/experiments/biology_paper_dataset_differentModels/datasplits/b4896471167c5599680115e51349929def797e403bead8f0fe554d79 -> /home/elhamod/HGNN/experiments/biology_paper_dataset_differentModels/datasplits/b4896471167c5599680115e51349929def797e403bead8f0fe554d79 updated\n",
      "json /home/elhamod/HGNN/experiments/biology_paper_dataset_differentModels/datasplits/b4896471167c5599680115e51349929def797e403bead8f0fe554d79/params.json updated\n",
      "datasplit /home/elhamod/HGNN/experiments/biology_paper_dataset_differentModels/datasplits/b4896471167c5599680115e51349929def797e403bead8f0fe554d79 -> /home/elhamod/HGNN/experiments/biology_paper_dataset_differentModels/datasplits/b4896471167c5599680115e51349929def797e403bead8f0fe554d79 updated\n",
      "json /home/elhamod/HGNN/experiments/biology_paper_dataset_differentModels/datasplits/b4896471167c5599680115e51349929def797e403bead8f0fe554d79/params.json updated\n",
      "\n"
     ]
    }
   ],
   "source": [
    "with tqdm(total=number_of_experiments, desc=\"experiment\") as bar:\n",
    "    for i, experiment_params in enumerate(config_parser.getExperiments(fixExperiments=False)):\n",
    "        \n",
    "        # update experiment params\n",
    "        experiment_params_new = {**experiment_params, **changes} \n",
    "        experiment_params_new = config_parser.fixExperimentParams(experiment_params_new)\n",
    "\n",
    "        # fix data split names\n",
    "        old_dataset_name = getDatasetName(config_parser.fixPaths(experiment_params))\n",
    "        old_datasplitsPath = os.path.join(experimentsPath, experimentName, old_dataset_name)\n",
    "        new_dataset_name = getDatasetName(config_parser.fixPaths(experiment_params_new))\n",
    "        new_datasplitsPath = os.path.join(experimentsPath, experimentName, new_dataset_name)\n",
    "        \n",
    "        try:\n",
    "            if os.path.exists(old_datasplitsPath):\n",
    "\n",
    "                # update the folder names\n",
    "                os.rename(old_datasplitsPath, new_datasplitsPath)\n",
    "                print(\"datasplit\", old_datasplitsPath, '->', new_datasplitsPath, \"updated\")\n",
    "\n",
    "                # update the params.json\n",
    "                j = json.dumps(experiment_params_new)\n",
    "                json_fileName = os.path.join(new_datasplitsPath, 'params.json')\n",
    "                f = open(json_fileName,\"w\")        \n",
    "                f.write(j)\n",
    "                f.close()  \n",
    "                print(\"json\", json_fileName, \"updated\")\n",
    "                \n",
    "            else:\n",
    "                raise\n",
    "                \n",
    "        except:\n",
    "            print(\"datasplit\", old_dataset_name, \"could not be fixed to\", new_dataset_name)\n",
    "            pass   \n",
    "        \n",
    "        experiments[TrialStatistics.getTrialName(experiment_params, 0)]['datasetName'] = new_dataset_name\n",
    "\n",
    "        \n",
    "        bar.update()"
   ]
  },
  {
   "cell_type": "markdown",
   "metadata": {},
   "source": [
    "Fix models"
   ]
  },
  {
   "cell_type": "code",
   "execution_count": 6,
   "metadata": {},
   "outputs": [
    {
     "data": {
      "application/vnd.jupyter.widget-view+json": {
       "model_id": "05031756dac747a89a3c06f25d777e2d",
       "version_major": 2,
       "version_minor": 0
      },
      "text/plain": [
       "HBox(children=(FloatProgress(value=0.0, description='experiment', max=4.0, style=ProgressStyle(description_wid…"
      ]
     },
     "metadata": {},
     "output_type": "display_data"
    },
    {
     "data": {
      "application/vnd.jupyter.widget-view+json": {
       "model_id": "ddd3dc24fd0a425790c8856dbeb8c66f",
       "version_major": 2,
       "version_minor": 0
      },
      "text/plain": [
       "HBox(children=(FloatProgress(value=0.0, description='trial', max=5.0, style=ProgressStyle(description_width='i…"
      ]
     },
     "metadata": {},
     "output_type": "display_data"
    },
    {
     "name": "stdout",
     "output_type": "stream",
     "text": [
      "model /home/elhamod/HGNN/experiments/biology_paper_dataset_differentModels/models/907fb6a09efd800575291e3ec0a59c6773c600417bf1dee04b571b9f -> /home/elhamod/HGNN/experiments/biology_paper_dataset_differentModels/models/825aa4c30a7ace1285f54f2f26af4f9702b5fec2a2f7edf3b35666f7 updated\n",
      "json /home/elhamod/HGNN/experiments/biology_paper_dataset_differentModels/models/825aa4c30a7ace1285f54f2f26af4f9702b5fec2a2f7edf3b35666f7/params.json updated\n",
      "model /home/elhamod/HGNN/experiments/biology_paper_dataset_differentModels/models/c848e37ed5229c2d3e651dbb81b74cda5b4806aaccb2da9587216119 -> /home/elhamod/HGNN/experiments/biology_paper_dataset_differentModels/models/8f4c827179c7284f264c3da790cbe741cb17f91416b995aafedd7720 updated\n",
      "json /home/elhamod/HGNN/experiments/biology_paper_dataset_differentModels/models/8f4c827179c7284f264c3da790cbe741cb17f91416b995aafedd7720/params.json updated\n",
      "model /home/elhamod/HGNN/experiments/biology_paper_dataset_differentModels/models/8bc778169c754715001221b39327c06d40333454eeebb19bb166881d -> /home/elhamod/HGNN/experiments/biology_paper_dataset_differentModels/models/a4dba7925ad2409f8467537935803f353cdecd311cbfba8267c00bbd updated\n",
      "json /home/elhamod/HGNN/experiments/biology_paper_dataset_differentModels/models/a4dba7925ad2409f8467537935803f353cdecd311cbfba8267c00bbd/params.json updated\n",
      "model /home/elhamod/HGNN/experiments/biology_paper_dataset_differentModels/models/03df9a8fb1b941dc6f72724fc1f7c4c63578299545318b5e4ac140c9 -> /home/elhamod/HGNN/experiments/biology_paper_dataset_differentModels/models/cf6bac15d722c0388d66cc410fefb0a7cca3cc2ddd710d482b4f04e8 updated\n",
      "json /home/elhamod/HGNN/experiments/biology_paper_dataset_differentModels/models/cf6bac15d722c0388d66cc410fefb0a7cca3cc2ddd710d482b4f04e8/params.json updated\n",
      "model models/f1faed1c4bfcaa6f1aa8bfa4d35e231702b35a0086f407f2cbc89758 could not be fixed to models/37c14f694767fdbdfc1fe7ae1941cf5179bc1d3fddac11361336d937\n",
      "\n"
     ]
    },
    {
     "data": {
      "application/vnd.jupyter.widget-view+json": {
       "model_id": "30187055a19d451e9422418571c83892",
       "version_major": 2,
       "version_minor": 0
      },
      "text/plain": [
       "HBox(children=(FloatProgress(value=0.0, description='trial', max=5.0, style=ProgressStyle(description_width='i…"
      ]
     },
     "metadata": {},
     "output_type": "display_data"
    },
    {
     "name": "stdout",
     "output_type": "stream",
     "text": [
      "model models/d014becdcaaa06e69d07ed7cd289b89f475c1bece84b45c5992ab320 could not be fixed to models/1f473114ca43b4ceb1a2ecb70ead11478584241e97458fc74d6694e0\n",
      "model models/de1ad45a560caea97ae654abf0e8c4b49677e45eeb38eea6b3951c67 could not be fixed to models/a17fa195789d6a3dd1c963087bd980c9ff352075349b8427af918b73\n",
      "model models/d2807d5aba0574f8fd644f199693a91f6ac76d6962a806c2b1dd5509 could not be fixed to models/3645aac312be7c37e7efa6c147262f308eeafd88d1361603f04bb34e\n",
      "model models/e43c45998663847ceedc406a8f7bbececb54deb3fda4146035b9c83e could not be fixed to models/0764ecca7cb57827cb9b7d129721b4cdc4d8caaa352282268c4b6282\n",
      "model models/c4f7c78d6666d8b7c62b580ea05e9a23b2ad9698212724dd5cc967f4 could not be fixed to models/c16fada3ecd65b6dc496f00c77a06db9c738a372cd4206bc0af21cd5\n",
      "\n"
     ]
    },
    {
     "data": {
      "application/vnd.jupyter.widget-view+json": {
       "model_id": "3a6e8f5c1d1e487d99407ef0740e179b",
       "version_major": 2,
       "version_minor": 0
      },
      "text/plain": [
       "HBox(children=(FloatProgress(value=0.0, description='trial', max=5.0, style=ProgressStyle(description_width='i…"
      ]
     },
     "metadata": {},
     "output_type": "display_data"
    },
    {
     "name": "stdout",
     "output_type": "stream",
     "text": [
      "model models/03b2491251697b0ddf9cbc33efed513e7650235554adc1e942d52767 could not be fixed to models/6d98bcb1f2bda1058dd8c8bc28366920235a96a2c62a152e317e19a0\n",
      "model models/1497b1db20d84585f556077f836d8201e3d9ef650cc698384d6a8c1d could not be fixed to models/975c676dc16f1dbb79009478a3855f9a2d36216c347d8f7b8bfe7549\n",
      "model models/f43b5dfdc59f20edc17ba7559c98b308e5d6368ba55eb28bf879d3cf could not be fixed to models/09337aa6e614a87569e4e0ad7041c8b1da8eab80732b5f6b5d1ed3e2\n",
      "model models/3ee66bf3b986d94be69a5a88b6ba1ab551ccb1f4c3515061aa0fe525 could not be fixed to models/c3fe09a1d5e4aca5e33f466ccb1b4e8d764a93510d70e5499d231562\n",
      "model models/2f74b54d3df48c2c4505e5b9410e09ce14c618f7e6a4b6f45930831e could not be fixed to models/c46de6793e59be53423dbffa3e166afa09729cdfc40dcf16867714c8\n",
      "\n"
     ]
    },
    {
     "data": {
      "application/vnd.jupyter.widget-view+json": {
       "model_id": "c1bc59cd16a746bfb0661535cfc868a8",
       "version_major": 2,
       "version_minor": 0
      },
      "text/plain": [
       "HBox(children=(FloatProgress(value=0.0, description='trial', max=5.0, style=ProgressStyle(description_width='i…"
      ]
     },
     "metadata": {},
     "output_type": "display_data"
    },
    {
     "name": "stdout",
     "output_type": "stream",
     "text": [
      "model models/e9274f43a9c6d1edb6425c12b87f17dae4aa9eff6fa5f61f0ed145aa could not be fixed to models/5735cea1d437d01b5ae9ab36263859720f3fcde6f1d7e1299bc1f470\n",
      "model models/68d2b9d166dfdc7ee01b4541f597c8b3e78aa0c9f116134c6d803754 could not be fixed to models/d7ef4d63e71973c6aad10eaf7fd32c1c88ad2e96a6f89471bf46e4c2\n",
      "model models/79768b7a8f25e4ffaaa337d292c05522c445d2a37b59f12a46831425 could not be fixed to models/080895e702964b84b97c64d4429dc024850eb9541f2afbe1d5452768\n",
      "model models/e35ef96c9aa5cacd0e2618271dd54d3ed1be22e5d3267466f44b23d9 could not be fixed to models/60e192dc562e5736f8640c0ba0cf3ed756ebe9c71c730d74adf91816\n",
      "model models/917779be400e44d87826660e83562b2e7d76373f2fb6edb649dad309 could not be fixed to models/e6926a93a4f6a79f86493711245bb49512c2c28142d9264ec9fcafd2\n",
      "\n",
      "\n"
     ]
    }
   ],
   "source": [
    "with tqdm(total=number_of_experiments, desc=\"experiment\") as bar:\n",
    "    for i, experiment_params in enumerate(config_parser.getExperiments(fixExperiments=False)):\n",
    "        \n",
    "        experiment_params_new = {**experiment_params, **changes} \n",
    "        experiment_params_new = config_parser.fixExperimentParams(experiment_params_new)\n",
    "\n",
    "        num_of_models = experiment_params[\"numOfTrials\"]\n",
    "        with tqdm(total=num_of_models, desc=\"trial\") as bar2:\n",
    "            for k in range(num_of_models):\n",
    "            \n",
    "                # Fix model names\n",
    "                old_model_name = getModelName(experiment_params, k)\n",
    "                old_modelPath = os.path.join(experimentsPath, experimentName, old_model_name)\n",
    "                new_model_name = getModelName(experiment_params_new, k)\n",
    "                new_modelPath = os.path.join(experimentsPath, experimentName, new_model_name)\n",
    "\n",
    "                try:\n",
    "                    if os.path.exists(old_modelPath):\n",
    "                        os.rename(old_modelPath, new_modelPath)\n",
    "                        print(\"model\", old_modelPath, '->', new_modelPath, \"updated\")\n",
    "\n",
    "                        j = json.dumps(experiment_params_new)\n",
    "                        json_fileName = os.path.join(new_modelPath, 'params.json')\n",
    "                        f = open(json_fileName,\"w\")        \n",
    "                        f.write(j)\n",
    "                        f.close()  \n",
    "                        print(\"json\", json_fileName, \"updated\")\n",
    "                    else:\n",
    "                        raise\n",
    "                    \n",
    "                except:\n",
    "                    print(\"model\", old_model_name, \"could not be fixed to\", new_model_name)\n",
    "                    pass  \n",
    "                \n",
    "                \n",
    "\n",
    "                bar2.update()\n",
    "                \n",
    "                experiments[TrialStatistics.getTrialName(experiment_params, k)]['modelName'] = new_model_name\n",
    "\n",
    "        bar.update()"
   ]
  },
  {
   "cell_type": "markdown",
   "metadata": {},
   "source": [
    "Fix results directory"
   ]
  },
  {
   "cell_type": "code",
   "execution_count": 7,
   "metadata": {},
   "outputs": [
    {
     "data": {
      "application/vnd.jupyter.widget-view+json": {
       "model_id": "827bd79ceb7544d4a4c3bf72d4a27921",
       "version_major": 2,
       "version_minor": 0
      },
      "text/plain": [
       "HBox(children=(FloatProgress(value=0.0, description='experiment', max=4.0, style=ProgressStyle(description_wid…"
      ]
     },
     "metadata": {},
     "output_type": "display_data"
    },
    {
     "name": "stdout",
     "output_type": "stream",
     "text": [
      "result dc9cdf5d84792686be05ad04199b4691281d7c64533198ad5baa2e78 could not be fixed to 091351b87556c0d52115d41316e73819c38ea32f4790877f20fc5137\n",
      "result 47e062f28bdd7dc8768626a462508fca6f4a73b1693594d1c5b5d708 could not be fixed to a8fbd8e6a0b45aae4ef6c68ed38dee2c5d46dbafa26e0eb569d43930\n",
      "result 39e82b1034de354855512342447991ea092e1c4a3bb9ba59613939c5 could not be fixed to 8c4db863b698c3d66823184d97b42eb99dd4b88b109c56df04fa7ff5\n",
      "result 109e15bd14b51286e5dcf8dd2630b2fba01de4f027517c124454a24f could not be fixed to ba1048373df76e378c958f977a494db049271e4b70421db38c5d99d7\n",
      "\n"
     ]
    }
   ],
   "source": [
    "with tqdm(total=number_of_experiments, desc=\"experiment\") as bar:\n",
    "    for i, experiment_params in enumerate(config_parser.getExperiments(fixExperiments=False)):\n",
    "        \n",
    "        experiment_params_new = {**experiment_params, **changes} \n",
    "        experiment_params_new = config_parser.fixExperimentParams(experiment_params_new)\n",
    "\n",
    "        old_experimentHash = TrialStatistics.getTrialName(experiment_params)\n",
    "        old_experimentPath = os.path.join(experimentsPath, experimentName, \"results\", old_experimentHash)\n",
    "        new_experimentHash = TrialStatistics.getTrialName(experiment_params_new)\n",
    "        new_experimentPath = os.path.join(experimentsPath, experimentName, \"results\", new_experimentHash)\n",
    "        \n",
    "        try:\n",
    "            if os.path.exists(old_experimentPath):\n",
    "\n",
    "                os.rename(old_experimentPath, new_experimentPath)\n",
    "                print(\"result\", old_experimentPath, '->', new_experimentPath, \"updated\")\n",
    "\n",
    "                j = json.dumps(experiment_params_new)\n",
    "                json_fileName = os.path.join(new_experimentPath, 'params.json')\n",
    "                f = open(json_fileName,\"w\")        \n",
    "                f.write(j)\n",
    "                f.close()  \n",
    "                print(\"json\", json_fileName, \"updated\")\n",
    "            else:\n",
    "                raise\n",
    "                \n",
    "        except:\n",
    "            print(\"result\", old_experimentHash, \"could not be fixed to\",new_experimentHash)\n",
    "            pass \n",
    "        \n",
    "        experiments[TrialStatistics.getTrialName(experiment_params, 0)]['experimentHash'] = new_experimentHash\n",
    "        \n",
    "        bar.update()"
   ]
  },
  {
   "cell_type": "markdown",
   "metadata": {},
   "source": [
    "Fix experiments file"
   ]
  },
  {
   "cell_type": "code",
   "execution_count": 8,
   "metadata": {},
   "outputs": [
    {
     "data": {
      "application/vnd.jupyter.widget-view+json": {
       "model_id": "852178f6e1004c489bde33db44ba281b",
       "version_major": 2,
       "version_minor": 0
      },
      "text/plain": [
       "HBox(children=(FloatProgress(value=0.0, description='experiment', max=4.0, style=ProgressStyle(description_wid…"
      ]
     },
     "metadata": {},
     "output_type": "display_data"
    },
    {
     "data": {
      "application/vnd.jupyter.widget-view+json": {
       "model_id": "a2b82ef387c249f5adbfa347118178d3",
       "version_major": 2,
       "version_minor": 0
      },
      "text/plain": [
       "HBox(children=(FloatProgress(value=0.0, description='trial', max=5.0, style=ProgressStyle(description_width='i…"
      ]
     },
     "metadata": {},
     "output_type": "display_data"
    },
    {
     "name": "stdout",
     "output_type": "stream",
     "text": [
      "trialHash 907fb6a09efd800575291e3ec0a59c6773c600417bf1dee04b571b9f -> 825aa4c30a7ace1285f54f2f26af4f9702b5fec2a2f7edf3b35666f7 updated\n",
      "trialHash c848e37ed5229c2d3e651dbb81b74cda5b4806aaccb2da9587216119 -> 8f4c827179c7284f264c3da790cbe741cb17f91416b995aafedd7720 updated\n",
      "trialHash 8bc778169c754715001221b39327c06d40333454eeebb19bb166881d -> a4dba7925ad2409f8467537935803f353cdecd311cbfba8267c00bbd updated\n",
      "\n"
     ]
    },
    {
     "name": "stderr",
     "output_type": "stream",
     "text": [
      "/home/elhamod/melhamodenv3/lib/python3.6/site-packages/ipykernel_launcher.py:21: UserWarning: Boolean Series key will be reindexed to match DataFrame index.\n",
      "/home/elhamod/melhamodenv3/lib/python3.6/site-packages/ipykernel_launcher.py:26: UserWarning: Boolean Series key will be reindexed to match DataFrame index.\n",
      "/home/elhamod/melhamodenv3/lib/python3.6/site-packages/ipykernel_launcher.py:37: UserWarning: Boolean Series key will be reindexed to match DataFrame index.\n"
     ]
    },
    {
     "data": {
      "application/vnd.jupyter.widget-view+json": {
       "model_id": "51d229760a604ad096a356faf6ae7d0a",
       "version_major": 2,
       "version_minor": 0
      },
      "text/plain": [
       "HBox(children=(FloatProgress(value=0.0, description='trial', max=5.0, style=ProgressStyle(description_width='i…"
      ]
     },
     "metadata": {},
     "output_type": "display_data"
    },
    {
     "name": "stdout",
     "output_type": "stream",
     "text": [
      "\n"
     ]
    },
    {
     "data": {
      "application/vnd.jupyter.widget-view+json": {
       "model_id": "cc2b3d72f63c413aa725b6366d4e1c3f",
       "version_major": 2,
       "version_minor": 0
      },
      "text/plain": [
       "HBox(children=(FloatProgress(value=0.0, description='trial', max=5.0, style=ProgressStyle(description_width='i…"
      ]
     },
     "metadata": {},
     "output_type": "display_data"
    },
    {
     "name": "stdout",
     "output_type": "stream",
     "text": [
      "\n"
     ]
    },
    {
     "data": {
      "application/vnd.jupyter.widget-view+json": {
       "model_id": "9f093c5d2f534b5782307f491fd435d7",
       "version_major": 2,
       "version_minor": 0
      },
      "text/plain": [
       "HBox(children=(FloatProgress(value=0.0, description='trial', max=5.0, style=ProgressStyle(description_width='i…"
      ]
     },
     "metadata": {},
     "output_type": "display_data"
    },
    {
     "name": "stdout",
     "output_type": "stream",
     "text": [
      "\n",
      "\n"
     ]
    }
   ],
   "source": [
    "# open experiments.csv file\n",
    "experimentsFileNameAndPath=os.path.join(experimentsPath, \"experiments.csv\")\n",
    "experiments_file= pd.read_csv(experimentsFileNameAndPath)\n",
    "\n",
    "# For all experiments\n",
    "with tqdm(total=number_of_experiments, desc=\"experiment\") as bar:\n",
    "    for i, experiment_params in enumerate(config_parser.getExperiments(fixExperiments=False)):\n",
    "        \n",
    "        numOfTrials = experiment_params[\"numOfTrials\"]\n",
    "        trialHash_0 = TrialStatistics.getTrialName(experiment_params, 0) # used for keys who don't change for different trials\n",
    "        experiment_params_new = {**experiment_params, **changes} \n",
    "        experiment_params_new = config_parser.fixExperimentParams(experiment_params_new)\n",
    "        \n",
    "        # For all trials\n",
    "        with tqdm(total=num_of_models, desc=\"trial\") as bar2:\n",
    "            for j in range(numOfTrials):\n",
    "                \n",
    "                trialHash = TrialStatistics.getTrialName(experiment_params, j)\n",
    "                try:\n",
    "                    # If old entry doesn't exist, nothing to update\n",
    "                    record_exists = not (experiments_file[experiments_file['trialHash'] == trialHash][experiments_file['experimentName'] == experimentName]).empty\n",
    "                    if record_exists:\n",
    "                        \n",
    "                        # drop old row and caluclate new row\n",
    "                        new_trialHash = experiments[trialHash][\"trialHash\"]\n",
    "                        experiments_file.drop(experiments_file[experiments_file['trialHash'] == trialHash][experiments_file['experimentName'] == experimentName].index, inplace = True) \n",
    "                        row_information = {\n",
    "                            'experimentName': experimentName,\n",
    "                            'modelName': experiments[trialHash][\"modelName\"],\n",
    "                            'datasetName': experiments[trialHash_0][\"datasetName\"],\n",
    "                            'experimentHash': experiments[trialHash_0][\"experimentHash\"],\n",
    "                            'trialHash': new_trialHash\n",
    "                        }\n",
    "                        row_information = {**row_information, **experiment_params_new} \n",
    "\n",
    "                        # error handling to avoid duplicates\n",
    "                        record_exists = not (experiments_file[experiments_file['trialHash'] == new_trialHash][experiments_file['experimentName'] == experimentName]).empty\n",
    "                        if record_exists:\n",
    "                            experiments_file.drop(experiments_file[experiments_file['trialHash'] == new_trialHash][experiments_file['experimentName'] == experimentName].index, inplace = True) \n",
    "\n",
    "                        # update with new entry    \n",
    "                        experiments_file = experiments_file.append(pd.DataFrame(row_information, index=[0]), ignore_index = True)\n",
    "                        print(\"trialHash\", trialHash, \"->\", new_trialHash, \"updated\")\n",
    "                except:\n",
    "                    print(\"trialHash\", trialHash, \"could not be updated!\")\n",
    "                    pass\n",
    "                bar2.update()\n",
    "        bar.update()\n",
    "\n",
    "# resave file\n",
    "experiments_file.to_csv(experimentsFileNameAndPath, header=True, index=False)"
   ]
  },
  {
   "cell_type": "markdown",
   "metadata": {},
   "source": [
    "Fix params file"
   ]
  },
  {
   "cell_type": "code",
   "execution_count": 9,
   "metadata": {},
   "outputs": [
    {
     "data": {
      "application/vnd.jupyter.widget-view+json": {
       "model_id": "9e3b68c86c2046959a394c735447de39",
       "version_major": 2,
       "version_minor": 0
      },
      "text/plain": [
       "HBox(children=(FloatProgress(value=0.0, description='experiment', max=4.0, style=ProgressStyle(description_wid…"
      ]
     },
     "metadata": {},
     "output_type": "display_data"
    },
    {
     "name": "stdout",
     "output_type": "stream",
     "text": [
      "\n",
      "json /home/elhamod/HGNN/experiments/biology_paper_dataset_differentModels/params.json updated\n"
     ]
    }
   ],
   "source": [
    "experiment_list = []\n",
    "with tqdm(total=number_of_experiments, desc=\"experiment\") as bar:\n",
    "    for i, experiment_params in enumerate(config_parser.getExperiments(fixExperiments=False)):\n",
    "        \n",
    "        experiment_params_new = {**experiment_params, **changes} \n",
    "        experiment_list.append(experiment_params_new)\n",
    "        bar.update()\n",
    "\n",
    "\n",
    "j = json.dumps({\"experimentList\": experiment_list})\n",
    "f = open(old_params_file,\"w\")        \n",
    "f.write(j)\n",
    "f.close()  \n",
    "print(\"json\", old_params_file, \"updated\")"
   ]
  }
 ],
 "metadata": {
  "kernelspec": {
   "display_name": "Python 3",
   "language": "python",
   "name": "python3"
  },
  "language_info": {
   "codemirror_mode": {
    "name": "ipython",
    "version": 3
   },
   "file_extension": ".py",
   "mimetype": "text/x-python",
   "name": "python",
   "nbconvert_exporter": "python",
   "pygments_lexer": "ipython3",
   "version": "3.6.9"
  }
 },
 "nbformat": 4,
 "nbformat_minor": 4
}
