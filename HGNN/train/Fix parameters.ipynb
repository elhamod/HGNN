{
 "cells": [
  {
   "cell_type": "markdown",
   "metadata": {},
   "source": [
    "imports"
   ]
  },
  {
   "cell_type": "code",
   "execution_count": 5,
   "metadata": {},
   "outputs": [],
   "source": [
    "from tqdm.notebook import tqdm as tqdm\n",
    "import os\n",
    "import json\n",
    "import pandas as pd\n",
    "\n",
    "from HGNN.train.configParser import ConfigParser, getModelName, getDatasetName\n",
    "from myhelpers import TrialStatistics"
   ]
  },
  {
   "cell_type": "markdown",
   "metadata": {},
   "source": [
    "parameters"
   ]
  },
  {
   "cell_type": "code",
   "execution_count": 6,
   "metadata": {},
   "outputs": [],
   "source": [
    "experimentsPath=\"/raid/elhamod/Fish/experiments/\"\n",
    "dataPath=\"/raid/elhamod/Fish/\"\n",
    "experimentName=\"biology_paper_easy_curated4_Medium\"\n",
    "\n",
    "cuda=6"
   ]
  },
  {
   "cell_type": "markdown",
   "metadata": {},
   "source": [
    "file and changes"
   ]
  },
  {
   "cell_type": "code",
   "execution_count": 7,
   "metadata": {},
   "outputs": [],
   "source": [
    "old_params_file = os.path.join(experimentsPath, experimentName, \"params.json\")\n",
    "\n",
    "# Keep same order as ConfigParserWriter!\n",
    "changes = {\n",
    "    'noSpeciesBackprop': False\n",
    "}\n",
    "removes = []"
   ]
  },
  {
   "cell_type": "markdown",
   "metadata": {},
   "source": [
    "prepare"
   ]
  },
  {
   "cell_type": "code",
   "execution_count": 8,
   "metadata": {},
   "outputs": [],
   "source": [
    "config_parser = ConfigParser(experimentsPath, dataPath, experimentName)\n",
    "paramsIterator = config_parser.getExperiments()  \n",
    "number_of_experiments = sum(1 for e in paramsIterator)\n",
    "\n",
    "# populate a hash table of all experiments, indexed by trial hash\n",
    "experiments = {}\n",
    "for i, experiment_params in enumerate(config_parser.getExperiments(fixExperiments=False)):\n",
    "    num_of_models = experiment_params[\"numOfTrials\"]\n",
    "    for k in range(num_of_models):\n",
    "        old_trialHash = TrialStatistics.getTrialName(experiment_params, k)\n",
    "        experiment_params_new = {**experiment_params, **changes} \n",
    "        for key in removes:\n",
    "            experiment_params_new.pop(key, None)\n",
    "        experiment_params_new = config_parser.fixExperimentParams(experiment_params_new)\n",
    "        new_trialHash = TrialStatistics.getTrialName(experiment_params_new, k)\n",
    "        experiments[old_trialHash] = {\"trialHash\": new_trialHash}"
   ]
  },
  {
   "cell_type": "markdown",
   "metadata": {},
   "source": [
    "Fix models"
   ]
  },
  {
   "cell_type": "code",
   "execution_count": 9,
   "metadata": {},
   "outputs": [
    {
     "data": {
      "application/vnd.jupyter.widget-view+json": {
       "model_id": "d1bdeef7a3424a4cbbdcdd4b1c808779",
       "version_major": 2,
       "version_minor": 0
      },
      "text/plain": [
       "HBox(children=(FloatProgress(value=0.0, description='experiment', max=3.0, style=ProgressStyle(description_wid…"
      ]
     },
     "metadata": {},
     "output_type": "display_data"
    },
    {
     "data": {
      "application/vnd.jupyter.widget-view+json": {
       "model_id": "2ef4ad7bc0234adb82253b5face29c1e",
       "version_major": 2,
       "version_minor": 0
      },
      "text/plain": [
       "HBox(children=(FloatProgress(value=0.0, description='trial', max=5.0, style=ProgressStyle(description_width='i…"
      ]
     },
     "metadata": {},
     "output_type": "display_data"
    },
    {
     "name": "stdout",
     "output_type": "stream",
     "text": [
      "model /raid/elhamod/Fish/experiments/biology_paper_easy_curated4_Medium/models/44b7a85e063d736759f317afbf4da47220d7fa4f6cd02b5cd96a7a32 -> /raid/elhamod/Fish/experiments/biology_paper_easy_curated4_Medium/models/7c5553ab57de8ea7c22abee6033c9746c5cd2fa3b2c1ea5fcd75adbe updated\n",
      "json /raid/elhamod/Fish/experiments/biology_paper_easy_curated4_Medium/models/7c5553ab57de8ea7c22abee6033c9746c5cd2fa3b2c1ea5fcd75adbe/params.json updated\n",
      "model /raid/elhamod/Fish/experiments/biology_paper_easy_curated4_Medium/models/e1510d6d987b113c83a20b6da99bb3b0b97ac392721c2e3003f6e711 -> /raid/elhamod/Fish/experiments/biology_paper_easy_curated4_Medium/models/64bb30916efa6ebe01c82214e8c0686711fbafdce47aa7ff1826344d updated\n",
      "json /raid/elhamod/Fish/experiments/biology_paper_easy_curated4_Medium/models/64bb30916efa6ebe01c82214e8c0686711fbafdce47aa7ff1826344d/params.json updated\n",
      "model /raid/elhamod/Fish/experiments/biology_paper_easy_curated4_Medium/models/6a3d26b0dbafe3d2f913913c5bdc8859e63dbc74c1063e87011bbd05 -> /raid/elhamod/Fish/experiments/biology_paper_easy_curated4_Medium/models/df4b302f8ee7c3aa1e6f6b6f32e6ae3c0808ebba771ee14bda4198b9 updated\n",
      "json /raid/elhamod/Fish/experiments/biology_paper_easy_curated4_Medium/models/df4b302f8ee7c3aa1e6f6b6f32e6ae3c0808ebba771ee14bda4198b9/params.json updated\n",
      "model /raid/elhamod/Fish/experiments/biology_paper_easy_curated4_Medium/models/f55cb0c9e057110ed86fa3682cf08fb37b3d27d8046bc97c5546e880 -> /raid/elhamod/Fish/experiments/biology_paper_easy_curated4_Medium/models/40fdfa8fd2c78dafeec40130a327ab068161a27c8329432bb5842e7c updated\n",
      "json /raid/elhamod/Fish/experiments/biology_paper_easy_curated4_Medium/models/40fdfa8fd2c78dafeec40130a327ab068161a27c8329432bb5842e7c/params.json updated\n",
      "model /raid/elhamod/Fish/experiments/biology_paper_easy_curated4_Medium/models/3647ae459c78977d3d02492515d079123c1305d4aea1fbe4e45d2b2b -> /raid/elhamod/Fish/experiments/biology_paper_easy_curated4_Medium/models/75631a44387105fd97f64d9c1d9e6e28d6b5d7085ee41803179829df updated\n",
      "json /raid/elhamod/Fish/experiments/biology_paper_easy_curated4_Medium/models/75631a44387105fd97f64d9c1d9e6e28d6b5d7085ee41803179829df/params.json updated\n",
      "\n"
     ]
    },
    {
     "data": {
      "application/vnd.jupyter.widget-view+json": {
       "model_id": "0e5fa8a937f3475182ffb21e5a059064",
       "version_major": 2,
       "version_minor": 0
      },
      "text/plain": [
       "HBox(children=(FloatProgress(value=0.0, description='trial', max=5.0, style=ProgressStyle(description_width='i…"
      ]
     },
     "metadata": {},
     "output_type": "display_data"
    },
    {
     "name": "stdout",
     "output_type": "stream",
     "text": [
      "model /raid/elhamod/Fish/experiments/biology_paper_easy_curated4_Medium/models/5b37447d8a18a795d2d6da930c9783a47d75cbf4e7a4d00981e5bded -> /raid/elhamod/Fish/experiments/biology_paper_easy_curated4_Medium/models/ee13228d7c6eb1b2324bf3902a802a8df89df574c347e208bbb436b9 updated\n",
      "json /raid/elhamod/Fish/experiments/biology_paper_easy_curated4_Medium/models/ee13228d7c6eb1b2324bf3902a802a8df89df574c347e208bbb436b9/params.json updated\n",
      "model /raid/elhamod/Fish/experiments/biology_paper_easy_curated4_Medium/models/73610210e7696c62681af075f7522b635acdcff004ff37502db12bb9 -> /raid/elhamod/Fish/experiments/biology_paper_easy_curated4_Medium/models/ad2b4f04e479fbc990cfb07b5127bd9c259a93f2f04b60c38b89389e updated\n",
      "json /raid/elhamod/Fish/experiments/biology_paper_easy_curated4_Medium/models/ad2b4f04e479fbc990cfb07b5127bd9c259a93f2f04b60c38b89389e/params.json updated\n",
      "model /raid/elhamod/Fish/experiments/biology_paper_easy_curated4_Medium/models/0186a956166df039378f0a7d02bbbc74689b60499b4b443a80d05fa9 -> /raid/elhamod/Fish/experiments/biology_paper_easy_curated4_Medium/models/73a5ac62c833bd6dfa45a55f3d5d75e638b15fc67191685e1aac20aa updated\n",
      "json /raid/elhamod/Fish/experiments/biology_paper_easy_curated4_Medium/models/73a5ac62c833bd6dfa45a55f3d5d75e638b15fc67191685e1aac20aa/params.json updated\n",
      "model /raid/elhamod/Fish/experiments/biology_paper_easy_curated4_Medium/models/5f409ed8e91c10e2578493bc71be35bb99607593b29972792d80dfbb -> /raid/elhamod/Fish/experiments/biology_paper_easy_curated4_Medium/models/496e2a040ab9601815f57f6e09270ff060ca6ef37d68c73e5ff76b7b updated\n",
      "json /raid/elhamod/Fish/experiments/biology_paper_easy_curated4_Medium/models/496e2a040ab9601815f57f6e09270ff060ca6ef37d68c73e5ff76b7b/params.json updated\n",
      "model /raid/elhamod/Fish/experiments/biology_paper_easy_curated4_Medium/models/0cfbdfdf9e8c6ce08f41dd5d7e0bc74580791023907b4229151ebb08 -> /raid/elhamod/Fish/experiments/biology_paper_easy_curated4_Medium/models/b9902a0045dae3c0bbea122214a5d214d5fa1b3d4c8fdb87bfbf0bc4 updated\n",
      "json /raid/elhamod/Fish/experiments/biology_paper_easy_curated4_Medium/models/b9902a0045dae3c0bbea122214a5d214d5fa1b3d4c8fdb87bfbf0bc4/params.json updated\n",
      "\n"
     ]
    },
    {
     "data": {
      "application/vnd.jupyter.widget-view+json": {
       "model_id": "e1e3307be2c74b48b10573114602d5d5",
       "version_major": 2,
       "version_minor": 0
      },
      "text/plain": [
       "HBox(children=(FloatProgress(value=0.0, description='trial', max=5.0, style=ProgressStyle(description_width='i…"
      ]
     },
     "metadata": {},
     "output_type": "display_data"
    },
    {
     "name": "stdout",
     "output_type": "stream",
     "text": [
      "model /raid/elhamod/Fish/experiments/biology_paper_easy_curated4_Medium/models/a168942edfe62c0a3cb27e9141b455fc6ecf5b6ad661d053d27a304a -> /raid/elhamod/Fish/experiments/biology_paper_easy_curated4_Medium/models/582ad659eb796c3591ac9b51cd98c4e54884c95d6044feaf3c4eaec0 updated\n",
      "json /raid/elhamod/Fish/experiments/biology_paper_easy_curated4_Medium/models/582ad659eb796c3591ac9b51cd98c4e54884c95d6044feaf3c4eaec0/params.json updated\n",
      "model /raid/elhamod/Fish/experiments/biology_paper_easy_curated4_Medium/models/57ea8c75e9c2923f00610b2078a7935a75db66a55841c36e5c52e532 -> /raid/elhamod/Fish/experiments/biology_paper_easy_curated4_Medium/models/d54709aa61527b46121b14f871475b4bd7cc2a5134eef6545658355e updated\n",
      "json /raid/elhamod/Fish/experiments/biology_paper_easy_curated4_Medium/models/d54709aa61527b46121b14f871475b4bd7cc2a5134eef6545658355e/params.json updated\n",
      "model /raid/elhamod/Fish/experiments/biology_paper_easy_curated4_Medium/models/0f30ad38db23f11d6e59cf18672aacb060e342958168886718fee7b0 -> /raid/elhamod/Fish/experiments/biology_paper_easy_curated4_Medium/models/ac8ee2c7f2e29316aacc7a62f60d9515d997b62912e9fa666e53bf64 updated\n",
      "json /raid/elhamod/Fish/experiments/biology_paper_easy_curated4_Medium/models/ac8ee2c7f2e29316aacc7a62f60d9515d997b62912e9fa666e53bf64/params.json updated\n",
      "model /raid/elhamod/Fish/experiments/biology_paper_easy_curated4_Medium/models/582153c10bb0e4dfd3597e92ac0da07fb88c14dc601139bd9aa5c47c -> /raid/elhamod/Fish/experiments/biology_paper_easy_curated4_Medium/models/319c12a73e653fcc25f6dba750c447a5b127fc1ffdbe8e1696a951a9 updated\n",
      "json /raid/elhamod/Fish/experiments/biology_paper_easy_curated4_Medium/models/319c12a73e653fcc25f6dba750c447a5b127fc1ffdbe8e1696a951a9/params.json updated\n",
      "model /raid/elhamod/Fish/experiments/biology_paper_easy_curated4_Medium/models/47e06e75ceade1f7391d552dbe82f10b33e66211ef718e02c755dc49 -> /raid/elhamod/Fish/experiments/biology_paper_easy_curated4_Medium/models/c3d9096b16107f1f5110d6f7358a5c7f9ac1fd6e223cd38c0d4b0b64 updated\n",
      "json /raid/elhamod/Fish/experiments/biology_paper_easy_curated4_Medium/models/c3d9096b16107f1f5110d6f7358a5c7f9ac1fd6e223cd38c0d4b0b64/params.json updated\n",
      "\n",
      "\n"
     ]
    }
   ],
   "source": [
    "with tqdm(total=number_of_experiments, desc=\"experiment\") as bar:\n",
    "    for i, experiment_params in enumerate(config_parser.getExperiments(fixExperiments=False)):\n",
    "        experiment_params_new = {**experiment_params, **changes} \n",
    "        for key in removes:\n",
    "            experiment_params_new.pop(key, None)\n",
    "        experiment_params_new = config_parser.fixExperimentParams(experiment_params_new)\n",
    "\n",
    "        num_of_models = experiment_params[\"numOfTrials\"]\n",
    "        with tqdm(total=num_of_models, desc=\"trial\") as bar2:\n",
    "            for k in range(num_of_models):\n",
    "            \n",
    "                # Fix model names\n",
    "                old_model_name = getModelName(experiment_params, k)\n",
    "                old_modelPath = os.path.join(experimentsPath, experimentName, old_model_name)\n",
    "                new_model_name = getModelName(experiment_params_new, k)\n",
    "                new_modelPath = os.path.join(experimentsPath, experimentName, new_model_name)\n",
    "\n",
    "                try:\n",
    "                    if os.path.exists(old_modelPath):\n",
    "                        os.rename(old_modelPath, new_modelPath)\n",
    "                        print(\"model\", old_modelPath, '->', new_modelPath, \"updated\")\n",
    "\n",
    "                        j = json.dumps(experiment_params_new)\n",
    "                        json_fileName = os.path.join(new_modelPath, 'params.json')\n",
    "                        f = open(json_fileName,\"w\")        \n",
    "                        f.write(j)\n",
    "                        f.close()  \n",
    "                        print(\"json\", json_fileName, \"updated\")\n",
    "                    else:\n",
    "                        raise\n",
    "                    \n",
    "                except:\n",
    "                    print(\"model\", old_model_name, \"could not be fixed to\", new_model_name)\n",
    "                    pass  \n",
    "                \n",
    "                \n",
    "\n",
    "                bar2.update()\n",
    "                \n",
    "                experiments[TrialStatistics.getTrialName(experiment_params, k)]['modelName'] = new_model_name\n",
    "\n",
    "        bar.update()"
   ]
  },
  {
   "cell_type": "markdown",
   "metadata": {},
   "source": [
    "Fix results directory"
   ]
  },
  {
   "cell_type": "code",
   "execution_count": 10,
   "metadata": {},
   "outputs": [
    {
     "data": {
      "application/vnd.jupyter.widget-view+json": {
       "model_id": "fc7f69935f1b4aadade1e559c25c5ff5",
       "version_major": 2,
       "version_minor": 0
      },
      "text/plain": [
       "HBox(children=(FloatProgress(value=0.0, description='experiment', max=3.0, style=ProgressStyle(description_wid…"
      ]
     },
     "metadata": {},
     "output_type": "display_data"
    },
    {
     "name": "stdout",
     "output_type": "stream",
     "text": [
      "result 9c0473ffd9835bbb11c86fe1a7a81b8d266ebf2d05424c808254b3aa could not be fixed to e038ec76e27af102775f1c996ec1656c3a1a3da7ee222933c83f3cf8\n",
      "result /raid/elhamod/Fish/experiments/biology_paper_easy_curated4_Medium/results/3d489de055d56e86e143c33b0fb5457c8fa4ab4cd85c8db8d95b16df -> /raid/elhamod/Fish/experiments/biology_paper_easy_curated4_Medium/results/82953d4489fca9af0efa6a8e3a815172a24a6f97969b70ef0902b878 updated\n",
      "json /raid/elhamod/Fish/experiments/biology_paper_easy_curated4_Medium/results/82953d4489fca9af0efa6a8e3a815172a24a6f97969b70ef0902b878/params.json updated\n",
      "result /raid/elhamod/Fish/experiments/biology_paper_easy_curated4_Medium/results/f909b1ae626c5ea0c35ce9bcf057f61034c8cc25ae268910f25c9502 -> /raid/elhamod/Fish/experiments/biology_paper_easy_curated4_Medium/results/a5ebbe208fd77f10b532d2ee86a00700eb5a14624204a1b5a1e2aa1f updated\n",
      "json /raid/elhamod/Fish/experiments/biology_paper_easy_curated4_Medium/results/a5ebbe208fd77f10b532d2ee86a00700eb5a14624204a1b5a1e2aa1f/params.json updated\n",
      "\n"
     ]
    }
   ],
   "source": [
    "with tqdm(total=number_of_experiments, desc=\"experiment\") as bar:\n",
    "    for i, experiment_params in enumerate(config_parser.getExperiments(fixExperiments=False)):\n",
    "        experiment_params_new = {**experiment_params, **changes} \n",
    "        for key in removes:\n",
    "            experiment_params_new.pop(key, None)\n",
    "        experiment_params_new = config_parser.fixExperimentParams(experiment_params_new)\n",
    "\n",
    "        old_experimentHash = TrialStatistics.getTrialName(experiment_params)\n",
    "        old_experimentPath = os.path.join(experimentsPath, experimentName, \"results\", old_experimentHash)\n",
    "        new_experimentHash = TrialStatistics.getTrialName(experiment_params_new)\n",
    "        new_experimentPath = os.path.join(experimentsPath, experimentName, \"results\", new_experimentHash)\n",
    "        \n",
    "        try:\n",
    "            if os.path.exists(old_experimentPath):\n",
    "\n",
    "                os.rename(old_experimentPath, new_experimentPath)\n",
    "                print(\"result\", old_experimentPath, '->', new_experimentPath, \"updated\")\n",
    "\n",
    "                j = json.dumps(experiment_params_new)\n",
    "                json_fileName = os.path.join(new_experimentPath, 'params.json')\n",
    "                f = open(json_fileName,\"w\")        \n",
    "                f.write(j)\n",
    "                f.close()  \n",
    "                print(\"json\", json_fileName, \"updated\")\n",
    "            else:\n",
    "                raise\n",
    "                \n",
    "        except:\n",
    "            print(\"result\", old_experimentHash, \"could not be fixed to\",new_experimentHash)\n",
    "            pass \n",
    "        \n",
    "        experiments[TrialStatistics.getTrialName(experiment_params, 0)]['experimentHash'] = new_experimentHash\n",
    "        \n",
    "        bar.update()"
   ]
  },
  {
   "cell_type": "markdown",
   "metadata": {},
   "source": [
    "Fix experiments file"
   ]
  },
  {
   "cell_type": "code",
   "execution_count": 11,
   "metadata": {},
   "outputs": [
    {
     "data": {
      "application/vnd.jupyter.widget-view+json": {
       "model_id": "1b6efc475aff47bbad7f39ab0117323e",
       "version_major": 2,
       "version_minor": 0
      },
      "text/plain": [
       "HBox(children=(FloatProgress(value=0.0, description='experiment', max=3.0, style=ProgressStyle(description_wid…"
      ]
     },
     "metadata": {},
     "output_type": "display_data"
    },
    {
     "data": {
      "application/vnd.jupyter.widget-view+json": {
       "model_id": "bf8f44408c024511bb1cef332e947a44",
       "version_major": 2,
       "version_minor": 0
      },
      "text/plain": [
       "HBox(children=(FloatProgress(value=0.0, description='trial', max=5.0, style=ProgressStyle(description_width='i…"
      ]
     },
     "metadata": {},
     "output_type": "display_data"
    },
    {
     "name": "stdout",
     "output_type": "stream",
     "text": [
      "trialHash 44b7a85e063d736759f317afbf4da47220d7fa4f6cd02b5cd96a7a32 could not be updated!\n",
      "trialHash e1510d6d987b113c83a20b6da99bb3b0b97ac392721c2e3003f6e711 could not be updated!\n",
      "trialHash 6a3d26b0dbafe3d2f913913c5bdc8859e63dbc74c1063e87011bbd05 could not be updated!\n",
      "trialHash f55cb0c9e057110ed86fa3682cf08fb37b3d27d8046bc97c5546e880 could not be updated!\n",
      "trialHash 3647ae459c78977d3d02492515d079123c1305d4aea1fbe4e45d2b2b could not be updated!\n",
      "\n"
     ]
    },
    {
     "name": "stderr",
     "output_type": "stream",
     "text": [
      "/home/elhamod/melhamodenv3/lib/python3.6/site-packages/ipykernel_launcher.py:23: UserWarning: Boolean Series key will be reindexed to match DataFrame index.\n",
      "/home/elhamod/melhamodenv3/lib/python3.6/site-packages/ipykernel_launcher.py:28: UserWarning: Boolean Series key will be reindexed to match DataFrame index.\n"
     ]
    },
    {
     "data": {
      "application/vnd.jupyter.widget-view+json": {
       "model_id": "e9ad50d1eb9f4be8aad6370a746df95c",
       "version_major": 2,
       "version_minor": 0
      },
      "text/plain": [
       "HBox(children=(FloatProgress(value=0.0, description='trial', max=5.0, style=ProgressStyle(description_width='i…"
      ]
     },
     "metadata": {},
     "output_type": "display_data"
    },
    {
     "name": "stdout",
     "output_type": "stream",
     "text": [
      "trialHash 5b37447d8a18a795d2d6da930c9783a47d75cbf4e7a4d00981e5bded could not be updated!\n",
      "trialHash 73610210e7696c62681af075f7522b635acdcff004ff37502db12bb9 could not be updated!\n",
      "trialHash 0186a956166df039378f0a7d02bbbc74689b60499b4b443a80d05fa9 could not be updated!\n",
      "trialHash 5f409ed8e91c10e2578493bc71be35bb99607593b29972792d80dfbb could not be updated!\n",
      "trialHash 0cfbdfdf9e8c6ce08f41dd5d7e0bc74580791023907b4229151ebb08 could not be updated!\n",
      "\n"
     ]
    },
    {
     "data": {
      "application/vnd.jupyter.widget-view+json": {
       "model_id": "35f006518bf043359da90d6261e5bace",
       "version_major": 2,
       "version_minor": 0
      },
      "text/plain": [
       "HBox(children=(FloatProgress(value=0.0, description='trial', max=5.0, style=ProgressStyle(description_width='i…"
      ]
     },
     "metadata": {},
     "output_type": "display_data"
    },
    {
     "name": "stdout",
     "output_type": "stream",
     "text": [
      "trialHash a168942edfe62c0a3cb27e9141b455fc6ecf5b6ad661d053d27a304a could not be updated!\n",
      "trialHash 57ea8c75e9c2923f00610b2078a7935a75db66a55841c36e5c52e532 could not be updated!\n",
      "trialHash 0f30ad38db23f11d6e59cf18672aacb060e342958168886718fee7b0 could not be updated!\n",
      "trialHash 582153c10bb0e4dfd3597e92ac0da07fb88c14dc601139bd9aa5c47c could not be updated!\n",
      "trialHash 47e06e75ceade1f7391d552dbe82f10b33e66211ef718e02c755dc49 could not be updated!\n",
      "\n",
      "\n"
     ]
    }
   ],
   "source": [
    "# open experiments.csv file\n",
    "experimentsFileNameAndPath=os.path.join(experimentsPath, \"experiments.csv\")\n",
    "experiments_file= pd.read_csv(experimentsFileNameAndPath)\n",
    "\n",
    "# For all experiments\n",
    "with tqdm(total=number_of_experiments, desc=\"experiment\") as bar:\n",
    "    for i, experiment_params in enumerate(config_parser.getExperiments(fixExperiments=False)):\n",
    "        \n",
    "        numOfTrials = experiment_params[\"numOfTrials\"]\n",
    "        trialHash_0 = TrialStatistics.getTrialName(experiment_params, 0) # used for keys who don't change for different trials\n",
    "        for key in removes:\n",
    "            experiment_params_new.pop(key, None)\n",
    "        experiment_params_new = {**experiment_params, **changes} \n",
    "        experiment_params_new = config_parser.fixExperimentParams(experiment_params_new)\n",
    "        \n",
    "        # For all trials\n",
    "        with tqdm(total=num_of_models, desc=\"trial\") as bar2:\n",
    "            for j in range(numOfTrials):\n",
    "                \n",
    "                trialHash = TrialStatistics.getTrialName(experiment_params, j)\n",
    "                try:\n",
    "                    # If old entry doesn't exist, nothing to update\n",
    "                    record_exists = not (experiments_file[experiments_file['trialHash'] == trialHash][experiments_file['experimentName'] == experimentName]).empty\n",
    "                    if record_exists:\n",
    "                        \n",
    "                        # drop old row and caluclate new row\n",
    "                        new_trialHash = experiments[trialHash][\"trialHash\"]\n",
    "                        experiments_file.drop(experiments_file[experiments_file['trialHash'] == trialHash][experiments_file['experimentName'] == experimentName].index, inplace = True) \n",
    "                        row_information = {\n",
    "                            'experimentName': experimentName,\n",
    "                            'modelName': experiments[trialHash][\"modelName\"],\n",
    "                            'datasetName': experiments[trialHash_0][\"datasetName\"],\n",
    "                            'experimentHash': experiments[trialHash_0][\"experimentHash\"],\n",
    "                            'trialHash': new_trialHash\n",
    "                        }\n",
    "                        row_information = {**row_information, **experiment_params_new} \n",
    "\n",
    "                        # error handling to avoid duplicates\n",
    "                        record_exists = not (experiments_file[experiments_file['trialHash'] == new_trialHash][experiments_file['experimentName'] == experimentName]).empty\n",
    "                        if record_exists:\n",
    "                            experiments_file.drop(experiments_file[experiments_file['trialHash'] == new_trialHash][experiments_file['experimentName'] == experimentName].index, inplace = True) \n",
    "\n",
    "                        # update with new entry    \n",
    "                        experiments_file = experiments_file.append(pd.DataFrame(row_information, index=[0]), ignore_index = True)\n",
    "                        print(\"trialHash\", trialHash, \"->\", new_trialHash, \"updated\")\n",
    "                except:\n",
    "                    print(\"trialHash\", trialHash, \"could not be updated!\")\n",
    "                    pass\n",
    "                bar2.update()\n",
    "        bar.update()\n",
    "\n",
    "# resave file\n",
    "experiments_file.to_csv(experimentsFileNameAndPath, header=True, index=False)"
   ]
  },
  {
   "cell_type": "markdown",
   "metadata": {},
   "source": [
    "Fix params file"
   ]
  },
  {
   "cell_type": "code",
   "execution_count": 12,
   "metadata": {},
   "outputs": [
    {
     "data": {
      "application/vnd.jupyter.widget-view+json": {
       "model_id": "669cd4a4f72044658b7c181e4a226b42",
       "version_major": 2,
       "version_minor": 0
      },
      "text/plain": [
       "HBox(children=(FloatProgress(value=0.0, description='experiment', max=3.0, style=ProgressStyle(description_wid…"
      ]
     },
     "metadata": {},
     "output_type": "display_data"
    },
    {
     "name": "stdout",
     "output_type": "stream",
     "text": [
      "{'image_path': 'Curated4/Medium', 'suffix': 'curated_30_50', 'img_res': 448, 'augmented': True, 'batchSize': 64, 'learning_rate': 0.0001, 'numOfTrials': 5, 'fc_layers': 1, 'modelType': 'HGNN_add', 'lambda': 0.01, 'unsupervisedOnTest': False, 'tl_model': 'ResNet18', 'link_layer': 'avgpool', 'adaptive_smoothing': True, 'adaptive_lambda': 0.01, 'adaptive_alpha': 0.9, 'noSpeciesBackprop': False}\n",
      "{'image_path': 'Curated4/Medium', 'suffix': 'curated_30_50', 'img_res': 448, 'augmented': True, 'batchSize': 64, 'learning_rate': 0.0001, 'numOfTrials': 5, 'fc_layers': 1, 'modelType': 'BB', 'lambda': 0.01, 'unsupervisedOnTest': False, 'tl_model': 'ResNet18', 'link_layer': 'avgpool', 'adaptive_smoothing': True, 'adaptive_lambda': 0.01, 'adaptive_alpha': 0.9, 'noSpeciesBackprop': False}\n",
      "{'image_path': 'Curated4/Medium', 'suffix': 'curated_30_50', 'img_res': 448, 'augmented': True, 'batchSize': 64, 'learning_rate': 0.0001, 'numOfTrials': 5, 'fc_layers': 1, 'modelType': 'DSN', 'lambda': 0.01, 'unsupervisedOnTest': False, 'tl_model': 'ResNet18', 'link_layer': 'avgpool', 'adaptive_smoothing': True, 'adaptive_lambda': 0.01, 'adaptive_alpha': 0.9, 'noSpeciesBackprop': False}\n",
      "\n",
      "json /raid/elhamod/Fish/experiments/biology_paper_easy_curated4_Medium/params.json updated\n"
     ]
    }
   ],
   "source": [
    "experiment_list = []\n",
    "with tqdm(total=number_of_experiments, desc=\"experiment\") as bar:\n",
    "    for i, experiment_params in enumerate(config_parser.getExperiments(fixExperiments=False)):\n",
    "        \n",
    "        experiment_params_new = {**experiment_params, **changes} \n",
    "        for key in removes:\n",
    "            experiment_params_new.pop(key, None)\n",
    "        print(experiment_params_new)\n",
    "        experiment_list.append(experiment_params_new)\n",
    "        bar.update()\n",
    "\n",
    "\n",
    "j = json.dumps({\"experimentList\": experiment_list})\n",
    "f = open(old_params_file,\"w\")        \n",
    "f.write(j)\n",
    "f.close()  \n",
    "print(\"json\", old_params_file, \"updated\")"
   ]
  },
  {
   "cell_type": "code",
   "execution_count": null,
   "metadata": {},
   "outputs": [],
   "source": []
  }
 ],
 "metadata": {
  "kernelspec": {
   "display_name": "Python 3",
   "language": "python",
   "name": "python3"
  },
  "language_info": {
   "codemirror_mode": {
    "name": "ipython",
    "version": 3
   },
   "file_extension": ".py",
   "mimetype": "text/x-python",
   "name": "python",
   "nbconvert_exporter": "python",
   "pygments_lexer": "ipython3",
   "version": "3.6.9"
  }
 },
 "nbformat": 4,
 "nbformat_minor": 4
}
