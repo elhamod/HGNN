{
 "cells": [
  {
   "cell_type": "markdown",
   "metadata": {},
   "source": [
    "imports"
   ]
  },
  {
   "cell_type": "code",
   "execution_count": 1,
   "metadata": {},
   "outputs": [],
   "source": [
    "from tqdm.notebook import tqdm as tqdm\n",
    "import os\n",
    "import json\n",
    "import pandas as pd\n",
    "\n",
    "from HGNN.train.configParser import ConfigParser, getModelName, getDatasetName\n",
    "from myhelpers import TrialStatistics"
   ]
  },
  {
   "cell_type": "markdown",
   "metadata": {},
   "source": [
    "parameters"
   ]
  },
  {
   "cell_type": "code",
   "execution_count": 2,
   "metadata": {},
   "outputs": [],
   "source": [
    "experimentsPath=\"/home/elhamod/HGNN/experiments/\"\n",
    "dataPath=\"/data/BGNN_data\"\n",
    "experimentName=\"MoreExperimentsFineTune\"\n",
    "\n",
    "cuda=6"
   ]
  },
  {
   "cell_type": "markdown",
   "metadata": {},
   "source": [
    "file and changes"
   ]
  },
  {
   "cell_type": "code",
   "execution_count": 3,
   "metadata": {},
   "outputs": [],
   "source": [
    "old_params_file = os.path.join(experimentsPath, experimentName, \"params.json\")\n",
    "\n",
    "# Keep same order as ConfigParserWriter!\n",
    "changes = {\n",
    "\n",
    "}"
   ]
  },
  {
   "cell_type": "markdown",
   "metadata": {},
   "source": [
    "prepare"
   ]
  },
  {
   "cell_type": "code",
   "execution_count": 4,
   "metadata": {},
   "outputs": [],
   "source": [
    "config_parser = ConfigParser(experimentsPath, dataPath, experimentName)\n",
    "paramsIterator = config_parser.getExperiments()  \n",
    "number_of_experiments = sum(1 for e in paramsIterator)\n",
    "\n",
    "# populate a hash table of all experiments, indexed by trial hash\n",
    "experiments = {}\n",
    "for i, experiment_params in enumerate(config_parser.getExperiments(fixExperiments=False)):\n",
    "    num_of_models = experiment_params[\"numOfTrials\"]\n",
    "    for k in range(num_of_models):\n",
    "        old_trialHash = TrialStatistics.getTrialName(experiment_params, k)\n",
    "        experiment_params_new = {**experiment_params, **changes} \n",
    "        experiment_params_new = config_parser.fixExperimentParams(experiment_params_new)\n",
    "        new_trialHash = TrialStatistics.getTrialName(experiment_params_new, k)\n",
    "        experiments[old_trialHash] = {\"trialHash\": new_trialHash}"
   ]
  },
  {
   "cell_type": "markdown",
   "metadata": {},
   "source": [
    "Fix data splits"
   ]
  },
  {
   "cell_type": "code",
   "execution_count": 5,
   "metadata": {},
   "outputs": [
    {
     "data": {
      "application/vnd.jupyter.widget-view+json": {
       "model_id": "a4d4a83a9fa34d54832d45feead74f88",
       "version_major": 2,
       "version_minor": 0
      },
      "text/plain": [
       "HBox(children=(FloatProgress(value=0.0, description='experiment', max=3.0, style=ProgressStyle(description_wid…"
      ]
     },
     "metadata": {},
     "output_type": "display_data"
    },
    {
     "name": "stdout",
     "output_type": "stream",
     "text": [
      "datasplit /home/elhamod/HGNN/experiments/MoreExperimentsFineTune/datasplits/8abeaa923bd09bce60acac49f8d867e75f3c57d47370f417140df18a -> /home/elhamod/HGNN/experiments/MoreExperimentsFineTune/datasplits/8abeaa923bd09bce60acac49f8d867e75f3c57d47370f417140df18a updated\n",
      "json /home/elhamod/HGNN/experiments/MoreExperimentsFineTune/datasplits/8abeaa923bd09bce60acac49f8d867e75f3c57d47370f417140df18a/params.json updated\n",
      "datasplit /home/elhamod/HGNN/experiments/MoreExperimentsFineTune/datasplits/8abeaa923bd09bce60acac49f8d867e75f3c57d47370f417140df18a -> /home/elhamod/HGNN/experiments/MoreExperimentsFineTune/datasplits/8abeaa923bd09bce60acac49f8d867e75f3c57d47370f417140df18a updated\n",
      "json /home/elhamod/HGNN/experiments/MoreExperimentsFineTune/datasplits/8abeaa923bd09bce60acac49f8d867e75f3c57d47370f417140df18a/params.json updated\n",
      "datasplit /home/elhamod/HGNN/experiments/MoreExperimentsFineTune/datasplits/8abeaa923bd09bce60acac49f8d867e75f3c57d47370f417140df18a -> /home/elhamod/HGNN/experiments/MoreExperimentsFineTune/datasplits/8abeaa923bd09bce60acac49f8d867e75f3c57d47370f417140df18a updated\n",
      "json /home/elhamod/HGNN/experiments/MoreExperimentsFineTune/datasplits/8abeaa923bd09bce60acac49f8d867e75f3c57d47370f417140df18a/params.json updated\n",
      "\n"
     ]
    }
   ],
   "source": [
    "with tqdm(total=number_of_experiments, desc=\"experiment\") as bar:\n",
    "    for i, experiment_params in enumerate(config_parser.getExperiments(fixExperiments=False)):\n",
    "        \n",
    "        # update experiment params\n",
    "        experiment_params_new = {**experiment_params, **changes} \n",
    "        experiment_params_new = config_parser.fixExperimentParams(experiment_params_new)\n",
    "\n",
    "        # fix data split names\n",
    "        old_dataset_name = getDatasetName(config_parser.fixPaths(experiment_params))\n",
    "        old_datasplitsPath = os.path.join(experimentsPath, experimentName, old_dataset_name)\n",
    "        new_dataset_name = getDatasetName(config_parser.fixPaths(experiment_params_new))\n",
    "        new_datasplitsPath = os.path.join(experimentsPath, experimentName, new_dataset_name)\n",
    "        \n",
    "        try:\n",
    "            if os.path.exists(old_datasplitsPath):\n",
    "\n",
    "                # update the folder names\n",
    "                os.rename(old_datasplitsPath, new_datasplitsPath)\n",
    "                print(\"datasplit\", old_datasplitsPath, '->', new_datasplitsPath, \"updated\")\n",
    "\n",
    "                # update the params.json\n",
    "                j = json.dumps(experiment_params_new)\n",
    "                json_fileName = os.path.join(new_datasplitsPath, 'params.json')\n",
    "                f = open(json_fileName,\"w\")        \n",
    "                f.write(j)\n",
    "                f.close()  \n",
    "                print(\"json\", json_fileName, \"updated\")\n",
    "                \n",
    "            else:\n",
    "                raise\n",
    "                \n",
    "        except:\n",
    "            print(\"datasplit\", old_dataset_name, \"could not be fixed to\", new_dataset_name)\n",
    "            pass   \n",
    "        \n",
    "        experiments[TrialStatistics.getTrialName(experiment_params, 0)]['datasetName'] = new_dataset_name\n",
    "\n",
    "        \n",
    "        bar.update()"
   ]
  },
  {
   "cell_type": "markdown",
   "metadata": {},
   "source": [
    "Fix models"
   ]
  },
  {
   "cell_type": "code",
   "execution_count": 6,
   "metadata": {},
   "outputs": [
    {
     "data": {
      "application/vnd.jupyter.widget-view+json": {
       "model_id": "0b2a690c18b0428a83ee1a0ae4aee1f2",
       "version_major": 2,
       "version_minor": 0
      },
      "text/plain": [
       "HBox(children=(FloatProgress(value=0.0, description='experiment', max=3.0, style=ProgressStyle(description_wid…"
      ]
     },
     "metadata": {},
     "output_type": "display_data"
    },
    {
     "data": {
      "application/vnd.jupyter.widget-view+json": {
       "model_id": "30a8077e4401417a94e55d69e7dde827",
       "version_major": 2,
       "version_minor": 0
      },
      "text/plain": [
       "HBox(children=(FloatProgress(value=0.0, description='trial', max=5.0, style=ProgressStyle(description_width='i…"
      ]
     },
     "metadata": {},
     "output_type": "display_data"
    },
    {
     "name": "stdout",
     "output_type": "stream",
     "text": [
      "model /home/elhamod/HGNN/experiments/MoreExperimentsFineTune/models/63f07da9402527a19f4cb7fc81ba5ff837963f98a89642a85a0e4115 -> /home/elhamod/HGNN/experiments/MoreExperimentsFineTune/models/e54637afeabef3ba1bfda6ff344ca33960ac1a7c4e8b97bd708f17a3 updated\n",
      "json /home/elhamod/HGNN/experiments/MoreExperimentsFineTune/models/e54637afeabef3ba1bfda6ff344ca33960ac1a7c4e8b97bd708f17a3/params.json updated\n",
      "model /home/elhamod/HGNN/experiments/MoreExperimentsFineTune/models/1511d0ea1ff040251d83d79fd09d95fee8b5fd26a79b9db189bdcca1 -> /home/elhamod/HGNN/experiments/MoreExperimentsFineTune/models/aec6f2fc19e1131bf3967eab0e04a666fcd0b2cf40c7366ce06210e1 updated\n",
      "json /home/elhamod/HGNN/experiments/MoreExperimentsFineTune/models/aec6f2fc19e1131bf3967eab0e04a666fcd0b2cf40c7366ce06210e1/params.json updated\n",
      "model /home/elhamod/HGNN/experiments/MoreExperimentsFineTune/models/e6d0cf6718b90964d51cc43c432d60b55a1a276c30ebcd583b59a2ad -> /home/elhamod/HGNN/experiments/MoreExperimentsFineTune/models/a72d57c5006e83ac4a445a2930361ea8b34e10d4f64b369f4b641038 updated\n",
      "json /home/elhamod/HGNN/experiments/MoreExperimentsFineTune/models/a72d57c5006e83ac4a445a2930361ea8b34e10d4f64b369f4b641038/params.json updated\n",
      "model /home/elhamod/HGNN/experiments/MoreExperimentsFineTune/models/3f993e3e8223dc3adc2b9c1be0d38f6a7e0497d487e29525a430120c -> /home/elhamod/HGNN/experiments/MoreExperimentsFineTune/models/e148e4dfff5386a8132fa24ac40b8a3035585a27112343526f3d618e updated\n",
      "json /home/elhamod/HGNN/experiments/MoreExperimentsFineTune/models/e148e4dfff5386a8132fa24ac40b8a3035585a27112343526f3d618e/params.json updated\n",
      "model /home/elhamod/HGNN/experiments/MoreExperimentsFineTune/models/4e018633bea985bc043cc6ba729b39272e9c24867680d228ca018074 -> /home/elhamod/HGNN/experiments/MoreExperimentsFineTune/models/cac707e326387cd0fcf04a98a39b6172a1d45fc4d6ec22cc3583b344 updated\n",
      "json /home/elhamod/HGNN/experiments/MoreExperimentsFineTune/models/cac707e326387cd0fcf04a98a39b6172a1d45fc4d6ec22cc3583b344/params.json updated\n",
      "\n"
     ]
    },
    {
     "data": {
      "application/vnd.jupyter.widget-view+json": {
       "model_id": "9bd66b8cdb6d4fbdaec119d06e4a8214",
       "version_major": 2,
       "version_minor": 0
      },
      "text/plain": [
       "HBox(children=(FloatProgress(value=0.0, description='trial', max=5.0, style=ProgressStyle(description_width='i…"
      ]
     },
     "metadata": {},
     "output_type": "display_data"
    },
    {
     "name": "stdout",
     "output_type": "stream",
     "text": [
      "model /home/elhamod/HGNN/experiments/MoreExperimentsFineTune/models/70e1140e973a6d54d0182ee94ceb19f011de7a919cf1e36be8e72bab -> /home/elhamod/HGNN/experiments/MoreExperimentsFineTune/models/2a0cb954e72e6052b04d0d64a5cb68f395b0c81b8490cb6956497835 updated\n",
      "json /home/elhamod/HGNN/experiments/MoreExperimentsFineTune/models/2a0cb954e72e6052b04d0d64a5cb68f395b0c81b8490cb6956497835/params.json updated\n",
      "model /home/elhamod/HGNN/experiments/MoreExperimentsFineTune/models/69d236330f76c1e00f43f67b7de3b9a0fdc3c7b92d1b6f95995f3ef2 -> /home/elhamod/HGNN/experiments/MoreExperimentsFineTune/models/0f26619e3a8960853124d2a3ac19c2735b69a1ed273ede5f34ff386f updated\n",
      "json /home/elhamod/HGNN/experiments/MoreExperimentsFineTune/models/0f26619e3a8960853124d2a3ac19c2735b69a1ed273ede5f34ff386f/params.json updated\n",
      "model /home/elhamod/HGNN/experiments/MoreExperimentsFineTune/models/cf69d9a84d0a0370d01e8d8e951fa44a7cae1ac83f57356a083cdbc2 -> /home/elhamod/HGNN/experiments/MoreExperimentsFineTune/models/818fa776e0fd137aca4ed1361781639bd2dbc2d183ed8b59ac0fc3c0 updated\n",
      "json /home/elhamod/HGNN/experiments/MoreExperimentsFineTune/models/818fa776e0fd137aca4ed1361781639bd2dbc2d183ed8b59ac0fc3c0/params.json updated\n",
      "model /home/elhamod/HGNN/experiments/MoreExperimentsFineTune/models/4ff879d4829fe8d5b5abc3439e381e31cfc99001f6691267cf3a0d25 -> /home/elhamod/HGNN/experiments/MoreExperimentsFineTune/models/288ec57f5b90cfadc4caa125b8682cf3add4b84e7ca73fd821017325 updated\n",
      "json /home/elhamod/HGNN/experiments/MoreExperimentsFineTune/models/288ec57f5b90cfadc4caa125b8682cf3add4b84e7ca73fd821017325/params.json updated\n",
      "model /home/elhamod/HGNN/experiments/MoreExperimentsFineTune/models/402b81e89f98caa15dee087c1f42bbb30254a5e4269c81559b153b11 -> /home/elhamod/HGNN/experiments/MoreExperimentsFineTune/models/38c8710896fb7650c429518b1e66426ea2dccb51cfb318fefb6a19f3 updated\n",
      "json /home/elhamod/HGNN/experiments/MoreExperimentsFineTune/models/38c8710896fb7650c429518b1e66426ea2dccb51cfb318fefb6a19f3/params.json updated\n",
      "\n"
     ]
    },
    {
     "data": {
      "application/vnd.jupyter.widget-view+json": {
       "model_id": "70b21cc90a6c43a28a3e85b90cba9a8c",
       "version_major": 2,
       "version_minor": 0
      },
      "text/plain": [
       "HBox(children=(FloatProgress(value=0.0, description='trial', max=5.0, style=ProgressStyle(description_width='i…"
      ]
     },
     "metadata": {},
     "output_type": "display_data"
    },
    {
     "name": "stdout",
     "output_type": "stream",
     "text": [
      "model /home/elhamod/HGNN/experiments/MoreExperimentsFineTune/models/5e98e85ac8b4d46b2bb165519929c3ec9f5b20c407e8fbb0f774c360 -> /home/elhamod/HGNN/experiments/MoreExperimentsFineTune/models/c6bd01dd65f23bf8b19142a49d8cc0de5455ee8108c3c83229053f02 updated\n",
      "json /home/elhamod/HGNN/experiments/MoreExperimentsFineTune/models/c6bd01dd65f23bf8b19142a49d8cc0de5455ee8108c3c83229053f02/params.json updated\n",
      "model /home/elhamod/HGNN/experiments/MoreExperimentsFineTune/models/a07151aed1ff774feb74f409b7903784c05bd570eaf9d607cfd6bf38 -> /home/elhamod/HGNN/experiments/MoreExperimentsFineTune/models/bcbc7278f6b6e1d9978df8d2efdb995520874f3cb19097f2f4e5ed19 updated\n",
      "json /home/elhamod/HGNN/experiments/MoreExperimentsFineTune/models/bcbc7278f6b6e1d9978df8d2efdb995520874f3cb19097f2f4e5ed19/params.json updated\n",
      "model /home/elhamod/HGNN/experiments/MoreExperimentsFineTune/models/f800522885b194acc08ad89817694d1aba0770b8e0fd0b6f318defc3 -> /home/elhamod/HGNN/experiments/MoreExperimentsFineTune/models/4de15524d36d196e444fce2852bfd09daeb6db0a924789608fb0b54b updated\n",
      "json /home/elhamod/HGNN/experiments/MoreExperimentsFineTune/models/4de15524d36d196e444fce2852bfd09daeb6db0a924789608fb0b54b/params.json updated\n",
      "model models/0c43aee123ecedbdb24f870b63c646424f2b935b85e07d76648c7e94 could not be fixed to models/455b7ea4da6be94e4b1d7e908d3eefe42dd02118f304135cf167fe1a\n",
      "model models/ce77397e300e016a4ed77fec6b64f8f86da164b13d20be69bef09a81 could not be fixed to models/de34885f09f1cbea066ddb5e005396edd51614d8082c64eba7fe6ac5\n",
      "\n",
      "\n"
     ]
    }
   ],
   "source": [
    "with tqdm(total=number_of_experiments, desc=\"experiment\") as bar:\n",
    "    for i, experiment_params in enumerate(config_parser.getExperiments(fixExperiments=False)):\n",
    "        \n",
    "        experiment_params_new = {**experiment_params, **changes} \n",
    "        experiment_params_new = config_parser.fixExperimentParams(experiment_params_new)\n",
    "\n",
    "        num_of_models = experiment_params[\"numOfTrials\"]\n",
    "        with tqdm(total=num_of_models, desc=\"trial\") as bar2:\n",
    "            for k in range(num_of_models):\n",
    "            \n",
    "                # Fix model names\n",
    "                old_model_name = getModelName(experiment_params, k)\n",
    "                old_modelPath = os.path.join(experimentsPath, experimentName, old_model_name)\n",
    "                new_model_name = getModelName(experiment_params_new, k)\n",
    "                new_modelPath = os.path.join(experimentsPath, experimentName, new_model_name)\n",
    "\n",
    "                try:\n",
    "                    if os.path.exists(old_modelPath):\n",
    "                        os.rename(old_modelPath, new_modelPath)\n",
    "                        print(\"model\", old_modelPath, '->', new_modelPath, \"updated\")\n",
    "\n",
    "                        j = json.dumps(experiment_params_new)\n",
    "                        json_fileName = os.path.join(new_modelPath, 'params.json')\n",
    "                        f = open(json_fileName,\"w\")        \n",
    "                        f.write(j)\n",
    "                        f.close()  \n",
    "                        print(\"json\", json_fileName, \"updated\")\n",
    "                    else:\n",
    "                        raise\n",
    "                    \n",
    "                except:\n",
    "                    print(\"model\", old_model_name, \"could not be fixed to\", new_model_name)\n",
    "                    pass  \n",
    "                \n",
    "                \n",
    "\n",
    "                bar2.update()\n",
    "                \n",
    "                experiments[TrialStatistics.getTrialName(experiment_params, k)]['modelName'] = new_model_name\n",
    "\n",
    "        bar.update()"
   ]
  },
  {
   "cell_type": "markdown",
   "metadata": {},
   "source": [
    "Fix results directory"
   ]
  },
  {
   "cell_type": "code",
   "execution_count": 7,
   "metadata": {},
   "outputs": [
    {
     "data": {
      "application/vnd.jupyter.widget-view+json": {
       "model_id": "2ec21186ad174d08951245abafed7dc3",
       "version_major": 2,
       "version_minor": 0
      },
      "text/plain": [
       "HBox(children=(FloatProgress(value=0.0, description='experiment', max=3.0, style=ProgressStyle(description_wid…"
      ]
     },
     "metadata": {},
     "output_type": "display_data"
    },
    {
     "name": "stdout",
     "output_type": "stream",
     "text": [
      "result 3a4aecb555ce59e2f8cf5fead0f8cb491647470e89f0c3503d0d8fff could not be fixed to 48b2f0930342601f1f0704b9b3f54e685da043fb5e6e374810da76d1\n",
      "result 96dc11b7b5a771c5faf3f36905d39702667b8265ebc8af291cfbff50 could not be fixed to eab44f2bd5bc899e6e189a4cf8dbd2efdd911fdab94fab8cb8a68a8b\n",
      "result 272d46c4c703293e460eb2dd4dda612f91ecab23f3e910e767d99268 could not be fixed to 835c0f0a7f8234e36d54619abacf1559236457cc69186e32d793cfd0\n",
      "\n"
     ]
    }
   ],
   "source": [
    "with tqdm(total=number_of_experiments, desc=\"experiment\") as bar:\n",
    "    for i, experiment_params in enumerate(config_parser.getExperiments(fixExperiments=False)):\n",
    "        \n",
    "        experiment_params_new = {**experiment_params, **changes} \n",
    "        experiment_params_new = config_parser.fixExperimentParams(experiment_params_new)\n",
    "\n",
    "        old_experimentHash = TrialStatistics.getTrialName(experiment_params)\n",
    "        old_experimentPath = os.path.join(experimentsPath, experimentName, \"results\", old_experimentHash)\n",
    "        new_experimentHash = TrialStatistics.getTrialName(experiment_params_new)\n",
    "        new_experimentPath = os.path.join(experimentsPath, experimentName, \"results\", new_experimentHash)\n",
    "        \n",
    "        try:\n",
    "            if os.path.exists(old_experimentPath):\n",
    "\n",
    "                os.rename(old_experimentPath, new_experimentPath)\n",
    "                print(\"result\", old_experimentPath, '->', new_experimentPath, \"updated\")\n",
    "\n",
    "                j = json.dumps(experiment_params_new)\n",
    "                json_fileName = os.path.join(new_experimentPath, 'params.json')\n",
    "                f = open(json_fileName,\"w\")        \n",
    "                f.write(j)\n",
    "                f.close()  \n",
    "                print(\"json\", json_fileName, \"updated\")\n",
    "            else:\n",
    "                raise\n",
    "                \n",
    "        except:\n",
    "            print(\"result\", old_experimentHash, \"could not be fixed to\",new_experimentHash)\n",
    "            pass \n",
    "        \n",
    "        experiments[TrialStatistics.getTrialName(experiment_params, 0)]['experimentHash'] = new_experimentHash\n",
    "        \n",
    "        bar.update()"
   ]
  },
  {
   "cell_type": "markdown",
   "metadata": {},
   "source": [
    "Fix experiments file"
   ]
  },
  {
   "cell_type": "code",
   "execution_count": 8,
   "metadata": {},
   "outputs": [
    {
     "data": {
      "application/vnd.jupyter.widget-view+json": {
       "model_id": "d2cc38b26fd5461993180283af1c39d1",
       "version_major": 2,
       "version_minor": 0
      },
      "text/plain": [
       "HBox(children=(FloatProgress(value=0.0, description='experiment', max=3.0, style=ProgressStyle(description_wid…"
      ]
     },
     "metadata": {},
     "output_type": "display_data"
    },
    {
     "data": {
      "application/vnd.jupyter.widget-view+json": {
       "model_id": "62d579a3a98546cba0e46abc3cfdf3de",
       "version_major": 2,
       "version_minor": 0
      },
      "text/plain": [
       "HBox(children=(FloatProgress(value=0.0, description='trial', max=5.0, style=ProgressStyle(description_width='i…"
      ]
     },
     "metadata": {},
     "output_type": "display_data"
    },
    {
     "name": "stdout",
     "output_type": "stream",
     "text": [
      "trialHash 63f07da9402527a19f4cb7fc81ba5ff837963f98a89642a85a0e4115 -> e54637afeabef3ba1bfda6ff344ca33960ac1a7c4e8b97bd708f17a3 updated\n",
      "trialHash 1511d0ea1ff040251d83d79fd09d95fee8b5fd26a79b9db189bdcca1 -> aec6f2fc19e1131bf3967eab0e04a666fcd0b2cf40c7366ce06210e1 updated\n",
      "trialHash e6d0cf6718b90964d51cc43c432d60b55a1a276c30ebcd583b59a2ad -> a72d57c5006e83ac4a445a2930361ea8b34e10d4f64b369f4b641038 updated\n",
      "trialHash 3f993e3e8223dc3adc2b9c1be0d38f6a7e0497d487e29525a430120c -> e148e4dfff5386a8132fa24ac40b8a3035585a27112343526f3d618e updated\n",
      "trialHash 4e018633bea985bc043cc6ba729b39272e9c24867680d228ca018074 -> cac707e326387cd0fcf04a98a39b6172a1d45fc4d6ec22cc3583b344 updated\n",
      "\n"
     ]
    },
    {
     "name": "stderr",
     "output_type": "stream",
     "text": [
      "/home/elhamod/melhamodenv3/lib/python3.6/site-packages/ipykernel_launcher.py:21: UserWarning: Boolean Series key will be reindexed to match DataFrame index.\n",
      "/home/elhamod/melhamodenv3/lib/python3.6/site-packages/ipykernel_launcher.py:26: UserWarning: Boolean Series key will be reindexed to match DataFrame index.\n",
      "/home/elhamod/melhamodenv3/lib/python3.6/site-packages/ipykernel_launcher.py:37: UserWarning: Boolean Series key will be reindexed to match DataFrame index.\n"
     ]
    },
    {
     "data": {
      "application/vnd.jupyter.widget-view+json": {
       "model_id": "2592ba0c777441b59e3318758b373232",
       "version_major": 2,
       "version_minor": 0
      },
      "text/plain": [
       "HBox(children=(FloatProgress(value=0.0, description='trial', max=5.0, style=ProgressStyle(description_width='i…"
      ]
     },
     "metadata": {},
     "output_type": "display_data"
    },
    {
     "name": "stdout",
     "output_type": "stream",
     "text": [
      "trialHash 70e1140e973a6d54d0182ee94ceb19f011de7a919cf1e36be8e72bab -> 2a0cb954e72e6052b04d0d64a5cb68f395b0c81b8490cb6956497835 updated\n",
      "trialHash 69d236330f76c1e00f43f67b7de3b9a0fdc3c7b92d1b6f95995f3ef2 -> 0f26619e3a8960853124d2a3ac19c2735b69a1ed273ede5f34ff386f updated\n",
      "trialHash cf69d9a84d0a0370d01e8d8e951fa44a7cae1ac83f57356a083cdbc2 -> 818fa776e0fd137aca4ed1361781639bd2dbc2d183ed8b59ac0fc3c0 updated\n",
      "trialHash 4ff879d4829fe8d5b5abc3439e381e31cfc99001f6691267cf3a0d25 -> 288ec57f5b90cfadc4caa125b8682cf3add4b84e7ca73fd821017325 updated\n",
      "trialHash 402b81e89f98caa15dee087c1f42bbb30254a5e4269c81559b153b11 -> 38c8710896fb7650c429518b1e66426ea2dccb51cfb318fefb6a19f3 updated\n",
      "\n"
     ]
    },
    {
     "data": {
      "application/vnd.jupyter.widget-view+json": {
       "model_id": "aabc877a3a0743c29a3241754b9ec9a3",
       "version_major": 2,
       "version_minor": 0
      },
      "text/plain": [
       "HBox(children=(FloatProgress(value=0.0, description='trial', max=5.0, style=ProgressStyle(description_width='i…"
      ]
     },
     "metadata": {},
     "output_type": "display_data"
    },
    {
     "name": "stdout",
     "output_type": "stream",
     "text": [
      "trialHash 5e98e85ac8b4d46b2bb165519929c3ec9f5b20c407e8fbb0f774c360 -> c6bd01dd65f23bf8b19142a49d8cc0de5455ee8108c3c83229053f02 updated\n",
      "trialHash a07151aed1ff774feb74f409b7903784c05bd570eaf9d607cfd6bf38 -> bcbc7278f6b6e1d9978df8d2efdb995520874f3cb19097f2f4e5ed19 updated\n",
      "\n",
      "\n"
     ]
    }
   ],
   "source": [
    "# open experiments.csv file\n",
    "experimentsFileNameAndPath=os.path.join(experimentsPath, \"experiments.csv\")\n",
    "experiments_file= pd.read_csv(experimentsFileNameAndPath)\n",
    "\n",
    "# For all experiments\n",
    "with tqdm(total=number_of_experiments, desc=\"experiment\") as bar:\n",
    "    for i, experiment_params in enumerate(config_parser.getExperiments(fixExperiments=False)):\n",
    "        \n",
    "        numOfTrials = experiment_params[\"numOfTrials\"]\n",
    "        trialHash_0 = TrialStatistics.getTrialName(experiment_params, 0) # used for keys who don't change for different trials\n",
    "        experiment_params_new = {**experiment_params, **changes} \n",
    "        experiment_params_new = config_parser.fixExperimentParams(experiment_params_new)\n",
    "        \n",
    "        # For all trials\n",
    "        with tqdm(total=num_of_models, desc=\"trial\") as bar2:\n",
    "            for j in range(numOfTrials):\n",
    "                \n",
    "                trialHash = TrialStatistics.getTrialName(experiment_params, j)\n",
    "                try:\n",
    "                    # If old entry doesn't exist, nothing to update\n",
    "                    record_exists = not (experiments_file[experiments_file['trialHash'] == trialHash][experiments_file['experimentName'] == experimentName]).empty\n",
    "                    if record_exists:\n",
    "                        \n",
    "                        # drop old row and caluclate new row\n",
    "                        new_trialHash = experiments[trialHash][\"trialHash\"]\n",
    "                        experiments_file.drop(experiments_file[experiments_file['trialHash'] == trialHash][experiments_file['experimentName'] == experimentName].index, inplace = True) \n",
    "                        row_information = {\n",
    "                            'experimentName': experimentName,\n",
    "                            'modelName': experiments[trialHash][\"modelName\"],\n",
    "                            'datasetName': experiments[trialHash_0][\"datasetName\"],\n",
    "                            'experimentHash': experiments[trialHash_0][\"experimentHash\"],\n",
    "                            'trialHash': new_trialHash\n",
    "                        }\n",
    "                        row_information = {**row_information, **experiment_params_new} \n",
    "\n",
    "                        # error handling to avoid duplicates\n",
    "                        record_exists = not (experiments_file[experiments_file['trialHash'] == new_trialHash][experiments_file['experimentName'] == experimentName]).empty\n",
    "                        if record_exists:\n",
    "                            experiments_file.drop(experiments_file[experiments_file['trialHash'] == new_trialHash][experiments_file['experimentName'] == experimentName].index, inplace = True) \n",
    "\n",
    "                        # update with new entry    \n",
    "                        experiments_file = experiments_file.append(pd.DataFrame(row_information, index=[0]), ignore_index = True)\n",
    "                        print(\"trialHash\", trialHash, \"->\", new_trialHash, \"updated\")\n",
    "                except:\n",
    "                    print(\"trialHash\", trialHash, \"could not be updated!\")\n",
    "                    pass\n",
    "                bar2.update()\n",
    "        bar.update()\n",
    "\n",
    "# resave file\n",
    "experiments_file.to_csv(experimentsFileNameAndPath, header=True, index=False)"
   ]
  },
  {
   "cell_type": "markdown",
   "metadata": {},
   "source": [
    "Fix params file"
   ]
  },
  {
   "cell_type": "code",
   "execution_count": 9,
   "metadata": {},
   "outputs": [
    {
     "data": {
      "application/vnd.jupyter.widget-view+json": {
       "model_id": "0fad430179034ea4bf7423f94a91d3b3",
       "version_major": 2,
       "version_minor": 0
      },
      "text/plain": [
       "HBox(children=(FloatProgress(value=0.0, description='experiment', max=3.0, style=ProgressStyle(description_wid…"
      ]
     },
     "metadata": {},
     "output_type": "display_data"
    },
    {
     "name": "stdout",
     "output_type": "stream",
     "text": [
      "\n",
      "json /home/elhamod/HGNN/experiments/MoreExperimentsFineTune/params.json updated\n"
     ]
    }
   ],
   "source": [
    "experiment_list = []\n",
    "with tqdm(total=number_of_experiments, desc=\"experiment\") as bar:\n",
    "    for i, experiment_params in enumerate(config_parser.getExperiments(fixExperiments=False)):\n",
    "        \n",
    "        experiment_params_new = {**experiment_params, **changes} \n",
    "        experiment_list.append(experiment_params_new)\n",
    "        bar.update()\n",
    "\n",
    "\n",
    "j = json.dumps({\"experimentList\": experiment_list})\n",
    "f = open(old_params_file,\"w\")        \n",
    "f.write(j)\n",
    "f.close()  \n",
    "print(\"json\", old_params_file, \"updated\")"
   ]
  }
 ],
 "metadata": {
  "kernelspec": {
   "display_name": "Python 3",
   "language": "python",
   "name": "python3"
  },
  "language_info": {
   "codemirror_mode": {
    "name": "ipython",
    "version": 3
   },
   "file_extension": ".py",
   "mimetype": "text/x-python",
   "name": "python",
   "nbconvert_exporter": "python",
   "pygments_lexer": "ipython3",
   "version": "3.6.9"
  }
 },
 "nbformat": 4,
 "nbformat_minor": 4
}
