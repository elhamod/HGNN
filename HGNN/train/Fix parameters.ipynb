{
 "cells": [
  {
   "cell_type": "markdown",
   "metadata": {},
   "source": [
    "imports"
   ]
  },
  {
   "cell_type": "code",
   "execution_count": 1,
   "metadata": {},
   "outputs": [],
   "source": [
    "from tqdm.notebook import tqdm as tqdm\n",
    "import os\n",
    "import json\n",
    "import pandas as pd\n",
    "\n",
    "from HGNN.train.configParser import ConfigParser, getModelName, getDatasetName\n",
    "from myhelpers import TrialStatistics"
   ]
  },
  {
   "cell_type": "markdown",
   "metadata": {},
   "source": [
    "parameters"
   ]
  },
  {
   "cell_type": "code",
   "execution_count": 2,
   "metadata": {},
   "outputs": [],
   "source": [
    "experimentsPath=\"/home/elhamod/HGNN/experiments/\"\n",
    "dataPath=\"/data/BGNN_data\"\n",
    "experimentName=\"FreezeVsTune\"\n",
    "\n",
    "cuda=6"
   ]
  },
  {
   "cell_type": "markdown",
   "metadata": {},
   "source": [
    "file and changes"
   ]
  },
  {
   "cell_type": "code",
   "execution_count": 3,
   "metadata": {},
   "outputs": [],
   "source": [
    "old_params_file = os.path.join(experimentsPath, experimentName, \"params.json\")\n",
    "\n",
    "# Keep same order as ConfigParserWriter!\n",
    "changes = {\n",
    "    \"numOfTrials\": 5\n",
    "}"
   ]
  },
  {
   "cell_type": "markdown",
   "metadata": {},
   "source": [
    "prepare"
   ]
  },
  {
   "cell_type": "code",
   "execution_count": 4,
   "metadata": {},
   "outputs": [],
   "source": [
    "config_parser = ConfigParser(experimentsPath, dataPath, experimentName)\n",
    "paramsIterator = config_parser.getExperiments()  \n",
    "number_of_experiments = sum(1 for e in paramsIterator)\n",
    "\n",
    "# populate a hash table of all experiments, indexed by trial hash\n",
    "experiments = {}\n",
    "for i, experiment_params in enumerate(config_parser.getExperiments(fixExperiments=False)):\n",
    "    num_of_models = experiment_params[\"numOfTrials\"]\n",
    "    for k in range(num_of_models):\n",
    "        old_trialHash = TrialStatistics.getTrialName(experiment_params, k)\n",
    "        experiment_params_new = {**experiment_params, **changes} \n",
    "        experiment_params_new = config_parser.fixExperimentParams(experiment_params_new)\n",
    "        new_trialHash = TrialStatistics.getTrialName(experiment_params_new, k)\n",
    "        experiments[old_trialHash] = {\"trialHash\": new_trialHash}"
   ]
  },
  {
   "cell_type": "markdown",
   "metadata": {},
   "source": [
    "Fix data splits"
   ]
  },
  {
   "cell_type": "code",
   "execution_count": 5,
   "metadata": {},
   "outputs": [
    {
     "data": {
      "application/vnd.jupyter.widget-view+json": {
       "model_id": "376c29bd53494509bf7be734a265d21e",
       "version_major": 2,
       "version_minor": 0
      },
      "text/plain": [
       "HBox(children=(FloatProgress(value=0.0, description='experiment', max=2.0, style=ProgressStyle(description_wid…"
      ]
     },
     "metadata": {},
     "output_type": "display_data"
    },
    {
     "name": "stdout",
     "output_type": "stream",
     "text": [
      "datasplit datasplits/8abeaa923bd09bce60acac49f8d867e75f3c57d47370f417140df18a could not be fixed to datasplits/8abeaa923bd09bce60acac49f8d867e75f3c57d47370f417140df18a\n",
      "datasplit datasplits/8abeaa923bd09bce60acac49f8d867e75f3c57d47370f417140df18a could not be fixed to datasplits/8abeaa923bd09bce60acac49f8d867e75f3c57d47370f417140df18a\n",
      "\n"
     ]
    }
   ],
   "source": [
    "with tqdm(total=number_of_experiments, desc=\"experiment\") as bar:\n",
    "    for i, experiment_params in enumerate(config_parser.getExperiments(fixExperiments=False)):\n",
    "        \n",
    "        # update experiment params\n",
    "        experiment_params_new = {**experiment_params, **changes} \n",
    "        experiment_params_new = config_parser.fixExperimentParams(experiment_params_new)\n",
    "\n",
    "        # fix data split names\n",
    "        old_dataset_name = getDatasetName(config_parser.fixPaths(experiment_params))\n",
    "        old_datasplitsPath = os.path.join(experimentsPath, experimentName, old_dataset_name)\n",
    "        new_dataset_name = getDatasetName(config_parser.fixPaths(experiment_params_new))\n",
    "        new_datasplitsPath = os.path.join(experimentsPath, experimentName, new_dataset_name)\n",
    "        \n",
    "        try:\n",
    "            if os.path.exists(old_datasplitsPath):\n",
    "\n",
    "                # update the folder names\n",
    "                os.rename(old_datasplitsPath, new_datasplitsPath)\n",
    "                print(\"datasplit\", old_datasplitsPath, '->', new_datasplitsPath, \"updated\")\n",
    "\n",
    "                # update the params.json\n",
    "                j = json.dumps(experiment_params_new)\n",
    "                json_fileName = os.path.join(new_datasplitsPath, 'params.json')\n",
    "                f = open(json_fileName,\"w\")        \n",
    "                f.write(j)\n",
    "                f.close()  \n",
    "                print(\"json\", json_fileName, \"updated\")\n",
    "                \n",
    "            else:\n",
    "                raise\n",
    "                \n",
    "        except:\n",
    "            print(\"datasplit\", old_dataset_name, \"could not be fixed to\", new_dataset_name)\n",
    "            pass   \n",
    "        \n",
    "        experiments[TrialStatistics.getTrialName(experiment_params, 0)]['datasetName'] = new_dataset_name\n",
    "\n",
    "        \n",
    "        bar.update()"
   ]
  },
  {
   "cell_type": "markdown",
   "metadata": {},
   "source": [
    "Fix models"
   ]
  },
  {
   "cell_type": "code",
   "execution_count": 6,
   "metadata": {},
   "outputs": [
    {
     "data": {
      "application/vnd.jupyter.widget-view+json": {
       "model_id": "c70fb9df7ca44e989a5ec4d8f4fe8d35",
       "version_major": 2,
       "version_minor": 0
      },
      "text/plain": [
       "HBox(children=(FloatProgress(value=0.0, description='experiment', max=2.0, style=ProgressStyle(description_wid…"
      ]
     },
     "metadata": {},
     "output_type": "display_data"
    },
    {
     "data": {
      "application/vnd.jupyter.widget-view+json": {
       "model_id": "7cdb232e801840eebbced2da9df626d6",
       "version_major": 2,
       "version_minor": 0
      },
      "text/plain": [
       "HBox(children=(FloatProgress(value=0.0, description='trial', max=5.0, style=ProgressStyle(description_width='i…"
      ]
     },
     "metadata": {},
     "output_type": "display_data"
    },
    {
     "name": "stdout",
     "output_type": "stream",
     "text": [
      "model /home/elhamod/HGNN/experiments/FreezeVsTune/models/8fae45a05ce6694bacd44407373668385e44c9db5631acb8bdf5a698 -> /home/elhamod/HGNN/experiments/FreezeVsTune/models/8fae45a05ce6694bacd44407373668385e44c9db5631acb8bdf5a698 updated\n",
      "json /home/elhamod/HGNN/experiments/FreezeVsTune/models/8fae45a05ce6694bacd44407373668385e44c9db5631acb8bdf5a698/params.json updated\n",
      "model /home/elhamod/HGNN/experiments/FreezeVsTune/models/3fdef5ba2f52e82a736f0eae926f02363e557efcd0fa7dd2dce966ae -> /home/elhamod/HGNN/experiments/FreezeVsTune/models/3fdef5ba2f52e82a736f0eae926f02363e557efcd0fa7dd2dce966ae updated\n",
      "json /home/elhamod/HGNN/experiments/FreezeVsTune/models/3fdef5ba2f52e82a736f0eae926f02363e557efcd0fa7dd2dce966ae/params.json updated\n",
      "model /home/elhamod/HGNN/experiments/FreezeVsTune/models/9fba5b6d5bf04393a7ea39fd456096338098f147943bd1aa66982d25 -> /home/elhamod/HGNN/experiments/FreezeVsTune/models/9fba5b6d5bf04393a7ea39fd456096338098f147943bd1aa66982d25 updated\n",
      "json /home/elhamod/HGNN/experiments/FreezeVsTune/models/9fba5b6d5bf04393a7ea39fd456096338098f147943bd1aa66982d25/params.json updated\n",
      "model /home/elhamod/HGNN/experiments/FreezeVsTune/models/7761bb0425454f6523cdee932958381b8e706cd632f4ddd9dda30001 -> /home/elhamod/HGNN/experiments/FreezeVsTune/models/7761bb0425454f6523cdee932958381b8e706cd632f4ddd9dda30001 updated\n",
      "json /home/elhamod/HGNN/experiments/FreezeVsTune/models/7761bb0425454f6523cdee932958381b8e706cd632f4ddd9dda30001/params.json updated\n",
      "model /home/elhamod/HGNN/experiments/FreezeVsTune/models/0ac8ef08f232baf463b197b7fc76a3378d8e16c7ff1820158c867937 -> /home/elhamod/HGNN/experiments/FreezeVsTune/models/0ac8ef08f232baf463b197b7fc76a3378d8e16c7ff1820158c867937 updated\n",
      "json /home/elhamod/HGNN/experiments/FreezeVsTune/models/0ac8ef08f232baf463b197b7fc76a3378d8e16c7ff1820158c867937/params.json updated\n",
      "\n"
     ]
    },
    {
     "data": {
      "application/vnd.jupyter.widget-view+json": {
       "model_id": "f1040d8809ab494a84dbd56a48ae9bdb",
       "version_major": 2,
       "version_minor": 0
      },
      "text/plain": [
       "HBox(children=(FloatProgress(value=0.0, description='trial', max=5.0, style=ProgressStyle(description_width='i…"
      ]
     },
     "metadata": {},
     "output_type": "display_data"
    },
    {
     "name": "stdout",
     "output_type": "stream",
     "text": [
      "model /home/elhamod/HGNN/experiments/FreezeVsTune/models/21732080ae91025dd7678a0c34910ff99bd6ebe781a48abb050fd418 -> /home/elhamod/HGNN/experiments/FreezeVsTune/models/21732080ae91025dd7678a0c34910ff99bd6ebe781a48abb050fd418 updated\n",
      "json /home/elhamod/HGNN/experiments/FreezeVsTune/models/21732080ae91025dd7678a0c34910ff99bd6ebe781a48abb050fd418/params.json updated\n",
      "model /home/elhamod/HGNN/experiments/FreezeVsTune/models/f21a7bdcdd8620f78796e22ed744dea8df46b3ec98297daed3fedff4 -> /home/elhamod/HGNN/experiments/FreezeVsTune/models/f21a7bdcdd8620f78796e22ed744dea8df46b3ec98297daed3fedff4 updated\n",
      "json /home/elhamod/HGNN/experiments/FreezeVsTune/models/f21a7bdcdd8620f78796e22ed744dea8df46b3ec98297daed3fedff4/params.json updated\n",
      "model /home/elhamod/HGNN/experiments/FreezeVsTune/models/5b7515330237c2852d135f2ce663ae870eca9e163fdcc7b273d41757 -> /home/elhamod/HGNN/experiments/FreezeVsTune/models/5b7515330237c2852d135f2ce663ae870eca9e163fdcc7b273d41757 updated\n",
      "json /home/elhamod/HGNN/experiments/FreezeVsTune/models/5b7515330237c2852d135f2ce663ae870eca9e163fdcc7b273d41757/params.json updated\n",
      "model /home/elhamod/HGNN/experiments/FreezeVsTune/models/50ec050432a5d682ee0df329034c0d1f9bc6329e1f105d70f6834b30 -> /home/elhamod/HGNN/experiments/FreezeVsTune/models/50ec050432a5d682ee0df329034c0d1f9bc6329e1f105d70f6834b30 updated\n",
      "json /home/elhamod/HGNN/experiments/FreezeVsTune/models/50ec050432a5d682ee0df329034c0d1f9bc6329e1f105d70f6834b30/params.json updated\n",
      "model /home/elhamod/HGNN/experiments/FreezeVsTune/models/1533bedb096e38cd6daf05b062b368f5c547cff4c97be6f9002d9798 -> /home/elhamod/HGNN/experiments/FreezeVsTune/models/1533bedb096e38cd6daf05b062b368f5c547cff4c97be6f9002d9798 updated\n",
      "json /home/elhamod/HGNN/experiments/FreezeVsTune/models/1533bedb096e38cd6daf05b062b368f5c547cff4c97be6f9002d9798/params.json updated\n",
      "\n",
      "\n"
     ]
    }
   ],
   "source": [
    "with tqdm(total=number_of_experiments, desc=\"experiment\") as bar:\n",
    "    for i, experiment_params in enumerate(config_parser.getExperiments(fixExperiments=False)):\n",
    "        \n",
    "        experiment_params_new = {**experiment_params, **changes} \n",
    "        experiment_params_new = config_parser.fixExperimentParams(experiment_params_new)\n",
    "\n",
    "        num_of_models = experiment_params[\"numOfTrials\"]\n",
    "        with tqdm(total=num_of_models, desc=\"trial\") as bar2:\n",
    "            for k in range(num_of_models):\n",
    "            \n",
    "                # Fix model names\n",
    "                old_model_name = getModelName(experiment_params, k)\n",
    "                old_modelPath = os.path.join(experimentsPath, experimentName, old_model_name)\n",
    "                new_model_name = getModelName(experiment_params_new, k)\n",
    "                new_modelPath = os.path.join(experimentsPath, experimentName, new_model_name)\n",
    "\n",
    "                try:\n",
    "                    if os.path.exists(old_modelPath):\n",
    "                        os.rename(old_modelPath, new_modelPath)\n",
    "                        print(\"model\", old_modelPath, '->', new_modelPath, \"updated\")\n",
    "\n",
    "                        j = json.dumps(experiment_params_new)\n",
    "                        json_fileName = os.path.join(new_modelPath, 'params.json')\n",
    "                        f = open(json_fileName,\"w\")        \n",
    "                        f.write(j)\n",
    "                        f.close()  \n",
    "                        print(\"json\", json_fileName, \"updated\")\n",
    "                    else:\n",
    "                        raise\n",
    "                    \n",
    "                except:\n",
    "                    print(\"model\", old_model_name, \"could not be fixed to\", new_model_name)\n",
    "                    pass  \n",
    "                \n",
    "                \n",
    "\n",
    "                bar2.update()\n",
    "                \n",
    "                experiments[TrialStatistics.getTrialName(experiment_params, k)]['modelName'] = new_model_name\n",
    "\n",
    "        bar.update()"
   ]
  },
  {
   "cell_type": "markdown",
   "metadata": {},
   "source": [
    "Fix results directory"
   ]
  },
  {
   "cell_type": "code",
   "execution_count": 7,
   "metadata": {},
   "outputs": [
    {
     "data": {
      "application/vnd.jupyter.widget-view+json": {
       "model_id": "2f5bfef148e044f39e9ff8abca88ebdc",
       "version_major": 2,
       "version_minor": 0
      },
      "text/plain": [
       "HBox(children=(FloatProgress(value=0.0, description='experiment', max=2.0, style=ProgressStyle(description_wid…"
      ]
     },
     "metadata": {},
     "output_type": "display_data"
    },
    {
     "name": "stdout",
     "output_type": "stream",
     "text": [
      "result /home/elhamod/HGNN/experiments/FreezeVsTune/results/d6873ee3953c93b89c9092ab603ce1dc8242e83b8495fd63007b1cc9 -> /home/elhamod/HGNN/experiments/FreezeVsTune/results/d6873ee3953c93b89c9092ab603ce1dc8242e83b8495fd63007b1cc9 updated\n",
      "json /home/elhamod/HGNN/experiments/FreezeVsTune/results/d6873ee3953c93b89c9092ab603ce1dc8242e83b8495fd63007b1cc9/params.json updated\n",
      "result /home/elhamod/HGNN/experiments/FreezeVsTune/results/1e1fb23ee91b9ce31e8f09e5635e8950c1fe5ba74983b13f7d6483bc -> /home/elhamod/HGNN/experiments/FreezeVsTune/results/1e1fb23ee91b9ce31e8f09e5635e8950c1fe5ba74983b13f7d6483bc updated\n",
      "json /home/elhamod/HGNN/experiments/FreezeVsTune/results/1e1fb23ee91b9ce31e8f09e5635e8950c1fe5ba74983b13f7d6483bc/params.json updated\n",
      "\n"
     ]
    }
   ],
   "source": [
    "with tqdm(total=number_of_experiments, desc=\"experiment\") as bar:\n",
    "    for i, experiment_params in enumerate(config_parser.getExperiments(fixExperiments=False)):\n",
    "        \n",
    "        experiment_params_new = {**experiment_params, **changes} \n",
    "        experiment_params_new = config_parser.fixExperimentParams(experiment_params_new)\n",
    "\n",
    "        old_experimentHash = TrialStatistics.getTrialName(experiment_params)\n",
    "        old_experimentPath = os.path.join(experimentsPath, experimentName, \"results\", old_experimentHash)\n",
    "        new_experimentHash = TrialStatistics.getTrialName(experiment_params_new)\n",
    "        new_experimentPath = os.path.join(experimentsPath, experimentName, \"results\", new_experimentHash)\n",
    "        \n",
    "        try:\n",
    "            if os.path.exists(old_experimentPath):\n",
    "\n",
    "                os.rename(old_experimentPath, new_experimentPath)\n",
    "                print(\"result\", old_experimentPath, '->', new_experimentPath, \"updated\")\n",
    "\n",
    "                j = json.dumps(experiment_params_new)\n",
    "                json_fileName = os.path.join(new_experimentPath, 'params.json')\n",
    "                f = open(json_fileName,\"w\")        \n",
    "                f.write(j)\n",
    "                f.close()  \n",
    "                print(\"json\", json_fileName, \"updated\")\n",
    "            else:\n",
    "                raise\n",
    "                \n",
    "        except:\n",
    "            print(\"result\", old_experimentHash, \"could not be fixed to\",new_experimentHash)\n",
    "            pass \n",
    "        \n",
    "        experiments[TrialStatistics.getTrialName(experiment_params, 0)]['experimentHash'] = new_experimentHash\n",
    "        \n",
    "        bar.update()"
   ]
  },
  {
   "cell_type": "markdown",
   "metadata": {},
   "source": [
    "Fix experiments file"
   ]
  },
  {
   "cell_type": "code",
   "execution_count": 8,
   "metadata": {},
   "outputs": [
    {
     "data": {
      "application/vnd.jupyter.widget-view+json": {
       "model_id": "0fcf9190224b4e728f89bc3ec6435193",
       "version_major": 2,
       "version_minor": 0
      },
      "text/plain": [
       "HBox(children=(FloatProgress(value=0.0, description='experiment', max=2.0, style=ProgressStyle(description_wid…"
      ]
     },
     "metadata": {},
     "output_type": "display_data"
    },
    {
     "data": {
      "application/vnd.jupyter.widget-view+json": {
       "model_id": "b56d77c6bf674a5688e9b6fe55aa12f5",
       "version_major": 2,
       "version_minor": 0
      },
      "text/plain": [
       "HBox(children=(FloatProgress(value=0.0, description='trial', max=5.0, style=ProgressStyle(description_width='i…"
      ]
     },
     "metadata": {},
     "output_type": "display_data"
    },
    {
     "name": "stdout",
     "output_type": "stream",
     "text": [
      "trialHash 8fae45a05ce6694bacd44407373668385e44c9db5631acb8bdf5a698 -> 8fae45a05ce6694bacd44407373668385e44c9db5631acb8bdf5a698 updated\n",
      "trialHash 3fdef5ba2f52e82a736f0eae926f02363e557efcd0fa7dd2dce966ae -> 3fdef5ba2f52e82a736f0eae926f02363e557efcd0fa7dd2dce966ae updated\n",
      "trialHash 9fba5b6d5bf04393a7ea39fd456096338098f147943bd1aa66982d25 -> 9fba5b6d5bf04393a7ea39fd456096338098f147943bd1aa66982d25 updated\n",
      "trialHash 7761bb0425454f6523cdee932958381b8e706cd632f4ddd9dda30001 -> 7761bb0425454f6523cdee932958381b8e706cd632f4ddd9dda30001 updated\n",
      "trialHash 0ac8ef08f232baf463b197b7fc76a3378d8e16c7ff1820158c867937 -> 0ac8ef08f232baf463b197b7fc76a3378d8e16c7ff1820158c867937 updated\n",
      "\n"
     ]
    },
    {
     "name": "stderr",
     "output_type": "stream",
     "text": [
      "/home/elhamod/melhamodenv3/lib/python3.6/site-packages/ipykernel_launcher.py:21: UserWarning: Boolean Series key will be reindexed to match DataFrame index.\n",
      "/home/elhamod/melhamodenv3/lib/python3.6/site-packages/ipykernel_launcher.py:26: UserWarning: Boolean Series key will be reindexed to match DataFrame index.\n",
      "/home/elhamod/melhamodenv3/lib/python3.6/site-packages/ipykernel_launcher.py:37: UserWarning: Boolean Series key will be reindexed to match DataFrame index.\n"
     ]
    },
    {
     "data": {
      "application/vnd.jupyter.widget-view+json": {
       "model_id": "1a194ed792de4eb2950ef242c0b57c7a",
       "version_major": 2,
       "version_minor": 0
      },
      "text/plain": [
       "HBox(children=(FloatProgress(value=0.0, description='trial', max=5.0, style=ProgressStyle(description_width='i…"
      ]
     },
     "metadata": {},
     "output_type": "display_data"
    },
    {
     "name": "stdout",
     "output_type": "stream",
     "text": [
      "trialHash 21732080ae91025dd7678a0c34910ff99bd6ebe781a48abb050fd418 -> 21732080ae91025dd7678a0c34910ff99bd6ebe781a48abb050fd418 updated\n",
      "trialHash f21a7bdcdd8620f78796e22ed744dea8df46b3ec98297daed3fedff4 -> f21a7bdcdd8620f78796e22ed744dea8df46b3ec98297daed3fedff4 updated\n",
      "trialHash 5b7515330237c2852d135f2ce663ae870eca9e163fdcc7b273d41757 -> 5b7515330237c2852d135f2ce663ae870eca9e163fdcc7b273d41757 updated\n",
      "trialHash 50ec050432a5d682ee0df329034c0d1f9bc6329e1f105d70f6834b30 -> 50ec050432a5d682ee0df329034c0d1f9bc6329e1f105d70f6834b30 updated\n",
      "trialHash 1533bedb096e38cd6daf05b062b368f5c547cff4c97be6f9002d9798 -> 1533bedb096e38cd6daf05b062b368f5c547cff4c97be6f9002d9798 updated\n",
      "\n",
      "\n"
     ]
    }
   ],
   "source": [
    "# open experiments.csv file\n",
    "experimentsFileNameAndPath=os.path.join(experimentsPath, \"experiments.csv\")\n",
    "experiments_file= pd.read_csv(experimentsFileNameAndPath)\n",
    "\n",
    "# For all experiments\n",
    "with tqdm(total=number_of_experiments, desc=\"experiment\") as bar:\n",
    "    for i, experiment_params in enumerate(config_parser.getExperiments(fixExperiments=False)):\n",
    "        \n",
    "        numOfTrials = experiment_params[\"numOfTrials\"]\n",
    "        trialHash_0 = TrialStatistics.getTrialName(experiment_params, 0) # used for keys who don't change for different trials\n",
    "        experiment_params_new = {**experiment_params, **changes} \n",
    "        experiment_params_new = config_parser.fixExperimentParams(experiment_params_new)\n",
    "        \n",
    "        # For all trials\n",
    "        with tqdm(total=num_of_models, desc=\"trial\") as bar2:\n",
    "            for j in range(numOfTrials):\n",
    "                \n",
    "                trialHash = TrialStatistics.getTrialName(experiment_params, j)\n",
    "                try:\n",
    "                    # If old entry doesn't exist, nothing to update\n",
    "                    record_exists = not (experiments_file[experiments_file['trialHash'] == trialHash][experiments_file['experimentName'] == experimentName]).empty\n",
    "                    if record_exists:\n",
    "                        \n",
    "                        # drop old row and caluclate new row\n",
    "                        new_trialHash = experiments[trialHash][\"trialHash\"]\n",
    "                        experiments_file.drop(experiments_file[experiments_file['trialHash'] == trialHash][experiments_file['experimentName'] == experimentName].index, inplace = True) \n",
    "                        row_information = {\n",
    "                            'experimentName': experimentName,\n",
    "                            'modelName': experiments[trialHash][\"modelName\"],\n",
    "                            'datasetName': experiments[trialHash_0][\"datasetName\"],\n",
    "                            'experimentHash': experiments[trialHash_0][\"experimentHash\"],\n",
    "                            'trialHash': new_trialHash\n",
    "                        }\n",
    "                        row_information = {**row_information, **experiment_params_new} \n",
    "\n",
    "                        # error handling to avoid duplicates\n",
    "                        record_exists = not (experiments_file[experiments_file['trialHash'] == new_trialHash][experiments_file['experimentName'] == experimentName]).empty\n",
    "                        if record_exists:\n",
    "                            experiments_file.drop(experiments_file[experiments_file['trialHash'] == new_trialHash][experiments_file['experimentName'] == experimentName].index, inplace = True) \n",
    "\n",
    "                        # update with new entry    \n",
    "                        experiments_file = experiments_file.append(pd.DataFrame(row_information, index=[0]), ignore_index = True)\n",
    "                        print(\"trialHash\", trialHash, \"->\", new_trialHash, \"updated\")\n",
    "                except:\n",
    "                    print(\"trialHash\", trialHash, \"could not be updated!\")\n",
    "                    pass\n",
    "                bar2.update()\n",
    "        bar.update()\n",
    "\n",
    "# resave file\n",
    "experiments_file.to_csv(experimentsFileNameAndPath, header=True, index=False)"
   ]
  },
  {
   "cell_type": "markdown",
   "metadata": {},
   "source": [
    "Fix params file"
   ]
  },
  {
   "cell_type": "code",
   "execution_count": 9,
   "metadata": {},
   "outputs": [
    {
     "data": {
      "application/vnd.jupyter.widget-view+json": {
       "model_id": "906d76c932f64a46968797cc18639bf9",
       "version_major": 2,
       "version_minor": 0
      },
      "text/plain": [
       "HBox(children=(FloatProgress(value=0.0, description='experiment', max=2.0, style=ProgressStyle(description_wid…"
      ]
     },
     "metadata": {},
     "output_type": "display_data"
    },
    {
     "name": "stdout",
     "output_type": "stream",
     "text": [
      "\n",
      "json /home/elhamod/HGNN/experiments/FreezeVsTune/params.json updated\n"
     ]
    }
   ],
   "source": [
    "experiment_list = []\n",
    "with tqdm(total=number_of_experiments, desc=\"experiment\") as bar:\n",
    "    for i, experiment_params in enumerate(config_parser.getExperiments(fixExperiments=False)):\n",
    "        \n",
    "        experiment_params_new = {**experiment_params, **changes} \n",
    "        experiment_list.append(experiment_params_new)\n",
    "        bar.update()\n",
    "\n",
    "\n",
    "j = json.dumps({\"experimentList\": experiment_list})\n",
    "f = open(old_params_file,\"w\")        \n",
    "f.write(j)\n",
    "f.close()  \n",
    "print(\"json\", old_params_file, \"updated\")"
   ]
  }
 ],
 "metadata": {
  "kernelspec": {
   "display_name": "Python 3",
   "language": "python",
   "name": "python3"
  },
  "language_info": {
   "codemirror_mode": {
    "name": "ipython",
    "version": 3
   },
   "file_extension": ".py",
   "mimetype": "text/x-python",
   "name": "python",
   "nbconvert_exporter": "python",
   "pygments_lexer": "ipython3",
   "version": "3.6.9"
  }
 },
 "nbformat": 4,
 "nbformat_minor": 4
}
