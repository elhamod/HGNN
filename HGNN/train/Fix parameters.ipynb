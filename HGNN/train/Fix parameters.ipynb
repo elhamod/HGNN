{
 "cells": [
  {
   "cell_type": "markdown",
   "metadata": {},
   "source": [
    "imports"
   ]
  },
  {
   "cell_type": "code",
   "execution_count": 1,
   "metadata": {},
   "outputs": [],
   "source": [
    "from tqdm.notebook import tqdm as tqdm\n",
    "import os\n",
    "import json\n",
    "import pandas as pd\n",
    "\n",
    "from HGNN.train.configParser import ConfigParser, getModelName, getDatasetName\n",
    "from myhelpers import TrialStatistics"
   ]
  },
  {
   "cell_type": "markdown",
   "metadata": {},
   "source": [
    "parameters"
   ]
  },
  {
   "cell_type": "code",
   "execution_count": 2,
   "metadata": {},
   "outputs": [],
   "source": [
    "experimentsPath=\"/home/elhamod/HGNN/experiments/\"\n",
    "dataPath=\"/data/BGNN_data\"\n",
    "experimentName=\"biology_paper_datasizes\"\n",
    "\n",
    "cuda=6"
   ]
  },
  {
   "cell_type": "markdown",
   "metadata": {},
   "source": [
    "file and changes"
   ]
  },
  {
   "cell_type": "code",
   "execution_count": 3,
   "metadata": {},
   "outputs": [],
   "source": [
    "old_params_file = os.path.join(experimentsPath, experimentName, \"params.json\")\n",
    "\n",
    "# Keep same order as ConfigParserWriter!\n",
    "changes = {\n",
    "    'numOfTrials': 5\n",
    "}\n",
    "removes = []"
   ]
  },
  {
   "cell_type": "markdown",
   "metadata": {},
   "source": [
    "prepare"
   ]
  },
  {
   "cell_type": "code",
   "execution_count": 4,
   "metadata": {},
   "outputs": [],
   "source": [
    "config_parser = ConfigParser(experimentsPath, dataPath, experimentName)\n",
    "paramsIterator = config_parser.getExperiments()  \n",
    "number_of_experiments = sum(1 for e in paramsIterator)\n",
    "\n",
    "# populate a hash table of all experiments, indexed by trial hash\n",
    "experiments = {}\n",
    "for i, experiment_params in enumerate(config_parser.getExperiments(fixExperiments=False)):\n",
    "    num_of_models = experiment_params[\"numOfTrials\"]\n",
    "    for k in range(num_of_models):\n",
    "        old_trialHash = TrialStatistics.getTrialName(experiment_params, k)\n",
    "        experiment_params_new = {**experiment_params, **changes} \n",
    "        for key in removes:\n",
    "            experiment_params_new.pop(key, None)\n",
    "        experiment_params_new = config_parser.fixExperimentParams(experiment_params_new)\n",
    "        new_trialHash = TrialStatistics.getTrialName(experiment_params_new, k)\n",
    "        experiments[old_trialHash] = {\"trialHash\": new_trialHash}"
   ]
  },
  {
   "cell_type": "markdown",
   "metadata": {},
   "source": [
    "Fix models"
   ]
  },
  {
   "cell_type": "code",
   "execution_count": 5,
   "metadata": {},
   "outputs": [
    {
     "data": {
      "application/vnd.jupyter.widget-view+json": {
       "model_id": "f83ea521d7114505af54c8ae78b9af23",
       "version_major": 2,
       "version_minor": 0
      },
      "text/plain": [
       "HBox(children=(FloatProgress(value=0.0, description='experiment', max=1.0, style=ProgressStyle(description_wid…"
      ]
     },
     "metadata": {},
     "output_type": "display_data"
    },
    {
     "data": {
      "application/vnd.jupyter.widget-view+json": {
       "model_id": "d60c995ef8944785b53c3b53a3e32833",
       "version_major": 2,
       "version_minor": 0
      },
      "text/plain": [
       "HBox(children=(FloatProgress(value=0.0, description='trial', max=5.0, style=ProgressStyle(description_width='i…"
      ]
     },
     "metadata": {},
     "output_type": "display_data"
    },
    {
     "name": "stdout",
     "output_type": "stream",
     "text": [
      "model models/851a38d450ef7fa69a8beee91cc444d9e8340bcd4061894986a36ebe could not be fixed to models/851a38d450ef7fa69a8beee91cc444d9e8340bcd4061894986a36ebe\n",
      "model models/319c4d36922d8a300028265cf7b687f2242d89372de03b80145e819f could not be fixed to models/319c4d36922d8a300028265cf7b687f2242d89372de03b80145e819f\n",
      "model models/77780f0986b84842e710a492cd33f37e4e79b4c9ed9b3801a03121c0 could not be fixed to models/77780f0986b84842e710a492cd33f37e4e79b4c9ed9b3801a03121c0\n",
      "model models/761b7febc9bcd94bcae1e2cc87ae9606c158227a97dcbc1d51b6cd62 could not be fixed to models/761b7febc9bcd94bcae1e2cc87ae9606c158227a97dcbc1d51b6cd62\n",
      "model models/f6b0634420e6d2e3b01f52b1ec03d57be61d609526b08af06a8cfeb3 could not be fixed to models/f6b0634420e6d2e3b01f52b1ec03d57be61d609526b08af06a8cfeb3\n",
      "\n",
      "\n"
     ]
    }
   ],
   "source": [
    "with tqdm(total=number_of_experiments, desc=\"experiment\") as bar:\n",
    "    for i, experiment_params in enumerate(config_parser.getExperiments(fixExperiments=False)):\n",
    "        experiment_params_new = {**experiment_params, **changes} \n",
    "        for key in removes:\n",
    "            experiment_params_new.pop(key, None)\n",
    "        experiment_params_new = config_parser.fixExperimentParams(experiment_params_new)\n",
    "\n",
    "        num_of_models = experiment_params[\"numOfTrials\"]\n",
    "        with tqdm(total=num_of_models, desc=\"trial\") as bar2:\n",
    "            for k in range(num_of_models):\n",
    "            \n",
    "                # Fix model names\n",
    "                old_model_name = getModelName(experiment_params, k)\n",
    "                old_modelPath = os.path.join(experimentsPath, experimentName, old_model_name)\n",
    "                new_model_name = getModelName(experiment_params_new, k)\n",
    "                new_modelPath = os.path.join(experimentsPath, experimentName, new_model_name)\n",
    "\n",
    "                try:\n",
    "                    if os.path.exists(old_modelPath):\n",
    "                        os.rename(old_modelPath, new_modelPath)\n",
    "                        print(\"model\", old_modelPath, '->', new_modelPath, \"updated\")\n",
    "\n",
    "                        j = json.dumps(experiment_params_new)\n",
    "                        json_fileName = os.path.join(new_modelPath, 'params.json')\n",
    "                        f = open(json_fileName,\"w\")        \n",
    "                        f.write(j)\n",
    "                        f.close()  \n",
    "                        print(\"json\", json_fileName, \"updated\")\n",
    "                    else:\n",
    "                        raise\n",
    "                    \n",
    "                except:\n",
    "                    print(\"model\", old_model_name, \"could not be fixed to\", new_model_name)\n",
    "                    pass  \n",
    "                \n",
    "                \n",
    "\n",
    "                bar2.update()\n",
    "                \n",
    "                experiments[TrialStatistics.getTrialName(experiment_params, k)]['modelName'] = new_model_name\n",
    "\n",
    "        bar.update()"
   ]
  },
  {
   "cell_type": "markdown",
   "metadata": {},
   "source": [
    "Fix results directory"
   ]
  },
  {
   "cell_type": "code",
   "execution_count": 6,
   "metadata": {},
   "outputs": [
    {
     "data": {
      "application/vnd.jupyter.widget-view+json": {
       "model_id": "61aaf6d7fef54c3192f367ef0ae2fd40",
       "version_major": 2,
       "version_minor": 0
      },
      "text/plain": [
       "HBox(children=(FloatProgress(value=0.0, description='experiment', max=1.0, style=ProgressStyle(description_wid…"
      ]
     },
     "metadata": {},
     "output_type": "display_data"
    },
    {
     "name": "stdout",
     "output_type": "stream",
     "text": [
      "result d8e8f65e9b77352ccb8e1a46c62deb747b315c8413f87211a3521e23 could not be fixed to d8e8f65e9b77352ccb8e1a46c62deb747b315c8413f87211a3521e23\n",
      "\n"
     ]
    }
   ],
   "source": [
    "with tqdm(total=number_of_experiments, desc=\"experiment\") as bar:\n",
    "    for i, experiment_params in enumerate(config_parser.getExperiments(fixExperiments=False)):\n",
    "        experiment_params_new = {**experiment_params, **changes} \n",
    "        for key in removes:\n",
    "            experiment_params_new.pop(key, None)\n",
    "        experiment_params_new = config_parser.fixExperimentParams(experiment_params_new)\n",
    "\n",
    "        old_experimentHash = TrialStatistics.getTrialName(experiment_params)\n",
    "        old_experimentPath = os.path.join(experimentsPath, experimentName, \"results\", old_experimentHash)\n",
    "        new_experimentHash = TrialStatistics.getTrialName(experiment_params_new)\n",
    "        new_experimentPath = os.path.join(experimentsPath, experimentName, \"results\", new_experimentHash)\n",
    "        \n",
    "        try:\n",
    "            if os.path.exists(old_experimentPath):\n",
    "\n",
    "                os.rename(old_experimentPath, new_experimentPath)\n",
    "                print(\"result\", old_experimentPath, '->', new_experimentPath, \"updated\")\n",
    "\n",
    "                j = json.dumps(experiment_params_new)\n",
    "                json_fileName = os.path.join(new_experimentPath, 'params.json')\n",
    "                f = open(json_fileName,\"w\")        \n",
    "                f.write(j)\n",
    "                f.close()  \n",
    "                print(\"json\", json_fileName, \"updated\")\n",
    "            else:\n",
    "                raise\n",
    "                \n",
    "        except:\n",
    "            print(\"result\", old_experimentHash, \"could not be fixed to\",new_experimentHash)\n",
    "            pass \n",
    "        \n",
    "        experiments[TrialStatistics.getTrialName(experiment_params, 0)]['experimentHash'] = new_experimentHash\n",
    "        \n",
    "        bar.update()"
   ]
  },
  {
   "cell_type": "markdown",
   "metadata": {},
   "source": [
    "Fix experiments file"
   ]
  },
  {
   "cell_type": "code",
   "execution_count": 7,
   "metadata": {},
   "outputs": [
    {
     "data": {
      "application/vnd.jupyter.widget-view+json": {
       "model_id": "957b3ad882f7462ebcc27e9402ce6837",
       "version_major": 2,
       "version_minor": 0
      },
      "text/plain": [
       "HBox(children=(FloatProgress(value=0.0, description='experiment', max=1.0, style=ProgressStyle(description_wid…"
      ]
     },
     "metadata": {},
     "output_type": "display_data"
    },
    {
     "data": {
      "application/vnd.jupyter.widget-view+json": {
       "model_id": "9ceaa04fe29749c493b32640e729e17e",
       "version_major": 2,
       "version_minor": 0
      },
      "text/plain": [
       "HBox(children=(FloatProgress(value=0.0, description='trial', max=5.0, style=ProgressStyle(description_width='i…"
      ]
     },
     "metadata": {},
     "output_type": "display_data"
    },
    {
     "name": "stdout",
     "output_type": "stream",
     "text": [
      "\n",
      "\n"
     ]
    },
    {
     "name": "stderr",
     "output_type": "stream",
     "text": [
      "/home/elhamod/melhamodenv3/lib/python3.6/site-packages/ipykernel_launcher.py:23: UserWarning: Boolean Series key will be reindexed to match DataFrame index.\n"
     ]
    }
   ],
   "source": [
    "# open experiments.csv file\n",
    "experimentsFileNameAndPath=os.path.join(experimentsPath, \"experiments.csv\")\n",
    "experiments_file= pd.read_csv(experimentsFileNameAndPath)\n",
    "\n",
    "# For all experiments\n",
    "with tqdm(total=number_of_experiments, desc=\"experiment\") as bar:\n",
    "    for i, experiment_params in enumerate(config_parser.getExperiments(fixExperiments=False)):\n",
    "        \n",
    "        numOfTrials = experiment_params[\"numOfTrials\"]\n",
    "        trialHash_0 = TrialStatistics.getTrialName(experiment_params, 0) # used for keys who don't change for different trials\n",
    "        for key in removes:\n",
    "            experiment_params_new.pop(key, None)\n",
    "        experiment_params_new = {**experiment_params, **changes} \n",
    "        experiment_params_new = config_parser.fixExperimentParams(experiment_params_new)\n",
    "        \n",
    "        # For all trials\n",
    "        with tqdm(total=num_of_models, desc=\"trial\") as bar2:\n",
    "            for j in range(numOfTrials):\n",
    "                \n",
    "                trialHash = TrialStatistics.getTrialName(experiment_params, j)\n",
    "                try:\n",
    "                    # If old entry doesn't exist, nothing to update\n",
    "                    record_exists = not (experiments_file[experiments_file['trialHash'] == trialHash][experiments_file['experimentName'] == experimentName]).empty\n",
    "                    if record_exists:\n",
    "                        \n",
    "                        # drop old row and caluclate new row\n",
    "                        new_trialHash = experiments[trialHash][\"trialHash\"]\n",
    "                        experiments_file.drop(experiments_file[experiments_file['trialHash'] == trialHash][experiments_file['experimentName'] == experimentName].index, inplace = True) \n",
    "                        row_information = {\n",
    "                            'experimentName': experimentName,\n",
    "                            'modelName': experiments[trialHash][\"modelName\"],\n",
    "                            'datasetName': experiments[trialHash_0][\"datasetName\"],\n",
    "                            'experimentHash': experiments[trialHash_0][\"experimentHash\"],\n",
    "                            'trialHash': new_trialHash\n",
    "                        }\n",
    "                        row_information = {**row_information, **experiment_params_new} \n",
    "\n",
    "                        # error handling to avoid duplicates\n",
    "                        record_exists = not (experiments_file[experiments_file['trialHash'] == new_trialHash][experiments_file['experimentName'] == experimentName]).empty\n",
    "                        if record_exists:\n",
    "                            experiments_file.drop(experiments_file[experiments_file['trialHash'] == new_trialHash][experiments_file['experimentName'] == experimentName].index, inplace = True) \n",
    "\n",
    "                        # update with new entry    \n",
    "                        experiments_file = experiments_file.append(pd.DataFrame(row_information, index=[0]), ignore_index = True)\n",
    "                        print(\"trialHash\", trialHash, \"->\", new_trialHash, \"updated\")\n",
    "                except:\n",
    "                    print(\"trialHash\", trialHash, \"could not be updated!\")\n",
    "                    pass\n",
    "                bar2.update()\n",
    "        bar.update()\n",
    "\n",
    "# resave file\n",
    "experiments_file.to_csv(experimentsFileNameAndPath, header=True, index=False)"
   ]
  },
  {
   "cell_type": "markdown",
   "metadata": {},
   "source": [
    "Fix params file"
   ]
  },
  {
   "cell_type": "code",
   "execution_count": 8,
   "metadata": {},
   "outputs": [
    {
     "data": {
      "application/vnd.jupyter.widget-view+json": {
       "model_id": "e86300ed5e2f44edac96721f002727b5",
       "version_major": 2,
       "version_minor": 0
      },
      "text/plain": [
       "HBox(children=(FloatProgress(value=0.0, description='experiment', max=1.0, style=ProgressStyle(description_wid…"
      ]
     },
     "metadata": {},
     "output_type": "display_data"
    },
    {
     "name": "stdout",
     "output_type": "stream",
     "text": [
      "{'image_path': 'INHS_cropped', 'suffix': 'biology_paper_cleaned_50max', 'img_res': 448, 'augmented': True, 'batchSize': 64, 'learning_rate': 5e-05, 'numOfTrials': 5, 'fc_layers': 1, 'modelType': 'HGNN_add', 'lambda': 0.6, 'unsupervisedOnTest': True, 'tl_model': 'ResNet18', 'link_layer': 'avgpool'}\n",
      "\n",
      "json /home/elhamod/HGNN/experiments/biology_paper_unsupervised/params.json updated\n"
     ]
    }
   ],
   "source": [
    "experiment_list = []\n",
    "with tqdm(total=number_of_experiments, desc=\"experiment\") as bar:\n",
    "    for i, experiment_params in enumerate(config_parser.getExperiments(fixExperiments=False)):\n",
    "        \n",
    "        experiment_params_new = {**experiment_params, **changes} \n",
    "        for key in removes:\n",
    "            experiment_params_new.pop(key, None)\n",
    "        print(experiment_params_new)\n",
    "        experiment_list.append(experiment_params_new)\n",
    "        bar.update()\n",
    "\n",
    "\n",
    "j = json.dumps({\"experimentList\": experiment_list})\n",
    "f = open(old_params_file,\"w\")        \n",
    "f.write(j)\n",
    "f.close()  \n",
    "print(\"json\", old_params_file, \"updated\")"
   ]
  },
  {
   "cell_type": "code",
   "execution_count": null,
   "metadata": {},
   "outputs": [],
   "source": []
  }
 ],
 "metadata": {
  "kernelspec": {
   "display_name": "Python 3",
   "language": "python",
   "name": "python3"
  },
  "language_info": {
   "codemirror_mode": {
    "name": "ipython",
    "version": 3
   },
   "file_extension": ".py",
   "mimetype": "text/x-python",
   "name": "python",
   "nbconvert_exporter": "python",
   "pygments_lexer": "ipython3",
   "version": "3.6.9"
  }
 },
 "nbformat": 4,
 "nbformat_minor": 4
}
