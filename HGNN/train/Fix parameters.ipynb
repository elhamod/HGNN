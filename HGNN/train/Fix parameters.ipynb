{
 "cells": [
  {
   "cell_type": "markdown",
   "metadata": {},
   "source": [
    "imports"
   ]
  },
  {
   "cell_type": "code",
   "execution_count": 1,
   "metadata": {},
   "outputs": [],
   "source": [
    "from tqdm.notebook import tqdm as tqdm\n",
    "import os\n",
    "import json\n",
    "import pandas as pd\n",
    "\n",
    "from HGNN.train.configParser import ConfigParser, getModelName, getDatasetName\n",
    "from myhelpers import TrialStatistics"
   ]
  },
  {
   "cell_type": "markdown",
   "metadata": {},
   "source": [
    "parameters"
   ]
  },
  {
   "cell_type": "code",
   "execution_count": 2,
   "metadata": {},
   "outputs": [],
   "source": [
    "experimentsPath=\"/raid/elhamod/Fish/experiments/\"\n",
    "dataPath=\"/raid/elhamod/Fish/\"\n",
    "experimentName=\"Fish50_30-5run-BB-HGNN-crossvalidation\"\n",
    "\n",
    "cuda=1"
   ]
  },
  {
   "cell_type": "markdown",
   "metadata": {},
   "source": [
    "file and changes"
   ]
  },
  {
   "cell_type": "code",
   "execution_count": 3,
   "metadata": {},
   "outputs": [],
   "source": [
    "old_params_file = os.path.join(experimentsPath, experimentName, \"params.json\")\n",
    "\n",
    "# Keep same order as ConfigParserWriter!\n",
    "changes = {\n",
    "#     \"grayscale\": False, #Keep False\n",
    "#     \"tl_extralayer\": False, #Keep False\n",
    "#     \"random_fitting\": False, #Keep False\n",
    "}\n",
    "removes =[]#[\"noSpeciesBackprop\", \"phylogeny_loss_epsilon\"]"
   ]
  },
  {
   "cell_type": "markdown",
   "metadata": {},
   "source": [
    "prepare"
   ]
  },
  {
   "cell_type": "code",
   "execution_count": 4,
   "metadata": {},
   "outputs": [],
   "source": [
    "config_parser = ConfigParser(experimentsPath, dataPath, experimentName)\n",
    "paramsIterator = config_parser.getExperiments()  \n",
    "number_of_experiments = sum(1 for e in paramsIterator)\n",
    "\n",
    "# populate a hash table of all experiments, indexed by trial hash\n",
    "experiments = {}\n",
    "for i, experiment_params in enumerate(config_parser.getExperiments(fixExperiments=False)):\n",
    "    num_of_models = experiment_params[\"numOfTrials\"]\n",
    "    for k in range(num_of_models):\n",
    "        old_trialHash = TrialStatistics.getTrialName(experiment_params, k)\n",
    "        experiment_params_new = {**experiment_params, **changes} \n",
    "        for key in removes:\n",
    "            experiment_params_new.pop(key, None)\n",
    "        experiment_params_new = config_parser.fixExperimentParams(experiment_params_new)\n",
    "        new_trialHash = TrialStatistics.getTrialName(experiment_params_new, k)\n",
    "        experiments[old_trialHash] = {\"trialHash\": new_trialHash}"
   ]
  },
  {
   "cell_type": "markdown",
   "metadata": {},
   "source": [
    "Fix models"
   ]
  },
  {
   "cell_type": "code",
   "execution_count": 5,
   "metadata": {},
   "outputs": [
    {
     "data": {
      "application/vnd.jupyter.widget-view+json": {
       "model_id": "97d5e26179bf46649b367b255fef1186",
       "version_major": 2,
       "version_minor": 0
      },
      "text/plain": [
       "HBox(children=(FloatProgress(value=0.0, description='experiment', max=4.0, style=ProgressStyle(description_wid…"
      ]
     },
     "metadata": {},
     "output_type": "display_data"
    },
    {
     "name": "stdout",
     "output_type": "stream",
     "text": [
      "{'image_path': 'Curated4/Easy_50', 'suffix': None, 'useCrossValidation': True, 'img_res': 448, 'augmented': True, 'batchSize': 64, 'learning_rate': 0.001, 'numOfTrials': 5, 'fc_layers': 1, 'pretrained': True, 'epochs': 120, 'patience': -1, 'optimizer': 'adabelief', 'scheduler': 'plateau', 'weightdecay': 0.01, 'scheduler_gamma': 0.5, 'scheduler_patience': 15, 'modelType': 'BB', 'lambda': 1, 'two_phase_lambda': False, 'tl_model': 'ResNet18', 'link_layer': 'avgpool', 'adaptive_smoothing': True, 'adaptive_lambda': 0.1, 'adaptive_alpha': 0.5, 'tripletEnabled': False, 'regularTripletLoss': False, 'tripletSamples': 2, 'tripletSelector': 'semihard', 'tripletMargin': 2, 'triplet_layers_dic': 'layer2,layer4', 'L1reg': False, 'phylogeny_loss': False, 'grayscale': False, 'tl_extralayer': False, 'random_fitting': False, 'displayName': 'Fish-crossval-BB-Fish50', 'noSpeciesBackprop': False, 'phylogeny_loss_epsilon': 0.03}\n"
     ]
    },
    {
     "data": {
      "application/vnd.jupyter.widget-view+json": {
       "model_id": "0b7d1fa4195143379cb66ef690e9a6fb",
       "version_major": 2,
       "version_minor": 0
      },
      "text/plain": [
       "HBox(children=(FloatProgress(value=0.0, description='trial', max=5.0, style=ProgressStyle(description_width='i…"
      ]
     },
     "metadata": {},
     "output_type": "display_data"
    },
    {
     "name": "stdout",
     "output_type": "stream",
     "text": [
      "model /raid/elhamod/Fish/experiments/Fish50_30-5run-BB-HGNN-crossvalidation/models/bd7f7df5629b597dfe1130386fd30b2131bdb9c9302c05c0bd5013cc -> /raid/elhamod/Fish/experiments/Fish50_30-5run-BB-HGNN-crossvalidation/models/7d74b5d6f68027861acc8cef16f49314fe898a37c6824c4db16b01fe updated\n",
      "json /raid/elhamod/Fish/experiments/Fish50_30-5run-BB-HGNN-crossvalidation/models/7d74b5d6f68027861acc8cef16f49314fe898a37c6824c4db16b01fe/params.json updated\n",
      "model /raid/elhamod/Fish/experiments/Fish50_30-5run-BB-HGNN-crossvalidation/models/2c5ef04a8af1b5a4a7042afee3ca724e2dc0ee196294434798c41872 -> /raid/elhamod/Fish/experiments/Fish50_30-5run-BB-HGNN-crossvalidation/models/9bac827aa949b7dfb76151a4c5f231691a04b3798a33032c11dacd42 updated\n",
      "json /raid/elhamod/Fish/experiments/Fish50_30-5run-BB-HGNN-crossvalidation/models/9bac827aa949b7dfb76151a4c5f231691a04b3798a33032c11dacd42/params.json updated\n",
      "model /raid/elhamod/Fish/experiments/Fish50_30-5run-BB-HGNN-crossvalidation/models/146813a955c6a7591b7a442681a659b5fa410eeba559b279706f4f9c -> /raid/elhamod/Fish/experiments/Fish50_30-5run-BB-HGNN-crossvalidation/models/b46806f941d8da0d3bc530e781e482d74dbb2b431aac12daa0c618be updated\n",
      "json /raid/elhamod/Fish/experiments/Fish50_30-5run-BB-HGNN-crossvalidation/models/b46806f941d8da0d3bc530e781e482d74dbb2b431aac12daa0c618be/params.json updated\n",
      "model /raid/elhamod/Fish/experiments/Fish50_30-5run-BB-HGNN-crossvalidation/models/ddfc682c9583901bbc7e0d67c545e5c222051a2970ee5d72d1eada10 -> /raid/elhamod/Fish/experiments/Fish50_30-5run-BB-HGNN-crossvalidation/models/c4129611f9e012857430a8c4838eb152036493993972ce01d80803ab updated\n",
      "json /raid/elhamod/Fish/experiments/Fish50_30-5run-BB-HGNN-crossvalidation/models/c4129611f9e012857430a8c4838eb152036493993972ce01d80803ab/params.json updated\n",
      "model /raid/elhamod/Fish/experiments/Fish50_30-5run-BB-HGNN-crossvalidation/models/c29f22ede1910ff11aaac1b80e9f7c126d3c06ea9fa47783108fc473 -> /raid/elhamod/Fish/experiments/Fish50_30-5run-BB-HGNN-crossvalidation/models/e4de11f5858281ed80b1da4d777aaa84c5414129385e8acc612d0233 updated\n",
      "json /raid/elhamod/Fish/experiments/Fish50_30-5run-BB-HGNN-crossvalidation/models/e4de11f5858281ed80b1da4d777aaa84c5414129385e8acc612d0233/params.json updated\n",
      "\n",
      "{'image_path': 'Curated4/Easy_50', 'suffix': None, 'useCrossValidation': True, 'img_res': 448, 'augmented': True, 'batchSize': 64, 'learning_rate': 0.001, 'numOfTrials': 5, 'fc_layers': 1, 'pretrained': True, 'epochs': 120, 'patience': -1, 'optimizer': 'adabelief', 'scheduler': 'plateau', 'weightdecay': 0.01, 'scheduler_gamma': 0.5, 'scheduler_patience': 15, 'modelType': 'HGNN', 'lambda': 1, 'two_phase_lambda': False, 'tl_model': 'ResNet18', 'link_layer': 'avgpool', 'adaptive_smoothing': True, 'adaptive_lambda': 0.1, 'adaptive_alpha': 0.5, 'tripletEnabled': False, 'regularTripletLoss': False, 'tripletSamples': 2, 'tripletSelector': 'semihard', 'tripletMargin': 2, 'triplet_layers_dic': 'layer2,layer4', 'L1reg': False, 'phylogeny_loss': False, 'grayscale': False, 'tl_extralayer': False, 'random_fitting': False, 'displayName': 'Fish-crossval-HGNN-Fish50', 'noSpeciesBackprop': False, 'phylogeny_loss_epsilon': 0.03}\n"
     ]
    },
    {
     "data": {
      "application/vnd.jupyter.widget-view+json": {
       "model_id": "ff9811f8b1274def864b988e900c78a9",
       "version_major": 2,
       "version_minor": 0
      },
      "text/plain": [
       "HBox(children=(FloatProgress(value=0.0, description='trial', max=5.0, style=ProgressStyle(description_width='i…"
      ]
     },
     "metadata": {},
     "output_type": "display_data"
    },
    {
     "name": "stdout",
     "output_type": "stream",
     "text": [
      "model /raid/elhamod/Fish/experiments/Fish50_30-5run-BB-HGNN-crossvalidation/models/a190030f6bd5624d6fb09c63a514db3c7d784bcd2eaa7eee7690e35b -> /raid/elhamod/Fish/experiments/Fish50_30-5run-BB-HGNN-crossvalidation/models/f36b641461b7c18824782b2394234d2d47a9138bfa208430884348ca updated\n",
      "json /raid/elhamod/Fish/experiments/Fish50_30-5run-BB-HGNN-crossvalidation/models/f36b641461b7c18824782b2394234d2d47a9138bfa208430884348ca/params.json updated\n",
      "model /raid/elhamod/Fish/experiments/Fish50_30-5run-BB-HGNN-crossvalidation/models/6e3d62d74eb9c5d61e47f09a5106a087b46d3f105b25ddcb41d79a44 -> /raid/elhamod/Fish/experiments/Fish50_30-5run-BB-HGNN-crossvalidation/models/9ed853bd290dd53f77c71eb118c4c76b8e94b33b69dbc3e882e89cd6 updated\n",
      "json /raid/elhamod/Fish/experiments/Fish50_30-5run-BB-HGNN-crossvalidation/models/9ed853bd290dd53f77c71eb118c4c76b8e94b33b69dbc3e882e89cd6/params.json updated\n",
      "model /raid/elhamod/Fish/experiments/Fish50_30-5run-BB-HGNN-crossvalidation/models/59fcbc0dc5543e020e143fab2217a01cdb9d205cd8c854ca5d87b377 -> /raid/elhamod/Fish/experiments/Fish50_30-5run-BB-HGNN-crossvalidation/models/7f97aa16daf8de351577f32f92f30528a14b84baa57299a8d6baa53e updated\n",
      "json /raid/elhamod/Fish/experiments/Fish50_30-5run-BB-HGNN-crossvalidation/models/7f97aa16daf8de351577f32f92f30528a14b84baa57299a8d6baa53e/params.json updated\n",
      "model /raid/elhamod/Fish/experiments/Fish50_30-5run-BB-HGNN-crossvalidation/models/1347b0caeea435da7030df1a4662e4895a0797b3706f499ed89298c9 -> /raid/elhamod/Fish/experiments/Fish50_30-5run-BB-HGNN-crossvalidation/models/965a5f20563651dfb920d48b238316483ef7c6592fb8a6893c42e4ee updated\n",
      "json /raid/elhamod/Fish/experiments/Fish50_30-5run-BB-HGNN-crossvalidation/models/965a5f20563651dfb920d48b238316483ef7c6592fb8a6893c42e4ee/params.json updated\n",
      "model /raid/elhamod/Fish/experiments/Fish50_30-5run-BB-HGNN-crossvalidation/models/dbdc66b8b91dfa9666e5fddfed4f22359c2e0f82de1f956dafdb70c2 -> /raid/elhamod/Fish/experiments/Fish50_30-5run-BB-HGNN-crossvalidation/models/2f98c8ca30e99917399a81ac7525d30e9a09be5c2e6a757bf798179b updated\n",
      "json /raid/elhamod/Fish/experiments/Fish50_30-5run-BB-HGNN-crossvalidation/models/2f98c8ca30e99917399a81ac7525d30e9a09be5c2e6a757bf798179b/params.json updated\n",
      "\n",
      "{'image_path': 'Curated4/Easy_30', 'suffix': None, 'useCrossValidation': True, 'img_res': 448, 'augmented': True, 'batchSize': 64, 'learning_rate': 0.001, 'numOfTrials': 5, 'fc_layers': 1, 'pretrained': True, 'epochs': 120, 'patience': -1, 'optimizer': 'adabelief', 'scheduler': 'plateau', 'weightdecay': 0.01, 'scheduler_gamma': 0.5, 'scheduler_patience': 15, 'modelType': 'BB', 'lambda': 1, 'two_phase_lambda': False, 'tl_model': 'ResNet18', 'link_layer': 'avgpool', 'adaptive_smoothing': True, 'adaptive_lambda': 0.1, 'adaptive_alpha': 0.5, 'tripletEnabled': False, 'regularTripletLoss': False, 'tripletSamples': 2, 'tripletSelector': 'semihard', 'tripletMargin': 2, 'triplet_layers_dic': 'layer2,layer4', 'L1reg': False, 'phylogeny_loss': False, 'grayscale': False, 'tl_extralayer': False, 'random_fitting': False, 'displayName': 'Fish-crossval-BB-Fish30', 'noSpeciesBackprop': False, 'phylogeny_loss_epsilon': 0.03}\n"
     ]
    },
    {
     "data": {
      "application/vnd.jupyter.widget-view+json": {
       "model_id": "97d0c12555414466ae5c7f39d9a28e67",
       "version_major": 2,
       "version_minor": 0
      },
      "text/plain": [
       "HBox(children=(FloatProgress(value=0.0, description='trial', max=5.0, style=ProgressStyle(description_width='i…"
      ]
     },
     "metadata": {},
     "output_type": "display_data"
    },
    {
     "name": "stdout",
     "output_type": "stream",
     "text": [
      "model /raid/elhamod/Fish/experiments/Fish50_30-5run-BB-HGNN-crossvalidation/models/ac66c01659cc0222967d0e4b13c883c9a997bbc19879989ed2d0a986 -> /raid/elhamod/Fish/experiments/Fish50_30-5run-BB-HGNN-crossvalidation/models/dd26b64ecb481ecd220f334d0583ab5ccc6694772a7825810efb5ea2 updated\n",
      "json /raid/elhamod/Fish/experiments/Fish50_30-5run-BB-HGNN-crossvalidation/models/dd26b64ecb481ecd220f334d0583ab5ccc6694772a7825810efb5ea2/params.json updated\n",
      "model /raid/elhamod/Fish/experiments/Fish50_30-5run-BB-HGNN-crossvalidation/models/a1972b58abab4da30970d541d67b788717765b875d71233ab0db93e2 -> /raid/elhamod/Fish/experiments/Fish50_30-5run-BB-HGNN-crossvalidation/models/efd939b28ab9dbcb31e6f0f304f94bdff0b7002c42f9ee194fc62b21 updated\n",
      "json /raid/elhamod/Fish/experiments/Fish50_30-5run-BB-HGNN-crossvalidation/models/efd939b28ab9dbcb31e6f0f304f94bdff0b7002c42f9ee194fc62b21/params.json updated\n",
      "model /raid/elhamod/Fish/experiments/Fish50_30-5run-BB-HGNN-crossvalidation/models/2db97f4aa2d72bf2454a55a502fb8ad2f75c6aa74dbd310e12cd0187 -> /raid/elhamod/Fish/experiments/Fish50_30-5run-BB-HGNN-crossvalidation/models/5d3ce421dd81e0c286d9e932e1f6ac15cb57d86bbd84612f8f606296 updated\n",
      "json /raid/elhamod/Fish/experiments/Fish50_30-5run-BB-HGNN-crossvalidation/models/5d3ce421dd81e0c286d9e932e1f6ac15cb57d86bbd84612f8f606296/params.json updated\n",
      "model /raid/elhamod/Fish/experiments/Fish50_30-5run-BB-HGNN-crossvalidation/models/1c3dc43465d1b5fee71fd51f7677c5250cab46cfa057540ab10db219 -> /raid/elhamod/Fish/experiments/Fish50_30-5run-BB-HGNN-crossvalidation/models/99d7561fbe09c20a98c33f3322bcb781482510190e64987baaf0ad60 updated\n",
      "json /raid/elhamod/Fish/experiments/Fish50_30-5run-BB-HGNN-crossvalidation/models/99d7561fbe09c20a98c33f3322bcb781482510190e64987baaf0ad60/params.json updated\n",
      "model /raid/elhamod/Fish/experiments/Fish50_30-5run-BB-HGNN-crossvalidation/models/9675a3c01da5edcf8775125f1bacbfb0b828aae3f45e22ea0d2d56be -> /raid/elhamod/Fish/experiments/Fish50_30-5run-BB-HGNN-crossvalidation/models/0747ab84f80ddd86303c6908994f92471453618f8dfbf48cddec0760 updated\n",
      "json /raid/elhamod/Fish/experiments/Fish50_30-5run-BB-HGNN-crossvalidation/models/0747ab84f80ddd86303c6908994f92471453618f8dfbf48cddec0760/params.json updated\n",
      "\n",
      "{'image_path': 'Curated4/Easy_30', 'suffix': None, 'useCrossValidation': True, 'img_res': 448, 'augmented': True, 'batchSize': 64, 'learning_rate': 0.001, 'numOfTrials': 5, 'fc_layers': 1, 'pretrained': True, 'epochs': 120, 'patience': -1, 'optimizer': 'adabelief', 'scheduler': 'plateau', 'weightdecay': 0.01, 'scheduler_gamma': 0.5, 'scheduler_patience': 15, 'modelType': 'HGNN', 'lambda': 1, 'two_phase_lambda': False, 'tl_model': 'ResNet18', 'link_layer': 'avgpool', 'adaptive_smoothing': True, 'adaptive_lambda': 0.1, 'adaptive_alpha': 0.5, 'tripletEnabled': False, 'regularTripletLoss': False, 'tripletSamples': 2, 'tripletSelector': 'semihard', 'tripletMargin': 2, 'triplet_layers_dic': 'layer2,layer4', 'L1reg': False, 'phylogeny_loss': False, 'grayscale': False, 'tl_extralayer': False, 'random_fitting': False, 'displayName': 'Fish-crossval-HGNN-Fish30', 'noSpeciesBackprop': False, 'phylogeny_loss_epsilon': 0.03}\n"
     ]
    },
    {
     "data": {
      "application/vnd.jupyter.widget-view+json": {
       "model_id": "306f2bdbee7348b587ab64d595e6ef2d",
       "version_major": 2,
       "version_minor": 0
      },
      "text/plain": [
       "HBox(children=(FloatProgress(value=0.0, description='trial', max=5.0, style=ProgressStyle(description_width='i…"
      ]
     },
     "metadata": {},
     "output_type": "display_data"
    },
    {
     "name": "stdout",
     "output_type": "stream",
     "text": [
      "model /raid/elhamod/Fish/experiments/Fish50_30-5run-BB-HGNN-crossvalidation/models/6526ddd4e50f2bd16d9d28ba69050349953d86235921b952a0da7560 -> /raid/elhamod/Fish/experiments/Fish50_30-5run-BB-HGNN-crossvalidation/models/735f803d55a962b47f6ab123da19196922342f095835ea4a1bf4687d updated\n",
      "json /raid/elhamod/Fish/experiments/Fish50_30-5run-BB-HGNN-crossvalidation/models/735f803d55a962b47f6ab123da19196922342f095835ea4a1bf4687d/params.json updated\n",
      "model /raid/elhamod/Fish/experiments/Fish50_30-5run-BB-HGNN-crossvalidation/models/26d8863103eebc7bba4af66e7d7dc13c6b7edf70b32337c7c3902caa -> /raid/elhamod/Fish/experiments/Fish50_30-5run-BB-HGNN-crossvalidation/models/2b1af729f4cc65f1c709b9654c5894bebda01f3e278d795464153ae2 updated\n",
      "json /raid/elhamod/Fish/experiments/Fish50_30-5run-BB-HGNN-crossvalidation/models/2b1af729f4cc65f1c709b9654c5894bebda01f3e278d795464153ae2/params.json updated\n",
      "model /raid/elhamod/Fish/experiments/Fish50_30-5run-BB-HGNN-crossvalidation/models/f4b4154478c1821a3bc9159ca2fae4ad1760352c922862710c165650 -> /raid/elhamod/Fish/experiments/Fish50_30-5run-BB-HGNN-crossvalidation/models/43bd5e9f4cdc4a563082811f9d5b5eb448b72a0d2816673e92f96fed updated\n",
      "json /raid/elhamod/Fish/experiments/Fish50_30-5run-BB-HGNN-crossvalidation/models/43bd5e9f4cdc4a563082811f9d5b5eb448b72a0d2816673e92f96fed/params.json updated\n",
      "model /raid/elhamod/Fish/experiments/Fish50_30-5run-BB-HGNN-crossvalidation/models/2b5627b7208a35686d1d3988a984c9485c8ba54df6dc7963c0c509e2 -> /raid/elhamod/Fish/experiments/Fish50_30-5run-BB-HGNN-crossvalidation/models/3f0a3ae177cbad0c5b14549896e682d1b1f82ac7dcc52e36e726bb44 updated\n",
      "json /raid/elhamod/Fish/experiments/Fish50_30-5run-BB-HGNN-crossvalidation/models/3f0a3ae177cbad0c5b14549896e682d1b1f82ac7dcc52e36e726bb44/params.json updated\n",
      "model /raid/elhamod/Fish/experiments/Fish50_30-5run-BB-HGNN-crossvalidation/models/9d6646b1d44b3034255f21a9d658fffe2f80e4f2180745e169abeb72 -> /raid/elhamod/Fish/experiments/Fish50_30-5run-BB-HGNN-crossvalidation/models/aa6fade94c72a1da9d57f3348cbadc7911bfbf265dc8e872c5cf7ab9 updated\n",
      "json /raid/elhamod/Fish/experiments/Fish50_30-5run-BB-HGNN-crossvalidation/models/aa6fade94c72a1da9d57f3348cbadc7911bfbf265dc8e872c5cf7ab9/params.json updated\n",
      "\n",
      "\n"
     ]
    }
   ],
   "source": [
    "with tqdm(total=number_of_experiments, desc=\"experiment\") as bar:\n",
    "    for i, experiment_params in enumerate(config_parser.getExperiments(fixExperiments=False)):\n",
    "        print(experiment_params)\n",
    "        experiment_params_new = {**experiment_params, **changes} \n",
    "        for key in removes:\n",
    "            experiment_params_new.pop(key, None)\n",
    "        experiment_params_new = config_parser.fixExperimentParams(experiment_params_new)\n",
    "\n",
    "        num_of_models = experiment_params[\"numOfTrials\"]\n",
    "        with tqdm(total=num_of_models, desc=\"trial\") as bar2:\n",
    "            for k in range(num_of_models):\n",
    "            \n",
    "                # Fix model names\n",
    "                old_model_name = getModelName(experiment_params, k)\n",
    "                old_modelPath = os.path.join(experimentsPath, experimentName, old_model_name)\n",
    "                new_model_name = getModelName(experiment_params_new, k)\n",
    "                new_modelPath = os.path.join(experimentsPath, experimentName, new_model_name)\n",
    "\n",
    "                try:\n",
    "                    if os.path.exists(old_modelPath):\n",
    "                        os.rename(old_modelPath, new_modelPath)\n",
    "                        print(\"model\", old_modelPath, '->', new_modelPath, \"updated\")\n",
    "\n",
    "                        j = json.dumps(experiment_params_new)\n",
    "                        json_fileName = os.path.join(new_modelPath, 'params.json')\n",
    "                        f = open(json_fileName,\"w\")        \n",
    "                        f.write(j)\n",
    "                        f.close()  \n",
    "                        print(\"json\", json_fileName, \"updated\")\n",
    "                    else:\n",
    "                        raise\n",
    "                    \n",
    "                except:\n",
    "                    print(\"model\", old_model_name, \"could not be fixed to\", new_model_name)\n",
    "                    pass  \n",
    "                \n",
    "                \n",
    "\n",
    "                bar2.update()\n",
    "                \n",
    "                experiments[TrialStatistics.getTrialName(experiment_params, k)]['modelName'] = new_model_name\n",
    "\n",
    "        bar.update()"
   ]
  },
  {
   "cell_type": "markdown",
   "metadata": {},
   "source": [
    "Fix results directory"
   ]
  },
  {
   "cell_type": "code",
   "execution_count": 6,
   "metadata": {},
   "outputs": [
    {
     "data": {
      "application/vnd.jupyter.widget-view+json": {
       "model_id": "cc7bf4c49502494ca6d884411c0c8d18",
       "version_major": 2,
       "version_minor": 0
      },
      "text/plain": [
       "HBox(children=(FloatProgress(value=0.0, description='experiment', max=4.0, style=ProgressStyle(description_wid…"
      ]
     },
     "metadata": {},
     "output_type": "display_data"
    },
    {
     "name": "stdout",
     "output_type": "stream",
     "text": [
      "result fa6b2774ea3f35150e141c7b72efe57fd9f6ef535d2e4c0560edf4d8 could not be fixed to 5012e2508f9af6112dbd38c888444bef4daccf1f29300ad8ea22c333\n",
      "result a42d0f228237837252c2759a1ddcb60e3143a23dde3a2c760ad261f4 could not be fixed to dfab59da5d7afe0bf571a0363d2ad82c38c6d4e01c6f4a3d688234cf\n",
      "result 46f1053af38040f7a1d9139b7cebc9026ca2bd60d4f4345c11ff6e3d could not be fixed to 1cbb6b50812a0f556ced21e105bda0e5b5502a23e0c3031706f6d308\n",
      "result fa08114cdc1ce789954cc2cb09b6b48065919f6b2e02eda4176eb7ed could not be fixed to 7e56c35c90083a6eeb23d72833a80e48c48bfe876c958a790be53545\n",
      "\n"
     ]
    }
   ],
   "source": [
    "with tqdm(total=number_of_experiments, desc=\"experiment\") as bar:\n",
    "    for i, experiment_params in enumerate(config_parser.getExperiments(fixExperiments=False)):\n",
    "        experiment_params_new = {**experiment_params, **changes} \n",
    "        for key in removes:\n",
    "            experiment_params_new.pop(key, None)\n",
    "        experiment_params_new = config_parser.fixExperimentParams(experiment_params_new)\n",
    "\n",
    "        old_experimentHash = TrialStatistics.getTrialName(experiment_params)\n",
    "        old_experimentPath = os.path.join(experimentsPath, experimentName, \"results\", old_experimentHash)\n",
    "        new_experimentHash = TrialStatistics.getTrialName(experiment_params_new)\n",
    "        new_experimentPath = os.path.join(experimentsPath, experimentName, \"results\", new_experimentHash)\n",
    "        \n",
    "        try:\n",
    "            if os.path.exists(old_experimentPath):\n",
    "\n",
    "                os.rename(old_experimentPath, new_experimentPath)\n",
    "                print(\"result\", old_experimentPath, '->', new_experimentPath, \"updated\")\n",
    "\n",
    "                j = json.dumps(experiment_params_new)\n",
    "                json_fileName = os.path.join(new_experimentPath, 'params.json')\n",
    "                f = open(json_fileName,\"w\")        \n",
    "                f.write(j)\n",
    "                f.close()  \n",
    "                print(\"json\", json_fileName, \"updated\")\n",
    "            else:\n",
    "                raise\n",
    "                \n",
    "        except:\n",
    "            print(\"result\", old_experimentHash, \"could not be fixed to\",new_experimentHash)\n",
    "            pass \n",
    "        \n",
    "        experiments[TrialStatistics.getTrialName(experiment_params, 0)]['experimentHash'] = new_experimentHash\n",
    "        \n",
    "        bar.update()"
   ]
  },
  {
   "cell_type": "markdown",
   "metadata": {},
   "source": [
    "Fix experiments file"
   ]
  },
  {
   "cell_type": "code",
   "execution_count": 7,
   "metadata": {},
   "outputs": [
    {
     "data": {
      "application/vnd.jupyter.widget-view+json": {
       "model_id": "3784c876061a431aa32dc2faddd485e2",
       "version_major": 2,
       "version_minor": 0
      },
      "text/plain": [
       "HBox(children=(FloatProgress(value=0.0, description='experiment', max=4.0, style=ProgressStyle(description_wid…"
      ]
     },
     "metadata": {},
     "output_type": "display_data"
    },
    {
     "data": {
      "application/vnd.jupyter.widget-view+json": {
       "model_id": "063a9b4a6f1840608f3cc32193d8a6e0",
       "version_major": 2,
       "version_minor": 0
      },
      "text/plain": [
       "HBox(children=(FloatProgress(value=0.0, description='trial', max=5.0, style=ProgressStyle(description_width='i…"
      ]
     },
     "metadata": {},
     "output_type": "display_data"
    },
    {
     "name": "stdout",
     "output_type": "stream",
     "text": [
      "trialHash bd7f7df5629b597dfe1130386fd30b2131bdb9c9302c05c0bd5013cc could not be updated!\n",
      "trialHash 2c5ef04a8af1b5a4a7042afee3ca724e2dc0ee196294434798c41872 could not be updated!\n",
      "trialHash 146813a955c6a7591b7a442681a659b5fa410eeba559b279706f4f9c could not be updated!\n",
      "trialHash ddfc682c9583901bbc7e0d67c545e5c222051a2970ee5d72d1eada10 could not be updated!\n",
      "trialHash c29f22ede1910ff11aaac1b80e9f7c126d3c06ea9fa47783108fc473 could not be updated!\n",
      "\n"
     ]
    },
    {
     "name": "stderr",
     "output_type": "stream",
     "text": [
      "/home/elhamod/melhamodenv3/lib/python3.6/site-packages/ipykernel_launcher.py:23: UserWarning: Boolean Series key will be reindexed to match DataFrame index.\n",
      "/home/elhamod/melhamodenv3/lib/python3.6/site-packages/ipykernel_launcher.py:28: UserWarning: Boolean Series key will be reindexed to match DataFrame index.\n"
     ]
    },
    {
     "data": {
      "application/vnd.jupyter.widget-view+json": {
       "model_id": "53378488fc27479e9f3aa6997ef00f49",
       "version_major": 2,
       "version_minor": 0
      },
      "text/plain": [
       "HBox(children=(FloatProgress(value=0.0, description='trial', max=5.0, style=ProgressStyle(description_width='i…"
      ]
     },
     "metadata": {},
     "output_type": "display_data"
    },
    {
     "name": "stdout",
     "output_type": "stream",
     "text": [
      "trialHash a190030f6bd5624d6fb09c63a514db3c7d784bcd2eaa7eee7690e35b could not be updated!\n",
      "trialHash 6e3d62d74eb9c5d61e47f09a5106a087b46d3f105b25ddcb41d79a44 could not be updated!\n",
      "trialHash 59fcbc0dc5543e020e143fab2217a01cdb9d205cd8c854ca5d87b377 could not be updated!\n",
      "trialHash 1347b0caeea435da7030df1a4662e4895a0797b3706f499ed89298c9 could not be updated!\n",
      "trialHash dbdc66b8b91dfa9666e5fddfed4f22359c2e0f82de1f956dafdb70c2 could not be updated!\n",
      "\n"
     ]
    },
    {
     "data": {
      "application/vnd.jupyter.widget-view+json": {
       "model_id": "83f65c36119e42bc9c6e5e960b1376ed",
       "version_major": 2,
       "version_minor": 0
      },
      "text/plain": [
       "HBox(children=(FloatProgress(value=0.0, description='trial', max=5.0, style=ProgressStyle(description_width='i…"
      ]
     },
     "metadata": {},
     "output_type": "display_data"
    },
    {
     "name": "stdout",
     "output_type": "stream",
     "text": [
      "trialHash ac66c01659cc0222967d0e4b13c883c9a997bbc19879989ed2d0a986 could not be updated!\n",
      "trialHash a1972b58abab4da30970d541d67b788717765b875d71233ab0db93e2 could not be updated!\n",
      "trialHash 2db97f4aa2d72bf2454a55a502fb8ad2f75c6aa74dbd310e12cd0187 could not be updated!\n",
      "trialHash 1c3dc43465d1b5fee71fd51f7677c5250cab46cfa057540ab10db219 could not be updated!\n",
      "trialHash 9675a3c01da5edcf8775125f1bacbfb0b828aae3f45e22ea0d2d56be could not be updated!\n",
      "\n"
     ]
    },
    {
     "data": {
      "application/vnd.jupyter.widget-view+json": {
       "model_id": "fb6da29d8d514287aa19006ff3cbfbf6",
       "version_major": 2,
       "version_minor": 0
      },
      "text/plain": [
       "HBox(children=(FloatProgress(value=0.0, description='trial', max=5.0, style=ProgressStyle(description_width='i…"
      ]
     },
     "metadata": {},
     "output_type": "display_data"
    },
    {
     "name": "stdout",
     "output_type": "stream",
     "text": [
      "trialHash 6526ddd4e50f2bd16d9d28ba69050349953d86235921b952a0da7560 could not be updated!\n",
      "trialHash 26d8863103eebc7bba4af66e7d7dc13c6b7edf70b32337c7c3902caa could not be updated!\n",
      "trialHash f4b4154478c1821a3bc9159ca2fae4ad1760352c922862710c165650 could not be updated!\n",
      "trialHash 2b5627b7208a35686d1d3988a984c9485c8ba54df6dc7963c0c509e2 could not be updated!\n",
      "trialHash 9d6646b1d44b3034255f21a9d658fffe2f80e4f2180745e169abeb72 could not be updated!\n",
      "\n",
      "\n"
     ]
    }
   ],
   "source": [
    "# open experiments.csv file\n",
    "experimentsFileNameAndPath=os.path.join(experimentsPath, \"experiments.csv\")\n",
    "experiments_file= pd.read_csv(experimentsFileNameAndPath)\n",
    "\n",
    "# For all experiments\n",
    "with tqdm(total=number_of_experiments, desc=\"experiment\") as bar:\n",
    "    for i, experiment_params in enumerate(config_parser.getExperiments(fixExperiments=False)):\n",
    "        \n",
    "        numOfTrials = experiment_params[\"numOfTrials\"]\n",
    "        trialHash_0 = TrialStatistics.getTrialName(experiment_params, 0) # used for keys who don't change for different trials\n",
    "        for key in removes:\n",
    "            experiment_params_new.pop(key, None)\n",
    "        experiment_params_new = {**experiment_params, **changes} \n",
    "        experiment_params_new = config_parser.fixExperimentParams(experiment_params_new)\n",
    "        \n",
    "        # For all trials\n",
    "        with tqdm(total=num_of_models, desc=\"trial\") as bar2:\n",
    "            for j in range(numOfTrials):\n",
    "                \n",
    "                trialHash = TrialStatistics.getTrialName(experiment_params, j)\n",
    "                try:\n",
    "                    # If old entry doesn't exist, nothing to update\n",
    "                    record_exists = not (experiments_file[experiments_file['trialHash'] == trialHash][experiments_file['experimentName'] == experimentName]).empty\n",
    "                    if record_exists:\n",
    "                        \n",
    "                        # drop old row and caluclate new row\n",
    "                        new_trialHash = experiments[trialHash][\"trialHash\"]\n",
    "                        experiments_file.drop(experiments_file[experiments_file['trialHash'] == trialHash][experiments_file['experimentName'] == experimentName].index, inplace = True) \n",
    "                        row_information = {\n",
    "                            'experimentName': experimentName,\n",
    "                            'modelName': experiments[trialHash][\"modelName\"],\n",
    "                            'datasetName': experiments[trialHash_0][\"datasetName\"],\n",
    "                            'experimentHash': experiments[trialHash_0][\"experimentHash\"],\n",
    "                            'trialHash': new_trialHash\n",
    "                        }\n",
    "                        row_information = {**row_information, **experiment_params_new} \n",
    "\n",
    "                        # error handling to avoid duplicates\n",
    "                        record_exists = not (experiments_file[experiments_file['trialHash'] == new_trialHash][experiments_file['experimentName'] == experimentName]).empty\n",
    "                        if record_exists:\n",
    "                            experiments_file.drop(experiments_file[experiments_file['trialHash'] == new_trialHash][experiments_file['experimentName'] == experimentName].index, inplace = True) \n",
    "\n",
    "                        # update with new entry    \n",
    "                        experiments_file = experiments_file.append(pd.DataFrame(row_information, index=[0]), ignore_index = True)\n",
    "                        print(\"trialHash\", trialHash, \"->\", new_trialHash, \"updated\")\n",
    "                except:\n",
    "                    print(\"trialHash\", trialHash, \"could not be updated!\")\n",
    "                    pass\n",
    "                bar2.update()\n",
    "        bar.update()\n",
    "\n",
    "# resave file\n",
    "experiments_file.to_csv(experimentsFileNameAndPath, header=True, index=False)"
   ]
  },
  {
   "cell_type": "markdown",
   "metadata": {},
   "source": [
    "Fix params file"
   ]
  },
  {
   "cell_type": "code",
   "execution_count": 8,
   "metadata": {},
   "outputs": [
    {
     "data": {
      "application/vnd.jupyter.widget-view+json": {
       "model_id": "cd95740eea3b490c924ed8c098af5881",
       "version_major": 2,
       "version_minor": 0
      },
      "text/plain": [
       "HBox(children=(FloatProgress(value=0.0, description='experiment', max=4.0, style=ProgressStyle(description_wid…"
      ]
     },
     "metadata": {},
     "output_type": "display_data"
    },
    {
     "name": "stdout",
     "output_type": "stream",
     "text": [
      "{'image_path': 'Curated4/Easy_50', 'suffix': None, 'useCrossValidation': True, 'img_res': 448, 'augmented': True, 'batchSize': 64, 'learning_rate': 0.001, 'numOfTrials': 5, 'fc_layers': 1, 'pretrained': True, 'epochs': 120, 'patience': -1, 'optimizer': 'adabelief', 'scheduler': 'plateau', 'weightdecay': 0.01, 'scheduler_gamma': 0.5, 'scheduler_patience': 15, 'modelType': 'BB', 'lambda': 1, 'two_phase_lambda': False, 'tl_model': 'ResNet18', 'link_layer': 'avgpool', 'adaptive_smoothing': True, 'adaptive_lambda': 0.1, 'adaptive_alpha': 0.5, 'tripletEnabled': False, 'regularTripletLoss': False, 'tripletSamples': 2, 'tripletSelector': 'semihard', 'tripletMargin': 2, 'triplet_layers_dic': 'layer2,layer4', 'L1reg': False, 'phylogeny_loss': False, 'grayscale': False, 'tl_extralayer': False, 'random_fitting': False, 'displayName': 'Fish-crossval-BB-Fish50', 'noSpeciesBackprop': False, 'phylogeny_loss_epsilon': 0.03}\n",
      "{'image_path': 'Curated4/Easy_50', 'suffix': None, 'useCrossValidation': True, 'img_res': 448, 'augmented': True, 'batchSize': 64, 'learning_rate': 0.001, 'numOfTrials': 5, 'fc_layers': 1, 'pretrained': True, 'epochs': 120, 'patience': -1, 'optimizer': 'adabelief', 'scheduler': 'plateau', 'weightdecay': 0.01, 'scheduler_gamma': 0.5, 'scheduler_patience': 15, 'modelType': 'HGNN', 'lambda': 1, 'two_phase_lambda': False, 'tl_model': 'ResNet18', 'link_layer': 'avgpool', 'adaptive_smoothing': True, 'adaptive_lambda': 0.1, 'adaptive_alpha': 0.5, 'tripletEnabled': False, 'regularTripletLoss': False, 'tripletSamples': 2, 'tripletSelector': 'semihard', 'tripletMargin': 2, 'triplet_layers_dic': 'layer2,layer4', 'L1reg': False, 'phylogeny_loss': False, 'grayscale': False, 'tl_extralayer': False, 'random_fitting': False, 'displayName': 'Fish-crossval-HGNN-Fish50', 'noSpeciesBackprop': False, 'phylogeny_loss_epsilon': 0.03}\n",
      "{'image_path': 'Curated4/Easy_30', 'suffix': None, 'useCrossValidation': True, 'img_res': 448, 'augmented': True, 'batchSize': 64, 'learning_rate': 0.001, 'numOfTrials': 5, 'fc_layers': 1, 'pretrained': True, 'epochs': 120, 'patience': -1, 'optimizer': 'adabelief', 'scheduler': 'plateau', 'weightdecay': 0.01, 'scheduler_gamma': 0.5, 'scheduler_patience': 15, 'modelType': 'BB', 'lambda': 1, 'two_phase_lambda': False, 'tl_model': 'ResNet18', 'link_layer': 'avgpool', 'adaptive_smoothing': True, 'adaptive_lambda': 0.1, 'adaptive_alpha': 0.5, 'tripletEnabled': False, 'regularTripletLoss': False, 'tripletSamples': 2, 'tripletSelector': 'semihard', 'tripletMargin': 2, 'triplet_layers_dic': 'layer2,layer4', 'L1reg': False, 'phylogeny_loss': False, 'grayscale': False, 'tl_extralayer': False, 'random_fitting': False, 'displayName': 'Fish-crossval-BB-Fish30', 'noSpeciesBackprop': False, 'phylogeny_loss_epsilon': 0.03}\n",
      "{'image_path': 'Curated4/Easy_30', 'suffix': None, 'useCrossValidation': True, 'img_res': 448, 'augmented': True, 'batchSize': 64, 'learning_rate': 0.001, 'numOfTrials': 5, 'fc_layers': 1, 'pretrained': True, 'epochs': 120, 'patience': -1, 'optimizer': 'adabelief', 'scheduler': 'plateau', 'weightdecay': 0.01, 'scheduler_gamma': 0.5, 'scheduler_patience': 15, 'modelType': 'HGNN', 'lambda': 1, 'two_phase_lambda': False, 'tl_model': 'ResNet18', 'link_layer': 'avgpool', 'adaptive_smoothing': True, 'adaptive_lambda': 0.1, 'adaptive_alpha': 0.5, 'tripletEnabled': False, 'regularTripletLoss': False, 'tripletSamples': 2, 'tripletSelector': 'semihard', 'tripletMargin': 2, 'triplet_layers_dic': 'layer2,layer4', 'L1reg': False, 'phylogeny_loss': False, 'grayscale': False, 'tl_extralayer': False, 'random_fitting': False, 'displayName': 'Fish-crossval-HGNN-Fish30', 'noSpeciesBackprop': False, 'phylogeny_loss_epsilon': 0.03}\n",
      "\n",
      "json /raid/elhamod/Fish/experiments/Fish50_30-5run-BB-HGNN-crossvalidation/params.json updated\n"
     ]
    }
   ],
   "source": [
    "experiment_list = []\n",
    "with tqdm(total=number_of_experiments, desc=\"experiment\") as bar:\n",
    "    for i, experiment_params in enumerate(config_parser.getExperiments(fixExperiments=False)):\n",
    "        \n",
    "        experiment_params_new = {**experiment_params, **changes} \n",
    "        for key in removes:\n",
    "            experiment_params_new.pop(key, None)\n",
    "        print(experiment_params_new)\n",
    "        experiment_list.append(experiment_params_new)\n",
    "        bar.update()\n",
    "\n",
    "\n",
    "j = json.dumps({\"experimentList\": experiment_list})\n",
    "f = open(old_params_file,\"w\")        \n",
    "f.write(j)\n",
    "f.close()  \n",
    "print(\"json\", old_params_file, \"updated\")"
   ]
  },
  {
   "cell_type": "code",
   "execution_count": null,
   "metadata": {},
   "outputs": [],
   "source": []
  }
 ],
 "metadata": {
  "kernelspec": {
   "display_name": "Python 3",
   "language": "python",
   "name": "python3"
  },
  "language_info": {
   "codemirror_mode": {
    "name": "ipython",
    "version": 3
   },
   "file_extension": ".py",
   "mimetype": "text/x-python",
   "name": "python",
   "nbconvert_exporter": "python",
   "pygments_lexer": "ipython3",
   "version": "3.6.9"
  }
 },
 "nbformat": 4,
 "nbformat_minor": 4
}
