{
 "cells": [
  {
   "cell_type": "markdown",
   "metadata": {},
   "source": [
    "imports"
   ]
  },
  {
   "cell_type": "code",
   "execution_count": 1,
   "metadata": {},
   "outputs": [],
   "source": [
    "from tqdm.notebook import tqdm as tqdm\n",
    "import os\n",
    "import json\n",
    "import pandas as pd\n",
    "\n",
    "from HGNN.train.configParser import ConfigParser, getModelName, getDatasetName\n",
    "from myhelpers import TrialStatistics"
   ]
  },
  {
   "cell_type": "markdown",
   "metadata": {},
   "source": [
    "parameters"
   ]
  },
  {
   "cell_type": "code",
   "execution_count": 2,
   "metadata": {},
   "outputs": [],
   "source": [
    "experimentsPath=\"/raid/elhamod/Fish/experiments/\"\n",
    "dataPath=\"/raid/elhamod/Fish/\"\n",
    "experimentName=\"biology_paper_curated4_Easy50_tryphylogeny_weightedCrossEntropy\"\n",
    "\n",
    "cuda=0"
   ]
  },
  {
   "cell_type": "markdown",
   "metadata": {},
   "source": [
    "file and changes"
   ]
  },
  {
   "cell_type": "code",
   "execution_count": 3,
   "metadata": {},
   "outputs": [],
   "source": [
    "old_params_file = os.path.join(experimentsPath, experimentName, \"params.json\")\n",
    "\n",
    "# Keep same order as ConfigParserWriter!\n",
    "changes = {\n",
    "    'phylogeny_loss_epsilon': 0.1\n",
    "}\n",
    "removes = []"
   ]
  },
  {
   "cell_type": "markdown",
   "metadata": {},
   "source": [
    "prepare"
   ]
  },
  {
   "cell_type": "code",
   "execution_count": 4,
   "metadata": {},
   "outputs": [],
   "source": [
    "config_parser = ConfigParser(experimentsPath, dataPath, experimentName)\n",
    "paramsIterator = config_parser.getExperiments()  \n",
    "number_of_experiments = sum(1 for e in paramsIterator)\n",
    "\n",
    "# populate a hash table of all experiments, indexed by trial hash\n",
    "experiments = {}\n",
    "for i, experiment_params in enumerate(config_parser.getExperiments(fixExperiments=False)):\n",
    "    num_of_models = experiment_params[\"numOfTrials\"]\n",
    "    for k in range(num_of_models):\n",
    "        old_trialHash = TrialStatistics.getTrialName(experiment_params, k)\n",
    "        experiment_params_new = {**experiment_params, **changes} \n",
    "        for key in removes:\n",
    "            experiment_params_new.pop(key, None)\n",
    "        experiment_params_new = config_parser.fixExperimentParams(experiment_params_new)\n",
    "        new_trialHash = TrialStatistics.getTrialName(experiment_params_new, k)\n",
    "        experiments[old_trialHash] = {\"trialHash\": new_trialHash}"
   ]
  },
  {
   "cell_type": "markdown",
   "metadata": {},
   "source": [
    "Fix models"
   ]
  },
  {
   "cell_type": "code",
   "execution_count": 5,
   "metadata": {},
   "outputs": [
    {
     "data": {
      "application/vnd.jupyter.widget-view+json": {
       "model_id": "6a04ebca45bc453bb0cf873015ac1f71",
       "version_major": 2,
       "version_minor": 0
      },
      "text/plain": [
       "HBox(children=(FloatProgress(value=0.0, description='experiment', max=10.0, style=ProgressStyle(description_wi…"
      ]
     },
     "metadata": {},
     "output_type": "display_data"
    },
    {
     "data": {
      "application/vnd.jupyter.widget-view+json": {
       "model_id": "698be7c7debb48f6bb65094e63516b8f",
       "version_major": 2,
       "version_minor": 0
      },
      "text/plain": [
       "HBox(children=(FloatProgress(value=0.0, description='trial', max=3.0, style=ProgressStyle(description_width='i…"
      ]
     },
     "metadata": {},
     "output_type": "display_data"
    },
    {
     "name": "stdout",
     "output_type": "stream",
     "text": [
      "model /raid/elhamod/Fish/experiments/biology_paper_curated4_Easy50_tryphylogeny_weightedCrossEntropy/models/dc19ceb70a2bb74bd40226e29d2c3836a9661db8c1a6d25412a4ce64 -> /raid/elhamod/Fish/experiments/biology_paper_curated4_Easy50_tryphylogeny_weightedCrossEntropy/models/dc19ceb70a2bb74bd40226e29d2c3836a9661db8c1a6d25412a4ce64 updated\n",
      "json /raid/elhamod/Fish/experiments/biology_paper_curated4_Easy50_tryphylogeny_weightedCrossEntropy/models/dc19ceb70a2bb74bd40226e29d2c3836a9661db8c1a6d25412a4ce64/params.json updated\n",
      "model /raid/elhamod/Fish/experiments/biology_paper_curated4_Easy50_tryphylogeny_weightedCrossEntropy/models/f588c02456be120d71feb48d57a2ef911d1e0e924c44dd5c3703113b -> /raid/elhamod/Fish/experiments/biology_paper_curated4_Easy50_tryphylogeny_weightedCrossEntropy/models/f588c02456be120d71feb48d57a2ef911d1e0e924c44dd5c3703113b updated\n",
      "json /raid/elhamod/Fish/experiments/biology_paper_curated4_Easy50_tryphylogeny_weightedCrossEntropy/models/f588c02456be120d71feb48d57a2ef911d1e0e924c44dd5c3703113b/params.json updated\n",
      "model /raid/elhamod/Fish/experiments/biology_paper_curated4_Easy50_tryphylogeny_weightedCrossEntropy/models/d01696c44f161b6b1e6c253790907b03a1d968ea62af0a07f84ace87 -> /raid/elhamod/Fish/experiments/biology_paper_curated4_Easy50_tryphylogeny_weightedCrossEntropy/models/d01696c44f161b6b1e6c253790907b03a1d968ea62af0a07f84ace87 updated\n",
      "json /raid/elhamod/Fish/experiments/biology_paper_curated4_Easy50_tryphylogeny_weightedCrossEntropy/models/d01696c44f161b6b1e6c253790907b03a1d968ea62af0a07f84ace87/params.json updated\n",
      "\n"
     ]
    },
    {
     "data": {
      "application/vnd.jupyter.widget-view+json": {
       "model_id": "678bf8d9dbfa4e3a98d1122b53dde082",
       "version_major": 2,
       "version_minor": 0
      },
      "text/plain": [
       "HBox(children=(FloatProgress(value=0.0, description='trial', max=3.0, style=ProgressStyle(description_width='i…"
      ]
     },
     "metadata": {},
     "output_type": "display_data"
    },
    {
     "name": "stdout",
     "output_type": "stream",
     "text": [
      "model /raid/elhamod/Fish/experiments/biology_paper_curated4_Easy50_tryphylogeny_weightedCrossEntropy/models/de716be0d590b45554d9a7cb47e01c436bcde97ab69c4ddaf3d82ba9 -> /raid/elhamod/Fish/experiments/biology_paper_curated4_Easy50_tryphylogeny_weightedCrossEntropy/models/de716be0d590b45554d9a7cb47e01c436bcde97ab69c4ddaf3d82ba9 updated\n",
      "json /raid/elhamod/Fish/experiments/biology_paper_curated4_Easy50_tryphylogeny_weightedCrossEntropy/models/de716be0d590b45554d9a7cb47e01c436bcde97ab69c4ddaf3d82ba9/params.json updated\n",
      "model /raid/elhamod/Fish/experiments/biology_paper_curated4_Easy50_tryphylogeny_weightedCrossEntropy/models/fc6305989f8ec2bf1b923d6fb4dac77a240833f642bb640a41a2903f -> /raid/elhamod/Fish/experiments/biology_paper_curated4_Easy50_tryphylogeny_weightedCrossEntropy/models/fc6305989f8ec2bf1b923d6fb4dac77a240833f642bb640a41a2903f updated\n",
      "json /raid/elhamod/Fish/experiments/biology_paper_curated4_Easy50_tryphylogeny_weightedCrossEntropy/models/fc6305989f8ec2bf1b923d6fb4dac77a240833f642bb640a41a2903f/params.json updated\n",
      "model /raid/elhamod/Fish/experiments/biology_paper_curated4_Easy50_tryphylogeny_weightedCrossEntropy/models/19fb3b8f8334721738832e59b86d24bcb66b894ffdfe547d0f658cda -> /raid/elhamod/Fish/experiments/biology_paper_curated4_Easy50_tryphylogeny_weightedCrossEntropy/models/19fb3b8f8334721738832e59b86d24bcb66b894ffdfe547d0f658cda updated\n",
      "json /raid/elhamod/Fish/experiments/biology_paper_curated4_Easy50_tryphylogeny_weightedCrossEntropy/models/19fb3b8f8334721738832e59b86d24bcb66b894ffdfe547d0f658cda/params.json updated\n",
      "\n"
     ]
    },
    {
     "data": {
      "application/vnd.jupyter.widget-view+json": {
       "model_id": "9fcde69dd0b04c6c8b443f443a40db92",
       "version_major": 2,
       "version_minor": 0
      },
      "text/plain": [
       "HBox(children=(FloatProgress(value=0.0, description='trial', max=3.0, style=ProgressStyle(description_width='i…"
      ]
     },
     "metadata": {},
     "output_type": "display_data"
    },
    {
     "name": "stdout",
     "output_type": "stream",
     "text": [
      "model /raid/elhamod/Fish/experiments/biology_paper_curated4_Easy50_tryphylogeny_weightedCrossEntropy/models/6eabb328391911f1bdc4d8504985c5af86b58a0e25efa2f5f1f6f2c0 -> /raid/elhamod/Fish/experiments/biology_paper_curated4_Easy50_tryphylogeny_weightedCrossEntropy/models/6eabb328391911f1bdc4d8504985c5af86b58a0e25efa2f5f1f6f2c0 updated\n",
      "json /raid/elhamod/Fish/experiments/biology_paper_curated4_Easy50_tryphylogeny_weightedCrossEntropy/models/6eabb328391911f1bdc4d8504985c5af86b58a0e25efa2f5f1f6f2c0/params.json updated\n",
      "model /raid/elhamod/Fish/experiments/biology_paper_curated4_Easy50_tryphylogeny_weightedCrossEntropy/models/a366936e54c0b23d57f0a01eb37217d6f2c629dc61f9369c10b9ff79 -> /raid/elhamod/Fish/experiments/biology_paper_curated4_Easy50_tryphylogeny_weightedCrossEntropy/models/a366936e54c0b23d57f0a01eb37217d6f2c629dc61f9369c10b9ff79 updated\n",
      "json /raid/elhamod/Fish/experiments/biology_paper_curated4_Easy50_tryphylogeny_weightedCrossEntropy/models/a366936e54c0b23d57f0a01eb37217d6f2c629dc61f9369c10b9ff79/params.json updated\n",
      "model /raid/elhamod/Fish/experiments/biology_paper_curated4_Easy50_tryphylogeny_weightedCrossEntropy/models/eb3f279d0768af82a8846a2a0485b61a00387414c9b66e9417d63f44 -> /raid/elhamod/Fish/experiments/biology_paper_curated4_Easy50_tryphylogeny_weightedCrossEntropy/models/eb3f279d0768af82a8846a2a0485b61a00387414c9b66e9417d63f44 updated\n",
      "json /raid/elhamod/Fish/experiments/biology_paper_curated4_Easy50_tryphylogeny_weightedCrossEntropy/models/eb3f279d0768af82a8846a2a0485b61a00387414c9b66e9417d63f44/params.json updated\n",
      "\n"
     ]
    },
    {
     "data": {
      "application/vnd.jupyter.widget-view+json": {
       "model_id": "77848eb12a114c49aa2ef0bc74c1a53d",
       "version_major": 2,
       "version_minor": 0
      },
      "text/plain": [
       "HBox(children=(FloatProgress(value=0.0, description='trial', max=3.0, style=ProgressStyle(description_width='i…"
      ]
     },
     "metadata": {},
     "output_type": "display_data"
    },
    {
     "name": "stdout",
     "output_type": "stream",
     "text": [
      "model /raid/elhamod/Fish/experiments/biology_paper_curated4_Easy50_tryphylogeny_weightedCrossEntropy/models/137943dac98f6086c258e1b3462389fb485d114ef38258f45c11c891 -> /raid/elhamod/Fish/experiments/biology_paper_curated4_Easy50_tryphylogeny_weightedCrossEntropy/models/137943dac98f6086c258e1b3462389fb485d114ef38258f45c11c891 updated\n",
      "json /raid/elhamod/Fish/experiments/biology_paper_curated4_Easy50_tryphylogeny_weightedCrossEntropy/models/137943dac98f6086c258e1b3462389fb485d114ef38258f45c11c891/params.json updated\n",
      "model /raid/elhamod/Fish/experiments/biology_paper_curated4_Easy50_tryphylogeny_weightedCrossEntropy/models/eb775da610d55e5749a2764fbf6f9292679d289c8601ea737ea81a03 -> /raid/elhamod/Fish/experiments/biology_paper_curated4_Easy50_tryphylogeny_weightedCrossEntropy/models/eb775da610d55e5749a2764fbf6f9292679d289c8601ea737ea81a03 updated\n",
      "json /raid/elhamod/Fish/experiments/biology_paper_curated4_Easy50_tryphylogeny_weightedCrossEntropy/models/eb775da610d55e5749a2764fbf6f9292679d289c8601ea737ea81a03/params.json updated\n",
      "model /raid/elhamod/Fish/experiments/biology_paper_curated4_Easy50_tryphylogeny_weightedCrossEntropy/models/75140049793d67f4fde72c3c462e9e7400cdba3828e746dd3efaf4dc -> /raid/elhamod/Fish/experiments/biology_paper_curated4_Easy50_tryphylogeny_weightedCrossEntropy/models/75140049793d67f4fde72c3c462e9e7400cdba3828e746dd3efaf4dc updated\n",
      "json /raid/elhamod/Fish/experiments/biology_paper_curated4_Easy50_tryphylogeny_weightedCrossEntropy/models/75140049793d67f4fde72c3c462e9e7400cdba3828e746dd3efaf4dc/params.json updated\n",
      "\n"
     ]
    },
    {
     "data": {
      "application/vnd.jupyter.widget-view+json": {
       "model_id": "ca63a29aae2d4167aaa19714219bc0d0",
       "version_major": 2,
       "version_minor": 0
      },
      "text/plain": [
       "HBox(children=(FloatProgress(value=0.0, description='trial', max=3.0, style=ProgressStyle(description_width='i…"
      ]
     },
     "metadata": {},
     "output_type": "display_data"
    },
    {
     "name": "stdout",
     "output_type": "stream",
     "text": [
      "model /raid/elhamod/Fish/experiments/biology_paper_curated4_Easy50_tryphylogeny_weightedCrossEntropy/models/bdff04a1e88bc8806a77af00b141824b996a2e00ea223e9e4ee409de -> /raid/elhamod/Fish/experiments/biology_paper_curated4_Easy50_tryphylogeny_weightedCrossEntropy/models/bdff04a1e88bc8806a77af00b141824b996a2e00ea223e9e4ee409de updated\n",
      "json /raid/elhamod/Fish/experiments/biology_paper_curated4_Easy50_tryphylogeny_weightedCrossEntropy/models/bdff04a1e88bc8806a77af00b141824b996a2e00ea223e9e4ee409de/params.json updated\n",
      "model /raid/elhamod/Fish/experiments/biology_paper_curated4_Easy50_tryphylogeny_weightedCrossEntropy/models/c03bf839740a2db3766400ade9a644916be1aa4312d7b420d07ea015 -> /raid/elhamod/Fish/experiments/biology_paper_curated4_Easy50_tryphylogeny_weightedCrossEntropy/models/c03bf839740a2db3766400ade9a644916be1aa4312d7b420d07ea015 updated\n",
      "json /raid/elhamod/Fish/experiments/biology_paper_curated4_Easy50_tryphylogeny_weightedCrossEntropy/models/c03bf839740a2db3766400ade9a644916be1aa4312d7b420d07ea015/params.json updated\n",
      "model /raid/elhamod/Fish/experiments/biology_paper_curated4_Easy50_tryphylogeny_weightedCrossEntropy/models/d73cc5423b648c636cbbc87deab9895428fb9e9e100d358cb065c146 -> /raid/elhamod/Fish/experiments/biology_paper_curated4_Easy50_tryphylogeny_weightedCrossEntropy/models/d73cc5423b648c636cbbc87deab9895428fb9e9e100d358cb065c146 updated\n",
      "json /raid/elhamod/Fish/experiments/biology_paper_curated4_Easy50_tryphylogeny_weightedCrossEntropy/models/d73cc5423b648c636cbbc87deab9895428fb9e9e100d358cb065c146/params.json updated\n",
      "\n"
     ]
    },
    {
     "data": {
      "application/vnd.jupyter.widget-view+json": {
       "model_id": "6278a052b7ca4d4d993fcdc7cf1facfb",
       "version_major": 2,
       "version_minor": 0
      },
      "text/plain": [
       "HBox(children=(FloatProgress(value=0.0, description='trial', max=3.0, style=ProgressStyle(description_width='i…"
      ]
     },
     "metadata": {},
     "output_type": "display_data"
    },
    {
     "name": "stdout",
     "output_type": "stream",
     "text": [
      "model /raid/elhamod/Fish/experiments/biology_paper_curated4_Easy50_tryphylogeny_weightedCrossEntropy/models/64942411a4fd817835a08a65ab91a33b28e4166652ac63aeeb2d6ac0 -> /raid/elhamod/Fish/experiments/biology_paper_curated4_Easy50_tryphylogeny_weightedCrossEntropy/models/64942411a4fd817835a08a65ab91a33b28e4166652ac63aeeb2d6ac0 updated\n",
      "json /raid/elhamod/Fish/experiments/biology_paper_curated4_Easy50_tryphylogeny_weightedCrossEntropy/models/64942411a4fd817835a08a65ab91a33b28e4166652ac63aeeb2d6ac0/params.json updated\n",
      "model /raid/elhamod/Fish/experiments/biology_paper_curated4_Easy50_tryphylogeny_weightedCrossEntropy/models/d23d750536efe8b9a3d773629cb01d3e03d3f6faa465192afd3a0430 -> /raid/elhamod/Fish/experiments/biology_paper_curated4_Easy50_tryphylogeny_weightedCrossEntropy/models/d23d750536efe8b9a3d773629cb01d3e03d3f6faa465192afd3a0430 updated\n",
      "json /raid/elhamod/Fish/experiments/biology_paper_curated4_Easy50_tryphylogeny_weightedCrossEntropy/models/d23d750536efe8b9a3d773629cb01d3e03d3f6faa465192afd3a0430/params.json updated\n",
      "model /raid/elhamod/Fish/experiments/biology_paper_curated4_Easy50_tryphylogeny_weightedCrossEntropy/models/f7e213d34f4da3de838675dd9a09c8460258597d8ceb07492ed0afc0 -> /raid/elhamod/Fish/experiments/biology_paper_curated4_Easy50_tryphylogeny_weightedCrossEntropy/models/f7e213d34f4da3de838675dd9a09c8460258597d8ceb07492ed0afc0 updated\n",
      "json /raid/elhamod/Fish/experiments/biology_paper_curated4_Easy50_tryphylogeny_weightedCrossEntropy/models/f7e213d34f4da3de838675dd9a09c8460258597d8ceb07492ed0afc0/params.json updated\n",
      "\n"
     ]
    },
    {
     "data": {
      "application/vnd.jupyter.widget-view+json": {
       "model_id": "7b4c1a4b984d4991b5b01139e35facef",
       "version_major": 2,
       "version_minor": 0
      },
      "text/plain": [
       "HBox(children=(FloatProgress(value=0.0, description='trial', max=3.0, style=ProgressStyle(description_width='i…"
      ]
     },
     "metadata": {},
     "output_type": "display_data"
    },
    {
     "name": "stdout",
     "output_type": "stream",
     "text": [
      "model /raid/elhamod/Fish/experiments/biology_paper_curated4_Easy50_tryphylogeny_weightedCrossEntropy/models/1d18b584208fd7410b2f90d9ce619f224d8bdf22c0c2001a18e51bb9 -> /raid/elhamod/Fish/experiments/biology_paper_curated4_Easy50_tryphylogeny_weightedCrossEntropy/models/1d18b584208fd7410b2f90d9ce619f224d8bdf22c0c2001a18e51bb9 updated\n",
      "json /raid/elhamod/Fish/experiments/biology_paper_curated4_Easy50_tryphylogeny_weightedCrossEntropy/models/1d18b584208fd7410b2f90d9ce619f224d8bdf22c0c2001a18e51bb9/params.json updated\n",
      "model /raid/elhamod/Fish/experiments/biology_paper_curated4_Easy50_tryphylogeny_weightedCrossEntropy/models/d9279fae08f4d96edcedb1fdbf6772396793c7d11081b1dfda1f38e7 -> /raid/elhamod/Fish/experiments/biology_paper_curated4_Easy50_tryphylogeny_weightedCrossEntropy/models/d9279fae08f4d96edcedb1fdbf6772396793c7d11081b1dfda1f38e7 updated\n",
      "json /raid/elhamod/Fish/experiments/biology_paper_curated4_Easy50_tryphylogeny_weightedCrossEntropy/models/d9279fae08f4d96edcedb1fdbf6772396793c7d11081b1dfda1f38e7/params.json updated\n",
      "model /raid/elhamod/Fish/experiments/biology_paper_curated4_Easy50_tryphylogeny_weightedCrossEntropy/models/47dc0622cbe5cd7159003a68c11173c2b05caa298b9accd57ae62288 -> /raid/elhamod/Fish/experiments/biology_paper_curated4_Easy50_tryphylogeny_weightedCrossEntropy/models/47dc0622cbe5cd7159003a68c11173c2b05caa298b9accd57ae62288 updated\n",
      "json /raid/elhamod/Fish/experiments/biology_paper_curated4_Easy50_tryphylogeny_weightedCrossEntropy/models/47dc0622cbe5cd7159003a68c11173c2b05caa298b9accd57ae62288/params.json updated\n",
      "\n"
     ]
    },
    {
     "data": {
      "application/vnd.jupyter.widget-view+json": {
       "model_id": "96d540e4a5844815b85f4ef72305e691",
       "version_major": 2,
       "version_minor": 0
      },
      "text/plain": [
       "HBox(children=(FloatProgress(value=0.0, description='trial', max=3.0, style=ProgressStyle(description_width='i…"
      ]
     },
     "metadata": {},
     "output_type": "display_data"
    },
    {
     "name": "stdout",
     "output_type": "stream",
     "text": [
      "model /raid/elhamod/Fish/experiments/biology_paper_curated4_Easy50_tryphylogeny_weightedCrossEntropy/models/4c79204c6333dd10a48f116c9d0beabdb58e48bea8ab7512cfc40c9d -> /raid/elhamod/Fish/experiments/biology_paper_curated4_Easy50_tryphylogeny_weightedCrossEntropy/models/4c79204c6333dd10a48f116c9d0beabdb58e48bea8ab7512cfc40c9d updated\n",
      "json /raid/elhamod/Fish/experiments/biology_paper_curated4_Easy50_tryphylogeny_weightedCrossEntropy/models/4c79204c6333dd10a48f116c9d0beabdb58e48bea8ab7512cfc40c9d/params.json updated\n",
      "model /raid/elhamod/Fish/experiments/biology_paper_curated4_Easy50_tryphylogeny_weightedCrossEntropy/models/38fcb94fbbb2c23d97c33598f8270f1df43a13d7bb1661ef424e3208 -> /raid/elhamod/Fish/experiments/biology_paper_curated4_Easy50_tryphylogeny_weightedCrossEntropy/models/38fcb94fbbb2c23d97c33598f8270f1df43a13d7bb1661ef424e3208 updated\n",
      "json /raid/elhamod/Fish/experiments/biology_paper_curated4_Easy50_tryphylogeny_weightedCrossEntropy/models/38fcb94fbbb2c23d97c33598f8270f1df43a13d7bb1661ef424e3208/params.json updated\n",
      "model /raid/elhamod/Fish/experiments/biology_paper_curated4_Easy50_tryphylogeny_weightedCrossEntropy/models/b11782c4999552002f8882c6fbb0afc40c3ff6ca3daf1fd7efae63a7 -> /raid/elhamod/Fish/experiments/biology_paper_curated4_Easy50_tryphylogeny_weightedCrossEntropy/models/b11782c4999552002f8882c6fbb0afc40c3ff6ca3daf1fd7efae63a7 updated\n",
      "json /raid/elhamod/Fish/experiments/biology_paper_curated4_Easy50_tryphylogeny_weightedCrossEntropy/models/b11782c4999552002f8882c6fbb0afc40c3ff6ca3daf1fd7efae63a7/params.json updated\n",
      "\n"
     ]
    },
    {
     "data": {
      "application/vnd.jupyter.widget-view+json": {
       "model_id": "22cb288ff9a24aacb3c8828aebf55da1",
       "version_major": 2,
       "version_minor": 0
      },
      "text/plain": [
       "HBox(children=(FloatProgress(value=0.0, description='trial', max=3.0, style=ProgressStyle(description_width='i…"
      ]
     },
     "metadata": {},
     "output_type": "display_data"
    },
    {
     "name": "stdout",
     "output_type": "stream",
     "text": [
      "model /raid/elhamod/Fish/experiments/biology_paper_curated4_Easy50_tryphylogeny_weightedCrossEntropy/models/7fe07f7bfe3cc12cddee63e76c89fb4a8b712c3adc516bf7b65f53fc -> /raid/elhamod/Fish/experiments/biology_paper_curated4_Easy50_tryphylogeny_weightedCrossEntropy/models/7fe07f7bfe3cc12cddee63e76c89fb4a8b712c3adc516bf7b65f53fc updated\n",
      "json /raid/elhamod/Fish/experiments/biology_paper_curated4_Easy50_tryphylogeny_weightedCrossEntropy/models/7fe07f7bfe3cc12cddee63e76c89fb4a8b712c3adc516bf7b65f53fc/params.json updated\n",
      "model /raid/elhamod/Fish/experiments/biology_paper_curated4_Easy50_tryphylogeny_weightedCrossEntropy/models/6e63ba238f0c345b8435cc42acfd2cf9ffaeaf2fa720222f13d669b5 -> /raid/elhamod/Fish/experiments/biology_paper_curated4_Easy50_tryphylogeny_weightedCrossEntropy/models/6e63ba238f0c345b8435cc42acfd2cf9ffaeaf2fa720222f13d669b5 updated\n",
      "json /raid/elhamod/Fish/experiments/biology_paper_curated4_Easy50_tryphylogeny_weightedCrossEntropy/models/6e63ba238f0c345b8435cc42acfd2cf9ffaeaf2fa720222f13d669b5/params.json updated\n",
      "model /raid/elhamod/Fish/experiments/biology_paper_curated4_Easy50_tryphylogeny_weightedCrossEntropy/models/a5f75c1e35a95543b9ca4de152c4b3d6aa4d53f1b4c4cf3f948d89e2 -> /raid/elhamod/Fish/experiments/biology_paper_curated4_Easy50_tryphylogeny_weightedCrossEntropy/models/a5f75c1e35a95543b9ca4de152c4b3d6aa4d53f1b4c4cf3f948d89e2 updated\n",
      "json /raid/elhamod/Fish/experiments/biology_paper_curated4_Easy50_tryphylogeny_weightedCrossEntropy/models/a5f75c1e35a95543b9ca4de152c4b3d6aa4d53f1b4c4cf3f948d89e2/params.json updated\n",
      "\n"
     ]
    },
    {
     "data": {
      "application/vnd.jupyter.widget-view+json": {
       "model_id": "d789f688d54f4f95b370909ff2c0d9aa",
       "version_major": 2,
       "version_minor": 0
      },
      "text/plain": [
       "HBox(children=(FloatProgress(value=0.0, description='trial', max=3.0, style=ProgressStyle(description_width='i…"
      ]
     },
     "metadata": {},
     "output_type": "display_data"
    },
    {
     "name": "stdout",
     "output_type": "stream",
     "text": [
      "model /raid/elhamod/Fish/experiments/biology_paper_curated4_Easy50_tryphylogeny_weightedCrossEntropy/models/3f52d952b5bfb8b7e9874d0c556ad05dbfffce9d6b34ed84e63f0f29 -> /raid/elhamod/Fish/experiments/biology_paper_curated4_Easy50_tryphylogeny_weightedCrossEntropy/models/3f52d952b5bfb8b7e9874d0c556ad05dbfffce9d6b34ed84e63f0f29 updated\n",
      "json /raid/elhamod/Fish/experiments/biology_paper_curated4_Easy50_tryphylogeny_weightedCrossEntropy/models/3f52d952b5bfb8b7e9874d0c556ad05dbfffce9d6b34ed84e63f0f29/params.json updated\n",
      "model /raid/elhamod/Fish/experiments/biology_paper_curated4_Easy50_tryphylogeny_weightedCrossEntropy/models/2a0a6affecaffea3933c6e015fd87a369e538fd808dd841b4dfa7e85 -> /raid/elhamod/Fish/experiments/biology_paper_curated4_Easy50_tryphylogeny_weightedCrossEntropy/models/2a0a6affecaffea3933c6e015fd87a369e538fd808dd841b4dfa7e85 updated\n",
      "json /raid/elhamod/Fish/experiments/biology_paper_curated4_Easy50_tryphylogeny_weightedCrossEntropy/models/2a0a6affecaffea3933c6e015fd87a369e538fd808dd841b4dfa7e85/params.json updated\n",
      "model /raid/elhamod/Fish/experiments/biology_paper_curated4_Easy50_tryphylogeny_weightedCrossEntropy/models/399f36ec9f2bc2b1cbbd397c115cdebf267a0258b84cbb600ce81668 -> /raid/elhamod/Fish/experiments/biology_paper_curated4_Easy50_tryphylogeny_weightedCrossEntropy/models/399f36ec9f2bc2b1cbbd397c115cdebf267a0258b84cbb600ce81668 updated\n",
      "json /raid/elhamod/Fish/experiments/biology_paper_curated4_Easy50_tryphylogeny_weightedCrossEntropy/models/399f36ec9f2bc2b1cbbd397c115cdebf267a0258b84cbb600ce81668/params.json updated\n",
      "\n",
      "\n"
     ]
    }
   ],
   "source": [
    "with tqdm(total=number_of_experiments, desc=\"experiment\") as bar:\n",
    "    for i, experiment_params in enumerate(config_parser.getExperiments(fixExperiments=False)):\n",
    "        experiment_params_new = {**experiment_params, **changes} \n",
    "        for key in removes:\n",
    "            experiment_params_new.pop(key, None)\n",
    "        experiment_params_new = config_parser.fixExperimentParams(experiment_params_new)\n",
    "\n",
    "        num_of_models = experiment_params[\"numOfTrials\"]\n",
    "        with tqdm(total=num_of_models, desc=\"trial\") as bar2:\n",
    "            for k in range(num_of_models):\n",
    "            \n",
    "                # Fix model names\n",
    "                old_model_name = getModelName(experiment_params, k)\n",
    "                old_modelPath = os.path.join(experimentsPath, experimentName, old_model_name)\n",
    "                new_model_name = getModelName(experiment_params_new, k)\n",
    "                new_modelPath = os.path.join(experimentsPath, experimentName, new_model_name)\n",
    "\n",
    "                try:\n",
    "                    if os.path.exists(old_modelPath):\n",
    "                        os.rename(old_modelPath, new_modelPath)\n",
    "                        print(\"model\", old_modelPath, '->', new_modelPath, \"updated\")\n",
    "\n",
    "                        j = json.dumps(experiment_params_new)\n",
    "                        json_fileName = os.path.join(new_modelPath, 'params.json')\n",
    "                        f = open(json_fileName,\"w\")        \n",
    "                        f.write(j)\n",
    "                        f.close()  \n",
    "                        print(\"json\", json_fileName, \"updated\")\n",
    "                    else:\n",
    "                        raise\n",
    "                    \n",
    "                except:\n",
    "                    print(\"model\", old_model_name, \"could not be fixed to\", new_model_name)\n",
    "                    pass  \n",
    "                \n",
    "                \n",
    "\n",
    "                bar2.update()\n",
    "                \n",
    "                experiments[TrialStatistics.getTrialName(experiment_params, k)]['modelName'] = new_model_name\n",
    "\n",
    "        bar.update()"
   ]
  },
  {
   "cell_type": "markdown",
   "metadata": {},
   "source": [
    "Fix results directory"
   ]
  },
  {
   "cell_type": "code",
   "execution_count": 6,
   "metadata": {},
   "outputs": [
    {
     "data": {
      "application/vnd.jupyter.widget-view+json": {
       "model_id": "5ea082517db044e48bbc229d646625f8",
       "version_major": 2,
       "version_minor": 0
      },
      "text/plain": [
       "HBox(children=(FloatProgress(value=0.0, description='experiment', max=10.0, style=ProgressStyle(description_wi…"
      ]
     },
     "metadata": {},
     "output_type": "display_data"
    },
    {
     "name": "stdout",
     "output_type": "stream",
     "text": [
      "result /raid/elhamod/Fish/experiments/biology_paper_curated4_Easy50_tryphylogeny_weightedCrossEntropy/results/cd954191236a3eb6d93e159060df32b8bb8e3b5401aa6213fdc26230 -> /raid/elhamod/Fish/experiments/biology_paper_curated4_Easy50_tryphylogeny_weightedCrossEntropy/results/cd954191236a3eb6d93e159060df32b8bb8e3b5401aa6213fdc26230 updated\n",
      "json /raid/elhamod/Fish/experiments/biology_paper_curated4_Easy50_tryphylogeny_weightedCrossEntropy/results/cd954191236a3eb6d93e159060df32b8bb8e3b5401aa6213fdc26230/params.json updated\n",
      "result /raid/elhamod/Fish/experiments/biology_paper_curated4_Easy50_tryphylogeny_weightedCrossEntropy/results/e1b89f3118e5d9901ff722c3a84f23b15a4ffc74795db8acbd70a089 -> /raid/elhamod/Fish/experiments/biology_paper_curated4_Easy50_tryphylogeny_weightedCrossEntropy/results/e1b89f3118e5d9901ff722c3a84f23b15a4ffc74795db8acbd70a089 updated\n",
      "json /raid/elhamod/Fish/experiments/biology_paper_curated4_Easy50_tryphylogeny_weightedCrossEntropy/results/e1b89f3118e5d9901ff722c3a84f23b15a4ffc74795db8acbd70a089/params.json updated\n",
      "result /raid/elhamod/Fish/experiments/biology_paper_curated4_Easy50_tryphylogeny_weightedCrossEntropy/results/86d8787adc0b5403349a98fb187ee9bd531685a29b11c1654c8ff362 -> /raid/elhamod/Fish/experiments/biology_paper_curated4_Easy50_tryphylogeny_weightedCrossEntropy/results/86d8787adc0b5403349a98fb187ee9bd531685a29b11c1654c8ff362 updated\n",
      "json /raid/elhamod/Fish/experiments/biology_paper_curated4_Easy50_tryphylogeny_weightedCrossEntropy/results/86d8787adc0b5403349a98fb187ee9bd531685a29b11c1654c8ff362/params.json updated\n",
      "result /raid/elhamod/Fish/experiments/biology_paper_curated4_Easy50_tryphylogeny_weightedCrossEntropy/results/68632646b23f7766608153f5a0de573c1adf1be313f3b232b40b9696 -> /raid/elhamod/Fish/experiments/biology_paper_curated4_Easy50_tryphylogeny_weightedCrossEntropy/results/68632646b23f7766608153f5a0de573c1adf1be313f3b232b40b9696 updated\n",
      "json /raid/elhamod/Fish/experiments/biology_paper_curated4_Easy50_tryphylogeny_weightedCrossEntropy/results/68632646b23f7766608153f5a0de573c1adf1be313f3b232b40b9696/params.json updated\n",
      "result /raid/elhamod/Fish/experiments/biology_paper_curated4_Easy50_tryphylogeny_weightedCrossEntropy/results/35f65ac348aee41060c907b203254311029ef3fc75f0e965bdd461e1 -> /raid/elhamod/Fish/experiments/biology_paper_curated4_Easy50_tryphylogeny_weightedCrossEntropy/results/35f65ac348aee41060c907b203254311029ef3fc75f0e965bdd461e1 updated\n",
      "json /raid/elhamod/Fish/experiments/biology_paper_curated4_Easy50_tryphylogeny_weightedCrossEntropy/results/35f65ac348aee41060c907b203254311029ef3fc75f0e965bdd461e1/params.json updated\n",
      "result /raid/elhamod/Fish/experiments/biology_paper_curated4_Easy50_tryphylogeny_weightedCrossEntropy/results/87e73258aceeab52f2c9bb09ae7b3c440c36ec6a391af8b623f8e079 -> /raid/elhamod/Fish/experiments/biology_paper_curated4_Easy50_tryphylogeny_weightedCrossEntropy/results/87e73258aceeab52f2c9bb09ae7b3c440c36ec6a391af8b623f8e079 updated\n",
      "json /raid/elhamod/Fish/experiments/biology_paper_curated4_Easy50_tryphylogeny_weightedCrossEntropy/results/87e73258aceeab52f2c9bb09ae7b3c440c36ec6a391af8b623f8e079/params.json updated\n",
      "result /raid/elhamod/Fish/experiments/biology_paper_curated4_Easy50_tryphylogeny_weightedCrossEntropy/results/6b18aebcd29d75797a14c196b5526a4a9693e5bbcd023b02ee311977 -> /raid/elhamod/Fish/experiments/biology_paper_curated4_Easy50_tryphylogeny_weightedCrossEntropy/results/6b18aebcd29d75797a14c196b5526a4a9693e5bbcd023b02ee311977 updated\n",
      "json /raid/elhamod/Fish/experiments/biology_paper_curated4_Easy50_tryphylogeny_weightedCrossEntropy/results/6b18aebcd29d75797a14c196b5526a4a9693e5bbcd023b02ee311977/params.json updated\n",
      "result /raid/elhamod/Fish/experiments/biology_paper_curated4_Easy50_tryphylogeny_weightedCrossEntropy/results/7dca20186c303cd9dfe020019f3a6d5ba4c5fae477b72413e145cbae -> /raid/elhamod/Fish/experiments/biology_paper_curated4_Easy50_tryphylogeny_weightedCrossEntropy/results/7dca20186c303cd9dfe020019f3a6d5ba4c5fae477b72413e145cbae updated\n",
      "json /raid/elhamod/Fish/experiments/biology_paper_curated4_Easy50_tryphylogeny_weightedCrossEntropy/results/7dca20186c303cd9dfe020019f3a6d5ba4c5fae477b72413e145cbae/params.json updated\n",
      "result /raid/elhamod/Fish/experiments/biology_paper_curated4_Easy50_tryphylogeny_weightedCrossEntropy/results/b04b556e33f680ee6b9775d1c61c85e0416baa4d8e2f273a2a7a001f -> /raid/elhamod/Fish/experiments/biology_paper_curated4_Easy50_tryphylogeny_weightedCrossEntropy/results/b04b556e33f680ee6b9775d1c61c85e0416baa4d8e2f273a2a7a001f updated\n",
      "json /raid/elhamod/Fish/experiments/biology_paper_curated4_Easy50_tryphylogeny_weightedCrossEntropy/results/b04b556e33f680ee6b9775d1c61c85e0416baa4d8e2f273a2a7a001f/params.json updated\n",
      "result /raid/elhamod/Fish/experiments/biology_paper_curated4_Easy50_tryphylogeny_weightedCrossEntropy/results/fda47eaec676208baa563f3435fe519191f97efdd6c695344b4541e9 -> /raid/elhamod/Fish/experiments/biology_paper_curated4_Easy50_tryphylogeny_weightedCrossEntropy/results/fda47eaec676208baa563f3435fe519191f97efdd6c695344b4541e9 updated\n",
      "json /raid/elhamod/Fish/experiments/biology_paper_curated4_Easy50_tryphylogeny_weightedCrossEntropy/results/fda47eaec676208baa563f3435fe519191f97efdd6c695344b4541e9/params.json updated\n",
      "\n"
     ]
    }
   ],
   "source": [
    "with tqdm(total=number_of_experiments, desc=\"experiment\") as bar:\n",
    "    for i, experiment_params in enumerate(config_parser.getExperiments(fixExperiments=False)):\n",
    "        experiment_params_new = {**experiment_params, **changes} \n",
    "        for key in removes:\n",
    "            experiment_params_new.pop(key, None)\n",
    "        experiment_params_new = config_parser.fixExperimentParams(experiment_params_new)\n",
    "\n",
    "        old_experimentHash = TrialStatistics.getTrialName(experiment_params)\n",
    "        old_experimentPath = os.path.join(experimentsPath, experimentName, \"results\", old_experimentHash)\n",
    "        new_experimentHash = TrialStatistics.getTrialName(experiment_params_new)\n",
    "        new_experimentPath = os.path.join(experimentsPath, experimentName, \"results\", new_experimentHash)\n",
    "        \n",
    "        try:\n",
    "            if os.path.exists(old_experimentPath):\n",
    "\n",
    "                os.rename(old_experimentPath, new_experimentPath)\n",
    "                print(\"result\", old_experimentPath, '->', new_experimentPath, \"updated\")\n",
    "\n",
    "                j = json.dumps(experiment_params_new)\n",
    "                json_fileName = os.path.join(new_experimentPath, 'params.json')\n",
    "                f = open(json_fileName,\"w\")        \n",
    "                f.write(j)\n",
    "                f.close()  \n",
    "                print(\"json\", json_fileName, \"updated\")\n",
    "            else:\n",
    "                raise\n",
    "                \n",
    "        except:\n",
    "            print(\"result\", old_experimentHash, \"could not be fixed to\",new_experimentHash)\n",
    "            pass \n",
    "        \n",
    "        experiments[TrialStatistics.getTrialName(experiment_params, 0)]['experimentHash'] = new_experimentHash\n",
    "        \n",
    "        bar.update()"
   ]
  },
  {
   "cell_type": "markdown",
   "metadata": {},
   "source": [
    "Fix experiments file"
   ]
  },
  {
   "cell_type": "code",
   "execution_count": 7,
   "metadata": {},
   "outputs": [
    {
     "data": {
      "application/vnd.jupyter.widget-view+json": {
       "model_id": "e686919566bf43c5a589799b00bcf42e",
       "version_major": 2,
       "version_minor": 0
      },
      "text/plain": [
       "HBox(children=(FloatProgress(value=0.0, description='experiment', max=10.0, style=ProgressStyle(description_wi…"
      ]
     },
     "metadata": {},
     "output_type": "display_data"
    },
    {
     "data": {
      "application/vnd.jupyter.widget-view+json": {
       "model_id": "cbfee0a556204449ab4f39ae0200910b",
       "version_major": 2,
       "version_minor": 0
      },
      "text/plain": [
       "HBox(children=(FloatProgress(value=0.0, description='trial', max=3.0, style=ProgressStyle(description_width='i…"
      ]
     },
     "metadata": {},
     "output_type": "display_data"
    },
    {
     "name": "stdout",
     "output_type": "stream",
     "text": [
      "\n"
     ]
    },
    {
     "name": "stderr",
     "output_type": "stream",
     "text": [
      "/home/elhamod/melhamodenv3/lib/python3.6/site-packages/ipykernel_launcher.py:23: UserWarning: Boolean Series key will be reindexed to match DataFrame index.\n"
     ]
    },
    {
     "data": {
      "application/vnd.jupyter.widget-view+json": {
       "model_id": "fdff9951581e4efe81221c73feac63ed",
       "version_major": 2,
       "version_minor": 0
      },
      "text/plain": [
       "HBox(children=(FloatProgress(value=0.0, description='trial', max=3.0, style=ProgressStyle(description_width='i…"
      ]
     },
     "metadata": {},
     "output_type": "display_data"
    },
    {
     "name": "stdout",
     "output_type": "stream",
     "text": [
      "\n"
     ]
    },
    {
     "data": {
      "application/vnd.jupyter.widget-view+json": {
       "model_id": "380cff71789b406f87f0473defadc3fe",
       "version_major": 2,
       "version_minor": 0
      },
      "text/plain": [
       "HBox(children=(FloatProgress(value=0.0, description='trial', max=3.0, style=ProgressStyle(description_width='i…"
      ]
     },
     "metadata": {},
     "output_type": "display_data"
    },
    {
     "name": "stdout",
     "output_type": "stream",
     "text": [
      "\n"
     ]
    },
    {
     "data": {
      "application/vnd.jupyter.widget-view+json": {
       "model_id": "cbf66ce095c0418ca680a812f60a6aae",
       "version_major": 2,
       "version_minor": 0
      },
      "text/plain": [
       "HBox(children=(FloatProgress(value=0.0, description='trial', max=3.0, style=ProgressStyle(description_width='i…"
      ]
     },
     "metadata": {},
     "output_type": "display_data"
    },
    {
     "name": "stdout",
     "output_type": "stream",
     "text": [
      "\n"
     ]
    },
    {
     "data": {
      "application/vnd.jupyter.widget-view+json": {
       "model_id": "0986ab4564ba43d0905e2b03b8fc530a",
       "version_major": 2,
       "version_minor": 0
      },
      "text/plain": [
       "HBox(children=(FloatProgress(value=0.0, description='trial', max=3.0, style=ProgressStyle(description_width='i…"
      ]
     },
     "metadata": {},
     "output_type": "display_data"
    },
    {
     "name": "stdout",
     "output_type": "stream",
     "text": [
      "\n"
     ]
    },
    {
     "data": {
      "application/vnd.jupyter.widget-view+json": {
       "model_id": "c2bdd21cf3fa4085a0f03dd1f28a562b",
       "version_major": 2,
       "version_minor": 0
      },
      "text/plain": [
       "HBox(children=(FloatProgress(value=0.0, description='trial', max=3.0, style=ProgressStyle(description_width='i…"
      ]
     },
     "metadata": {},
     "output_type": "display_data"
    },
    {
     "name": "stdout",
     "output_type": "stream",
     "text": [
      "\n"
     ]
    },
    {
     "data": {
      "application/vnd.jupyter.widget-view+json": {
       "model_id": "38a5be440ab641d8819f8fa25bb22156",
       "version_major": 2,
       "version_minor": 0
      },
      "text/plain": [
       "HBox(children=(FloatProgress(value=0.0, description='trial', max=3.0, style=ProgressStyle(description_width='i…"
      ]
     },
     "metadata": {},
     "output_type": "display_data"
    },
    {
     "name": "stdout",
     "output_type": "stream",
     "text": [
      "\n"
     ]
    },
    {
     "data": {
      "application/vnd.jupyter.widget-view+json": {
       "model_id": "861abddd40a54962a234e886ce146bc1",
       "version_major": 2,
       "version_minor": 0
      },
      "text/plain": [
       "HBox(children=(FloatProgress(value=0.0, description='trial', max=3.0, style=ProgressStyle(description_width='i…"
      ]
     },
     "metadata": {},
     "output_type": "display_data"
    },
    {
     "name": "stdout",
     "output_type": "stream",
     "text": [
      "\n"
     ]
    },
    {
     "data": {
      "application/vnd.jupyter.widget-view+json": {
       "model_id": "0a5e64ad3f6b485abb3221cddc09174d",
       "version_major": 2,
       "version_minor": 0
      },
      "text/plain": [
       "HBox(children=(FloatProgress(value=0.0, description='trial', max=3.0, style=ProgressStyle(description_width='i…"
      ]
     },
     "metadata": {},
     "output_type": "display_data"
    },
    {
     "name": "stdout",
     "output_type": "stream",
     "text": [
      "\n"
     ]
    },
    {
     "data": {
      "application/vnd.jupyter.widget-view+json": {
       "model_id": "b993e9c48f9041798c44e21d32605558",
       "version_major": 2,
       "version_minor": 0
      },
      "text/plain": [
       "HBox(children=(FloatProgress(value=0.0, description='trial', max=3.0, style=ProgressStyle(description_width='i…"
      ]
     },
     "metadata": {},
     "output_type": "display_data"
    },
    {
     "name": "stdout",
     "output_type": "stream",
     "text": [
      "\n",
      "\n"
     ]
    }
   ],
   "source": [
    "# open experiments.csv file\n",
    "experimentsFileNameAndPath=os.path.join(experimentsPath, \"experiments.csv\")\n",
    "experiments_file= pd.read_csv(experimentsFileNameAndPath)\n",
    "\n",
    "# For all experiments\n",
    "with tqdm(total=number_of_experiments, desc=\"experiment\") as bar:\n",
    "    for i, experiment_params in enumerate(config_parser.getExperiments(fixExperiments=False)):\n",
    "        \n",
    "        numOfTrials = experiment_params[\"numOfTrials\"]\n",
    "        trialHash_0 = TrialStatistics.getTrialName(experiment_params, 0) # used for keys who don't change for different trials\n",
    "        for key in removes:\n",
    "            experiment_params_new.pop(key, None)\n",
    "        experiment_params_new = {**experiment_params, **changes} \n",
    "        experiment_params_new = config_parser.fixExperimentParams(experiment_params_new)\n",
    "        \n",
    "        # For all trials\n",
    "        with tqdm(total=num_of_models, desc=\"trial\") as bar2:\n",
    "            for j in range(numOfTrials):\n",
    "                \n",
    "                trialHash = TrialStatistics.getTrialName(experiment_params, j)\n",
    "                try:\n",
    "                    # If old entry doesn't exist, nothing to update\n",
    "                    record_exists = not (experiments_file[experiments_file['trialHash'] == trialHash][experiments_file['experimentName'] == experimentName]).empty\n",
    "                    if record_exists:\n",
    "                        \n",
    "                        # drop old row and caluclate new row\n",
    "                        new_trialHash = experiments[trialHash][\"trialHash\"]\n",
    "                        experiments_file.drop(experiments_file[experiments_file['trialHash'] == trialHash][experiments_file['experimentName'] == experimentName].index, inplace = True) \n",
    "                        row_information = {\n",
    "                            'experimentName': experimentName,\n",
    "                            'modelName': experiments[trialHash][\"modelName\"],\n",
    "                            'datasetName': experiments[trialHash_0][\"datasetName\"],\n",
    "                            'experimentHash': experiments[trialHash_0][\"experimentHash\"],\n",
    "                            'trialHash': new_trialHash\n",
    "                        }\n",
    "                        row_information = {**row_information, **experiment_params_new} \n",
    "\n",
    "                        # error handling to avoid duplicates\n",
    "                        record_exists = not (experiments_file[experiments_file['trialHash'] == new_trialHash][experiments_file['experimentName'] == experimentName]).empty\n",
    "                        if record_exists:\n",
    "                            experiments_file.drop(experiments_file[experiments_file['trialHash'] == new_trialHash][experiments_file['experimentName'] == experimentName].index, inplace = True) \n",
    "\n",
    "                        # update with new entry    \n",
    "                        experiments_file = experiments_file.append(pd.DataFrame(row_information, index=[0]), ignore_index = True)\n",
    "                        print(\"trialHash\", trialHash, \"->\", new_trialHash, \"updated\")\n",
    "                except:\n",
    "                    print(\"trialHash\", trialHash, \"could not be updated!\")\n",
    "                    pass\n",
    "                bar2.update()\n",
    "        bar.update()\n",
    "\n",
    "# resave file\n",
    "experiments_file.to_csv(experimentsFileNameAndPath, header=True, index=False)"
   ]
  },
  {
   "cell_type": "markdown",
   "metadata": {},
   "source": [
    "Fix params file"
   ]
  },
  {
   "cell_type": "code",
   "execution_count": 8,
   "metadata": {},
   "outputs": [
    {
     "data": {
      "application/vnd.jupyter.widget-view+json": {
       "model_id": "9b0f82a3c75a4b2bbe75bdd817d2323b",
       "version_major": 2,
       "version_minor": 0
      },
      "text/plain": [
       "HBox(children=(FloatProgress(value=0.0, description='experiment', max=10.0, style=ProgressStyle(description_wi…"
      ]
     },
     "metadata": {},
     "output_type": "display_data"
    },
    {
     "name": "stdout",
     "output_type": "stream",
     "text": [
      "{'image_path': 'Curated4/Easy_50', 'suffix': None, 'img_res': 448, 'augmented': True, 'batchSize': 64, 'learning_rate': 0.0001, 'numOfTrials': 3, 'fc_layers': 1, 'modelType': 'BB', 'lambda': 0.01, 'unsupervisedOnTest': False, 'tl_model': 'ResNet18', 'link_layer': 'avgpool', 'adaptive_smoothing': True, 'adaptive_lambda': 0.015, 'adaptive_alpha': 0.8, 'noSpeciesBackprop': False, 'phylogeny_loss': True, 'phylogeny_loss_epsilon': 0.1}\n",
      "{'image_path': 'Curated4/Easy_50', 'suffix': None, 'img_res': 448, 'augmented': True, 'batchSize': 128, 'learning_rate': 0.0001, 'numOfTrials': 3, 'fc_layers': 1, 'modelType': 'BB', 'lambda': 0.01, 'unsupervisedOnTest': False, 'tl_model': 'ResNet18', 'link_layer': 'avgpool', 'adaptive_smoothing': True, 'adaptive_lambda': 0.015, 'adaptive_alpha': 0.8, 'noSpeciesBackprop': False, 'phylogeny_loss': True, 'phylogeny_loss_epsilon': 0.1}\n",
      "{'image_path': 'Curated4/Easy_50', 'suffix': None, 'img_res': 448, 'augmented': True, 'batchSize': 64, 'learning_rate': 5e-05, 'numOfTrials': 3, 'fc_layers': 1, 'modelType': 'BB', 'lambda': 0.01, 'unsupervisedOnTest': False, 'tl_model': 'ResNet18', 'link_layer': 'avgpool', 'adaptive_smoothing': True, 'adaptive_lambda': 0.015, 'adaptive_alpha': 0.8, 'noSpeciesBackprop': False, 'phylogeny_loss': True, 'phylogeny_loss_epsilon': 0.1}\n",
      "{'image_path': 'Curated4/Easy_50', 'suffix': None, 'img_res': 448, 'augmented': True, 'batchSize': 128, 'learning_rate': 5e-05, 'numOfTrials': 3, 'fc_layers': 1, 'modelType': 'BB', 'lambda': 0.01, 'unsupervisedOnTest': False, 'tl_model': 'ResNet18', 'link_layer': 'avgpool', 'adaptive_smoothing': True, 'adaptive_lambda': 0.015, 'adaptive_alpha': 0.8, 'noSpeciesBackprop': False, 'phylogeny_loss': True, 'phylogeny_loss_epsilon': 0.1}\n",
      "{'image_path': 'Curated4/Easy_50', 'suffix': None, 'img_res': 448, 'augmented': True, 'batchSize': 8, 'learning_rate': 0.0001, 'numOfTrials': 3, 'fc_layers': 1, 'modelType': 'BB', 'lambda': 0.01, 'unsupervisedOnTest': False, 'tl_model': 'ResNet18', 'link_layer': 'avgpool', 'adaptive_smoothing': True, 'adaptive_lambda': 0.015, 'adaptive_alpha': 0.8, 'noSpeciesBackprop': False, 'phylogeny_loss': True, 'phylogeny_loss_epsilon': 0.1}\n",
      "{'image_path': 'Curated4/Easy_50', 'suffix': None, 'img_res': 448, 'augmented': True, 'batchSize': 16, 'learning_rate': 0.0001, 'numOfTrials': 3, 'fc_layers': 1, 'modelType': 'BB', 'lambda': 0.01, 'unsupervisedOnTest': False, 'tl_model': 'ResNet18', 'link_layer': 'avgpool', 'adaptive_smoothing': True, 'adaptive_lambda': 0.015, 'adaptive_alpha': 0.8, 'noSpeciesBackprop': False, 'phylogeny_loss': True, 'phylogeny_loss_epsilon': 0.1}\n",
      "{'image_path': 'Curated4/Easy_50', 'suffix': None, 'img_res': 448, 'augmented': True, 'batchSize': 8, 'learning_rate': 5e-05, 'numOfTrials': 3, 'fc_layers': 1, 'modelType': 'BB', 'lambda': 0.01, 'unsupervisedOnTest': False, 'tl_model': 'ResNet18', 'link_layer': 'avgpool', 'adaptive_smoothing': True, 'adaptive_lambda': 0.015, 'adaptive_alpha': 0.8, 'noSpeciesBackprop': False, 'phylogeny_loss': True, 'phylogeny_loss_epsilon': 0.1}\n",
      "{'image_path': 'Curated4/Easy_50', 'suffix': None, 'img_res': 448, 'augmented': True, 'batchSize': 16, 'learning_rate': 5e-05, 'numOfTrials': 3, 'fc_layers': 1, 'modelType': 'BB', 'lambda': 0.01, 'unsupervisedOnTest': False, 'tl_model': 'ResNet18', 'link_layer': 'avgpool', 'adaptive_smoothing': True, 'adaptive_lambda': 0.015, 'adaptive_alpha': 0.8, 'noSpeciesBackprop': False, 'phylogeny_loss': True, 'phylogeny_loss_epsilon': 0.1}\n",
      "{'image_path': 'Curated4/Easy_50', 'suffix': None, 'img_res': 448, 'augmented': True, 'batchSize': 32, 'learning_rate': 0.0001, 'numOfTrials': 3, 'fc_layers': 1, 'modelType': 'BB', 'lambda': 0.01, 'unsupervisedOnTest': False, 'tl_model': 'ResNet18', 'link_layer': 'avgpool', 'adaptive_smoothing': True, 'adaptive_lambda': 0.015, 'adaptive_alpha': 0.8, 'noSpeciesBackprop': False, 'phylogeny_loss': True, 'phylogeny_loss_epsilon': 0.1}\n",
      "{'image_path': 'Curated4/Easy_50', 'suffix': None, 'img_res': 448, 'augmented': True, 'batchSize': 32, 'learning_rate': 5e-05, 'numOfTrials': 3, 'fc_layers': 1, 'modelType': 'BB', 'lambda': 0.01, 'unsupervisedOnTest': False, 'tl_model': 'ResNet18', 'link_layer': 'avgpool', 'adaptive_smoothing': True, 'adaptive_lambda': 0.015, 'adaptive_alpha': 0.8, 'noSpeciesBackprop': False, 'phylogeny_loss': True, 'phylogeny_loss_epsilon': 0.1}\n",
      "\n",
      "json /raid/elhamod/Fish/experiments/biology_paper_curated4_Easy50_tryphylogeny_weightedCrossEntropy/params.json updated\n"
     ]
    }
   ],
   "source": [
    "experiment_list = []\n",
    "with tqdm(total=number_of_experiments, desc=\"experiment\") as bar:\n",
    "    for i, experiment_params in enumerate(config_parser.getExperiments(fixExperiments=False)):\n",
    "        \n",
    "        experiment_params_new = {**experiment_params, **changes} \n",
    "        for key in removes:\n",
    "            experiment_params_new.pop(key, None)\n",
    "        print(experiment_params_new)\n",
    "        experiment_list.append(experiment_params_new)\n",
    "        bar.update()\n",
    "\n",
    "\n",
    "j = json.dumps({\"experimentList\": experiment_list})\n",
    "f = open(old_params_file,\"w\")        \n",
    "f.write(j)\n",
    "f.close()  \n",
    "print(\"json\", old_params_file, \"updated\")"
   ]
  },
  {
   "cell_type": "code",
   "execution_count": null,
   "metadata": {},
   "outputs": [],
   "source": []
  }
 ],
 "metadata": {
  "kernelspec": {
   "display_name": "Python 3",
   "language": "python",
   "name": "python3"
  },
  "language_info": {
   "codemirror_mode": {
    "name": "ipython",
    "version": 3
   },
   "file_extension": ".py",
   "mimetype": "text/x-python",
   "name": "python",
   "nbconvert_exporter": "python",
   "pygments_lexer": "ipython3",
   "version": "3.6.9"
  }
 },
 "nbformat": 4,
 "nbformat_minor": 4
}
