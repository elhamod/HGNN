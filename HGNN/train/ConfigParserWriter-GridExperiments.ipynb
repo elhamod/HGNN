{
 "cells": [
  {
   "cell_type": "markdown",
   "metadata": {},
   "source": [
    "Imports"
   ]
  },
  {
   "cell_type": "code",
   "execution_count": 1,
   "metadata": {},
   "outputs": [],
   "source": [
    "from configParser import ConfigParser, getModelName"
   ]
  },
  {
   "cell_type": "markdown",
   "metadata": {},
   "source": [
    "Parameters"
   ]
  },
  {
   "cell_type": "code",
   "execution_count": 2,
   "metadata": {},
   "outputs": [],
   "source": [
    "experimentName = \"biology_paper_200max_cleaned\"\n",
    "\n",
    "\n",
    "# When adding a new parameter:\n",
    "# 1- Add it here\n",
    "# 2- Add it to configParser where necessary\n",
    "# 3- Run fix parameters jupyter notebook if necessary\n",
    "\n",
    "# Do not change the order!\n",
    "params = {\n",
    "    # Do not change for multi/hyperp experiments\n",
    "    \"image_path\": \"INHS_cropped\", # \"/data/BGNN_data/CIFAR\", # \"/data/BGNN_data/INHS_cropped\",\n",
    "    \"suffix\":'biology_paper', #  #'11', '52', None # used to get a subset cleaned_metadata file. set to None otherwise to use full metadata\n",
    "    \n",
    "    # dataset\n",
    "    \"img_res\": 448, \n",
    "    \"augmented\": True,\n",
    "\n",
    "    # training\n",
    "    \"batchSize\": 16, # Bigger is more stable\n",
    "    \"learning_rate\":0.00005, # 0.00005\n",
    "    \"numOfTrials\":5,\n",
    "    \"fc_layers\": 1,\n",
    "    \"modelType\":\"HGNN_add\", #BB DISCO DSN HGNN HGNN_add HGNN_cat\n",
    "    \"lambda\": 0.6,\n",
    "    \"unsupervisedOnTest\": False,\n",
    "    \"tl_model\": \"ResNet18\", # Keep 'ResNet18', 'ResNet50', 'CIFAR', 'NIN'\n",
    "    \"link_layer\": \"avgpool\", # layer name should be consistent with tl_model layer names. avgpool,\"layer3\"\n",
    "}\n",
    "\n",
    "experimentsPath=\"/home/elhamod/HGNN/experiments/\"\n",
    "dataPath=\"/home/elhamod/HGNN/data\""
   ]
  },
  {
   "cell_type": "markdown",
   "metadata": {},
   "source": [
    "Create file"
   ]
  },
  {
   "cell_type": "code",
   "execution_count": 3,
   "metadata": {},
   "outputs": [
    {
     "data": {
      "text/plain": [
       "'/home/elhamod/HGNN/experiments/biology_paper_dataset_differentModels_layers/params.json'"
      ]
     },
     "execution_count": 3,
     "metadata": {},
     "output_type": "execute_result"
    }
   ],
   "source": [
    "cp = ConfigParser(experimentsPath, dataPath, experimentName)\n",
    "\n",
    "hyperp_params = {\n",
    "#     \"modelType\":[\"HGNN_add\",\"HGNN_cat\"]\n",
    "#     \"dummy\":[0]\n",
    "    \"dataset_norm\":[\"layer2\",\"layer4\",\"avgpool\"],\n",
    "    \n",
    "#     \"img_res\": [448],\n",
    "#     \"learning_rate\": [0.00005, 0.0001, 0.0005, 0.001, 0.01, 0.1],\n",
    "#     \"weight_decay\": [0.0001],\n",
    "#     \"kernelSize\": [5, 9],\n",
    "#     \"useZCAWhitening\": [False, True],\n",
    "#     \"patience\": [100, 200],\n",
    "#     \"batchSize\": [500, 1300, 2600],\n",
    "#     \"useHeirarchy\": [True, False],\n",
    "#     \"resnet\": ['18', '50']\n",
    "#     \"augmented\": [True, False]\n",
    "#     \"lambda\": [0, 0.25, 0.75, 1, 4, 50]\n",
    "#     'modelType': ['BB', 'DISCO', 'HGNN']\n",
    "}\n",
    "\n",
    "cp.write(params, hyperp_params, \"Grid\")"
   ]
  },
  {
   "cell_type": "code",
   "execution_count": 4,
   "metadata": {},
   "outputs": [
    {
     "name": "stdout",
     "output_type": "stream",
     "text": [
      "{'image_path': 'INHS_cropped', 'suffix': 'biology_paper_200max', 'training_count': 0.64, 'validation_count': 0.16, 'batchSize': 64, 'n_epochs': 500, 'learning_rate': 5e-05, 'numOfTrials': 3, 'patience': 10, 'fc_width': 200, 'fc_layers': 1, 'modelType': 'DISCO', 'lambda': 0.6, 'unsupervisedOnTest': False, 'tl_model': 'ResNet18', 'augmented': True, 'weight_decay': 0.0001, 'img_res': 448, 'tl_freeze': False, 'cnn_layers': 0, 'cnn_channels': 128, 'pretrained': True, 'two_nets': True, 'link_layer': 'layer3', 'dataset_norm': 'layer2', 'aug_profile': 'withRotation_PCA1.5'}\n",
      "models/63c73f56db4a1f2e92eee932982d8477944a27359e624c4ed2c963c5\n",
      "{'image_path': 'INHS_cropped', 'suffix': 'biology_paper_200max', 'training_count': 0.64, 'validation_count': 0.16, 'batchSize': 64, 'n_epochs': 500, 'learning_rate': 5e-05, 'numOfTrials': 3, 'patience': 10, 'fc_width': 200, 'fc_layers': 1, 'modelType': 'DISCO', 'lambda': 0.6, 'unsupervisedOnTest': False, 'tl_model': 'ResNet18', 'augmented': True, 'weight_decay': 0.0001, 'img_res': 448, 'tl_freeze': False, 'cnn_layers': 0, 'cnn_channels': 128, 'pretrained': True, 'two_nets': True, 'link_layer': 'layer3', 'dataset_norm': 'layer4', 'aug_profile': 'withRotation_PCA1.5'}\n",
      "models/f63045e8ae0f2300166dbb0a196734932b869847f81548167e4289b4\n",
      "{'image_path': 'INHS_cropped', 'suffix': 'biology_paper_200max', 'training_count': 0.64, 'validation_count': 0.16, 'batchSize': 64, 'n_epochs': 500, 'learning_rate': 5e-05, 'numOfTrials': 3, 'patience': 10, 'fc_width': 200, 'fc_layers': 1, 'modelType': 'DISCO', 'lambda': 0.6, 'unsupervisedOnTest': False, 'tl_model': 'ResNet18', 'augmented': True, 'weight_decay': 0.0001, 'img_res': 448, 'tl_freeze': False, 'cnn_layers': 0, 'cnn_channels': 128, 'pretrained': True, 'two_nets': True, 'link_layer': 'layer3', 'dataset_norm': 'avgpool', 'aug_profile': 'withRotation_PCA1.5'}\n",
      "models/b3ab7356a053eff487113d9695c968dc9cd8c6eb4cc3d48b063b7047\n"
     ]
    }
   ],
   "source": [
    "for i in cp.getExperiments():\n",
    "    print(i)\n",
    "    print(getModelName(i))"
   ]
  }
 ],
 "metadata": {
  "kernelspec": {
   "display_name": "Python 3",
   "language": "python",
   "name": "python3"
  },
  "language_info": {
   "codemirror_mode": {
    "name": "ipython",
    "version": 3
   },
   "file_extension": ".py",
   "mimetype": "text/x-python",
   "name": "python",
   "nbconvert_exporter": "python",
   "pygments_lexer": "ipython3",
   "version": "3.6.9"
  }
 },
 "nbformat": 4,
 "nbformat_minor": 2
}