{
 "cells": [
  {
   "cell_type": "markdown",
   "metadata": {},
   "source": [
    "Imports"
   ]
  },
  {
   "cell_type": "code",
   "execution_count": 1,
   "metadata": {},
   "outputs": [],
   "source": [
    "from configParser import ConfigParser, getModelName"
   ]
  },
  {
   "cell_type": "markdown",
   "metadata": {},
   "source": [
    "Parameters"
   ]
  },
  {
   "cell_type": "code",
   "execution_count": 2,
   "metadata": {},
   "outputs": [],
   "source": [
    "experimentName = \"differetnRes\"\n",
    "\n",
    "\n",
    "# When adding a new parameter:\n",
    "# 1- Add it here\n",
    "# 2- Add it to configParser where necessary\n",
    "# 3- Run fix parameters jupyter notebook if necessary\n",
    "\n",
    "# Do not change the order!\n",
    "params = {\n",
    "    # Do not change for multi/hyperp experiments\n",
    "    \"image_path\": \"INHS_cropped\", # \"/data/BGNN_data/CIFAR\", # \"/data/BGNN_data/INHS_cropped\",\n",
    "    \"suffix\":'52', #  #'11', '52', None # used to get a subset cleaned_metadata file. set to None otherwise to use full metadata\n",
    "    \n",
    "    # dataset\n",
    "    \"training_count\":0.64,\n",
    "    \"validation_count\":0.16,\n",
    "\n",
    "    # training\n",
    "    \"batchSize\": 64, # Bigger is more stable\n",
    "    \"n_epochs\":5000, # allow it to run for long time 4000\n",
    "    \"learning_rate\":0.001, # Seems 0.0001 to be best value with Adam. 0.1 best for SGD\n",
    "    \"numOfTrials\":5,\n",
    "    \"patience\": 50,\n",
    "    \"fc_width\":200,\n",
    "    \"fc_layers\": 1,\n",
    "    \"modelType\":\"BB\",\n",
    "    \"lambda\": 0.6,\n",
    "    \"unsupervisedOnTest\": False,\n",
    "    \"tl_model\": \"ResNet18\", # Keep 'ResNet18', 'ResNet50', 'CIFAR', 'NIN'\n",
    "    \n",
    "    \"augmented\": True,\n",
    "    \"weight_decay\": 0.0001,\n",
    "\n",
    "    \"img_res\": 448,\n",
    "    \"tl_freeze\": True,\n",
    "    \"cnn_layers\":0,\n",
    "    \"cnn_channels\":128,\n",
    "    \n",
    "    \"pretrained\": True\n",
    "}\n",
    "\n",
    "experimentsPath=\"/home/elhamod/HGNN/experiments/\"\n",
    "dataPath=\"/home/elhamod/HGNN/data\""
   ]
  },
  {
   "cell_type": "markdown",
   "metadata": {},
   "source": [
    "Create file"
   ]
  },
  {
   "cell_type": "code",
   "execution_count": 3,
   "metadata": {},
   "outputs": [
    {
     "data": {
      "text/plain": [
       "'/home/elhamod/HGNN/experiments/differetnRes/params.json'"
      ]
     },
     "execution_count": 3,
     "metadata": {},
     "output_type": "execute_result"
    }
   ],
   "source": [
    "cp = ConfigParser(experimentsPath, dataPath, experimentName)\n",
    "\n",
    "hyperp_params = {\n",
    "    \"img_res\":[224, 448, 896]\n",
    "#     \"dummy\":[0]\n",
    "#     \"fc_layers\":[1,2,3],\n",
    "    \n",
    "#     \"imageDimension\": [28, 56, 224],\n",
    "#     \"learning_rate\": [0.0001, 0.001, 0.01, 0.1],\n",
    "#     \"weight_decay\": [0.0001],\n",
    "#     \"kernelSize\": [5, 9],\n",
    "#     \"useZCAWhitening\": [False, True],\n",
    "#     \"patience\": [100, 200],\n",
    "#     \"batchSize\": [500, 1300, 2600],\n",
    "#     \"useHeirarchy\": [True, False],\n",
    "#     \"resnet\": ['18', '50']\n",
    "#     \"augmented\": [True, False]\n",
    "#     \"lambda\": [0, 0.25, 0.75, 1, 4, 50]\n",
    "#     'modelType': ['BB', 'DISCO', 'HGNN']\n",
    "}\n",
    "\n",
    "cp.write(params, hyperp_params, \"Grid\")"
   ]
  },
  {
   "cell_type": "code",
   "execution_count": 4,
   "metadata": {},
   "outputs": [
    {
     "name": "stdout",
     "output_type": "stream",
     "text": [
      "{'image_path': 'INHS_cropped', 'suffix': '52', 'training_count': 0.64, 'validation_count': 0.16, 'batchSize': 64, 'n_epochs': 5000, 'learning_rate': 0.001, 'numOfTrials': 5, 'patience': 50, 'fc_width': 200, 'fc_layers': 1, 'modelType': 'BB', 'lambda': 0.6, 'unsupervisedOnTest': False, 'tl_model': 'ResNet18', 'augmented': True, 'weight_decay': 0.0001, 'img_res': 224, 'tl_freeze': True, 'cnn_layers': 0, 'cnn_channels': 128, 'pretrained': True}\n",
      "models/754165dd61cd98f0a13a94b2b961168d7af952a89e2817c28cd67156\n",
      "{'image_path': 'INHS_cropped', 'suffix': '52', 'training_count': 0.64, 'validation_count': 0.16, 'batchSize': 64, 'n_epochs': 5000, 'learning_rate': 0.001, 'numOfTrials': 5, 'patience': 50, 'fc_width': 200, 'fc_layers': 1, 'modelType': 'BB', 'lambda': 0.6, 'unsupervisedOnTest': False, 'tl_model': 'ResNet18', 'augmented': True, 'weight_decay': 0.0001, 'img_res': 448, 'tl_freeze': True, 'cnn_layers': 0, 'cnn_channels': 128, 'pretrained': True}\n",
      "models/5dc8a5a13ac397af20c7f51ad8df9fb52e21718645de773a9b30ef12\n",
      "{'image_path': 'INHS_cropped', 'suffix': '52', 'training_count': 0.64, 'validation_count': 0.16, 'batchSize': 64, 'n_epochs': 5000, 'learning_rate': 0.001, 'numOfTrials': 5, 'patience': 50, 'fc_width': 200, 'fc_layers': 1, 'modelType': 'BB', 'lambda': 0.6, 'unsupervisedOnTest': False, 'tl_model': 'ResNet18', 'augmented': True, 'weight_decay': 0.0001, 'img_res': 896, 'tl_freeze': True, 'cnn_layers': 0, 'cnn_channels': 128, 'pretrained': True}\n",
      "models/0fba78bbf65d7c025b1ea1a645a9a0d5f2f4a1a6de341c6721258a86\n"
     ]
    }
   ],
   "source": [
    "for i in cp.getExperiments():\n",
    "    print(i)\n",
    "    print(getModelName(i))"
   ]
  }
 ],
 "metadata": {
  "kernelspec": {
   "display_name": "Python 3",
   "language": "python",
   "name": "python3"
  },
  "language_info": {
   "codemirror_mode": {
    "name": "ipython",
    "version": 3
   },
   "file_extension": ".py",
   "mimetype": "text/x-python",
   "name": "python",
   "nbconvert_exporter": "python",
   "pygments_lexer": "ipython3",
   "version": "3.6.9"
  }
 },
 "nbformat": 4,
 "nbformat_minor": 2
}
