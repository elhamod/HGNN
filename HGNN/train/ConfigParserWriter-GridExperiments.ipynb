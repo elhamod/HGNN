{
 "cells": [
  {
   "cell_type": "markdown",
   "metadata": {},
   "source": [
    "Imports"
   ]
  },
  {
   "cell_type": "code",
   "execution_count": 1,
   "metadata": {},
   "outputs": [],
   "source": [
    "from configParser import ConfigParser, getModelName"
   ]
  },
  {
   "cell_type": "markdown",
   "metadata": {},
   "source": [
    "Parameters"
   ]
  },
  {
   "cell_type": "code",
   "execution_count": 2,
   "metadata": {},
   "outputs": [],
   "source": [
    "experimentName = \"biology_paper_adaptive_smoothing_compareBestLambda\"\n",
    "\n",
    "\n",
    "# When adding a new parameter:\n",
    "# 1- Add it here\n",
    "# 2- Add it to configParser where necessary\n",
    "# 3- Run fix parameters jupyter notebook if necessary\n",
    "\n",
    "# Do not change the order!\n",
    "params = {\n",
    "    # Do not change for multi/hyperp experiments\n",
    "    \"image_path\": \"INHS_cropped\", # \"/data/BGNN_data/CIFAR\", # \"/data/BGNN_data/INHS_cropped\",\n",
    "    \"suffix\":'biology_paper_cleaned_50max', #  None # used to get a subset cleaned_metadata file. set to None otherwise to use full metadata\n",
    "    \n",
    "    # dataset\n",
    "    \"img_res\": 448, \n",
    "    \"augmented\": True,\n",
    "\n",
    "    # training\n",
    "    \"batchSize\": 64, # Bigger is more stable (256)\n",
    "    \"learning_rate\":0.0001, # 0.00005\n",
    "    \"numOfTrials\":5,\n",
    "    \"fc_layers\": 1,\n",
    "    \"modelType\":\"HGNN_add\", #BB DISCO DSN HGNN HGNN_add HGNN_cat\n",
    "    \"lambda\": 0.01,\n",
    "    \"unsupervisedOnTest\": False,\n",
    "    \"tl_model\": \"ResNet18\", # Keep 'ResNet18', 'ResNet50', 'CIFAR', 'NIN'\n",
    "    \"link_layer\": \"avgpool\", # layer name should be consistent with tl_model layer names. avgpool,\"layer3\"\n",
    "    \n",
    "    \"adaptive_smoothing\": True,\n",
    "    \"adaptive_lambda\": 0.01,\n",
    "}\n",
    "\n",
    "experimentsPath=\"/home/elhamod/HGNN/experiments/\"\n",
    "dataPath=\"/raid/elhamod/Fish\""
   ]
  },
  {
   "cell_type": "markdown",
   "metadata": {},
   "source": [
    "Create file"
   ]
  },
  {
   "cell_type": "code",
   "execution_count": 3,
   "metadata": {},
   "outputs": [
    {
     "data": {
      "text/plain": [
       "'/home/elhamod/HGNN/experiments/biology_paper_adaptive_smoothing_compareSameLambda/params.json'"
      ]
     },
     "execution_count": 3,
     "metadata": {},
     "output_type": "execute_result"
    }
   ],
   "source": [
    "cp = ConfigParser(experimentsPath, dataPath, experimentName)\n",
    "\n",
    "hyperp_params = {\n",
    "#     \"modelType\":[\"BB\",\"HGNN_cat\"]\n",
    "#     \"dummy\":[0]\n",
    "#     \"suffix\":[#\"biology_paper_cleaned_10max\",\n",
    "# #               \"biology_paper_cleaned_15max\",\n",
    "#               #\"biology_paper_cleaned_30max\",\n",
    "#               \"biology_paper_cleaned_50max\",\n",
    "#               #\"biology_paper_cleaned_100max\",\n",
    "#               \"biology_paper_cleaned_200max\",],\n",
    "    \n",
    "#     \"img_res\": [448],\n",
    "#     \"learning_rate\": [0.0001, 0.001, 0.01, 0.1],\n",
    "#     \"weight_decay\": [0.0001],\n",
    "#     \"kernelSize\": [5, 9],\n",
    "#     \"useZCAWhitening\": [False, True],\n",
    "#     \"patience\": [100, 200],\n",
    "#     \"batchSize\": [500, 1300, 2600],\n",
    "#     \"useHeirarchy\": [True, False],\n",
    "#     \"resnet\": ['18', '50']\n",
    "#     \"augmented\": [True, False]\n",
    "#     \"lambda\": [0, 0.25, 0.75, 1, 4, 50]\n",
    "#     'modelType': ['BB', 'DISCO', 'HGNN']\n",
    "     \"adaptive_smoothing\": [True, False],\n",
    "    \"lambda\": [True, False],\n",
    "}\n",
    "\n",
    "cp.write(params, hyperp_params, \"Grid\")"
   ]
  },
  {
   "cell_type": "code",
   "execution_count": 4,
   "metadata": {},
   "outputs": [
    {
     "name": "stdout",
     "output_type": "stream",
     "text": [
      "{'image_path': 'INHS_cropped', 'suffix': 'biology_paper_cleaned_50max', 'img_res': 448, 'augmented': True, 'batchSize': 64, 'learning_rate': 0.0001, 'numOfTrials': 5, 'fc_layers': 1, 'modelType': 'HGNN_add', 'lambda': True, 'unsupervisedOnTest': False, 'tl_model': 'ResNet18', 'link_layer': 'avgpool', 'adaptive_smoothing': True, 'adaptive_lambda': 0.01, 'adaptive_alpha': 0.9}\n",
      "models/9da963f892577f1816af7c580ecd21ba634b87233f8d09604f719641\n",
      "{'image_path': 'INHS_cropped', 'suffix': 'biology_paper_cleaned_50max', 'img_res': 448, 'augmented': True, 'batchSize': 64, 'learning_rate': 0.0001, 'numOfTrials': 5, 'fc_layers': 1, 'modelType': 'HGNN_add', 'lambda': False, 'unsupervisedOnTest': False, 'tl_model': 'ResNet18', 'link_layer': 'avgpool', 'adaptive_smoothing': True, 'adaptive_lambda': 0.01, 'adaptive_alpha': 0.9}\n",
      "models/6885b9e794a2e17dd2665f7f86083dc98c5105402ea9dc1312d7b343\n",
      "{'image_path': 'INHS_cropped', 'suffix': 'biology_paper_cleaned_50max', 'img_res': 448, 'augmented': True, 'batchSize': 64, 'learning_rate': 0.0001, 'numOfTrials': 5, 'fc_layers': 1, 'modelType': 'HGNN_add', 'lambda': True, 'unsupervisedOnTest': False, 'tl_model': 'ResNet18', 'link_layer': 'avgpool', 'adaptive_smoothing': False, 'adaptive_lambda': 0.01, 'adaptive_alpha': 0.9}\n",
      "models/8acb70ece3ffcdb934303d4fbb76edfbf4a16ef43912aca6e960b2b1\n",
      "{'image_path': 'INHS_cropped', 'suffix': 'biology_paper_cleaned_50max', 'img_res': 448, 'augmented': True, 'batchSize': 64, 'learning_rate': 0.0001, 'numOfTrials': 5, 'fc_layers': 1, 'modelType': 'HGNN_add', 'lambda': False, 'unsupervisedOnTest': False, 'tl_model': 'ResNet18', 'link_layer': 'avgpool', 'adaptive_smoothing': False, 'adaptive_lambda': 0.01, 'adaptive_alpha': 0.9}\n",
      "models/9f9613417ae6800d692639ec6b14059c8d9a5f3609670b3b6b832b2f\n"
     ]
    }
   ],
   "source": [
    "for i in cp.getExperiments():\n",
    "    print(i)\n",
    "    print(getModelName(i))"
   ]
  }
 ],
 "metadata": {
  "kernelspec": {
   "display_name": "Python 3",
   "language": "python",
   "name": "python3"
  },
  "language_info": {
   "codemirror_mode": {
    "name": "ipython",
    "version": 3
   },
   "file_extension": ".py",
   "mimetype": "text/x-python",
   "name": "python",
   "nbconvert_exporter": "python",
   "pygments_lexer": "ipython3",
   "version": "3.6.9"
  }
 },
 "nbformat": 4,
 "nbformat_minor": 2
}
