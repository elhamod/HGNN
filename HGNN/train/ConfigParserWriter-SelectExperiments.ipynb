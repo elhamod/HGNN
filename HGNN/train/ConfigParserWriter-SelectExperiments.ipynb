{
 "cells": [
  {
   "cell_type": "markdown",
   "metadata": {},
   "source": [
    "Imports"
   ]
  },
  {
   "cell_type": "code",
   "execution_count": 1,
   "metadata": {},
   "outputs": [],
   "source": [
    "from configParser import ConfigParser, getModelName"
   ]
  },
  {
   "cell_type": "markdown",
   "metadata": {},
   "source": [
    "Parameters"
   ]
  },
  {
   "cell_type": "code",
   "execution_count": 2,
   "metadata": {},
   "outputs": [],
   "source": [
    "experimentName = \"CIFAR_phylogeny_from_scratch_2\"\n",
    "\n",
    "\n",
    "# When adding a new parameter:\n",
    "# 1- Add it here\n",
    "# 2- Add it to configParser where necessary\n",
    "# 3- Run fix parameters jupyter notebook if necessary\n",
    "\n",
    "# Do not change the order!\n",
    "params = {\n",
    "    # Do not change for multi/hyperp experiments\n",
    "    \"image_path\": \"cifar-100-python\", # \"cifar-100-python\", \"Curated4/Easy_50\"\n",
    "    \"suffix\":None, #\"curated_30_50\", #  None # used to get a subset cleaned_metadata file. set to None otherwise to use full metadata\n",
    "    \n",
    "    # dataset\n",
    "    \"img_res\": 32, #32, 448\n",
    "    \"augmented\": True,\n",
    "\n",
    "    # training\n",
    "    \"batchSize\": 128, #128, # Bigger is more stable (256)\n",
    "    \"learning_rate\": 0.1, # 0.05, #0.0003, # 0.00005\n",
    "    \"numOfTrials\":1,\n",
    "    \"fc_layers\": 1,\n",
    "    \"pretrained\": False,\n",
    "    \"epochs\": 200,\n",
    "    \"patience\": -1, # -1 = \"epochs\"\n",
    "    \n",
    "    \"modelType\":\"BB\", #BB DISCO DSN HGNN HGNN_cat \"HGNN_add\" \n",
    "    \n",
    "    \"lambda\": 10,#0.01,\n",
    "\n",
    "    \"tl_model\": 'ResNet50', #\"CIFAR\", # Keep 'ResNet18', 'ResNet50', 'CIFAR', 'NIN'\n",
    "    \"link_layer\": \"avgpool\", # layer name should be consistent with tl_model layer names. avgpool,\"layer3\"\n",
    "    \n",
    "    \"adaptive_smoothing\": True,\n",
    "    \"adaptive_lambda\": 0.1,#0.015, #optimized for time\n",
    "    \"adaptive_alpha\": 0.1,#0.8, #optimized for time\n",
    "    \n",
    "    \"tripletEnabled\": True,\n",
    "    \"tripletSamples\": 3,\n",
    "    \"tripletSelector\": \"semihard\",\n",
    "    \"tripletMargin\": 0.2, #0.2\n",
    "\n",
    "    \"phylogeny_loss\": False, \n",
    "}\n",
    "\n",
    "experimentsPath=\"/raid/elhamod/CIFAR_HGNN/experiments/\"\n",
    "dataPath=\"/raid/elhamod/\" #\"/raid/elhamod/Fish\" \"/raid/elhamod/\""
   ]
  },
  {
   "cell_type": "markdown",
   "metadata": {},
   "source": [
    "Create file"
   ]
  },
  {
   "cell_type": "code",
   "execution_count": 3,
   "metadata": {},
   "outputs": [
    {
     "data": {
      "text/plain": [
       "'/raid/elhamod/CIFAR_HGNN/experiments/CIFAR_phylogeny_from_scratch_2/params.json'"
      ]
     },
     "execution_count": 3,
     "metadata": {},
     "output_type": "execute_result"
    }
   ],
   "source": [
    "cp = ConfigParser(experimentsPath, dataPath, experimentName)\n",
    "\n",
    "selected_hyperp_params = [\n",
    "#     {'adaptive_smoothing': True, },\n",
    "#     {'adaptive_smoothing': False, 'lambda': 0.01},\n",
    "#     {'adaptive_smoothing': False, 'lambda': 0},\n",
    "#     {\"training_count\":0.32,\"validation_count\":0.08,},\n",
    "#     {\"training_count\":0.32,\"validation_count\":0.08,'downsample': True, 'takeFromIntermediate': False, 'takeFromIntermediateOutput':-1 },\n",
    "#     {\"training_count\":0.16,\"validation_count\":0.04,'downsample': True, 'takeFromIntermediate': False, 'takeFromIntermediateOutput':-1 },\n",
    "#     {\"training_count\":0.16,\"validation_count\":0.04}\n",
    "    \n",
    "#     {\"training_count\":0.64,\"validation_count\":0.16,'downsample': True, 'takeFromIntermediate': False, 'takeFromIntermediateOutput':-1 },\n",
    "#     {\"training_count\":0.64,\"validation_count\":0.16}\n",
    "    \n",
    "#     {\"augmented\": True, \"aug_profile\": \"withRotation_PCA1.5\", \"suffix\": 'biology_paper_200max' }, \n",
    "#     {\"augmented\": False, \"aug_profile\": None }, \n",
    "#     {\"augmented\": True, \"aug_profile\": \"withRotation_PCA1.5\" },\n",
    "    \n",
    "#      {\"modelType\": 'DISCO'}, ## BB\n",
    "#      {\"modelType\": 'HGNN_add', \"numOfTrials\":1, \"adaptive_alpha\": 0.1, \"adaptive_lambda\": 0.1},\n",
    "#      { \"modelType\": 'HGNN_add', \"fc_layers\": 1},\n",
    "#      { \"modelType\": 'BB', \"fc_layers\": 1},\n",
    "#      { \"modelType\": 'BB', \"fc_layers\": 2}\n",
    "#     {'batchSize':16, 'learning_rate': 0.0001},\n",
    "#     {'batchSize':16, 'learning_rate': 0.00005},\n",
    "#     {'batchSize':16, 'learning_rate': 0.00001},\n",
    "#     {'batchSize':16, 'learning_rate': 0.000005},\n",
    "#     {'batchSize':8, 'learning_rate': 0.0001},\n",
    "#     {'batchSize':8, 'learning_rate': 0.00005},\n",
    "#     {'batchSize':8, 'learning_rate': 0.00001},\n",
    "#     {'batchSize':8, 'learning_rate': 0.000005},\n",
    "#     {'batchSize':32, 'learning_rate': 0.0001},\n",
    "#     {'batchSize':32, 'learning_rate': 0.00005},\n",
    "#     {'batchSize':32, 'learning_rate': 0.00001},\n",
    "#     {'batchSize':32, 'learning_rate': 0.000005}\n",
    "#     {'batchSize':64, 'learning_rate': 0.0001},\n",
    "#     {'batchSize':128, 'learning_rate': 0.0001},\n",
    "#     {'batchSize':64, 'learning_rate': 0.00005},\n",
    "#     {'batchSize':128, 'learning_rate': 0.00005},\n",
    "#     {'batchSize':8, 'learning_rate': 0.0001},\n",
    "#     {'batchSize':16, 'learning_rate': 0.0001},\n",
    "#     {'batchSize':8, 'learning_rate': 0.00005},\n",
    "#     {'batchSize':16, 'learning_rate': 0.00005},\n",
    "#     {'batchSize':32, 'learning_rate': 0.0001},\n",
    "#     {'batchSize':32, 'learning_rate': 0.00005},\n",
    "#     {\"modelType\": 'HGNN_add', \"numOfTrials\":1, \"adaptive_alpha\": 0.1, \"adaptive_lambda\": 0.01},\n",
    "#      {\"modelType\": 'BB'},\n",
    "#     {\"adaptive_lambda\":0.1, 'tripletMargin': 3, 'displayName': 'adaptive lambda big margin 3 alpha 0.5'},\n",
    "#     {\"adaptive_lambda\":1,'tripletMargin': 3, 'displayName':'adaptive lambda bigger margin 3 alpha 0.5'},\n",
    "#     {\"adaptive_lambda\":0.1, 'displayName':'adaptive lambda big margin 0.2 alpha 0.5'},\n",
    "#     {\"adaptive_lambda\":0.1, 'displayName':'adaptive lambda bigger margin 0.2 alpha 0.5'},\n",
    "    {'displayName': 'CIFAR preresnet from scratch no triplet', \"tl_model\": 'preResNet', \"tripletEnabled\": False},\n",
    "    {'displayName': 'CIFAR preresnet from scratch triplet', \"tl_model\": 'preResNet'},\n",
    "    {'displayName': 'CIFAR resnet56 from scratch no triplet', \"tl_model\": 'ResNet56', \"tripletEnabled\": False},\n",
    "    {'displayName': 'CIFAR resnet56 from scratch triplet', \"tl_model\": 'ResNet56'},\n",
    "#     {'displayName': 'CIFAR alpha 0.5', \"adaptive_alpha\": 0.5},\n",
    "#     {'displayName': 'CIFAR alpha 0.8', \"adaptive_alpha\": 0.8},\n",
    "#     {'displayName': 'CIFAR lr 0.1', \"learning_rate\": 0.1},\n",
    "#     {'displayName': 'CIFAR lr 0.01', \"learning_rate\": 0.01},\n",
    "#     {'displayName': 'CIFAR lr 0.05', \"learning_rate\": 0.005},\n",
    "#     {\"adaptive_smoothing\": True,'displayName': 'SGD with triplet'},\n",
    "#      {\"tripletMargin\":0.2, 'displayName': 'small margin 0.2'},\n",
    "#     {\"tripletMargin\":6, 'displayName': 'large margin 6'},\n",
    "#     {\"tripletMargin\":20, 'displayName': 'very large margin 20'},\n",
    "#     {\"tripletSelector\":'hard', 'displayName': 'hard'},\n",
    "#     {'tripletSelector': 'random', 'displayName': 'random'},\n",
    "    \n",
    "#      {\"modelType\": 'DSN'},\n",
    "#     {\"phylogeny_loss\": False},\n",
    "#     {\"phylogeny_loss\": \"MSE\"},\n",
    "#     {\"phylogeny_loss\": \"KLDiv\"},\n",
    "#      {\"adaptive_lambda\": 0.1, \"numOfTrials\":3,\"adaptive_alpha\":0.7},\n",
    "#      {\"adaptive_lambda\": 0.1, \"numOfTrials\":3,\"adaptive_alpha\":0.5},\n",
    "#      {\"adaptive_lambda\": 0.1, \"numOfTrials\":3,\"adaptive_alpha\":0.1},\n",
    "#      {\"adaptive_lambda\": 0.1, \"numOfTrials\":3,\"adaptive_alpha\":0.9},\n",
    "#     {\"adaptive_smoothing\": False, \"lambda\": 0.1}, ## HGNN constant lambda\n",
    "#     {\"adaptive_smoothing\": False, \"lambda\": 0.01}, ## HGNN constant lambda smaller\n",
    "#     {\"adaptive_alpha\": 0.7, \"adaptive_lambda\": 0.01}, #HGNN adaptive smoothing\n",
    "#     {\"adaptive_alpha\": 0.9, \"adaptive_lambda\": 0.01}, #HGNN more smooth higher alpha\n",
    "   \n",
    "    \n",
    "#     {'downsample': True, 'takeFromIntermediate': True, 'downsampleOutput':400, 'takeFromIntermediateOutput':400, \"fc_layers\": 2 }, #size\n",
    "#     {'downsample': True, 'takeFromIntermediate': True, 'downsampleOutput':200, 'takeFromIntermediateOutput':200, \"fc_layers\": 3 }, #size\n",
    "#     {'downsample': True, 'takeFromIntermediate': True, 'downsampleOutput':400, 'takeFromIntermediateOutput':400, \"fc_layers\": 3 }, #size\n",
    "\n",
    "#     {'downsample': True, 'takeFromIntermediate': True }, #HGNN\n",
    "#     {'downsample': True, 'takeFromIntermediate': False, 'takeFromIntermediateOutput':-1 }, #blackbox\n",
    "#     {'downsample': False, 'takeFromIntermediate': True }, #baseline1\n",
    "#     {'downsample': True, 'takeFromIntermediate': False }, #baseline2\n",
    "#     {'downsample': False, 'takeFromIntermediate': False }, #baseline3\n",
    "#     {'downsample': False, 'takeFromIntermediate': True, 'downsampleOutput':0 }, #DISCO\n",
    "#     {'downsample': False, 'takeFromIntermediate': True, 'downsampleOutput':-1 }, #DSN\n",
    "#     {'downsample': True, 'takeFromIntermediate': True, 'lambda':0 }, #Lambda0\n",
    "\n",
    "\n",
    "]\n",
    "\n",
    "cp.write(params, selected_hyperp_params, \"Select\")\n",
    "\n"
   ]
  },
  {
   "cell_type": "code",
   "execution_count": 4,
   "metadata": {},
   "outputs": [
    {
     "name": "stdout",
     "output_type": "stream",
     "text": [
      "{'image_path': 'cifar-100-python', 'suffix': None, 'img_res': 32, 'augmented': True, 'batchSize': 128, 'learning_rate': 0.1, 'numOfTrials': 1, 'fc_layers': 1, 'pretrained': False, 'epochs': 200, 'patience': -1, 'modelType': 'BB', 'lambda': 10, 'tl_model': 'preResNet', 'link_layer': 'avgpool', 'adaptive_smoothing': True, 'adaptive_lambda': 0.1, 'adaptive_alpha': 0.1, 'tripletEnabled': False, 'tripletSamples': 3, 'tripletSelector': 'semihard', 'tripletMargin': 0.2, 'phylogeny_loss': False, 'displayName': 'CIFAR preresnet from scratch no triplet', 'noSpeciesBackprop': False, 'phylogeny_loss_epsilon': 0.03}\n",
      "models/3599eece106c56ef2f5bb246d59ac03857454f60ff22d9529d143466\n",
      "{'image_path': 'cifar-100-python', 'suffix': None, 'img_res': 32, 'augmented': True, 'batchSize': 128, 'learning_rate': 0.1, 'numOfTrials': 1, 'fc_layers': 1, 'pretrained': False, 'epochs': 200, 'patience': -1, 'modelType': 'BB', 'lambda': 10, 'tl_model': 'preResNet', 'link_layer': 'avgpool', 'adaptive_smoothing': True, 'adaptive_lambda': 0.1, 'adaptive_alpha': 0.1, 'tripletEnabled': True, 'tripletSamples': 3, 'tripletSelector': 'semihard', 'tripletMargin': 0.2, 'phylogeny_loss': False, 'displayName': 'CIFAR preresnet from scratch triplet', 'noSpeciesBackprop': False, 'phylogeny_loss_epsilon': 0.03}\n",
      "models/2b242e803e17f2bbe8a295f01e5f9cbad890a01a91c3e969f6ad1226\n",
      "{'image_path': 'cifar-100-python', 'suffix': None, 'img_res': 32, 'augmented': True, 'batchSize': 128, 'learning_rate': 0.1, 'numOfTrials': 1, 'fc_layers': 1, 'pretrained': False, 'epochs': 200, 'patience': -1, 'modelType': 'BB', 'lambda': 10, 'tl_model': 'ResNet56', 'link_layer': 'avgpool', 'adaptive_smoothing': True, 'adaptive_lambda': 0.1, 'adaptive_alpha': 0.1, 'tripletEnabled': False, 'tripletSamples': 3, 'tripletSelector': 'semihard', 'tripletMargin': 0.2, 'phylogeny_loss': False, 'displayName': 'CIFAR resnet56 from scratch no triplet', 'noSpeciesBackprop': False, 'phylogeny_loss_epsilon': 0.03}\n",
      "models/7a4a1c81473193b63612a67c7356278837d550c624dcc8f8b6e347c4\n",
      "{'image_path': 'cifar-100-python', 'suffix': None, 'img_res': 32, 'augmented': True, 'batchSize': 128, 'learning_rate': 0.1, 'numOfTrials': 1, 'fc_layers': 1, 'pretrained': False, 'epochs': 200, 'patience': -1, 'modelType': 'BB', 'lambda': 10, 'tl_model': 'ResNet56', 'link_layer': 'avgpool', 'adaptive_smoothing': True, 'adaptive_lambda': 0.1, 'adaptive_alpha': 0.1, 'tripletEnabled': True, 'tripletSamples': 3, 'tripletSelector': 'semihard', 'tripletMargin': 0.2, 'phylogeny_loss': False, 'displayName': 'CIFAR resnet56 from scratch triplet', 'noSpeciesBackprop': False, 'phylogeny_loss_epsilon': 0.03}\n",
      "models/e590b0fdf00dd05b30c5bf63ea0f80554e8b4d0cbaa7fe4021b054f4\n"
     ]
    }
   ],
   "source": [
    "for i in cp.getExperiments():\n",
    "    print(i)\n",
    "    print(getModelName(i))"
   ]
  },
  {
   "cell_type": "code",
   "execution_count": null,
   "metadata": {},
   "outputs": [],
   "source": []
  }
 ],
 "metadata": {
  "kernelspec": {
   "display_name": "Python 3",
   "language": "python",
   "name": "python3"
  },
  "language_info": {
   "codemirror_mode": {
    "name": "ipython",
    "version": 3
   },
   "file_extension": ".py",
   "mimetype": "text/x-python",
   "name": "python",
   "nbconvert_exporter": "python",
   "pygments_lexer": "ipython3",
   "version": "3.6.9"
  }
 },
 "nbformat": 4,
 "nbformat_minor": 4
}
