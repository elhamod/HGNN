{
 "cells": [
  {
   "cell_type": "markdown",
   "metadata": {},
   "source": [
    "Imports"
   ]
  },
  {
   "cell_type": "code",
   "execution_count": 1,
   "metadata": {},
   "outputs": [],
   "source": [
    "from configParser import ConfigParser, getModelName"
   ]
  },
  {
   "cell_type": "markdown",
   "metadata": {},
   "source": [
    "Parameters"
   ]
  },
  {
   "cell_type": "code",
   "execution_count": 2,
   "metadata": {},
   "outputs": [],
   "source": [
    "experimentName = \"biology_paper_curated4_Easy50_studyGradients\"\n",
    "\n",
    "\n",
    "# When adding a new parameter:\n",
    "# 1- Add it here\n",
    "# 2- Add it to configParser where necessary\n",
    "# 3- Run fix parameters jupyter notebook if necessary\n",
    "\n",
    "# Do not change the order!\n",
    "params = {\n",
    "    # Do not change for multi/hyperp experiments\n",
    "    \"image_path\": \"Curated4/Easy_50\", # \"/data/BGNN_data/CIFAR\", # \"/data/BGNN_data/INHS_cropped\",\n",
    "    \"suffix\":None, #\"curated_30_50\", #  None # used to get a subset cleaned_metadata file. set to None otherwise to use full metadata\n",
    "    \n",
    "    # dataset\n",
    "    \"img_res\": 448, \n",
    "    \"augmented\": True,\n",
    "\n",
    "    # training\n",
    "    \"batchSize\": 16, # Bigger is more stable (256)\n",
    "    \"learning_rate\":0.0001, # 0.00005\n",
    "    \"numOfTrials\":2,\n",
    "    \"fc_layers\": 1,\n",
    "    \"modelType\":\"HGNN_add\", #BB DISCO DSN HGNN HGNN_add HGNN_cat\n",
    "    \"lambda\": 0.01,\n",
    "    \"unsupervisedOnTest\": False,\n",
    "    \"tl_model\": \"ResNet18\", # Keep 'ResNet18', 'ResNet50', 'CIFAR', 'NIN'\n",
    "    \"link_layer\": \"avgpool\", # layer name should be consistent with tl_model layer names. avgpool,\"layer3\"\n",
    "    \n",
    "    \"adaptive_smoothing\": True,\n",
    "    \"adaptive_lambda\": 0.015, #optimized for time\n",
    "    \"adaptive_alpha\": 0.8, #optimized for time\n",
    "    \n",
    "    \"noSpeciesBackprop\": False, \n",
    "}\n",
    "\n",
    "experimentsPath=\"/raid/elhamod/Fish/experiments/\"\n",
    "dataPath=\"/raid/elhamod/Fish\""
   ]
  },
  {
   "cell_type": "markdown",
   "metadata": {},
   "source": [
    "Create file"
   ]
  },
  {
   "cell_type": "code",
   "execution_count": 3,
   "metadata": {},
   "outputs": [
    {
     "data": {
      "text/plain": [
       "'/raid/elhamod/Fish/experiments/biology_paper_curated4_Easy50_studyGradients/params.json'"
      ]
     },
     "execution_count": 3,
     "metadata": {},
     "output_type": "execute_result"
    }
   ],
   "source": [
    "cp = ConfigParser(experimentsPath, dataPath, experimentName)\n",
    "\n",
    "selected_hyperp_params = [\n",
    "#     {\"training_count\":0.32,\"validation_count\":0.08,},\n",
    "#     {\"training_count\":0.32,\"validation_count\":0.08,'downsample': True, 'takeFromIntermediate': False, 'takeFromIntermediateOutput':-1 },\n",
    "#     {\"training_count\":0.16,\"validation_count\":0.04,'downsample': True, 'takeFromIntermediate': False, 'takeFromIntermediateOutput':-1 },\n",
    "#     {\"training_count\":0.16,\"validation_count\":0.04}\n",
    "    \n",
    "#     {\"training_count\":0.64,\"validation_count\":0.16,'downsample': True, 'takeFromIntermediate': False, 'takeFromIntermediateOutput':-1 },\n",
    "#     {\"training_count\":0.64,\"validation_count\":0.16}\n",
    "    \n",
    "#     {\"augmented\": True, \"aug_profile\": \"withRotation_PCA1.5\", \"suffix\": 'biology_paper_200max' }, \n",
    "#     {\"augmented\": False, \"aug_profile\": None }, \n",
    "#     {\"augmented\": True, \"aug_profile\": \"withRotation_PCA1.5\" },\n",
    "    \n",
    "#      {\"modelType\": 'DISCO'}, ## BB\n",
    "#      {\"modelType\": 'HGNN_add', \"numOfTrials\":1, \"adaptive_alpha\": 0.1, \"adaptive_lambda\": 0.1},\n",
    "     { \"modelType\": 'HGNN_add', \"fc_layers\": 1},\n",
    "     { \"modelType\": 'BB', \"fc_layers\": 1},\n",
    "     { \"modelType\": 'BB', \"fc_layers\": 2}\n",
    "#     {\"modelType\": 'HGNN_add', \"numOfTrials\":1, \"adaptive_alpha\": 0.1, \"adaptive_lambda\": 0.01},\n",
    "#      {\"modelType\": 'BB'},\n",
    "#      {\"modelType\": 'DSN'},\n",
    "#      {\"adaptive_lambda\": 0.1, \"numOfTrials\":3,\"adaptive_alpha\":0.7},\n",
    "#      {\"adaptive_lambda\": 0.1, \"numOfTrials\":3,\"adaptive_alpha\":0.5},\n",
    "#      {\"adaptive_lambda\": 0.1, \"numOfTrials\":3,\"adaptive_alpha\":0.1},\n",
    "#      {\"adaptive_lambda\": 0.1, \"numOfTrials\":3,\"adaptive_alpha\":0.9},\n",
    "#     {\"adaptive_smoothing\": False, \"lambda\": 0.1}, ## HGNN constant lambda\n",
    "#     {\"adaptive_smoothing\": False, \"lambda\": 0.01}, ## HGNN constant lambda smaller\n",
    "#     {\"adaptive_alpha\": 0.7, \"adaptive_lambda\": 0.01}, #HGNN adaptive smoothing\n",
    "#     {\"adaptive_alpha\": 0.9, \"adaptive_lambda\": 0.01}, #HGNN more smooth higher alpha\n",
    "   \n",
    "    \n",
    "#     {'downsample': True, 'takeFromIntermediate': True, 'downsampleOutput':400, 'takeFromIntermediateOutput':400, \"fc_layers\": 2 }, #size\n",
    "#     {'downsample': True, 'takeFromIntermediate': True, 'downsampleOutput':200, 'takeFromIntermediateOutput':200, \"fc_layers\": 3 }, #size\n",
    "#     {'downsample': True, 'takeFromIntermediate': True, 'downsampleOutput':400, 'takeFromIntermediateOutput':400, \"fc_layers\": 3 }, #size\n",
    "\n",
    "#     {'downsample': True, 'takeFromIntermediate': True }, #HGNN\n",
    "#     {'downsample': True, 'takeFromIntermediate': False, 'takeFromIntermediateOutput':-1 }, #blackbox\n",
    "#     {'downsample': False, 'takeFromIntermediate': True }, #baseline1\n",
    "#     {'downsample': True, 'takeFromIntermediate': False }, #baseline2\n",
    "#     {'downsample': False, 'takeFromIntermediate': False }, #baseline3\n",
    "#     {'downsample': False, 'takeFromIntermediate': True, 'downsampleOutput':0 }, #DISCO\n",
    "#     {'downsample': False, 'takeFromIntermediate': True, 'downsampleOutput':-1 }, #DSN\n",
    "#     {'downsample': True, 'takeFromIntermediate': True, 'lambda':0 }, #Lambda0\n",
    "\n",
    "\n",
    "]\n",
    "\n",
    "cp.write(params, selected_hyperp_params, \"Select\")\n",
    "\n"
   ]
  },
  {
   "cell_type": "code",
   "execution_count": 4,
   "metadata": {},
   "outputs": [
    {
     "name": "stdout",
     "output_type": "stream",
     "text": [
      "{'image_path': 'Curated4/Easy_50', 'suffix': None, 'img_res': 448, 'augmented': True, 'batchSize': 16, 'learning_rate': 0.0001, 'numOfTrials': 2, 'fc_layers': 1, 'modelType': 'HGNN_add', 'lambda': 0.01, 'unsupervisedOnTest': False, 'tl_model': 'ResNet18', 'link_layer': 'avgpool', 'adaptive_smoothing': True, 'adaptive_lambda': 0.015, 'adaptive_alpha': 0.8, 'noSpeciesBackprop': False}\n",
      "models/ec39cf27961d88407a2576ede1bf4c58ae9d28241c5f43e45ce1164d\n",
      "{'image_path': 'Curated4/Easy_50', 'suffix': None, 'img_res': 448, 'augmented': True, 'batchSize': 16, 'learning_rate': 0.0001, 'numOfTrials': 2, 'fc_layers': 1, 'modelType': 'BB', 'lambda': 0.01, 'unsupervisedOnTest': False, 'tl_model': 'ResNet18', 'link_layer': 'avgpool', 'adaptive_smoothing': True, 'adaptive_lambda': 0.015, 'adaptive_alpha': 0.8, 'noSpeciesBackprop': False}\n",
      "models/43cdc6aff3a7bb28d399a67febca64820d5fd2c77ba7fbb74c2f3c11\n",
      "{'image_path': 'Curated4/Easy_50', 'suffix': None, 'img_res': 448, 'augmented': True, 'batchSize': 16, 'learning_rate': 0.0001, 'numOfTrials': 2, 'fc_layers': 2, 'modelType': 'BB', 'lambda': 0.01, 'unsupervisedOnTest': False, 'tl_model': 'ResNet18', 'link_layer': 'avgpool', 'adaptive_smoothing': True, 'adaptive_lambda': 0.015, 'adaptive_alpha': 0.8, 'noSpeciesBackprop': False}\n",
      "models/6217abc41cf4519c1dccbf864ee1a5d9dd661979902dc96031acd5ed\n"
     ]
    }
   ],
   "source": [
    "for i in cp.getExperiments():\n",
    "    print(i)\n",
    "    print(getModelName(i))"
   ]
  }
 ],
 "metadata": {
  "kernelspec": {
   "display_name": "Python 3",
   "language": "python",
   "name": "python3"
  },
  "language_info": {
   "codemirror_mode": {
    "name": "ipython",
    "version": 3
   },
   "file_extension": ".py",
   "mimetype": "text/x-python",
   "name": "python",
   "nbconvert_exporter": "python",
   "pygments_lexer": "ipython3",
   "version": "3.6.9"
  }
 },
 "nbformat": 4,
 "nbformat_minor": 2
}
