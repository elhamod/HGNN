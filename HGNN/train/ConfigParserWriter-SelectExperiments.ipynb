{
 "cells": [
  {
   "cell_type": "markdown",
   "metadata": {},
   "source": [
    "Imports"
   ]
  },
  {
   "cell_type": "code",
   "execution_count": 1,
   "metadata": {},
   "outputs": [],
   "source": [
    "from configParser import ConfigParser, getModelName"
   ]
  },
  {
   "cell_type": "markdown",
   "metadata": {},
   "source": [
    "Parameters"
   ]
  },
  {
   "cell_type": "code",
   "execution_count": 2,
   "metadata": {},
   "outputs": [],
   "source": [
    "experimentName = \"biology_paper_medium_curated3_50_30_moregenus\"\n",
    "\n",
    "\n",
    "# When adding a new parameter:\n",
    "# 1- Add it here\n",
    "# 2- Add it to configParser where necessary\n",
    "# 3- Run fix parameters jupyter notebook if necessary\n",
    "\n",
    "# Do not change the order!\n",
    "params = {\n",
    "    # Do not change for multi/hyperp experiments\n",
    "    \"image_path\": \"Curated3/Hard\", # \"/data/BGNN_data/CIFAR\", # \"/data/BGNN_data/INHS_cropped\",\n",
    "    \"suffix\":'curated_30_50', #  None # used to get a subset cleaned_metadata file. set to None otherwise to use full metadata\n",
    "    \n",
    "    # dataset\n",
    "    \"img_res\": 448, \n",
    "    \"augmented\": True,\n",
    "\n",
    "    # training\n",
    "    \"batchSize\": 64, # Bigger is more stable (256)\n",
    "    \"learning_rate\":0.0001, # 0.00005\n",
    "    \"numOfTrials\":5,\n",
    "    \"fc_layers\": 1,\n",
    "    \"modelType\":\"HGNN_add\", #BB DISCO DSN HGNN HGNN_add HGNN_cat\n",
    "    \"lambda\": 0.01,\n",
    "    \"unsupervisedOnTest\": False,\n",
    "    \"tl_model\": \"ResNet18\", # Keep 'ResNet18', 'ResNet50', 'CIFAR', 'NIN'\n",
    "    \"link_layer\": \"avgpool\", # layer name should be consistent with tl_model layer names. avgpool,\"layer3\"\n",
    "    \n",
    "    \"adaptive_smoothing\": True,\n",
    "    \"adaptive_lambda\": 0.01, #optimized for time\n",
    "    \"adaptive_alpha\": 0.9, #optimized for time\n",
    "}\n",
    "\n",
    "experimentsPath=\"/raid/elhamod/Fish/experiments/\"\n",
    "dataPath=\"/raid/elhamod/Fish\""
   ]
  },
  {
   "cell_type": "markdown",
   "metadata": {},
   "source": [
    "Create file"
   ]
  },
  {
   "cell_type": "code",
   "execution_count": 3,
   "metadata": {},
   "outputs": [
    {
     "data": {
      "text/plain": [
       "'/raid/elhamod/Fish/experiments/biology_paper_medium_curated3_50_30_moregenus/params.json'"
      ]
     },
     "execution_count": 3,
     "metadata": {},
     "output_type": "execute_result"
    }
   ],
   "source": [
    "cp = ConfigParser(experimentsPath, dataPath, experimentName)\n",
    "\n",
    "selected_hyperp_params = [\n",
    "#     {\"training_count\":0.32,\"validation_count\":0.08,},\n",
    "#     {\"training_count\":0.32,\"validation_count\":0.08,'downsample': True, 'takeFromIntermediate': False, 'takeFromIntermediateOutput':-1 },\n",
    "#     {\"training_count\":0.16,\"validation_count\":0.04,'downsample': True, 'takeFromIntermediate': False, 'takeFromIntermediateOutput':-1 },\n",
    "#     {\"training_count\":0.16,\"validation_count\":0.04}\n",
    "    \n",
    "#     {\"training_count\":0.64,\"validation_count\":0.16,'downsample': True, 'takeFromIntermediate': False, 'takeFromIntermediateOutput':-1 },\n",
    "#     {\"training_count\":0.64,\"validation_count\":0.16}\n",
    "    \n",
    "#     {\"augmented\": True, \"aug_profile\": \"withRotation_PCA1.5\", \"suffix\": 'biology_paper_200max' }, \n",
    "#     {\"augmented\": False, \"aug_profile\": None }, \n",
    "#     {\"augmented\": True, \"aug_profile\": \"withRotation_PCA1.5\" },\n",
    "    \n",
    "#      {\"modelType\": 'DISCO'}, ## BB\n",
    "#      {\"modelType\": 'DSN'},\n",
    "#      {\"modelType\": 'BB'},\n",
    "     {\"adaptive_lambda\": 0.1, \"numOfTrials\":3,\"adaptive_alpha\":0.7},\n",
    "     {\"adaptive_lambda\": 0.1, \"numOfTrials\":3,\"adaptive_alpha\":0.5},\n",
    "     {\"adaptive_lambda\": 0.1, \"numOfTrials\":3,\"adaptive_alpha\":0.1},\n",
    "     {\"adaptive_lambda\": 0.1, \"numOfTrials\":3,\"adaptive_alpha\":0.9},\n",
    "#     {\"adaptive_smoothing\": False, \"lambda\": 0.1}, ## HGNN constant lambda\n",
    "#     {\"adaptive_smoothing\": False, \"lambda\": 0.01}, ## HGNN constant lambda smaller\n",
    "#     {\"adaptive_alpha\": 0.7, \"adaptive_lambda\": 0.01}, #HGNN adaptive smoothing\n",
    "#     {\"adaptive_alpha\": 0.9, \"adaptive_lambda\": 0.01}, #HGNN more smooth higher alpha\n",
    "   \n",
    "    \n",
    "#     {'downsample': True, 'takeFromIntermediate': True, 'downsampleOutput':400, 'takeFromIntermediateOutput':400, \"fc_layers\": 2 }, #size\n",
    "#     {'downsample': True, 'takeFromIntermediate': True, 'downsampleOutput':200, 'takeFromIntermediateOutput':200, \"fc_layers\": 3 }, #size\n",
    "#     {'downsample': True, 'takeFromIntermediate': True, 'downsampleOutput':400, 'takeFromIntermediateOutput':400, \"fc_layers\": 3 }, #size\n",
    "\n",
    "#     {'downsample': True, 'takeFromIntermediate': True }, #HGNN\n",
    "#     {'downsample': True, 'takeFromIntermediate': False, 'takeFromIntermediateOutput':-1 }, #blackbox\n",
    "#     {'downsample': False, 'takeFromIntermediate': True }, #baseline1\n",
    "#     {'downsample': True, 'takeFromIntermediate': False }, #baseline2\n",
    "#     {'downsample': False, 'takeFromIntermediate': False }, #baseline3\n",
    "#     {'downsample': False, 'takeFromIntermediate': True, 'downsampleOutput':0 }, #DISCO\n",
    "#     {'downsample': False, 'takeFromIntermediate': True, 'downsampleOutput':-1 }, #DSN\n",
    "#     {'downsample': True, 'takeFromIntermediate': True, 'lambda':0 }, #Lambda0\n",
    "\n",
    "\n",
    "]\n",
    "\n",
    "cp.write(params, selected_hyperp_params, \"Select\")\n",
    "\n"
   ]
  },
  {
   "cell_type": "code",
   "execution_count": 4,
   "metadata": {},
   "outputs": [
    {
     "name": "stdout",
     "output_type": "stream",
     "text": [
      "{'image_path': 'Curated3/Hard', 'suffix': 'curated_30_50', 'img_res': 448, 'augmented': True, 'batchSize': 64, 'learning_rate': 0.0001, 'numOfTrials': 3, 'fc_layers': 1, 'modelType': 'HGNN_add', 'lambda': 0.01, 'unsupervisedOnTest': False, 'tl_model': 'ResNet18', 'link_layer': 'avgpool', 'adaptive_smoothing': True, 'adaptive_lambda': 0.1, 'adaptive_alpha': 0.7}\n",
      "models/61f6cf10dd18f11447e28d9adbe2913e06194c2ff036d74b0c14bf1e\n",
      "{'image_path': 'Curated3/Hard', 'suffix': 'curated_30_50', 'img_res': 448, 'augmented': True, 'batchSize': 64, 'learning_rate': 0.0001, 'numOfTrials': 3, 'fc_layers': 1, 'modelType': 'HGNN_add', 'lambda': 0.01, 'unsupervisedOnTest': False, 'tl_model': 'ResNet18', 'link_layer': 'avgpool', 'adaptive_smoothing': True, 'adaptive_lambda': 0.1, 'adaptive_alpha': 0.5}\n",
      "models/0f1d016fe1ed682bb40e30f3cce0d88b85ca26bcb86fb17c1fed5e05\n",
      "{'image_path': 'Curated3/Hard', 'suffix': 'curated_30_50', 'img_res': 448, 'augmented': True, 'batchSize': 64, 'learning_rate': 0.0001, 'numOfTrials': 3, 'fc_layers': 1, 'modelType': 'HGNN_add', 'lambda': 0.01, 'unsupervisedOnTest': False, 'tl_model': 'ResNet18', 'link_layer': 'avgpool', 'adaptive_smoothing': True, 'adaptive_lambda': 0.1, 'adaptive_alpha': 0.1}\n",
      "models/b066202ce70b7faa24757189f18219c133cc188c1746be6015d5a25b\n",
      "{'image_path': 'Curated3/Hard', 'suffix': 'curated_30_50', 'img_res': 448, 'augmented': True, 'batchSize': 64, 'learning_rate': 0.0001, 'numOfTrials': 3, 'fc_layers': 1, 'modelType': 'HGNN_add', 'lambda': 0.01, 'unsupervisedOnTest': False, 'tl_model': 'ResNet18', 'link_layer': 'avgpool', 'adaptive_smoothing': True, 'adaptive_lambda': 0.1, 'adaptive_alpha': 0.9}\n",
      "models/e5a6c83e0444ecc991a868e21f78cfe939eaf5690ba7f4ffdd355e31\n"
     ]
    }
   ],
   "source": [
    "for i in cp.getExperiments():\n",
    "    print(i)\n",
    "    print(getModelName(i))"
   ]
  }
 ],
 "metadata": {
  "kernelspec": {
   "display_name": "Python 3",
   "language": "python",
   "name": "python3"
  },
  "language_info": {
   "codemirror_mode": {
    "name": "ipython",
    "version": 3
   },
   "file_extension": ".py",
   "mimetype": "text/x-python",
   "name": "python",
   "nbconvert_exporter": "python",
   "pygments_lexer": "ipython3",
   "version": "3.6.9"
  }
 },
 "nbformat": 4,
 "nbformat_minor": 2
}
