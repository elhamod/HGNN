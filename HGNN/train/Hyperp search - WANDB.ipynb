{
 "cells": [
  {
   "cell_type": "markdown",
   "metadata": {},
   "source": [
    "Set cuda"
   ]
  },
  {
   "cell_type": "code",
   "execution_count": 1,
   "metadata": {},
   "outputs": [],
   "source": [
    "import torch\n",
    "import os\n",
    "import sys\n",
    "device=7 # No other value works. known bug in Jupyter.\n",
    "\n",
    "if torch.cuda.is_available():\n",
    "    torch.cuda.set_device(device)"
   ]
  },
  {
   "cell_type": "markdown",
   "metadata": {},
   "source": [
    "imports"
   ]
  },
  {
   "cell_type": "code",
   "execution_count": 2,
   "metadata": {},
   "outputs": [
    {
     "name": "stdout",
     "output_type": "stream",
     "text": [
      "env: WANDB_NOTEBOOK_NAME=JUPYTER\n"
     ]
    },
    {
     "name": "stderr",
     "output_type": "stream",
     "text": [
      "\u001b[34m\u001b[1mwandb\u001b[0m: Currently logged in as: \u001b[33mmndhamod\u001b[0m (use `wandb login --relogin` to force relogin)\n"
     ]
    },
    {
     "data": {
      "text/plain": [
       "True"
      ]
     },
     "execution_count": 2,
     "metadata": {},
     "output_type": "execute_result"
    }
   ],
   "source": [
    "%env WANDB_NOTEBOOK_NAME=JUPYTER\n",
    "\n",
    "import wandb\n",
    "import math\n",
    "\n",
    "import os\n",
    "from myhelpers import TrialStatistics\n",
    "from HGNN.train import CNN, dataLoader\n",
    "from HGNN.train.configParser import ConfigParser, getModelName, getDatasetName\n",
    "from tqdm import tqdm\n",
    "from tqdm.auto import trange\n",
    "wandb.login()"
   ]
  },
  {
   "cell_type": "markdown",
   "metadata": {},
   "source": [
    "sweep params"
   ]
  },
  {
   "cell_type": "code",
   "execution_count": 3,
   "metadata": {},
   "outputs": [],
   "source": [
    "# sweep_config = {\n",
    "#     'method': 'random'\n",
    "# }\n",
    "\n",
    "sweep_config = {\n",
    "    'method': 'bayes',\n",
    "    'early_terminate': {\n",
    "       'type': 'hyperband',\n",
    "       'min_iter': 8   \n",
    "    }\n",
    "}\n",
    "metric = {\n",
    "    'name': 'validation_fine_f1',\n",
    "    'goal': 'maximize'   \n",
    "    }\n",
    "sweep_config['metric'] = metric"
   ]
  },
  {
   "cell_type": "code",
   "execution_count": 4,
   "metadata": {},
   "outputs": [],
   "source": [
    "project=\"HGNN_sweep\"\n",
    "params = {\n",
    "    \"image_path\":  {\n",
    "        'value': \"Curated4/Easy_50\"\n",
    "    },\n",
    "    \"suffix\":{\n",
    "        'value': None\n",
    "    },\n",
    "    \n",
    "    # dataset\n",
    "    \"img_res\": {\n",
    "        'value': 448\n",
    "    }, \n",
    "    \"augmented\": {\n",
    "        'value': True\n",
    "    }, \n",
    "\n",
    "    # training\n",
    "    \"batchSize\": {\n",
    "          'values': [16, 32, 64, 128]\n",
    "        }, \n",
    "    \"learning_rate\":{\n",
    "        'distribution': 'log_uniform',\n",
    "        'min': math.log(0.00005),\n",
    "        'max': math.log(0.5),\n",
    "      },\n",
    "    \"numOfTrials\":{\n",
    "        'value': 1\n",
    "    },\n",
    "    \"fc_layers\": {\n",
    "          'values': [1, 2, 3]\n",
    "        },\n",
    "    \"modelType\":{\n",
    "        'value':\"HGNN_add\"\n",
    "    }, #BB DISCO DSN HGNN HGNN_add HGNN_cat\n",
    "    \"lambda\": {\n",
    "        'distribution': 'log_uniform',\n",
    "        'min': math.log(0.005),\n",
    "        'max': math.log(0.5),\n",
    "      },\n",
    "    \"unsupervisedOnTest\": {\n",
    "        'value': False\n",
    "    },\n",
    "    \"tl_model\": {\n",
    "        'value': 'ResNet18'\n",
    "    }, \n",
    "    \"link_layer\":  {\n",
    "        'values': [\"avgpool\",\"layer3\"]\n",
    "    }, \n",
    "    \n",
    "    \"adaptive_smoothing\": {\n",
    "        'values': [True,False]\n",
    "    },\n",
    "    \"adaptive_lambda\": {\n",
    "        'distribution': 'log_uniform',\n",
    "        'min': math.log(0.001),\n",
    "        'max': math.log(0.1),\n",
    "      }, \n",
    "    \"adaptive_alpha\": {\n",
    "        'min': 0.5,\n",
    "        'max': 0.99,\n",
    "      }, \n",
    "    \n",
    "    \"noSpeciesBackprop\":{\n",
    "        'values': [True,False]\n",
    "    },\n",
    "}\n",
    "\n",
    "sweep_config['parameters'] = params"
   ]
  },
  {
   "cell_type": "markdown",
   "metadata": {},
   "source": [
    "train function"
   ]
  },
  {
   "cell_type": "code",
   "execution_count": 5,
   "metadata": {},
   "outputs": [],
   "source": [
    "\n",
    "# python3 HGNN/code/HGNN/HGNN/train/train.py --cuda=6 --name=\"biology_paper_curated4_Medium_backprop_experiment\" -- -- --detailed\n",
    "\n",
    "experimentsPath=\"/raid/elhamod/Fish/experiments/\"\n",
    "dataPath=\"/raid/elhamod/Fish/\"\n",
    "experimentName = project\n",
    "\n",
    "def train(config=None):\n",
    "    run = wandb.init()\n",
    "\n",
    "    try:\n",
    "    experiment_params=wandb.config if config is None else config\n",
    "    experiment_params = dict(experiment_params)\n",
    "    config_parser = ConfigParser(experimentsPath, dataPath, experimentName)\n",
    "    print(experiment_params)\n",
    "    experimentHash =TrialStatistics.getTrialName(experiment_params)\n",
    "\n",
    "    # load images \n",
    "    experimentPathAndName = os.path.join(experimentsPath, experimentName)\n",
    "    datasetManager = dataLoader.datasetManager(experimentPathAndName, dataPath)\n",
    "    datasetManager.updateParams(config_parser.fixPaths(experiment_params))\n",
    "    train_loader, validation_loader, test_loader = datasetManager.getLoaders()\n",
    "    architecture = {\n",
    "        \"fine\": len(train_loader.dataset.csv_processor.getFineList()),\n",
    "        \"coarse\" : len(train_loader.dataset.csv_processor.getCoarseList())\n",
    "    }\n",
    "\n",
    "    # Loop through n trials\n",
    "    for i in trange(experiment_params[\"numOfTrials\"], desc=\"trial\"):\n",
    "        modelName = getModelName(experiment_params, i)\n",
    "        trialName = os.path.join(experimentPathAndName, modelName)\n",
    "        trialHash = TrialStatistics.getTrialName(experiment_params, i)\n",
    "\n",
    "        row_information = {\n",
    "            'experimentName': experimentName,\n",
    "            'modelName': modelName,\n",
    "            'datasetName': getDatasetName(config_parser.fixPaths(experiment_params)),\n",
    "            'experimentHash': experimentHash,\n",
    "            'trialHash': trialHash\n",
    "        }\n",
    "        row_information = {**row_information, **experiment_params} \n",
    "        print(row_information)\n",
    "\n",
    "        \n",
    "        # Train/Load model\n",
    "        model = CNN.create_model(architecture, experiment_params, device=device)\n",
    "\n",
    "        if os.path.exists(CNN.getModelFile(trialName)):\n",
    "            print(\"Model {0} found!\".format(trialName))\n",
    "        else:\n",
    "            CNN.trainModel(train_loader, validation_loader, experiment_params, model, trialName, test_loader, device=device, detailed_reporting=False)\n",
    "\n",
    "        run.finish()\n",
    "    except:\n",
    "        print('terminated! Error:', sys.exc_info()[0])"
   ]
  },
  {
   "cell_type": "markdown",
   "metadata": {},
   "source": [
    "Call sweeper!"
   ]
  },
  {
   "cell_type": "code",
   "execution_count": null,
   "metadata": {},
   "outputs": [],
   "source": [
    "# You can call with your own configs if you want:\n",
    "# train(config={...})"
   ]
  },
  {
   "cell_type": "code",
   "execution_count": null,
   "metadata": {},
   "outputs": [],
   "source": [
    "# Or call the sweeper and let it do the magic!\n",
    "sweep_id = wandb.sweep(sweep_config, project=project)"
   ]
  },
  {
   "cell_type": "code",
   "execution_count": null,
   "metadata": {},
   "outputs": [
    {
     "name": "stderr",
     "output_type": "stream",
     "text": [
      "\u001b[34m\u001b[1mwandb\u001b[0m: Agent Starting Run: qimmtli8 with config:\n",
      "\u001b[34m\u001b[1mwandb\u001b[0m: \tadaptive_alpha: 0.6664130302929847\n",
      "\u001b[34m\u001b[1mwandb\u001b[0m: \tadaptive_lambda: 0.07085604986584583\n",
      "\u001b[34m\u001b[1mwandb\u001b[0m: \tadaptive_smoothing: False\n",
      "\u001b[34m\u001b[1mwandb\u001b[0m: \taugmented: True\n",
      "\u001b[34m\u001b[1mwandb\u001b[0m: \tbatchSize: 16\n",
      "\u001b[34m\u001b[1mwandb\u001b[0m: \tfc_layers: 3\n",
      "\u001b[34m\u001b[1mwandb\u001b[0m: \timage_path: Curated4/Easy_50\n",
      "\u001b[34m\u001b[1mwandb\u001b[0m: \timg_res: 448\n",
      "\u001b[34m\u001b[1mwandb\u001b[0m: \tlambda: 0.007784220820224443\n",
      "\u001b[34m\u001b[1mwandb\u001b[0m: \tlearning_rate: 0.2594347010050439\n",
      "\u001b[34m\u001b[1mwandb\u001b[0m: \tlink_layer: layer3\n",
      "\u001b[34m\u001b[1mwandb\u001b[0m: \tmodelType: HGNN_add\n",
      "\u001b[34m\u001b[1mwandb\u001b[0m: \tnoSpeciesBackprop: False\n",
      "\u001b[34m\u001b[1mwandb\u001b[0m: \tnumOfTrials: 1\n",
      "\u001b[34m\u001b[1mwandb\u001b[0m: \tsuffix: None\n",
      "\u001b[34m\u001b[1mwandb\u001b[0m: \ttl_model: ResNet18\n",
      "\u001b[34m\u001b[1mwandb\u001b[0m: \tunsupervisedOnTest: False\n"
     ]
    },
    {
     "data": {
      "text/html": [
       "\n",
       "                Tracking run with wandb version 0.10.12<br/>\n",
       "                Syncing run <strong style=\"color:#cdcd00\">kind-sweep-1</strong> to <a href=\"https://wandb.ai\" target=\"_blank\">Weights & Biases</a> <a href=\"https://docs.wandb.com/integrations/jupyter.html\" target=\"_blank\">(Documentation)</a>.<br/>\n",
       "                Project page: <a href=\"https://wandb.ai/mndhamod/HGNN_sweep\" target=\"_blank\">https://wandb.ai/mndhamod/HGNN_sweep</a><br/>\n",
       "                Sweep page: <a href=\"https://wandb.ai/mndhamod/HGNN_sweep/sweeps/7uhr6dty\" target=\"_blank\">https://wandb.ai/mndhamod/HGNN_sweep/sweeps/7uhr6dty</a><br/>\n",
       "Run page: <a href=\"https://wandb.ai/mndhamod/HGNN_sweep/runs/qimmtli8\" target=\"_blank\">https://wandb.ai/mndhamod/HGNN_sweep/runs/qimmtli8</a><br/>\n",
       "                Run data is saved locally in <code>/home/elhamod/HGNN/code/HGNN/HGNN/train/wandb/run-20210105_224757-qimmtli8</code><br/><br/>\n",
       "            "
      ],
      "text/plain": [
       "<IPython.core.display.HTML object>"
      ]
     },
     "metadata": {},
     "output_type": "display_data"
    },
    {
     "name": "stdout",
     "output_type": "stream",
     "text": [
      "{'adaptive_alpha': 0.6664130302929847, 'adaptive_lambda': 0.07085604986584583, 'adaptive_smoothing': False, 'augmented': True, 'batchSize': 16, 'fc_layers': 3, 'image_path': 'Curated4/Easy_50', 'img_res': 448, 'lambda': 0.007784220820224443, 'learning_rate': 0.2594347010050439, 'link_layer': 'layer3', 'modelType': 'HGNN_add', 'noSpeciesBackprop': False, 'numOfTrials': 1, 'suffix': None, 'tl_model': 'ResNet18', 'unsupervisedOnTest': False}\n",
      "Creating datasets...\n",
      "Creating datasets... Done.\n",
      "Creating loaders...\n",
      "Creating loaders... Done.\n"
     ]
    },
    {
     "data": {
      "application/vnd.jupyter.widget-view+json": {
       "model_id": "38590643383f4f78b6598c790051bda1",
       "version_major": 2,
       "version_minor": 0
      },
      "text/plain": [
       "HBox(children=(FloatProgress(value=0.0, description='trial', max=1.0, style=ProgressStyle(description_width='i…"
      ]
     },
     "metadata": {},
     "output_type": "display_data"
    },
    {
     "name": "stdout",
     "output_type": "stream",
     "text": [
      "{'experimentName': 'HGNN_sweep', 'modelName': 'models/06d04b31d9229553d1b36fc7d8f71ec15969a0da8cc3d59b7ba673b6', 'datasetName': 'datasplits/7c7513bdfb4e5577fef1c3ec0fa6452d30d87dbc95f258a7c86dd76b', 'experimentHash': '319f39801bac5153b1161d4e740d197c7b8284ec52e7f169ff242f4d', 'trialHash': '06d04b31d9229553d1b36fc7d8f71ec15969a0da8cc3d59b7ba673b6', 'adaptive_alpha': 0.6664130302929847, 'adaptive_lambda': 0.07085604986584583, 'adaptive_smoothing': False, 'augmented': True, 'batchSize': 16, 'fc_layers': 3, 'image_path': 'Curated4/Easy_50', 'img_res': 448, 'lambda': 0.007784220820224443, 'learning_rate': 0.2594347010050439, 'link_layer': 'layer3', 'modelType': 'HGNN_add', 'noSpeciesBackprop': False, 'numOfTrials': 1, 'suffix': None, 'tl_model': 'ResNet18', 'unsupervisedOnTest': False}\n"
     ]
    },
    {
     "name": "stderr",
     "output_type": "stream",
     "text": [
      "\r",
      "iteration:   0%|          | 0/500 [00:00<?, ?it/s]"
     ]
    },
    {
     "name": "stdout",
     "output_type": "stream",
     "text": [
      "Training started...\n"
     ]
    },
    {
     "name": "stderr",
     "output_type": "stream",
     "text": [
      "iteration:   2%|▏         | 12/500 [09:22<6:20:21, 46.76s/it, min_val_loss=708, train=0.00135, val=0.00135, val_loss=3.66]"
     ]
    },
    {
     "name": "stdout",
     "output_type": "stream",
     "text": [
      "Early stopping\n",
      "total number of epochs:  11\n"
     ]
    },
    {
     "name": "stderr",
     "output_type": "stream",
     "text": [
      "iteration:   2%|▏         | 12/500 [09:24<6:22:29, 47.03s/it, min_val_loss=708, train=0.00135, val=0.00135, val_loss=3.66]\n"
     ]
    },
    {
     "data": {
      "text/html": [
       "<br/>Waiting for W&B process to finish, PID 68567<br/>Program ended successfully."
      ],
      "text/plain": [
       "<IPython.core.display.HTML object>"
      ]
     },
     "metadata": {},
     "output_type": "display_data"
    },
    {
     "data": {
      "application/vnd.jupyter.widget-view+json": {
       "model_id": "",
       "version_major": 2,
       "version_minor": 0
      },
      "text/plain": [
       "VBox(children=(Label(value=' 0.00MB of 0.00MB uploaded (0.00MB deduped)\\r'), FloatProgress(value=1.0, max=1.0)…"
      ]
     },
     "metadata": {},
     "output_type": "display_data"
    },
    {
     "data": {
      "text/html": [
       "Find user logs for this run at: <code>/home/elhamod/HGNN/code/HGNN/HGNN/train/wandb/run-20210105_224757-qimmtli8/logs/debug.log</code>"
      ],
      "text/plain": [
       "<IPython.core.display.HTML object>"
      ]
     },
     "metadata": {},
     "output_type": "display_data"
    },
    {
     "data": {
      "text/html": [
       "Find internal logs for this run at: <code>/home/elhamod/HGNN/code/HGNN/HGNN/train/wandb/run-20210105_224757-qimmtli8/logs/debug-internal.log</code>"
      ],
      "text/plain": [
       "<IPython.core.display.HTML object>"
      ]
     },
     "metadata": {},
     "output_type": "display_data"
    },
    {
     "data": {
      "text/html": [
       "<h3>Run summary:</h3><br/><style>\n",
       "    table.wandb td:nth-child(1) { padding: 0 10px; text-align: right }\n",
       "    </style><table class=\"wandb\">\n",
       "<tr><td>loss</td><td>3.6512</td></tr><tr><td>batch</td><td>911</td></tr><tr><td>epoch</td><td>11</td></tr><tr><td>loss_fine</td><td>3.63759</td></tr><tr><td>loss_coarse</td><td>1.74902</td></tr><tr><td>lambda_fine</td><td>1</td></tr><tr><td>lambda_coarse</td><td>0.00778</td></tr><tr><td>_step</td><td>923</td></tr><tr><td>_runtime</td><td>567</td></tr><tr><td>_timestamp</td><td>1609905444</td></tr><tr><td>validation_fine_f1</td><td>0.00135</td></tr><tr><td>training_fine_f1</td><td>0.00135</td></tr><tr><td>validation_loss</td><td>3.65512</td></tr></table>"
      ],
      "text/plain": [
       "<IPython.core.display.HTML object>"
      ]
     },
     "metadata": {},
     "output_type": "display_data"
    },
    {
     "data": {
      "text/html": [
       "<h3>Run history:</h3><br/><style>\n",
       "    table.wandb td:nth-child(1) { padding: 0 10px; text-align: right }\n",
       "    </style><table class=\"wandb\">\n",
       "<tr><td>loss</td><td>█▆▅▅▁▄▄▄▄▄▄▄▄▄▃▄▃▄▄▁▃▄▄▃▄▅▄▄▃▃▃▄▄▄▃▃▄▄▃▃</td></tr><tr><td>batch</td><td>▁▁▁▁▂▂▂▂▂▃▃▃▃▃▃▄▄▄▄▄▅▅▅▅▅▅▆▆▆▆▆▇▇▇▇▇▇███</td></tr><tr><td>epoch</td><td>▁▁▁▁▂▂▂▂▂▂▃▃▃▄▄▄▄▄▄▄▅▅▅▅▅▅▅▆▆▆▇▇▇▇▇▇████</td></tr><tr><td>loss_fine</td><td>█▆▄▅▁▄▄▄▄▄▄▄▄▄▄▄▄▄▄▂▄▄▄▄▄▅▄▄▄▄▄▄▄▄▄▄▄▄▄▄</td></tr><tr><td>loss_coarse</td><td>▃▄▇▆▄▅▅▅▅▄▆▅▅▄▃▄▁█▅▁▃▄▅▁▄▃▃▅▃▃▃▆▇▅▃▂▄▄▃▃</td></tr><tr><td>lambda_fine</td><td>▁▁▁▁▁▁▁▁▁▁▁▁▁▁▁▁▁▁▁▁▁▁▁▁▁▁▁▁▁▁▁▁▁▁▁▁▁▁▁▁</td></tr><tr><td>lambda_coarse</td><td>▁▁▁▁▁▁▁▁▁▁▁▁▁▁▁▁▁▁▁▁▁▁▁▁▁▁▁▁▁▁▁▁▁▁▁▁▁▁▁▁</td></tr><tr><td>_step</td><td>▁▁▁▁▂▂▂▂▂▃▃▃▃▃▃▄▄▄▄▄▅▅▅▅▅▅▆▆▆▆▆▇▇▇▇▇▇███</td></tr><tr><td>_runtime</td><td>▁▁▁▁▂▂▂▂▂▂▃▃▃▃▄▄▄▄▄▄▅▅▅▅▅▆▆▆▆▆▇▇▇▇▇▇████</td></tr><tr><td>_timestamp</td><td>▁▁▁▁▂▂▂▂▂▂▃▃▃▃▄▄▄▄▄▄▅▅▅▅▅▆▆▆▆▆▇▇▇▇▇▇████</td></tr><tr><td>validation_fine_f1</td><td>▁▁▁▁▁▁█▁▁▁▁▁</td></tr><tr><td>training_fine_f1</td><td>█▁▁▁▁▁▄▁▁▁▁▁</td></tr><tr><td>validation_loss</td><td>▁▁▁▁▁█▁▁▁▁▁█</td></tr></table><br/>"
      ],
      "text/plain": [
       "<IPython.core.display.HTML object>"
      ]
     },
     "metadata": {},
     "output_type": "display_data"
    },
    {
     "data": {
      "text/html": [
       "Synced 5 W&B file(s), 0 media file(s), 0 artifact file(s) and 0 other file(s)"
      ],
      "text/plain": [
       "<IPython.core.display.HTML object>"
      ]
     },
     "metadata": {},
     "output_type": "display_data"
    },
    {
     "data": {
      "text/html": [
       "\n",
       "                    <br/>Synced <strong style=\"color:#cdcd00\">kind-sweep-1</strong>: <a href=\"https://wandb.ai/mndhamod/HGNN_sweep/runs/qimmtli8\" target=\"_blank\">https://wandb.ai/mndhamod/HGNN_sweep/runs/qimmtli8</a><br/>\n",
       "                "
      ],
      "text/plain": [
       "<IPython.core.display.HTML object>"
      ]
     },
     "metadata": {},
     "output_type": "display_data"
    },
    {
     "name": "stdout",
     "output_type": "stream",
     "text": [
      "\n"
     ]
    },
    {
     "name": "stderr",
     "output_type": "stream",
     "text": [
      "\u001b[34m\u001b[1mwandb\u001b[0m: Agent Starting Run: 0blqv98g with config:\n",
      "\u001b[34m\u001b[1mwandb\u001b[0m: \tadaptive_alpha: 0.8038373845870075\n",
      "\u001b[34m\u001b[1mwandb\u001b[0m: \tadaptive_lambda: 0.0065114114157197485\n",
      "\u001b[34m\u001b[1mwandb\u001b[0m: \tadaptive_smoothing: False\n",
      "\u001b[34m\u001b[1mwandb\u001b[0m: \taugmented: True\n",
      "\u001b[34m\u001b[1mwandb\u001b[0m: \tbatchSize: 32\n",
      "\u001b[34m\u001b[1mwandb\u001b[0m: \tfc_layers: 2\n",
      "\u001b[34m\u001b[1mwandb\u001b[0m: \timage_path: Curated4/Easy_50\n",
      "\u001b[34m\u001b[1mwandb\u001b[0m: \timg_res: 448\n",
      "\u001b[34m\u001b[1mwandb\u001b[0m: \tlambda: 0.006646814019056224\n",
      "\u001b[34m\u001b[1mwandb\u001b[0m: \tlearning_rate: 0.1703710602057691\n",
      "\u001b[34m\u001b[1mwandb\u001b[0m: \tlink_layer: avgpool\n",
      "\u001b[34m\u001b[1mwandb\u001b[0m: \tmodelType: HGNN_add\n",
      "\u001b[34m\u001b[1mwandb\u001b[0m: \tnoSpeciesBackprop: True\n",
      "\u001b[34m\u001b[1mwandb\u001b[0m: \tnumOfTrials: 1\n",
      "\u001b[34m\u001b[1mwandb\u001b[0m: \tsuffix: None\n",
      "\u001b[34m\u001b[1mwandb\u001b[0m: \ttl_model: ResNet18\n",
      "\u001b[34m\u001b[1mwandb\u001b[0m: \tunsupervisedOnTest: False\n"
     ]
    },
    {
     "data": {
      "text/html": [
       "\n",
       "                Tracking run with wandb version 0.10.12<br/>\n",
       "                Syncing run <strong style=\"color:#cdcd00\">sleek-sweep-2</strong> to <a href=\"https://wandb.ai\" target=\"_blank\">Weights & Biases</a> <a href=\"https://docs.wandb.com/integrations/jupyter.html\" target=\"_blank\">(Documentation)</a>.<br/>\n",
       "                Project page: <a href=\"https://wandb.ai/mndhamod/HGNN_sweep\" target=\"_blank\">https://wandb.ai/mndhamod/HGNN_sweep</a><br/>\n",
       "                Sweep page: <a href=\"https://wandb.ai/mndhamod/HGNN_sweep/sweeps/7uhr6dty\" target=\"_blank\">https://wandb.ai/mndhamod/HGNN_sweep/sweeps/7uhr6dty</a><br/>\n",
       "Run page: <a href=\"https://wandb.ai/mndhamod/HGNN_sweep/runs/0blqv98g\" target=\"_blank\">https://wandb.ai/mndhamod/HGNN_sweep/runs/0blqv98g</a><br/>\n",
       "                Run data is saved locally in <code>/home/elhamod/HGNN/code/HGNN/HGNN/train/wandb/run-20210105_225730-0blqv98g</code><br/><br/>\n",
       "            "
      ],
      "text/plain": [
       "<IPython.core.display.HTML object>"
      ]
     },
     "metadata": {},
     "output_type": "display_data"
    },
    {
     "name": "stdout",
     "output_type": "stream",
     "text": [
      "{'adaptive_alpha': 0.8038373845870075, 'adaptive_lambda': 0.0065114114157197485, 'adaptive_smoothing': False, 'augmented': True, 'batchSize': 32, 'fc_layers': 2, 'image_path': 'Curated4/Easy_50', 'img_res': 448, 'lambda': 0.006646814019056224, 'learning_rate': 0.1703710602057691, 'link_layer': 'avgpool', 'modelType': 'HGNN_add', 'noSpeciesBackprop': True, 'numOfTrials': 1, 'suffix': None, 'tl_model': 'ResNet18', 'unsupervisedOnTest': False}\n",
      "Creating datasets...\n",
      "Creating datasets... Done.\n",
      "Creating loaders...\n",
      "Creating loaders... Done.\n"
     ]
    },
    {
     "data": {
      "application/vnd.jupyter.widget-view+json": {
       "model_id": "596313a68b804e4a8d3f6bd8dd640f24",
       "version_major": 2,
       "version_minor": 0
      },
      "text/plain": [
       "HBox(children=(FloatProgress(value=0.0, description='trial', max=1.0, style=ProgressStyle(description_width='i…"
      ]
     },
     "metadata": {},
     "output_type": "display_data"
    },
    {
     "name": "stdout",
     "output_type": "stream",
     "text": [
      "{'experimentName': 'HGNN_sweep', 'modelName': 'models/ca212e8374f39206886b46572914de7e5d2a6b10189c7880f25ca00e', 'datasetName': 'datasplits/7c7513bdfb4e5577fef1c3ec0fa6452d30d87dbc95f258a7c86dd76b', 'experimentHash': '11a70169c44907f3d16979b612d876176442ef26cd3be600e72c094a', 'trialHash': 'ca212e8374f39206886b46572914de7e5d2a6b10189c7880f25ca00e', 'adaptive_alpha': 0.8038373845870075, 'adaptive_lambda': 0.0065114114157197485, 'adaptive_smoothing': False, 'augmented': True, 'batchSize': 32, 'fc_layers': 2, 'image_path': 'Curated4/Easy_50', 'img_res': 448, 'lambda': 0.006646814019056224, 'learning_rate': 0.1703710602057691, 'link_layer': 'avgpool', 'modelType': 'HGNN_add', 'noSpeciesBackprop': True, 'numOfTrials': 1, 'suffix': None, 'tl_model': 'ResNet18', 'unsupervisedOnTest': False}\n"
     ]
    },
    {
     "name": "stderr",
     "output_type": "stream",
     "text": [
      "\r",
      "iteration:   0%|          | 0/500 [00:00<?, ?it/s]"
     ]
    },
    {
     "name": "stdout",
     "output_type": "stream",
     "text": [
      "Training started...\n"
     ]
    },
    {
     "name": "stderr",
     "output_type": "stream",
     "text": [
      "iteration:   2%|▏         | 10/500 [08:24<6:45:35, 49.66s/it, min_val_loss=734, train=0.00135, val=0.00135, val_loss=3.64]"
     ]
    },
    {
     "name": "stdout",
     "output_type": "stream",
     "text": [
      "Early stopping\n",
      "total number of epochs:  9\n"
     ]
    },
    {
     "name": "stderr",
     "output_type": "stream",
     "text": [
      "iteration:   2%|▏         | 10/500 [08:26<6:53:35, 50.64s/it, min_val_loss=734, train=0.00135, val=0.00135, val_loss=3.64]\n"
     ]
    },
    {
     "data": {
      "text/html": [
       "<br/>Waiting for W&B process to finish, PID 72099<br/>Program ended successfully."
      ],
      "text/plain": [
       "<IPython.core.display.HTML object>"
      ]
     },
     "metadata": {},
     "output_type": "display_data"
    },
    {
     "data": {
      "application/vnd.jupyter.widget-view+json": {
       "model_id": "",
       "version_major": 2,
       "version_minor": 0
      },
      "text/plain": [
       "VBox(children=(Label(value=' 0.00MB of 0.00MB uploaded (0.00MB deduped)\\r'), FloatProgress(value=1.0, max=1.0)…"
      ]
     },
     "metadata": {},
     "output_type": "display_data"
    },
    {
     "data": {
      "text/html": [
       "Find user logs for this run at: <code>/home/elhamod/HGNN/code/HGNN/HGNN/train/wandb/run-20210105_225730-0blqv98g/logs/debug.log</code>"
      ],
      "text/plain": [
       "<IPython.core.display.HTML object>"
      ]
     },
     "metadata": {},
     "output_type": "display_data"
    },
    {
     "data": {
      "text/html": [
       "Find internal logs for this run at: <code>/home/elhamod/HGNN/code/HGNN/HGNN/train/wandb/run-20210105_225730-0blqv98g/logs/debug-internal.log</code>"
      ],
      "text/plain": [
       "<IPython.core.display.HTML object>"
      ]
     },
     "metadata": {},
     "output_type": "display_data"
    },
    {
     "data": {
      "text/html": [
       "<h3>Run summary:</h3><br/><style>\n",
       "    table.wandb td:nth-child(1) { padding: 0 10px; text-align: right }\n",
       "    </style><table class=\"wandb\">\n",
       "<tr><td>loss</td><td>3.64942</td></tr><tr><td>batch</td><td>379</td></tr><tr><td>epoch</td><td>9</td></tr><tr><td>loss_fine</td><td>3.63759</td></tr><tr><td>loss_coarse</td><td>1.77982</td></tr><tr><td>lambda_fine</td><td>1</td></tr><tr><td>lambda_coarse</td><td>0.00665</td></tr><tr><td>_step</td><td>389</td></tr><tr><td>_runtime</td><td>506</td></tr><tr><td>_timestamp</td><td>1609905956</td></tr><tr><td>validation_fine_f1</td><td>0.00135</td></tr><tr><td>training_fine_f1</td><td>0.00135</td></tr><tr><td>validation_loss</td><td>3.63759</td></tr></table>"
      ],
      "text/plain": [
       "<IPython.core.display.HTML object>"
      ]
     },
     "metadata": {},
     "output_type": "display_data"
    },
    {
     "data": {
      "text/html": [
       "<h3>Run history:</h3><br/><style>\n",
       "    table.wandb td:nth-child(1) { padding: 0 10px; text-align: right }\n",
       "    </style><table class=\"wandb\">\n",
       "<tr><td>loss</td><td>█▃▁▁▁▁▁▁▁▁▁▁▁▁▁▂▁▁▁▁▁▁▁▁▁▁▁▁▁▁▁▁▁▁▁▁▁▁▁▁</td></tr><tr><td>batch</td><td>▁▁▁▂▂▂▂▂▂▃▃▃▃▃▃▄▄▄▄▄▅▅▅▅▅▅▆▆▆▆▆▇▇▇▇▇▇███</td></tr><tr><td>epoch</td><td>▁▁▁▁▂▂▂▂▃▃▃▃▃▃▃▃▄▄▄▄▅▅▅▅▆▆▆▆▆▆▆▆▇▇▇▇████</td></tr><tr><td>loss_fine</td><td>█▃▁▁▁▁▁▁▁▁▁▁▁▁▁▁▁▁▁▁▁▁▁▁▁▁▁▁▁▁▁▁▁▁▁▁▁▁▁▁</td></tr><tr><td>loss_coarse</td><td>█▄▃▂▄▄▃▇▄▂▁▆▃▇▃█▅▅▄▆▅▄▃▃▂▂▆▅▆▄▄▆▃▂▂▅▅▆▅▄</td></tr><tr><td>lambda_fine</td><td>▁▁▁▁▁▁▁▁▁▁▁▁▁▁▁▁▁▁▁▁▁▁▁▁▁▁▁▁▁▁▁▁▁▁▁▁▁▁▁▁</td></tr><tr><td>lambda_coarse</td><td>▁▁▁▁▁▁▁▁▁▁▁▁▁▁▁▁▁▁▁▁▁▁▁▁▁▁▁▁▁▁▁▁▁▁▁▁▁▁▁▁</td></tr><tr><td>_step</td><td>▁▁▁▂▂▂▂▂▂▃▃▃▃▃▃▄▄▄▄▄▅▅▅▅▅▅▆▆▆▆▆▇▇▇▇▇▇███</td></tr><tr><td>_runtime</td><td>▁▁▁▁▂▂▂▂▃▃▃▃▃▃▃▃▄▄▄▄▅▅▅▅▆▆▆▆▆▆▆▇▇▇▇▇████</td></tr><tr><td>_timestamp</td><td>▁▁▁▁▂▂▂▂▃▃▃▃▃▃▃▃▄▄▄▄▅▅▅▅▆▆▆▆▆▆▆▇▇▇▇▇████</td></tr><tr><td>validation_fine_f1</td><td>▁▁▁▁█▁▁▁▁▁</td></tr><tr><td>training_fine_f1</td><td>▁▁▁▁█▁▁▁▁▁</td></tr><tr><td>validation_loss</td><td>▁▁▁▁▁▃███▁</td></tr></table><br/>"
      ],
      "text/plain": [
       "<IPython.core.display.HTML object>"
      ]
     },
     "metadata": {},
     "output_type": "display_data"
    },
    {
     "data": {
      "text/html": [
       "Synced 5 W&B file(s), 0 media file(s), 0 artifact file(s) and 0 other file(s)"
      ],
      "text/plain": [
       "<IPython.core.display.HTML object>"
      ]
     },
     "metadata": {},
     "output_type": "display_data"
    },
    {
     "data": {
      "text/html": [
       "\n",
       "                    <br/>Synced <strong style=\"color:#cdcd00\">sleek-sweep-2</strong>: <a href=\"https://wandb.ai/mndhamod/HGNN_sweep/runs/0blqv98g\" target=\"_blank\">https://wandb.ai/mndhamod/HGNN_sweep/runs/0blqv98g</a><br/>\n",
       "                "
      ],
      "text/plain": [
       "<IPython.core.display.HTML object>"
      ]
     },
     "metadata": {},
     "output_type": "display_data"
    },
    {
     "name": "stdout",
     "output_type": "stream",
     "text": [
      "\n"
     ]
    },
    {
     "name": "stderr",
     "output_type": "stream",
     "text": [
      "\u001b[34m\u001b[1mwandb\u001b[0m: Agent Starting Run: vkkb4qdo with config:\n",
      "\u001b[34m\u001b[1mwandb\u001b[0m: \tadaptive_alpha: 0.8356838580678947\n",
      "\u001b[34m\u001b[1mwandb\u001b[0m: \tadaptive_lambda: 0.008064629035457458\n",
      "\u001b[34m\u001b[1mwandb\u001b[0m: \tadaptive_smoothing: True\n",
      "\u001b[34m\u001b[1mwandb\u001b[0m: \taugmented: True\n",
      "\u001b[34m\u001b[1mwandb\u001b[0m: \tbatchSize: 128\n",
      "\u001b[34m\u001b[1mwandb\u001b[0m: \tfc_layers: 1\n",
      "\u001b[34m\u001b[1mwandb\u001b[0m: \timage_path: Curated4/Easy_50\n",
      "\u001b[34m\u001b[1mwandb\u001b[0m: \timg_res: 448\n",
      "\u001b[34m\u001b[1mwandb\u001b[0m: \tlambda: 0.18519825477395221\n",
      "\u001b[34m\u001b[1mwandb\u001b[0m: \tlearning_rate: 0.0014594272952270129\n",
      "\u001b[34m\u001b[1mwandb\u001b[0m: \tlink_layer: avgpool\n",
      "\u001b[34m\u001b[1mwandb\u001b[0m: \tmodelType: HGNN_add\n",
      "\u001b[34m\u001b[1mwandb\u001b[0m: \tnoSpeciesBackprop: True\n",
      "\u001b[34m\u001b[1mwandb\u001b[0m: \tnumOfTrials: 1\n",
      "\u001b[34m\u001b[1mwandb\u001b[0m: \tsuffix: None\n",
      "\u001b[34m\u001b[1mwandb\u001b[0m: \ttl_model: ResNet18\n",
      "\u001b[34m\u001b[1mwandb\u001b[0m: \tunsupervisedOnTest: False\n"
     ]
    },
    {
     "data": {
      "text/html": [
       "\n",
       "                Tracking run with wandb version 0.10.12<br/>\n",
       "                Syncing run <strong style=\"color:#cdcd00\">drawn-sweep-3</strong> to <a href=\"https://wandb.ai\" target=\"_blank\">Weights & Biases</a> <a href=\"https://docs.wandb.com/integrations/jupyter.html\" target=\"_blank\">(Documentation)</a>.<br/>\n",
       "                Project page: <a href=\"https://wandb.ai/mndhamod/HGNN_sweep\" target=\"_blank\">https://wandb.ai/mndhamod/HGNN_sweep</a><br/>\n",
       "                Sweep page: <a href=\"https://wandb.ai/mndhamod/HGNN_sweep/sweeps/7uhr6dty\" target=\"_blank\">https://wandb.ai/mndhamod/HGNN_sweep/sweeps/7uhr6dty</a><br/>\n",
       "Run page: <a href=\"https://wandb.ai/mndhamod/HGNN_sweep/runs/vkkb4qdo\" target=\"_blank\">https://wandb.ai/mndhamod/HGNN_sweep/runs/vkkb4qdo</a><br/>\n",
       "                Run data is saved locally in <code>/home/elhamod/HGNN/code/HGNN/HGNN/train/wandb/run-20210105_230605-vkkb4qdo</code><br/><br/>\n",
       "            "
      ],
      "text/plain": [
       "<IPython.core.display.HTML object>"
      ]
     },
     "metadata": {},
     "output_type": "display_data"
    },
    {
     "name": "stdout",
     "output_type": "stream",
     "text": [
      "{'adaptive_alpha': 0.8356838580678947, 'adaptive_lambda': 0.008064629035457458, 'adaptive_smoothing': True, 'augmented': True, 'batchSize': 128, 'fc_layers': 1, 'image_path': 'Curated4/Easy_50', 'img_res': 448, 'lambda': 0.18519825477395221, 'learning_rate': 0.0014594272952270129, 'link_layer': 'avgpool', 'modelType': 'HGNN_add', 'noSpeciesBackprop': True, 'numOfTrials': 1, 'suffix': None, 'tl_model': 'ResNet18', 'unsupervisedOnTest': False}\n",
      "Creating datasets...\n",
      "Creating datasets... Done.\n",
      "Creating loaders...\n",
      "Creating loaders... Done.\n"
     ]
    },
    {
     "data": {
      "application/vnd.jupyter.widget-view+json": {
       "model_id": "e145deb06fd845dd8e1f91917e5843d2",
       "version_major": 2,
       "version_minor": 0
      },
      "text/plain": [
       "HBox(children=(FloatProgress(value=0.0, description='trial', max=1.0, style=ProgressStyle(description_width='i…"
      ]
     },
     "metadata": {},
     "output_type": "display_data"
    },
    {
     "name": "stdout",
     "output_type": "stream",
     "text": [
      "{'experimentName': 'HGNN_sweep', 'modelName': 'models/f28b04574aa532e9d4fbf2fe93c3ae2a0e74a5b8f4ee044fefb6dc7d', 'datasetName': 'datasplits/7c7513bdfb4e5577fef1c3ec0fa6452d30d87dbc95f258a7c86dd76b', 'experimentHash': '76734eb1c58c4fe423f6530b657fb6e53a0c61b28d465ea707211a55', 'trialHash': 'f28b04574aa532e9d4fbf2fe93c3ae2a0e74a5b8f4ee044fefb6dc7d', 'adaptive_alpha': 0.8356838580678947, 'adaptive_lambda': 0.008064629035457458, 'adaptive_smoothing': True, 'augmented': True, 'batchSize': 128, 'fc_layers': 1, 'image_path': 'Curated4/Easy_50', 'img_res': 448, 'lambda': 0.18519825477395221, 'learning_rate': 0.0014594272952270129, 'link_layer': 'avgpool', 'modelType': 'HGNN_add', 'noSpeciesBackprop': True, 'numOfTrials': 1, 'suffix': None, 'tl_model': 'ResNet18', 'unsupervisedOnTest': False}\n"
     ]
    },
    {
     "name": "stderr",
     "output_type": "stream",
     "text": [
      "\r",
      "iteration:   0%|          | 0/500 [00:00<?, ?it/s]"
     ]
    },
    {
     "name": "stdout",
     "output_type": "stream",
     "text": [
      "Training started...\n"
     ]
    },
    {
     "name": "stderr",
     "output_type": "stream",
     "text": [
      "iteration:   4%|▍         | 22/500 [29:59<10:44:27, 80.89s/it, min_val_loss=1.46, train=0.776, val=0.537, val_loss=3.33]"
     ]
    },
    {
     "name": "stdout",
     "output_type": "stream",
     "text": [
      "Early stopping\n",
      "total number of epochs:  21\n"
     ]
    },
    {
     "name": "stderr",
     "output_type": "stream",
     "text": [
      "iteration:   4%|▍         | 22/500 [30:01<10:52:28, 81.90s/it, min_val_loss=1.46, train=0.776, val=0.537, val_loss=3.33]\n"
     ]
    },
    {
     "data": {
      "text/html": [
       "<br/>Waiting for W&B process to finish, PID 2396<br/>Program ended successfully."
      ],
      "text/plain": [
       "<IPython.core.display.HTML object>"
      ]
     },
     "metadata": {},
     "output_type": "display_data"
    },
    {
     "data": {
      "application/vnd.jupyter.widget-view+json": {
       "model_id": "",
       "version_major": 2,
       "version_minor": 0
      },
      "text/plain": [
       "VBox(children=(Label(value=' 0.00MB of 0.00MB uploaded (0.00MB deduped)\\r'), FloatProgress(value=1.0, max=1.0)…"
      ]
     },
     "metadata": {},
     "output_type": "display_data"
    },
    {
     "data": {
      "text/html": [
       "Find user logs for this run at: <code>/home/elhamod/HGNN/code/HGNN/HGNN/train/wandb/run-20210105_230605-vkkb4qdo/logs/debug.log</code>"
      ],
      "text/plain": [
       "<IPython.core.display.HTML object>"
      ]
     },
     "metadata": {},
     "output_type": "display_data"
    },
    {
     "data": {
      "text/html": [
       "Find internal logs for this run at: <code>/home/elhamod/HGNN/code/HGNN/HGNN/train/wandb/run-20210105_230605-vkkb4qdo/logs/debug-internal.log</code>"
      ],
      "text/plain": [
       "<IPython.core.display.HTML object>"
      ]
     },
     "metadata": {},
     "output_type": "display_data"
    },
    {
     "data": {
      "text/html": [
       "<h3>Run summary:</h3><br/><style>\n",
       "    table.wandb td:nth-child(1) { padding: 0 10px; text-align: right }\n",
       "    </style><table class=\"wandb\">\n",
       "<tr><td>loss</td><td>0.45438</td></tr><tr><td>batch</td><td>219</td></tr><tr><td>epoch</td><td>21</td></tr><tr><td>loss_fine</td><td>0.44482</td></tr><tr><td>loss_coarse</td><td>0.65807</td></tr><tr><td>lambda_fine</td><td>0.95517</td></tr><tr><td>lambda_coarse</td><td>0.04483</td></tr><tr><td>_step</td><td>241</td></tr><tr><td>_runtime</td><td>1802</td></tr><tr><td>_timestamp</td><td>1609907767</td></tr><tr><td>validation_fine_f1</td><td>0.53749</td></tr><tr><td>training_fine_f1</td><td>0.77578</td></tr><tr><td>validation_loss</td><td>3.3333</td></tr></table>"
      ],
      "text/plain": [
       "<IPython.core.display.HTML object>"
      ]
     },
     "metadata": {},
     "output_type": "display_data"
    },
    {
     "data": {
      "text/html": [
       "<h3>Run history:</h3><br/><style>\n",
       "    table.wandb td:nth-child(1) { padding: 0 10px; text-align: right }\n",
       "    </style><table class=\"wandb\">\n",
       "<tr><td>loss</td><td>█▆▅▄▃▃▂▃▂▂▂▂▁▁▂▁▂▁▁▁▁▁▁▁▁▁▁▁▁▁▁▁▁▁▁▁▁▁▁▁</td></tr><tr><td>batch</td><td>▁▁▁▂▂▂▂▂▂▃▃▃▃▃▄▄▄▄▄▄▅▅▅▅▅▅▆▆▆▆▆▇▇▇▇▇▇███</td></tr><tr><td>epoch</td><td>▁▁▁▁▂▂▂▂▂▃▃▃▃▃▃▄▄▄▄▄▅▅▅▅▅▅▆▆▆▆▆▇▇▇▇▇████</td></tr><tr><td>loss_fine</td><td>█▆▅▄▃▃▂▃▂▂▂▂▁▁▂▁▂▁▁▁▁▁▁▁▁▁▁▁▁▁▁▁▁▁▁▁▁▁▁▁</td></tr><tr><td>loss_coarse</td><td>█▅▄▄▃▄▃▂▂▂▂▂▂▂▂▃▂▂▂▂▃▂▂▂▂▂▂▂▂▁▂▂▃▂▁▂▁▁▁▂</td></tr><tr><td>lambda_fine</td><td>█▂▁▃▂▅▄▂▄▄▅▄▅▅▄▆▃▆▅▅▇▃▅▅▄▃▄▅▄▃▄▄▆▄▃▄▃▁▂▃</td></tr><tr><td>lambda_coarse</td><td>▁▇█▆▇▄▅▇▅▅▄▅▄▄▅▃▆▃▄▄▂▆▄▄▅▆▅▄▅▆▅▅▃▅▆▅▆█▇▆</td></tr><tr><td>_step</td><td>▁▁▁▂▂▂▂▂▂▃▃▃▃▃▄▄▄▄▄▄▅▅▅▅▅▅▆▆▆▆▆▇▇▇▇▇▇███</td></tr><tr><td>_runtime</td><td>▁▁▁▁▂▂▂▂▂▃▃▃▃▃▄▄▄▄▄▄▅▅▅▅▅▅▆▆▆▆▆▇▇▇▇▇▇▇██</td></tr><tr><td>_timestamp</td><td>▁▁▁▁▂▂▂▂▂▃▃▃▃▃▄▄▄▄▄▄▅▅▅▅▅▅▆▆▆▆▆▇▇▇▇▇▇▇██</td></tr><tr><td>validation_fine_f1</td><td>▁▂▅▆▆▅▇█▇▇██▆▇▇▇█▇▇▄▅▆</td></tr><tr><td>training_fine_f1</td><td>▁▂▅▆▆▆▇██▇██▆█▇████▅▆▇</td></tr><tr><td>validation_loss</td><td>█▇▄▅▅▅▃▂▂▄▁▄▃▃▃▂▁▃▂▅▃▃</td></tr></table><br/>"
      ],
      "text/plain": [
       "<IPython.core.display.HTML object>"
      ]
     },
     "metadata": {},
     "output_type": "display_data"
    },
    {
     "data": {
      "text/html": [
       "Synced 5 W&B file(s), 0 media file(s), 0 artifact file(s) and 0 other file(s)"
      ],
      "text/plain": [
       "<IPython.core.display.HTML object>"
      ]
     },
     "metadata": {},
     "output_type": "display_data"
    },
    {
     "data": {
      "text/html": [
       "\n",
       "                    <br/>Synced <strong style=\"color:#cdcd00\">drawn-sweep-3</strong>: <a href=\"https://wandb.ai/mndhamod/HGNN_sweep/runs/vkkb4qdo\" target=\"_blank\">https://wandb.ai/mndhamod/HGNN_sweep/runs/vkkb4qdo</a><br/>\n",
       "                "
      ],
      "text/plain": [
       "<IPython.core.display.HTML object>"
      ]
     },
     "metadata": {},
     "output_type": "display_data"
    },
    {
     "name": "stdout",
     "output_type": "stream",
     "text": [
      "\n"
     ]
    },
    {
     "name": "stderr",
     "output_type": "stream",
     "text": [
      "\u001b[34m\u001b[1mwandb\u001b[0m: Agent Starting Run: rt0lrni7 with config:\n",
      "\u001b[34m\u001b[1mwandb\u001b[0m: \tadaptive_alpha: 0.8405249178584627\n",
      "\u001b[34m\u001b[1mwandb\u001b[0m: \tadaptive_lambda: 0.00648055548643065\n",
      "\u001b[34m\u001b[1mwandb\u001b[0m: \tadaptive_smoothing: False\n",
      "\u001b[34m\u001b[1mwandb\u001b[0m: \taugmented: True\n",
      "\u001b[34m\u001b[1mwandb\u001b[0m: \tbatchSize: 128\n",
      "\u001b[34m\u001b[1mwandb\u001b[0m: \tfc_layers: 1\n",
      "\u001b[34m\u001b[1mwandb\u001b[0m: \timage_path: Curated4/Easy_50\n",
      "\u001b[34m\u001b[1mwandb\u001b[0m: \timg_res: 448\n",
      "\u001b[34m\u001b[1mwandb\u001b[0m: \tlambda: 0.3446782446209432\n",
      "\u001b[34m\u001b[1mwandb\u001b[0m: \tlearning_rate: 0.0058410674206235925\n",
      "\u001b[34m\u001b[1mwandb\u001b[0m: \tlink_layer: avgpool\n",
      "\u001b[34m\u001b[1mwandb\u001b[0m: \tmodelType: HGNN_add\n",
      "\u001b[34m\u001b[1mwandb\u001b[0m: \tnoSpeciesBackprop: False\n",
      "\u001b[34m\u001b[1mwandb\u001b[0m: \tnumOfTrials: 1\n",
      "\u001b[34m\u001b[1mwandb\u001b[0m: \tsuffix: None\n",
      "\u001b[34m\u001b[1mwandb\u001b[0m: \ttl_model: ResNet18\n",
      "\u001b[34m\u001b[1mwandb\u001b[0m: \tunsupervisedOnTest: False\n"
     ]
    },
    {
     "data": {
      "text/html": [
       "\n",
       "                Tracking run with wandb version 0.10.12<br/>\n",
       "                Syncing run <strong style=\"color:#cdcd00\">denim-sweep-4</strong> to <a href=\"https://wandb.ai\" target=\"_blank\">Weights & Biases</a> <a href=\"https://docs.wandb.com/integrations/jupyter.html\" target=\"_blank\">(Documentation)</a>.<br/>\n",
       "                Project page: <a href=\"https://wandb.ai/mndhamod/HGNN_sweep\" target=\"_blank\">https://wandb.ai/mndhamod/HGNN_sweep</a><br/>\n",
       "                Sweep page: <a href=\"https://wandb.ai/mndhamod/HGNN_sweep/sweeps/7uhr6dty\" target=\"_blank\">https://wandb.ai/mndhamod/HGNN_sweep/sweeps/7uhr6dty</a><br/>\n",
       "Run page: <a href=\"https://wandb.ai/mndhamod/HGNN_sweep/runs/rt0lrni7\" target=\"_blank\">https://wandb.ai/mndhamod/HGNN_sweep/runs/rt0lrni7</a><br/>\n",
       "                Run data is saved locally in <code>/home/elhamod/HGNN/code/HGNN/HGNN/train/wandb/run-20210105_233614-rt0lrni7</code><br/><br/>\n",
       "            "
      ],
      "text/plain": [
       "<IPython.core.display.HTML object>"
      ]
     },
     "metadata": {},
     "output_type": "display_data"
    },
    {
     "name": "stdout",
     "output_type": "stream",
     "text": [
      "{'adaptive_alpha': 0.8405249178584627, 'adaptive_lambda': 0.00648055548643065, 'adaptive_smoothing': False, 'augmented': True, 'batchSize': 128, 'fc_layers': 1, 'image_path': 'Curated4/Easy_50', 'img_res': 448, 'lambda': 0.3446782446209432, 'learning_rate': 0.0058410674206235925, 'link_layer': 'avgpool', 'modelType': 'HGNN_add', 'noSpeciesBackprop': False, 'numOfTrials': 1, 'suffix': None, 'tl_model': 'ResNet18', 'unsupervisedOnTest': False}\n",
      "Creating datasets...\n",
      "Creating datasets... Done.\n",
      "Creating loaders...\n",
      "Creating loaders... Done.\n"
     ]
    },
    {
     "data": {
      "application/vnd.jupyter.widget-view+json": {
       "model_id": "9f00ac52ef0740e9a5c76c06edcc0a90",
       "version_major": 2,
       "version_minor": 0
      },
      "text/plain": [
       "HBox(children=(FloatProgress(value=0.0, description='trial', max=1.0, style=ProgressStyle(description_width='i…"
      ]
     },
     "metadata": {},
     "output_type": "display_data"
    },
    {
     "name": "stdout",
     "output_type": "stream",
     "text": [
      "{'experimentName': 'HGNN_sweep', 'modelName': 'models/5b71113c25cae3268eb9f68c71fee7c8c6fdfc0581dbf100de6c4a2a', 'datasetName': 'datasplits/7c7513bdfb4e5577fef1c3ec0fa6452d30d87dbc95f258a7c86dd76b', 'experimentHash': 'd4fb087e5a58b8edaa56ee74c2d5f9a0535450d23c25f6fe6832045f', 'trialHash': '5b71113c25cae3268eb9f68c71fee7c8c6fdfc0581dbf100de6c4a2a', 'adaptive_alpha': 0.8405249178584627, 'adaptive_lambda': 0.00648055548643065, 'adaptive_smoothing': False, 'augmented': True, 'batchSize': 128, 'fc_layers': 1, 'image_path': 'Curated4/Easy_50', 'img_res': 448, 'lambda': 0.3446782446209432, 'learning_rate': 0.0058410674206235925, 'link_layer': 'avgpool', 'modelType': 'HGNN_add', 'noSpeciesBackprop': False, 'numOfTrials': 1, 'suffix': None, 'tl_model': 'ResNet18', 'unsupervisedOnTest': False}\n"
     ]
    },
    {
     "name": "stderr",
     "output_type": "stream",
     "text": [
      "\r",
      "iteration:   0%|          | 0/500 [00:00<?, ?it/s]"
     ]
    },
    {
     "name": "stdout",
     "output_type": "stream",
     "text": [
      "Training started...\n"
     ]
    },
    {
     "name": "stderr",
     "output_type": "stream",
     "text": [
      "iteration:   2%|▏         | 11/500 [15:05<11:07:50, 81.94s/it, min_val_loss=4.09, train=0.167, val=0.137, val_loss=3.51]  "
     ]
    },
    {
     "name": "stdout",
     "output_type": "stream",
     "text": [
      "Early stopping\n",
      "total number of epochs:  10\n"
     ]
    },
    {
     "name": "stderr",
     "output_type": "stream",
     "text": [
      "iteration:   2%|▏         | 11/500 [15:07<11:12:39, 82.53s/it, min_val_loss=4.09, train=0.167, val=0.137, val_loss=3.51]\n"
     ]
    },
    {
     "data": {
      "text/html": [
       "<br/>Waiting for W&B process to finish, PID 11023<br/>Program ended successfully."
      ],
      "text/plain": [
       "<IPython.core.display.HTML object>"
      ]
     },
     "metadata": {},
     "output_type": "display_data"
    },
    {
     "data": {
      "application/vnd.jupyter.widget-view+json": {
       "model_id": "",
       "version_major": 2,
       "version_minor": 0
      },
      "text/plain": [
       "VBox(children=(Label(value=' 0.00MB of 0.00MB uploaded (0.00MB deduped)\\r'), FloatProgress(value=1.0, max=1.0)…"
      ]
     },
     "metadata": {},
     "output_type": "display_data"
    },
    {
     "data": {
      "text/html": [
       "Find user logs for this run at: <code>/home/elhamod/HGNN/code/HGNN/HGNN/train/wandb/run-20210105_233614-rt0lrni7/logs/debug.log</code>"
      ],
      "text/plain": [
       "<IPython.core.display.HTML object>"
      ]
     },
     "metadata": {},
     "output_type": "display_data"
    },
    {
     "data": {
      "text/html": [
       "Find internal logs for this run at: <code>/home/elhamod/HGNN/code/HGNN/HGNN/train/wandb/run-20210105_233614-rt0lrni7/logs/debug-internal.log</code>"
      ],
      "text/plain": [
       "<IPython.core.display.HTML object>"
      ]
     },
     "metadata": {},
     "output_type": "display_data"
    },
    {
     "data": {
      "text/html": [
       "<h3>Run summary:</h3><br/><style>\n",
       "    table.wandb td:nth-child(1) { padding: 0 10px; text-align: right }\n",
       "    </style><table class=\"wandb\">\n",
       "<tr><td>loss</td><td>1.81332</td></tr><tr><td>batch</td><td>109</td></tr><tr><td>epoch</td><td>10</td></tr><tr><td>loss_fine</td><td>1.58184</td></tr><tr><td>loss_coarse</td><td>0.6716</td></tr><tr><td>lambda_fine</td><td>1</td></tr><tr><td>lambda_coarse</td><td>0.34468</td></tr><tr><td>_step</td><td>120</td></tr><tr><td>_runtime</td><td>907</td></tr><tr><td>_timestamp</td><td>1609908681</td></tr><tr><td>validation_fine_f1</td><td>0.13692</td></tr><tr><td>training_fine_f1</td><td>0.16702</td></tr><tr><td>validation_loss</td><td>3.51008</td></tr></table>"
      ],
      "text/plain": [
       "<IPython.core.display.HTML object>"
      ]
     },
     "metadata": {},
     "output_type": "display_data"
    },
    {
     "data": {
      "text/html": [
       "<h3>Run history:</h3><br/><style>\n",
       "    table.wandb td:nth-child(1) { padding: 0 10px; text-align: right }\n",
       "    </style><table class=\"wandb\">\n",
       "<tr><td>loss</td><td>█▇▆▆▅▅▅▄▄▄▄▄▄▄▄▃▃▃▃▃▃▃▂▂▃▃▂▂▂▂▂▂▂▂▂▂▁▁▁▂</td></tr><tr><td>batch</td><td>▁▁▁▂▂▂▂▂▂▃▃▃▃▃▄▄▄▄▄▄▅▅▅▅▅▅▆▆▆▆▆▇▇▇▇▇▇███</td></tr><tr><td>epoch</td><td>▁▁▁▁▂▂▂▂▂▂▂▃▃▃▃▄▄▄▅▅▅▅▅▅▅▅▆▆▆▇▇▇▇▇▇▇████</td></tr><tr><td>loss_fine</td><td>█▇▆▆▅▅▅▄▄▄▄▄▄▄▄▃▄▃▃▃▃▃▃▂▃▃▃▂▂▂▂▂▂▂▂▂▁▁▁▃</td></tr><tr><td>loss_coarse</td><td>█▇▆▅▄▄▄▄▄▃▃▃▃▃▃▃▃▂▂▂▂▂▂▂▂▂▂▁▂▁▁▂▂▁▂▁▁▁▁▂</td></tr><tr><td>lambda_fine</td><td>▁▁▁▁▁▁▁▁▁▁▁▁▁▁▁▁▁▁▁▁▁▁▁▁▁▁▁▁▁▁▁▁▁▁▁▁▁▁▁▁</td></tr><tr><td>lambda_coarse</td><td>▁▁▁▁▁▁▁▁▁▁▁▁▁▁▁▁▁▁▁▁▁▁▁▁▁▁▁▁▁▁▁▁▁▁▁▁▁▁▁▁</td></tr><tr><td>_step</td><td>▁▁▁▂▂▂▂▂▂▃▃▃▃▃▄▄▄▄▄▄▅▅▅▅▅▅▆▆▆▆▆▇▇▇▇▇▇███</td></tr><tr><td>_runtime</td><td>▁▁▁▁▂▂▂▂▂▂▂▃▃▃▄▄▄▄▄▄▄▄▅▅▅▅▆▆▆▆▆▆▇▇▇▇▇███</td></tr><tr><td>_timestamp</td><td>▁▁▁▁▂▂▂▂▂▂▂▃▃▃▄▄▄▄▄▄▄▄▅▅▅▅▆▆▆▆▆▆▇▇▇▇▇███</td></tr><tr><td>validation_fine_f1</td><td>▁▁▂▃▄█▄▇▆▅▅</td></tr><tr><td>training_fine_f1</td><td>▁▁▁▃▄█▄█▇▆▅</td></tr><tr><td>validation_loss</td><td>█▇▇▅▄▁▄▂▂▂▂</td></tr></table><br/>"
      ],
      "text/plain": [
       "<IPython.core.display.HTML object>"
      ]
     },
     "metadata": {},
     "output_type": "display_data"
    },
    {
     "data": {
      "text/html": [
       "Synced 5 W&B file(s), 0 media file(s), 0 artifact file(s) and 0 other file(s)"
      ],
      "text/plain": [
       "<IPython.core.display.HTML object>"
      ]
     },
     "metadata": {},
     "output_type": "display_data"
    },
    {
     "data": {
      "text/html": [
       "\n",
       "                    <br/>Synced <strong style=\"color:#cdcd00\">denim-sweep-4</strong>: <a href=\"https://wandb.ai/mndhamod/HGNN_sweep/runs/rt0lrni7\" target=\"_blank\">https://wandb.ai/mndhamod/HGNN_sweep/runs/rt0lrni7</a><br/>\n",
       "                "
      ],
      "text/plain": [
       "<IPython.core.display.HTML object>"
      ]
     },
     "metadata": {},
     "output_type": "display_data"
    },
    {
     "name": "stdout",
     "output_type": "stream",
     "text": [
      "\n"
     ]
    },
    {
     "name": "stderr",
     "output_type": "stream",
     "text": [
      "\u001b[34m\u001b[1mwandb\u001b[0m: Agent Starting Run: 1wzjte7l with config:\n",
      "\u001b[34m\u001b[1mwandb\u001b[0m: \tadaptive_alpha: 0.8727306700906703\n",
      "\u001b[34m\u001b[1mwandb\u001b[0m: \tadaptive_lambda: 0.05574854627680151\n",
      "\u001b[34m\u001b[1mwandb\u001b[0m: \tadaptive_smoothing: False\n",
      "\u001b[34m\u001b[1mwandb\u001b[0m: \taugmented: True\n",
      "\u001b[34m\u001b[1mwandb\u001b[0m: \tbatchSize: 32\n",
      "\u001b[34m\u001b[1mwandb\u001b[0m: \tfc_layers: 1\n",
      "\u001b[34m\u001b[1mwandb\u001b[0m: \timage_path: Curated4/Easy_50\n",
      "\u001b[34m\u001b[1mwandb\u001b[0m: \timg_res: 448\n",
      "\u001b[34m\u001b[1mwandb\u001b[0m: \tlambda: 0.008526733842504386\n",
      "\u001b[34m\u001b[1mwandb\u001b[0m: \tlearning_rate: 0.0001367730429975885\n",
      "\u001b[34m\u001b[1mwandb\u001b[0m: \tlink_layer: avgpool\n",
      "\u001b[34m\u001b[1mwandb\u001b[0m: \tmodelType: HGNN_add\n",
      "\u001b[34m\u001b[1mwandb\u001b[0m: \tnoSpeciesBackprop: True\n",
      "\u001b[34m\u001b[1mwandb\u001b[0m: \tnumOfTrials: 1\n",
      "\u001b[34m\u001b[1mwandb\u001b[0m: \tsuffix: None\n",
      "\u001b[34m\u001b[1mwandb\u001b[0m: \ttl_model: ResNet18\n",
      "\u001b[34m\u001b[1mwandb\u001b[0m: \tunsupervisedOnTest: False\n"
     ]
    },
    {
     "data": {
      "text/html": [
       "\n",
       "                Tracking run with wandb version 0.10.12<br/>\n",
       "                Syncing run <strong style=\"color:#cdcd00\">solar-sweep-5</strong> to <a href=\"https://wandb.ai\" target=\"_blank\">Weights & Biases</a> <a href=\"https://docs.wandb.com/integrations/jupyter.html\" target=\"_blank\">(Documentation)</a>.<br/>\n",
       "                Project page: <a href=\"https://wandb.ai/mndhamod/HGNN_sweep\" target=\"_blank\">https://wandb.ai/mndhamod/HGNN_sweep</a><br/>\n",
       "                Sweep page: <a href=\"https://wandb.ai/mndhamod/HGNN_sweep/sweeps/7uhr6dty\" target=\"_blank\">https://wandb.ai/mndhamod/HGNN_sweep/sweeps/7uhr6dty</a><br/>\n",
       "Run page: <a href=\"https://wandb.ai/mndhamod/HGNN_sweep/runs/1wzjte7l\" target=\"_blank\">https://wandb.ai/mndhamod/HGNN_sweep/runs/1wzjte7l</a><br/>\n",
       "                Run data is saved locally in <code>/home/elhamod/HGNN/code/HGNN/HGNN/train/wandb/run-20210105_235130-1wzjte7l</code><br/><br/>\n",
       "            "
      ],
      "text/plain": [
       "<IPython.core.display.HTML object>"
      ]
     },
     "metadata": {},
     "output_type": "display_data"
    },
    {
     "name": "stdout",
     "output_type": "stream",
     "text": [
      "{'adaptive_alpha': 0.8727306700906703, 'adaptive_lambda': 0.05574854627680151, 'adaptive_smoothing': False, 'augmented': True, 'batchSize': 32, 'fc_layers': 1, 'image_path': 'Curated4/Easy_50', 'img_res': 448, 'lambda': 0.008526733842504386, 'learning_rate': 0.0001367730429975885, 'link_layer': 'avgpool', 'modelType': 'HGNN_add', 'noSpeciesBackprop': True, 'numOfTrials': 1, 'suffix': None, 'tl_model': 'ResNet18', 'unsupervisedOnTest': False}\n",
      "Creating datasets...\n",
      "Creating datasets... Done.\n",
      "Creating loaders...\n",
      "Creating loaders... Done.\n"
     ]
    },
    {
     "data": {
      "application/vnd.jupyter.widget-view+json": {
       "model_id": "eb6bc14e76784546a1813f77d4ec0063",
       "version_major": 2,
       "version_minor": 0
      },
      "text/plain": [
       "HBox(children=(FloatProgress(value=0.0, description='trial', max=1.0, style=ProgressStyle(description_width='i…"
      ]
     },
     "metadata": {},
     "output_type": "display_data"
    },
    {
     "name": "stdout",
     "output_type": "stream",
     "text": [
      "{'experimentName': 'HGNN_sweep', 'modelName': 'models/72ced5e4179aea99bb27e6302c6d3e244d9e1fb4681729f43a807bf0', 'datasetName': 'datasplits/7c7513bdfb4e5577fef1c3ec0fa6452d30d87dbc95f258a7c86dd76b', 'experimentHash': '6e9e0da2948a2f920527c0c5a74308e9606cc129c1c00125efb9cf24', 'trialHash': '72ced5e4179aea99bb27e6302c6d3e244d9e1fb4681729f43a807bf0', 'adaptive_alpha': 0.8727306700906703, 'adaptive_lambda': 0.05574854627680151, 'adaptive_smoothing': False, 'augmented': True, 'batchSize': 32, 'fc_layers': 1, 'image_path': 'Curated4/Easy_50', 'img_res': 448, 'lambda': 0.008526733842504386, 'learning_rate': 0.0001367730429975885, 'link_layer': 'avgpool', 'modelType': 'HGNN_add', 'noSpeciesBackprop': True, 'numOfTrials': 1, 'suffix': None, 'tl_model': 'ResNet18', 'unsupervisedOnTest': False}\n"
     ]
    },
    {
     "name": "stderr",
     "output_type": "stream",
     "text": [
      "\r",
      "iteration:   0%|          | 0/500 [00:00<?, ?it/s]"
     ]
    },
    {
     "name": "stdout",
     "output_type": "stream",
     "text": [
      "Training started...\n"
     ]
    },
    {
     "name": "stderr",
     "output_type": "stream",
     "text": [
      "iteration:   4%|▍         | 21/500 [17:38<6:38:05, 49.87s/it, min_val_loss=1.2, train=0.963, val=0.836, val_loss=3.17] "
     ]
    },
    {
     "name": "stdout",
     "output_type": "stream",
     "text": [
      "Early stopping\n",
      "total number of epochs:  20\n"
     ]
    },
    {
     "name": "stderr",
     "output_type": "stream",
     "text": [
      "iteration:   4%|▍         | 21/500 [17:40<6:43:05, 50.49s/it, min_val_loss=1.2, train=0.963, val=0.836, val_loss=3.17]\n"
     ]
    },
    {
     "data": {
      "text/html": [
       "<br/>Waiting for W&B process to finish, PID 15221<br/>Program ended successfully."
      ],
      "text/plain": [
       "<IPython.core.display.HTML object>"
      ]
     },
     "metadata": {},
     "output_type": "display_data"
    },
    {
     "data": {
      "application/vnd.jupyter.widget-view+json": {
       "model_id": "",
       "version_major": 2,
       "version_minor": 0
      },
      "text/plain": [
       "VBox(children=(Label(value=' 0.00MB of 0.00MB uploaded (0.00MB deduped)\\r'), FloatProgress(value=1.0, max=1.0)…"
      ]
     },
     "metadata": {},
     "output_type": "display_data"
    },
    {
     "data": {
      "text/html": [
       "Find user logs for this run at: <code>/home/elhamod/HGNN/code/HGNN/HGNN/train/wandb/run-20210105_235130-1wzjte7l/logs/debug.log</code>"
      ],
      "text/plain": [
       "<IPython.core.display.HTML object>"
      ]
     },
     "metadata": {},
     "output_type": "display_data"
    },
    {
     "data": {
      "text/html": [
       "Find internal logs for this run at: <code>/home/elhamod/HGNN/code/HGNN/HGNN/train/wandb/run-20210105_235130-1wzjte7l/logs/debug-internal.log</code>"
      ],
      "text/plain": [
       "<IPython.core.display.HTML object>"
      ]
     },
     "metadata": {},
     "output_type": "display_data"
    },
    {
     "data": {
      "text/html": [
       "<h3>Run summary:</h3><br/><style>\n",
       "    table.wandb td:nth-child(1) { padding: 0 10px; text-align: right }\n",
       "    </style><table class=\"wandb\">\n",
       "<tr><td>loss</td><td>0.61311</td></tr><tr><td>batch</td><td>797</td></tr><tr><td>epoch</td><td>20</td></tr><tr><td>loss_fine</td><td>0.60513</td></tr><tr><td>loss_coarse</td><td>0.93651</td></tr><tr><td>lambda_fine</td><td>1</td></tr><tr><td>lambda_coarse</td><td>0.00853</td></tr><tr><td>_step</td><td>818</td></tr><tr><td>_runtime</td><td>1061</td></tr><tr><td>_timestamp</td><td>1609909751</td></tr><tr><td>validation_fine_f1</td><td>0.83578</td></tr><tr><td>training_fine_f1</td><td>0.96265</td></tr><tr><td>validation_loss</td><td>3.16608</td></tr></table>"
      ],
      "text/plain": [
       "<IPython.core.display.HTML object>"
      ]
     },
     "metadata": {},
     "output_type": "display_data"
    },
    {
     "data": {
      "text/html": [
       "<h3>Run history:</h3><br/><style>\n",
       "    table.wandb td:nth-child(1) { padding: 0 10px; text-align: right }\n",
       "    </style><table class=\"wandb\">\n",
       "<tr><td>loss</td><td>█▇▅▅▃▃▃▃▂▂▂▂▂▂▁▂▁▂▂▂▁▂▂▂▁▂▂▂▂▂▁▂▂▂▂▂▁▂▁▁</td></tr><tr><td>batch</td><td>▁▁▁▁▂▂▂▂▂▃▃▃▃▃▃▄▄▄▄▄▅▅▅▅▅▅▆▆▆▆▆▇▇▇▇▇▇███</td></tr><tr><td>epoch</td><td>▁▁▁▁▂▂▂▂▂▂▃▃▃▃▃▃▄▄▄▅▅▅▅▅▅▆▆▆▆▆▆▇▇▇▇▇████</td></tr><tr><td>loss_fine</td><td>█▇▅▅▃▃▃▃▂▂▂▂▂▂▁▂▁▂▂▂▁▂▂▂▁▂▂▂▂▂▁▂▂▂▂▂▁▂▁▁</td></tr><tr><td>loss_coarse</td><td>█▇▅▅▄▃▄▂▃▄▅▃▂▆▄▂▅▄▄▁▄▂▃▃▂▃▃▃▄▁▂▄▄▅▄▂▄▅▂▂</td></tr><tr><td>lambda_fine</td><td>▁▁▁▁▁▁▁▁▁▁▁▁▁▁▁▁▁▁▁▁▁▁▁▁▁▁▁▁▁▁▁▁▁▁▁▁▁▁▁▁</td></tr><tr><td>lambda_coarse</td><td>▁▁▁▁▁▁▁▁▁▁▁▁▁▁▁▁▁▁▁▁▁▁▁▁▁▁▁▁▁▁▁▁▁▁▁▁▁▁▁▁</td></tr><tr><td>_step</td><td>▁▁▁▁▂▂▂▂▂▃▃▃▃▃▃▄▄▄▄▄▅▅▅▅▅▅▆▆▆▆▆▇▇▇▇▇▇███</td></tr><tr><td>_runtime</td><td>▁▁▁▁▂▂▂▂▂▂▃▃▃▃▃▄▄▄▄▅▅▅▅▅▅▆▆▆▆▆▇▇▇▇▇▇████</td></tr><tr><td>_timestamp</td><td>▁▁▁▁▂▂▂▂▂▂▃▃▃▃▃▄▄▄▄▅▅▅▅▅▅▆▆▆▆▆▇▇▇▇▇▇████</td></tr><tr><td>validation_fine_f1</td><td>▁▄▇▇▇▇█▇▇████▇▇█▇▇███</td></tr><tr><td>training_fine_f1</td><td>▁▅▇██████████████████</td></tr><tr><td>validation_loss</td><td>█▆▅▃▃▂▂▂▂▂▁▂▂▂▁▂▂▃▁▂▁</td></tr></table><br/>"
      ],
      "text/plain": [
       "<IPython.core.display.HTML object>"
      ]
     },
     "metadata": {},
     "output_type": "display_data"
    },
    {
     "data": {
      "text/html": [
       "Synced 5 W&B file(s), 0 media file(s), 0 artifact file(s) and 0 other file(s)"
      ],
      "text/plain": [
       "<IPython.core.display.HTML object>"
      ]
     },
     "metadata": {},
     "output_type": "display_data"
    },
    {
     "data": {
      "text/html": [
       "\n",
       "                    <br/>Synced <strong style=\"color:#cdcd00\">solar-sweep-5</strong>: <a href=\"https://wandb.ai/mndhamod/HGNN_sweep/runs/1wzjte7l\" target=\"_blank\">https://wandb.ai/mndhamod/HGNN_sweep/runs/1wzjte7l</a><br/>\n",
       "                "
      ],
      "text/plain": [
       "<IPython.core.display.HTML object>"
      ]
     },
     "metadata": {},
     "output_type": "display_data"
    },
    {
     "name": "stdout",
     "output_type": "stream",
     "text": [
      "\n"
     ]
    },
    {
     "name": "stderr",
     "output_type": "stream",
     "text": [
      "\u001b[34m\u001b[1mwandb\u001b[0m: Agent Starting Run: 6uxfme9a with config:\n",
      "\u001b[34m\u001b[1mwandb\u001b[0m: \tadaptive_alpha: 0.5428590545234406\n",
      "\u001b[34m\u001b[1mwandb\u001b[0m: \tadaptive_lambda: 0.014110056148042335\n",
      "\u001b[34m\u001b[1mwandb\u001b[0m: \tadaptive_smoothing: False\n",
      "\u001b[34m\u001b[1mwandb\u001b[0m: \taugmented: True\n",
      "\u001b[34m\u001b[1mwandb\u001b[0m: \tbatchSize: 16\n",
      "\u001b[34m\u001b[1mwandb\u001b[0m: \tfc_layers: 3\n",
      "\u001b[34m\u001b[1mwandb\u001b[0m: \timage_path: Curated4/Easy_50\n",
      "\u001b[34m\u001b[1mwandb\u001b[0m: \timg_res: 448\n",
      "\u001b[34m\u001b[1mwandb\u001b[0m: \tlambda: 0.00986184345326691\n",
      "\u001b[34m\u001b[1mwandb\u001b[0m: \tlearning_rate: 6.809003275067958e-05\n",
      "\u001b[34m\u001b[1mwandb\u001b[0m: \tlink_layer: avgpool\n",
      "\u001b[34m\u001b[1mwandb\u001b[0m: \tmodelType: HGNN_add\n",
      "\u001b[34m\u001b[1mwandb\u001b[0m: \tnoSpeciesBackprop: False\n",
      "\u001b[34m\u001b[1mwandb\u001b[0m: \tnumOfTrials: 1\n",
      "\u001b[34m\u001b[1mwandb\u001b[0m: \tsuffix: None\n",
      "\u001b[34m\u001b[1mwandb\u001b[0m: \ttl_model: ResNet18\n",
      "\u001b[34m\u001b[1mwandb\u001b[0m: \tunsupervisedOnTest: False\n"
     ]
    },
    {
     "data": {
      "text/html": [
       "\n",
       "                Tracking run with wandb version 0.10.12<br/>\n",
       "                Syncing run <strong style=\"color:#cdcd00\">eager-sweep-6</strong> to <a href=\"https://wandb.ai\" target=\"_blank\">Weights & Biases</a> <a href=\"https://docs.wandb.com/integrations/jupyter.html\" target=\"_blank\">(Documentation)</a>.<br/>\n",
       "                Project page: <a href=\"https://wandb.ai/mndhamod/HGNN_sweep\" target=\"_blank\">https://wandb.ai/mndhamod/HGNN_sweep</a><br/>\n",
       "                Sweep page: <a href=\"https://wandb.ai/mndhamod/HGNN_sweep/sweeps/7uhr6dty\" target=\"_blank\">https://wandb.ai/mndhamod/HGNN_sweep/sweeps/7uhr6dty</a><br/>\n",
       "Run page: <a href=\"https://wandb.ai/mndhamod/HGNN_sweep/runs/6uxfme9a\" target=\"_blank\">https://wandb.ai/mndhamod/HGNN_sweep/runs/6uxfme9a</a><br/>\n",
       "                Run data is saved locally in <code>/home/elhamod/HGNN/code/HGNN/HGNN/train/wandb/run-20210106_000918-6uxfme9a</code><br/><br/>\n",
       "            "
      ],
      "text/plain": [
       "<IPython.core.display.HTML object>"
      ]
     },
     "metadata": {},
     "output_type": "display_data"
    },
    {
     "name": "stdout",
     "output_type": "stream",
     "text": [
      "{'adaptive_alpha': 0.5428590545234406, 'adaptive_lambda': 0.014110056148042335, 'adaptive_smoothing': False, 'augmented': True, 'batchSize': 16, 'fc_layers': 3, 'image_path': 'Curated4/Easy_50', 'img_res': 448, 'lambda': 0.00986184345326691, 'learning_rate': 6.809003275067958e-05, 'link_layer': 'avgpool', 'modelType': 'HGNN_add', 'noSpeciesBackprop': False, 'numOfTrials': 1, 'suffix': None, 'tl_model': 'ResNet18', 'unsupervisedOnTest': False}\n",
      "Creating datasets...\n",
      "Creating datasets... Done.\n",
      "Creating loaders...\n",
      "Creating loaders... Done.\n"
     ]
    },
    {
     "data": {
      "application/vnd.jupyter.widget-view+json": {
       "model_id": "70ee78939e4d4d89ac913509fa3a631d",
       "version_major": 2,
       "version_minor": 0
      },
      "text/plain": [
       "HBox(children=(FloatProgress(value=0.0, description='trial', max=1.0, style=ProgressStyle(description_width='i…"
      ]
     },
     "metadata": {},
     "output_type": "display_data"
    },
    {
     "name": "stdout",
     "output_type": "stream",
     "text": [
      "{'experimentName': 'HGNN_sweep', 'modelName': 'models/2066764413ac33eb14380c06117843bddfc374694a34e039662caf00', 'datasetName': 'datasplits/7c7513bdfb4e5577fef1c3ec0fa6452d30d87dbc95f258a7c86dd76b', 'experimentHash': 'f75e12bc8de93793caad539842fe74b2031531387d8e252807b0d26c', 'trialHash': '2066764413ac33eb14380c06117843bddfc374694a34e039662caf00', 'adaptive_alpha': 0.5428590545234406, 'adaptive_lambda': 0.014110056148042335, 'adaptive_smoothing': False, 'augmented': True, 'batchSize': 16, 'fc_layers': 3, 'image_path': 'Curated4/Easy_50', 'img_res': 448, 'lambda': 0.00986184345326691, 'learning_rate': 6.809003275067958e-05, 'link_layer': 'avgpool', 'modelType': 'HGNN_add', 'noSpeciesBackprop': False, 'numOfTrials': 1, 'suffix': None, 'tl_model': 'ResNet18', 'unsupervisedOnTest': False}\n"
     ]
    },
    {
     "name": "stderr",
     "output_type": "stream",
     "text": [
      "\r",
      "iteration:   0%|          | 0/500 [00:00<?, ?it/s]"
     ]
    },
    {
     "name": "stdout",
     "output_type": "stream",
     "text": [
      "Training started...\n"
     ]
    },
    {
     "name": "stderr",
     "output_type": "stream",
     "text": [
      "iteration:   4%|▍         | 21/500 [16:14<6:01:09, 45.24s/it, min_val_loss=1.19, train=1, val=0.838, val_loss=3.15]    "
     ]
    },
    {
     "name": "stdout",
     "output_type": "stream",
     "text": [
      "Early stopping\n",
      "total number of epochs:  20\n"
     ]
    },
    {
     "name": "stderr",
     "output_type": "stream",
     "text": [
      "iteration:   4%|▍         | 21/500 [16:16<6:11:17, 46.51s/it, min_val_loss=1.19, train=1, val=0.838, val_loss=3.15]\n"
     ]
    },
    {
     "data": {
      "text/html": [
       "<br/>Waiting for W&B process to finish, PID 21921<br/>Program ended successfully."
      ],
      "text/plain": [
       "<IPython.core.display.HTML object>"
      ]
     },
     "metadata": {},
     "output_type": "display_data"
    },
    {
     "data": {
      "application/vnd.jupyter.widget-view+json": {
       "model_id": "",
       "version_major": 2,
       "version_minor": 0
      },
      "text/plain": [
       "VBox(children=(Label(value=' 0.00MB of 0.00MB uploaded (0.00MB deduped)\\r'), FloatProgress(value=1.0, max=1.0)…"
      ]
     },
     "metadata": {},
     "output_type": "display_data"
    },
    {
     "data": {
      "text/html": [
       "Find user logs for this run at: <code>/home/elhamod/HGNN/code/HGNN/HGNN/train/wandb/run-20210106_000918-6uxfme9a/logs/debug.log</code>"
      ],
      "text/plain": [
       "<IPython.core.display.HTML object>"
      ]
     },
     "metadata": {},
     "output_type": "display_data"
    },
    {
     "data": {
      "text/html": [
       "Find internal logs for this run at: <code>/home/elhamod/HGNN/code/HGNN/HGNN/train/wandb/run-20210106_000918-6uxfme9a/logs/debug-internal.log</code>"
      ],
      "text/plain": [
       "<IPython.core.display.HTML object>"
      ]
     },
     "metadata": {},
     "output_type": "display_data"
    },
    {
     "data": {
      "text/html": [
       "<h3>Run summary:</h3><br/><style>\n",
       "    table.wandb td:nth-child(1) { padding: 0 10px; text-align: right }\n",
       "    </style><table class=\"wandb\">\n",
       "<tr><td>loss</td><td>1.25608</td></tr><tr><td>batch</td><td>1595</td></tr><tr><td>epoch</td><td>20</td></tr><tr><td>loss_fine</td><td>1.24476</td></tr><tr><td>loss_coarse</td><td>1.14754</td></tr><tr><td>lambda_fine</td><td>1</td></tr><tr><td>lambda_coarse</td><td>0.00986</td></tr><tr><td>_step</td><td>1616</td></tr><tr><td>_runtime</td><td>977</td></tr><tr><td>_timestamp</td><td>1609910735</td></tr><tr><td>validation_fine_f1</td><td>0.8382</td></tr><tr><td>training_fine_f1</td><td>1.0</td></tr><tr><td>validation_loss</td><td>3.1541</td></tr></table>"
      ],
      "text/plain": [
       "<IPython.core.display.HTML object>"
      ]
     },
     "metadata": {},
     "output_type": "display_data"
    },
    {
     "data": {
      "text/html": [
       "<h3>Run history:</h3><br/><style>\n",
       "    table.wandb td:nth-child(1) { padding: 0 10px; text-align: right }\n",
       "    </style><table class=\"wandb\">\n",
       "<tr><td>loss</td><td>█▆▄▄▃▄▃▃▂▂▂▂▃▂▃▂▂▁▂▂▂▂▁▃▁▂▁▂▁▂▁▂▁▂▃▁▂▂▂▁</td></tr><tr><td>batch</td><td>▁▁▁▁▂▂▂▂▂▃▃▃▃▃▃▄▄▄▄▄▅▅▅▅▅▅▆▆▆▆▆▇▇▇▇▇▇███</td></tr><tr><td>epoch</td><td>▁▁▁▁▂▂▂▂▂▂▃▃▃▃▃▄▄▄▄▅▅▅▅▅▅▆▆▆▆▆▆▇▇▇▇▇████</td></tr><tr><td>loss_fine</td><td>█▆▄▄▃▄▃▃▂▂▂▂▃▂▃▂▂▁▂▂▂▂▁▃▁▂▁▂▁▂▁▂▁▂▃▁▂▂▂▁</td></tr><tr><td>loss_coarse</td><td>█▇▆▄▆▄▄▅▃▃▄▄▂▃▃▄▃▂▃▄▃▃▄▄▃▃▁▅▄▅▃▃▃▃▄▃▃▂▃▂</td></tr><tr><td>lambda_fine</td><td>▁▁▁▁▁▁▁▁▁▁▁▁▁▁▁▁▁▁▁▁▁▁▁▁▁▁▁▁▁▁▁▁▁▁▁▁▁▁▁▁</td></tr><tr><td>lambda_coarse</td><td>▁▁▁▁▁▁▁▁▁▁▁▁▁▁▁▁▁▁▁▁▁▁▁▁▁▁▁▁▁▁▁▁▁▁▁▁▁▁▁▁</td></tr><tr><td>_step</td><td>▁▁▁▁▂▂▂▂▂▃▃▃▃▃▃▄▄▄▄▄▅▅▅▅▅▅▆▆▆▆▆▇▇▇▇▇▇███</td></tr><tr><td>_runtime</td><td>▁▁▁▁▂▂▂▂▂▂▃▃▃▃▃▄▄▄▄▅▅▅▅▅▅▆▆▆▆▆▇▇▇▇▇▇████</td></tr><tr><td>_timestamp</td><td>▁▁▁▁▂▂▂▂▂▂▃▃▃▃▃▄▄▄▄▅▅▅▅▅▅▆▆▆▆▆▇▇▇▇▇▇████</td></tr><tr><td>validation_fine_f1</td><td>▁▄▆▇▇▇▇▇▇████▇███████</td></tr><tr><td>training_fine_f1</td><td>▁▅▆▇█████████████████</td></tr><tr><td>validation_loss</td><td>█▆▅▄▃▃▃▂▂▂▁▁▁▁▁▁▁▁▁▁▁</td></tr></table><br/>"
      ],
      "text/plain": [
       "<IPython.core.display.HTML object>"
      ]
     },
     "metadata": {},
     "output_type": "display_data"
    },
    {
     "data": {
      "text/html": [
       "Synced 5 W&B file(s), 0 media file(s), 0 artifact file(s) and 0 other file(s)"
      ],
      "text/plain": [
       "<IPython.core.display.HTML object>"
      ]
     },
     "metadata": {},
     "output_type": "display_data"
    },
    {
     "data": {
      "text/html": [
       "\n",
       "                    <br/>Synced <strong style=\"color:#cdcd00\">eager-sweep-6</strong>: <a href=\"https://wandb.ai/mndhamod/HGNN_sweep/runs/6uxfme9a\" target=\"_blank\">https://wandb.ai/mndhamod/HGNN_sweep/runs/6uxfme9a</a><br/>\n",
       "                "
      ],
      "text/plain": [
       "<IPython.core.display.HTML object>"
      ]
     },
     "metadata": {},
     "output_type": "display_data"
    },
    {
     "name": "stdout",
     "output_type": "stream",
     "text": [
      "\n"
     ]
    },
    {
     "name": "stderr",
     "output_type": "stream",
     "text": [
      "\u001b[34m\u001b[1mwandb\u001b[0m: Agent Starting Run: qri7xdgh with config:\n",
      "\u001b[34m\u001b[1mwandb\u001b[0m: \tadaptive_alpha: 0.7431133487414325\n",
      "\u001b[34m\u001b[1mwandb\u001b[0m: \tadaptive_lambda: 0.047638035305640446\n",
      "\u001b[34m\u001b[1mwandb\u001b[0m: \tadaptive_smoothing: True\n",
      "\u001b[34m\u001b[1mwandb\u001b[0m: \taugmented: True\n",
      "\u001b[34m\u001b[1mwandb\u001b[0m: \tbatchSize: 16\n",
      "\u001b[34m\u001b[1mwandb\u001b[0m: \tfc_layers: 1\n",
      "\u001b[34m\u001b[1mwandb\u001b[0m: \timage_path: Curated4/Easy_50\n",
      "\u001b[34m\u001b[1mwandb\u001b[0m: \timg_res: 448\n",
      "\u001b[34m\u001b[1mwandb\u001b[0m: \tlambda: 0.12989797334910888\n",
      "\u001b[34m\u001b[1mwandb\u001b[0m: \tlearning_rate: 0.0003801854335748774\n",
      "\u001b[34m\u001b[1mwandb\u001b[0m: \tlink_layer: avgpool\n",
      "\u001b[34m\u001b[1mwandb\u001b[0m: \tmodelType: HGNN_add\n",
      "\u001b[34m\u001b[1mwandb\u001b[0m: \tnoSpeciesBackprop: True\n",
      "\u001b[34m\u001b[1mwandb\u001b[0m: \tnumOfTrials: 1\n",
      "\u001b[34m\u001b[1mwandb\u001b[0m: \tsuffix: None\n",
      "\u001b[34m\u001b[1mwandb\u001b[0m: \ttl_model: ResNet18\n",
      "\u001b[34m\u001b[1mwandb\u001b[0m: \tunsupervisedOnTest: False\n"
     ]
    },
    {
     "data": {
      "text/html": [
       "\n",
       "                Tracking run with wandb version 0.10.12<br/>\n",
       "                Syncing run <strong style=\"color:#cdcd00\">soft-sweep-7</strong> to <a href=\"https://wandb.ai\" target=\"_blank\">Weights & Biases</a> <a href=\"https://docs.wandb.com/integrations/jupyter.html\" target=\"_blank\">(Documentation)</a>.<br/>\n",
       "                Project page: <a href=\"https://wandb.ai/mndhamod/HGNN_sweep\" target=\"_blank\">https://wandb.ai/mndhamod/HGNN_sweep</a><br/>\n",
       "                Sweep page: <a href=\"https://wandb.ai/mndhamod/HGNN_sweep/sweeps/7uhr6dty\" target=\"_blank\">https://wandb.ai/mndhamod/HGNN_sweep/sweeps/7uhr6dty</a><br/>\n",
       "Run page: <a href=\"https://wandb.ai/mndhamod/HGNN_sweep/runs/qri7xdgh\" target=\"_blank\">https://wandb.ai/mndhamod/HGNN_sweep/runs/qri7xdgh</a><br/>\n",
       "                Run data is saved locally in <code>/home/elhamod/HGNN/code/HGNN/HGNN/train/wandb/run-20210106_002543-qri7xdgh</code><br/><br/>\n",
       "            "
      ],
      "text/plain": [
       "<IPython.core.display.HTML object>"
      ]
     },
     "metadata": {},
     "output_type": "display_data"
    },
    {
     "name": "stdout",
     "output_type": "stream",
     "text": [
      "{'adaptive_alpha': 0.7431133487414325, 'adaptive_lambda': 0.047638035305640446, 'adaptive_smoothing': True, 'augmented': True, 'batchSize': 16, 'fc_layers': 1, 'image_path': 'Curated4/Easy_50', 'img_res': 448, 'lambda': 0.12989797334910888, 'learning_rate': 0.0003801854335748774, 'link_layer': 'avgpool', 'modelType': 'HGNN_add', 'noSpeciesBackprop': True, 'numOfTrials': 1, 'suffix': None, 'tl_model': 'ResNet18', 'unsupervisedOnTest': False}\n",
      "Creating datasets...\n",
      "Creating datasets... Done.\n",
      "Creating loaders...\n",
      "Creating loaders... Done.\n"
     ]
    },
    {
     "data": {
      "application/vnd.jupyter.widget-view+json": {
       "model_id": "e53d9587c1084fcab0f3cabc621b6b69",
       "version_major": 2,
       "version_minor": 0
      },
      "text/plain": [
       "HBox(children=(FloatProgress(value=0.0, description='trial', max=1.0, style=ProgressStyle(description_width='i…"
      ]
     },
     "metadata": {},
     "output_type": "display_data"
    },
    {
     "name": "stdout",
     "output_type": "stream",
     "text": [
      "{'experimentName': 'HGNN_sweep', 'modelName': 'models/cd4f53afb12443d852e4810f3e7e35f8afd5fd6f019182a435fa81fb', 'datasetName': 'datasplits/7c7513bdfb4e5577fef1c3ec0fa6452d30d87dbc95f258a7c86dd76b', 'experimentHash': '73a3b26a2b048909969004ecad0a3b98004d9eee6cd9dbcfee8e203e', 'trialHash': 'cd4f53afb12443d852e4810f3e7e35f8afd5fd6f019182a435fa81fb', 'adaptive_alpha': 0.7431133487414325, 'adaptive_lambda': 0.047638035305640446, 'adaptive_smoothing': True, 'augmented': True, 'batchSize': 16, 'fc_layers': 1, 'image_path': 'Curated4/Easy_50', 'img_res': 448, 'lambda': 0.12989797334910888, 'learning_rate': 0.0003801854335748774, 'link_layer': 'avgpool', 'modelType': 'HGNN_add', 'noSpeciesBackprop': True, 'numOfTrials': 1, 'suffix': None, 'tl_model': 'ResNet18', 'unsupervisedOnTest': False}\n"
     ]
    },
    {
     "name": "stderr",
     "output_type": "stream",
     "text": [
      "\r",
      "iteration:   0%|          | 0/500 [00:00<?, ?it/s]"
     ]
    },
    {
     "name": "stdout",
     "output_type": "stream",
     "text": [
      "Training started...\n"
     ]
    },
    {
     "name": "stderr",
     "output_type": "stream",
     "text": [
      "iteration:   4%|▍         | 19/500 [14:46<6:11:26, 46.33s/it, min_val_loss=1.2, train=0.982, val=0.757, val_loss=3.13] "
     ]
    },
    {
     "name": "stdout",
     "output_type": "stream",
     "text": [
      "Early stopping\n",
      "total number of epochs:  18\n"
     ]
    },
    {
     "name": "stderr",
     "output_type": "stream",
     "text": [
      "iteration:   4%|▍         | 19/500 [14:48<6:14:48, 46.75s/it, min_val_loss=1.2, train=0.982, val=0.757, val_loss=3.13]\n"
     ]
    },
    {
     "data": {
      "text/html": [
       "<br/>Waiting for W&B process to finish, PID 28416<br/>Program ended successfully."
      ],
      "text/plain": [
       "<IPython.core.display.HTML object>"
      ]
     },
     "metadata": {},
     "output_type": "display_data"
    },
    {
     "data": {
      "application/vnd.jupyter.widget-view+json": {
       "model_id": "",
       "version_major": 2,
       "version_minor": 0
      },
      "text/plain": [
       "VBox(children=(Label(value=' 0.00MB of 0.00MB uploaded (0.00MB deduped)\\r'), FloatProgress(value=1.0, max=1.0)…"
      ]
     },
     "metadata": {},
     "output_type": "display_data"
    },
    {
     "data": {
      "text/html": [
       "Find user logs for this run at: <code>/home/elhamod/HGNN/code/HGNN/HGNN/train/wandb/run-20210106_002543-qri7xdgh/logs/debug.log</code>"
      ],
      "text/plain": [
       "<IPython.core.display.HTML object>"
      ]
     },
     "metadata": {},
     "output_type": "display_data"
    },
    {
     "data": {
      "text/html": [
       "Find internal logs for this run at: <code>/home/elhamod/HGNN/code/HGNN/HGNN/train/wandb/run-20210106_002543-qri7xdgh/logs/debug-internal.log</code>"
      ],
      "text/plain": [
       "<IPython.core.display.HTML object>"
      ]
     },
     "metadata": {},
     "output_type": "display_data"
    },
    {
     "data": {
      "text/html": [
       "<h3>Run summary:</h3><br/><style>\n",
       "    table.wandb td:nth-child(1) { padding: 0 10px; text-align: right }\n",
       "    </style><table class=\"wandb\">\n",
       "<tr><td>loss</td><td>0.74652</td></tr><tr><td>batch</td><td>1443</td></tr><tr><td>epoch</td><td>18</td></tr><tr><td>loss_fine</td><td>0.77638</td></tr><tr><td>loss_coarse</td><td>0.52539</td></tr><tr><td>lambda_fine</td><td>0.881</td></tr><tr><td>lambda_coarse</td><td>0.119</td></tr><tr><td>_step</td><td>1462</td></tr><tr><td>_runtime</td><td>889</td></tr><tr><td>_timestamp</td><td>1609911632</td></tr><tr><td>validation_fine_f1</td><td>0.75722</td></tr><tr><td>training_fine_f1</td><td>0.98219</td></tr><tr><td>validation_loss</td><td>3.12596</td></tr></table>"
      ],
      "text/plain": [
       "<IPython.core.display.HTML object>"
      ]
     },
     "metadata": {},
     "output_type": "display_data"
    },
    {
     "data": {
      "text/html": [
       "<h3>Run history:</h3><br/><style>\n",
       "    table.wandb td:nth-child(1) { padding: 0 10px; text-align: right }\n",
       "    </style><table class=\"wandb\">\n",
       "<tr><td>loss</td><td>█▆▅▅▄▃▄▃▃▂▃▃▂▂▂▂▂▃▂▃▃▂▂▂▃▁▂▂▂▂▃▂▂▁▂▁▁▂▁▁</td></tr><tr><td>batch</td><td>▁▁▁▁▂▂▂▂▂▃▃▃▃▃▃▄▄▄▄▄▅▅▅▅▅▅▆▆▆▆▆▇▇▇▇▇▇███</td></tr><tr><td>epoch</td><td>▁▁▁▁▂▂▂▂▂▃▃▃▃▃▃▄▄▄▄▅▅▅▅▅▅▆▆▆▆▆▆▆▇▇▇▇████</td></tr><tr><td>loss_fine</td><td>█▆▅▅▄▃▄▃▃▂▃▃▂▂▂▂▂▃▂▃▃▂▁▂▃▁▂▁▂▂▃▂▂▂▁▁▁▂▁▁</td></tr><tr><td>loss_coarse</td><td>▇▅▆▆▄▃▅▄▄▃▄▂▂▂▂▄▂▇▄█▂▄▄▂▃▂▂▂▃▃▃▁▃▁▂▁▂▃▁▂</td></tr><tr><td>lambda_fine</td><td>▃▂▄▄▂▂▄▃▃▃▃▂▂▁▁▄▁▇▄█▂▃▄▂▂▂▁▃▃▃▂▂▃▁▂▂▂▃▂▂</td></tr><tr><td>lambda_coarse</td><td>▆▇▅▅▇▇▅▆▆▆▆▇▇██▅█▂▅▁▇▆▅▇▇▇█▆▆▆▇▇▆█▇▇▇▆▇▇</td></tr><tr><td>_step</td><td>▁▁▁▁▂▂▂▂▂▃▃▃▃▃▄▄▄▄▄▄▅▅▅▅▅▅▆▆▆▆▆▇▇▇▇▇████</td></tr><tr><td>_runtime</td><td>▁▁▁▁▂▂▂▂▂▃▃▃▃▃▃▄▄▄▄▄▅▅▅▅▅▆▆▆▆▆▆▇▇▇▇▇████</td></tr><tr><td>_timestamp</td><td>▁▁▁▁▂▂▂▂▂▃▃▃▃▃▃▄▄▄▄▄▅▅▅▅▅▆▆▆▆▆▆▇▇▇▇▇████</td></tr><tr><td>validation_fine_f1</td><td>▁▄▄▄▅▆▆▇▇▇▇▇▇█▇▆██▇</td></tr><tr><td>training_fine_f1</td><td>▁▄▄▅▆▇▇██▇█████████</td></tr><tr><td>validation_loss</td><td>█▇▅▅▅▃▄▃▂▂▃▃▃▁▂▃▂▁▂</td></tr></table><br/>"
      ],
      "text/plain": [
       "<IPython.core.display.HTML object>"
      ]
     },
     "metadata": {},
     "output_type": "display_data"
    },
    {
     "data": {
      "text/html": [
       "Synced 5 W&B file(s), 0 media file(s), 0 artifact file(s) and 0 other file(s)"
      ],
      "text/plain": [
       "<IPython.core.display.HTML object>"
      ]
     },
     "metadata": {},
     "output_type": "display_data"
    },
    {
     "data": {
      "text/html": [
       "\n",
       "                    <br/>Synced <strong style=\"color:#cdcd00\">soft-sweep-7</strong>: <a href=\"https://wandb.ai/mndhamod/HGNN_sweep/runs/qri7xdgh\" target=\"_blank\">https://wandb.ai/mndhamod/HGNN_sweep/runs/qri7xdgh</a><br/>\n",
       "                "
      ],
      "text/plain": [
       "<IPython.core.display.HTML object>"
      ]
     },
     "metadata": {},
     "output_type": "display_data"
    },
    {
     "name": "stdout",
     "output_type": "stream",
     "text": [
      "\n"
     ]
    },
    {
     "name": "stderr",
     "output_type": "stream",
     "text": [
      "\u001b[34m\u001b[1mwandb\u001b[0m: Agent Starting Run: 2mxyrzb8 with config:\n",
      "\u001b[34m\u001b[1mwandb\u001b[0m: \tadaptive_alpha: 0.526681443904646\n",
      "\u001b[34m\u001b[1mwandb\u001b[0m: \tadaptive_lambda: 0.011167516636760555\n",
      "\u001b[34m\u001b[1mwandb\u001b[0m: \tadaptive_smoothing: False\n",
      "\u001b[34m\u001b[1mwandb\u001b[0m: \taugmented: True\n",
      "\u001b[34m\u001b[1mwandb\u001b[0m: \tbatchSize: 16\n",
      "\u001b[34m\u001b[1mwandb\u001b[0m: \tfc_layers: 3\n",
      "\u001b[34m\u001b[1mwandb\u001b[0m: \timage_path: Curated4/Easy_50\n",
      "\u001b[34m\u001b[1mwandb\u001b[0m: \timg_res: 448\n",
      "\u001b[34m\u001b[1mwandb\u001b[0m: \tlambda: 0.007116492071636248\n",
      "\u001b[34m\u001b[1mwandb\u001b[0m: \tlearning_rate: 0.00010093169009723977\n",
      "\u001b[34m\u001b[1mwandb\u001b[0m: \tlink_layer: avgpool\n",
      "\u001b[34m\u001b[1mwandb\u001b[0m: \tmodelType: HGNN_add\n",
      "\u001b[34m\u001b[1mwandb\u001b[0m: \tnoSpeciesBackprop: False\n",
      "\u001b[34m\u001b[1mwandb\u001b[0m: \tnumOfTrials: 1\n",
      "\u001b[34m\u001b[1mwandb\u001b[0m: \tsuffix: None\n",
      "\u001b[34m\u001b[1mwandb\u001b[0m: \ttl_model: ResNet18\n",
      "\u001b[34m\u001b[1mwandb\u001b[0m: \tunsupervisedOnTest: False\n"
     ]
    },
    {
     "data": {
      "text/html": [
       "\n",
       "                Tracking run with wandb version 0.10.12<br/>\n",
       "                Syncing run <strong style=\"color:#cdcd00\">swift-sweep-8</strong> to <a href=\"https://wandb.ai\" target=\"_blank\">Weights & Biases</a> <a href=\"https://docs.wandb.com/integrations/jupyter.html\" target=\"_blank\">(Documentation)</a>.<br/>\n",
       "                Project page: <a href=\"https://wandb.ai/mndhamod/HGNN_sweep\" target=\"_blank\">https://wandb.ai/mndhamod/HGNN_sweep</a><br/>\n",
       "                Sweep page: <a href=\"https://wandb.ai/mndhamod/HGNN_sweep/sweeps/7uhr6dty\" target=\"_blank\">https://wandb.ai/mndhamod/HGNN_sweep/sweeps/7uhr6dty</a><br/>\n",
       "Run page: <a href=\"https://wandb.ai/mndhamod/HGNN_sweep/runs/2mxyrzb8\" target=\"_blank\">https://wandb.ai/mndhamod/HGNN_sweep/runs/2mxyrzb8</a><br/>\n",
       "                Run data is saved locally in <code>/home/elhamod/HGNN/code/HGNN/HGNN/train/wandb/run-20210106_004039-2mxyrzb8</code><br/><br/>\n",
       "            "
      ],
      "text/plain": [
       "<IPython.core.display.HTML object>"
      ]
     },
     "metadata": {},
     "output_type": "display_data"
    },
    {
     "name": "stdout",
     "output_type": "stream",
     "text": [
      "{'adaptive_alpha': 0.526681443904646, 'adaptive_lambda': 0.011167516636760555, 'adaptive_smoothing': False, 'augmented': True, 'batchSize': 16, 'fc_layers': 3, 'image_path': 'Curated4/Easy_50', 'img_res': 448, 'lambda': 0.007116492071636248, 'learning_rate': 0.00010093169009723977, 'link_layer': 'avgpool', 'modelType': 'HGNN_add', 'noSpeciesBackprop': False, 'numOfTrials': 1, 'suffix': None, 'tl_model': 'ResNet18', 'unsupervisedOnTest': False}\n",
      "Creating datasets...\n",
      "Creating datasets... Done.\n",
      "Creating loaders...\n",
      "Creating loaders... Done.\n"
     ]
    },
    {
     "data": {
      "application/vnd.jupyter.widget-view+json": {
       "model_id": "ad3a767efa70481b8478280d989533af",
       "version_major": 2,
       "version_minor": 0
      },
      "text/plain": [
       "HBox(children=(FloatProgress(value=0.0, description='trial', max=1.0, style=ProgressStyle(description_width='i…"
      ]
     },
     "metadata": {},
     "output_type": "display_data"
    },
    {
     "name": "stdout",
     "output_type": "stream",
     "text": [
      "{'experimentName': 'HGNN_sweep', 'modelName': 'models/c686fe8c5e945201f3cd75d129397540e77989931349e197dc89dc25', 'datasetName': 'datasplits/7c7513bdfb4e5577fef1c3ec0fa6452d30d87dbc95f258a7c86dd76b', 'experimentHash': '9c018bec7cc045f5d3644831be1396f40df551100a11b87de74247bc', 'trialHash': 'c686fe8c5e945201f3cd75d129397540e77989931349e197dc89dc25', 'adaptive_alpha': 0.526681443904646, 'adaptive_lambda': 0.011167516636760555, 'adaptive_smoothing': False, 'augmented': True, 'batchSize': 16, 'fc_layers': 3, 'image_path': 'Curated4/Easy_50', 'img_res': 448, 'lambda': 0.007116492071636248, 'learning_rate': 0.00010093169009723977, 'link_layer': 'avgpool', 'modelType': 'HGNN_add', 'noSpeciesBackprop': False, 'numOfTrials': 1, 'suffix': None, 'tl_model': 'ResNet18', 'unsupervisedOnTest': False}\n"
     ]
    },
    {
     "name": "stderr",
     "output_type": "stream",
     "text": [
      "\r",
      "iteration:   0%|          | 0/500 [00:00<?, ?it/s]"
     ]
    },
    {
     "name": "stdout",
     "output_type": "stream",
     "text": [
      "Training started...\n"
     ]
    },
    {
     "name": "stderr",
     "output_type": "stream",
     "text": [
      "iteration:   4%|▍         | 22/500 [17:01<6:09:58, 46.44s/it, min_val_loss=1.14, train=0.999, val=0.856, val_loss=3.11]"
     ]
    },
    {
     "name": "stdout",
     "output_type": "stream",
     "text": [
      "Early stopping\n",
      "total number of epochs:  21\n"
     ]
    },
    {
     "name": "stderr",
     "output_type": "stream",
     "text": [
      "iteration:   4%|▍         | 22/500 [17:03<6:10:44, 46.54s/it, min_val_loss=1.14, train=0.999, val=0.856, val_loss=3.11]\n"
     ]
    },
    {
     "data": {
      "text/html": [
       "<br/>Waiting for W&B process to finish, PID 34092<br/>Program ended successfully."
      ],
      "text/plain": [
       "<IPython.core.display.HTML object>"
      ]
     },
     "metadata": {},
     "output_type": "display_data"
    },
    {
     "data": {
      "application/vnd.jupyter.widget-view+json": {
       "model_id": "",
       "version_major": 2,
       "version_minor": 0
      },
      "text/plain": [
       "VBox(children=(Label(value=' 0.00MB of 0.00MB uploaded (0.00MB deduped)\\r'), FloatProgress(value=1.0, max=1.0)…"
      ]
     },
     "metadata": {},
     "output_type": "display_data"
    },
    {
     "data": {
      "text/html": [
       "Find user logs for this run at: <code>/home/elhamod/HGNN/code/HGNN/HGNN/train/wandb/run-20210106_004039-2mxyrzb8/logs/debug.log</code>"
      ],
      "text/plain": [
       "<IPython.core.display.HTML object>"
      ]
     },
     "metadata": {},
     "output_type": "display_data"
    },
    {
     "data": {
      "text/html": [
       "Find internal logs for this run at: <code>/home/elhamod/HGNN/code/HGNN/HGNN/train/wandb/run-20210106_004039-2mxyrzb8/logs/debug-internal.log</code>"
      ],
      "text/plain": [
       "<IPython.core.display.HTML object>"
      ]
     },
     "metadata": {},
     "output_type": "display_data"
    },
    {
     "data": {
      "text/html": [
       "<h3>Run summary:</h3><br/><style>\n",
       "    table.wandb td:nth-child(1) { padding: 0 10px; text-align: right }\n",
       "    </style><table class=\"wandb\">\n",
       "<tr><td>loss</td><td>0.8696</td></tr><tr><td>batch</td><td>1671</td></tr><tr><td>epoch</td><td>21</td></tr><tr><td>loss_fine</td><td>0.86385</td></tr><tr><td>loss_coarse</td><td>0.80849</td></tr><tr><td>lambda_fine</td><td>1</td></tr><tr><td>lambda_coarse</td><td>0.00712</td></tr><tr><td>_step</td><td>1693</td></tr><tr><td>_runtime</td><td>1023</td></tr><tr><td>_timestamp</td><td>1609912662</td></tr><tr><td>validation_fine_f1</td><td>0.85564</td></tr><tr><td>training_fine_f1</td><td>0.99918</td></tr><tr><td>validation_loss</td><td>3.10546</td></tr></table>"
      ],
      "text/plain": [
       "<IPython.core.display.HTML object>"
      ]
     },
     "metadata": {},
     "output_type": "display_data"
    },
    {
     "data": {
      "text/html": [
       "<h3>Run history:</h3><br/><style>\n",
       "    table.wandb td:nth-child(1) { padding: 0 10px; text-align: right }\n",
       "    </style><table class=\"wandb\">\n",
       "<tr><td>loss</td><td>█▆▅▄▄▃▄▃▃▂▂▂▂▂▂▂▂▁▃▃▁▂▂▂▂▃▂▂▂▁▁▁▂▂▂▂▂▁▂▁</td></tr><tr><td>batch</td><td>▁▁▁▁▂▂▂▂▂▃▃▃▃▃▃▄▄▄▄▄▅▅▅▅▅▅▆▆▆▆▆▇▇▇▇▇▇███</td></tr><tr><td>epoch</td><td>▁▁▁▁▂▂▂▂▂▃▃▃▃▃▃▄▄▄▄▄▅▅▅▅▅▅▆▆▆▆▆▇▇▇▇▇████</td></tr><tr><td>loss_fine</td><td>█▆▅▄▄▃▄▃▃▂▂▂▂▂▂▂▂▁▃▃▁▂▂▂▂▃▂▂▂▁▁▁▂▂▂▂▂▁▂▁</td></tr><tr><td>loss_coarse</td><td>█▇▄▄▄▅▆▄▃▃▃▄▃▃▄▃▂▁▄▂▄▃▃▃▅▅▃▃▁▁▁▂▁▂▂▃▃▂▃▁</td></tr><tr><td>lambda_fine</td><td>▁▁▁▁▁▁▁▁▁▁▁▁▁▁▁▁▁▁▁▁▁▁▁▁▁▁▁▁▁▁▁▁▁▁▁▁▁▁▁▁</td></tr><tr><td>lambda_coarse</td><td>▁▁▁▁▁▁▁▁▁▁▁▁▁▁▁▁▁▁▁▁▁▁▁▁▁▁▁▁▁▁▁▁▁▁▁▁▁▁▁▁</td></tr><tr><td>_step</td><td>▁▁▁▂▂▂▂▂▂▃▃▃▃▃▃▄▄▄▄▄▅▅▅▅▅▅▆▆▆▆▆▇▇▇▇▇▇███</td></tr><tr><td>_runtime</td><td>▁▁▁▁▂▂▂▂▂▃▃▃▃▃▃▄▄▄▄▄▅▅▅▅▅▅▆▆▆▆▆▇▇▇▇▇████</td></tr><tr><td>_timestamp</td><td>▁▁▁▁▂▂▂▂▂▃▃▃▃▃▃▄▄▄▄▄▅▅▅▅▅▅▆▆▆▆▆▇▇▇▇▇████</td></tr><tr><td>validation_fine_f1</td><td>▁▄▅▆▆▆▇▇▇▇▇███████████</td></tr><tr><td>training_fine_f1</td><td>▁▅▇▇██████████████████</td></tr><tr><td>validation_loss</td><td>█▆▅▄▃▃▃▂▂▂▂▂▁▁▂▁▁▁▁▁▁▁</td></tr></table><br/>"
      ],
      "text/plain": [
       "<IPython.core.display.HTML object>"
      ]
     },
     "metadata": {},
     "output_type": "display_data"
    },
    {
     "data": {
      "text/html": [
       "Synced 5 W&B file(s), 0 media file(s), 0 artifact file(s) and 0 other file(s)"
      ],
      "text/plain": [
       "<IPython.core.display.HTML object>"
      ]
     },
     "metadata": {},
     "output_type": "display_data"
    },
    {
     "data": {
      "text/html": [
       "\n",
       "                    <br/>Synced <strong style=\"color:#cdcd00\">swift-sweep-8</strong>: <a href=\"https://wandb.ai/mndhamod/HGNN_sweep/runs/2mxyrzb8\" target=\"_blank\">https://wandb.ai/mndhamod/HGNN_sweep/runs/2mxyrzb8</a><br/>\n",
       "                "
      ],
      "text/plain": [
       "<IPython.core.display.HTML object>"
      ]
     },
     "metadata": {},
     "output_type": "display_data"
    },
    {
     "name": "stdout",
     "output_type": "stream",
     "text": [
      "\n"
     ]
    },
    {
     "name": "stderr",
     "output_type": "stream",
     "text": [
      "\u001b[34m\u001b[1mwandb\u001b[0m: Agent Starting Run: 39hx7j63 with config:\n",
      "\u001b[34m\u001b[1mwandb\u001b[0m: \tadaptive_alpha: 0.6202162542710163\n",
      "\u001b[34m\u001b[1mwandb\u001b[0m: \tadaptive_lambda: 0.08822440194655586\n",
      "\u001b[34m\u001b[1mwandb\u001b[0m: \tadaptive_smoothing: False\n",
      "\u001b[34m\u001b[1mwandb\u001b[0m: \taugmented: True\n",
      "\u001b[34m\u001b[1mwandb\u001b[0m: \tbatchSize: 16\n",
      "\u001b[34m\u001b[1mwandb\u001b[0m: \tfc_layers: 1\n",
      "\u001b[34m\u001b[1mwandb\u001b[0m: \timage_path: Curated4/Easy_50\n",
      "\u001b[34m\u001b[1mwandb\u001b[0m: \timg_res: 448\n",
      "\u001b[34m\u001b[1mwandb\u001b[0m: \tlambda: 0.05258130608216343\n",
      "\u001b[34m\u001b[1mwandb\u001b[0m: \tlearning_rate: 5.039763998857808e-05\n",
      "\u001b[34m\u001b[1mwandb\u001b[0m: \tlink_layer: avgpool\n",
      "\u001b[34m\u001b[1mwandb\u001b[0m: \tmodelType: HGNN_add\n",
      "\u001b[34m\u001b[1mwandb\u001b[0m: \tnoSpeciesBackprop: False\n",
      "\u001b[34m\u001b[1mwandb\u001b[0m: \tnumOfTrials: 1\n",
      "\u001b[34m\u001b[1mwandb\u001b[0m: \tsuffix: None\n",
      "\u001b[34m\u001b[1mwandb\u001b[0m: \ttl_model: ResNet18\n",
      "\u001b[34m\u001b[1mwandb\u001b[0m: \tunsupervisedOnTest: False\n"
     ]
    },
    {
     "data": {
      "text/html": [
       "\n",
       "                Tracking run with wandb version 0.10.12<br/>\n",
       "                Syncing run <strong style=\"color:#cdcd00\">quiet-sweep-9</strong> to <a href=\"https://wandb.ai\" target=\"_blank\">Weights & Biases</a> <a href=\"https://docs.wandb.com/integrations/jupyter.html\" target=\"_blank\">(Documentation)</a>.<br/>\n",
       "                Project page: <a href=\"https://wandb.ai/mndhamod/HGNN_sweep\" target=\"_blank\">https://wandb.ai/mndhamod/HGNN_sweep</a><br/>\n",
       "                Sweep page: <a href=\"https://wandb.ai/mndhamod/HGNN_sweep/sweeps/7uhr6dty\" target=\"_blank\">https://wandb.ai/mndhamod/HGNN_sweep/sweeps/7uhr6dty</a><br/>\n",
       "Run page: <a href=\"https://wandb.ai/mndhamod/HGNN_sweep/runs/39hx7j63\" target=\"_blank\">https://wandb.ai/mndhamod/HGNN_sweep/runs/39hx7j63</a><br/>\n",
       "                Run data is saved locally in <code>/home/elhamod/HGNN/code/HGNN/HGNN/train/wandb/run-20210106_005750-39hx7j63</code><br/><br/>\n",
       "            "
      ],
      "text/plain": [
       "<IPython.core.display.HTML object>"
      ]
     },
     "metadata": {},
     "output_type": "display_data"
    },
    {
     "name": "stdout",
     "output_type": "stream",
     "text": [
      "{'adaptive_alpha': 0.6202162542710163, 'adaptive_lambda': 0.08822440194655586, 'adaptive_smoothing': False, 'augmented': True, 'batchSize': 16, 'fc_layers': 1, 'image_path': 'Curated4/Easy_50', 'img_res': 448, 'lambda': 0.05258130608216343, 'learning_rate': 5.039763998857808e-05, 'link_layer': 'avgpool', 'modelType': 'HGNN_add', 'noSpeciesBackprop': False, 'numOfTrials': 1, 'suffix': None, 'tl_model': 'ResNet18', 'unsupervisedOnTest': False}\n",
      "Creating datasets...\n",
      "Creating datasets... Done.\n",
      "Creating loaders...\n",
      "Creating loaders... Done.\n"
     ]
    },
    {
     "data": {
      "application/vnd.jupyter.widget-view+json": {
       "model_id": "4bde4f30439a48b2a5e7c6ef020a60f1",
       "version_major": 2,
       "version_minor": 0
      },
      "text/plain": [
       "HBox(children=(FloatProgress(value=0.0, description='trial', max=1.0, style=ProgressStyle(description_width='i…"
      ]
     },
     "metadata": {},
     "output_type": "display_data"
    },
    {
     "name": "stdout",
     "output_type": "stream",
     "text": [
      "{'experimentName': 'HGNN_sweep', 'modelName': 'models/4ed2d91945a7925175243d73c3dbfa20480547077b566f7d60bc7cdf', 'datasetName': 'datasplits/7c7513bdfb4e5577fef1c3ec0fa6452d30d87dbc95f258a7c86dd76b', 'experimentHash': 'c456c64ac6b6ceb9534680f1208211ac43e360470322b55d9fb48e60', 'trialHash': '4ed2d91945a7925175243d73c3dbfa20480547077b566f7d60bc7cdf', 'adaptive_alpha': 0.6202162542710163, 'adaptive_lambda': 0.08822440194655586, 'adaptive_smoothing': False, 'augmented': True, 'batchSize': 16, 'fc_layers': 1, 'image_path': 'Curated4/Easy_50', 'img_res': 448, 'lambda': 0.05258130608216343, 'learning_rate': 5.039763998857808e-05, 'link_layer': 'avgpool', 'modelType': 'HGNN_add', 'noSpeciesBackprop': False, 'numOfTrials': 1, 'suffix': None, 'tl_model': 'ResNet18', 'unsupervisedOnTest': False}\n"
     ]
    },
    {
     "name": "stderr",
     "output_type": "stream",
     "text": [
      "\r",
      "iteration:   0%|          | 0/500 [00:00<?, ?it/s]"
     ]
    },
    {
     "name": "stdout",
     "output_type": "stream",
     "text": [
      "Training started...\n"
     ]
    },
    {
     "name": "stderr",
     "output_type": "stream",
     "text": [
      "iteration:   3%|▎         | 14/500 [10:53<6:10:56, 45.80s/it, min_val_loss=1.21, train=1, val=0.78, val_loss=3.22]     "
     ]
    },
    {
     "name": "stdout",
     "output_type": "stream",
     "text": [
      "Early stopping\n",
      "total number of epochs:  13\n"
     ]
    },
    {
     "name": "stderr",
     "output_type": "stream",
     "text": [
      "iteration:   3%|▎         | 14/500 [10:55<6:19:14, 46.82s/it, min_val_loss=1.21, train=1, val=0.78, val_loss=3.22]\n"
     ]
    },
    {
     "data": {
      "text/html": [
       "<br/>Waiting for W&B process to finish, PID 40414<br/>Program ended successfully."
      ],
      "text/plain": [
       "<IPython.core.display.HTML object>"
      ]
     },
     "metadata": {},
     "output_type": "display_data"
    },
    {
     "data": {
      "application/vnd.jupyter.widget-view+json": {
       "model_id": "",
       "version_major": 2,
       "version_minor": 0
      },
      "text/plain": [
       "VBox(children=(Label(value=' 0.00MB of 0.00MB uploaded (0.00MB deduped)\\r'), FloatProgress(value=1.0, max=1.0)…"
      ]
     },
     "metadata": {},
     "output_type": "display_data"
    },
    {
     "data": {
      "text/html": [
       "Find user logs for this run at: <code>/home/elhamod/HGNN/code/HGNN/HGNN/train/wandb/run-20210106_005750-39hx7j63/logs/debug.log</code>"
      ],
      "text/plain": [
       "<IPython.core.display.HTML object>"
      ]
     },
     "metadata": {},
     "output_type": "display_data"
    },
    {
     "data": {
      "text/html": [
       "Find internal logs for this run at: <code>/home/elhamod/HGNN/code/HGNN/HGNN/train/wandb/run-20210106_005750-39hx7j63/logs/debug-internal.log</code>"
      ],
      "text/plain": [
       "<IPython.core.display.HTML object>"
      ]
     },
     "metadata": {},
     "output_type": "display_data"
    },
    {
     "data": {
      "text/html": [
       "<h3>Run summary:</h3><br/><style>\n",
       "    table.wandb td:nth-child(1) { padding: 0 10px; text-align: right }\n",
       "    </style><table class=\"wandb\">\n",
       "<tr><td>loss</td><td>0.84676</td></tr><tr><td>batch</td><td>1063</td></tr><tr><td>epoch</td><td>13</td></tr><tr><td>loss_fine</td><td>0.80816</td></tr><tr><td>loss_coarse</td><td>0.73403</td></tr><tr><td>lambda_fine</td><td>1</td></tr><tr><td>lambda_coarse</td><td>0.05258</td></tr><tr><td>_step</td><td>1077</td></tr><tr><td>_runtime</td><td>656</td></tr><tr><td>_timestamp</td><td>1609913326</td></tr><tr><td>validation_fine_f1</td><td>0.77971</td></tr><tr><td>training_fine_f1</td><td>1.0</td></tr><tr><td>validation_loss</td><td>3.22216</td></tr></table>"
      ],
      "text/plain": [
       "<IPython.core.display.HTML object>"
      ]
     },
     "metadata": {},
     "output_type": "display_data"
    },
    {
     "data": {
      "text/html": [
       "<h3>Run history:</h3><br/><style>\n",
       "    table.wandb td:nth-child(1) { padding: 0 10px; text-align: right }\n",
       "    </style><table class=\"wandb\">\n",
       "<tr><td>loss</td><td>▇█▆▄▅▃▄▃▃▃▃▃▂▃▂▂▂▂▂▂▂▂▂▂▂▂▂▂▃▂▂▂▂▁▂▂▁▂▂▂</td></tr><tr><td>batch</td><td>▁▁▁▂▂▂▂▂▂▃▃▃▃▃▃▄▄▄▄▄▅▅▅▅▅▅▆▆▆▆▆▆▇▇▇▇▇███</td></tr><tr><td>epoch</td><td>▁▁▁▂▂▂▂▂▂▃▃▃▃▃▃▄▄▄▄▄▅▅▅▅▅▅▆▆▆▆▆▇▇▇▇▇▇███</td></tr><tr><td>loss_fine</td><td>▇█▆▄▅▃▄▃▃▃▃▃▂▃▂▂▂▂▂▂▂▂▂▂▂▂▂▂▃▂▂▂▂▁▂▂▁▂▂▂</td></tr><tr><td>loss_coarse</td><td>█▆▄▅▇▅▄▄▄▅▃▄▃▄▂▄▃▂▃▂▃▃▁▃▂▂▂▄▂▃▅▂▅▂▂▄▃▂▃▃</td></tr><tr><td>lambda_fine</td><td>▁▁▁▁▁▁▁▁▁▁▁▁▁▁▁▁▁▁▁▁▁▁▁▁▁▁▁▁▁▁▁▁▁▁▁▁▁▁▁▁</td></tr><tr><td>lambda_coarse</td><td>▁▁▁▁▁▁▁▁▁▁▁▁▁▁▁▁▁▁▁▁▁▁▁▁▁▁▁▁▁▁▁▁▁▁▁▁▁▁▁▁</td></tr><tr><td>_step</td><td>▁▁▁▂▂▂▂▂▂▃▃▃▃▃▃▄▄▄▄▄▅▅▅▅▅▅▆▆▆▆▆▇▇▇▇▇▇███</td></tr><tr><td>_runtime</td><td>▁▁▁▂▂▂▂▂▂▃▃▃▃▃▃▄▄▄▄▄▅▅▅▅▅▅▆▆▆▆▆▇▇▇▇▇▇███</td></tr><tr><td>_timestamp</td><td>▁▁▁▂▂▂▂▂▂▃▃▃▃▃▃▄▄▄▄▄▅▅▅▅▅▅▆▆▆▆▆▇▇▇▇▇▇███</td></tr><tr><td>validation_fine_f1</td><td>▁▄▆▆▇██▇██▇██▇</td></tr><tr><td>training_fine_f1</td><td>▁▆▇███████████</td></tr><tr><td>validation_loss</td><td>█▆▄▃▃▂▂▂▂▂▂▁▁▁</td></tr></table><br/>"
      ],
      "text/plain": [
       "<IPython.core.display.HTML object>"
      ]
     },
     "metadata": {},
     "output_type": "display_data"
    },
    {
     "data": {
      "text/html": [
       "Synced 5 W&B file(s), 0 media file(s), 0 artifact file(s) and 0 other file(s)"
      ],
      "text/plain": [
       "<IPython.core.display.HTML object>"
      ]
     },
     "metadata": {},
     "output_type": "display_data"
    },
    {
     "data": {
      "text/html": [
       "\n",
       "                    <br/>Synced <strong style=\"color:#cdcd00\">quiet-sweep-9</strong>: <a href=\"https://wandb.ai/mndhamod/HGNN_sweep/runs/39hx7j63\" target=\"_blank\">https://wandb.ai/mndhamod/HGNN_sweep/runs/39hx7j63</a><br/>\n",
       "                "
      ],
      "text/plain": [
       "<IPython.core.display.HTML object>"
      ]
     },
     "metadata": {},
     "output_type": "display_data"
    },
    {
     "name": "stdout",
     "output_type": "stream",
     "text": [
      "\n"
     ]
    },
    {
     "name": "stderr",
     "output_type": "stream",
     "text": [
      "\u001b[34m\u001b[1mwandb\u001b[0m: Agent Starting Run: 4ojyopof with config:\n",
      "\u001b[34m\u001b[1mwandb\u001b[0m: \tadaptive_alpha: 0.6565271204126528\n",
      "\u001b[34m\u001b[1mwandb\u001b[0m: \tadaptive_lambda: 0.045794255902816466\n",
      "\u001b[34m\u001b[1mwandb\u001b[0m: \tadaptive_smoothing: False\n",
      "\u001b[34m\u001b[1mwandb\u001b[0m: \taugmented: True\n",
      "\u001b[34m\u001b[1mwandb\u001b[0m: \tbatchSize: 16\n",
      "\u001b[34m\u001b[1mwandb\u001b[0m: \tfc_layers: 1\n",
      "\u001b[34m\u001b[1mwandb\u001b[0m: \timage_path: Curated4/Easy_50\n",
      "\u001b[34m\u001b[1mwandb\u001b[0m: \timg_res: 448\n",
      "\u001b[34m\u001b[1mwandb\u001b[0m: \tlambda: 0.007051822400528748\n",
      "\u001b[34m\u001b[1mwandb\u001b[0m: \tlearning_rate: 8.997367294442103e-05\n",
      "\u001b[34m\u001b[1mwandb\u001b[0m: \tlink_layer: avgpool\n",
      "\u001b[34m\u001b[1mwandb\u001b[0m: \tmodelType: HGNN_add\n",
      "\u001b[34m\u001b[1mwandb\u001b[0m: \tnoSpeciesBackprop: True\n",
      "\u001b[34m\u001b[1mwandb\u001b[0m: \tnumOfTrials: 1\n",
      "\u001b[34m\u001b[1mwandb\u001b[0m: \tsuffix: None\n",
      "\u001b[34m\u001b[1mwandb\u001b[0m: \ttl_model: ResNet18\n",
      "\u001b[34m\u001b[1mwandb\u001b[0m: \tunsupervisedOnTest: False\n"
     ]
    },
    {
     "data": {
      "text/html": [
       "\n",
       "                Tracking run with wandb version 0.10.12<br/>\n",
       "                Syncing run <strong style=\"color:#cdcd00\">genial-sweep-10</strong> to <a href=\"https://wandb.ai\" target=\"_blank\">Weights & Biases</a> <a href=\"https://docs.wandb.com/integrations/jupyter.html\" target=\"_blank\">(Documentation)</a>.<br/>\n",
       "                Project page: <a href=\"https://wandb.ai/mndhamod/HGNN_sweep\" target=\"_blank\">https://wandb.ai/mndhamod/HGNN_sweep</a><br/>\n",
       "                Sweep page: <a href=\"https://wandb.ai/mndhamod/HGNN_sweep/sweeps/7uhr6dty\" target=\"_blank\">https://wandb.ai/mndhamod/HGNN_sweep/sweeps/7uhr6dty</a><br/>\n",
       "Run page: <a href=\"https://wandb.ai/mndhamod/HGNN_sweep/runs/4ojyopof\" target=\"_blank\">https://wandb.ai/mndhamod/HGNN_sweep/runs/4ojyopof</a><br/>\n",
       "                Run data is saved locally in <code>/home/elhamod/HGNN/code/HGNN/HGNN/train/wandb/run-20210106_010853-4ojyopof</code><br/><br/>\n",
       "            "
      ],
      "text/plain": [
       "<IPython.core.display.HTML object>"
      ]
     },
     "metadata": {},
     "output_type": "display_data"
    },
    {
     "name": "stdout",
     "output_type": "stream",
     "text": [
      "{'adaptive_alpha': 0.6565271204126528, 'adaptive_lambda': 0.045794255902816466, 'adaptive_smoothing': False, 'augmented': True, 'batchSize': 16, 'fc_layers': 1, 'image_path': 'Curated4/Easy_50', 'img_res': 448, 'lambda': 0.007051822400528748, 'learning_rate': 8.997367294442103e-05, 'link_layer': 'avgpool', 'modelType': 'HGNN_add', 'noSpeciesBackprop': True, 'numOfTrials': 1, 'suffix': None, 'tl_model': 'ResNet18', 'unsupervisedOnTest': False}\n",
      "Creating datasets...\n",
      "Creating datasets... Done.\n",
      "Creating loaders...\n",
      "Creating loaders... Done.\n"
     ]
    },
    {
     "data": {
      "application/vnd.jupyter.widget-view+json": {
       "model_id": "53edf0810cff4d7aa7ab1cd21e416ec3",
       "version_major": 2,
       "version_minor": 0
      },
      "text/plain": [
       "HBox(children=(FloatProgress(value=0.0, description='trial', max=1.0, style=ProgressStyle(description_width='i…"
      ]
     },
     "metadata": {},
     "output_type": "display_data"
    },
    {
     "name": "stdout",
     "output_type": "stream",
     "text": [
      "{'experimentName': 'HGNN_sweep', 'modelName': 'models/444b276533cb53e135a171d585abda7ed4e63ac227046d7e4fc684fc', 'datasetName': 'datasplits/7c7513bdfb4e5577fef1c3ec0fa6452d30d87dbc95f258a7c86dd76b', 'experimentHash': 'a180177ed5de076e686d0721e979aee14ac790c6eb8fe8ea7549ceb4', 'trialHash': '444b276533cb53e135a171d585abda7ed4e63ac227046d7e4fc684fc', 'adaptive_alpha': 0.6565271204126528, 'adaptive_lambda': 0.045794255902816466, 'adaptive_smoothing': False, 'augmented': True, 'batchSize': 16, 'fc_layers': 1, 'image_path': 'Curated4/Easy_50', 'img_res': 448, 'lambda': 0.007051822400528748, 'learning_rate': 8.997367294442103e-05, 'link_layer': 'avgpool', 'modelType': 'HGNN_add', 'noSpeciesBackprop': True, 'numOfTrials': 1, 'suffix': None, 'tl_model': 'ResNet18', 'unsupervisedOnTest': False}\n"
     ]
    },
    {
     "name": "stderr",
     "output_type": "stream",
     "text": [
      "\r",
      "iteration:   0%|          | 0/500 [00:00<?, ?it/s]"
     ]
    },
    {
     "name": "stdout",
     "output_type": "stream",
     "text": [
      "Training started...\n"
     ]
    },
    {
     "name": "stderr",
     "output_type": "stream",
     "text": [
      "iteration:   6%|▌         | 29/500 [22:27<6:01:29, 46.05s/it, min_val_loss=1.14, train=1, val=0.854, val_loss=3.13]    "
     ]
    },
    {
     "name": "stdout",
     "output_type": "stream",
     "text": [
      "Early stopping\n",
      "total number of epochs:  28\n"
     ]
    },
    {
     "name": "stderr",
     "output_type": "stream",
     "text": [
      "iteration:   6%|▌         | 29/500 [22:29<6:05:15, 46.53s/it, min_val_loss=1.14, train=1, val=0.854, val_loss=3.13]\n"
     ]
    },
    {
     "data": {
      "text/html": [
       "<br/>Waiting for W&B process to finish, PID 44518<br/>Program ended successfully."
      ],
      "text/plain": [
       "<IPython.core.display.HTML object>"
      ]
     },
     "metadata": {},
     "output_type": "display_data"
    },
    {
     "data": {
      "application/vnd.jupyter.widget-view+json": {
       "model_id": "",
       "version_major": 2,
       "version_minor": 0
      },
      "text/plain": [
       "VBox(children=(Label(value=' 0.00MB of 0.00MB uploaded (0.00MB deduped)\\r'), FloatProgress(value=1.0, max=1.0)…"
      ]
     },
     "metadata": {},
     "output_type": "display_data"
    },
    {
     "data": {
      "text/html": [
       "Find user logs for this run at: <code>/home/elhamod/HGNN/code/HGNN/HGNN/train/wandb/run-20210106_010853-4ojyopof/logs/debug.log</code>"
      ],
      "text/plain": [
       "<IPython.core.display.HTML object>"
      ]
     },
     "metadata": {},
     "output_type": "display_data"
    },
    {
     "data": {
      "text/html": [
       "Find internal logs for this run at: <code>/home/elhamod/HGNN/code/HGNN/HGNN/train/wandb/run-20210106_010853-4ojyopof/logs/debug-internal.log</code>"
      ],
      "text/plain": [
       "<IPython.core.display.HTML object>"
      ]
     },
     "metadata": {},
     "output_type": "display_data"
    },
    {
     "data": {
      "text/html": [
       "<h3>Run summary:</h3><br/><style>\n",
       "    table.wandb td:nth-child(1) { padding: 0 10px; text-align: right }\n",
       "    </style><table class=\"wandb\">\n",
       "<tr><td>loss</td><td>0.96223</td></tr><tr><td>batch</td><td>2203</td></tr><tr><td>epoch</td><td>28</td></tr><tr><td>loss_fine</td><td>0.95621</td></tr><tr><td>loss_coarse</td><td>0.85343</td></tr><tr><td>lambda_fine</td><td>1</td></tr><tr><td>lambda_coarse</td><td>0.00705</td></tr><tr><td>_step</td><td>2232</td></tr><tr><td>_runtime</td><td>1349</td></tr><tr><td>_timestamp</td><td>1609914682</td></tr><tr><td>validation_fine_f1</td><td>0.85384</td></tr><tr><td>training_fine_f1</td><td>1.0</td></tr><tr><td>validation_loss</td><td>3.12869</td></tr></table>"
      ],
      "text/plain": [
       "<IPython.core.display.HTML object>"
      ]
     },
     "metadata": {},
     "output_type": "display_data"
    },
    {
     "data": {
      "text/html": [
       "<h3>Run history:</h3><br/><style>\n",
       "    table.wandb td:nth-child(1) { padding: 0 10px; text-align: right }\n",
       "    </style><table class=\"wandb\">\n",
       "<tr><td>loss</td><td>█▆▄▃▃▃▃▂▂▂▂▂▂▂▂▃▂▂▂▂▂▁▂▂▂▁▁▂▁▂▁▂▃▁▂▂▁▁▂▂</td></tr><tr><td>batch</td><td>▁▁▁▂▂▂▂▂▂▃▃▃▃▃▄▄▄▄▄▄▅▅▅▅▅▅▆▆▆▆▆▇▇▇▇▇▇███</td></tr><tr><td>epoch</td><td>▁▁▁▁▁▂▂▂▂▃▃▃▃▃▃▄▄▄▄▅▅▅▅▅▅▅▆▆▆▆▇▇▇▇▇▇▇███</td></tr><tr><td>loss_fine</td><td>█▆▄▃▃▃▃▂▂▂▂▂▂▂▂▃▂▂▂▂▂▁▂▂▂▁▁▂▁▂▁▂▃▁▂▂▁▁▂▂</td></tr><tr><td>loss_coarse</td><td>▅▄▄▃▃▅▂▃▄▃▅▄▃▅▂▃▂▃▃▁▄▃▂▅▄▄▃▄▂▃▂▂█▃▂▃▃▂▂▃</td></tr><tr><td>lambda_fine</td><td>▁▁▁▁▁▁▁▁▁▁▁▁▁▁▁▁▁▁▁▁▁▁▁▁▁▁▁▁▁▁▁▁▁▁▁▁▁▁▁▁</td></tr><tr><td>lambda_coarse</td><td>▁▁▁▁▁▁▁▁▁▁▁▁▁▁▁▁▁▁▁▁▁▁▁▁▁▁▁▁▁▁▁▁▁▁▁▁▁▁▁▁</td></tr><tr><td>_step</td><td>▁▁▁▂▂▂▂▂▂▃▃▃▃▃▃▄▄▄▄▄▅▅▅▅▅▅▆▆▆▆▆▇▇▇▇▇▇███</td></tr><tr><td>_runtime</td><td>▁▁▁▂▂▂▂▂▂▃▃▃▃▃▄▄▄▄▄▄▅▅▅▅▅▅▆▆▆▆▆▇▇▇▇▇▇███</td></tr><tr><td>_timestamp</td><td>▁▁▁▂▂▂▂▂▂▃▃▃▃▃▄▄▄▄▄▄▅▅▅▅▅▅▆▆▆▆▆▇▇▇▇▇▇███</td></tr><tr><td>validation_fine_f1</td><td>▁▅▆▆▆▆▇▇▇▇▇▇▇▇▇▇▇█▇▇██▇█▇▇█▇█</td></tr><tr><td>training_fine_f1</td><td>▁▆▇██████████████████████████</td></tr><tr><td>validation_loss</td><td>█▆▅▄▄▃▃▂▂▂▂▃▁▂▂▂▂▂▁▃▂▂▁▁▁▁▂▂▁</td></tr></table><br/>"
      ],
      "text/plain": [
       "<IPython.core.display.HTML object>"
      ]
     },
     "metadata": {},
     "output_type": "display_data"
    },
    {
     "data": {
      "text/html": [
       "Synced 5 W&B file(s), 0 media file(s), 0 artifact file(s) and 0 other file(s)"
      ],
      "text/plain": [
       "<IPython.core.display.HTML object>"
      ]
     },
     "metadata": {},
     "output_type": "display_data"
    },
    {
     "data": {
      "text/html": [
       "\n",
       "                    <br/>Synced <strong style=\"color:#cdcd00\">genial-sweep-10</strong>: <a href=\"https://wandb.ai/mndhamod/HGNN_sweep/runs/4ojyopof\" target=\"_blank\">https://wandb.ai/mndhamod/HGNN_sweep/runs/4ojyopof</a><br/>\n",
       "                "
      ],
      "text/plain": [
       "<IPython.core.display.HTML object>"
      ]
     },
     "metadata": {},
     "output_type": "display_data"
    },
    {
     "name": "stdout",
     "output_type": "stream",
     "text": [
      "\n"
     ]
    },
    {
     "name": "stderr",
     "output_type": "stream",
     "text": [
      "\u001b[34m\u001b[1mwandb\u001b[0m: Agent Starting Run: zbnn14pw with config:\n",
      "\u001b[34m\u001b[1mwandb\u001b[0m: \tadaptive_alpha: 0.7374697368805673\n",
      "\u001b[34m\u001b[1mwandb\u001b[0m: \tadaptive_lambda: 0.06991140367584606\n",
      "\u001b[34m\u001b[1mwandb\u001b[0m: \tadaptive_smoothing: True\n",
      "\u001b[34m\u001b[1mwandb\u001b[0m: \taugmented: True\n",
      "\u001b[34m\u001b[1mwandb\u001b[0m: \tbatchSize: 64\n",
      "\u001b[34m\u001b[1mwandb\u001b[0m: \tfc_layers: 1\n",
      "\u001b[34m\u001b[1mwandb\u001b[0m: \timage_path: Curated4/Easy_50\n",
      "\u001b[34m\u001b[1mwandb\u001b[0m: \timg_res: 448\n",
      "\u001b[34m\u001b[1mwandb\u001b[0m: \tlambda: 0.02179936600098355\n",
      "\u001b[34m\u001b[1mwandb\u001b[0m: \tlearning_rate: 7.07045212647273e-05\n",
      "\u001b[34m\u001b[1mwandb\u001b[0m: \tlink_layer: avgpool\n",
      "\u001b[34m\u001b[1mwandb\u001b[0m: \tmodelType: HGNN_add\n",
      "\u001b[34m\u001b[1mwandb\u001b[0m: \tnoSpeciesBackprop: True\n",
      "\u001b[34m\u001b[1mwandb\u001b[0m: \tnumOfTrials: 1\n",
      "\u001b[34m\u001b[1mwandb\u001b[0m: \tsuffix: None\n",
      "\u001b[34m\u001b[1mwandb\u001b[0m: \ttl_model: ResNet18\n",
      "\u001b[34m\u001b[1mwandb\u001b[0m: \tunsupervisedOnTest: False\n"
     ]
    },
    {
     "data": {
      "text/html": [
       "\n",
       "                Tracking run with wandb version 0.10.12<br/>\n",
       "                Syncing run <strong style=\"color:#cdcd00\">peach-sweep-11</strong> to <a href=\"https://wandb.ai\" target=\"_blank\">Weights & Biases</a> <a href=\"https://docs.wandb.com/integrations/jupyter.html\" target=\"_blank\">(Documentation)</a>.<br/>\n",
       "                Project page: <a href=\"https://wandb.ai/mndhamod/HGNN_sweep\" target=\"_blank\">https://wandb.ai/mndhamod/HGNN_sweep</a><br/>\n",
       "                Sweep page: <a href=\"https://wandb.ai/mndhamod/HGNN_sweep/sweeps/7uhr6dty\" target=\"_blank\">https://wandb.ai/mndhamod/HGNN_sweep/sweeps/7uhr6dty</a><br/>\n",
       "Run page: <a href=\"https://wandb.ai/mndhamod/HGNN_sweep/runs/zbnn14pw\" target=\"_blank\">https://wandb.ai/mndhamod/HGNN_sweep/runs/zbnn14pw</a><br/>\n",
       "                Run data is saved locally in <code>/home/elhamod/HGNN/code/HGNN/HGNN/train/wandb/run-20210106_013130-zbnn14pw</code><br/><br/>\n",
       "            "
      ],
      "text/plain": [
       "<IPython.core.display.HTML object>"
      ]
     },
     "metadata": {},
     "output_type": "display_data"
    },
    {
     "name": "stdout",
     "output_type": "stream",
     "text": [
      "{'adaptive_alpha': 0.7374697368805673, 'adaptive_lambda': 0.06991140367584606, 'adaptive_smoothing': True, 'augmented': True, 'batchSize': 64, 'fc_layers': 1, 'image_path': 'Curated4/Easy_50', 'img_res': 448, 'lambda': 0.02179936600098355, 'learning_rate': 7.07045212647273e-05, 'link_layer': 'avgpool', 'modelType': 'HGNN_add', 'noSpeciesBackprop': True, 'numOfTrials': 1, 'suffix': None, 'tl_model': 'ResNet18', 'unsupervisedOnTest': False}\n",
      "Creating datasets...\n",
      "Creating datasets... Done.\n",
      "Creating loaders...\n",
      "Creating loaders... Done.\n"
     ]
    },
    {
     "data": {
      "application/vnd.jupyter.widget-view+json": {
       "model_id": "b715fe87d84d410593756db561bc37d6",
       "version_major": 2,
       "version_minor": 0
      },
      "text/plain": [
       "HBox(children=(FloatProgress(value=0.0, description='trial', max=1.0, style=ProgressStyle(description_width='i…"
      ]
     },
     "metadata": {},
     "output_type": "display_data"
    },
    {
     "name": "stdout",
     "output_type": "stream",
     "text": [
      "{'experimentName': 'HGNN_sweep', 'modelName': 'models/915d77e8cf8a710405d2c61ae9a9aed3b19c8c8ff663aefe3b13943c', 'datasetName': 'datasplits/7c7513bdfb4e5577fef1c3ec0fa6452d30d87dbc95f258a7c86dd76b', 'experimentHash': '7f79ed5e54fc6e43f4b12de0d760d092a0cf2ac9de1bbb12468aaefc', 'trialHash': '915d77e8cf8a710405d2c61ae9a9aed3b19c8c8ff663aefe3b13943c', 'adaptive_alpha': 0.7374697368805673, 'adaptive_lambda': 0.06991140367584606, 'adaptive_smoothing': True, 'augmented': True, 'batchSize': 64, 'fc_layers': 1, 'image_path': 'Curated4/Easy_50', 'img_res': 448, 'lambda': 0.02179936600098355, 'learning_rate': 7.07045212647273e-05, 'link_layer': 'avgpool', 'modelType': 'HGNN_add', 'noSpeciesBackprop': True, 'numOfTrials': 1, 'suffix': None, 'tl_model': 'ResNet18', 'unsupervisedOnTest': False}\n"
     ]
    },
    {
     "name": "stderr",
     "output_type": "stream",
     "text": [
      "\r",
      "iteration:   0%|          | 0/500 [00:00<?, ?it/s]"
     ]
    },
    {
     "name": "stdout",
     "output_type": "stream",
     "text": [
      "Training started...\n"
     ]
    },
    {
     "name": "stderr",
     "output_type": "stream",
     "text": [
      "iteration:   3%|▎         | 14/500 [13:42<7:47:26, 57.71s/it, min_val_loss=1.19, train=0.999, val=0.84, val_loss=3.23] "
     ]
    },
    {
     "name": "stdout",
     "output_type": "stream",
     "text": [
      "Early stopping\n",
      "total number of epochs:  13\n"
     ]
    },
    {
     "name": "stderr",
     "output_type": "stream",
     "text": [
      "iteration:   3%|▎         | 14/500 [13:44<7:57:15, 58.92s/it, min_val_loss=1.19, train=0.999, val=0.84, val_loss=3.23]\n"
     ]
    },
    {
     "data": {
      "text/html": [
       "<br/>Waiting for W&B process to finish, PID 52977<br/>Program ended successfully."
      ],
      "text/plain": [
       "<IPython.core.display.HTML object>"
      ]
     },
     "metadata": {},
     "output_type": "display_data"
    },
    {
     "data": {
      "application/vnd.jupyter.widget-view+json": {
       "model_id": "",
       "version_major": 2,
       "version_minor": 0
      },
      "text/plain": [
       "VBox(children=(Label(value=' 0.00MB of 0.00MB uploaded (0.00MB deduped)\\r'), FloatProgress(value=1.0, max=1.0)…"
      ]
     },
     "metadata": {},
     "output_type": "display_data"
    },
    {
     "data": {
      "text/html": [
       "Find user logs for this run at: <code>/home/elhamod/HGNN/code/HGNN/HGNN/train/wandb/run-20210106_013130-zbnn14pw/logs/debug.log</code>"
      ],
      "text/plain": [
       "<IPython.core.display.HTML object>"
      ]
     },
     "metadata": {},
     "output_type": "display_data"
    },
    {
     "data": {
      "text/html": [
       "Find internal logs for this run at: <code>/home/elhamod/HGNN/code/HGNN/HGNN/train/wandb/run-20210106_013130-zbnn14pw/logs/debug-internal.log</code>"
      ],
      "text/plain": [
       "<IPython.core.display.HTML object>"
      ]
     },
     "metadata": {},
     "output_type": "display_data"
    },
    {
     "data": {
      "text/html": [
       "<h3>Run summary:</h3><br/><style>\n",
       "    table.wandb td:nth-child(1) { padding: 0 10px; text-align: right }\n",
       "    </style><table class=\"wandb\">\n",
       "<tr><td>loss</td><td>0.56311</td></tr><tr><td>batch</td><td>265</td></tr><tr><td>epoch</td><td>13</td></tr><tr><td>loss_fine</td><td>0.50664</td></tr><tr><td>loss_coarse</td><td>1.01062</td></tr><tr><td>lambda_fine</td><td>0.88795</td></tr><tr><td>lambda_coarse</td><td>0.11205</td></tr><tr><td>_step</td><td>279</td></tr><tr><td>_runtime</td><td>824</td></tr><tr><td>_timestamp</td><td>1609915514</td></tr><tr><td>validation_fine_f1</td><td>0.83954</td></tr><tr><td>training_fine_f1</td><td>0.99918</td></tr><tr><td>validation_loss</td><td>3.22686</td></tr></table>"
      ],
      "text/plain": [
       "<IPython.core.display.HTML object>"
      ]
     },
     "metadata": {},
     "output_type": "display_data"
    },
    {
     "data": {
      "text/html": [
       "<h3>Run history:</h3><br/><style>\n",
       "    table.wandb td:nth-child(1) { padding: 0 10px; text-align: right }\n",
       "    </style><table class=\"wandb\">\n",
       "<tr><td>loss</td><td>█▇▇▅▅▅▄▄▄▃▃▃▃▂▂▂▂▂▂▂▁▁▂▁▂▁▁▁▂▁▁▁▁▁▁▁▁▁▁▁</td></tr><tr><td>batch</td><td>▁▁▁▂▂▂▂▂▂▃▃▃▃▃▃▄▄▄▄▄▅▅▅▅▅▅▆▆▆▆▆▆▇▇▇▇▇███</td></tr><tr><td>epoch</td><td>▁▁▁▂▂▂▂▂▂▃▃▃▃▃▃▄▄▄▄▄▅▅▅▅▅▅▆▆▆▆▆▆▇▇▇▇▇███</td></tr><tr><td>loss_fine</td><td>██▇▅▆▅▄▄▄▃▃▃▃▃▂▂▂▂▂▂▁▁▂▁▂▁▁▁▂▁▁▁▁▁▁▁▁▁▁▁</td></tr><tr><td>loss_coarse</td><td>█▆▅▃▄▄▃▂▃▂▂▃▂▃▃▂▃▂▂▂▂▂▂▂▃▃▁▂▂▃▂▃▂▂▃▂▂▃▂▃</td></tr><tr><td>lambda_fine</td><td>█▄▂▁▃▃▂▂▄▂▃▆▄▄▆▅▆▅▄▄▅▅▆▅▇▆▃▆▄▇▅▇▅▆▇▅▆▇▅█</td></tr><tr><td>lambda_coarse</td><td>▁▅▇█▆▆▇▇▅▇▆▃▅▅▃▄▃▄▅▅▄▄▃▄▂▃▆▃▅▂▄▂▄▃▂▄▃▂▄▁</td></tr><tr><td>_step</td><td>▁▁▁▂▂▂▂▂▂▃▃▃▃▃▃▄▄▄▄▄▅▅▅▅▅▅▆▆▆▆▆▆▇▇▇▇▇███</td></tr><tr><td>_runtime</td><td>▁▁▁▁▂▂▂▂▂▃▃▃▃▃▃▄▄▄▄▄▅▅▅▅▅▆▆▆▆▆▆▇▇▇▇▇▇███</td></tr><tr><td>_timestamp</td><td>▁▁▁▁▂▂▂▂▂▃▃▃▃▃▃▄▄▄▄▄▅▅▅▅▅▆▆▆▆▆▆▇▇▇▇▇▇███</td></tr><tr><td>validation_fine_f1</td><td>▁▃▅▇▇▇▇███████</td></tr><tr><td>training_fine_f1</td><td>▁▄▆▇██████████</td></tr><tr><td>validation_loss</td><td>█▆▅▄▃▃▂▂▂▂▁▁▁▁</td></tr></table><br/>"
      ],
      "text/plain": [
       "<IPython.core.display.HTML object>"
      ]
     },
     "metadata": {},
     "output_type": "display_data"
    },
    {
     "data": {
      "text/html": [
       "Synced 5 W&B file(s), 0 media file(s), 0 artifact file(s) and 0 other file(s)"
      ],
      "text/plain": [
       "<IPython.core.display.HTML object>"
      ]
     },
     "metadata": {},
     "output_type": "display_data"
    },
    {
     "data": {
      "text/html": [
       "\n",
       "                    <br/>Synced <strong style=\"color:#cdcd00\">peach-sweep-11</strong>: <a href=\"https://wandb.ai/mndhamod/HGNN_sweep/runs/zbnn14pw\" target=\"_blank\">https://wandb.ai/mndhamod/HGNN_sweep/runs/zbnn14pw</a><br/>\n",
       "                "
      ],
      "text/plain": [
       "<IPython.core.display.HTML object>"
      ]
     },
     "metadata": {},
     "output_type": "display_data"
    },
    {
     "name": "stdout",
     "output_type": "stream",
     "text": [
      "\n"
     ]
    },
    {
     "name": "stderr",
     "output_type": "stream",
     "text": [
      "\u001b[34m\u001b[1mwandb\u001b[0m: Agent Starting Run: 84vm1c9y with config:\n",
      "\u001b[34m\u001b[1mwandb\u001b[0m: \tadaptive_alpha: 0.5726276358598463\n",
      "\u001b[34m\u001b[1mwandb\u001b[0m: \tadaptive_lambda: 0.030507802919393104\n",
      "\u001b[34m\u001b[1mwandb\u001b[0m: \tadaptive_smoothing: False\n",
      "\u001b[34m\u001b[1mwandb\u001b[0m: \taugmented: True\n",
      "\u001b[34m\u001b[1mwandb\u001b[0m: \tbatchSize: 16\n",
      "\u001b[34m\u001b[1mwandb\u001b[0m: \tfc_layers: 2\n",
      "\u001b[34m\u001b[1mwandb\u001b[0m: \timage_path: Curated4/Easy_50\n",
      "\u001b[34m\u001b[1mwandb\u001b[0m: \timg_res: 448\n",
      "\u001b[34m\u001b[1mwandb\u001b[0m: \tlambda: 0.012004316592186131\n",
      "\u001b[34m\u001b[1mwandb\u001b[0m: \tlearning_rate: 5.2205689746460264e-05\n",
      "\u001b[34m\u001b[1mwandb\u001b[0m: \tlink_layer: avgpool\n",
      "\u001b[34m\u001b[1mwandb\u001b[0m: \tmodelType: HGNN_add\n",
      "\u001b[34m\u001b[1mwandb\u001b[0m: \tnoSpeciesBackprop: True\n",
      "\u001b[34m\u001b[1mwandb\u001b[0m: \tnumOfTrials: 1\n",
      "\u001b[34m\u001b[1mwandb\u001b[0m: \tsuffix: None\n",
      "\u001b[34m\u001b[1mwandb\u001b[0m: \ttl_model: ResNet18\n",
      "\u001b[34m\u001b[1mwandb\u001b[0m: \tunsupervisedOnTest: False\n"
     ]
    },
    {
     "data": {
      "text/html": [
       "\n",
       "                Tracking run with wandb version 0.10.12<br/>\n",
       "                Syncing run <strong style=\"color:#cdcd00\">eager-sweep-12</strong> to <a href=\"https://wandb.ai\" target=\"_blank\">Weights & Biases</a> <a href=\"https://docs.wandb.com/integrations/jupyter.html\" target=\"_blank\">(Documentation)</a>.<br/>\n",
       "                Project page: <a href=\"https://wandb.ai/mndhamod/HGNN_sweep\" target=\"_blank\">https://wandb.ai/mndhamod/HGNN_sweep</a><br/>\n",
       "                Sweep page: <a href=\"https://wandb.ai/mndhamod/HGNN_sweep/sweeps/7uhr6dty\" target=\"_blank\">https://wandb.ai/mndhamod/HGNN_sweep/sweeps/7uhr6dty</a><br/>\n",
       "Run page: <a href=\"https://wandb.ai/mndhamod/HGNN_sweep/runs/84vm1c9y\" target=\"_blank\">https://wandb.ai/mndhamod/HGNN_sweep/runs/84vm1c9y</a><br/>\n",
       "                Run data is saved locally in <code>/home/elhamod/HGNN/code/HGNN/HGNN/train/wandb/run-20210106_014522-84vm1c9y</code><br/><br/>\n",
       "            "
      ],
      "text/plain": [
       "<IPython.core.display.HTML object>"
      ]
     },
     "metadata": {},
     "output_type": "display_data"
    },
    {
     "name": "stdout",
     "output_type": "stream",
     "text": [
      "{'adaptive_alpha': 0.5726276358598463, 'adaptive_lambda': 0.030507802919393104, 'adaptive_smoothing': False, 'augmented': True, 'batchSize': 16, 'fc_layers': 2, 'image_path': 'Curated4/Easy_50', 'img_res': 448, 'lambda': 0.012004316592186131, 'learning_rate': 5.2205689746460264e-05, 'link_layer': 'avgpool', 'modelType': 'HGNN_add', 'noSpeciesBackprop': True, 'numOfTrials': 1, 'suffix': None, 'tl_model': 'ResNet18', 'unsupervisedOnTest': False}\n",
      "Creating datasets...\n",
      "Creating datasets... Done.\n",
      "Creating loaders...\n",
      "Creating loaders... Done.\n"
     ]
    },
    {
     "data": {
      "application/vnd.jupyter.widget-view+json": {
       "model_id": "e231361246294b43b958ed0f50a2c9e9",
       "version_major": 2,
       "version_minor": 0
      },
      "text/plain": [
       "HBox(children=(FloatProgress(value=0.0, description='trial', max=1.0, style=ProgressStyle(description_width='i…"
      ]
     },
     "metadata": {},
     "output_type": "display_data"
    },
    {
     "name": "stdout",
     "output_type": "stream",
     "text": [
      "{'experimentName': 'HGNN_sweep', 'modelName': 'models/1e57ad4d5dd10eb2335487d1812481019a7854067680e3310f010206', 'datasetName': 'datasplits/7c7513bdfb4e5577fef1c3ec0fa6452d30d87dbc95f258a7c86dd76b', 'experimentHash': 'ed6bc7b903f45f73d197a9cc40a31260a2b21e47c228b0dc0bfcae03', 'trialHash': '1e57ad4d5dd10eb2335487d1812481019a7854067680e3310f010206', 'adaptive_alpha': 0.5726276358598463, 'adaptive_lambda': 0.030507802919393104, 'adaptive_smoothing': False, 'augmented': True, 'batchSize': 16, 'fc_layers': 2, 'image_path': 'Curated4/Easy_50', 'img_res': 448, 'lambda': 0.012004316592186131, 'learning_rate': 5.2205689746460264e-05, 'link_layer': 'avgpool', 'modelType': 'HGNN_add', 'noSpeciesBackprop': True, 'numOfTrials': 1, 'suffix': None, 'tl_model': 'ResNet18', 'unsupervisedOnTest': False}\n"
     ]
    },
    {
     "name": "stderr",
     "output_type": "stream",
     "text": [
      "\r",
      "iteration:   0%|          | 0/500 [00:00<?, ?it/s]"
     ]
    },
    {
     "name": "stdout",
     "output_type": "stream",
     "text": [
      "Training started...\n"
     ]
    },
    {
     "name": "stderr",
     "output_type": "stream",
     "text": [
      "iteration:   4%|▍         | 19/500 [14:44<6:03:07, 45.30s/it, min_val_loss=1.18, train=0.999, val=0.833, val_loss=3.16]"
     ]
    },
    {
     "name": "stdout",
     "output_type": "stream",
     "text": [
      "Early stopping\n",
      "total number of epochs:  18\n"
     ]
    },
    {
     "name": "stderr",
     "output_type": "stream",
     "text": [
      "iteration:   4%|▍         | 19/500 [14:45<6:13:48, 46.63s/it, min_val_loss=1.18, train=0.999, val=0.833, val_loss=3.16]\n"
     ]
    },
    {
     "data": {
      "text/html": [
       "<br/>Waiting for W&B process to finish, PID 57418<br/>Program ended successfully."
      ],
      "text/plain": [
       "<IPython.core.display.HTML object>"
      ]
     },
     "metadata": {},
     "output_type": "display_data"
    },
    {
     "data": {
      "application/vnd.jupyter.widget-view+json": {
       "model_id": "",
       "version_major": 2,
       "version_minor": 0
      },
      "text/plain": [
       "VBox(children=(Label(value=' 0.00MB of 0.00MB uploaded (0.00MB deduped)\\r'), FloatProgress(value=1.0, max=1.0)…"
      ]
     },
     "metadata": {},
     "output_type": "display_data"
    },
    {
     "data": {
      "text/html": [
       "Find user logs for this run at: <code>/home/elhamod/HGNN/code/HGNN/HGNN/train/wandb/run-20210106_014522-84vm1c9y/logs/debug.log</code>"
      ],
      "text/plain": [
       "<IPython.core.display.HTML object>"
      ]
     },
     "metadata": {},
     "output_type": "display_data"
    },
    {
     "data": {
      "text/html": [
       "Find internal logs for this run at: <code>/home/elhamod/HGNN/code/HGNN/HGNN/train/wandb/run-20210106_014522-84vm1c9y/logs/debug-internal.log</code>"
      ],
      "text/plain": [
       "<IPython.core.display.HTML object>"
      ]
     },
     "metadata": {},
     "output_type": "display_data"
    },
    {
     "data": {
      "text/html": [
       "<h3>Run summary:</h3><br/><style>\n",
       "    table.wandb td:nth-child(1) { padding: 0 10px; text-align: right }\n",
       "    </style><table class=\"wandb\">\n",
       "<tr><td>loss</td><td>0.99898</td></tr><tr><td>batch</td><td>1443</td></tr><tr><td>epoch</td><td>18</td></tr><tr><td>loss_fine</td><td>0.98882</td></tr><tr><td>loss_coarse</td><td>0.84611</td></tr><tr><td>lambda_fine</td><td>1</td></tr><tr><td>lambda_coarse</td><td>0.012</td></tr><tr><td>_step</td><td>1462</td></tr><tr><td>_runtime</td><td>886</td></tr><tr><td>_timestamp</td><td>1609916408</td></tr><tr><td>validation_fine_f1</td><td>0.83349</td></tr><tr><td>training_fine_f1</td><td>0.99918</td></tr><tr><td>validation_loss</td><td>3.16266</td></tr></table>"
      ],
      "text/plain": [
       "<IPython.core.display.HTML object>"
      ]
     },
     "metadata": {},
     "output_type": "display_data"
    },
    {
     "data": {
      "text/html": [
       "<h3>Run history:</h3><br/><style>\n",
       "    table.wandb td:nth-child(1) { padding: 0 10px; text-align: right }\n",
       "    </style><table class=\"wandb\">\n",
       "<tr><td>loss</td><td>█▆▅▅▄▄▄▄▃▂▃▂▂▂▂▂▂▂▂▃▁▂▂▁▁▂▁▂▂▂▁▂▁▂▂▁▁▂▁▂</td></tr><tr><td>batch</td><td>▁▁▁▁▂▂▂▂▂▃▃▃▃▃▃▄▄▄▄▄▅▅▅▅▅▅▆▆▆▆▆▇▇▇▇▇▇███</td></tr><tr><td>epoch</td><td>▁▁▁▁▂▂▂▂▂▃▃▃▃▃▃▄▄▄▄▅▅▅▅▅▅▆▆▆▆▆▆▆▇▇▇▇████</td></tr><tr><td>loss_fine</td><td>█▆▅▅▄▄▄▄▃▂▃▂▂▂▂▂▂▂▂▃▁▂▂▁▁▂▁▂▂▂▁▂▁▂▂▁▁▂▁▂</td></tr><tr><td>loss_coarse</td><td>█▅▅▅▇▄▅▆▅▂▄▄▄▄▄▂▂▄▄▃▃▄▅▃▃▄▃▃▃▂▁▃▃▄▄▄▂▅▃▂</td></tr><tr><td>lambda_fine</td><td>▁▁▁▁▁▁▁▁▁▁▁▁▁▁▁▁▁▁▁▁▁▁▁▁▁▁▁▁▁▁▁▁▁▁▁▁▁▁▁▁</td></tr><tr><td>lambda_coarse</td><td>▁▁▁▁▁▁▁▁▁▁▁▁▁▁▁▁▁▁▁▁▁▁▁▁▁▁▁▁▁▁▁▁▁▁▁▁▁▁▁▁</td></tr><tr><td>_step</td><td>▁▁▁▁▂▂▂▂▂▃▃▃▃▃▄▄▄▄▄▄▅▅▅▅▅▅▆▆▆▆▆▇▇▇▇▇████</td></tr><tr><td>_runtime</td><td>▁▁▁▁▂▂▂▂▂▃▃▃▃▃▃▄▄▄▄▄▅▅▅▅▅▆▆▆▆▆▆▇▇▇▇▇████</td></tr><tr><td>_timestamp</td><td>▁▁▁▁▂▂▂▂▂▃▃▃▃▃▃▄▄▄▄▄▅▅▅▅▅▆▆▆▆▆▆▇▇▇▇▇████</td></tr><tr><td>validation_fine_f1</td><td>▁▄▅▆▆▇▇▇▇▇█▇██▇████</td></tr><tr><td>training_fine_f1</td><td>▁▄▆▇▇██████████████</td></tr><tr><td>validation_loss</td><td>█▇▆▅▄▃▃▃▂▂▂▂▁▂▂▁▁▁▁</td></tr></table><br/>"
      ],
      "text/plain": [
       "<IPython.core.display.HTML object>"
      ]
     },
     "metadata": {},
     "output_type": "display_data"
    },
    {
     "data": {
      "text/html": [
       "Synced 5 W&B file(s), 0 media file(s), 0 artifact file(s) and 0 other file(s)"
      ],
      "text/plain": [
       "<IPython.core.display.HTML object>"
      ]
     },
     "metadata": {},
     "output_type": "display_data"
    },
    {
     "data": {
      "text/html": [
       "\n",
       "                    <br/>Synced <strong style=\"color:#cdcd00\">eager-sweep-12</strong>: <a href=\"https://wandb.ai/mndhamod/HGNN_sweep/runs/84vm1c9y\" target=\"_blank\">https://wandb.ai/mndhamod/HGNN_sweep/runs/84vm1c9y</a><br/>\n",
       "                "
      ],
      "text/plain": [
       "<IPython.core.display.HTML object>"
      ]
     },
     "metadata": {},
     "output_type": "display_data"
    },
    {
     "name": "stdout",
     "output_type": "stream",
     "text": [
      "\n"
     ]
    },
    {
     "name": "stderr",
     "output_type": "stream",
     "text": [
      "\u001b[34m\u001b[1mwandb\u001b[0m: Agent Starting Run: es52nr4f with config:\n",
      "\u001b[34m\u001b[1mwandb\u001b[0m: \tadaptive_alpha: 0.7037749578672056\n",
      "\u001b[34m\u001b[1mwandb\u001b[0m: \tadaptive_lambda: 0.08639388580972442\n",
      "\u001b[34m\u001b[1mwandb\u001b[0m: \tadaptive_smoothing: True\n",
      "\u001b[34m\u001b[1mwandb\u001b[0m: \taugmented: True\n",
      "\u001b[34m\u001b[1mwandb\u001b[0m: \tbatchSize: 32\n",
      "\u001b[34m\u001b[1mwandb\u001b[0m: \tfc_layers: 2\n",
      "\u001b[34m\u001b[1mwandb\u001b[0m: \timage_path: Curated4/Easy_50\n",
      "\u001b[34m\u001b[1mwandb\u001b[0m: \timg_res: 448\n",
      "\u001b[34m\u001b[1mwandb\u001b[0m: \tlambda: 0.009061615388634488\n",
      "\u001b[34m\u001b[1mwandb\u001b[0m: \tlearning_rate: 5.7084312544486796e-05\n",
      "\u001b[34m\u001b[1mwandb\u001b[0m: \tlink_layer: avgpool\n",
      "\u001b[34m\u001b[1mwandb\u001b[0m: \tmodelType: HGNN_add\n",
      "\u001b[34m\u001b[1mwandb\u001b[0m: \tnoSpeciesBackprop: False\n",
      "\u001b[34m\u001b[1mwandb\u001b[0m: \tnumOfTrials: 1\n",
      "\u001b[34m\u001b[1mwandb\u001b[0m: \tsuffix: None\n",
      "\u001b[34m\u001b[1mwandb\u001b[0m: \ttl_model: ResNet18\n",
      "\u001b[34m\u001b[1mwandb\u001b[0m: \tunsupervisedOnTest: False\n"
     ]
    },
    {
     "data": {
      "text/html": [
       "\n",
       "                Tracking run with wandb version 0.10.12<br/>\n",
       "                Syncing run <strong style=\"color:#cdcd00\">wandering-sweep-13</strong> to <a href=\"https://wandb.ai\" target=\"_blank\">Weights & Biases</a> <a href=\"https://docs.wandb.com/integrations/jupyter.html\" target=\"_blank\">(Documentation)</a>.<br/>\n",
       "                Project page: <a href=\"https://wandb.ai/mndhamod/HGNN_sweep\" target=\"_blank\">https://wandb.ai/mndhamod/HGNN_sweep</a><br/>\n",
       "                Sweep page: <a href=\"https://wandb.ai/mndhamod/HGNN_sweep/sweeps/7uhr6dty\" target=\"_blank\">https://wandb.ai/mndhamod/HGNN_sweep/sweeps/7uhr6dty</a><br/>\n",
       "Run page: <a href=\"https://wandb.ai/mndhamod/HGNN_sweep/runs/es52nr4f\" target=\"_blank\">https://wandb.ai/mndhamod/HGNN_sweep/runs/es52nr4f</a><br/>\n",
       "                Run data is saved locally in <code>/home/elhamod/HGNN/code/HGNN/HGNN/train/wandb/run-20210106_020017-es52nr4f</code><br/><br/>\n",
       "            "
      ],
      "text/plain": [
       "<IPython.core.display.HTML object>"
      ]
     },
     "metadata": {},
     "output_type": "display_data"
    },
    {
     "name": "stdout",
     "output_type": "stream",
     "text": [
      "{'adaptive_alpha': 0.7037749578672056, 'adaptive_lambda': 0.08639388580972442, 'adaptive_smoothing': True, 'augmented': True, 'batchSize': 32, 'fc_layers': 2, 'image_path': 'Curated4/Easy_50', 'img_res': 448, 'lambda': 0.009061615388634488, 'learning_rate': 5.7084312544486796e-05, 'link_layer': 'avgpool', 'modelType': 'HGNN_add', 'noSpeciesBackprop': False, 'numOfTrials': 1, 'suffix': None, 'tl_model': 'ResNet18', 'unsupervisedOnTest': False}\n",
      "Creating datasets...\n",
      "Creating datasets... Done.\n",
      "Creating loaders...\n",
      "Creating loaders... Done.\n"
     ]
    },
    {
     "data": {
      "application/vnd.jupyter.widget-view+json": {
       "model_id": "2bf4681da2b14b099c199c4fb965ca9e",
       "version_major": 2,
       "version_minor": 0
      },
      "text/plain": [
       "HBox(children=(FloatProgress(value=0.0, description='trial', max=1.0, style=ProgressStyle(description_width='i…"
      ]
     },
     "metadata": {},
     "output_type": "display_data"
    },
    {
     "name": "stdout",
     "output_type": "stream",
     "text": [
      "{'experimentName': 'HGNN_sweep', 'modelName': 'models/34f65938af5fc586a4f878846a79025af779ad5ddfcfe432e754b6e8', 'datasetName': 'datasplits/7c7513bdfb4e5577fef1c3ec0fa6452d30d87dbc95f258a7c86dd76b', 'experimentHash': '922597157858d7f9acaae666b691760b59763e6dbb580f7c45d2ffdf', 'trialHash': '34f65938af5fc586a4f878846a79025af779ad5ddfcfe432e754b6e8', 'adaptive_alpha': 0.7037749578672056, 'adaptive_lambda': 0.08639388580972442, 'adaptive_smoothing': True, 'augmented': True, 'batchSize': 32, 'fc_layers': 2, 'image_path': 'Curated4/Easy_50', 'img_res': 448, 'lambda': 0.009061615388634488, 'learning_rate': 5.7084312544486796e-05, 'link_layer': 'avgpool', 'modelType': 'HGNN_add', 'noSpeciesBackprop': False, 'numOfTrials': 1, 'suffix': None, 'tl_model': 'ResNet18', 'unsupervisedOnTest': False}\n"
     ]
    },
    {
     "name": "stderr",
     "output_type": "stream",
     "text": [
      "\r",
      "iteration:   0%|          | 0/500 [00:00<?, ?it/s]"
     ]
    },
    {
     "name": "stdout",
     "output_type": "stream",
     "text": [
      "Training started...\n"
     ]
    },
    {
     "name": "stderr",
     "output_type": "stream",
     "text": [
      "iteration:   5%|▍         | 23/500 [19:10<6:38:57, 50.18s/it, min_val_loss=1.21, train=1, val=0.824, val_loss=3.21]    "
     ]
    },
    {
     "name": "stdout",
     "output_type": "stream",
     "text": [
      "Early stopping\n",
      "total number of epochs:  22\n"
     ]
    },
    {
     "name": "stderr",
     "output_type": "stream",
     "text": [
      "iteration:   5%|▍         | 23/500 [19:11<6:38:07, 50.08s/it, min_val_loss=1.21, train=1, val=0.824, val_loss=3.21]\n"
     ]
    },
    {
     "data": {
      "text/html": [
       "<br/>Waiting for W&B process to finish, PID 63284<br/>Program ended successfully."
      ],
      "text/plain": [
       "<IPython.core.display.HTML object>"
      ]
     },
     "metadata": {},
     "output_type": "display_data"
    },
    {
     "data": {
      "application/vnd.jupyter.widget-view+json": {
       "model_id": "",
       "version_major": 2,
       "version_minor": 0
      },
      "text/plain": [
       "VBox(children=(Label(value=' 0.00MB of 0.00MB uploaded (0.00MB deduped)\\r'), FloatProgress(value=1.0, max=1.0)…"
      ]
     },
     "metadata": {},
     "output_type": "display_data"
    },
    {
     "data": {
      "text/html": [
       "Find user logs for this run at: <code>/home/elhamod/HGNN/code/HGNN/HGNN/train/wandb/run-20210106_020017-es52nr4f/logs/debug.log</code>"
      ],
      "text/plain": [
       "<IPython.core.display.HTML object>"
      ]
     },
     "metadata": {},
     "output_type": "display_data"
    },
    {
     "data": {
      "text/html": [
       "Find internal logs for this run at: <code>/home/elhamod/HGNN/code/HGNN/HGNN/train/wandb/run-20210106_020017-es52nr4f/logs/debug-internal.log</code>"
      ],
      "text/plain": [
       "<IPython.core.display.HTML object>"
      ]
     },
     "metadata": {},
     "output_type": "display_data"
    },
    {
     "data": {
      "text/html": [
       "<h3>Run summary:</h3><br/><style>\n",
       "    table.wandb td:nth-child(1) { padding: 0 10px; text-align: right }\n",
       "    </style><table class=\"wandb\">\n",
       "<tr><td>loss</td><td>0.53195</td></tr><tr><td>batch</td><td>873</td></tr><tr><td>epoch</td><td>22</td></tr><tr><td>loss_fine</td><td>0.51442</td></tr><tr><td>loss_coarse</td><td>0.64259</td></tr><tr><td>lambda_fine</td><td>0.86326</td></tr><tr><td>lambda_coarse</td><td>0.13674</td></tr><tr><td>_step</td><td>896</td></tr><tr><td>_runtime</td><td>1153</td></tr><tr><td>_timestamp</td><td>1609917570</td></tr><tr><td>validation_fine_f1</td><td>0.82415</td></tr><tr><td>training_fine_f1</td><td>1.0</td></tr><tr><td>validation_loss</td><td>3.21407</td></tr></table>"
      ],
      "text/plain": [
       "<IPython.core.display.HTML object>"
      ]
     },
     "metadata": {},
     "output_type": "display_data"
    },
    {
     "data": {
      "text/html": [
       "<h3>Run history:</h3><br/><style>\n",
       "    table.wandb td:nth-child(1) { padding: 0 10px; text-align: right }\n",
       "    </style><table class=\"wandb\">\n",
       "<tr><td>loss</td><td>█▆▅▄▄▄▃▂▃▂▂▂▂▂▂▂▂▂▂▂▁▂▁▁▂▁▁▁▂▁▁▂▁▂▁▁▁▂▁▁</td></tr><tr><td>batch</td><td>▁▁▁▂▂▂▂▂▂▃▃▃▃▃▃▄▄▄▄▄▅▅▅▅▅▅▆▆▆▆▆▇▇▇▇▇▇███</td></tr><tr><td>epoch</td><td>▁▁▁▁▂▂▂▂▂▃▃▃▃▃▄▄▄▄▄▅▅▅▅▅▅▅▆▆▆▆▆▇▇▇▇▇████</td></tr><tr><td>loss_fine</td><td>█▇▅▄▄▄▃▂▂▂▂▂▂▂▂▂▂▂▂▂▁▂▁▁▂▂▁▂▂▁▁▂▁▂▁▁▁▂▁▁</td></tr><tr><td>loss_coarse</td><td>█▆▅▄▄▄▂▂▄▂▂▂▂▂▂▂▃▂▁▃▃▂▁▂▂▁▂▂▂▂▃▃▂▃▂▃▁▂▂▃</td></tr><tr><td>lambda_fine</td><td>█▅▆▅▃▄▁▂▆▃▃▃▂▂▃▂▅▃▁▄▆▄▁▄▂▂▃▃▃▃▆▄▄▄▄▅▁▃▃▆</td></tr><tr><td>lambda_coarse</td><td>▁▄▃▄▆▅█▇▃▆▆▆▇▇▆▇▄▆█▅▃▅█▅▇▇▆▆▆▆▃▅▅▅▅▄█▆▆▃</td></tr><tr><td>_step</td><td>▁▁▁▂▂▂▂▂▂▃▃▃▃▃▃▄▄▄▄▄▅▅▅▅▅▅▆▆▆▆▆▇▇▇▇▇▇███</td></tr><tr><td>_runtime</td><td>▁▁▁▁▂▂▂▂▂▃▃▃▃▃▄▄▄▄▄▄▅▅▅▅▅▅▆▆▆▆▆▇▇▇▇▇████</td></tr><tr><td>_timestamp</td><td>▁▁▁▁▂▂▂▂▂▃▃▃▃▃▄▄▄▄▄▄▅▅▅▅▅▅▆▆▆▆▆▇▇▇▇▇████</td></tr><tr><td>validation_fine_f1</td><td>▁▄▅▆▇▇▇▇▇██▇▇██████████</td></tr><tr><td>training_fine_f1</td><td>▁▅▇████████████████████</td></tr><tr><td>validation_loss</td><td>█▆▅▄▃▃▂▂▂▂▂▂▂▁▁▁▁▁▁▁▁▁▁</td></tr></table><br/>"
      ],
      "text/plain": [
       "<IPython.core.display.HTML object>"
      ]
     },
     "metadata": {},
     "output_type": "display_data"
    },
    {
     "data": {
      "text/html": [
       "Synced 5 W&B file(s), 0 media file(s), 0 artifact file(s) and 0 other file(s)"
      ],
      "text/plain": [
       "<IPython.core.display.HTML object>"
      ]
     },
     "metadata": {},
     "output_type": "display_data"
    },
    {
     "data": {
      "text/html": [
       "\n",
       "                    <br/>Synced <strong style=\"color:#cdcd00\">wandering-sweep-13</strong>: <a href=\"https://wandb.ai/mndhamod/HGNN_sweep/runs/es52nr4f\" target=\"_blank\">https://wandb.ai/mndhamod/HGNN_sweep/runs/es52nr4f</a><br/>\n",
       "                "
      ],
      "text/plain": [
       "<IPython.core.display.HTML object>"
      ]
     },
     "metadata": {},
     "output_type": "display_data"
    },
    {
     "name": "stdout",
     "output_type": "stream",
     "text": [
      "\n"
     ]
    },
    {
     "name": "stderr",
     "output_type": "stream",
     "text": [
      "\u001b[34m\u001b[1mwandb\u001b[0m: Agent Starting Run: csnq53zp with config:\n",
      "\u001b[34m\u001b[1mwandb\u001b[0m: \tadaptive_alpha: 0.7863194685354449\n",
      "\u001b[34m\u001b[1mwandb\u001b[0m: \tadaptive_lambda: 0.03935847076466888\n",
      "\u001b[34m\u001b[1mwandb\u001b[0m: \tadaptive_smoothing: True\n",
      "\u001b[34m\u001b[1mwandb\u001b[0m: \taugmented: True\n",
      "\u001b[34m\u001b[1mwandb\u001b[0m: \tbatchSize: 32\n",
      "\u001b[34m\u001b[1mwandb\u001b[0m: \tfc_layers: 1\n",
      "\u001b[34m\u001b[1mwandb\u001b[0m: \timage_path: Curated4/Easy_50\n",
      "\u001b[34m\u001b[1mwandb\u001b[0m: \timg_res: 448\n",
      "\u001b[34m\u001b[1mwandb\u001b[0m: \tlambda: 0.011111554186745176\n",
      "\u001b[34m\u001b[1mwandb\u001b[0m: \tlearning_rate: 8.135430978864537e-05\n",
      "\u001b[34m\u001b[1mwandb\u001b[0m: \tlink_layer: avgpool\n",
      "\u001b[34m\u001b[1mwandb\u001b[0m: \tmodelType: HGNN_add\n",
      "\u001b[34m\u001b[1mwandb\u001b[0m: \tnoSpeciesBackprop: False\n",
      "\u001b[34m\u001b[1mwandb\u001b[0m: \tnumOfTrials: 1\n",
      "\u001b[34m\u001b[1mwandb\u001b[0m: \tsuffix: None\n",
      "\u001b[34m\u001b[1mwandb\u001b[0m: \ttl_model: ResNet18\n",
      "\u001b[34m\u001b[1mwandb\u001b[0m: \tunsupervisedOnTest: False\n"
     ]
    },
    {
     "data": {
      "text/html": [
       "\n",
       "                Tracking run with wandb version 0.10.12<br/>\n",
       "                Syncing run <strong style=\"color:#cdcd00\">woven-sweep-14</strong> to <a href=\"https://wandb.ai\" target=\"_blank\">Weights & Biases</a> <a href=\"https://docs.wandb.com/integrations/jupyter.html\" target=\"_blank\">(Documentation)</a>.<br/>\n",
       "                Project page: <a href=\"https://wandb.ai/mndhamod/HGNN_sweep\" target=\"_blank\">https://wandb.ai/mndhamod/HGNN_sweep</a><br/>\n",
       "                Sweep page: <a href=\"https://wandb.ai/mndhamod/HGNN_sweep/sweeps/7uhr6dty\" target=\"_blank\">https://wandb.ai/mndhamod/HGNN_sweep/sweeps/7uhr6dty</a><br/>\n",
       "Run page: <a href=\"https://wandb.ai/mndhamod/HGNN_sweep/runs/csnq53zp\" target=\"_blank\">https://wandb.ai/mndhamod/HGNN_sweep/runs/csnq53zp</a><br/>\n",
       "                Run data is saved locally in <code>/home/elhamod/HGNN/code/HGNN/HGNN/train/wandb/run-20210106_021936-csnq53zp</code><br/><br/>\n",
       "            "
      ],
      "text/plain": [
       "<IPython.core.display.HTML object>"
      ]
     },
     "metadata": {},
     "output_type": "display_data"
    },
    {
     "name": "stdout",
     "output_type": "stream",
     "text": [
      "{'adaptive_alpha': 0.7863194685354449, 'adaptive_lambda': 0.03935847076466888, 'adaptive_smoothing': True, 'augmented': True, 'batchSize': 32, 'fc_layers': 1, 'image_path': 'Curated4/Easy_50', 'img_res': 448, 'lambda': 0.011111554186745176, 'learning_rate': 8.135430978864537e-05, 'link_layer': 'avgpool', 'modelType': 'HGNN_add', 'noSpeciesBackprop': False, 'numOfTrials': 1, 'suffix': None, 'tl_model': 'ResNet18', 'unsupervisedOnTest': False}\n",
      "Creating datasets...\n",
      "Creating datasets... Done.\n",
      "Creating loaders...\n",
      "Creating loaders... Done.\n"
     ]
    },
    {
     "data": {
      "application/vnd.jupyter.widget-view+json": {
       "model_id": "9440b650112b42578c0775a1c615206d",
       "version_major": 2,
       "version_minor": 0
      },
      "text/plain": [
       "HBox(children=(FloatProgress(value=0.0, description='trial', max=1.0, style=ProgressStyle(description_width='i…"
      ]
     },
     "metadata": {},
     "output_type": "display_data"
    },
    {
     "name": "stdout",
     "output_type": "stream",
     "text": [
      "{'experimentName': 'HGNN_sweep', 'modelName': 'models/a849b7b0cd79f3815adb64cda7c1c17fc5544f38b682cc5e0f943e45', 'datasetName': 'datasplits/7c7513bdfb4e5577fef1c3ec0fa6452d30d87dbc95f258a7c86dd76b', 'experimentHash': '8f14ff914123e43309163047065fb66d04fa6d87a06c2e3dcc0bf019', 'trialHash': 'a849b7b0cd79f3815adb64cda7c1c17fc5544f38b682cc5e0f943e45', 'adaptive_alpha': 0.7863194685354449, 'adaptive_lambda': 0.03935847076466888, 'adaptive_smoothing': True, 'augmented': True, 'batchSize': 32, 'fc_layers': 1, 'image_path': 'Curated4/Easy_50', 'img_res': 448, 'lambda': 0.011111554186745176, 'learning_rate': 8.135430978864537e-05, 'link_layer': 'avgpool', 'modelType': 'HGNN_add', 'noSpeciesBackprop': False, 'numOfTrials': 1, 'suffix': None, 'tl_model': 'ResNet18', 'unsupervisedOnTest': False}\n"
     ]
    },
    {
     "name": "stderr",
     "output_type": "stream",
     "text": [
      "\r",
      "iteration:   0%|          | 0/500 [00:00<?, ?it/s]"
     ]
    },
    {
     "name": "stdout",
     "output_type": "stream",
     "text": [
      "Training started...\n"
     ]
    },
    {
     "name": "stderr",
     "output_type": "stream",
     "text": [
      "iteration:   3%|▎         | 15/500 [12:27<6:39:21, 49.41s/it, min_val_loss=1.21, train=0.972, val=0.818, val_loss=3.24]"
     ]
    },
    {
     "name": "stdout",
     "output_type": "stream",
     "text": [
      "Early stopping\n",
      "total number of epochs:  14\n"
     ]
    },
    {
     "name": "stderr",
     "output_type": "stream",
     "text": [
      "iteration:   3%|▎         | 15/500 [12:29<6:44:08, 50.00s/it, min_val_loss=1.21, train=0.972, val=0.818, val_loss=3.24]\n"
     ]
    },
    {
     "data": {
      "text/html": [
       "<br/>Waiting for W&B process to finish, PID 70200<br/>Program ended successfully."
      ],
      "text/plain": [
       "<IPython.core.display.HTML object>"
      ]
     },
     "metadata": {},
     "output_type": "display_data"
    },
    {
     "data": {
      "application/vnd.jupyter.widget-view+json": {
       "model_id": "",
       "version_major": 2,
       "version_minor": 0
      },
      "text/plain": [
       "VBox(children=(Label(value=' 0.00MB of 0.00MB uploaded (0.00MB deduped)\\r'), FloatProgress(value=1.0, max=1.0)…"
      ]
     },
     "metadata": {},
     "output_type": "display_data"
    },
    {
     "data": {
      "text/html": [
       "Find user logs for this run at: <code>/home/elhamod/HGNN/code/HGNN/HGNN/train/wandb/run-20210106_021936-csnq53zp/logs/debug.log</code>"
      ],
      "text/plain": [
       "<IPython.core.display.HTML object>"
      ]
     },
     "metadata": {},
     "output_type": "display_data"
    },
    {
     "data": {
      "text/html": [
       "Find internal logs for this run at: <code>/home/elhamod/HGNN/code/HGNN/HGNN/train/wandb/run-20210106_021936-csnq53zp/logs/debug-internal.log</code>"
      ],
      "text/plain": [
       "<IPython.core.display.HTML object>"
      ]
     },
     "metadata": {},
     "output_type": "display_data"
    },
    {
     "data": {
      "text/html": [
       "<h3>Run summary:</h3><br/><style>\n",
       "    table.wandb td:nth-child(1) { padding: 0 10px; text-align: right }\n",
       "    </style><table class=\"wandb\">\n",
       "<tr><td>loss</td><td>0.56831</td></tr><tr><td>batch</td><td>569</td></tr><tr><td>epoch</td><td>14</td></tr><tr><td>loss_fine</td><td>0.54467</td></tr><tr><td>loss_coarse</td><td>0.80785</td></tr><tr><td>lambda_fine</td><td>0.91016</td></tr><tr><td>lambda_coarse</td><td>0.08984</td></tr><tr><td>_step</td><td>584</td></tr><tr><td>_runtime</td><td>750</td></tr><tr><td>_timestamp</td><td>1609918326</td></tr><tr><td>validation_fine_f1</td><td>0.81781</td></tr><tr><td>training_fine_f1</td><td>0.97183</td></tr><tr><td>validation_loss</td><td>3.23813</td></tr></table>"
      ],
      "text/plain": [
       "<IPython.core.display.HTML object>"
      ]
     },
     "metadata": {},
     "output_type": "display_data"
    },
    {
     "data": {
      "text/html": [
       "<h3>Run history:</h3><br/><style>\n",
       "    table.wandb td:nth-child(1) { padding: 0 10px; text-align: right }\n",
       "    </style><table class=\"wandb\">\n",
       "<tr><td>loss</td><td>██▆▄▄▄▃▄▃▂▂▂▁▂▂▁▁▂▂▁▂▁▁▁▂▁▁▂▂▁▁▁▁▂▁▂▁▁▁▁</td></tr><tr><td>batch</td><td>▁▁▁▁▂▂▂▂▂▃▃▃▃▃▃▄▄▄▄▄▅▅▅▅▅▅▆▆▆▆▆▇▇▇▇▇▇███</td></tr><tr><td>epoch</td><td>▁▁▁▁▁▂▂▂▃▃▃▃▃▃▃▃▄▄▄▅▅▅▅▅▅▅▆▆▆▇▇▇▇▇▇▇▇███</td></tr><tr><td>loss_fine</td><td>██▆▄▄▄▃▄▃▂▂▂▁▂▂▁▁▂▂▁▂▁▁▁▂▁▁▂▂▁▁▁▁▂▁▂▁▁▁▁</td></tr><tr><td>loss_coarse</td><td>█▇▅▅▄▄▃▄▃▄▃▃▃▄▃▂▃▃▃▃▃▃▂▂▂▁▃▃▂▃▂▂▃▄▂▃▃▂▃▂</td></tr><tr><td>lambda_fine</td><td>█▇▄▅▅▄▄▄▄▅▄▅▄▆▃▄▅▄▅▄▅▄▃▃▃▁▅▅▃▄▄▃▄▆▃▃▄▄▅▂</td></tr><tr><td>lambda_coarse</td><td>▁▂▅▄▄▅▅▅▅▄▅▄▅▃▆▅▄▅▄▅▄▅▆▆▆█▄▄▆▅▅▆▅▃▆▆▅▅▄▇</td></tr><tr><td>_step</td><td>▁▁▁▁▂▂▂▂▂▃▃▃▃▃▃▄▄▄▄▄▅▅▅▅▅▅▆▆▆▆▆▇▇▇▇▇▇███</td></tr><tr><td>_runtime</td><td>▁▁▁▂▂▂▂▂▃▃▃▃▃▄▄▄▄▄▄▅▅▅▅▅▅▆▆▆▆▆▆▇▇▇▇▇▇███</td></tr><tr><td>_timestamp</td><td>▁▁▁▂▂▂▂▂▃▃▃▃▃▄▄▄▄▄▄▅▅▅▅▅▅▆▆▆▆▆▆▇▇▇▇▇▇███</td></tr><tr><td>validation_fine_f1</td><td>▁▆▇▇▇██████████</td></tr><tr><td>training_fine_f1</td><td>▁▆█████████████</td></tr><tr><td>validation_loss</td><td>█▅▃▃▂▂▁▂▂▁▁▁▁▁▁</td></tr></table><br/>"
      ],
      "text/plain": [
       "<IPython.core.display.HTML object>"
      ]
     },
     "metadata": {},
     "output_type": "display_data"
    },
    {
     "data": {
      "text/html": [
       "Synced 5 W&B file(s), 0 media file(s), 0 artifact file(s) and 0 other file(s)"
      ],
      "text/plain": [
       "<IPython.core.display.HTML object>"
      ]
     },
     "metadata": {},
     "output_type": "display_data"
    },
    {
     "data": {
      "text/html": [
       "\n",
       "                    <br/>Synced <strong style=\"color:#cdcd00\">woven-sweep-14</strong>: <a href=\"https://wandb.ai/mndhamod/HGNN_sweep/runs/csnq53zp\" target=\"_blank\">https://wandb.ai/mndhamod/HGNN_sweep/runs/csnq53zp</a><br/>\n",
       "                "
      ],
      "text/plain": [
       "<IPython.core.display.HTML object>"
      ]
     },
     "metadata": {},
     "output_type": "display_data"
    },
    {
     "name": "stdout",
     "output_type": "stream",
     "text": [
      "\n"
     ]
    },
    {
     "name": "stderr",
     "output_type": "stream",
     "text": [
      "\u001b[34m\u001b[1mwandb\u001b[0m: Agent Starting Run: 0lljwqyu with config:\n",
      "\u001b[34m\u001b[1mwandb\u001b[0m: \tadaptive_alpha: 0.5443093884826014\n",
      "\u001b[34m\u001b[1mwandb\u001b[0m: \tadaptive_lambda: 0.04557018744058821\n",
      "\u001b[34m\u001b[1mwandb\u001b[0m: \tadaptive_smoothing: True\n",
      "\u001b[34m\u001b[1mwandb\u001b[0m: \taugmented: True\n",
      "\u001b[34m\u001b[1mwandb\u001b[0m: \tbatchSize: 16\n",
      "\u001b[34m\u001b[1mwandb\u001b[0m: \tfc_layers: 1\n",
      "\u001b[34m\u001b[1mwandb\u001b[0m: \timage_path: Curated4/Easy_50\n",
      "\u001b[34m\u001b[1mwandb\u001b[0m: \timg_res: 448\n",
      "\u001b[34m\u001b[1mwandb\u001b[0m: \tlambda: 0.025902814659157204\n",
      "\u001b[34m\u001b[1mwandb\u001b[0m: \tlearning_rate: 0.00010183587056745168\n",
      "\u001b[34m\u001b[1mwandb\u001b[0m: \tlink_layer: avgpool\n",
      "\u001b[34m\u001b[1mwandb\u001b[0m: \tmodelType: HGNN_add\n",
      "\u001b[34m\u001b[1mwandb\u001b[0m: \tnoSpeciesBackprop: False\n",
      "\u001b[34m\u001b[1mwandb\u001b[0m: \tnumOfTrials: 1\n",
      "\u001b[34m\u001b[1mwandb\u001b[0m: \tsuffix: None\n",
      "\u001b[34m\u001b[1mwandb\u001b[0m: \ttl_model: ResNet18\n",
      "\u001b[34m\u001b[1mwandb\u001b[0m: \tunsupervisedOnTest: False\n"
     ]
    },
    {
     "data": {
      "text/html": [
       "\n",
       "                Tracking run with wandb version 0.10.12<br/>\n",
       "                Syncing run <strong style=\"color:#cdcd00\">legendary-sweep-15</strong> to <a href=\"https://wandb.ai\" target=\"_blank\">Weights & Biases</a> <a href=\"https://docs.wandb.com/integrations/jupyter.html\" target=\"_blank\">(Documentation)</a>.<br/>\n",
       "                Project page: <a href=\"https://wandb.ai/mndhamod/HGNN_sweep\" target=\"_blank\">https://wandb.ai/mndhamod/HGNN_sweep</a><br/>\n",
       "                Sweep page: <a href=\"https://wandb.ai/mndhamod/HGNN_sweep/sweeps/7uhr6dty\" target=\"_blank\">https://wandb.ai/mndhamod/HGNN_sweep/sweeps/7uhr6dty</a><br/>\n",
       "Run page: <a href=\"https://wandb.ai/mndhamod/HGNN_sweep/runs/0lljwqyu\" target=\"_blank\">https://wandb.ai/mndhamod/HGNN_sweep/runs/0lljwqyu</a><br/>\n",
       "                Run data is saved locally in <code>/home/elhamod/HGNN/code/HGNN/HGNN/train/wandb/run-20210106_023215-0lljwqyu</code><br/><br/>\n",
       "            "
      ],
      "text/plain": [
       "<IPython.core.display.HTML object>"
      ]
     },
     "metadata": {},
     "output_type": "display_data"
    },
    {
     "name": "stdout",
     "output_type": "stream",
     "text": [
      "{'adaptive_alpha': 0.5443093884826014, 'adaptive_lambda': 0.04557018744058821, 'adaptive_smoothing': True, 'augmented': True, 'batchSize': 16, 'fc_layers': 1, 'image_path': 'Curated4/Easy_50', 'img_res': 448, 'lambda': 0.025902814659157204, 'learning_rate': 0.00010183587056745168, 'link_layer': 'avgpool', 'modelType': 'HGNN_add', 'noSpeciesBackprop': False, 'numOfTrials': 1, 'suffix': None, 'tl_model': 'ResNet18', 'unsupervisedOnTest': False}\n",
      "Creating datasets...\n",
      "Creating datasets... Done.\n",
      "Creating loaders...\n",
      "Creating loaders... Done.\n"
     ]
    },
    {
     "data": {
      "application/vnd.jupyter.widget-view+json": {
       "model_id": "566e78592045452986cce7816d033b98",
       "version_major": 2,
       "version_minor": 0
      },
      "text/plain": [
       "HBox(children=(FloatProgress(value=0.0, description='trial', max=1.0, style=ProgressStyle(description_width='i…"
      ]
     },
     "metadata": {},
     "output_type": "display_data"
    },
    {
     "name": "stdout",
     "output_type": "stream",
     "text": [
      "{'experimentName': 'HGNN_sweep', 'modelName': 'models/3ffb08ab97a22fa9298c735be0c2fba608ff773550d5075521983b66', 'datasetName': 'datasplits/7c7513bdfb4e5577fef1c3ec0fa6452d30d87dbc95f258a7c86dd76b', 'experimentHash': '01b81cabef834e9d3b95979d6dc0966e32502261550b2eed57a8736b', 'trialHash': '3ffb08ab97a22fa9298c735be0c2fba608ff773550d5075521983b66', 'adaptive_alpha': 0.5443093884826014, 'adaptive_lambda': 0.04557018744058821, 'adaptive_smoothing': True, 'augmented': True, 'batchSize': 16, 'fc_layers': 1, 'image_path': 'Curated4/Easy_50', 'img_res': 448, 'lambda': 0.025902814659157204, 'learning_rate': 0.00010183587056745168, 'link_layer': 'avgpool', 'modelType': 'HGNN_add', 'noSpeciesBackprop': False, 'numOfTrials': 1, 'suffix': None, 'tl_model': 'ResNet18', 'unsupervisedOnTest': False}\n"
     ]
    },
    {
     "name": "stderr",
     "output_type": "stream",
     "text": [
      "\r",
      "iteration:   0%|          | 0/500 [00:00<?, ?it/s]"
     ]
    },
    {
     "name": "stdout",
     "output_type": "stream",
     "text": [
      "Training started...\n"
     ]
    },
    {
     "name": "stderr",
     "output_type": "stream",
     "text": [
      "iteration:   8%|▊         | 39/500 [29:59<5:49:08, 45.44s/it, min_val_loss=1.13, train=1, val=0.857, val_loss=3.1]     "
     ]
    },
    {
     "name": "stdout",
     "output_type": "stream",
     "text": [
      "Early stopping\n",
      "total number of epochs:  38\n"
     ]
    },
    {
     "name": "stderr",
     "output_type": "stream",
     "text": [
      "iteration:   8%|▊         | 39/500 [30:01<5:54:58, 46.20s/it, min_val_loss=1.13, train=1, val=0.857, val_loss=3.1]\n"
     ]
    },
    {
     "data": {
      "text/html": [
       "<br/>Waiting for W&B process to finish, PID 1833<br/>Program ended successfully."
      ],
      "text/plain": [
       "<IPython.core.display.HTML object>"
      ]
     },
     "metadata": {},
     "output_type": "display_data"
    },
    {
     "data": {
      "application/vnd.jupyter.widget-view+json": {
       "model_id": "",
       "version_major": 2,
       "version_minor": 0
      },
      "text/plain": [
       "VBox(children=(Label(value=' 0.00MB of 0.00MB uploaded (0.00MB deduped)\\r'), FloatProgress(value=1.0, max=1.0)…"
      ]
     },
     "metadata": {},
     "output_type": "display_data"
    },
    {
     "data": {
      "text/html": [
       "Find user logs for this run at: <code>/home/elhamod/HGNN/code/HGNN/HGNN/train/wandb/run-20210106_023215-0lljwqyu/logs/debug.log</code>"
      ],
      "text/plain": [
       "<IPython.core.display.HTML object>"
      ]
     },
     "metadata": {},
     "output_type": "display_data"
    },
    {
     "data": {
      "text/html": [
       "Find internal logs for this run at: <code>/home/elhamod/HGNN/code/HGNN/HGNN/train/wandb/run-20210106_023215-0lljwqyu/logs/debug-internal.log</code>"
      ],
      "text/plain": [
       "<IPython.core.display.HTML object>"
      ]
     },
     "metadata": {},
     "output_type": "display_data"
    },
    {
     "data": {
      "text/html": [
       "<h3>Run summary:</h3><br/><style>\n",
       "    table.wandb td:nth-child(1) { padding: 0 10px; text-align: right }\n",
       "    </style><table class=\"wandb\">\n",
       "<tr><td>loss</td><td>0.96848</td></tr><tr><td>batch</td><td>2963</td></tr><tr><td>epoch</td><td>38</td></tr><tr><td>loss_fine</td><td>0.97281</td></tr><tr><td>loss_coarse</td><td>0.94594</td></tr><tr><td>lambda_fine</td><td>0.83894</td></tr><tr><td>lambda_coarse</td><td>0.16106</td></tr><tr><td>_step</td><td>3002</td></tr><tr><td>_runtime</td><td>1802</td></tr><tr><td>_timestamp</td><td>1609920137</td></tr><tr><td>validation_fine_f1</td><td>0.85661</td></tr><tr><td>training_fine_f1</td><td>1.0</td></tr><tr><td>validation_loss</td><td>3.10277</td></tr></table>"
      ],
      "text/plain": [
       "<IPython.core.display.HTML object>"
      ]
     },
     "metadata": {},
     "output_type": "display_data"
    },
    {
     "data": {
      "text/html": [
       "<h3>Run history:</h3><br/><style>\n",
       "    table.wandb td:nth-child(1) { padding: 0 10px; text-align: right }\n",
       "    </style><table class=\"wandb\">\n",
       "<tr><td>loss</td><td>█▅▄▃▄▄▄▃▄▂▂▂▃▃▃▂▃▂▃▁▂▂▂▂▃▁▂▂▁▂▃▂▂▂▂▂▂▁▂▂</td></tr><tr><td>batch</td><td>▁▁▁▂▂▂▂▂▂▃▃▃▃▃▃▄▄▄▄▄▅▅▅▅▅▅▆▆▆▆▆▇▇▇▇▇▇███</td></tr><tr><td>epoch</td><td>▁▁▁▂▂▂▂▂▂▃▃▃▃▃▄▄▄▄▄▄▅▅▅▅▅▅▆▆▆▆▆▇▇▇▇▇▇███</td></tr><tr><td>loss_fine</td><td>█▅▃▃▄▄▃▃▄▂▂▂▂▃▃▂▃▂▂▁▂▂▁▁▃▁▂▂▁▂▂▂▂▂▂▂▂▁▂▂</td></tr><tr><td>loss_coarse</td><td>█▅▆▄▄▄▅▅▄▄▄▃▆▅▃▂▃▄▄▂▁▄▄▃▄▃▂▃▂▂▅▄▃▂▄▃▂▁▅▃</td></tr><tr><td>lambda_fine</td><td>▇▄█▆▃▄▇▆▄▅▆▄█▆▃▃▂▅▅▂▁▆▅▅▅▄▁▄▃▃▆▆▃▃▅▅▂▁█▃</td></tr><tr><td>lambda_coarse</td><td>▂▅▁▃▆▅▂▃▅▄▃▅▁▃▆▆▇▄▄▇█▃▄▄▄▅█▅▆▆▃▃▆▆▄▄▇█▁▆</td></tr><tr><td>_step</td><td>▁▁▁▂▂▂▂▂▂▃▃▃▃▃▄▄▄▄▄▄▅▅▅▅▅▅▆▆▆▆▆▇▇▇▇▇▇███</td></tr><tr><td>_runtime</td><td>▁▁▁▂▂▂▂▂▂▃▃▃▃▃▄▄▄▄▄▄▅▅▅▅▅▅▆▆▆▆▆▇▇▇▇▇▇███</td></tr><tr><td>_timestamp</td><td>▁▁▁▂▂▂▂▂▂▃▃▃▃▃▄▄▄▄▄▄▅▅▅▅▅▅▆▆▆▆▆▇▇▇▇▇▇███</td></tr><tr><td>validation_fine_f1</td><td>▁▅▅▆▅▇▇▇▇▇▇▇▇▇▇▇▇▇▇▇▇▇▇█▆▇███▇▇▇████▇█▇</td></tr><tr><td>training_fine_f1</td><td>▁▆▇████████████████████████████████████</td></tr><tr><td>validation_loss</td><td>█▆▅▄▄▃▃▃▃▃▃▃▂▃▂▂▂▂▂▂▂▂▂▂▂▂▁▂▂▁▁▂▁▁▁▂▁▁▁</td></tr></table><br/>"
      ],
      "text/plain": [
       "<IPython.core.display.HTML object>"
      ]
     },
     "metadata": {},
     "output_type": "display_data"
    },
    {
     "data": {
      "text/html": [
       "Synced 5 W&B file(s), 0 media file(s), 0 artifact file(s) and 0 other file(s)"
      ],
      "text/plain": [
       "<IPython.core.display.HTML object>"
      ]
     },
     "metadata": {},
     "output_type": "display_data"
    },
    {
     "data": {
      "text/html": [
       "\n",
       "                    <br/>Synced <strong style=\"color:#cdcd00\">legendary-sweep-15</strong>: <a href=\"https://wandb.ai/mndhamod/HGNN_sweep/runs/0lljwqyu\" target=\"_blank\">https://wandb.ai/mndhamod/HGNN_sweep/runs/0lljwqyu</a><br/>\n",
       "                "
      ],
      "text/plain": [
       "<IPython.core.display.HTML object>"
      ]
     },
     "metadata": {},
     "output_type": "display_data"
    },
    {
     "name": "stdout",
     "output_type": "stream",
     "text": [
      "\n"
     ]
    },
    {
     "name": "stderr",
     "output_type": "stream",
     "text": [
      "\u001b[34m\u001b[1mwandb\u001b[0m: Agent Starting Run: 9bydpgov with config:\n",
      "\u001b[34m\u001b[1mwandb\u001b[0m: \tadaptive_alpha: 0.6229519238908536\n",
      "\u001b[34m\u001b[1mwandb\u001b[0m: \tadaptive_lambda: 0.045985438280203975\n",
      "\u001b[34m\u001b[1mwandb\u001b[0m: \tadaptive_smoothing: True\n",
      "\u001b[34m\u001b[1mwandb\u001b[0m: \taugmented: True\n",
      "\u001b[34m\u001b[1mwandb\u001b[0m: \tbatchSize: 32\n",
      "\u001b[34m\u001b[1mwandb\u001b[0m: \tfc_layers: 1\n",
      "\u001b[34m\u001b[1mwandb\u001b[0m: \timage_path: Curated4/Easy_50\n",
      "\u001b[34m\u001b[1mwandb\u001b[0m: \timg_res: 448\n",
      "\u001b[34m\u001b[1mwandb\u001b[0m: \tlambda: 0.0074903028174428355\n",
      "\u001b[34m\u001b[1mwandb\u001b[0m: \tlearning_rate: 7.970620226552064e-05\n",
      "\u001b[34m\u001b[1mwandb\u001b[0m: \tlink_layer: avgpool\n",
      "\u001b[34m\u001b[1mwandb\u001b[0m: \tmodelType: HGNN_add\n",
      "\u001b[34m\u001b[1mwandb\u001b[0m: \tnoSpeciesBackprop: False\n",
      "\u001b[34m\u001b[1mwandb\u001b[0m: \tnumOfTrials: 1\n",
      "\u001b[34m\u001b[1mwandb\u001b[0m: \tsuffix: None\n",
      "\u001b[34m\u001b[1mwandb\u001b[0m: \ttl_model: ResNet18\n",
      "\u001b[34m\u001b[1mwandb\u001b[0m: \tunsupervisedOnTest: False\n"
     ]
    },
    {
     "data": {
      "text/html": [
       "\n",
       "                Tracking run with wandb version 0.10.12<br/>\n",
       "                Syncing run <strong style=\"color:#cdcd00\">legendary-sweep-16</strong> to <a href=\"https://wandb.ai\" target=\"_blank\">Weights & Biases</a> <a href=\"https://docs.wandb.com/integrations/jupyter.html\" target=\"_blank\">(Documentation)</a>.<br/>\n",
       "                Project page: <a href=\"https://wandb.ai/mndhamod/HGNN_sweep\" target=\"_blank\">https://wandb.ai/mndhamod/HGNN_sweep</a><br/>\n",
       "                Sweep page: <a href=\"https://wandb.ai/mndhamod/HGNN_sweep/sweeps/7uhr6dty\" target=\"_blank\">https://wandb.ai/mndhamod/HGNN_sweep/sweeps/7uhr6dty</a><br/>\n",
       "Run page: <a href=\"https://wandb.ai/mndhamod/HGNN_sweep/runs/9bydpgov\" target=\"_blank\">https://wandb.ai/mndhamod/HGNN_sweep/runs/9bydpgov</a><br/>\n",
       "                Run data is saved locally in <code>/home/elhamod/HGNN/code/HGNN/HGNN/train/wandb/run-20210106_030225-9bydpgov</code><br/><br/>\n",
       "            "
      ],
      "text/plain": [
       "<IPython.core.display.HTML object>"
      ]
     },
     "metadata": {},
     "output_type": "display_data"
    },
    {
     "name": "stdout",
     "output_type": "stream",
     "text": [
      "{'adaptive_alpha': 0.6229519238908536, 'adaptive_lambda': 0.045985438280203975, 'adaptive_smoothing': True, 'augmented': True, 'batchSize': 32, 'fc_layers': 1, 'image_path': 'Curated4/Easy_50', 'img_res': 448, 'lambda': 0.0074903028174428355, 'learning_rate': 7.970620226552064e-05, 'link_layer': 'avgpool', 'modelType': 'HGNN_add', 'noSpeciesBackprop': False, 'numOfTrials': 1, 'suffix': None, 'tl_model': 'ResNet18', 'unsupervisedOnTest': False}\n",
      "Creating datasets...\n",
      "Creating datasets... Done.\n",
      "Creating loaders...\n",
      "Creating loaders... Done.\n"
     ]
    },
    {
     "data": {
      "application/vnd.jupyter.widget-view+json": {
       "model_id": "c92f4bd5f4b54d698e6de06968eebe9c",
       "version_major": 2,
       "version_minor": 0
      },
      "text/plain": [
       "HBox(children=(FloatProgress(value=0.0, description='trial', max=1.0, style=ProgressStyle(description_width='i…"
      ]
     },
     "metadata": {},
     "output_type": "display_data"
    },
    {
     "name": "stdout",
     "output_type": "stream",
     "text": [
      "{'experimentName': 'HGNN_sweep', 'modelName': 'models/e324bd2701f44954db6b62622be7776bd94b56664009a18a4034ac4e', 'datasetName': 'datasplits/7c7513bdfb4e5577fef1c3ec0fa6452d30d87dbc95f258a7c86dd76b', 'experimentHash': '234fe57f6fd27038bac7ae95090ff30d524e44a34d1bc7e08e8d91aa', 'trialHash': 'e324bd2701f44954db6b62622be7776bd94b56664009a18a4034ac4e', 'adaptive_alpha': 0.6229519238908536, 'adaptive_lambda': 0.045985438280203975, 'adaptive_smoothing': True, 'augmented': True, 'batchSize': 32, 'fc_layers': 1, 'image_path': 'Curated4/Easy_50', 'img_res': 448, 'lambda': 0.0074903028174428355, 'learning_rate': 7.970620226552064e-05, 'link_layer': 'avgpool', 'modelType': 'HGNN_add', 'noSpeciesBackprop': False, 'numOfTrials': 1, 'suffix': None, 'tl_model': 'ResNet18', 'unsupervisedOnTest': False}\n"
     ]
    },
    {
     "name": "stderr",
     "output_type": "stream",
     "text": [
      "\r",
      "iteration:   0%|          | 0/500 [00:00<?, ?it/s]"
     ]
    },
    {
     "name": "stdout",
     "output_type": "stream",
     "text": [
      "Training started...\n"
     ]
    },
    {
     "name": "stderr",
     "output_type": "stream",
     "text": [
      "iteration:   4%|▍         | 19/500 [15:53<6:36:07, 49.41s/it, min_val_loss=1.15, train=0.998, val=0.838, val_loss=3.22]"
     ]
    },
    {
     "name": "stdout",
     "output_type": "stream",
     "text": [
      "Early stopping\n",
      "total number of epochs:  18\n"
     ]
    },
    {
     "name": "stderr",
     "output_type": "stream",
     "text": [
      "iteration:   4%|▍         | 19/500 [15:55<6:43:05, 50.28s/it, min_val_loss=1.15, train=0.998, val=0.838, val_loss=3.22]\n"
     ]
    },
    {
     "data": {
      "text/html": [
       "<br/>Waiting for W&B process to finish, PID 13218<br/>Program ended successfully."
      ],
      "text/plain": [
       "<IPython.core.display.HTML object>"
      ]
     },
     "metadata": {},
     "output_type": "display_data"
    },
    {
     "data": {
      "application/vnd.jupyter.widget-view+json": {
       "model_id": "",
       "version_major": 2,
       "version_minor": 0
      },
      "text/plain": [
       "VBox(children=(Label(value=' 0.00MB of 0.00MB uploaded (0.00MB deduped)\\r'), FloatProgress(value=1.0, max=1.0)…"
      ]
     },
     "metadata": {},
     "output_type": "display_data"
    },
    {
     "data": {
      "text/html": [
       "Find user logs for this run at: <code>/home/elhamod/HGNN/code/HGNN/HGNN/train/wandb/run-20210106_030225-9bydpgov/logs/debug.log</code>"
      ],
      "text/plain": [
       "<IPython.core.display.HTML object>"
      ]
     },
     "metadata": {},
     "output_type": "display_data"
    },
    {
     "data": {
      "text/html": [
       "Find internal logs for this run at: <code>/home/elhamod/HGNN/code/HGNN/HGNN/train/wandb/run-20210106_030225-9bydpgov/logs/debug-internal.log</code>"
      ],
      "text/plain": [
       "<IPython.core.display.HTML object>"
      ]
     },
     "metadata": {},
     "output_type": "display_data"
    },
    {
     "data": {
      "text/html": [
       "<h3>Run summary:</h3><br/><style>\n",
       "    table.wandb td:nth-child(1) { padding: 0 10px; text-align: right }\n",
       "    </style><table class=\"wandb\">\n",
       "<tr><td>loss</td><td>0.77825</td></tr><tr><td>batch</td><td>721</td></tr><tr><td>epoch</td><td>18</td></tr><tr><td>loss_fine</td><td>0.73435</td></tr><tr><td>loss_coarse</td><td>1.07166</td></tr><tr><td>lambda_fine</td><td>0.86986</td></tr><tr><td>lambda_coarse</td><td>0.13014</td></tr><tr><td>_step</td><td>740</td></tr><tr><td>_runtime</td><td>956</td></tr><tr><td>_timestamp</td><td>1609921101</td></tr><tr><td>validation_fine_f1</td><td>0.83799</td></tr><tr><td>training_fine_f1</td><td>0.99834</td></tr><tr><td>validation_loss</td><td>3.21647</td></tr></table>"
      ],
      "text/plain": [
       "<IPython.core.display.HTML object>"
      ]
     },
     "metadata": {},
     "output_type": "display_data"
    },
    {
     "data": {
      "text/html": [
       "<h3>Run history:</h3><br/><style>\n",
       "    table.wandb td:nth-child(1) { padding: 0 10px; text-align: right }\n",
       "    </style><table class=\"wandb\">\n",
       "<tr><td>loss</td><td>█▆▅▄▃▃▂▂▂▂▂▂▂▂▁▂▂▂▂▂▂▁▁▂▂▁▁▁▂▁▁▁▁▁▂▁▁▁▁▁</td></tr><tr><td>batch</td><td>▁▁▁▁▂▂▂▂▂▃▃▃▃▃▃▄▄▄▄▄▅▅▅▅▅▅▆▆▆▆▆▇▇▇▇▇▇███</td></tr><tr><td>epoch</td><td>▁▁▁▁▂▂▂▂▂▃▃▃▃▃▃▄▄▄▄▅▅▅▅▅▅▆▆▆▆▆▆▆▇▇▇▇████</td></tr><tr><td>loss_fine</td><td>█▆▅▄▃▃▂▂▂▂▂▂▂▂▁▂▂▂▂▂▁▁▁▂▂▁▁▁▂▁▁▁▁▁▂▁▁▁▁▁</td></tr><tr><td>loss_coarse</td><td>█▆▄▄▄▃▂▂▄▂▃▃▃▃▃▂▂▃▁▄▃▃▁▃▃▂▁▁▄▂▁▂▂▂▂▂▃▂▁▂</td></tr><tr><td>lambda_fine</td><td>█▅▄▄▅▄▃▃▆▃▄▄▄▄▅▂▃▅▁▆▆▅▂▅▄▄▂▂▆▃▂▄▃▃▃▃▆▃▁▃</td></tr><tr><td>lambda_coarse</td><td>▁▄▅▅▄▅▆▆▃▆▅▅▅▅▄▇▆▄█▃▃▄▇▄▅▅▇▇▃▆▇▅▆▆▆▆▃▆█▆</td></tr><tr><td>_step</td><td>▁▁▁▂▂▂▂▂▂▃▃▃▃▃▃▄▄▄▄▄▅▅▅▅▅▅▆▆▆▆▆▇▇▇▇▇▇███</td></tr><tr><td>_runtime</td><td>▁▁▁▁▂▂▂▂▂▃▃▃▃▃▃▄▄▄▄▄▅▅▅▅▅▆▆▆▆▆▆▇▇▇▇▇████</td></tr><tr><td>_timestamp</td><td>▁▁▁▁▂▂▂▂▂▃▃▃▃▃▃▄▄▄▄▄▅▅▅▅▅▆▆▆▆▆▆▇▇▇▇▇████</td></tr><tr><td>validation_fine_f1</td><td>▁▅▇▇▇▇▇█▇██████████</td></tr><tr><td>training_fine_f1</td><td>▁▆█████████████████</td></tr><tr><td>validation_loss</td><td>█▆▄▃▂▂▂▂▂▂▂▁▂▁▂▁▁▂▁</td></tr></table><br/>"
      ],
      "text/plain": [
       "<IPython.core.display.HTML object>"
      ]
     },
     "metadata": {},
     "output_type": "display_data"
    },
    {
     "data": {
      "text/html": [
       "Synced 5 W&B file(s), 0 media file(s), 0 artifact file(s) and 0 other file(s)"
      ],
      "text/plain": [
       "<IPython.core.display.HTML object>"
      ]
     },
     "metadata": {},
     "output_type": "display_data"
    },
    {
     "data": {
      "text/html": [
       "\n",
       "                    <br/>Synced <strong style=\"color:#cdcd00\">legendary-sweep-16</strong>: <a href=\"https://wandb.ai/mndhamod/HGNN_sweep/runs/9bydpgov\" target=\"_blank\">https://wandb.ai/mndhamod/HGNN_sweep/runs/9bydpgov</a><br/>\n",
       "                "
      ],
      "text/plain": [
       "<IPython.core.display.HTML object>"
      ]
     },
     "metadata": {},
     "output_type": "display_data"
    },
    {
     "name": "stdout",
     "output_type": "stream",
     "text": [
      "\n"
     ]
    },
    {
     "name": "stderr",
     "output_type": "stream",
     "text": [
      "\u001b[34m\u001b[1mwandb\u001b[0m: Agent Starting Run: ccf61fn7 with config:\n",
      "\u001b[34m\u001b[1mwandb\u001b[0m: \tadaptive_alpha: 0.6611265151070145\n",
      "\u001b[34m\u001b[1mwandb\u001b[0m: \tadaptive_lambda: 0.016977032684874254\n",
      "\u001b[34m\u001b[1mwandb\u001b[0m: \tadaptive_smoothing: True\n",
      "\u001b[34m\u001b[1mwandb\u001b[0m: \taugmented: True\n",
      "\u001b[34m\u001b[1mwandb\u001b[0m: \tbatchSize: 16\n",
      "\u001b[34m\u001b[1mwandb\u001b[0m: \tfc_layers: 1\n",
      "\u001b[34m\u001b[1mwandb\u001b[0m: \timage_path: Curated4/Easy_50\n",
      "\u001b[34m\u001b[1mwandb\u001b[0m: \timg_res: 448\n",
      "\u001b[34m\u001b[1mwandb\u001b[0m: \tlambda: 0.01937586214119257\n",
      "\u001b[34m\u001b[1mwandb\u001b[0m: \tlearning_rate: 9.634899941356938e-05\n",
      "\u001b[34m\u001b[1mwandb\u001b[0m: \tlink_layer: avgpool\n",
      "\u001b[34m\u001b[1mwandb\u001b[0m: \tmodelType: HGNN_add\n",
      "\u001b[34m\u001b[1mwandb\u001b[0m: \tnoSpeciesBackprop: False\n",
      "\u001b[34m\u001b[1mwandb\u001b[0m: \tnumOfTrials: 1\n",
      "\u001b[34m\u001b[1mwandb\u001b[0m: \tsuffix: None\n",
      "\u001b[34m\u001b[1mwandb\u001b[0m: \ttl_model: ResNet18\n",
      "\u001b[34m\u001b[1mwandb\u001b[0m: \tunsupervisedOnTest: False\n"
     ]
    },
    {
     "data": {
      "text/html": [
       "\n",
       "                Tracking run with wandb version 0.10.12<br/>\n",
       "                Syncing run <strong style=\"color:#cdcd00\">hearty-sweep-17</strong> to <a href=\"https://wandb.ai\" target=\"_blank\">Weights & Biases</a> <a href=\"https://docs.wandb.com/integrations/jupyter.html\" target=\"_blank\">(Documentation)</a>.<br/>\n",
       "                Project page: <a href=\"https://wandb.ai/mndhamod/HGNN_sweep\" target=\"_blank\">https://wandb.ai/mndhamod/HGNN_sweep</a><br/>\n",
       "                Sweep page: <a href=\"https://wandb.ai/mndhamod/HGNN_sweep/sweeps/7uhr6dty\" target=\"_blank\">https://wandb.ai/mndhamod/HGNN_sweep/sweeps/7uhr6dty</a><br/>\n",
       "Run page: <a href=\"https://wandb.ai/mndhamod/HGNN_sweep/runs/ccf61fn7\" target=\"_blank\">https://wandb.ai/mndhamod/HGNN_sweep/runs/ccf61fn7</a><br/>\n",
       "                Run data is saved locally in <code>/home/elhamod/HGNN/code/HGNN/HGNN/train/wandb/run-20210106_031829-ccf61fn7</code><br/><br/>\n",
       "            "
      ],
      "text/plain": [
       "<IPython.core.display.HTML object>"
      ]
     },
     "metadata": {},
     "output_type": "display_data"
    },
    {
     "name": "stdout",
     "output_type": "stream",
     "text": [
      "{'adaptive_alpha': 0.6611265151070145, 'adaptive_lambda': 0.016977032684874254, 'adaptive_smoothing': True, 'augmented': True, 'batchSize': 16, 'fc_layers': 1, 'image_path': 'Curated4/Easy_50', 'img_res': 448, 'lambda': 0.01937586214119257, 'learning_rate': 9.634899941356938e-05, 'link_layer': 'avgpool', 'modelType': 'HGNN_add', 'noSpeciesBackprop': False, 'numOfTrials': 1, 'suffix': None, 'tl_model': 'ResNet18', 'unsupervisedOnTest': False}\n",
      "Creating datasets...\n",
      "Creating datasets... Done.\n",
      "Creating loaders...\n",
      "Creating loaders... Done.\n"
     ]
    },
    {
     "data": {
      "application/vnd.jupyter.widget-view+json": {
       "model_id": "25070b6ce0e44b9aa5e80d546000542d",
       "version_major": 2,
       "version_minor": 0
      },
      "text/plain": [
       "HBox(children=(FloatProgress(value=0.0, description='trial', max=1.0, style=ProgressStyle(description_width='i…"
      ]
     },
     "metadata": {},
     "output_type": "display_data"
    },
    {
     "name": "stdout",
     "output_type": "stream",
     "text": [
      "{'experimentName': 'HGNN_sweep', 'modelName': 'models/d0c4df127caa559fd30b59b9ce467c330ab130838424e49dda6835a6', 'datasetName': 'datasplits/7c7513bdfb4e5577fef1c3ec0fa6452d30d87dbc95f258a7c86dd76b', 'experimentHash': 'cd6d1a24dcbd5f57d76fc2b2f03e8477d5984168972c2f67103dbcc9', 'trialHash': 'd0c4df127caa559fd30b59b9ce467c330ab130838424e49dda6835a6', 'adaptive_alpha': 0.6611265151070145, 'adaptive_lambda': 0.016977032684874254, 'adaptive_smoothing': True, 'augmented': True, 'batchSize': 16, 'fc_layers': 1, 'image_path': 'Curated4/Easy_50', 'img_res': 448, 'lambda': 0.01937586214119257, 'learning_rate': 9.634899941356938e-05, 'link_layer': 'avgpool', 'modelType': 'HGNN_add', 'noSpeciesBackprop': False, 'numOfTrials': 1, 'suffix': None, 'tl_model': 'ResNet18', 'unsupervisedOnTest': False}\n"
     ]
    },
    {
     "name": "stderr",
     "output_type": "stream",
     "text": [
      "\r",
      "iteration:   0%|          | 0/500 [00:00<?, ?it/s]"
     ]
    },
    {
     "name": "stdout",
     "output_type": "stream",
     "text": [
      "Training started...\n"
     ]
    },
    {
     "name": "stderr",
     "output_type": "stream",
     "text": [
      "iteration:   8%|▊         | 39/500 [30:07<5:48:41, 45.38s/it, min_val_loss=1.14, train=1, val=0.868, val_loss=3.09]    "
     ]
    },
    {
     "name": "stdout",
     "output_type": "stream",
     "text": [
      "Early stopping\n",
      "total number of epochs:  38\n"
     ]
    },
    {
     "name": "stderr",
     "output_type": "stream",
     "text": [
      "iteration:   8%|▊         | 39/500 [30:09<5:56:33, 46.41s/it, min_val_loss=1.14, train=1, val=0.868, val_loss=3.09]\n"
     ]
    },
    {
     "data": {
      "text/html": [
       "<br/>Waiting for W&B process to finish, PID 19317<br/>Program ended successfully."
      ],
      "text/plain": [
       "<IPython.core.display.HTML object>"
      ]
     },
     "metadata": {},
     "output_type": "display_data"
    },
    {
     "data": {
      "application/vnd.jupyter.widget-view+json": {
       "model_id": "",
       "version_major": 2,
       "version_minor": 0
      },
      "text/plain": [
       "VBox(children=(Label(value=' 0.00MB of 0.00MB uploaded (0.00MB deduped)\\r'), FloatProgress(value=1.0, max=1.0)…"
      ]
     },
     "metadata": {},
     "output_type": "display_data"
    },
    {
     "data": {
      "text/html": [
       "Find user logs for this run at: <code>/home/elhamod/HGNN/code/HGNN/HGNN/train/wandb/run-20210106_031829-ccf61fn7/logs/debug.log</code>"
      ],
      "text/plain": [
       "<IPython.core.display.HTML object>"
      ]
     },
     "metadata": {},
     "output_type": "display_data"
    },
    {
     "data": {
      "text/html": [
       "Find internal logs for this run at: <code>/home/elhamod/HGNN/code/HGNN/HGNN/train/wandb/run-20210106_031829-ccf61fn7/logs/debug-internal.log</code>"
      ],
      "text/plain": [
       "<IPython.core.display.HTML object>"
      ]
     },
     "metadata": {},
     "output_type": "display_data"
    },
    {
     "data": {
      "text/html": [
       "<h3>Run summary:</h3><br/><style>\n",
       "    table.wandb td:nth-child(1) { padding: 0 10px; text-align: right }\n",
       "    </style><table class=\"wandb\">\n",
       "<tr><td>loss</td><td>0.98708</td></tr><tr><td>batch</td><td>2963</td></tr><tr><td>epoch</td><td>38</td></tr><tr><td>loss_fine</td><td>1.00159</td></tr><tr><td>loss_coarse</td><td>0.84215</td></tr><tr><td>lambda_fine</td><td>0.909</td></tr><tr><td>lambda_coarse</td><td>0.091</td></tr><tr><td>_step</td><td>3002</td></tr><tr><td>_runtime</td><td>1809</td></tr><tr><td>_timestamp</td><td>1609922918</td></tr><tr><td>validation_fine_f1</td><td>0.8679</td></tr><tr><td>training_fine_f1</td><td>1.0</td></tr><tr><td>validation_loss</td><td>3.08758</td></tr></table>"
      ],
      "text/plain": [
       "<IPython.core.display.HTML object>"
      ]
     },
     "metadata": {},
     "output_type": "display_data"
    },
    {
     "data": {
      "text/html": [
       "<h3>Run history:</h3><br/><style>\n",
       "    table.wandb td:nth-child(1) { padding: 0 10px; text-align: right }\n",
       "    </style><table class=\"wandb\">\n",
       "<tr><td>loss</td><td>█▅▄▃▃▃▂▃▃▂▃▂▂▂▂▂▃▂▂▃▂▂▂▂▂▂▂▁▂▃▂▂▂▂▁▁▁▂▂▁</td></tr><tr><td>batch</td><td>▁▁▁▂▂▂▂▂▂▃▃▃▃▃▃▄▄▄▄▄▅▅▅▅▅▅▆▆▆▆▆▇▇▇▇▇▇███</td></tr><tr><td>epoch</td><td>▁▁▁▂▂▂▂▂▂▃▃▃▃▃▄▄▄▄▄▄▅▅▅▅▅▅▆▆▆▆▆▇▇▇▇▇▇███</td></tr><tr><td>loss_fine</td><td>█▅▄▃▂▃▂▃▃▂▃▂▂▂▂▂▃▂▂▂▂▂▂▂▂▂▂▁▁▃▂▂▂▁▁▁▁▂▁▁</td></tr><tr><td>loss_coarse</td><td>█▆▄▃▅▄▅▃▄▃▅▃▄▄▄▃▆▃▅▄▃▂▃▂▂▂▃▃▂▅▅▂▂▄▂▃▂▃▅▁</td></tr><tr><td>lambda_fine</td><td>█▇▅▄▇▅█▄▅▄▆▃▆▆▆▄█▅█▆▄▃▄▃▃▃▄▅▄▇█▂▁▆▃▄▃▅▇▁</td></tr><tr><td>lambda_coarse</td><td>▁▂▄▅▂▄▁▅▄▅▃▆▃▃▃▅▁▄▁▃▅▆▅▆▆▆▅▄▅▂▁▇█▃▆▅▆▄▂█</td></tr><tr><td>_step</td><td>▁▁▁▂▂▂▂▂▂▃▃▃▃▃▄▄▄▄▄▄▅▅▅▅▅▅▆▆▆▆▆▇▇▇▇▇▇███</td></tr><tr><td>_runtime</td><td>▁▁▁▂▂▂▂▂▂▃▃▃▃▃▄▄▄▄▄▄▅▅▅▅▅▅▆▆▆▆▆▇▇▇▇▇▇███</td></tr><tr><td>_timestamp</td><td>▁▁▁▂▂▂▂▂▂▃▃▃▃▃▄▄▄▄▄▄▅▅▅▅▅▅▆▆▆▆▆▇▇▇▇▇▇███</td></tr><tr><td>validation_fine_f1</td><td>▁▅▆▆▇▇▆▇▇▇▇▇▇▇█▇▇█▇▇▇████▇██████████▇██</td></tr><tr><td>training_fine_f1</td><td>▁▅▇▇███████████████████████████████████</td></tr><tr><td>validation_loss</td><td>█▆▅▄▄▄▃▃▃▃▃▃▂▂▂▂▂▃▂▂▂▂▁▂▂▁▂▂▁▂▁▂▂▁▁▂▂▁▁</td></tr></table><br/>"
      ],
      "text/plain": [
       "<IPython.core.display.HTML object>"
      ]
     },
     "metadata": {},
     "output_type": "display_data"
    },
    {
     "data": {
      "text/html": [
       "Synced 5 W&B file(s), 0 media file(s), 0 artifact file(s) and 0 other file(s)"
      ],
      "text/plain": [
       "<IPython.core.display.HTML object>"
      ]
     },
     "metadata": {},
     "output_type": "display_data"
    },
    {
     "data": {
      "text/html": [
       "\n",
       "                    <br/>Synced <strong style=\"color:#cdcd00\">hearty-sweep-17</strong>: <a href=\"https://wandb.ai/mndhamod/HGNN_sweep/runs/ccf61fn7\" target=\"_blank\">https://wandb.ai/mndhamod/HGNN_sweep/runs/ccf61fn7</a><br/>\n",
       "                "
      ],
      "text/plain": [
       "<IPython.core.display.HTML object>"
      ]
     },
     "metadata": {},
     "output_type": "display_data"
    },
    {
     "name": "stdout",
     "output_type": "stream",
     "text": [
      "\n"
     ]
    },
    {
     "name": "stderr",
     "output_type": "stream",
     "text": [
      "\u001b[34m\u001b[1mwandb\u001b[0m: Agent Starting Run: 7mev2qp0 with config:\n",
      "\u001b[34m\u001b[1mwandb\u001b[0m: \tadaptive_alpha: 0.7331866993094405\n",
      "\u001b[34m\u001b[1mwandb\u001b[0m: \tadaptive_lambda: 0.0067474913007075565\n",
      "\u001b[34m\u001b[1mwandb\u001b[0m: \tadaptive_smoothing: True\n",
      "\u001b[34m\u001b[1mwandb\u001b[0m: \taugmented: True\n",
      "\u001b[34m\u001b[1mwandb\u001b[0m: \tbatchSize: 16\n",
      "\u001b[34m\u001b[1mwandb\u001b[0m: \tfc_layers: 1\n",
      "\u001b[34m\u001b[1mwandb\u001b[0m: \timage_path: Curated4/Easy_50\n",
      "\u001b[34m\u001b[1mwandb\u001b[0m: \timg_res: 448\n",
      "\u001b[34m\u001b[1mwandb\u001b[0m: \tlambda: 0.010260917993503513\n",
      "\u001b[34m\u001b[1mwandb\u001b[0m: \tlearning_rate: 5.6967307472921586e-05\n",
      "\u001b[34m\u001b[1mwandb\u001b[0m: \tlink_layer: avgpool\n",
      "\u001b[34m\u001b[1mwandb\u001b[0m: \tmodelType: HGNN_add\n",
      "\u001b[34m\u001b[1mwandb\u001b[0m: \tnoSpeciesBackprop: False\n",
      "\u001b[34m\u001b[1mwandb\u001b[0m: \tnumOfTrials: 1\n",
      "\u001b[34m\u001b[1mwandb\u001b[0m: \tsuffix: None\n",
      "\u001b[34m\u001b[1mwandb\u001b[0m: \ttl_model: ResNet18\n",
      "\u001b[34m\u001b[1mwandb\u001b[0m: \tunsupervisedOnTest: False\n"
     ]
    },
    {
     "data": {
      "text/html": [
       "\n",
       "                Tracking run with wandb version 0.10.12<br/>\n",
       "                Syncing run <strong style=\"color:#cdcd00\">valiant-sweep-18</strong> to <a href=\"https://wandb.ai\" target=\"_blank\">Weights & Biases</a> <a href=\"https://docs.wandb.com/integrations/jupyter.html\" target=\"_blank\">(Documentation)</a>.<br/>\n",
       "                Project page: <a href=\"https://wandb.ai/mndhamod/HGNN_sweep\" target=\"_blank\">https://wandb.ai/mndhamod/HGNN_sweep</a><br/>\n",
       "                Sweep page: <a href=\"https://wandb.ai/mndhamod/HGNN_sweep/sweeps/7uhr6dty\" target=\"_blank\">https://wandb.ai/mndhamod/HGNN_sweep/sweeps/7uhr6dty</a><br/>\n",
       "Run page: <a href=\"https://wandb.ai/mndhamod/HGNN_sweep/runs/7mev2qp0\" target=\"_blank\">https://wandb.ai/mndhamod/HGNN_sweep/runs/7mev2qp0</a><br/>\n",
       "                Run data is saved locally in <code>/home/elhamod/HGNN/code/HGNN/HGNN/train/wandb/run-20210106_034846-7mev2qp0</code><br/><br/>\n",
       "            "
      ],
      "text/plain": [
       "<IPython.core.display.HTML object>"
      ]
     },
     "metadata": {},
     "output_type": "display_data"
    },
    {
     "name": "stdout",
     "output_type": "stream",
     "text": [
      "{'adaptive_alpha': 0.7331866993094405, 'adaptive_lambda': 0.0067474913007075565, 'adaptive_smoothing': True, 'augmented': True, 'batchSize': 16, 'fc_layers': 1, 'image_path': 'Curated4/Easy_50', 'img_res': 448, 'lambda': 0.010260917993503513, 'learning_rate': 5.6967307472921586e-05, 'link_layer': 'avgpool', 'modelType': 'HGNN_add', 'noSpeciesBackprop': False, 'numOfTrials': 1, 'suffix': None, 'tl_model': 'ResNet18', 'unsupervisedOnTest': False}\n",
      "Creating datasets...\n",
      "Creating datasets... Done.\n",
      "Creating loaders...\n",
      "Creating loaders... Done.\n"
     ]
    },
    {
     "data": {
      "application/vnd.jupyter.widget-view+json": {
       "model_id": "4ac8509aff4f4e93904b87729fdfff1c",
       "version_major": 2,
       "version_minor": 0
      },
      "text/plain": [
       "HBox(children=(FloatProgress(value=0.0, description='trial', max=1.0, style=ProgressStyle(description_width='i…"
      ]
     },
     "metadata": {},
     "output_type": "display_data"
    },
    {
     "name": "stdout",
     "output_type": "stream",
     "text": [
      "{'experimentName': 'HGNN_sweep', 'modelName': 'models/ee8103e2fe75b21c61a474b8f69804b0c2fbc28dbc17b4b3db84d7ad', 'datasetName': 'datasplits/7c7513bdfb4e5577fef1c3ec0fa6452d30d87dbc95f258a7c86dd76b', 'experimentHash': 'c908caba8bcbb0608d17eb49c2a8f8c305281b1d495e21a09a493b62', 'trialHash': 'ee8103e2fe75b21c61a474b8f69804b0c2fbc28dbc17b4b3db84d7ad', 'adaptive_alpha': 0.7331866993094405, 'adaptive_lambda': 0.0067474913007075565, 'adaptive_smoothing': True, 'augmented': True, 'batchSize': 16, 'fc_layers': 1, 'image_path': 'Curated4/Easy_50', 'img_res': 448, 'lambda': 0.010260917993503513, 'learning_rate': 5.6967307472921586e-05, 'link_layer': 'avgpool', 'modelType': 'HGNN_add', 'noSpeciesBackprop': False, 'numOfTrials': 1, 'suffix': None, 'tl_model': 'ResNet18', 'unsupervisedOnTest': False}\n"
     ]
    },
    {
     "name": "stderr",
     "output_type": "stream",
     "text": [
      "\r",
      "iteration:   0%|          | 0/500 [00:00<?, ?it/s]"
     ]
    },
    {
     "name": "stdout",
     "output_type": "stream",
     "text": [
      "Training started...\n"
     ]
    },
    {
     "name": "stderr",
     "output_type": "stream",
     "text": [
      "iteration:   3%|▎         | 15/500 [11:41<6:15:54, 46.50s/it, min_val_loss=1.22, train=0.999, val=0.823, val_loss=3.21]"
     ]
    },
    {
     "name": "stdout",
     "output_type": "stream",
     "text": [
      "Early stopping\n",
      "total number of epochs:  14\n"
     ]
    },
    {
     "name": "stderr",
     "output_type": "stream",
     "text": [
      "iteration:   3%|▎         | 15/500 [11:44<6:19:25, 46.94s/it, min_val_loss=1.22, train=0.999, val=0.823, val_loss=3.21]\n"
     ]
    },
    {
     "data": {
      "text/html": [
       "<br/>Waiting for W&B process to finish, PID 30863<br/>Program ended successfully."
      ],
      "text/plain": [
       "<IPython.core.display.HTML object>"
      ]
     },
     "metadata": {},
     "output_type": "display_data"
    },
    {
     "data": {
      "application/vnd.jupyter.widget-view+json": {
       "model_id": "",
       "version_major": 2,
       "version_minor": 0
      },
      "text/plain": [
       "VBox(children=(Label(value=' 0.00MB of 0.00MB uploaded (0.00MB deduped)\\r'), FloatProgress(value=1.0, max=1.0)…"
      ]
     },
     "metadata": {},
     "output_type": "display_data"
    },
    {
     "data": {
      "text/html": [
       "Find user logs for this run at: <code>/home/elhamod/HGNN/code/HGNN/HGNN/train/wandb/run-20210106_034846-7mev2qp0/logs/debug.log</code>"
      ],
      "text/plain": [
       "<IPython.core.display.HTML object>"
      ]
     },
     "metadata": {},
     "output_type": "display_data"
    },
    {
     "data": {
      "text/html": [
       "Find internal logs for this run at: <code>/home/elhamod/HGNN/code/HGNN/HGNN/train/wandb/run-20210106_034846-7mev2qp0/logs/debug-internal.log</code>"
      ],
      "text/plain": [
       "<IPython.core.display.HTML object>"
      ]
     },
     "metadata": {},
     "output_type": "display_data"
    },
    {
     "data": {
      "text/html": [
       "<h3>Run summary:</h3><br/><style>\n",
       "    table.wandb td:nth-child(1) { padding: 0 10px; text-align: right }\n",
       "    </style><table class=\"wandb\">\n",
       "<tr><td>loss</td><td>0.88868</td></tr><tr><td>batch</td><td>1139</td></tr><tr><td>epoch</td><td>14</td></tr><tr><td>loss_fine</td><td>0.88722</td></tr><tr><td>loss_coarse</td><td>0.96169</td></tr><tr><td>lambda_fine</td><td>0.98038</td></tr><tr><td>lambda_coarse</td><td>0.01962</td></tr><tr><td>_step</td><td>1154</td></tr><tr><td>_runtime</td><td>703</td></tr><tr><td>_timestamp</td><td>1609923629</td></tr><tr><td>validation_fine_f1</td><td>0.82257</td></tr><tr><td>training_fine_f1</td><td>0.99918</td></tr><tr><td>validation_loss</td><td>3.21401</td></tr></table>"
      ],
      "text/plain": [
       "<IPython.core.display.HTML object>"
      ]
     },
     "metadata": {},
     "output_type": "display_data"
    },
    {
     "data": {
      "text/html": [
       "<h3>Run history:</h3><br/><style>\n",
       "    table.wandb td:nth-child(1) { padding: 0 10px; text-align: right }\n",
       "    </style><table class=\"wandb\">\n",
       "<tr><td>loss</td><td>█▇▆▄▃▄▃▃▂▃▃▂▂▂▂▃▂▂▂▁▁▂▂▂▂▁▁▂▂▁▂▂▁▂▂▁▁▁▂▂</td></tr><tr><td>batch</td><td>▁▁▁▁▂▂▂▂▂▃▃▃▃▃▃▄▄▄▄▄▅▅▅▅▅▅▆▆▆▆▆▇▇▇▇▇▇███</td></tr><tr><td>epoch</td><td>▁▁▁▁▁▂▂▂▃▃▃▃▃▃▃▃▄▄▄▅▅▅▅▅▅▅▅▆▆▇▇▇▇▇▇▇▇███</td></tr><tr><td>loss_fine</td><td>█▇▆▄▃▄▃▃▂▃▃▂▂▂▂▃▂▂▂▁▁▂▂▂▂▁▁▂▂▁▂▂▁▂▂▁▁▁▂▂</td></tr><tr><td>loss_coarse</td><td>██▇▇▅▅▃▅▃▃▃▃▃▄▄▅▁▂▁▂▂▂▄▁▃▁▁▂▂▃▂▁▂▂▁▁▂▃▁▂</td></tr><tr><td>lambda_fine</td><td>█████▇▆▇▆▆▆▆▇▇▇█▂▄▂▅▆▆▇▃▆▄▂▅▃▇▄▂▅▃▃▃▆▇▁▅</td></tr><tr><td>lambda_coarse</td><td>▁▁▁▁▁▂▃▂▃▃▃▃▂▂▂▁▇▅▇▄▃▃▂▆▃▅▇▄▆▂▅▇▄▆▆▆▃▂█▄</td></tr><tr><td>_step</td><td>▁▁▁▁▂▂▂▂▂▃▃▃▃▃▃▄▄▄▄▄▅▅▅▅▅▅▆▆▆▆▆▇▇▇▇▇▇███</td></tr><tr><td>_runtime</td><td>▁▁▁▁▂▂▂▂▂▃▃▃▃▃▄▄▄▄▄▅▅▅▅▅▅▆▆▆▆▆▆▇▇▇▇▇▇███</td></tr><tr><td>_timestamp</td><td>▁▁▁▁▂▂▂▂▂▃▃▃▃▃▄▄▄▄▄▅▅▅▅▅▅▆▆▆▆▆▆▇▇▇▇▇▇███</td></tr><tr><td>validation_fine_f1</td><td>▁▅▅▇▇▇▇█▇███▇██</td></tr><tr><td>training_fine_f1</td><td>▁▅▆▇███████████</td></tr><tr><td>validation_loss</td><td>█▆▅▄▃▂▂▂▁▁▁▁▂▁▁</td></tr></table><br/>"
      ],
      "text/plain": [
       "<IPython.core.display.HTML object>"
      ]
     },
     "metadata": {},
     "output_type": "display_data"
    },
    {
     "data": {
      "text/html": [
       "Synced 5 W&B file(s), 0 media file(s), 0 artifact file(s) and 0 other file(s)"
      ],
      "text/plain": [
       "<IPython.core.display.HTML object>"
      ]
     },
     "metadata": {},
     "output_type": "display_data"
    },
    {
     "data": {
      "text/html": [
       "\n",
       "                    <br/>Synced <strong style=\"color:#cdcd00\">valiant-sweep-18</strong>: <a href=\"https://wandb.ai/mndhamod/HGNN_sweep/runs/7mev2qp0\" target=\"_blank\">https://wandb.ai/mndhamod/HGNN_sweep/runs/7mev2qp0</a><br/>\n",
       "                "
      ],
      "text/plain": [
       "<IPython.core.display.HTML object>"
      ]
     },
     "metadata": {},
     "output_type": "display_data"
    },
    {
     "name": "stdout",
     "output_type": "stream",
     "text": [
      "\n"
     ]
    },
    {
     "name": "stderr",
     "output_type": "stream",
     "text": [
      "\u001b[34m\u001b[1mwandb\u001b[0m: Agent Starting Run: cs8pquhv with config:\n",
      "\u001b[34m\u001b[1mwandb\u001b[0m: \tadaptive_alpha: 0.7141660395091152\n",
      "\u001b[34m\u001b[1mwandb\u001b[0m: \tadaptive_lambda: 0.0776897269008682\n",
      "\u001b[34m\u001b[1mwandb\u001b[0m: \tadaptive_smoothing: False\n",
      "\u001b[34m\u001b[1mwandb\u001b[0m: \taugmented: True\n",
      "\u001b[34m\u001b[1mwandb\u001b[0m: \tbatchSize: 16\n",
      "\u001b[34m\u001b[1mwandb\u001b[0m: \tfc_layers: 1\n",
      "\u001b[34m\u001b[1mwandb\u001b[0m: \timage_path: Curated4/Easy_50\n",
      "\u001b[34m\u001b[1mwandb\u001b[0m: \timg_res: 448\n",
      "\u001b[34m\u001b[1mwandb\u001b[0m: \tlambda: 0.006817971494050958\n",
      "\u001b[34m\u001b[1mwandb\u001b[0m: \tlearning_rate: 0.00016611304262454507\n",
      "\u001b[34m\u001b[1mwandb\u001b[0m: \tlink_layer: avgpool\n",
      "\u001b[34m\u001b[1mwandb\u001b[0m: \tmodelType: HGNN_add\n",
      "\u001b[34m\u001b[1mwandb\u001b[0m: \tnoSpeciesBackprop: True\n",
      "\u001b[34m\u001b[1mwandb\u001b[0m: \tnumOfTrials: 1\n",
      "\u001b[34m\u001b[1mwandb\u001b[0m: \tsuffix: None\n",
      "\u001b[34m\u001b[1mwandb\u001b[0m: \ttl_model: ResNet18\n",
      "\u001b[34m\u001b[1mwandb\u001b[0m: \tunsupervisedOnTest: False\n"
     ]
    },
    {
     "data": {
      "text/html": [
       "\n",
       "                Tracking run with wandb version 0.10.12<br/>\n",
       "                Syncing run <strong style=\"color:#cdcd00\">upbeat-sweep-19</strong> to <a href=\"https://wandb.ai\" target=\"_blank\">Weights & Biases</a> <a href=\"https://docs.wandb.com/integrations/jupyter.html\" target=\"_blank\">(Documentation)</a>.<br/>\n",
       "                Project page: <a href=\"https://wandb.ai/mndhamod/HGNN_sweep\" target=\"_blank\">https://wandb.ai/mndhamod/HGNN_sweep</a><br/>\n",
       "                Sweep page: <a href=\"https://wandb.ai/mndhamod/HGNN_sweep/sweeps/7uhr6dty\" target=\"_blank\">https://wandb.ai/mndhamod/HGNN_sweep/sweeps/7uhr6dty</a><br/>\n",
       "Run page: <a href=\"https://wandb.ai/mndhamod/HGNN_sweep/runs/cs8pquhv\" target=\"_blank\">https://wandb.ai/mndhamod/HGNN_sweep/runs/cs8pquhv</a><br/>\n",
       "                Run data is saved locally in <code>/home/elhamod/HGNN/code/HGNN/HGNN/train/wandb/run-20210106_040038-cs8pquhv</code><br/><br/>\n",
       "            "
      ],
      "text/plain": [
       "<IPython.core.display.HTML object>"
      ]
     },
     "metadata": {},
     "output_type": "display_data"
    },
    {
     "name": "stdout",
     "output_type": "stream",
     "text": [
      "{'adaptive_alpha': 0.7141660395091152, 'adaptive_lambda': 0.0776897269008682, 'adaptive_smoothing': False, 'augmented': True, 'batchSize': 16, 'fc_layers': 1, 'image_path': 'Curated4/Easy_50', 'img_res': 448, 'lambda': 0.006817971494050958, 'learning_rate': 0.00016611304262454507, 'link_layer': 'avgpool', 'modelType': 'HGNN_add', 'noSpeciesBackprop': True, 'numOfTrials': 1, 'suffix': None, 'tl_model': 'ResNet18', 'unsupervisedOnTest': False}\n",
      "Creating datasets...\n",
      "Creating datasets... Done.\n",
      "Creating loaders...\n",
      "Creating loaders... Done.\n"
     ]
    },
    {
     "data": {
      "application/vnd.jupyter.widget-view+json": {
       "model_id": "0e3e73b85cce4b5e8c50403fef939966",
       "version_major": 2,
       "version_minor": 0
      },
      "text/plain": [
       "HBox(children=(FloatProgress(value=0.0, description='trial', max=1.0, style=ProgressStyle(description_width='i…"
      ]
     },
     "metadata": {},
     "output_type": "display_data"
    },
    {
     "name": "stdout",
     "output_type": "stream",
     "text": [
      "{'experimentName': 'HGNN_sweep', 'modelName': 'models/7392b9f893fdcd1fe628dbbc41cabb34fb64dffa33505606b5325a1b', 'datasetName': 'datasplits/7c7513bdfb4e5577fef1c3ec0fa6452d30d87dbc95f258a7c86dd76b', 'experimentHash': 'cf51297666eed96448d8e2f7a894aa4b25444b2c8e2cee091e9b482b', 'trialHash': '7392b9f893fdcd1fe628dbbc41cabb34fb64dffa33505606b5325a1b', 'adaptive_alpha': 0.7141660395091152, 'adaptive_lambda': 0.0776897269008682, 'adaptive_smoothing': False, 'augmented': True, 'batchSize': 16, 'fc_layers': 1, 'image_path': 'Curated4/Easy_50', 'img_res': 448, 'lambda': 0.006817971494050958, 'learning_rate': 0.00016611304262454507, 'link_layer': 'avgpool', 'modelType': 'HGNN_add', 'noSpeciesBackprop': True, 'numOfTrials': 1, 'suffix': None, 'tl_model': 'ResNet18', 'unsupervisedOnTest': False}\n"
     ]
    },
    {
     "name": "stderr",
     "output_type": "stream",
     "text": [
      "\r",
      "iteration:   0%|          | 0/500 [00:00<?, ?it/s]"
     ]
    },
    {
     "name": "stdout",
     "output_type": "stream",
     "text": [
      "Training started...\n"
     ]
    },
    {
     "name": "stderr",
     "output_type": "stream",
     "text": [
      "iteration:   3%|▎         | 13/500 [10:01<6:09:17, 45.50s/it, min_val_loss=1.2, train=0.999, val=0.797, val_loss=3.16]"
     ]
    },
    {
     "name": "stdout",
     "output_type": "stream",
     "text": [
      "Early stopping\n",
      "total number of epochs:  12\n"
     ]
    },
    {
     "name": "stderr",
     "output_type": "stream",
     "text": [
      "iteration:   3%|▎         | 13/500 [10:03<6:16:46, 46.42s/it, min_val_loss=1.2, train=0.999, val=0.797, val_loss=3.16]\n"
     ]
    },
    {
     "data": {
      "text/html": [
       "<br/>Waiting for W&B process to finish, PID 35439<br/>Program ended successfully."
      ],
      "text/plain": [
       "<IPython.core.display.HTML object>"
      ]
     },
     "metadata": {},
     "output_type": "display_data"
    },
    {
     "data": {
      "application/vnd.jupyter.widget-view+json": {
       "model_id": "",
       "version_major": 2,
       "version_minor": 0
      },
      "text/plain": [
       "VBox(children=(Label(value=' 0.00MB of 0.00MB uploaded (0.00MB deduped)\\r'), FloatProgress(value=1.0, max=1.0)…"
      ]
     },
     "metadata": {},
     "output_type": "display_data"
    },
    {
     "data": {
      "text/html": [
       "Find user logs for this run at: <code>/home/elhamod/HGNN/code/HGNN/HGNN/train/wandb/run-20210106_040038-cs8pquhv/logs/debug.log</code>"
      ],
      "text/plain": [
       "<IPython.core.display.HTML object>"
      ]
     },
     "metadata": {},
     "output_type": "display_data"
    },
    {
     "data": {
      "text/html": [
       "Find internal logs for this run at: <code>/home/elhamod/HGNN/code/HGNN/HGNN/train/wandb/run-20210106_040038-cs8pquhv/logs/debug-internal.log</code>"
      ],
      "text/plain": [
       "<IPython.core.display.HTML object>"
      ]
     },
     "metadata": {},
     "output_type": "display_data"
    },
    {
     "data": {
      "text/html": [
       "<h3>Run summary:</h3><br/><style>\n",
       "    table.wandb td:nth-child(1) { padding: 0 10px; text-align: right }\n",
       "    </style><table class=\"wandb\">\n",
       "<tr><td>loss</td><td>0.69056</td></tr><tr><td>batch</td><td>987</td></tr><tr><td>epoch</td><td>12</td></tr><tr><td>loss_fine</td><td>0.68529</td></tr><tr><td>loss_coarse</td><td>0.77327</td></tr><tr><td>lambda_fine</td><td>1</td></tr><tr><td>lambda_coarse</td><td>0.00682</td></tr><tr><td>_step</td><td>1000</td></tr><tr><td>_runtime</td><td>603</td></tr><tr><td>_timestamp</td><td>1609924241</td></tr><tr><td>validation_fine_f1</td><td>0.79739</td></tr><tr><td>training_fine_f1</td><td>0.99918</td></tr><tr><td>validation_loss</td><td>3.15655</td></tr></table>"
      ],
      "text/plain": [
       "<IPython.core.display.HTML object>"
      ]
     },
     "metadata": {},
     "output_type": "display_data"
    },
    {
     "data": {
      "text/html": [
       "<h3>Run history:</h3><br/><style>\n",
       "    table.wandb td:nth-child(1) { padding: 0 10px; text-align: right }\n",
       "    </style><table class=\"wandb\">\n",
       "<tr><td>loss</td><td>█▆▆▄▄▅▄▄▃▃▃▃▃▂▃▃▂▃▂▃▂▂▂▂▂▂▁▃▁▂▂▁▂▂▁▁▂▁▂▁</td></tr><tr><td>batch</td><td>▁▁▁▂▂▂▂▂▂▃▃▃▃▃▃▄▄▄▄▄▅▅▅▅▅▅▆▆▆▆▆▇▇▇▇▇▇███</td></tr><tr><td>epoch</td><td>▁▁▁▂▂▂▂▂▂▃▃▃▃▃▃▃▄▄▅▅▅▅▅▅▅▆▆▆▆▆▆▇▇▇▇▇▇███</td></tr><tr><td>loss_fine</td><td>█▆▆▄▄▅▄▄▃▃▃▃▃▂▃▃▂▃▂▃▂▂▂▂▂▂▁▃▁▂▂▁▂▂▁▁▂▁▂▁</td></tr><tr><td>loss_coarse</td><td>▆▅▄▄▂▆▃▇▃▄▃█▅▁▅▂▄█▂▄▃▄▆▄▁▅▂▅▂▃▄▄▂▃▄▃▅▆▂▁</td></tr><tr><td>lambda_fine</td><td>▁▁▁▁▁▁▁▁▁▁▁▁▁▁▁▁▁▁▁▁▁▁▁▁▁▁▁▁▁▁▁▁▁▁▁▁▁▁▁▁</td></tr><tr><td>lambda_coarse</td><td>▁▁▁▁▁▁▁▁▁▁▁▁▁▁▁▁▁▁▁▁▁▁▁▁▁▁▁▁▁▁▁▁▁▁▁▁▁▁▁▁</td></tr><tr><td>_step</td><td>▁▁▁▂▂▂▂▂▂▃▃▃▃▃▄▄▄▄▄▄▅▅▅▅▅▅▆▆▆▆▆▇▇▇▇▇▇███</td></tr><tr><td>_runtime</td><td>▁▁▁▂▂▂▂▂▂▃▃▃▃▃▃▃▄▄▄▄▅▅▅▅▆▆▆▆▆▆▆▇▇▇▇▇▇███</td></tr><tr><td>_timestamp</td><td>▁▁▁▂▂▂▂▂▂▃▃▃▃▃▃▃▄▄▄▄▅▅▅▅▆▆▆▆▆▆▆▇▇▇▇▇▇███</td></tr><tr><td>validation_fine_f1</td><td>▁▄▅▅▇▇▇█████▇</td></tr><tr><td>training_fine_f1</td><td>▁▅▆▆▇▇▇██████</td></tr><tr><td>validation_loss</td><td>█▆▅▄▄▂▃▂▂▁▁▁▂</td></tr></table><br/>"
      ],
      "text/plain": [
       "<IPython.core.display.HTML object>"
      ]
     },
     "metadata": {},
     "output_type": "display_data"
    },
    {
     "data": {
      "text/html": [
       "Synced 5 W&B file(s), 0 media file(s), 0 artifact file(s) and 0 other file(s)"
      ],
      "text/plain": [
       "<IPython.core.display.HTML object>"
      ]
     },
     "metadata": {},
     "output_type": "display_data"
    },
    {
     "data": {
      "text/html": [
       "\n",
       "                    <br/>Synced <strong style=\"color:#cdcd00\">upbeat-sweep-19</strong>: <a href=\"https://wandb.ai/mndhamod/HGNN_sweep/runs/cs8pquhv\" target=\"_blank\">https://wandb.ai/mndhamod/HGNN_sweep/runs/cs8pquhv</a><br/>\n",
       "                "
      ],
      "text/plain": [
       "<IPython.core.display.HTML object>"
      ]
     },
     "metadata": {},
     "output_type": "display_data"
    },
    {
     "name": "stdout",
     "output_type": "stream",
     "text": [
      "\n"
     ]
    },
    {
     "name": "stderr",
     "output_type": "stream",
     "text": [
      "\u001b[34m\u001b[1mwandb\u001b[0m: Agent Starting Run: p1sbgpm4 with config:\n",
      "\u001b[34m\u001b[1mwandb\u001b[0m: \tadaptive_alpha: 0.6697991055747976\n",
      "\u001b[34m\u001b[1mwandb\u001b[0m: \tadaptive_lambda: 0.04137178797785804\n",
      "\u001b[34m\u001b[1mwandb\u001b[0m: \tadaptive_smoothing: False\n",
      "\u001b[34m\u001b[1mwandb\u001b[0m: \taugmented: True\n",
      "\u001b[34m\u001b[1mwandb\u001b[0m: \tbatchSize: 16\n",
      "\u001b[34m\u001b[1mwandb\u001b[0m: \tfc_layers: 1\n",
      "\u001b[34m\u001b[1mwandb\u001b[0m: \timage_path: Curated4/Easy_50\n",
      "\u001b[34m\u001b[1mwandb\u001b[0m: \timg_res: 448\n",
      "\u001b[34m\u001b[1mwandb\u001b[0m: \tlambda: 0.06399454806003121\n",
      "\u001b[34m\u001b[1mwandb\u001b[0m: \tlearning_rate: 6.068252772911084e-05\n",
      "\u001b[34m\u001b[1mwandb\u001b[0m: \tlink_layer: avgpool\n",
      "\u001b[34m\u001b[1mwandb\u001b[0m: \tmodelType: HGNN_add\n",
      "\u001b[34m\u001b[1mwandb\u001b[0m: \tnoSpeciesBackprop: True\n",
      "\u001b[34m\u001b[1mwandb\u001b[0m: \tnumOfTrials: 1\n",
      "\u001b[34m\u001b[1mwandb\u001b[0m: \tsuffix: None\n",
      "\u001b[34m\u001b[1mwandb\u001b[0m: \ttl_model: ResNet18\n",
      "\u001b[34m\u001b[1mwandb\u001b[0m: \tunsupervisedOnTest: False\n"
     ]
    },
    {
     "data": {
      "text/html": [
       "\n",
       "                Tracking run with wandb version 0.10.12<br/>\n",
       "                Syncing run <strong style=\"color:#cdcd00\">neat-sweep-20</strong> to <a href=\"https://wandb.ai\" target=\"_blank\">Weights & Biases</a> <a href=\"https://docs.wandb.com/integrations/jupyter.html\" target=\"_blank\">(Documentation)</a>.<br/>\n",
       "                Project page: <a href=\"https://wandb.ai/mndhamod/HGNN_sweep\" target=\"_blank\">https://wandb.ai/mndhamod/HGNN_sweep</a><br/>\n",
       "                Sweep page: <a href=\"https://wandb.ai/mndhamod/HGNN_sweep/sweeps/7uhr6dty\" target=\"_blank\">https://wandb.ai/mndhamod/HGNN_sweep/sweeps/7uhr6dty</a><br/>\n",
       "Run page: <a href=\"https://wandb.ai/mndhamod/HGNN_sweep/runs/p1sbgpm4\" target=\"_blank\">https://wandb.ai/mndhamod/HGNN_sweep/runs/p1sbgpm4</a><br/>\n",
       "                Run data is saved locally in <code>/home/elhamod/HGNN/code/HGNN/HGNN/train/wandb/run-20210106_041049-p1sbgpm4</code><br/><br/>\n",
       "            "
      ],
      "text/plain": [
       "<IPython.core.display.HTML object>"
      ]
     },
     "metadata": {},
     "output_type": "display_data"
    },
    {
     "name": "stdout",
     "output_type": "stream",
     "text": [
      "{'adaptive_alpha': 0.6697991055747976, 'adaptive_lambda': 0.04137178797785804, 'adaptive_smoothing': False, 'augmented': True, 'batchSize': 16, 'fc_layers': 1, 'image_path': 'Curated4/Easy_50', 'img_res': 448, 'lambda': 0.06399454806003121, 'learning_rate': 6.068252772911084e-05, 'link_layer': 'avgpool', 'modelType': 'HGNN_add', 'noSpeciesBackprop': True, 'numOfTrials': 1, 'suffix': None, 'tl_model': 'ResNet18', 'unsupervisedOnTest': False}\n",
      "Creating datasets...\n",
      "Creating datasets... Done.\n",
      "Creating loaders...\n",
      "Creating loaders... Done.\n"
     ]
    },
    {
     "data": {
      "application/vnd.jupyter.widget-view+json": {
       "model_id": "1e7ea2a8d1cb4d35a0fb48d78d1c9098",
       "version_major": 2,
       "version_minor": 0
      },
      "text/plain": [
       "HBox(children=(FloatProgress(value=0.0, description='trial', max=1.0, style=ProgressStyle(description_width='i…"
      ]
     },
     "metadata": {},
     "output_type": "display_data"
    },
    {
     "name": "stdout",
     "output_type": "stream",
     "text": [
      "{'experimentName': 'HGNN_sweep', 'modelName': 'models/23c66597b6d1e5363a5391e3d80db7a2d09e47a6c8f5e2762bd66e4a', 'datasetName': 'datasplits/7c7513bdfb4e5577fef1c3ec0fa6452d30d87dbc95f258a7c86dd76b', 'experimentHash': '5bf88d5d1d2f9187ed7d8d319f74bbc84b936cc304103a03d553a77b', 'trialHash': '23c66597b6d1e5363a5391e3d80db7a2d09e47a6c8f5e2762bd66e4a', 'adaptive_alpha': 0.6697991055747976, 'adaptive_lambda': 0.04137178797785804, 'adaptive_smoothing': False, 'augmented': True, 'batchSize': 16, 'fc_layers': 1, 'image_path': 'Curated4/Easy_50', 'img_res': 448, 'lambda': 0.06399454806003121, 'learning_rate': 6.068252772911084e-05, 'link_layer': 'avgpool', 'modelType': 'HGNN_add', 'noSpeciesBackprop': True, 'numOfTrials': 1, 'suffix': None, 'tl_model': 'ResNet18', 'unsupervisedOnTest': False}\n"
     ]
    },
    {
     "name": "stderr",
     "output_type": "stream",
     "text": [
      "\r",
      "iteration:   0%|          | 0/500 [00:00<?, ?it/s]"
     ]
    },
    {
     "name": "stdout",
     "output_type": "stream",
     "text": [
      "Training started...\n"
     ]
    },
    {
     "name": "stderr",
     "output_type": "stream",
     "text": [
      "iteration:   5%|▌         | 25/500 [19:03<5:59:17, 45.38s/it, min_val_loss=1.18, train=1, val=0.844, val_loss=3.15]    "
     ]
    },
    {
     "name": "stdout",
     "output_type": "stream",
     "text": [
      "Early stopping\n",
      "total number of epochs:  24\n"
     ]
    },
    {
     "name": "stderr",
     "output_type": "stream",
     "text": [
      "iteration:   5%|▌         | 25/500 [19:05<6:02:42, 45.82s/it, min_val_loss=1.18, train=1, val=0.844, val_loss=3.15]\n"
     ]
    },
    {
     "data": {
      "text/html": [
       "<br/>Waiting for W&B process to finish, PID 39191<br/>Program ended successfully."
      ],
      "text/plain": [
       "<IPython.core.display.HTML object>"
      ]
     },
     "metadata": {},
     "output_type": "display_data"
    },
    {
     "data": {
      "application/vnd.jupyter.widget-view+json": {
       "model_id": "",
       "version_major": 2,
       "version_minor": 0
      },
      "text/plain": [
       "VBox(children=(Label(value=' 0.00MB of 0.00MB uploaded (0.00MB deduped)\\r'), FloatProgress(value=1.0, max=1.0)…"
      ]
     },
     "metadata": {},
     "output_type": "display_data"
    },
    {
     "data": {
      "text/html": [
       "Find user logs for this run at: <code>/home/elhamod/HGNN/code/HGNN/HGNN/train/wandb/run-20210106_041049-p1sbgpm4/logs/debug.log</code>"
      ],
      "text/plain": [
       "<IPython.core.display.HTML object>"
      ]
     },
     "metadata": {},
     "output_type": "display_data"
    },
    {
     "data": {
      "text/html": [
       "Find internal logs for this run at: <code>/home/elhamod/HGNN/code/HGNN/HGNN/train/wandb/run-20210106_041049-p1sbgpm4/logs/debug-internal.log</code>"
      ],
      "text/plain": [
       "<IPython.core.display.HTML object>"
      ]
     },
     "metadata": {},
     "output_type": "display_data"
    },
    {
     "data": {
      "text/html": [
       "<h3>Run summary:</h3><br/><style>\n",
       "    table.wandb td:nth-child(1) { padding: 0 10px; text-align: right }\n",
       "    </style><table class=\"wandb\">\n",
       "<tr><td>loss</td><td>1.02957</td></tr><tr><td>batch</td><td>1899</td></tr><tr><td>epoch</td><td>24</td></tr><tr><td>loss_fine</td><td>0.95868</td></tr><tr><td>loss_coarse</td><td>1.10782</td></tr><tr><td>lambda_fine</td><td>1</td></tr><tr><td>lambda_coarse</td><td>0.06399</td></tr><tr><td>_step</td><td>1924</td></tr><tr><td>_runtime</td><td>1146</td></tr><tr><td>_timestamp</td><td>1609925395</td></tr><tr><td>validation_fine_f1</td><td>0.84364</td></tr><tr><td>training_fine_f1</td><td>1.0</td></tr><tr><td>validation_loss</td><td>3.14633</td></tr></table>"
      ],
      "text/plain": [
       "<IPython.core.display.HTML object>"
      ]
     },
     "metadata": {},
     "output_type": "display_data"
    },
    {
     "data": {
      "text/html": [
       "<h3>Run history:</h3><br/><style>\n",
       "    table.wandb td:nth-child(1) { padding: 0 10px; text-align: right }\n",
       "    </style><table class=\"wandb\">\n",
       "<tr><td>loss</td><td>█▅▄▃▃▃▂▃▂▃▃▂▂▂▂▂▂▂▁▂▃▂▂▂▂▁▂▁▁▁▁▂▁▁▂▂▁▂▁▂</td></tr><tr><td>batch</td><td>▁▁▁▂▂▂▂▂▂▃▃▃▃▃▄▄▄▄▄▄▅▅▅▅▅▅▆▆▆▆▆▇▇▇▇▇▇███</td></tr><tr><td>epoch</td><td>▁▁▁▂▂▂▂▂▂▂▃▃▃▃▃▄▄▄▄▅▅▅▅▅▅▅▆▆▆▆▇▇▇▇▇▇▇███</td></tr><tr><td>loss_fine</td><td>█▅▄▃▃▃▂▃▂▃▃▂▂▂▂▂▂▁▁▂▃▂▂▂▂▁▂▁▁▁▁▂▁▁▂▂▁▂▁▂</td></tr><tr><td>loss_coarse</td><td>█▅▅▁▃▄▂▂▃▃▃▃▂▂▂▃▃▄▂▂▅▄▃▃▄▄▃▁▅▁▂▂▃▁▃▃▂▁▂▃</td></tr><tr><td>lambda_fine</td><td>▁▁▁▁▁▁▁▁▁▁▁▁▁▁▁▁▁▁▁▁▁▁▁▁▁▁▁▁▁▁▁▁▁▁▁▁▁▁▁▁</td></tr><tr><td>lambda_coarse</td><td>▁▁▁▁▁▁▁▁▁▁▁▁▁▁▁▁▁▁▁▁▁▁▁▁▁▁▁▁▁▁▁▁▁▁▁▁▁▁▁▁</td></tr><tr><td>_step</td><td>▁▁▁▂▂▂▂▂▂▃▃▃▃▃▃▄▄▄▄▄▅▅▅▅▅▅▆▆▆▆▆▇▇▇▇▇▇███</td></tr><tr><td>_runtime</td><td>▁▁▁▂▂▂▂▂▂▃▃▃▃▃▃▄▄▄▄▄▅▅▅▅▅▆▆▆▆▆▆▇▇▇▇▇▇███</td></tr><tr><td>_timestamp</td><td>▁▁▁▂▂▂▂▂▂▃▃▃▃▃▃▄▄▄▄▄▅▅▅▅▅▆▆▆▆▆▆▇▇▇▇▇▇███</td></tr><tr><td>validation_fine_f1</td><td>▁▅▅▆▇▇▇▇▇▇▇▇███▇█████████</td></tr><tr><td>training_fine_f1</td><td>▁▅▇▇█████████████████████</td></tr><tr><td>validation_loss</td><td>█▆▅▄▃▃▃▃▃▃▂▂▂▂▂▂▂▁▁▂▂▂▂▁▁</td></tr></table><br/>"
      ],
      "text/plain": [
       "<IPython.core.display.HTML object>"
      ]
     },
     "metadata": {},
     "output_type": "display_data"
    },
    {
     "data": {
      "text/html": [
       "Synced 5 W&B file(s), 0 media file(s), 0 artifact file(s) and 0 other file(s)"
      ],
      "text/plain": [
       "<IPython.core.display.HTML object>"
      ]
     },
     "metadata": {},
     "output_type": "display_data"
    },
    {
     "data": {
      "text/html": [
       "\n",
       "                    <br/>Synced <strong style=\"color:#cdcd00\">neat-sweep-20</strong>: <a href=\"https://wandb.ai/mndhamod/HGNN_sweep/runs/p1sbgpm4\" target=\"_blank\">https://wandb.ai/mndhamod/HGNN_sweep/runs/p1sbgpm4</a><br/>\n",
       "                "
      ],
      "text/plain": [
       "<IPython.core.display.HTML object>"
      ]
     },
     "metadata": {},
     "output_type": "display_data"
    },
    {
     "name": "stdout",
     "output_type": "stream",
     "text": [
      "\n"
     ]
    },
    {
     "name": "stderr",
     "output_type": "stream",
     "text": [
      "\u001b[34m\u001b[1mwandb\u001b[0m: Agent Starting Run: 8tdwvu7m with config:\n",
      "\u001b[34m\u001b[1mwandb\u001b[0m: \tadaptive_alpha: 0.5056804813209361\n",
      "\u001b[34m\u001b[1mwandb\u001b[0m: \tadaptive_lambda: 0.058438933351742606\n",
      "\u001b[34m\u001b[1mwandb\u001b[0m: \tadaptive_smoothing: True\n",
      "\u001b[34m\u001b[1mwandb\u001b[0m: \taugmented: True\n",
      "\u001b[34m\u001b[1mwandb\u001b[0m: \tbatchSize: 32\n",
      "\u001b[34m\u001b[1mwandb\u001b[0m: \tfc_layers: 1\n",
      "\u001b[34m\u001b[1mwandb\u001b[0m: \timage_path: Curated4/Easy_50\n",
      "\u001b[34m\u001b[1mwandb\u001b[0m: \timg_res: 448\n",
      "\u001b[34m\u001b[1mwandb\u001b[0m: \tlambda: 0.176848838385143\n",
      "\u001b[34m\u001b[1mwandb\u001b[0m: \tlearning_rate: 5.562034104156242e-05\n",
      "\u001b[34m\u001b[1mwandb\u001b[0m: \tlink_layer: avgpool\n",
      "\u001b[34m\u001b[1mwandb\u001b[0m: \tmodelType: HGNN_add\n",
      "\u001b[34m\u001b[1mwandb\u001b[0m: \tnoSpeciesBackprop: True\n",
      "\u001b[34m\u001b[1mwandb\u001b[0m: \tnumOfTrials: 1\n",
      "\u001b[34m\u001b[1mwandb\u001b[0m: \tsuffix: None\n",
      "\u001b[34m\u001b[1mwandb\u001b[0m: \ttl_model: ResNet18\n",
      "\u001b[34m\u001b[1mwandb\u001b[0m: \tunsupervisedOnTest: False\n"
     ]
    },
    {
     "data": {
      "text/html": [
       "\n",
       "                Tracking run with wandb version 0.10.12<br/>\n",
       "                Syncing run <strong style=\"color:#cdcd00\">worthy-sweep-21</strong> to <a href=\"https://wandb.ai\" target=\"_blank\">Weights & Biases</a> <a href=\"https://docs.wandb.com/integrations/jupyter.html\" target=\"_blank\">(Documentation)</a>.<br/>\n",
       "                Project page: <a href=\"https://wandb.ai/mndhamod/HGNN_sweep\" target=\"_blank\">https://wandb.ai/mndhamod/HGNN_sweep</a><br/>\n",
       "                Sweep page: <a href=\"https://wandb.ai/mndhamod/HGNN_sweep/sweeps/7uhr6dty\" target=\"_blank\">https://wandb.ai/mndhamod/HGNN_sweep/sweeps/7uhr6dty</a><br/>\n",
       "Run page: <a href=\"https://wandb.ai/mndhamod/HGNN_sweep/runs/8tdwvu7m\" target=\"_blank\">https://wandb.ai/mndhamod/HGNN_sweep/runs/8tdwvu7m</a><br/>\n",
       "                Run data is saved locally in <code>/home/elhamod/HGNN/code/HGNN/HGNN/train/wandb/run-20210106_043002-8tdwvu7m</code><br/><br/>\n",
       "            "
      ],
      "text/plain": [
       "<IPython.core.display.HTML object>"
      ]
     },
     "metadata": {},
     "output_type": "display_data"
    },
    {
     "name": "stdout",
     "output_type": "stream",
     "text": [
      "{'adaptive_alpha': 0.5056804813209361, 'adaptive_lambda': 0.058438933351742606, 'adaptive_smoothing': True, 'augmented': True, 'batchSize': 32, 'fc_layers': 1, 'image_path': 'Curated4/Easy_50', 'img_res': 448, 'lambda': 0.176848838385143, 'learning_rate': 5.562034104156242e-05, 'link_layer': 'avgpool', 'modelType': 'HGNN_add', 'noSpeciesBackprop': True, 'numOfTrials': 1, 'suffix': None, 'tl_model': 'ResNet18', 'unsupervisedOnTest': False}\n",
      "Creating datasets...\n",
      "Creating datasets... Done.\n",
      "Creating loaders...\n",
      "Creating loaders... Done.\n"
     ]
    },
    {
     "data": {
      "application/vnd.jupyter.widget-view+json": {
       "model_id": "af6c7220d35c418ca9b03304840c0df7",
       "version_major": 2,
       "version_minor": 0
      },
      "text/plain": [
       "HBox(children=(FloatProgress(value=0.0, description='trial', max=1.0, style=ProgressStyle(description_width='i…"
      ]
     },
     "metadata": {},
     "output_type": "display_data"
    },
    {
     "name": "stdout",
     "output_type": "stream",
     "text": [
      "{'experimentName': 'HGNN_sweep', 'modelName': 'models/c834363af3ab67dd5acf7732d6f542e9ad4b9e423059005572f8c6d6', 'datasetName': 'datasplits/7c7513bdfb4e5577fef1c3ec0fa6452d30d87dbc95f258a7c86dd76b', 'experimentHash': '5d4e90b9c3791617cd637fc83b634a65ac31f95d60e6b1d33ba4ad79', 'trialHash': 'c834363af3ab67dd5acf7732d6f542e9ad4b9e423059005572f8c6d6', 'adaptive_alpha': 0.5056804813209361, 'adaptive_lambda': 0.058438933351742606, 'adaptive_smoothing': True, 'augmented': True, 'batchSize': 32, 'fc_layers': 1, 'image_path': 'Curated4/Easy_50', 'img_res': 448, 'lambda': 0.176848838385143, 'learning_rate': 5.562034104156242e-05, 'link_layer': 'avgpool', 'modelType': 'HGNN_add', 'noSpeciesBackprop': True, 'numOfTrials': 1, 'suffix': None, 'tl_model': 'ResNet18', 'unsupervisedOnTest': False}\n"
     ]
    },
    {
     "name": "stderr",
     "output_type": "stream",
     "text": [
      "\r",
      "iteration:   0%|          | 0/500 [00:00<?, ?it/s]"
     ]
    },
    {
     "name": "stdout",
     "output_type": "stream",
     "text": [
      "Training started...\n"
     ]
    },
    {
     "name": "stderr",
     "output_type": "stream",
     "text": [
      "iteration:   5%|▌         | 27/500 [22:29<6:27:00, 49.09s/it, min_val_loss=1.18, train=1, val=0.814, val_loss=3.19]    "
     ]
    },
    {
     "name": "stdout",
     "output_type": "stream",
     "text": [
      "Early stopping\n",
      "total number of epochs:  26\n"
     ]
    },
    {
     "name": "stderr",
     "output_type": "stream",
     "text": [
      "iteration:   5%|▌         | 27/500 [22:32<6:34:52, 50.09s/it, min_val_loss=1.18, train=1, val=0.814, val_loss=3.19]\n"
     ]
    },
    {
     "data": {
      "text/html": [
       "<br/>Waiting for W&B process to finish, PID 46329<br/>Program ended successfully."
      ],
      "text/plain": [
       "<IPython.core.display.HTML object>"
      ]
     },
     "metadata": {},
     "output_type": "display_data"
    },
    {
     "data": {
      "application/vnd.jupyter.widget-view+json": {
       "model_id": "",
       "version_major": 2,
       "version_minor": 0
      },
      "text/plain": [
       "VBox(children=(Label(value=' 0.00MB of 0.00MB uploaded (0.00MB deduped)\\r'), FloatProgress(value=1.0, max=1.0)…"
      ]
     },
     "metadata": {},
     "output_type": "display_data"
    },
    {
     "data": {
      "text/html": [
       "Find user logs for this run at: <code>/home/elhamod/HGNN/code/HGNN/HGNN/train/wandb/run-20210106_043002-8tdwvu7m/logs/debug.log</code>"
      ],
      "text/plain": [
       "<IPython.core.display.HTML object>"
      ]
     },
     "metadata": {},
     "output_type": "display_data"
    },
    {
     "data": {
      "text/html": [
       "Find internal logs for this run at: <code>/home/elhamod/HGNN/code/HGNN/HGNN/train/wandb/run-20210106_043002-8tdwvu7m/logs/debug-internal.log</code>"
      ],
      "text/plain": [
       "<IPython.core.display.HTML object>"
      ]
     },
     "metadata": {},
     "output_type": "display_data"
    },
    {
     "data": {
      "text/html": [
       "<h3>Run summary:</h3><br/><style>\n",
       "    table.wandb td:nth-child(1) { padding: 0 10px; text-align: right }\n",
       "    </style><table class=\"wandb\">\n",
       "<tr><td>loss</td><td>0.55918</td></tr><tr><td>batch</td><td>1025</td></tr><tr><td>epoch</td><td>26</td></tr><tr><td>loss_fine</td><td>0.48223</td></tr><tr><td>loss_coarse</td><td>0.92204</td></tr><tr><td>lambda_fine</td><td>0.82503</td></tr><tr><td>lambda_coarse</td><td>0.17497</td></tr><tr><td>_step</td><td>1052</td></tr><tr><td>_runtime</td><td>1352</td></tr><tr><td>_timestamp</td><td>1609926754</td></tr><tr><td>validation_fine_f1</td><td>0.81368</td></tr><tr><td>training_fine_f1</td><td>1.0</td></tr><tr><td>validation_loss</td><td>3.19217</td></tr></table>"
      ],
      "text/plain": [
       "<IPython.core.display.HTML object>"
      ]
     },
     "metadata": {},
     "output_type": "display_data"
    },
    {
     "data": {
      "text/html": [
       "<h3>Run history:</h3><br/><style>\n",
       "    table.wandb td:nth-child(1) { padding: 0 10px; text-align: right }\n",
       "    </style><table class=\"wandb\">\n",
       "<tr><td>loss</td><td>█▇▄▅▄▃▂▂▂▃▂▃▂▂▂▂▂▁▁▂▁▁▂▂▁▁▁▁▁▁▂▁▂▂▁▂▁▂▂▁</td></tr><tr><td>batch</td><td>▁▁▁▁▂▂▂▂▂▃▃▃▃▃▃▄▄▄▄▄▅▅▅▅▅▅▆▆▆▆▆▇▇▇▇▇▇███</td></tr><tr><td>epoch</td><td>▁▁▁▂▂▂▂▂▂▃▃▃▃▃▃▄▄▄▄▅▅▅▅▅▅▆▆▆▆▆▆▆▇▇▇▇▇███</td></tr><tr><td>loss_fine</td><td>█▇▅▅▄▃▂▃▂▃▂▃▂▂▂▂▂▁▁▂▁▁▂▂▁▁▁▁▁▂▂▁▁▂▁▂▁▂▂▁</td></tr><tr><td>loss_coarse</td><td>█▆▃▅▃▅▃▃▂▅▅▄▃▃▃▁▄▂▂▅▄▄▄▄▃▂▂▂▄▂▃▃▄▅▃▃▄▂▂▃</td></tr><tr><td>lambda_fine</td><td>▄▁▁▄▁▆▅▄▃▇▇▅▄▄▅▁▆▄▄█▆█▇▇▅▃▄▅█▄▅▅▇▇▅▅▇▃▄▅</td></tr><tr><td>lambda_coarse</td><td>▅██▅█▃▄▅▆▂▂▄▅▅▄█▃▅▅▁▃▁▂▂▄▆▅▄▁▅▄▄▂▂▄▄▂▆▅▄</td></tr><tr><td>_step</td><td>▁▁▁▁▂▂▂▂▂▃▃▃▃▃▃▄▄▄▄▄▅▅▅▅▅▅▆▆▆▆▆▆▇▇▇▇▇███</td></tr><tr><td>_runtime</td><td>▁▁▁▂▂▂▂▂▂▃▃▃▃▃▃▄▄▄▄▅▅▅▅▅▅▆▆▆▆▆▆▆▇▇▇▇▇███</td></tr><tr><td>_timestamp</td><td>▁▁▁▂▂▂▂▂▂▃▃▃▃▃▃▄▄▄▄▅▅▅▅▅▅▆▆▆▆▆▆▆▇▇▇▇▇███</td></tr><tr><td>validation_fine_f1</td><td>▁▄▅▆▇▇▇▇▇▇▇▇▇███▇█████▇█▇██</td></tr><tr><td>training_fine_f1</td><td>▁▅▇▇███████████████████████</td></tr><tr><td>validation_loss</td><td>█▇▆▅▄▃▃▃▂▂▂▂▂▂▂▂▂▂▂▂▂▁▁▁▂▂▁</td></tr></table><br/>"
      ],
      "text/plain": [
       "<IPython.core.display.HTML object>"
      ]
     },
     "metadata": {},
     "output_type": "display_data"
    },
    {
     "data": {
      "text/html": [
       "Synced 5 W&B file(s), 0 media file(s), 0 artifact file(s) and 0 other file(s)"
      ],
      "text/plain": [
       "<IPython.core.display.HTML object>"
      ]
     },
     "metadata": {},
     "output_type": "display_data"
    },
    {
     "data": {
      "text/html": [
       "\n",
       "                    <br/>Synced <strong style=\"color:#cdcd00\">worthy-sweep-21</strong>: <a href=\"https://wandb.ai/mndhamod/HGNN_sweep/runs/8tdwvu7m\" target=\"_blank\">https://wandb.ai/mndhamod/HGNN_sweep/runs/8tdwvu7m</a><br/>\n",
       "                "
      ],
      "text/plain": [
       "<IPython.core.display.HTML object>"
      ]
     },
     "metadata": {},
     "output_type": "display_data"
    },
    {
     "name": "stdout",
     "output_type": "stream",
     "text": [
      "\n"
     ]
    },
    {
     "name": "stderr",
     "output_type": "stream",
     "text": [
      "\u001b[34m\u001b[1mwandb\u001b[0m: Agent Starting Run: rbjsny0g with config:\n",
      "\u001b[34m\u001b[1mwandb\u001b[0m: \tadaptive_alpha: 0.7179519798236408\n",
      "\u001b[34m\u001b[1mwandb\u001b[0m: \tadaptive_lambda: 0.040776145132963244\n",
      "\u001b[34m\u001b[1mwandb\u001b[0m: \tadaptive_smoothing: False\n",
      "\u001b[34m\u001b[1mwandb\u001b[0m: \taugmented: True\n",
      "\u001b[34m\u001b[1mwandb\u001b[0m: \tbatchSize: 16\n",
      "\u001b[34m\u001b[1mwandb\u001b[0m: \tfc_layers: 1\n",
      "\u001b[34m\u001b[1mwandb\u001b[0m: \timage_path: Curated4/Easy_50\n",
      "\u001b[34m\u001b[1mwandb\u001b[0m: \timg_res: 448\n",
      "\u001b[34m\u001b[1mwandb\u001b[0m: \tlambda: 0.0077952679780397376\n",
      "\u001b[34m\u001b[1mwandb\u001b[0m: \tlearning_rate: 6.32814515872476e-05\n",
      "\u001b[34m\u001b[1mwandb\u001b[0m: \tlink_layer: avgpool\n",
      "\u001b[34m\u001b[1mwandb\u001b[0m: \tmodelType: HGNN_add\n",
      "\u001b[34m\u001b[1mwandb\u001b[0m: \tnoSpeciesBackprop: False\n",
      "\u001b[34m\u001b[1mwandb\u001b[0m: \tnumOfTrials: 1\n",
      "\u001b[34m\u001b[1mwandb\u001b[0m: \tsuffix: None\n",
      "\u001b[34m\u001b[1mwandb\u001b[0m: \ttl_model: ResNet18\n",
      "\u001b[34m\u001b[1mwandb\u001b[0m: \tunsupervisedOnTest: False\n"
     ]
    },
    {
     "data": {
      "text/html": [
       "\n",
       "                Tracking run with wandb version 0.10.12<br/>\n",
       "                Syncing run <strong style=\"color:#cdcd00\">sunny-sweep-22</strong> to <a href=\"https://wandb.ai\" target=\"_blank\">Weights & Biases</a> <a href=\"https://docs.wandb.com/integrations/jupyter.html\" target=\"_blank\">(Documentation)</a>.<br/>\n",
       "                Project page: <a href=\"https://wandb.ai/mndhamod/HGNN_sweep\" target=\"_blank\">https://wandb.ai/mndhamod/HGNN_sweep</a><br/>\n",
       "                Sweep page: <a href=\"https://wandb.ai/mndhamod/HGNN_sweep/sweeps/7uhr6dty\" target=\"_blank\">https://wandb.ai/mndhamod/HGNN_sweep/sweeps/7uhr6dty</a><br/>\n",
       "Run page: <a href=\"https://wandb.ai/mndhamod/HGNN_sweep/runs/rbjsny0g\" target=\"_blank\">https://wandb.ai/mndhamod/HGNN_sweep/runs/rbjsny0g</a><br/>\n",
       "                Run data is saved locally in <code>/home/elhamod/HGNN/code/HGNN/HGNN/train/wandb/run-20210106_045241-rbjsny0g</code><br/><br/>\n",
       "            "
      ],
      "text/plain": [
       "<IPython.core.display.HTML object>"
      ]
     },
     "metadata": {},
     "output_type": "display_data"
    },
    {
     "name": "stdout",
     "output_type": "stream",
     "text": [
      "{'adaptive_alpha': 0.7179519798236408, 'adaptive_lambda': 0.040776145132963244, 'adaptive_smoothing': False, 'augmented': True, 'batchSize': 16, 'fc_layers': 1, 'image_path': 'Curated4/Easy_50', 'img_res': 448, 'lambda': 0.0077952679780397376, 'learning_rate': 6.32814515872476e-05, 'link_layer': 'avgpool', 'modelType': 'HGNN_add', 'noSpeciesBackprop': False, 'numOfTrials': 1, 'suffix': None, 'tl_model': 'ResNet18', 'unsupervisedOnTest': False}\n",
      "Creating datasets...\n",
      "Creating datasets... Done.\n",
      "Creating loaders...\n",
      "Creating loaders... Done.\n"
     ]
    },
    {
     "data": {
      "application/vnd.jupyter.widget-view+json": {
       "model_id": "25cc843fa8db4ff587f3157872dcfd32",
       "version_major": 2,
       "version_minor": 0
      },
      "text/plain": [
       "HBox(children=(FloatProgress(value=0.0, description='trial', max=1.0, style=ProgressStyle(description_width='i…"
      ]
     },
     "metadata": {},
     "output_type": "display_data"
    },
    {
     "name": "stdout",
     "output_type": "stream",
     "text": [
      "{'experimentName': 'HGNN_sweep', 'modelName': 'models/8ed37b1dc3e0f34cf9162e2bac2cd08c9b40db248dc7ed53f6f81fa5', 'datasetName': 'datasplits/7c7513bdfb4e5577fef1c3ec0fa6452d30d87dbc95f258a7c86dd76b', 'experimentHash': '1720d11f06e5f0ec1ff4000a66daaac7dc1278aa3c5dc76841bff0fc', 'trialHash': '8ed37b1dc3e0f34cf9162e2bac2cd08c9b40db248dc7ed53f6f81fa5', 'adaptive_alpha': 0.7179519798236408, 'adaptive_lambda': 0.040776145132963244, 'adaptive_smoothing': False, 'augmented': True, 'batchSize': 16, 'fc_layers': 1, 'image_path': 'Curated4/Easy_50', 'img_res': 448, 'lambda': 0.0077952679780397376, 'learning_rate': 6.32814515872476e-05, 'link_layer': 'avgpool', 'modelType': 'HGNN_add', 'noSpeciesBackprop': False, 'numOfTrials': 1, 'suffix': None, 'tl_model': 'ResNet18', 'unsupervisedOnTest': False}\n"
     ]
    },
    {
     "name": "stderr",
     "output_type": "stream",
     "text": [
      "\r",
      "iteration:   0%|          | 0/500 [00:00<?, ?it/s]"
     ]
    },
    {
     "name": "stdout",
     "output_type": "stream",
     "text": [
      "Training started...\n"
     ]
    },
    {
     "name": "stderr",
     "output_type": "stream",
     "text": [
      "iteration:   4%|▍         | 21/500 [16:04<6:03:40, 45.55s/it, min_val_loss=1.13, train=1, val=0.842, val_loss=3.18]    "
     ]
    },
    {
     "name": "stdout",
     "output_type": "stream",
     "text": [
      "Early stopping\n",
      "total number of epochs:  20\n"
     ]
    },
    {
     "name": "stderr",
     "output_type": "stream",
     "text": [
      "iteration:   4%|▍         | 21/500 [16:06<6:07:34, 46.04s/it, min_val_loss=1.13, train=1, val=0.842, val_loss=3.18]\n"
     ]
    },
    {
     "data": {
      "text/html": [
       "<br/>Waiting for W&B process to finish, PID 54486<br/>Program ended successfully."
      ],
      "text/plain": [
       "<IPython.core.display.HTML object>"
      ]
     },
     "metadata": {},
     "output_type": "display_data"
    },
    {
     "data": {
      "application/vnd.jupyter.widget-view+json": {
       "model_id": "",
       "version_major": 2,
       "version_minor": 0
      },
      "text/plain": [
       "VBox(children=(Label(value=' 0.00MB of 0.00MB uploaded (0.00MB deduped)\\r'), FloatProgress(value=1.0, max=1.0)…"
      ]
     },
     "metadata": {},
     "output_type": "display_data"
    },
    {
     "data": {
      "text/html": [
       "Find user logs for this run at: <code>/home/elhamod/HGNN/code/HGNN/HGNN/train/wandb/run-20210106_045241-rbjsny0g/logs/debug.log</code>"
      ],
      "text/plain": [
       "<IPython.core.display.HTML object>"
      ]
     },
     "metadata": {},
     "output_type": "display_data"
    },
    {
     "data": {
      "text/html": [
       "Find internal logs for this run at: <code>/home/elhamod/HGNN/code/HGNN/HGNN/train/wandb/run-20210106_045241-rbjsny0g/logs/debug-internal.log</code>"
      ],
      "text/plain": [
       "<IPython.core.display.HTML object>"
      ]
     },
     "metadata": {},
     "output_type": "display_data"
    },
    {
     "data": {
      "text/html": [
       "<h3>Run summary:</h3><br/><style>\n",
       "    table.wandb td:nth-child(1) { padding: 0 10px; text-align: right }\n",
       "    </style><table class=\"wandb\">\n",
       "<tr><td>loss</td><td>1.11058</td></tr><tr><td>batch</td><td>1595</td></tr><tr><td>epoch</td><td>20</td></tr><tr><td>loss_fine</td><td>1.10333</td></tr><tr><td>loss_coarse</td><td>0.92998</td></tr><tr><td>lambda_fine</td><td>1</td></tr><tr><td>lambda_coarse</td><td>0.0078</td></tr><tr><td>_step</td><td>1616</td></tr><tr><td>_runtime</td><td>967</td></tr><tr><td>_timestamp</td><td>1609927728</td></tr><tr><td>validation_fine_f1</td><td>0.84215</td></tr><tr><td>training_fine_f1</td><td>1.0</td></tr><tr><td>validation_loss</td><td>3.17908</td></tr></table>"
      ],
      "text/plain": [
       "<IPython.core.display.HTML object>"
      ]
     },
     "metadata": {},
     "output_type": "display_data"
    },
    {
     "data": {
      "text/html": [
       "<h3>Run history:</h3><br/><style>\n",
       "    table.wandb td:nth-child(1) { padding: 0 10px; text-align: right }\n",
       "    </style><table class=\"wandb\">\n",
       "<tr><td>loss</td><td>█▆▄▄▃▃▃▃▃▄▃▂▂▂▃▃▂▃▂▁▃▃▂▁▁▂▂▂▁▁▂▂▂▂▂▃▃▂▁▁</td></tr><tr><td>batch</td><td>▁▁▁▁▂▂▂▂▂▃▃▃▃▃▃▄▄▄▄▄▅▅▅▅▅▅▆▆▆▆▆▇▇▇▇▇▇███</td></tr><tr><td>epoch</td><td>▁▁▁▁▂▂▂▂▂▂▃▃▃▃▃▄▄▄▄▅▅▅▅▅▅▆▆▆▆▆▆▇▇▇▇▇████</td></tr><tr><td>loss_fine</td><td>█▆▄▄▃▃▃▃▃▄▃▂▂▂▃▃▂▂▂▁▃▃▂▁▁▂▂▂▁▁▂▂▂▂▂▃▃▂▁▁</td></tr><tr><td>loss_coarse</td><td>█▇▆▅▄▅▃▃▃▄▄▃▁▂▃▃▄▃▃▂▅▃▃▃▂▁▃▂▁▂▃▂▁▂▃▂▄▂▂▂</td></tr><tr><td>lambda_fine</td><td>▁▁▁▁▁▁▁▁▁▁▁▁▁▁▁▁▁▁▁▁▁▁▁▁▁▁▁▁▁▁▁▁▁▁▁▁▁▁▁▁</td></tr><tr><td>lambda_coarse</td><td>▁▁▁▁▁▁▁▁▁▁▁▁▁▁▁▁▁▁▁▁▁▁▁▁▁▁▁▁▁▁▁▁▁▁▁▁▁▁▁▁</td></tr><tr><td>_step</td><td>▁▁▁▁▂▂▂▂▂▃▃▃▃▃▃▄▄▄▄▄▅▅▅▅▅▅▆▆▆▆▆▇▇▇▇▇▇███</td></tr><tr><td>_runtime</td><td>▁▁▁▁▂▂▂▂▂▂▃▃▃▃▃▄▄▄▄▄▅▅▅▅▅▆▆▆▆▆▇▇▇▇▇▇████</td></tr><tr><td>_timestamp</td><td>▁▁▁▁▂▂▂▂▂▂▃▃▃▃▃▄▄▄▄▄▅▅▅▅▅▆▆▆▆▆▇▇▇▇▇▇████</td></tr><tr><td>validation_fine_f1</td><td>▁▄▅▆▇▇▇▇▇▇▇▇▇▇▇█▇▇▇▇▇</td></tr><tr><td>training_fine_f1</td><td>▁▆▇██████████████████</td></tr><tr><td>validation_loss</td><td>█▆▅▃▃▃▂▃▂▂▂▂▂▁▂▂▁▁▂▁▁</td></tr></table><br/>"
      ],
      "text/plain": [
       "<IPython.core.display.HTML object>"
      ]
     },
     "metadata": {},
     "output_type": "display_data"
    },
    {
     "data": {
      "text/html": [
       "Synced 5 W&B file(s), 0 media file(s), 0 artifact file(s) and 0 other file(s)"
      ],
      "text/plain": [
       "<IPython.core.display.HTML object>"
      ]
     },
     "metadata": {},
     "output_type": "display_data"
    },
    {
     "data": {
      "text/html": [
       "\n",
       "                    <br/>Synced <strong style=\"color:#cdcd00\">sunny-sweep-22</strong>: <a href=\"https://wandb.ai/mndhamod/HGNN_sweep/runs/rbjsny0g\" target=\"_blank\">https://wandb.ai/mndhamod/HGNN_sweep/runs/rbjsny0g</a><br/>\n",
       "                "
      ],
      "text/plain": [
       "<IPython.core.display.HTML object>"
      ]
     },
     "metadata": {},
     "output_type": "display_data"
    },
    {
     "name": "stdout",
     "output_type": "stream",
     "text": [
      "\n"
     ]
    },
    {
     "name": "stderr",
     "output_type": "stream",
     "text": [
      "\u001b[34m\u001b[1mwandb\u001b[0m: Agent Starting Run: trketq43 with config:\n",
      "\u001b[34m\u001b[1mwandb\u001b[0m: \tadaptive_alpha: 0.6768737929151709\n",
      "\u001b[34m\u001b[1mwandb\u001b[0m: \tadaptive_lambda: 0.07119391200430653\n",
      "\u001b[34m\u001b[1mwandb\u001b[0m: \tadaptive_smoothing: True\n",
      "\u001b[34m\u001b[1mwandb\u001b[0m: \taugmented: True\n",
      "\u001b[34m\u001b[1mwandb\u001b[0m: \tbatchSize: 16\n",
      "\u001b[34m\u001b[1mwandb\u001b[0m: \tfc_layers: 2\n",
      "\u001b[34m\u001b[1mwandb\u001b[0m: \timage_path: Curated4/Easy_50\n",
      "\u001b[34m\u001b[1mwandb\u001b[0m: \timg_res: 448\n",
      "\u001b[34m\u001b[1mwandb\u001b[0m: \tlambda: 0.017805919176752266\n",
      "\u001b[34m\u001b[1mwandb\u001b[0m: \tlearning_rate: 5.30044479416651e-05\n",
      "\u001b[34m\u001b[1mwandb\u001b[0m: \tlink_layer: avgpool\n",
      "\u001b[34m\u001b[1mwandb\u001b[0m: \tmodelType: HGNN_add\n",
      "\u001b[34m\u001b[1mwandb\u001b[0m: \tnoSpeciesBackprop: False\n",
      "\u001b[34m\u001b[1mwandb\u001b[0m: \tnumOfTrials: 1\n",
      "\u001b[34m\u001b[1mwandb\u001b[0m: \tsuffix: None\n",
      "\u001b[34m\u001b[1mwandb\u001b[0m: \ttl_model: ResNet18\n",
      "\u001b[34m\u001b[1mwandb\u001b[0m: \tunsupervisedOnTest: False\n"
     ]
    },
    {
     "data": {
      "text/html": [
       "\n",
       "                Tracking run with wandb version 0.10.12<br/>\n",
       "                Syncing run <strong style=\"color:#cdcd00\">hardy-sweep-23</strong> to <a href=\"https://wandb.ai\" target=\"_blank\">Weights & Biases</a> <a href=\"https://docs.wandb.com/integrations/jupyter.html\" target=\"_blank\">(Documentation)</a>.<br/>\n",
       "                Project page: <a href=\"https://wandb.ai/mndhamod/HGNN_sweep\" target=\"_blank\">https://wandb.ai/mndhamod/HGNN_sweep</a><br/>\n",
       "                Sweep page: <a href=\"https://wandb.ai/mndhamod/HGNN_sweep/sweeps/7uhr6dty\" target=\"_blank\">https://wandb.ai/mndhamod/HGNN_sweep/sweeps/7uhr6dty</a><br/>\n",
       "Run page: <a href=\"https://wandb.ai/mndhamod/HGNN_sweep/runs/trketq43\" target=\"_blank\">https://wandb.ai/mndhamod/HGNN_sweep/runs/trketq43</a><br/>\n",
       "                Run data is saved locally in <code>/home/elhamod/HGNN/code/HGNN/HGNN/train/wandb/run-20210106_050856-trketq43</code><br/><br/>\n",
       "            "
      ],
      "text/plain": [
       "<IPython.core.display.HTML object>"
      ]
     },
     "metadata": {},
     "output_type": "display_data"
    },
    {
     "name": "stdout",
     "output_type": "stream",
     "text": [
      "{'adaptive_alpha': 0.6768737929151709, 'adaptive_lambda': 0.07119391200430653, 'adaptive_smoothing': True, 'augmented': True, 'batchSize': 16, 'fc_layers': 2, 'image_path': 'Curated4/Easy_50', 'img_res': 448, 'lambda': 0.017805919176752266, 'learning_rate': 5.30044479416651e-05, 'link_layer': 'avgpool', 'modelType': 'HGNN_add', 'noSpeciesBackprop': False, 'numOfTrials': 1, 'suffix': None, 'tl_model': 'ResNet18', 'unsupervisedOnTest': False}\n",
      "Creating datasets...\n",
      "Creating datasets... Done.\n",
      "Creating loaders...\n",
      "Creating loaders... Done.\n"
     ]
    },
    {
     "data": {
      "application/vnd.jupyter.widget-view+json": {
       "model_id": "560dbe5f25ff4d319ac81dca8d7a52af",
       "version_major": 2,
       "version_minor": 0
      },
      "text/plain": [
       "HBox(children=(FloatProgress(value=0.0, description='trial', max=1.0, style=ProgressStyle(description_width='i…"
      ]
     },
     "metadata": {},
     "output_type": "display_data"
    },
    {
     "name": "stdout",
     "output_type": "stream",
     "text": [
      "{'experimentName': 'HGNN_sweep', 'modelName': 'models/1733362871d0704271163978982e6e902dfdf9189171a53269bfbcc5', 'datasetName': 'datasplits/7c7513bdfb4e5577fef1c3ec0fa6452d30d87dbc95f258a7c86dd76b', 'experimentHash': '97a9471050b6b3770def452c59c928018931cc41263008f4dea10abb', 'trialHash': '1733362871d0704271163978982e6e902dfdf9189171a53269bfbcc5', 'adaptive_alpha': 0.6768737929151709, 'adaptive_lambda': 0.07119391200430653, 'adaptive_smoothing': True, 'augmented': True, 'batchSize': 16, 'fc_layers': 2, 'image_path': 'Curated4/Easy_50', 'img_res': 448, 'lambda': 0.017805919176752266, 'learning_rate': 5.30044479416651e-05, 'link_layer': 'avgpool', 'modelType': 'HGNN_add', 'noSpeciesBackprop': False, 'numOfTrials': 1, 'suffix': None, 'tl_model': 'ResNet18', 'unsupervisedOnTest': False}\n"
     ]
    },
    {
     "name": "stderr",
     "output_type": "stream",
     "text": [
      "\r",
      "iteration:   0%|          | 0/500 [00:00<?, ?it/s]"
     ]
    },
    {
     "name": "stdout",
     "output_type": "stream",
     "text": [
      "Training started...\n"
     ]
    },
    {
     "name": "stderr",
     "output_type": "stream",
     "text": [
      "iteration:   7%|▋         | 33/500 [25:07<5:48:26, 44.77s/it, min_val_loss=1.16, train=1, val=0.857, val_loss=3.16]    "
     ]
    },
    {
     "name": "stdout",
     "output_type": "stream",
     "text": [
      "Early stopping\n",
      "total number of epochs:  32\n"
     ]
    },
    {
     "name": "stderr",
     "output_type": "stream",
     "text": [
      "iteration:   7%|▋         | 33/500 [25:09<5:56:03, 45.75s/it, min_val_loss=1.16, train=1, val=0.857, val_loss=3.16]\n"
     ]
    },
    {
     "data": {
      "text/html": [
       "<br/>Waiting for W&B process to finish, PID 60868<br/>Program ended successfully."
      ],
      "text/plain": [
       "<IPython.core.display.HTML object>"
      ]
     },
     "metadata": {},
     "output_type": "display_data"
    },
    {
     "data": {
      "application/vnd.jupyter.widget-view+json": {
       "model_id": "",
       "version_major": 2,
       "version_minor": 0
      },
      "text/plain": [
       "VBox(children=(Label(value=' 0.00MB of 0.00MB uploaded (0.00MB deduped)\\r'), FloatProgress(value=1.0, max=1.0)…"
      ]
     },
     "metadata": {},
     "output_type": "display_data"
    },
    {
     "data": {
      "text/html": [
       "Find user logs for this run at: <code>/home/elhamod/HGNN/code/HGNN/HGNN/train/wandb/run-20210106_050856-trketq43/logs/debug.log</code>"
      ],
      "text/plain": [
       "<IPython.core.display.HTML object>"
      ]
     },
     "metadata": {},
     "output_type": "display_data"
    },
    {
     "data": {
      "text/html": [
       "Find internal logs for this run at: <code>/home/elhamod/HGNN/code/HGNN/HGNN/train/wandb/run-20210106_050856-trketq43/logs/debug-internal.log</code>"
      ],
      "text/plain": [
       "<IPython.core.display.HTML object>"
      ]
     },
     "metadata": {},
     "output_type": "display_data"
    },
    {
     "data": {
      "text/html": [
       "<h3>Run summary:</h3><br/><style>\n",
       "    table.wandb td:nth-child(1) { padding: 0 10px; text-align: right }\n",
       "    </style><table class=\"wandb\">\n",
       "<tr><td>loss</td><td>0.91139</td></tr><tr><td>batch</td><td>2507</td></tr><tr><td>epoch</td><td>32</td></tr><tr><td>loss_fine</td><td>0.92527</td></tr><tr><td>loss_coarse</td><td>0.82819</td></tr><tr><td>lambda_fine</td><td>0.85703</td></tr><tr><td>lambda_coarse</td><td>0.14297</td></tr><tr><td>_step</td><td>2540</td></tr><tr><td>_runtime</td><td>1510</td></tr><tr><td>_timestamp</td><td>1609929246</td></tr><tr><td>validation_fine_f1</td><td>0.8574</td></tr><tr><td>training_fine_f1</td><td>1.0</td></tr><tr><td>validation_loss</td><td>3.16437</td></tr></table>"
      ],
      "text/plain": [
       "<IPython.core.display.HTML object>"
      ]
     },
     "metadata": {},
     "output_type": "display_data"
    },
    {
     "data": {
      "text/html": [
       "<h3>Run history:</h3><br/><style>\n",
       "    table.wandb td:nth-child(1) { padding: 0 10px; text-align: right }\n",
       "    </style><table class=\"wandb\">\n",
       "<tr><td>loss</td><td>█▆▄▄▃▃▂▃▂▃▃▂▂▂▂▁▂▂▂▁▂▁▂▁▃▁▁▂▂▁▁▂▁▁▁▂▂▁▂▂</td></tr><tr><td>batch</td><td>▁▁▁▁▂▂▂▂▂▃▃▃▃▃▃▄▄▄▄▄▅▅▅▅▅▅▆▆▆▆▆▇▇▇▇▇▇███</td></tr><tr><td>epoch</td><td>▁▁▁▁▂▂▂▂▃▃▃▃▃▃▄▄▄▄▄▅▅▅▅▅▅▆▆▆▆▆▆▇▇▇▇▇████</td></tr><tr><td>loss_fine</td><td>█▆▄▄▃▃▂▃▂▃▃▂▂▂▂▁▂▂▂▂▂▁▂▁▂▁▁▂▂▁▁▂▁▁▁▂▂▁▂▂</td></tr><tr><td>loss_coarse</td><td>█▆▄▅▂▂▃▅▃▄▃▃▂▄▃▃▃▃▂▂▂▃▂▃▅▁▃▂▁▁▄▄▃▂▁▂▁▁▂▃</td></tr><tr><td>lambda_fine</td><td>▇▆▄▅▁▂▄▆▄▆▃▄▃▅▅▅▄▃▃▃▃▆▃▅█▂▅▂▁▂▆▇▅▄▂▃▁▂▃▄</td></tr><tr><td>lambda_coarse</td><td>▂▃▅▄█▇▅▃▅▃▆▅▆▄▄▄▅▆▆▆▆▃▆▄▁▇▄▇█▇▃▂▄▅▇▆█▇▆▅</td></tr><tr><td>_step</td><td>▁▁▁▂▂▂▂▂▂▃▃▃▃▃▄▄▄▄▄▄▅▅▅▅▅▅▆▆▆▆▆▇▇▇▇▇▇███</td></tr><tr><td>_runtime</td><td>▁▁▁▁▂▂▂▂▃▃▃▃▃▃▄▄▄▄▄▄▅▅▅▅▅▆▆▆▆▆▆▇▇▇▇▇████</td></tr><tr><td>_timestamp</td><td>▁▁▁▁▂▂▂▂▃▃▃▃▃▃▄▄▄▄▄▄▅▅▅▅▅▆▆▆▆▆▆▇▇▇▇▇████</td></tr><tr><td>validation_fine_f1</td><td>▁▄▅▆▆▆▇▇▇▇▇▇▇▇▇▇█▇█▇█████████████</td></tr><tr><td>training_fine_f1</td><td>▁▅▇▇█████████████████████████████</td></tr><tr><td>validation_loss</td><td>█▆▅▅▄▄▃▃▂▂▂▂▂▂▂▂▂▂▂▂▂▂▂▂▁▂▁▁▁▁▁▁▁</td></tr></table><br/>"
      ],
      "text/plain": [
       "<IPython.core.display.HTML object>"
      ]
     },
     "metadata": {},
     "output_type": "display_data"
    },
    {
     "data": {
      "text/html": [
       "Synced 5 W&B file(s), 0 media file(s), 0 artifact file(s) and 0 other file(s)"
      ],
      "text/plain": [
       "<IPython.core.display.HTML object>"
      ]
     },
     "metadata": {},
     "output_type": "display_data"
    },
    {
     "data": {
      "text/html": [
       "\n",
       "                    <br/>Synced <strong style=\"color:#cdcd00\">hardy-sweep-23</strong>: <a href=\"https://wandb.ai/mndhamod/HGNN_sweep/runs/trketq43\" target=\"_blank\">https://wandb.ai/mndhamod/HGNN_sweep/runs/trketq43</a><br/>\n",
       "                "
      ],
      "text/plain": [
       "<IPython.core.display.HTML object>"
      ]
     },
     "metadata": {},
     "output_type": "display_data"
    },
    {
     "name": "stdout",
     "output_type": "stream",
     "text": [
      "\n"
     ]
    },
    {
     "name": "stderr",
     "output_type": "stream",
     "text": [
      "\u001b[34m\u001b[1mwandb\u001b[0m: Agent Starting Run: 6rdce9za with config:\n",
      "\u001b[34m\u001b[1mwandb\u001b[0m: \tadaptive_alpha: 0.5649939498716879\n",
      "\u001b[34m\u001b[1mwandb\u001b[0m: \tadaptive_lambda: 0.0906177602066395\n",
      "\u001b[34m\u001b[1mwandb\u001b[0m: \tadaptive_smoothing: True\n",
      "\u001b[34m\u001b[1mwandb\u001b[0m: \taugmented: True\n",
      "\u001b[34m\u001b[1mwandb\u001b[0m: \tbatchSize: 16\n",
      "\u001b[34m\u001b[1mwandb\u001b[0m: \tfc_layers: 1\n",
      "\u001b[34m\u001b[1mwandb\u001b[0m: \timage_path: Curated4/Easy_50\n",
      "\u001b[34m\u001b[1mwandb\u001b[0m: \timg_res: 448\n",
      "\u001b[34m\u001b[1mwandb\u001b[0m: \tlambda: 0.020918976934509524\n",
      "\u001b[34m\u001b[1mwandb\u001b[0m: \tlearning_rate: 6.133691295175767e-05\n",
      "\u001b[34m\u001b[1mwandb\u001b[0m: \tlink_layer: avgpool\n",
      "\u001b[34m\u001b[1mwandb\u001b[0m: \tmodelType: HGNN_add\n",
      "\u001b[34m\u001b[1mwandb\u001b[0m: \tnoSpeciesBackprop: True\n",
      "\u001b[34m\u001b[1mwandb\u001b[0m: \tnumOfTrials: 1\n",
      "\u001b[34m\u001b[1mwandb\u001b[0m: \tsuffix: None\n",
      "\u001b[34m\u001b[1mwandb\u001b[0m: \ttl_model: ResNet18\n",
      "\u001b[34m\u001b[1mwandb\u001b[0m: \tunsupervisedOnTest: False\n"
     ]
    },
    {
     "data": {
      "text/html": [
       "\n",
       "                Tracking run with wandb version 0.10.12<br/>\n",
       "                Syncing run <strong style=\"color:#cdcd00\">vibrant-sweep-24</strong> to <a href=\"https://wandb.ai\" target=\"_blank\">Weights & Biases</a> <a href=\"https://docs.wandb.com/integrations/jupyter.html\" target=\"_blank\">(Documentation)</a>.<br/>\n",
       "                Project page: <a href=\"https://wandb.ai/mndhamod/HGNN_sweep\" target=\"_blank\">https://wandb.ai/mndhamod/HGNN_sweep</a><br/>\n",
       "                Sweep page: <a href=\"https://wandb.ai/mndhamod/HGNN_sweep/sweeps/7uhr6dty\" target=\"_blank\">https://wandb.ai/mndhamod/HGNN_sweep/sweeps/7uhr6dty</a><br/>\n",
       "Run page: <a href=\"https://wandb.ai/mndhamod/HGNN_sweep/runs/6rdce9za\" target=\"_blank\">https://wandb.ai/mndhamod/HGNN_sweep/runs/6rdce9za</a><br/>\n",
       "                Run data is saved locally in <code>/home/elhamod/HGNN/code/HGNN/HGNN/train/wandb/run-20210106_053416-6rdce9za</code><br/><br/>\n",
       "            "
      ],
      "text/plain": [
       "<IPython.core.display.HTML object>"
      ]
     },
     "metadata": {},
     "output_type": "display_data"
    },
    {
     "name": "stdout",
     "output_type": "stream",
     "text": [
      "{'adaptive_alpha': 0.5649939498716879, 'adaptive_lambda': 0.0906177602066395, 'adaptive_smoothing': True, 'augmented': True, 'batchSize': 16, 'fc_layers': 1, 'image_path': 'Curated4/Easy_50', 'img_res': 448, 'lambda': 0.020918976934509524, 'learning_rate': 6.133691295175767e-05, 'link_layer': 'avgpool', 'modelType': 'HGNN_add', 'noSpeciesBackprop': True, 'numOfTrials': 1, 'suffix': None, 'tl_model': 'ResNet18', 'unsupervisedOnTest': False}\n",
      "Creating datasets...\n",
      "Creating datasets... Done.\n",
      "Creating loaders...\n",
      "Creating loaders... Done.\n"
     ]
    },
    {
     "data": {
      "application/vnd.jupyter.widget-view+json": {
       "model_id": "ab240be226c94a60be59a3874da16e93",
       "version_major": 2,
       "version_minor": 0
      },
      "text/plain": [
       "HBox(children=(FloatProgress(value=0.0, description='trial', max=1.0, style=ProgressStyle(description_width='i…"
      ]
     },
     "metadata": {},
     "output_type": "display_data"
    },
    {
     "name": "stdout",
     "output_type": "stream",
     "text": [
      "{'experimentName': 'HGNN_sweep', 'modelName': 'models/215230909dd5ed7af1a8425be4774704736b1451eb55597374be76b6', 'datasetName': 'datasplits/7c7513bdfb4e5577fef1c3ec0fa6452d30d87dbc95f258a7c86dd76b', 'experimentHash': '90889e3ab1dc55dfd605cfa64f520fe1d8f8e12b4240f33b3f35b80c', 'trialHash': '215230909dd5ed7af1a8425be4774704736b1451eb55597374be76b6', 'adaptive_alpha': 0.5649939498716879, 'adaptive_lambda': 0.0906177602066395, 'adaptive_smoothing': True, 'augmented': True, 'batchSize': 16, 'fc_layers': 1, 'image_path': 'Curated4/Easy_50', 'img_res': 448, 'lambda': 0.020918976934509524, 'learning_rate': 6.133691295175767e-05, 'link_layer': 'avgpool', 'modelType': 'HGNN_add', 'noSpeciesBackprop': True, 'numOfTrials': 1, 'suffix': None, 'tl_model': 'ResNet18', 'unsupervisedOnTest': False}\n"
     ]
    },
    {
     "name": "stderr",
     "output_type": "stream",
     "text": [
      "\r",
      "iteration:   0%|          | 0/500 [00:00<?, ?it/s]"
     ]
    },
    {
     "name": "stdout",
     "output_type": "stream",
     "text": [
      "Training started...\n"
     ]
    },
    {
     "name": "stderr",
     "output_type": "stream",
     "text": [
      "iteration:   8%|▊         | 38/500 [29:06<5:45:47, 44.91s/it, min_val_loss=1.19, train=0.962, val=0.836, val_loss=3.13]"
     ]
    },
    {
     "name": "stdout",
     "output_type": "stream",
     "text": [
      "Early stopping\n",
      "total number of epochs:  37\n"
     ]
    },
    {
     "name": "stderr",
     "output_type": "stream",
     "text": [
      "iteration:   8%|▊         | 38/500 [29:09<5:54:26, 46.03s/it, min_val_loss=1.19, train=0.962, val=0.836, val_loss=3.13]\n"
     ]
    },
    {
     "data": {
      "text/html": [
       "<br/>Waiting for W&B process to finish, PID 70261<br/>Program ended successfully."
      ],
      "text/plain": [
       "<IPython.core.display.HTML object>"
      ]
     },
     "metadata": {},
     "output_type": "display_data"
    },
    {
     "data": {
      "application/vnd.jupyter.widget-view+json": {
       "model_id": "",
       "version_major": 2,
       "version_minor": 0
      },
      "text/plain": [
       "VBox(children=(Label(value=' 0.00MB of 0.00MB uploaded (0.00MB deduped)\\r'), FloatProgress(value=1.0, max=1.0)…"
      ]
     },
     "metadata": {},
     "output_type": "display_data"
    },
    {
     "data": {
      "text/html": [
       "Find user logs for this run at: <code>/home/elhamod/HGNN/code/HGNN/HGNN/train/wandb/run-20210106_053416-6rdce9za/logs/debug.log</code>"
      ],
      "text/plain": [
       "<IPython.core.display.HTML object>"
      ]
     },
     "metadata": {},
     "output_type": "display_data"
    },
    {
     "data": {
      "text/html": [
       "Find internal logs for this run at: <code>/home/elhamod/HGNN/code/HGNN/HGNN/train/wandb/run-20210106_053416-6rdce9za/logs/debug-internal.log</code>"
      ],
      "text/plain": [
       "<IPython.core.display.HTML object>"
      ]
     },
     "metadata": {},
     "output_type": "display_data"
    },
    {
     "data": {
      "text/html": [
       "<h3>Run summary:</h3><br/><style>\n",
       "    table.wandb td:nth-child(1) { padding: 0 10px; text-align: right }\n",
       "    </style><table class=\"wandb\">\n",
       "<tr><td>loss</td><td>1.04579</td></tr><tr><td>batch</td><td>2887</td></tr><tr><td>epoch</td><td>37</td></tr><tr><td>loss_fine</td><td>1.04596</td></tr><tr><td>loss_coarse</td><td>1.04504</td></tr><tr><td>lambda_fine</td><td>0.81742</td></tr><tr><td>lambda_coarse</td><td>0.18258</td></tr><tr><td>_step</td><td>2925</td></tr><tr><td>_runtime</td><td>1748</td></tr><tr><td>_timestamp</td><td>1609931004</td></tr><tr><td>validation_fine_f1</td><td>0.83592</td></tr><tr><td>training_fine_f1</td><td>0.96177</td></tr><tr><td>validation_loss</td><td>3.12621</td></tr></table>"
      ],
      "text/plain": [
       "<IPython.core.display.HTML object>"
      ]
     },
     "metadata": {},
     "output_type": "display_data"
    },
    {
     "data": {
      "text/html": [
       "<h3>Run history:</h3><br/><style>\n",
       "    table.wandb td:nth-child(1) { padding: 0 10px; text-align: right }\n",
       "    </style><table class=\"wandb\">\n",
       "<tr><td>loss</td><td>█▄▅▄▃▃▃▂▂▃▂▂▂▂▂▂▂▁▂▂▂▁▂▁▁▁▂▂▁▂▁▂▂▁▁▁▂▁▂▁</td></tr><tr><td>batch</td><td>▁▁▁▁▂▂▂▂▂▃▃▃▃▃▃▄▄▄▄▄▅▅▅▅▅▅▆▆▆▆▆▇▇▇▇▇▇███</td></tr><tr><td>epoch</td><td>▁▁▁▁▂▂▂▂▂▃▃▃▃▃▃▄▄▄▄▄▅▅▅▅▅▆▆▆▆▆▆▆▇▇▇▇▇███</td></tr><tr><td>loss_fine</td><td>█▄▅▄▃▃▃▂▂▃▂▂▂▂▂▂▂▂▂▃▂▁▂▁▁▁▂▂▁▂▁▂▂▁▁▁▂▁▂▁</td></tr><tr><td>loss_coarse</td><td>█▄▅▅▅▆▆▅▃▆▄▃█▄▆▅▃▄▅▃▅▂▂▅▄▁▃▅▅▃▄▅▂▃▆▃▅▃▂▃</td></tr><tr><td>lambda_fine</td><td>▂▂▂▃▃▅▅▄▃▅▄▃█▄▇▅▂▅▄▂▅▂▂▆▄▁▂▆▆▃▅▅▂▄▆▃▅▃▂▄</td></tr><tr><td>lambda_coarse</td><td>▇▇▇▆▆▄▄▅▆▄▅▆▁▅▂▄▇▄▅▇▄▇▇▃▅█▇▃▃▆▄▄▇▅▃▆▄▆▇▅</td></tr><tr><td>_step</td><td>▁▁▁▁▂▂▂▂▂▃▃▃▃▃▄▄▄▄▄▄▅▅▅▅▅▅▆▆▆▆▆▇▇▇▇▇████</td></tr><tr><td>_runtime</td><td>▁▁▁▁▂▂▂▂▂▃▃▃▃▃▄▄▄▄▄▄▅▅▅▅▅▆▆▆▆▆▇▇▇▇▇▇▇███</td></tr><tr><td>_timestamp</td><td>▁▁▁▁▂▂▂▂▂▃▃▃▃▃▄▄▄▄▄▄▅▅▅▅▅▆▆▆▆▆▇▇▇▇▇▇▇███</td></tr><tr><td>validation_fine_f1</td><td>▁▄▅▆▆▆▆▇▇▇▇▇██▇▇▇██▇▇█████████████████</td></tr><tr><td>training_fine_f1</td><td>▁▅▇▇▇█████████████████████████████████</td></tr><tr><td>validation_loss</td><td>█▇▆▄▄▄▃▃▃▂▃▃▂▂▂▂▂▂▂▂▂▂▂▂▂▁▂▁▂▁▂▁▂▁▂▁▁▁</td></tr></table><br/>"
      ],
      "text/plain": [
       "<IPython.core.display.HTML object>"
      ]
     },
     "metadata": {},
     "output_type": "display_data"
    },
    {
     "data": {
      "text/html": [
       "Synced 5 W&B file(s), 0 media file(s), 0 artifact file(s) and 0 other file(s)"
      ],
      "text/plain": [
       "<IPython.core.display.HTML object>"
      ]
     },
     "metadata": {},
     "output_type": "display_data"
    },
    {
     "data": {
      "text/html": [
       "\n",
       "                    <br/>Synced <strong style=\"color:#cdcd00\">vibrant-sweep-24</strong>: <a href=\"https://wandb.ai/mndhamod/HGNN_sweep/runs/6rdce9za\" target=\"_blank\">https://wandb.ai/mndhamod/HGNN_sweep/runs/6rdce9za</a><br/>\n",
       "                "
      ],
      "text/plain": [
       "<IPython.core.display.HTML object>"
      ]
     },
     "metadata": {},
     "output_type": "display_data"
    },
    {
     "name": "stdout",
     "output_type": "stream",
     "text": [
      "\n"
     ]
    },
    {
     "name": "stderr",
     "output_type": "stream",
     "text": [
      "\u001b[34m\u001b[1mwandb\u001b[0m: Agent Starting Run: enxjajf3 with config:\n",
      "\u001b[34m\u001b[1mwandb\u001b[0m: \tadaptive_alpha: 0.8213262808541679\n",
      "\u001b[34m\u001b[1mwandb\u001b[0m: \tadaptive_lambda: 0.06456145280243034\n",
      "\u001b[34m\u001b[1mwandb\u001b[0m: \tadaptive_smoothing: False\n",
      "\u001b[34m\u001b[1mwandb\u001b[0m: \taugmented: True\n",
      "\u001b[34m\u001b[1mwandb\u001b[0m: \tbatchSize: 32\n",
      "\u001b[34m\u001b[1mwandb\u001b[0m: \tfc_layers: 1\n",
      "\u001b[34m\u001b[1mwandb\u001b[0m: \timage_path: Curated4/Easy_50\n",
      "\u001b[34m\u001b[1mwandb\u001b[0m: \timg_res: 448\n",
      "\u001b[34m\u001b[1mwandb\u001b[0m: \tlambda: 0.010558566177415945\n",
      "\u001b[34m\u001b[1mwandb\u001b[0m: \tlearning_rate: 5.325403132221622e-05\n",
      "\u001b[34m\u001b[1mwandb\u001b[0m: \tlink_layer: avgpool\n",
      "\u001b[34m\u001b[1mwandb\u001b[0m: \tmodelType: HGNN_add\n",
      "\u001b[34m\u001b[1mwandb\u001b[0m: \tnoSpeciesBackprop: False\n",
      "\u001b[34m\u001b[1mwandb\u001b[0m: \tnumOfTrials: 1\n",
      "\u001b[34m\u001b[1mwandb\u001b[0m: \tsuffix: None\n",
      "\u001b[34m\u001b[1mwandb\u001b[0m: \ttl_model: ResNet18\n",
      "\u001b[34m\u001b[1mwandb\u001b[0m: \tunsupervisedOnTest: False\n"
     ]
    },
    {
     "data": {
      "text/html": [
       "\n",
       "                Tracking run with wandb version 0.10.12<br/>\n",
       "                Syncing run <strong style=\"color:#cdcd00\">colorful-sweep-25</strong> to <a href=\"https://wandb.ai\" target=\"_blank\">Weights & Biases</a> <a href=\"https://docs.wandb.com/integrations/jupyter.html\" target=\"_blank\">(Documentation)</a>.<br/>\n",
       "                Project page: <a href=\"https://wandb.ai/mndhamod/HGNN_sweep\" target=\"_blank\">https://wandb.ai/mndhamod/HGNN_sweep</a><br/>\n",
       "                Sweep page: <a href=\"https://wandb.ai/mndhamod/HGNN_sweep/sweeps/7uhr6dty\" target=\"_blank\">https://wandb.ai/mndhamod/HGNN_sweep/sweeps/7uhr6dty</a><br/>\n",
       "Run page: <a href=\"https://wandb.ai/mndhamod/HGNN_sweep/runs/enxjajf3\" target=\"_blank\">https://wandb.ai/mndhamod/HGNN_sweep/runs/enxjajf3</a><br/>\n",
       "                Run data is saved locally in <code>/home/elhamod/HGNN/code/HGNN/HGNN/train/wandb/run-20210106_060333-enxjajf3</code><br/><br/>\n",
       "            "
      ],
      "text/plain": [
       "<IPython.core.display.HTML object>"
      ]
     },
     "metadata": {},
     "output_type": "display_data"
    },
    {
     "name": "stdout",
     "output_type": "stream",
     "text": [
      "{'adaptive_alpha': 0.8213262808541679, 'adaptive_lambda': 0.06456145280243034, 'adaptive_smoothing': False, 'augmented': True, 'batchSize': 32, 'fc_layers': 1, 'image_path': 'Curated4/Easy_50', 'img_res': 448, 'lambda': 0.010558566177415945, 'learning_rate': 5.325403132221622e-05, 'link_layer': 'avgpool', 'modelType': 'HGNN_add', 'noSpeciesBackprop': False, 'numOfTrials': 1, 'suffix': None, 'tl_model': 'ResNet18', 'unsupervisedOnTest': False}\n",
      "Creating datasets...\n",
      "Creating datasets... Done.\n",
      "Creating loaders...\n",
      "Creating loaders... Done.\n"
     ]
    },
    {
     "data": {
      "application/vnd.jupyter.widget-view+json": {
       "model_id": "ff88ecd6fd944fc0b2a9f29053d62b90",
       "version_major": 2,
       "version_minor": 0
      },
      "text/plain": [
       "HBox(children=(FloatProgress(value=0.0, description='trial', max=1.0, style=ProgressStyle(description_width='i…"
      ]
     },
     "metadata": {},
     "output_type": "display_data"
    },
    {
     "name": "stdout",
     "output_type": "stream",
     "text": [
      "{'experimentName': 'HGNN_sweep', 'modelName': 'models/9186e2ae2a50e65423c59821cc81fdc4e9cee7e9b771036d646c4ffe', 'datasetName': 'datasplits/7c7513bdfb4e5577fef1c3ec0fa6452d30d87dbc95f258a7c86dd76b', 'experimentHash': '12315be9f293cf477214b1a7e27647ab6b40e3a25d4808853f59120e', 'trialHash': '9186e2ae2a50e65423c59821cc81fdc4e9cee7e9b771036d646c4ffe', 'adaptive_alpha': 0.8213262808541679, 'adaptive_lambda': 0.06456145280243034, 'adaptive_smoothing': False, 'augmented': True, 'batchSize': 32, 'fc_layers': 1, 'image_path': 'Curated4/Easy_50', 'img_res': 448, 'lambda': 0.010558566177415945, 'learning_rate': 5.325403132221622e-05, 'link_layer': 'avgpool', 'modelType': 'HGNN_add', 'noSpeciesBackprop': False, 'numOfTrials': 1, 'suffix': None, 'tl_model': 'ResNet18', 'unsupervisedOnTest': False}\n"
     ]
    },
    {
     "name": "stderr",
     "output_type": "stream",
     "text": [
      "\r",
      "iteration:   0%|          | 0/500 [00:00<?, ?it/s]"
     ]
    },
    {
     "name": "stdout",
     "output_type": "stream",
     "text": [
      "Training started...\n"
     ]
    },
    {
     "name": "stderr",
     "output_type": "stream",
     "text": [
      "iteration:   5%|▍         | 23/500 [18:58<6:30:43, 49.15s/it, min_val_loss=1.19, train=1, val=0.815, val_loss=3.24]   "
     ]
    },
    {
     "name": "stdout",
     "output_type": "stream",
     "text": [
      "Early stopping\n",
      "total number of epochs:  22\n"
     ]
    },
    {
     "name": "stderr",
     "output_type": "stream",
     "text": [
      "iteration:   5%|▍         | 23/500 [19:00<6:34:15, 49.59s/it, min_val_loss=1.19, train=1, val=0.815, val_loss=3.24]\n"
     ]
    },
    {
     "data": {
      "text/html": [
       "<br/>Waiting for W&B process to finish, PID 8488<br/>Program ended successfully."
      ],
      "text/plain": [
       "<IPython.core.display.HTML object>"
      ]
     },
     "metadata": {},
     "output_type": "display_data"
    },
    {
     "data": {
      "application/vnd.jupyter.widget-view+json": {
       "model_id": "",
       "version_major": 2,
       "version_minor": 0
      },
      "text/plain": [
       "VBox(children=(Label(value=' 0.00MB of 0.00MB uploaded (0.00MB deduped)\\r'), FloatProgress(value=1.0, max=1.0)…"
      ]
     },
     "metadata": {},
     "output_type": "display_data"
    },
    {
     "data": {
      "text/html": [
       "Find user logs for this run at: <code>/home/elhamod/HGNN/code/HGNN/HGNN/train/wandb/run-20210106_060333-enxjajf3/logs/debug.log</code>"
      ],
      "text/plain": [
       "<IPython.core.display.HTML object>"
      ]
     },
     "metadata": {},
     "output_type": "display_data"
    },
    {
     "data": {
      "text/html": [
       "Find internal logs for this run at: <code>/home/elhamod/HGNN/code/HGNN/HGNN/train/wandb/run-20210106_060333-enxjajf3/logs/debug-internal.log</code>"
      ],
      "text/plain": [
       "<IPython.core.display.HTML object>"
      ]
     },
     "metadata": {},
     "output_type": "display_data"
    },
    {
     "data": {
      "text/html": [
       "<h3>Run summary:</h3><br/><style>\n",
       "    table.wandb td:nth-child(1) { padding: 0 10px; text-align: right }\n",
       "    </style><table class=\"wandb\">\n",
       "<tr><td>loss</td><td>0.46905</td></tr><tr><td>batch</td><td>873</td></tr><tr><td>epoch</td><td>22</td></tr><tr><td>loss_fine</td><td>0.45835</td></tr><tr><td>loss_coarse</td><td>1.01326</td></tr><tr><td>lambda_fine</td><td>1</td></tr><tr><td>lambda_coarse</td><td>0.01056</td></tr><tr><td>_step</td><td>896</td></tr><tr><td>_runtime</td><td>1140</td></tr><tr><td>_timestamp</td><td>1609932153</td></tr><tr><td>validation_fine_f1</td><td>0.81542</td></tr><tr><td>training_fine_f1</td><td>1.0</td></tr><tr><td>validation_loss</td><td>3.24085</td></tr></table>"
      ],
      "text/plain": [
       "<IPython.core.display.HTML object>"
      ]
     },
     "metadata": {},
     "output_type": "display_data"
    },
    {
     "data": {
      "text/html": [
       "<h3>Run history:</h3><br/><style>\n",
       "    table.wandb td:nth-child(1) { padding: 0 10px; text-align: right }\n",
       "    </style><table class=\"wandb\">\n",
       "<tr><td>loss</td><td>█▆▅▅▃▃▃▂▂▂▂▂▂▁▁▂▂▂▂▂▁▂▁▁▁▁▁▂▁▁▂▂▁▁▁▁▂▁▁▂</td></tr><tr><td>batch</td><td>▁▁▁▂▂▂▂▂▂▃▃▃▃▃▃▄▄▄▄▄▅▅▅▅▅▅▆▆▆▆▆▇▇▇▇▇▇███</td></tr><tr><td>epoch</td><td>▁▁▁▁▂▂▂▂▂▃▃▃▃▃▄▄▄▄▄▅▅▅▅▅▅▅▆▆▆▆▆▇▇▇▇▇████</td></tr><tr><td>loss_fine</td><td>█▆▅▅▃▃▃▂▂▂▂▂▂▁▁▂▂▂▂▂▁▂▁▁▁▁▁▂▁▁▂▂▁▁▁▁▂▁▁▂</td></tr><tr><td>loss_coarse</td><td>█▇▇▆▅▅▄▄▃▃▄▃▄▃▂▃▃▃▃▂▃▃▂▃▂▂▂▂▂▂▁▃▂▂▁▃▁▁▁▂</td></tr><tr><td>lambda_fine</td><td>▁▁▁▁▁▁▁▁▁▁▁▁▁▁▁▁▁▁▁▁▁▁▁▁▁▁▁▁▁▁▁▁▁▁▁▁▁▁▁▁</td></tr><tr><td>lambda_coarse</td><td>▁▁▁▁▁▁▁▁▁▁▁▁▁▁▁▁▁▁▁▁▁▁▁▁▁▁▁▁▁▁▁▁▁▁▁▁▁▁▁▁</td></tr><tr><td>_step</td><td>▁▁▁▂▂▂▂▂▂▃▃▃▃▃▃▄▄▄▄▄▅▅▅▅▅▅▆▆▆▆▆▇▇▇▇▇▇███</td></tr><tr><td>_runtime</td><td>▁▁▁▁▂▂▂▂▂▃▃▃▃▃▄▄▄▄▄▅▅▅▅▅▅▅▆▆▆▆▆▇▇▇▇▇████</td></tr><tr><td>_timestamp</td><td>▁▁▁▁▂▂▂▂▂▃▃▃▃▃▄▄▄▄▄▅▅▅▅▅▅▅▆▆▆▆▆▇▇▇▇▇████</td></tr><tr><td>validation_fine_f1</td><td>▁▄▆▇▇▇▇▇█▇█████████████</td></tr><tr><td>training_fine_f1</td><td>▁▆▇████████████████████</td></tr><tr><td>validation_loss</td><td>█▆▅▄▃▃▂▂▂▂▂▂▁▁▂▁▂▂▁▁▁▁▁</td></tr></table><br/>"
      ],
      "text/plain": [
       "<IPython.core.display.HTML object>"
      ]
     },
     "metadata": {},
     "output_type": "display_data"
    },
    {
     "data": {
      "text/html": [
       "Synced 5 W&B file(s), 0 media file(s), 0 artifact file(s) and 0 other file(s)"
      ],
      "text/plain": [
       "<IPython.core.display.HTML object>"
      ]
     },
     "metadata": {},
     "output_type": "display_data"
    },
    {
     "data": {
      "text/html": [
       "\n",
       "                    <br/>Synced <strong style=\"color:#cdcd00\">colorful-sweep-25</strong>: <a href=\"https://wandb.ai/mndhamod/HGNN_sweep/runs/enxjajf3\" target=\"_blank\">https://wandb.ai/mndhamod/HGNN_sweep/runs/enxjajf3</a><br/>\n",
       "                "
      ],
      "text/plain": [
       "<IPython.core.display.HTML object>"
      ]
     },
     "metadata": {},
     "output_type": "display_data"
    },
    {
     "name": "stdout",
     "output_type": "stream",
     "text": [
      "\n"
     ]
    },
    {
     "name": "stderr",
     "output_type": "stream",
     "text": [
      "\u001b[34m\u001b[1mwandb\u001b[0m: Agent Starting Run: 1k3ywkxv with config:\n",
      "\u001b[34m\u001b[1mwandb\u001b[0m: \tadaptive_alpha: 0.7406102852223263\n",
      "\u001b[34m\u001b[1mwandb\u001b[0m: \tadaptive_lambda: 0.015939306517704296\n",
      "\u001b[34m\u001b[1mwandb\u001b[0m: \tadaptive_smoothing: False\n",
      "\u001b[34m\u001b[1mwandb\u001b[0m: \taugmented: True\n",
      "\u001b[34m\u001b[1mwandb\u001b[0m: \tbatchSize: 16\n",
      "\u001b[34m\u001b[1mwandb\u001b[0m: \tfc_layers: 2\n",
      "\u001b[34m\u001b[1mwandb\u001b[0m: \timage_path: Curated4/Easy_50\n",
      "\u001b[34m\u001b[1mwandb\u001b[0m: \timg_res: 448\n",
      "\u001b[34m\u001b[1mwandb\u001b[0m: \tlambda: 0.1035906747993166\n",
      "\u001b[34m\u001b[1mwandb\u001b[0m: \tlearning_rate: 7.510325720729277e-05\n",
      "\u001b[34m\u001b[1mwandb\u001b[0m: \tlink_layer: avgpool\n",
      "\u001b[34m\u001b[1mwandb\u001b[0m: \tmodelType: HGNN_add\n",
      "\u001b[34m\u001b[1mwandb\u001b[0m: \tnoSpeciesBackprop: True\n",
      "\u001b[34m\u001b[1mwandb\u001b[0m: \tnumOfTrials: 1\n",
      "\u001b[34m\u001b[1mwandb\u001b[0m: \tsuffix: None\n",
      "\u001b[34m\u001b[1mwandb\u001b[0m: \ttl_model: ResNet18\n",
      "\u001b[34m\u001b[1mwandb\u001b[0m: \tunsupervisedOnTest: False\n"
     ]
    },
    {
     "data": {
      "text/html": [
       "\n",
       "                Tracking run with wandb version 0.10.12<br/>\n",
       "                Syncing run <strong style=\"color:#cdcd00\">sunny-sweep-26</strong> to <a href=\"https://wandb.ai\" target=\"_blank\">Weights & Biases</a> <a href=\"https://docs.wandb.com/integrations/jupyter.html\" target=\"_blank\">(Documentation)</a>.<br/>\n",
       "                Project page: <a href=\"https://wandb.ai/mndhamod/HGNN_sweep\" target=\"_blank\">https://wandb.ai/mndhamod/HGNN_sweep</a><br/>\n",
       "                Sweep page: <a href=\"https://wandb.ai/mndhamod/HGNN_sweep/sweeps/7uhr6dty\" target=\"_blank\">https://wandb.ai/mndhamod/HGNN_sweep/sweeps/7uhr6dty</a><br/>\n",
       "Run page: <a href=\"https://wandb.ai/mndhamod/HGNN_sweep/runs/1k3ywkxv\" target=\"_blank\">https://wandb.ai/mndhamod/HGNN_sweep/runs/1k3ywkxv</a><br/>\n",
       "                Run data is saved locally in <code>/home/elhamod/HGNN/code/HGNN/HGNN/train/wandb/run-20210106_062241-1k3ywkxv</code><br/><br/>\n",
       "            "
      ],
      "text/plain": [
       "<IPython.core.display.HTML object>"
      ]
     },
     "metadata": {},
     "output_type": "display_data"
    },
    {
     "name": "stdout",
     "output_type": "stream",
     "text": [
      "{'adaptive_alpha': 0.7406102852223263, 'adaptive_lambda': 0.015939306517704296, 'adaptive_smoothing': False, 'augmented': True, 'batchSize': 16, 'fc_layers': 2, 'image_path': 'Curated4/Easy_50', 'img_res': 448, 'lambda': 0.1035906747993166, 'learning_rate': 7.510325720729277e-05, 'link_layer': 'avgpool', 'modelType': 'HGNN_add', 'noSpeciesBackprop': True, 'numOfTrials': 1, 'suffix': None, 'tl_model': 'ResNet18', 'unsupervisedOnTest': False}\n",
      "Creating datasets...\n",
      "Creating datasets... Done.\n",
      "Creating loaders...\n",
      "Creating loaders... Done.\n"
     ]
    },
    {
     "data": {
      "application/vnd.jupyter.widget-view+json": {
       "model_id": "88e8d4adc998490fb05b77417226a59d",
       "version_major": 2,
       "version_minor": 0
      },
      "text/plain": [
       "HBox(children=(FloatProgress(value=0.0, description='trial', max=1.0, style=ProgressStyle(description_width='i…"
      ]
     },
     "metadata": {},
     "output_type": "display_data"
    },
    {
     "name": "stdout",
     "output_type": "stream",
     "text": [
      "{'experimentName': 'HGNN_sweep', 'modelName': 'models/b6092ab8b04a6ef30c44abdb51d2f9afb8f55eef630d0e1b45cd26d5', 'datasetName': 'datasplits/7c7513bdfb4e5577fef1c3ec0fa6452d30d87dbc95f258a7c86dd76b', 'experimentHash': '084c79fa8f27761932b098bc2276182dd7ca5c77a670bb3888bdf59a', 'trialHash': 'b6092ab8b04a6ef30c44abdb51d2f9afb8f55eef630d0e1b45cd26d5', 'adaptive_alpha': 0.7406102852223263, 'adaptive_lambda': 0.015939306517704296, 'adaptive_smoothing': False, 'augmented': True, 'batchSize': 16, 'fc_layers': 2, 'image_path': 'Curated4/Easy_50', 'img_res': 448, 'lambda': 0.1035906747993166, 'learning_rate': 7.510325720729277e-05, 'link_layer': 'avgpool', 'modelType': 'HGNN_add', 'noSpeciesBackprop': True, 'numOfTrials': 1, 'suffix': None, 'tl_model': 'ResNet18', 'unsupervisedOnTest': False}\n"
     ]
    },
    {
     "name": "stderr",
     "output_type": "stream",
     "text": [
      "\r",
      "iteration:   0%|          | 0/500 [00:00<?, ?it/s]"
     ]
    },
    {
     "name": "stdout",
     "output_type": "stream",
     "text": [
      "Training started...\n"
     ]
    },
    {
     "name": "stderr",
     "output_type": "stream",
     "text": [
      "iteration:   3%|▎         | 16/500 [12:17<6:03:43, 45.09s/it, min_val_loss=1.19, train=1, val=0.825, val_loss=3.13]    "
     ]
    },
    {
     "name": "stdout",
     "output_type": "stream",
     "text": [
      "Early stopping\n",
      "total number of epochs:  15\n"
     ]
    },
    {
     "name": "stderr",
     "output_type": "stream",
     "text": [
      "iteration:   3%|▎         | 16/500 [12:20<6:13:10, 46.26s/it, min_val_loss=1.19, train=1, val=0.825, val_loss=3.13]\n"
     ]
    },
    {
     "data": {
      "text/html": [
       "<br/>Waiting for W&B process to finish, PID 15262<br/>Program ended successfully."
      ],
      "text/plain": [
       "<IPython.core.display.HTML object>"
      ]
     },
     "metadata": {},
     "output_type": "display_data"
    },
    {
     "data": {
      "application/vnd.jupyter.widget-view+json": {
       "model_id": "",
       "version_major": 2,
       "version_minor": 0
      },
      "text/plain": [
       "VBox(children=(Label(value=' 0.00MB of 0.00MB uploaded (0.00MB deduped)\\r'), FloatProgress(value=1.0, max=1.0)…"
      ]
     },
     "metadata": {},
     "output_type": "display_data"
    },
    {
     "data": {
      "text/html": [
       "Find user logs for this run at: <code>/home/elhamod/HGNN/code/HGNN/HGNN/train/wandb/run-20210106_062241-1k3ywkxv/logs/debug.log</code>"
      ],
      "text/plain": [
       "<IPython.core.display.HTML object>"
      ]
     },
     "metadata": {},
     "output_type": "display_data"
    },
    {
     "data": {
      "text/html": [
       "Find internal logs for this run at: <code>/home/elhamod/HGNN/code/HGNN/HGNN/train/wandb/run-20210106_062241-1k3ywkxv/logs/debug-internal.log</code>"
      ],
      "text/plain": [
       "<IPython.core.display.HTML object>"
      ]
     },
     "metadata": {},
     "output_type": "display_data"
    },
    {
     "data": {
      "text/html": [
       "<h3>Run summary:</h3><br/><style>\n",
       "    table.wandb td:nth-child(1) { padding: 0 10px; text-align: right }\n",
       "    </style><table class=\"wandb\">\n",
       "<tr><td>loss</td><td>1.09404</td></tr><tr><td>batch</td><td>1215</td></tr><tr><td>epoch</td><td>15</td></tr><tr><td>loss_fine</td><td>0.98391</td></tr><tr><td>loss_coarse</td><td>1.06321</td></tr><tr><td>lambda_fine</td><td>1</td></tr><tr><td>lambda_coarse</td><td>0.10359</td></tr><tr><td>_step</td><td>1231</td></tr><tr><td>_runtime</td><td>740</td></tr><tr><td>_timestamp</td><td>1609932901</td></tr><tr><td>validation_fine_f1</td><td>0.82543</td></tr><tr><td>training_fine_f1</td><td>1.0</td></tr><tr><td>validation_loss</td><td>3.1304</td></tr></table>"
      ],
      "text/plain": [
       "<IPython.core.display.HTML object>"
      ]
     },
     "metadata": {},
     "output_type": "display_data"
    },
    {
     "data": {
      "text/html": [
       "<h3>Run history:</h3><br/><style>\n",
       "    table.wandb td:nth-child(1) { padding: 0 10px; text-align: right }\n",
       "    </style><table class=\"wandb\">\n",
       "<tr><td>loss</td><td>██▆▄▅▄▄▄▄▃▃▃▃▄▂▂▃▃▂▂▂▂▂▁▂▁▁▂▁▃▁▁▂▁▂▂▂▁▁▁</td></tr><tr><td>batch</td><td>▁▁▁▁▂▂▂▂▂▃▃▃▃▃▃▄▄▄▄▄▅▅▅▅▅▅▆▆▆▆▆▇▇▇▇▇▇███</td></tr><tr><td>epoch</td><td>▁▁▁▁▁▂▂▂▂▂▃▃▃▃▃▄▄▄▄▄▅▅▅▅▅▆▆▆▆▆▇▇▇▇▇█████</td></tr><tr><td>loss_fine</td><td>██▆▄▅▄▄▄▄▃▃▃▃▄▂▂▃▃▂▂▂▂▂▁▂▁▁▂▁▃▁▁▁▁▂▂▂▁▁▁</td></tr><tr><td>loss_coarse</td><td>█▆▆▅▅▅▃▅▄▃▄▄▇█▃▄▄▅▃▃▁▂▃▄▄▄▄▁▂▃▃▃▄▃▂▄▁▂▃▄</td></tr><tr><td>lambda_fine</td><td>▁▁▁▁▁▁▁▁▁▁▁▁▁▁▁▁▁▁▁▁▁▁▁▁▁▁▁▁▁▁▁▁▁▁▁▁▁▁▁▁</td></tr><tr><td>lambda_coarse</td><td>▁▁▁▁▁▁▁▁▁▁▁▁▁▁▁▁▁▁▁▁▁▁▁▁▁▁▁▁▁▁▁▁▁▁▁▁▁▁▁▁</td></tr><tr><td>_step</td><td>▁▁▁▁▂▂▂▂▂▃▃▃▃▃▃▄▄▄▄▄▅▅▅▅▅▅▆▆▆▆▆▇▇▇▇▇▇███</td></tr><tr><td>_runtime</td><td>▁▁▁▁▂▂▂▂▂▂▃▃▃▃▃▄▄▄▄▄▅▅▅▅▅▅▆▆▆▆▆▆▇▇▇▇▇███</td></tr><tr><td>_timestamp</td><td>▁▁▁▁▂▂▂▂▂▂▃▃▃▃▃▄▄▄▄▄▅▅▅▅▅▅▆▆▆▆▆▆▇▇▇▇▇███</td></tr><tr><td>validation_fine_f1</td><td>▁▅▆▆▇▇▇▇▇██▇████</td></tr><tr><td>training_fine_f1</td><td>▁▅▇▇████████████</td></tr><tr><td>validation_loss</td><td>█▇▅▄▃▃▃▂▂▂▂▁▂▁▁▁</td></tr></table><br/>"
      ],
      "text/plain": [
       "<IPython.core.display.HTML object>"
      ]
     },
     "metadata": {},
     "output_type": "display_data"
    },
    {
     "data": {
      "text/html": [
       "Synced 5 W&B file(s), 0 media file(s), 0 artifact file(s) and 0 other file(s)"
      ],
      "text/plain": [
       "<IPython.core.display.HTML object>"
      ]
     },
     "metadata": {},
     "output_type": "display_data"
    },
    {
     "data": {
      "text/html": [
       "\n",
       "                    <br/>Synced <strong style=\"color:#cdcd00\">sunny-sweep-26</strong>: <a href=\"https://wandb.ai/mndhamod/HGNN_sweep/runs/1k3ywkxv\" target=\"_blank\">https://wandb.ai/mndhamod/HGNN_sweep/runs/1k3ywkxv</a><br/>\n",
       "                "
      ],
      "text/plain": [
       "<IPython.core.display.HTML object>"
      ]
     },
     "metadata": {},
     "output_type": "display_data"
    },
    {
     "name": "stdout",
     "output_type": "stream",
     "text": [
      "\n"
     ]
    },
    {
     "name": "stderr",
     "output_type": "stream",
     "text": [
      "\u001b[34m\u001b[1mwandb\u001b[0m: Agent Starting Run: c7eelhek with config:\n",
      "\u001b[34m\u001b[1mwandb\u001b[0m: \tadaptive_alpha: 0.5221941369893799\n",
      "\u001b[34m\u001b[1mwandb\u001b[0m: \tadaptive_lambda: 0.020088310992488288\n",
      "\u001b[34m\u001b[1mwandb\u001b[0m: \tadaptive_smoothing: False\n",
      "\u001b[34m\u001b[1mwandb\u001b[0m: \taugmented: True\n",
      "\u001b[34m\u001b[1mwandb\u001b[0m: \tbatchSize: 32\n",
      "\u001b[34m\u001b[1mwandb\u001b[0m: \tfc_layers: 1\n",
      "\u001b[34m\u001b[1mwandb\u001b[0m: \timage_path: Curated4/Easy_50\n",
      "\u001b[34m\u001b[1mwandb\u001b[0m: \timg_res: 448\n",
      "\u001b[34m\u001b[1mwandb\u001b[0m: \tlambda: 0.0057832423434624825\n",
      "\u001b[34m\u001b[1mwandb\u001b[0m: \tlearning_rate: 6.601749287100874e-05\n",
      "\u001b[34m\u001b[1mwandb\u001b[0m: \tlink_layer: avgpool\n",
      "\u001b[34m\u001b[1mwandb\u001b[0m: \tmodelType: HGNN_add\n",
      "\u001b[34m\u001b[1mwandb\u001b[0m: \tnoSpeciesBackprop: False\n",
      "\u001b[34m\u001b[1mwandb\u001b[0m: \tnumOfTrials: 1\n",
      "\u001b[34m\u001b[1mwandb\u001b[0m: \tsuffix: None\n",
      "\u001b[34m\u001b[1mwandb\u001b[0m: \ttl_model: ResNet18\n",
      "\u001b[34m\u001b[1mwandb\u001b[0m: \tunsupervisedOnTest: False\n"
     ]
    },
    {
     "data": {
      "text/html": [
       "\n",
       "                Tracking run with wandb version 0.10.12<br/>\n",
       "                Syncing run <strong style=\"color:#cdcd00\">sweepy-sweep-27</strong> to <a href=\"https://wandb.ai\" target=\"_blank\">Weights & Biases</a> <a href=\"https://docs.wandb.com/integrations/jupyter.html\" target=\"_blank\">(Documentation)</a>.<br/>\n",
       "                Project page: <a href=\"https://wandb.ai/mndhamod/HGNN_sweep\" target=\"_blank\">https://wandb.ai/mndhamod/HGNN_sweep</a><br/>\n",
       "                Sweep page: <a href=\"https://wandb.ai/mndhamod/HGNN_sweep/sweeps/7uhr6dty\" target=\"_blank\">https://wandb.ai/mndhamod/HGNN_sweep/sweeps/7uhr6dty</a><br/>\n",
       "Run page: <a href=\"https://wandb.ai/mndhamod/HGNN_sweep/runs/c7eelhek\" target=\"_blank\">https://wandb.ai/mndhamod/HGNN_sweep/runs/c7eelhek</a><br/>\n",
       "                Run data is saved locally in <code>/home/elhamod/HGNN/code/HGNN/HGNN/train/wandb/run-20210106_063509-c7eelhek</code><br/><br/>\n",
       "            "
      ],
      "text/plain": [
       "<IPython.core.display.HTML object>"
      ]
     },
     "metadata": {},
     "output_type": "display_data"
    },
    {
     "name": "stdout",
     "output_type": "stream",
     "text": [
      "{'adaptive_alpha': 0.5221941369893799, 'adaptive_lambda': 0.020088310992488288, 'adaptive_smoothing': False, 'augmented': True, 'batchSize': 32, 'fc_layers': 1, 'image_path': 'Curated4/Easy_50', 'img_res': 448, 'lambda': 0.0057832423434624825, 'learning_rate': 6.601749287100874e-05, 'link_layer': 'avgpool', 'modelType': 'HGNN_add', 'noSpeciesBackprop': False, 'numOfTrials': 1, 'suffix': None, 'tl_model': 'ResNet18', 'unsupervisedOnTest': False}\n",
      "Creating datasets...\n",
      "Creating datasets... Done.\n",
      "Creating loaders...\n",
      "Creating loaders... Done.\n"
     ]
    },
    {
     "data": {
      "application/vnd.jupyter.widget-view+json": {
       "model_id": "b0af99f7d9564cb6ba20d8ff4716937d",
       "version_major": 2,
       "version_minor": 0
      },
      "text/plain": [
       "HBox(children=(FloatProgress(value=0.0, description='trial', max=1.0, style=ProgressStyle(description_width='i…"
      ]
     },
     "metadata": {},
     "output_type": "display_data"
    },
    {
     "name": "stdout",
     "output_type": "stream",
     "text": [
      "{'experimentName': 'HGNN_sweep', 'modelName': 'models/590e0acb99c3566c1bd02d88fb60b60c922c600e7b4ca43f07331b7b', 'datasetName': 'datasplits/7c7513bdfb4e5577fef1c3ec0fa6452d30d87dbc95f258a7c86dd76b', 'experimentHash': 'b61ed1dd268814ff269d13519ac83fdae0af8c8711131de2d4c3b0ca', 'trialHash': '590e0acb99c3566c1bd02d88fb60b60c922c600e7b4ca43f07331b7b', 'adaptive_alpha': 0.5221941369893799, 'adaptive_lambda': 0.020088310992488288, 'adaptive_smoothing': False, 'augmented': True, 'batchSize': 32, 'fc_layers': 1, 'image_path': 'Curated4/Easy_50', 'img_res': 448, 'lambda': 0.0057832423434624825, 'learning_rate': 6.601749287100874e-05, 'link_layer': 'avgpool', 'modelType': 'HGNN_add', 'noSpeciesBackprop': False, 'numOfTrials': 1, 'suffix': None, 'tl_model': 'ResNet18', 'unsupervisedOnTest': False}\n"
     ]
    },
    {
     "name": "stderr",
     "output_type": "stream",
     "text": [
      "\r",
      "iteration:   0%|          | 0/500 [00:00<?, ?it/s]"
     ]
    },
    {
     "name": "stdout",
     "output_type": "stream",
     "text": [
      "Training started...\n"
     ]
    },
    {
     "name": "stderr",
     "output_type": "stream",
     "text": [
      "iteration:   5%|▌         | 25/500 [20:40<6:25:48, 48.73s/it, min_val_loss=1.17, train=1, val=0.845, val_loss=3.22]    "
     ]
    },
    {
     "name": "stdout",
     "output_type": "stream",
     "text": [
      "Early stopping\n",
      "total number of epochs:  24\n"
     ]
    },
    {
     "name": "stderr",
     "output_type": "stream",
     "text": [
      "iteration:   5%|▌         | 25/500 [20:42<6:33:27, 49.70s/it, min_val_loss=1.17, train=1, val=0.845, val_loss=3.22]\n"
     ]
    },
    {
     "data": {
      "text/html": [
       "<br/>Waiting for W&B process to finish, PID 20372<br/>Program ended successfully."
      ],
      "text/plain": [
       "<IPython.core.display.HTML object>"
      ]
     },
     "metadata": {},
     "output_type": "display_data"
    },
    {
     "data": {
      "application/vnd.jupyter.widget-view+json": {
       "model_id": "",
       "version_major": 2,
       "version_minor": 0
      },
      "text/plain": [
       "VBox(children=(Label(value=' 0.00MB of 0.00MB uploaded (0.00MB deduped)\\r'), FloatProgress(value=1.0, max=1.0)…"
      ]
     },
     "metadata": {},
     "output_type": "display_data"
    },
    {
     "data": {
      "text/html": [
       "Find user logs for this run at: <code>/home/elhamod/HGNN/code/HGNN/HGNN/train/wandb/run-20210106_063509-c7eelhek/logs/debug.log</code>"
      ],
      "text/plain": [
       "<IPython.core.display.HTML object>"
      ]
     },
     "metadata": {},
     "output_type": "display_data"
    },
    {
     "data": {
      "text/html": [
       "Find internal logs for this run at: <code>/home/elhamod/HGNN/code/HGNN/HGNN/train/wandb/run-20210106_063509-c7eelhek/logs/debug-internal.log</code>"
      ],
      "text/plain": [
       "<IPython.core.display.HTML object>"
      ]
     },
     "metadata": {},
     "output_type": "display_data"
    },
    {
     "data": {
      "text/html": [
       "<h3>Run summary:</h3><br/><style>\n",
       "    table.wandb td:nth-child(1) { padding: 0 10px; text-align: right }\n",
       "    </style><table class=\"wandb\">\n",
       "<tr><td>loss</td><td>0.47002</td></tr><tr><td>batch</td><td>949</td></tr><tr><td>epoch</td><td>24</td></tr><tr><td>loss_fine</td><td>0.46461</td></tr><tr><td>loss_coarse</td><td>0.93586</td></tr><tr><td>lambda_fine</td><td>1</td></tr><tr><td>lambda_coarse</td><td>0.00578</td></tr><tr><td>_step</td><td>974</td></tr><tr><td>_runtime</td><td>1242</td></tr><tr><td>_timestamp</td><td>1609934151</td></tr><tr><td>validation_fine_f1</td><td>0.84487</td></tr><tr><td>training_fine_f1</td><td>1.0</td></tr><tr><td>validation_loss</td><td>3.22121</td></tr></table>"
      ],
      "text/plain": [
       "<IPython.core.display.HTML object>"
      ]
     },
     "metadata": {},
     "output_type": "display_data"
    },
    {
     "data": {
      "text/html": [
       "<h3>Run history:</h3><br/><style>\n",
       "    table.wandb td:nth-child(1) { padding: 0 10px; text-align: right }\n",
       "    </style><table class=\"wandb\">\n",
       "<tr><td>loss</td><td>█▆▄▃▃▃▃▃▂▂▂▂▂▂▂▂▂▁▂▂▂▂▂▂▂▂▁▁▁▁▂▁▂▂▂▁▂▂▂▁</td></tr><tr><td>batch</td><td>▁▁▁▂▂▂▂▂▂▃▃▃▃▃▄▄▄▄▄▄▅▅▅▅▅▅▆▆▆▆▆▇▇▇▇▇▇███</td></tr><tr><td>epoch</td><td>▁▁▁▂▂▂▂▂▂▂▃▃▃▃▄▄▄▄▄▅▅▅▅▅▅▅▆▆▆▆▇▇▇▇▇▇▇███</td></tr><tr><td>loss_fine</td><td>█▆▄▃▃▃▃▃▂▂▂▂▂▂▂▂▂▁▂▂▂▂▂▂▂▂▁▁▁▁▂▁▂▂▂▁▂▂▂▁</td></tr><tr><td>loss_coarse</td><td>█▇▅▅▄▄▄▄▄▄▃▅▃▃▃▃▂▃▃▂▂▁▂▂▂▂▂▁▂▁▂▁▁▁▂▁▂▂▂▁</td></tr><tr><td>lambda_fine</td><td>▁▁▁▁▁▁▁▁▁▁▁▁▁▁▁▁▁▁▁▁▁▁▁▁▁▁▁▁▁▁▁▁▁▁▁▁▁▁▁▁</td></tr><tr><td>lambda_coarse</td><td>▁▁▁▁▁▁▁▁▁▁▁▁▁▁▁▁▁▁▁▁▁▁▁▁▁▁▁▁▁▁▁▁▁▁▁▁▁▁▁▁</td></tr><tr><td>_step</td><td>▁▁▁▂▂▂▂▂▂▃▃▃▃▃▄▄▄▄▄▄▅▅▅▅▅▅▆▆▆▆▆▇▇▇▇▇▇███</td></tr><tr><td>_runtime</td><td>▁▁▁▂▂▂▂▂▂▃▃▃▃▃▄▄▄▄▄▅▅▅▅▅▅▅▆▆▆▆▇▇▇▇▇▇▇███</td></tr><tr><td>_timestamp</td><td>▁▁▁▂▂▂▂▂▂▃▃▃▃▃▄▄▄▄▄▅▅▅▅▅▅▅▆▆▆▆▇▇▇▇▇▇▇███</td></tr><tr><td>validation_fine_f1</td><td>▁▄▆▆▆▇▇▇▇▇██▇▇▇██▇██▇▇███</td></tr><tr><td>training_fine_f1</td><td>▁▆▇██████████████████████</td></tr><tr><td>validation_loss</td><td>█▆▄▄▃▂▂▂▂▂▂▁▂▂▁▂▁▁▁▁▁▂▂▁▁</td></tr></table><br/>"
      ],
      "text/plain": [
       "<IPython.core.display.HTML object>"
      ]
     },
     "metadata": {},
     "output_type": "display_data"
    },
    {
     "data": {
      "text/html": [
       "Synced 5 W&B file(s), 0 media file(s), 0 artifact file(s) and 0 other file(s)"
      ],
      "text/plain": [
       "<IPython.core.display.HTML object>"
      ]
     },
     "metadata": {},
     "output_type": "display_data"
    },
    {
     "data": {
      "text/html": [
       "\n",
       "                    <br/>Synced <strong style=\"color:#cdcd00\">sweepy-sweep-27</strong>: <a href=\"https://wandb.ai/mndhamod/HGNN_sweep/runs/c7eelhek\" target=\"_blank\">https://wandb.ai/mndhamod/HGNN_sweep/runs/c7eelhek</a><br/>\n",
       "                "
      ],
      "text/plain": [
       "<IPython.core.display.HTML object>"
      ]
     },
     "metadata": {},
     "output_type": "display_data"
    },
    {
     "name": "stdout",
     "output_type": "stream",
     "text": [
      "\n"
     ]
    },
    {
     "name": "stderr",
     "output_type": "stream",
     "text": [
      "\u001b[34m\u001b[1mwandb\u001b[0m: Agent Starting Run: 1y92xjt4 with config:\n",
      "\u001b[34m\u001b[1mwandb\u001b[0m: \tadaptive_alpha: 0.6341528066099513\n",
      "\u001b[34m\u001b[1mwandb\u001b[0m: \tadaptive_lambda: 0.004434701476836593\n",
      "\u001b[34m\u001b[1mwandb\u001b[0m: \tadaptive_smoothing: False\n",
      "\u001b[34m\u001b[1mwandb\u001b[0m: \taugmented: True\n",
      "\u001b[34m\u001b[1mwandb\u001b[0m: \tbatchSize: 16\n",
      "\u001b[34m\u001b[1mwandb\u001b[0m: \tfc_layers: 2\n",
      "\u001b[34m\u001b[1mwandb\u001b[0m: \timage_path: Curated4/Easy_50\n",
      "\u001b[34m\u001b[1mwandb\u001b[0m: \timg_res: 448\n",
      "\u001b[34m\u001b[1mwandb\u001b[0m: \tlambda: 0.007566351161083117\n",
      "\u001b[34m\u001b[1mwandb\u001b[0m: \tlearning_rate: 5.448108875420573e-05\n",
      "\u001b[34m\u001b[1mwandb\u001b[0m: \tlink_layer: avgpool\n",
      "\u001b[34m\u001b[1mwandb\u001b[0m: \tmodelType: HGNN_add\n",
      "\u001b[34m\u001b[1mwandb\u001b[0m: \tnoSpeciesBackprop: True\n",
      "\u001b[34m\u001b[1mwandb\u001b[0m: \tnumOfTrials: 1\n",
      "\u001b[34m\u001b[1mwandb\u001b[0m: \tsuffix: None\n",
      "\u001b[34m\u001b[1mwandb\u001b[0m: \ttl_model: ResNet18\n",
      "\u001b[34m\u001b[1mwandb\u001b[0m: \tunsupervisedOnTest: False\n"
     ]
    },
    {
     "data": {
      "text/html": [
       "\n",
       "                Tracking run with wandb version 0.10.12<br/>\n",
       "                Syncing run <strong style=\"color:#cdcd00\">graceful-sweep-28</strong> to <a href=\"https://wandb.ai\" target=\"_blank\">Weights & Biases</a> <a href=\"https://docs.wandb.com/integrations/jupyter.html\" target=\"_blank\">(Documentation)</a>.<br/>\n",
       "                Project page: <a href=\"https://wandb.ai/mndhamod/HGNN_sweep\" target=\"_blank\">https://wandb.ai/mndhamod/HGNN_sweep</a><br/>\n",
       "                Sweep page: <a href=\"https://wandb.ai/mndhamod/HGNN_sweep/sweeps/7uhr6dty\" target=\"_blank\">https://wandb.ai/mndhamod/HGNN_sweep/sweeps/7uhr6dty</a><br/>\n",
       "Run page: <a href=\"https://wandb.ai/mndhamod/HGNN_sweep/runs/1y92xjt4\" target=\"_blank\">https://wandb.ai/mndhamod/HGNN_sweep/runs/1y92xjt4</a><br/>\n",
       "                Run data is saved locally in <code>/home/elhamod/HGNN/code/HGNN/HGNN/train/wandb/run-20210106_065559-1y92xjt4</code><br/><br/>\n",
       "            "
      ],
      "text/plain": [
       "<IPython.core.display.HTML object>"
      ]
     },
     "metadata": {},
     "output_type": "display_data"
    },
    {
     "name": "stdout",
     "output_type": "stream",
     "text": [
      "{'adaptive_alpha': 0.6341528066099513, 'adaptive_lambda': 0.004434701476836593, 'adaptive_smoothing': False, 'augmented': True, 'batchSize': 16, 'fc_layers': 2, 'image_path': 'Curated4/Easy_50', 'img_res': 448, 'lambda': 0.007566351161083117, 'learning_rate': 5.448108875420573e-05, 'link_layer': 'avgpool', 'modelType': 'HGNN_add', 'noSpeciesBackprop': True, 'numOfTrials': 1, 'suffix': None, 'tl_model': 'ResNet18', 'unsupervisedOnTest': False}\n",
      "Creating datasets...\n",
      "Creating datasets... Done.\n",
      "Creating loaders...\n",
      "Creating loaders... Done.\n"
     ]
    },
    {
     "data": {
      "application/vnd.jupyter.widget-view+json": {
       "model_id": "84cc5c5f874748a98e3cdce246b6c3d4",
       "version_major": 2,
       "version_minor": 0
      },
      "text/plain": [
       "HBox(children=(FloatProgress(value=0.0, description='trial', max=1.0, style=ProgressStyle(description_width='i…"
      ]
     },
     "metadata": {},
     "output_type": "display_data"
    },
    {
     "name": "stdout",
     "output_type": "stream",
     "text": [
      "{'experimentName': 'HGNN_sweep', 'modelName': 'models/990db2ceb54b8eba123fdccde982f691612e89f978b30f7281a562fb', 'datasetName': 'datasplits/7c7513bdfb4e5577fef1c3ec0fa6452d30d87dbc95f258a7c86dd76b', 'experimentHash': '90aeb237c95af2cd9ff3523e56a7540fdf6616ea12ab76df3a71f324', 'trialHash': '990db2ceb54b8eba123fdccde982f691612e89f978b30f7281a562fb', 'adaptive_alpha': 0.6341528066099513, 'adaptive_lambda': 0.004434701476836593, 'adaptive_smoothing': False, 'augmented': True, 'batchSize': 16, 'fc_layers': 2, 'image_path': 'Curated4/Easy_50', 'img_res': 448, 'lambda': 0.007566351161083117, 'learning_rate': 5.448108875420573e-05, 'link_layer': 'avgpool', 'modelType': 'HGNN_add', 'noSpeciesBackprop': True, 'numOfTrials': 1, 'suffix': None, 'tl_model': 'ResNet18', 'unsupervisedOnTest': False}\n"
     ]
    },
    {
     "name": "stderr",
     "output_type": "stream",
     "text": [
      "\r",
      "iteration:   0%|          | 0/500 [00:00<?, ?it/s]"
     ]
    },
    {
     "name": "stdout",
     "output_type": "stream",
     "text": [
      "Training started...\n"
     ]
    },
    {
     "name": "stderr",
     "output_type": "stream",
     "text": [
      "iteration:   5%|▍         | 23/500 [17:34<5:58:55, 45.15s/it, min_val_loss=1.15, train=1, val=0.841, val_loss=3.16]    "
     ]
    },
    {
     "name": "stdout",
     "output_type": "stream",
     "text": [
      "Early stopping\n",
      "total number of epochs:  22\n"
     ]
    },
    {
     "name": "stderr",
     "output_type": "stream",
     "text": [
      "iteration:   5%|▍         | 23/500 [17:36<6:05:14, 45.94s/it, min_val_loss=1.15, train=1, val=0.841, val_loss=3.16]\n"
     ]
    },
    {
     "data": {
      "text/html": [
       "<br/>Waiting for W&B process to finish, PID 28277<br/>Program ended successfully."
      ],
      "text/plain": [
       "<IPython.core.display.HTML object>"
      ]
     },
     "metadata": {},
     "output_type": "display_data"
    },
    {
     "data": {
      "application/vnd.jupyter.widget-view+json": {
       "model_id": "",
       "version_major": 2,
       "version_minor": 0
      },
      "text/plain": [
       "VBox(children=(Label(value=' 0.00MB of 0.00MB uploaded (0.00MB deduped)\\r'), FloatProgress(value=1.0, max=1.0)…"
      ]
     },
     "metadata": {},
     "output_type": "display_data"
    },
    {
     "data": {
      "text/html": [
       "Find user logs for this run at: <code>/home/elhamod/HGNN/code/HGNN/HGNN/train/wandb/run-20210106_065559-1y92xjt4/logs/debug.log</code>"
      ],
      "text/plain": [
       "<IPython.core.display.HTML object>"
      ]
     },
     "metadata": {},
     "output_type": "display_data"
    },
    {
     "data": {
      "text/html": [
       "Find internal logs for this run at: <code>/home/elhamod/HGNN/code/HGNN/HGNN/train/wandb/run-20210106_065559-1y92xjt4/logs/debug-internal.log</code>"
      ],
      "text/plain": [
       "<IPython.core.display.HTML object>"
      ]
     },
     "metadata": {},
     "output_type": "display_data"
    },
    {
     "data": {
      "text/html": [
       "<h3>Run summary:</h3><br/><style>\n",
       "    table.wandb td:nth-child(1) { padding: 0 10px; text-align: right }\n",
       "    </style><table class=\"wandb\">\n",
       "<tr><td>loss</td><td>1.02105</td></tr><tr><td>batch</td><td>1747</td></tr><tr><td>epoch</td><td>22</td></tr><tr><td>loss_fine</td><td>1.01517</td></tr><tr><td>loss_coarse</td><td>0.77773</td></tr><tr><td>lambda_fine</td><td>1</td></tr><tr><td>lambda_coarse</td><td>0.00757</td></tr><tr><td>_step</td><td>1770</td></tr><tr><td>_runtime</td><td>1057</td></tr><tr><td>_timestamp</td><td>1609935216</td></tr><tr><td>validation_fine_f1</td><td>0.84133</td></tr><tr><td>training_fine_f1</td><td>1.0</td></tr><tr><td>validation_loss</td><td>3.15845</td></tr></table>"
      ],
      "text/plain": [
       "<IPython.core.display.HTML object>"
      ]
     },
     "metadata": {},
     "output_type": "display_data"
    },
    {
     "data": {
      "text/html": [
       "<h3>Run history:</h3><br/><style>\n",
       "    table.wandb td:nth-child(1) { padding: 0 10px; text-align: right }\n",
       "    </style><table class=\"wandb\">\n",
       "<tr><td>loss</td><td>█▇▅▄▄▃▃▃▂▃▂▂▃▃▂▂▂▂▂▂▂▂▁▂▁▂▃▂▁▂▂▂▂▂▂▁▂▂▂▂</td></tr><tr><td>batch</td><td>▁▁▁▂▂▂▂▂▂▃▃▃▃▃▃▄▄▄▄▄▅▅▅▅▅▅▆▆▆▆▆▇▇▇▇▇▇███</td></tr><tr><td>epoch</td><td>▁▁▁▁▂▂▂▂▂▃▃▃▃▃▄▄▄▄▄▅▅▅▅▅▅▅▆▆▆▆▆▇▇▇▇▇▇███</td></tr><tr><td>loss_fine</td><td>█▇▅▄▄▃▃▃▂▃▂▂▃▃▂▂▂▂▂▂▂▂▁▂▁▂▃▂▁▂▂▂▂▂▂▁▂▂▂▂</td></tr><tr><td>loss_coarse</td><td>█▇▄▃▄▂▂▃▃▃▃▄▂▃▅▂▃▃▃▃▄▄▂▂▁▃▁▂▂▂▃▂▂▂▃▃▃▃▂▃</td></tr><tr><td>lambda_fine</td><td>▁▁▁▁▁▁▁▁▁▁▁▁▁▁▁▁▁▁▁▁▁▁▁▁▁▁▁▁▁▁▁▁▁▁▁▁▁▁▁▁</td></tr><tr><td>lambda_coarse</td><td>▁▁▁▁▁▁▁▁▁▁▁▁▁▁▁▁▁▁▁▁▁▁▁▁▁▁▁▁▁▁▁▁▁▁▁▁▁▁▁▁</td></tr><tr><td>_step</td><td>▁▁▁▂▂▂▂▂▂▃▃▃▃▃▄▄▄▄▄▄▅▅▅▅▅▅▆▆▆▆▆▇▇▇▇▇▇███</td></tr><tr><td>_runtime</td><td>▁▁▁▁▂▂▂▂▂▃▃▃▃▃▄▄▄▄▄▅▅▅▅▅▅▅▆▆▆▆▆▇▇▇▇▇▇███</td></tr><tr><td>_timestamp</td><td>▁▁▁▁▂▂▂▂▂▃▃▃▃▃▄▄▄▄▄▅▅▅▅▅▅▅▆▆▆▆▆▇▇▇▇▇▇███</td></tr><tr><td>validation_fine_f1</td><td>▁▄▅▇▆▇▇▇▇▇███▇█████████</td></tr><tr><td>training_fine_f1</td><td>▁▄▆▇▇██████████████████</td></tr><tr><td>validation_loss</td><td>█▇▅▄▄▄▃▃▃▂▂▁▁▂▁▁▁▁▁▁▁▁▁</td></tr></table><br/>"
      ],
      "text/plain": [
       "<IPython.core.display.HTML object>"
      ]
     },
     "metadata": {},
     "output_type": "display_data"
    },
    {
     "data": {
      "text/html": [
       "Synced 5 W&B file(s), 0 media file(s), 0 artifact file(s) and 0 other file(s)"
      ],
      "text/plain": [
       "<IPython.core.display.HTML object>"
      ]
     },
     "metadata": {},
     "output_type": "display_data"
    },
    {
     "data": {
      "text/html": [
       "\n",
       "                    <br/>Synced <strong style=\"color:#cdcd00\">graceful-sweep-28</strong>: <a href=\"https://wandb.ai/mndhamod/HGNN_sweep/runs/1y92xjt4\" target=\"_blank\">https://wandb.ai/mndhamod/HGNN_sweep/runs/1y92xjt4</a><br/>\n",
       "                "
      ],
      "text/plain": [
       "<IPython.core.display.HTML object>"
      ]
     },
     "metadata": {},
     "output_type": "display_data"
    },
    {
     "name": "stdout",
     "output_type": "stream",
     "text": [
      "\n"
     ]
    },
    {
     "name": "stderr",
     "output_type": "stream",
     "text": [
      "\u001b[34m\u001b[1mwandb\u001b[0m: Agent Starting Run: o5ebxqga with config:\n",
      "\u001b[34m\u001b[1mwandb\u001b[0m: \tadaptive_alpha: 0.8664259616185361\n",
      "\u001b[34m\u001b[1mwandb\u001b[0m: \tadaptive_lambda: 0.08739522088394626\n",
      "\u001b[34m\u001b[1mwandb\u001b[0m: \tadaptive_smoothing: True\n",
      "\u001b[34m\u001b[1mwandb\u001b[0m: \taugmented: True\n",
      "\u001b[34m\u001b[1mwandb\u001b[0m: \tbatchSize: 32\n",
      "\u001b[34m\u001b[1mwandb\u001b[0m: \tfc_layers: 1\n",
      "\u001b[34m\u001b[1mwandb\u001b[0m: \timage_path: Curated4/Easy_50\n",
      "\u001b[34m\u001b[1mwandb\u001b[0m: \timg_res: 448\n",
      "\u001b[34m\u001b[1mwandb\u001b[0m: \tlambda: 0.0359599550447183\n",
      "\u001b[34m\u001b[1mwandb\u001b[0m: \tlearning_rate: 8.242112598981647e-05\n",
      "\u001b[34m\u001b[1mwandb\u001b[0m: \tlink_layer: avgpool\n",
      "\u001b[34m\u001b[1mwandb\u001b[0m: \tmodelType: HGNN_add\n",
      "\u001b[34m\u001b[1mwandb\u001b[0m: \tnoSpeciesBackprop: True\n",
      "\u001b[34m\u001b[1mwandb\u001b[0m: \tnumOfTrials: 1\n",
      "\u001b[34m\u001b[1mwandb\u001b[0m: \tsuffix: None\n",
      "\u001b[34m\u001b[1mwandb\u001b[0m: \ttl_model: ResNet18\n",
      "\u001b[34m\u001b[1mwandb\u001b[0m: \tunsupervisedOnTest: False\n"
     ]
    },
    {
     "data": {
      "text/html": [
       "\n",
       "                Tracking run with wandb version 0.10.12<br/>\n",
       "                Syncing run <strong style=\"color:#cdcd00\">worldly-sweep-29</strong> to <a href=\"https://wandb.ai\" target=\"_blank\">Weights & Biases</a> <a href=\"https://docs.wandb.com/integrations/jupyter.html\" target=\"_blank\">(Documentation)</a>.<br/>\n",
       "                Project page: <a href=\"https://wandb.ai/mndhamod/HGNN_sweep\" target=\"_blank\">https://wandb.ai/mndhamod/HGNN_sweep</a><br/>\n",
       "                Sweep page: <a href=\"https://wandb.ai/mndhamod/HGNN_sweep/sweeps/7uhr6dty\" target=\"_blank\">https://wandb.ai/mndhamod/HGNN_sweep/sweeps/7uhr6dty</a><br/>\n",
       "Run page: <a href=\"https://wandb.ai/mndhamod/HGNN_sweep/runs/o5ebxqga\" target=\"_blank\">https://wandb.ai/mndhamod/HGNN_sweep/runs/o5ebxqga</a><br/>\n",
       "                Run data is saved locally in <code>/home/elhamod/HGNN/code/HGNN/HGNN/train/wandb/run-20210106_071343-o5ebxqga</code><br/><br/>\n",
       "            "
      ],
      "text/plain": [
       "<IPython.core.display.HTML object>"
      ]
     },
     "metadata": {},
     "output_type": "display_data"
    },
    {
     "name": "stdout",
     "output_type": "stream",
     "text": [
      "{'adaptive_alpha': 0.8664259616185361, 'adaptive_lambda': 0.08739522088394626, 'adaptive_smoothing': True, 'augmented': True, 'batchSize': 32, 'fc_layers': 1, 'image_path': 'Curated4/Easy_50', 'img_res': 448, 'lambda': 0.0359599550447183, 'learning_rate': 8.242112598981647e-05, 'link_layer': 'avgpool', 'modelType': 'HGNN_add', 'noSpeciesBackprop': True, 'numOfTrials': 1, 'suffix': None, 'tl_model': 'ResNet18', 'unsupervisedOnTest': False}\n",
      "Creating datasets...\n",
      "Creating datasets... Done.\n",
      "Creating loaders...\n",
      "Creating loaders... Done.\n"
     ]
    },
    {
     "data": {
      "application/vnd.jupyter.widget-view+json": {
       "model_id": "255234dc30354053964fdf11b470a86f",
       "version_major": 2,
       "version_minor": 0
      },
      "text/plain": [
       "HBox(children=(FloatProgress(value=0.0, description='trial', max=1.0, style=ProgressStyle(description_width='i…"
      ]
     },
     "metadata": {},
     "output_type": "display_data"
    },
    {
     "name": "stdout",
     "output_type": "stream",
     "text": [
      "{'experimentName': 'HGNN_sweep', 'modelName': 'models/c2ab2828c4ec69214c6bfa282387db1ed0298c9f26cdfbd53e6fc628', 'datasetName': 'datasplits/7c7513bdfb4e5577fef1c3ec0fa6452d30d87dbc95f258a7c86dd76b', 'experimentHash': 'f5cc123d605c1c86d45caf0457d9387ff13ec19cf975a1e89280ea76', 'trialHash': 'c2ab2828c4ec69214c6bfa282387db1ed0298c9f26cdfbd53e6fc628', 'adaptive_alpha': 0.8664259616185361, 'adaptive_lambda': 0.08739522088394626, 'adaptive_smoothing': True, 'augmented': True, 'batchSize': 32, 'fc_layers': 1, 'image_path': 'Curated4/Easy_50', 'img_res': 448, 'lambda': 0.0359599550447183, 'learning_rate': 8.242112598981647e-05, 'link_layer': 'avgpool', 'modelType': 'HGNN_add', 'noSpeciesBackprop': True, 'numOfTrials': 1, 'suffix': None, 'tl_model': 'ResNet18', 'unsupervisedOnTest': False}\n"
     ]
    },
    {
     "name": "stderr",
     "output_type": "stream",
     "text": [
      "\r",
      "iteration:   0%|          | 0/500 [00:00<?, ?it/s]"
     ]
    },
    {
     "name": "stdout",
     "output_type": "stream",
     "text": [
      "Training started...\n"
     ]
    },
    {
     "name": "stderr",
     "output_type": "stream",
     "text": [
      "iteration:   4%|▍         | 22/500 [18:12<6:25:55, 48.44s/it, min_val_loss=1.18, train=1, val=0.835, val_loss=3.22]    "
     ]
    },
    {
     "name": "stdout",
     "output_type": "stream",
     "text": [
      "Early stopping\n",
      "total number of epochs:  21\n"
     ]
    },
    {
     "name": "stderr",
     "output_type": "stream",
     "text": [
      "iteration:   4%|▍         | 22/500 [18:14<6:36:17, 49.74s/it, min_val_loss=1.18, train=1, val=0.835, val_loss=3.22]\n"
     ]
    },
    {
     "data": {
      "text/html": [
       "<br/>Waiting for W&B process to finish, PID 35063<br/>Program ended successfully."
      ],
      "text/plain": [
       "<IPython.core.display.HTML object>"
      ]
     },
     "metadata": {},
     "output_type": "display_data"
    },
    {
     "data": {
      "application/vnd.jupyter.widget-view+json": {
       "model_id": "",
       "version_major": 2,
       "version_minor": 0
      },
      "text/plain": [
       "VBox(children=(Label(value=' 0.00MB of 0.00MB uploaded (0.00MB deduped)\\r'), FloatProgress(value=1.0, max=1.0)…"
      ]
     },
     "metadata": {},
     "output_type": "display_data"
    },
    {
     "data": {
      "text/html": [
       "Find user logs for this run at: <code>/home/elhamod/HGNN/code/HGNN/HGNN/train/wandb/run-20210106_071343-o5ebxqga/logs/debug.log</code>"
      ],
      "text/plain": [
       "<IPython.core.display.HTML object>"
      ]
     },
     "metadata": {},
     "output_type": "display_data"
    },
    {
     "data": {
      "text/html": [
       "Find internal logs for this run at: <code>/home/elhamod/HGNN/code/HGNN/HGNN/train/wandb/run-20210106_071343-o5ebxqga/logs/debug-internal.log</code>"
      ],
      "text/plain": [
       "<IPython.core.display.HTML object>"
      ]
     },
     "metadata": {},
     "output_type": "display_data"
    },
    {
     "data": {
      "text/html": [
       "<h3>Run summary:</h3><br/><style>\n",
       "    table.wandb td:nth-child(1) { padding: 0 10px; text-align: right }\n",
       "    </style><table class=\"wandb\">\n",
       "<tr><td>loss</td><td>0.63292</td></tr><tr><td>batch</td><td>835</td></tr><tr><td>epoch</td><td>21</td></tr><tr><td>loss_fine</td><td>0.61046</td></tr><tr><td>loss_coarse</td><td>0.96625</td></tr><tr><td>lambda_fine</td><td>0.93687</td></tr><tr><td>lambda_coarse</td><td>0.06313</td></tr><tr><td>_step</td><td>857</td></tr><tr><td>_runtime</td><td>1095</td></tr><tr><td>_timestamp</td><td>1609936318</td></tr><tr><td>validation_fine_f1</td><td>0.83549</td></tr><tr><td>training_fine_f1</td><td>1.0</td></tr><tr><td>validation_loss</td><td>3.21893</td></tr></table>"
      ],
      "text/plain": [
       "<IPython.core.display.HTML object>"
      ]
     },
     "metadata": {},
     "output_type": "display_data"
    },
    {
     "data": {
      "text/html": [
       "<h3>Run history:</h3><br/><style>\n",
       "    table.wandb td:nth-child(1) { padding: 0 10px; text-align: right }\n",
       "    </style><table class=\"wandb\">\n",
       "<tr><td>loss</td><td>█▆▄▄▄▃▃▂▂▂▂▂▂▂▁▁▁▁▂▂▁▁▂▁▁▁▁▁▁▂▁▂▁▁▁▁▁▁▁▂</td></tr><tr><td>batch</td><td>▁▁▁▁▂▂▂▂▂▃▃▃▃▃▃▄▄▄▄▄▅▅▅▅▅▅▆▆▆▆▆▇▇▇▇▇▇███</td></tr><tr><td>epoch</td><td>▁▁▁▁▂▂▂▂▂▃▃▃▃▃▃▄▄▄▄▄▅▅▅▅▅▅▆▆▆▆▆▇▇▇▇▇████</td></tr><tr><td>loss_fine</td><td>█▆▄▄▄▃▃▂▂▂▂▂▂▂▁▁▁▁▂▂▁▁▂▁▁▁▁▁▁▂▁▂▁▁▁▂▁▁▁▂</td></tr><tr><td>loss_coarse</td><td>█▆▅▄▄▄▃▄▃▅▃▃▂▄▂▄▃▂▄▄▃▃▃▂▃▃▃▃▃▃▂▄▃▃▁▂▄▂▂▄</td></tr><tr><td>lambda_fine</td><td>▂▁▂▂▂▃▄▅▄▇▄▅▃▇▃█▅▃▇▆▄▆▅▃▆▅▆▆▆▆▃▇▅▆▁▂█▃▄▆</td></tr><tr><td>lambda_coarse</td><td>▇█▇▇▇▆▅▄▅▂▅▄▆▂▆▁▄▆▂▃▅▃▄▆▃▄▃▃▃▃▆▂▄▃█▇▁▆▅▃</td></tr><tr><td>_step</td><td>▁▁▁▂▂▂▂▂▂▃▃▃▃▃▄▄▄▄▄▄▅▅▅▅▅▅▆▆▆▆▆▇▇▇▇▇▇███</td></tr><tr><td>_runtime</td><td>▁▁▁▁▂▂▂▂▂▃▃▃▃▃▄▄▄▄▄▄▅▅▅▅▅▅▆▆▆▆▆▇▇▇▇▇████</td></tr><tr><td>_timestamp</td><td>▁▁▁▁▂▂▂▂▂▃▃▃▃▃▄▄▄▄▄▄▅▅▅▅▅▅▆▆▆▆▆▇▇▇▇▇████</td></tr><tr><td>validation_fine_f1</td><td>▁▄▆▇▇▇▇█▇█████████▇███</td></tr><tr><td>training_fine_f1</td><td>▁▄▇███████████████████</td></tr><tr><td>validation_loss</td><td>█▆▄▃▃▂▂▂▁▁▁▂▂▁▁▁▁▁▁▁▁▁</td></tr></table><br/>"
      ],
      "text/plain": [
       "<IPython.core.display.HTML object>"
      ]
     },
     "metadata": {},
     "output_type": "display_data"
    },
    {
     "data": {
      "text/html": [
       "Synced 5 W&B file(s), 0 media file(s), 0 artifact file(s) and 0 other file(s)"
      ],
      "text/plain": [
       "<IPython.core.display.HTML object>"
      ]
     },
     "metadata": {},
     "output_type": "display_data"
    },
    {
     "data": {
      "text/html": [
       "\n",
       "                    <br/>Synced <strong style=\"color:#cdcd00\">worldly-sweep-29</strong>: <a href=\"https://wandb.ai/mndhamod/HGNN_sweep/runs/o5ebxqga\" target=\"_blank\">https://wandb.ai/mndhamod/HGNN_sweep/runs/o5ebxqga</a><br/>\n",
       "                "
      ],
      "text/plain": [
       "<IPython.core.display.HTML object>"
      ]
     },
     "metadata": {},
     "output_type": "display_data"
    },
    {
     "name": "stdout",
     "output_type": "stream",
     "text": [
      "\n"
     ]
    },
    {
     "name": "stderr",
     "output_type": "stream",
     "text": [
      "\u001b[34m\u001b[1mwandb\u001b[0m: Agent Starting Run: 7eezu06w with config:\n",
      "\u001b[34m\u001b[1mwandb\u001b[0m: \tadaptive_alpha: 0.7982074262532671\n",
      "\u001b[34m\u001b[1mwandb\u001b[0m: \tadaptive_lambda: 0.055847066036467954\n",
      "\u001b[34m\u001b[1mwandb\u001b[0m: \tadaptive_smoothing: False\n",
      "\u001b[34m\u001b[1mwandb\u001b[0m: \taugmented: True\n",
      "\u001b[34m\u001b[1mwandb\u001b[0m: \tbatchSize: 32\n",
      "\u001b[34m\u001b[1mwandb\u001b[0m: \tfc_layers: 2\n",
      "\u001b[34m\u001b[1mwandb\u001b[0m: \timage_path: Curated4/Easy_50\n",
      "\u001b[34m\u001b[1mwandb\u001b[0m: \timg_res: 448\n",
      "\u001b[34m\u001b[1mwandb\u001b[0m: \tlambda: 0.020113616077998688\n",
      "\u001b[34m\u001b[1mwandb\u001b[0m: \tlearning_rate: 5.156265378352402e-05\n",
      "\u001b[34m\u001b[1mwandb\u001b[0m: \tlink_layer: avgpool\n",
      "\u001b[34m\u001b[1mwandb\u001b[0m: \tmodelType: HGNN_add\n",
      "\u001b[34m\u001b[1mwandb\u001b[0m: \tnoSpeciesBackprop: True\n",
      "\u001b[34m\u001b[1mwandb\u001b[0m: \tnumOfTrials: 1\n",
      "\u001b[34m\u001b[1mwandb\u001b[0m: \tsuffix: None\n",
      "\u001b[34m\u001b[1mwandb\u001b[0m: \ttl_model: ResNet18\n",
      "\u001b[34m\u001b[1mwandb\u001b[0m: \tunsupervisedOnTest: False\n"
     ]
    },
    {
     "data": {
      "text/html": [
       "\n",
       "                Tracking run with wandb version 0.10.12<br/>\n",
       "                Syncing run <strong style=\"color:#cdcd00\">devoted-sweep-30</strong> to <a href=\"https://wandb.ai\" target=\"_blank\">Weights & Biases</a> <a href=\"https://docs.wandb.com/integrations/jupyter.html\" target=\"_blank\">(Documentation)</a>.<br/>\n",
       "                Project page: <a href=\"https://wandb.ai/mndhamod/HGNN_sweep\" target=\"_blank\">https://wandb.ai/mndhamod/HGNN_sweep</a><br/>\n",
       "                Sweep page: <a href=\"https://wandb.ai/mndhamod/HGNN_sweep/sweeps/7uhr6dty\" target=\"_blank\">https://wandb.ai/mndhamod/HGNN_sweep/sweeps/7uhr6dty</a><br/>\n",
       "Run page: <a href=\"https://wandb.ai/mndhamod/HGNN_sweep/runs/7eezu06w\" target=\"_blank\">https://wandb.ai/mndhamod/HGNN_sweep/runs/7eezu06w</a><br/>\n",
       "                Run data is saved locally in <code>/home/elhamod/HGNN/code/HGNN/HGNN/train/wandb/run-20210106_073205-7eezu06w</code><br/><br/>\n",
       "            "
      ],
      "text/plain": [
       "<IPython.core.display.HTML object>"
      ]
     },
     "metadata": {},
     "output_type": "display_data"
    },
    {
     "name": "stdout",
     "output_type": "stream",
     "text": [
      "{'adaptive_alpha': 0.7982074262532671, 'adaptive_lambda': 0.055847066036467954, 'adaptive_smoothing': False, 'augmented': True, 'batchSize': 32, 'fc_layers': 2, 'image_path': 'Curated4/Easy_50', 'img_res': 448, 'lambda': 0.020113616077998688, 'learning_rate': 5.156265378352402e-05, 'link_layer': 'avgpool', 'modelType': 'HGNN_add', 'noSpeciesBackprop': True, 'numOfTrials': 1, 'suffix': None, 'tl_model': 'ResNet18', 'unsupervisedOnTest': False}\n",
      "Creating datasets...\n",
      "Creating datasets... Done.\n",
      "Creating loaders...\n",
      "Creating loaders... Done.\n"
     ]
    },
    {
     "data": {
      "application/vnd.jupyter.widget-view+json": {
       "model_id": "4213988dfd5d46998b8197431fa7d439",
       "version_major": 2,
       "version_minor": 0
      },
      "text/plain": [
       "HBox(children=(FloatProgress(value=0.0, description='trial', max=1.0, style=ProgressStyle(description_width='i…"
      ]
     },
     "metadata": {},
     "output_type": "display_data"
    },
    {
     "name": "stdout",
     "output_type": "stream",
     "text": [
      "{'experimentName': 'HGNN_sweep', 'modelName': 'models/70994b587120aca27b4dedba085fc87b56256ab6fab4b96c95201e6c', 'datasetName': 'datasplits/7c7513bdfb4e5577fef1c3ec0fa6452d30d87dbc95f258a7c86dd76b', 'experimentHash': '9ad1698885b8c01d657b83808c920e23447120f0a08ee93c709f2842', 'trialHash': '70994b587120aca27b4dedba085fc87b56256ab6fab4b96c95201e6c', 'adaptive_alpha': 0.7982074262532671, 'adaptive_lambda': 0.055847066036467954, 'adaptive_smoothing': False, 'augmented': True, 'batchSize': 32, 'fc_layers': 2, 'image_path': 'Curated4/Easy_50', 'img_res': 448, 'lambda': 0.020113616077998688, 'learning_rate': 5.156265378352402e-05, 'link_layer': 'avgpool', 'modelType': 'HGNN_add', 'noSpeciesBackprop': True, 'numOfTrials': 1, 'suffix': None, 'tl_model': 'ResNet18', 'unsupervisedOnTest': False}\n"
     ]
    },
    {
     "name": "stderr",
     "output_type": "stream",
     "text": [
      "\r",
      "iteration:   0%|          | 0/500 [00:00<?, ?it/s]"
     ]
    },
    {
     "name": "stdout",
     "output_type": "stream",
     "text": [
      "Training started...\n"
     ]
    },
    {
     "name": "stderr",
     "output_type": "stream",
     "text": [
      "iteration:   6%|▌         | 30/500 [24:53<6:20:15, 48.54s/it, min_val_loss=1.18, train=1, val=0.827, val_loss=3.2]     "
     ]
    },
    {
     "name": "stdout",
     "output_type": "stream",
     "text": [
      "Early stopping\n",
      "total number of epochs:  29\n"
     ]
    },
    {
     "name": "stderr",
     "output_type": "stream",
     "text": [
      "iteration:   6%|▌         | 30/500 [24:55<6:30:34, 49.86s/it, min_val_loss=1.18, train=1, val=0.827, val_loss=3.2]\n"
     ]
    },
    {
     "data": {
      "text/html": [
       "<br/>Waiting for W&B process to finish, PID 41584<br/>Program ended successfully."
      ],
      "text/plain": [
       "<IPython.core.display.HTML object>"
      ]
     },
     "metadata": {},
     "output_type": "display_data"
    },
    {
     "data": {
      "application/vnd.jupyter.widget-view+json": {
       "model_id": "",
       "version_major": 2,
       "version_minor": 0
      },
      "text/plain": [
       "VBox(children=(Label(value=' 0.00MB of 0.00MB uploaded (0.00MB deduped)\\r'), FloatProgress(value=1.0, max=1.0)…"
      ]
     },
     "metadata": {},
     "output_type": "display_data"
    },
    {
     "data": {
      "text/html": [
       "Find user logs for this run at: <code>/home/elhamod/HGNN/code/HGNN/HGNN/train/wandb/run-20210106_073205-7eezu06w/logs/debug.log</code>"
      ],
      "text/plain": [
       "<IPython.core.display.HTML object>"
      ]
     },
     "metadata": {},
     "output_type": "display_data"
    },
    {
     "data": {
      "text/html": [
       "Find internal logs for this run at: <code>/home/elhamod/HGNN/code/HGNN/HGNN/train/wandb/run-20210106_073205-7eezu06w/logs/debug-internal.log</code>"
      ],
      "text/plain": [
       "<IPython.core.display.HTML object>"
      ]
     },
     "metadata": {},
     "output_type": "display_data"
    },
    {
     "data": {
      "text/html": [
       "<h3>Run summary:</h3><br/><style>\n",
       "    table.wandb td:nth-child(1) { padding: 0 10px; text-align: right }\n",
       "    </style><table class=\"wandb\">\n",
       "<tr><td>loss</td><td>0.53197</td></tr><tr><td>batch</td><td>1139</td></tr><tr><td>epoch</td><td>29</td></tr><tr><td>loss_fine</td><td>0.51511</td></tr><tr><td>loss_coarse</td><td>0.83835</td></tr><tr><td>lambda_fine</td><td>1</td></tr><tr><td>lambda_coarse</td><td>0.02011</td></tr><tr><td>_step</td><td>1169</td></tr><tr><td>_runtime</td><td>1496</td></tr><tr><td>_timestamp</td><td>1609937821</td></tr><tr><td>validation_fine_f1</td><td>0.82662</td></tr><tr><td>training_fine_f1</td><td>1.0</td></tr><tr><td>validation_loss</td><td>3.20282</td></tr></table>"
      ],
      "text/plain": [
       "<IPython.core.display.HTML object>"
      ]
     },
     "metadata": {},
     "output_type": "display_data"
    },
    {
     "data": {
      "text/html": [
       "<h3>Run history:</h3><br/><style>\n",
       "    table.wandb td:nth-child(1) { padding: 0 10px; text-align: right }\n",
       "    </style><table class=\"wandb\">\n",
       "<tr><td>loss</td><td>█▇▆▅▃▃▃▂▂▂▂▂▂▂▂▂▂▂▂▂▂▂▂▂▂▁▁▁▁▁▁▁▂▁▁▁▁▁▁▁</td></tr><tr><td>batch</td><td>▁▁▁▁▂▂▂▂▂▃▃▃▃▃▃▄▄▄▄▄▅▅▅▅▅▅▆▆▆▆▆▇▇▇▇▇▇███</td></tr><tr><td>epoch</td><td>▁▁▁▁▂▂▂▂▂▂▃▃▃▃▃▄▄▄▄▄▅▅▅▅▅▆▆▆▆▆▆▇▇▇▇▇████</td></tr><tr><td>loss_fine</td><td>█▇▆▅▃▃▃▂▂▂▂▂▂▂▂▂▂▂▂▂▂▂▁▂▂▁▁▁▁▁▁▁▂▁▁▁▁▁▁▁</td></tr><tr><td>loss_coarse</td><td>▇█▅▅▄▂▃▄▃▃▄▃▃▄▃▅▂▄▃▃▅▂▃▄▄▂▃▃▂▁▁▄▃▃▂▃▄▃▂▂</td></tr><tr><td>lambda_fine</td><td>▁▁▁▁▁▁▁▁▁▁▁▁▁▁▁▁▁▁▁▁▁▁▁▁▁▁▁▁▁▁▁▁▁▁▁▁▁▁▁▁</td></tr><tr><td>lambda_coarse</td><td>▁▁▁▁▁▁▁▁▁▁▁▁▁▁▁▁▁▁▁▁▁▁▁▁▁▁▁▁▁▁▁▁▁▁▁▁▁▁▁▁</td></tr><tr><td>_step</td><td>▁▁▁▁▂▂▂▂▂▃▃▃▃▃▃▄▄▄▄▄▅▅▅▅▅▅▆▆▆▆▆▇▇▇▇▇▇███</td></tr><tr><td>_runtime</td><td>▁▁▁▂▂▂▂▂▂▃▃▃▃▃▃▄▄▄▄▄▅▅▅▅▅▆▆▆▆▆▆▇▇▇▇▇████</td></tr><tr><td>_timestamp</td><td>▁▁▁▂▂▂▂▂▂▃▃▃▃▃▃▄▄▄▄▄▅▅▅▅▅▆▆▆▆▆▆▇▇▇▇▇████</td></tr><tr><td>validation_fine_f1</td><td>▁▄▅▆▇▇▇▇▇▇▇▇▇█▇▇▇██▇██▇███████</td></tr><tr><td>training_fine_f1</td><td>▁▄▆▇▇▇████████████████████████</td></tr><tr><td>validation_loss</td><td>█▆▅▅▄▃▃▃▂▂▂▂▂▂▂▂▂▁▂▁▁▁▁▁▁▁▁▁▁▁</td></tr></table><br/>"
      ],
      "text/plain": [
       "<IPython.core.display.HTML object>"
      ]
     },
     "metadata": {},
     "output_type": "display_data"
    },
    {
     "data": {
      "text/html": [
       "Synced 5 W&B file(s), 0 media file(s), 0 artifact file(s) and 0 other file(s)"
      ],
      "text/plain": [
       "<IPython.core.display.HTML object>"
      ]
     },
     "metadata": {},
     "output_type": "display_data"
    },
    {
     "data": {
      "text/html": [
       "\n",
       "                    <br/>Synced <strong style=\"color:#cdcd00\">devoted-sweep-30</strong>: <a href=\"https://wandb.ai/mndhamod/HGNN_sweep/runs/7eezu06w\" target=\"_blank\">https://wandb.ai/mndhamod/HGNN_sweep/runs/7eezu06w</a><br/>\n",
       "                "
      ],
      "text/plain": [
       "<IPython.core.display.HTML object>"
      ]
     },
     "metadata": {},
     "output_type": "display_data"
    },
    {
     "name": "stdout",
     "output_type": "stream",
     "text": [
      "\n"
     ]
    },
    {
     "name": "stderr",
     "output_type": "stream",
     "text": [
      "\u001b[34m\u001b[1mwandb\u001b[0m: Agent Starting Run: 09uzof5l with config:\n",
      "\u001b[34m\u001b[1mwandb\u001b[0m: \tadaptive_alpha: 0.6338778217350995\n",
      "\u001b[34m\u001b[1mwandb\u001b[0m: \tadaptive_lambda: 0.0069772906446300504\n",
      "\u001b[34m\u001b[1mwandb\u001b[0m: \tadaptive_smoothing: False\n",
      "\u001b[34m\u001b[1mwandb\u001b[0m: \taugmented: True\n",
      "\u001b[34m\u001b[1mwandb\u001b[0m: \tbatchSize: 16\n",
      "\u001b[34m\u001b[1mwandb\u001b[0m: \tfc_layers: 1\n",
      "\u001b[34m\u001b[1mwandb\u001b[0m: \timage_path: Curated4/Easy_50\n",
      "\u001b[34m\u001b[1mwandb\u001b[0m: \timg_res: 448\n",
      "\u001b[34m\u001b[1mwandb\u001b[0m: \tlambda: 0.05284515455778235\n",
      "\u001b[34m\u001b[1mwandb\u001b[0m: \tlearning_rate: 6.619895094374837e-05\n",
      "\u001b[34m\u001b[1mwandb\u001b[0m: \tlink_layer: avgpool\n",
      "\u001b[34m\u001b[1mwandb\u001b[0m: \tmodelType: HGNN_add\n",
      "\u001b[34m\u001b[1mwandb\u001b[0m: \tnoSpeciesBackprop: True\n",
      "\u001b[34m\u001b[1mwandb\u001b[0m: \tnumOfTrials: 1\n",
      "\u001b[34m\u001b[1mwandb\u001b[0m: \tsuffix: None\n",
      "\u001b[34m\u001b[1mwandb\u001b[0m: \ttl_model: ResNet18\n",
      "\u001b[34m\u001b[1mwandb\u001b[0m: \tunsupervisedOnTest: False\n"
     ]
    },
    {
     "data": {
      "text/html": [
       "\n",
       "                Tracking run with wandb version 0.10.12<br/>\n",
       "                Syncing run <strong style=\"color:#cdcd00\">playful-sweep-31</strong> to <a href=\"https://wandb.ai\" target=\"_blank\">Weights & Biases</a> <a href=\"https://docs.wandb.com/integrations/jupyter.html\" target=\"_blank\">(Documentation)</a>.<br/>\n",
       "                Project page: <a href=\"https://wandb.ai/mndhamod/HGNN_sweep\" target=\"_blank\">https://wandb.ai/mndhamod/HGNN_sweep</a><br/>\n",
       "                Sweep page: <a href=\"https://wandb.ai/mndhamod/HGNN_sweep/sweeps/7uhr6dty\" target=\"_blank\">https://wandb.ai/mndhamod/HGNN_sweep/sweeps/7uhr6dty</a><br/>\n",
       "Run page: <a href=\"https://wandb.ai/mndhamod/HGNN_sweep/runs/09uzof5l\" target=\"_blank\">https://wandb.ai/mndhamod/HGNN_sweep/runs/09uzof5l</a><br/>\n",
       "                Run data is saved locally in <code>/home/elhamod/HGNN/code/HGNN/HGNN/train/wandb/run-20210106_075709-09uzof5l</code><br/><br/>\n",
       "            "
      ],
      "text/plain": [
       "<IPython.core.display.HTML object>"
      ]
     },
     "metadata": {},
     "output_type": "display_data"
    },
    {
     "name": "stdout",
     "output_type": "stream",
     "text": [
      "{'adaptive_alpha': 0.6338778217350995, 'adaptive_lambda': 0.0069772906446300504, 'adaptive_smoothing': False, 'augmented': True, 'batchSize': 16, 'fc_layers': 1, 'image_path': 'Curated4/Easy_50', 'img_res': 448, 'lambda': 0.05284515455778235, 'learning_rate': 6.619895094374837e-05, 'link_layer': 'avgpool', 'modelType': 'HGNN_add', 'noSpeciesBackprop': True, 'numOfTrials': 1, 'suffix': None, 'tl_model': 'ResNet18', 'unsupervisedOnTest': False}\n",
      "Creating datasets...\n",
      "Creating datasets... Done.\n",
      "Creating loaders...\n",
      "Creating loaders... Done.\n"
     ]
    },
    {
     "data": {
      "application/vnd.jupyter.widget-view+json": {
       "model_id": "569cd3fc77924c90935f7a5dcd08d298",
       "version_major": 2,
       "version_minor": 0
      },
      "text/plain": [
       "HBox(children=(FloatProgress(value=0.0, description='trial', max=1.0, style=ProgressStyle(description_width='i…"
      ]
     },
     "metadata": {},
     "output_type": "display_data"
    },
    {
     "name": "stdout",
     "output_type": "stream",
     "text": [
      "{'experimentName': 'HGNN_sweep', 'modelName': 'models/fb5557585159f0e73da4d098fe7806aa26f91051aa7b9fc7d12a5f0a', 'datasetName': 'datasplits/7c7513bdfb4e5577fef1c3ec0fa6452d30d87dbc95f258a7c86dd76b', 'experimentHash': '80472cfb0735cb90ea6a8f9907039809c2dee3505fe8a065c59d544a', 'trialHash': 'fb5557585159f0e73da4d098fe7806aa26f91051aa7b9fc7d12a5f0a', 'adaptive_alpha': 0.6338778217350995, 'adaptive_lambda': 0.0069772906446300504, 'adaptive_smoothing': False, 'augmented': True, 'batchSize': 16, 'fc_layers': 1, 'image_path': 'Curated4/Easy_50', 'img_res': 448, 'lambda': 0.05284515455778235, 'learning_rate': 6.619895094374837e-05, 'link_layer': 'avgpool', 'modelType': 'HGNN_add', 'noSpeciesBackprop': True, 'numOfTrials': 1, 'suffix': None, 'tl_model': 'ResNet18', 'unsupervisedOnTest': False}\n"
     ]
    },
    {
     "name": "stderr",
     "output_type": "stream",
     "text": [
      "\r",
      "iteration:   0%|          | 0/500 [00:00<?, ?it/s]"
     ]
    },
    {
     "name": "stdout",
     "output_type": "stream",
     "text": [
      "Training started...\n"
     ]
    },
    {
     "name": "stderr",
     "output_type": "stream",
     "text": [
      "iteration:   4%|▍         | 19/500 [14:29<5:57:49, 44.63s/it, min_val_loss=1.18, train=1, val=0.836, val_loss=3.17]    "
     ]
    },
    {
     "name": "stdout",
     "output_type": "stream",
     "text": [
      "Early stopping\n",
      "total number of epochs:  18\n"
     ]
    },
    {
     "name": "stderr",
     "output_type": "stream",
     "text": [
      "iteration:   4%|▍         | 19/500 [14:31<6:07:35, 45.85s/it, min_val_loss=1.18, train=1, val=0.836, val_loss=3.17]\n"
     ]
    },
    {
     "data": {
      "text/html": [
       "<br/>Waiting for W&B process to finish, PID 50652<br/>Program ended successfully."
      ],
      "text/plain": [
       "<IPython.core.display.HTML object>"
      ]
     },
     "metadata": {},
     "output_type": "display_data"
    },
    {
     "data": {
      "application/vnd.jupyter.widget-view+json": {
       "model_id": "",
       "version_major": 2,
       "version_minor": 0
      },
      "text/plain": [
       "VBox(children=(Label(value=' 0.00MB of 0.00MB uploaded (0.00MB deduped)\\r'), FloatProgress(value=1.0, max=1.0)…"
      ]
     },
     "metadata": {},
     "output_type": "display_data"
    },
    {
     "data": {
      "text/html": [
       "Find user logs for this run at: <code>/home/elhamod/HGNN/code/HGNN/HGNN/train/wandb/run-20210106_075709-09uzof5l/logs/debug.log</code>"
      ],
      "text/plain": [
       "<IPython.core.display.HTML object>"
      ]
     },
     "metadata": {},
     "output_type": "display_data"
    },
    {
     "data": {
      "text/html": [
       "Find internal logs for this run at: <code>/home/elhamod/HGNN/code/HGNN/HGNN/train/wandb/run-20210106_075709-09uzof5l/logs/debug-internal.log</code>"
      ],
      "text/plain": [
       "<IPython.core.display.HTML object>"
      ]
     },
     "metadata": {},
     "output_type": "display_data"
    },
    {
     "data": {
      "text/html": [
       "<h3>Run summary:</h3><br/><style>\n",
       "    table.wandb td:nth-child(1) { padding: 0 10px; text-align: right }\n",
       "    </style><table class=\"wandb\">\n",
       "<tr><td>loss</td><td>1.10332</td></tr><tr><td>batch</td><td>1443</td></tr><tr><td>epoch</td><td>18</td></tr><tr><td>loss_fine</td><td>1.05007</td></tr><tr><td>loss_coarse</td><td>1.00762</td></tr><tr><td>lambda_fine</td><td>1</td></tr><tr><td>lambda_coarse</td><td>0.05285</td></tr><tr><td>_step</td><td>1462</td></tr><tr><td>_runtime</td><td>871</td></tr><tr><td>_timestamp</td><td>1609938700</td></tr><tr><td>validation_fine_f1</td><td>0.8358</td></tr><tr><td>training_fine_f1</td><td>1.0</td></tr><tr><td>validation_loss</td><td>3.16957</td></tr></table>"
      ],
      "text/plain": [
       "<IPython.core.display.HTML object>"
      ]
     },
     "metadata": {},
     "output_type": "display_data"
    },
    {
     "data": {
      "text/html": [
       "<h3>Run history:</h3><br/><style>\n",
       "    table.wandb td:nth-child(1) { padding: 0 10px; text-align: right }\n",
       "    </style><table class=\"wandb\">\n",
       "<tr><td>loss</td><td>█▆▄▄▃▄▃▃▂▃▃▃▃▂▂▂▁▂▂▂▂▁▂▂▂▂▁▁▁▂▁▂▂▂▂▁▂▁▁▁</td></tr><tr><td>batch</td><td>▁▁▁▁▂▂▂▂▂▃▃▃▃▃▃▄▄▄▄▄▅▅▅▅▅▅▆▆▆▆▆▇▇▇▇▇▇███</td></tr><tr><td>epoch</td><td>▁▁▁▁▂▂▂▂▂▃▃▃▃▃▃▄▄▄▄▅▅▅▅▅▅▆▆▆▆▆▆▆▇▇▇▇████</td></tr><tr><td>loss_fine</td><td>█▆▄▄▃▄▃▃▂▃▃▃▃▂▂▂▂▂▂▂▂▁▂▂▂▂▁▁▁▂▁▂▂▂▂▁▂▁▁▁</td></tr><tr><td>loss_coarse</td><td>█▆▄▄▁▆▄▄▅▃▄▂▃▂▃▄▃▄▃▅▃▁▄▂▃▂▁▃▃▃▃▇▂▂▂▃▄▄▁▅</td></tr><tr><td>lambda_fine</td><td>▁▁▁▁▁▁▁▁▁▁▁▁▁▁▁▁▁▁▁▁▁▁▁▁▁▁▁▁▁▁▁▁▁▁▁▁▁▁▁▁</td></tr><tr><td>lambda_coarse</td><td>▁▁▁▁▁▁▁▁▁▁▁▁▁▁▁▁▁▁▁▁▁▁▁▁▁▁▁▁▁▁▁▁▁▁▁▁▁▁▁▁</td></tr><tr><td>_step</td><td>▁▁▁▁▂▂▂▂▂▃▃▃▃▃▄▄▄▄▄▄▅▅▅▅▅▅▆▆▆▆▆▇▇▇▇▇████</td></tr><tr><td>_runtime</td><td>▁▁▁▁▂▂▂▂▂▃▃▃▃▃▃▄▄▄▄▅▅▅▅▅▅▆▆▆▆▆▇▇▇▇▇▇████</td></tr><tr><td>_timestamp</td><td>▁▁▁▁▂▂▂▂▂▃▃▃▃▃▃▄▄▄▄▅▅▅▅▅▅▆▆▆▆▆▇▇▇▇▇▇████</td></tr><tr><td>validation_fine_f1</td><td>▁▄▅▆▆▆▇▇▇▇█▇███████</td></tr><tr><td>training_fine_f1</td><td>▁▅▇▇███████████████</td></tr><tr><td>validation_loss</td><td>█▆▅▄▃▃▃▃▂▂▂▂▁▂▂▁▂▁▁</td></tr></table><br/>"
      ],
      "text/plain": [
       "<IPython.core.display.HTML object>"
      ]
     },
     "metadata": {},
     "output_type": "display_data"
    },
    {
     "data": {
      "text/html": [
       "Synced 5 W&B file(s), 0 media file(s), 0 artifact file(s) and 0 other file(s)"
      ],
      "text/plain": [
       "<IPython.core.display.HTML object>"
      ]
     },
     "metadata": {},
     "output_type": "display_data"
    },
    {
     "data": {
      "text/html": [
       "\n",
       "                    <br/>Synced <strong style=\"color:#cdcd00\">playful-sweep-31</strong>: <a href=\"https://wandb.ai/mndhamod/HGNN_sweep/runs/09uzof5l\" target=\"_blank\">https://wandb.ai/mndhamod/HGNN_sweep/runs/09uzof5l</a><br/>\n",
       "                "
      ],
      "text/plain": [
       "<IPython.core.display.HTML object>"
      ]
     },
     "metadata": {},
     "output_type": "display_data"
    },
    {
     "name": "stdout",
     "output_type": "stream",
     "text": [
      "\n"
     ]
    },
    {
     "name": "stderr",
     "output_type": "stream",
     "text": [
      "\u001b[34m\u001b[1mwandb\u001b[0m: Agent Starting Run: wrgg5pg6 with config:\n",
      "\u001b[34m\u001b[1mwandb\u001b[0m: \tadaptive_alpha: 0.6357007654603144\n",
      "\u001b[34m\u001b[1mwandb\u001b[0m: \tadaptive_lambda: 0.02332402820651493\n",
      "\u001b[34m\u001b[1mwandb\u001b[0m: \tadaptive_smoothing: True\n",
      "\u001b[34m\u001b[1mwandb\u001b[0m: \taugmented: True\n",
      "\u001b[34m\u001b[1mwandb\u001b[0m: \tbatchSize: 32\n",
      "\u001b[34m\u001b[1mwandb\u001b[0m: \tfc_layers: 3\n",
      "\u001b[34m\u001b[1mwandb\u001b[0m: \timage_path: Curated4/Easy_50\n",
      "\u001b[34m\u001b[1mwandb\u001b[0m: \timg_res: 448\n",
      "\u001b[34m\u001b[1mwandb\u001b[0m: \tlambda: 0.010980028609203014\n",
      "\u001b[34m\u001b[1mwandb\u001b[0m: \tlearning_rate: 6.120851579600969e-05\n",
      "\u001b[34m\u001b[1mwandb\u001b[0m: \tlink_layer: avgpool\n",
      "\u001b[34m\u001b[1mwandb\u001b[0m: \tmodelType: HGNN_add\n",
      "\u001b[34m\u001b[1mwandb\u001b[0m: \tnoSpeciesBackprop: False\n",
      "\u001b[34m\u001b[1mwandb\u001b[0m: \tnumOfTrials: 1\n",
      "\u001b[34m\u001b[1mwandb\u001b[0m: \tsuffix: None\n",
      "\u001b[34m\u001b[1mwandb\u001b[0m: \ttl_model: ResNet18\n",
      "\u001b[34m\u001b[1mwandb\u001b[0m: \tunsupervisedOnTest: False\n"
     ]
    },
    {
     "data": {
      "text/html": [
       "\n",
       "                Tracking run with wandb version 0.10.12<br/>\n",
       "                Syncing run <strong style=\"color:#cdcd00\">sunny-sweep-32</strong> to <a href=\"https://wandb.ai\" target=\"_blank\">Weights & Biases</a> <a href=\"https://docs.wandb.com/integrations/jupyter.html\" target=\"_blank\">(Documentation)</a>.<br/>\n",
       "                Project page: <a href=\"https://wandb.ai/mndhamod/HGNN_sweep\" target=\"_blank\">https://wandb.ai/mndhamod/HGNN_sweep</a><br/>\n",
       "                Sweep page: <a href=\"https://wandb.ai/mndhamod/HGNN_sweep/sweeps/7uhr6dty\" target=\"_blank\">https://wandb.ai/mndhamod/HGNN_sweep/sweeps/7uhr6dty</a><br/>\n",
       "Run page: <a href=\"https://wandb.ai/mndhamod/HGNN_sweep/runs/wrgg5pg6\" target=\"_blank\">https://wandb.ai/mndhamod/HGNN_sweep/runs/wrgg5pg6</a><br/>\n",
       "                Run data is saved locally in <code>/home/elhamod/HGNN/code/HGNN/HGNN/train/wandb/run-20210106_081148-wrgg5pg6</code><br/><br/>\n",
       "            "
      ],
      "text/plain": [
       "<IPython.core.display.HTML object>"
      ]
     },
     "metadata": {},
     "output_type": "display_data"
    },
    {
     "name": "stdout",
     "output_type": "stream",
     "text": [
      "{'adaptive_alpha': 0.6357007654603144, 'adaptive_lambda': 0.02332402820651493, 'adaptive_smoothing': True, 'augmented': True, 'batchSize': 32, 'fc_layers': 3, 'image_path': 'Curated4/Easy_50', 'img_res': 448, 'lambda': 0.010980028609203014, 'learning_rate': 6.120851579600969e-05, 'link_layer': 'avgpool', 'modelType': 'HGNN_add', 'noSpeciesBackprop': False, 'numOfTrials': 1, 'suffix': None, 'tl_model': 'ResNet18', 'unsupervisedOnTest': False}\n",
      "Creating datasets...\n",
      "Creating datasets... Done.\n",
      "Creating loaders...\n",
      "Creating loaders... Done.\n"
     ]
    },
    {
     "data": {
      "application/vnd.jupyter.widget-view+json": {
       "model_id": "d10f927586084f868be0c9d30f8e2719",
       "version_major": 2,
       "version_minor": 0
      },
      "text/plain": [
       "HBox(children=(FloatProgress(value=0.0, description='trial', max=1.0, style=ProgressStyle(description_width='i…"
      ]
     },
     "metadata": {},
     "output_type": "display_data"
    },
    {
     "name": "stdout",
     "output_type": "stream",
     "text": [
      "{'experimentName': 'HGNN_sweep', 'modelName': 'models/42df0f3b4550f430e8972c8088693287abd17dd9f79335f3b1e1d9be', 'datasetName': 'datasplits/7c7513bdfb4e5577fef1c3ec0fa6452d30d87dbc95f258a7c86dd76b', 'experimentHash': '332395332c23f8a32b520cd2b70ef8440b353605138eaa680518b57c', 'trialHash': '42df0f3b4550f430e8972c8088693287abd17dd9f79335f3b1e1d9be', 'adaptive_alpha': 0.6357007654603144, 'adaptive_lambda': 0.02332402820651493, 'adaptive_smoothing': True, 'augmented': True, 'batchSize': 32, 'fc_layers': 3, 'image_path': 'Curated4/Easy_50', 'img_res': 448, 'lambda': 0.010980028609203014, 'learning_rate': 6.120851579600969e-05, 'link_layer': 'avgpool', 'modelType': 'HGNN_add', 'noSpeciesBackprop': False, 'numOfTrials': 1, 'suffix': None, 'tl_model': 'ResNet18', 'unsupervisedOnTest': False}\n"
     ]
    },
    {
     "name": "stderr",
     "output_type": "stream",
     "text": [
      "\r",
      "iteration:   0%|          | 0/500 [00:00<?, ?it/s]"
     ]
    },
    {
     "name": "stdout",
     "output_type": "stream",
     "text": [
      "Training started...\n"
     ]
    },
    {
     "name": "stderr",
     "output_type": "stream",
     "text": [
      "iteration:   6%|▋         | 32/500 [26:46<6:23:34, 49.18s/it, min_val_loss=1.21, train=1, val=0.808, val_loss=3.2]     "
     ]
    },
    {
     "name": "stdout",
     "output_type": "stream",
     "text": [
      "Early stopping\n",
      "total number of epochs:  31\n"
     ]
    },
    {
     "name": "stderr",
     "output_type": "stream",
     "text": [
      "iteration:   6%|▋         | 32/500 [26:48<6:32:04, 50.27s/it, min_val_loss=1.21, train=1, val=0.808, val_loss=3.2]\n"
     ]
    },
    {
     "data": {
      "text/html": [
       "<br/>Waiting for W&B process to finish, PID 56041<br/>Program ended successfully."
      ],
      "text/plain": [
       "<IPython.core.display.HTML object>"
      ]
     },
     "metadata": {},
     "output_type": "display_data"
    },
    {
     "data": {
      "application/vnd.jupyter.widget-view+json": {
       "model_id": "",
       "version_major": 2,
       "version_minor": 0
      },
      "text/plain": [
       "VBox(children=(Label(value=' 0.00MB of 0.00MB uploaded (0.00MB deduped)\\r'), FloatProgress(value=1.0, max=1.0)…"
      ]
     },
     "metadata": {},
     "output_type": "display_data"
    },
    {
     "data": {
      "text/html": [
       "Find user logs for this run at: <code>/home/elhamod/HGNN/code/HGNN/HGNN/train/wandb/run-20210106_081148-wrgg5pg6/logs/debug.log</code>"
      ],
      "text/plain": [
       "<IPython.core.display.HTML object>"
      ]
     },
     "metadata": {},
     "output_type": "display_data"
    },
    {
     "data": {
      "text/html": [
       "Find internal logs for this run at: <code>/home/elhamod/HGNN/code/HGNN/HGNN/train/wandb/run-20210106_081148-wrgg5pg6/logs/debug-internal.log</code>"
      ],
      "text/plain": [
       "<IPython.core.display.HTML object>"
      ]
     },
     "metadata": {},
     "output_type": "display_data"
    },
    {
     "data": {
      "text/html": [
       "<h3>Run summary:</h3><br/><style>\n",
       "    table.wandb td:nth-child(1) { padding: 0 10px; text-align: right }\n",
       "    </style><table class=\"wandb\">\n",
       "<tr><td>loss</td><td>0.75748</td></tr><tr><td>batch</td><td>1215</td></tr><tr><td>epoch</td><td>31</td></tr><tr><td>loss_fine</td><td>0.76277</td></tr><tr><td>loss_coarse</td><td>0.71885</td></tr><tr><td>lambda_fine</td><td>0.8797</td></tr><tr><td>lambda_coarse</td><td>0.1203</td></tr><tr><td>_step</td><td>1247</td></tr><tr><td>_runtime</td><td>1608</td></tr><tr><td>_timestamp</td><td>1609940316</td></tr><tr><td>validation_fine_f1</td><td>0.8081</td></tr><tr><td>training_fine_f1</td><td>1.0</td></tr><tr><td>validation_loss</td><td>3.19625</td></tr></table>"
      ],
      "text/plain": [
       "<IPython.core.display.HTML object>"
      ]
     },
     "metadata": {},
     "output_type": "display_data"
    },
    {
     "data": {
      "text/html": [
       "<h3>Run history:</h3><br/><style>\n",
       "    table.wandb td:nth-child(1) { padding: 0 10px; text-align: right }\n",
       "    </style><table class=\"wandb\">\n",
       "<tr><td>loss</td><td>█▇▅▄▃▃▂▃▂▂▂▂▂▁▂▂▂▁▂▁▂▂▂▂▁▁▂▁▁▁▂▂▂▂▂▁▂▁▂▂</td></tr><tr><td>batch</td><td>▁▁▁▁▂▂▂▂▂▃▃▃▃▃▃▄▄▄▄▄▅▅▅▅▅▅▆▆▆▆▆▇▇▇▇▇▇███</td></tr><tr><td>epoch</td><td>▁▁▁▁▂▂▂▂▂▃▃▃▃▃▃▄▄▄▄▄▅▅▅▅▅▆▆▆▆▆▆▇▇▇▇▇████</td></tr><tr><td>loss_fine</td><td>█▇▅▄▃▃▂▃▂▂▂▂▂▁▂▂▂▁▂▁▂▂▂▂▁▁▂▁▁▁▂▂▂▂▂▁▂▁▂▂</td></tr><tr><td>loss_coarse</td><td>█▆▅▃▄▄▂▅▁▃▃▁▂▂▃▁▃▂▂▁▃▂▄▃▃▂▃▁▃▃▂▃▂▃▂▁▂▁▂▁</td></tr><tr><td>lambda_fine</td><td>▇▆▅▃▆▆▃█▂▆▅▁▃▅▅▂▅▃▄▃▅▃▇▄▅▄▅▂▆▅▄▅▄▄▃▂▃▃▃▁</td></tr><tr><td>lambda_coarse</td><td>▂▃▄▆▃▃▆▁▇▃▄█▆▄▄▇▄▆▅▆▄▆▂▅▄▅▄▇▃▄▅▄▅▅▆▇▆▆▆█</td></tr><tr><td>_step</td><td>▁▁▁▁▂▂▂▂▂▃▃▃▃▃▃▄▄▄▄▄▅▅▅▅▅▅▆▆▆▆▆▇▇▇▇▇▇███</td></tr><tr><td>_runtime</td><td>▁▁▁▁▂▂▂▂▂▃▃▃▃▃▃▄▄▄▄▄▅▅▅▅▅▅▆▆▆▆▆▇▇▇▇▇▇███</td></tr><tr><td>_timestamp</td><td>▁▁▁▁▂▂▂▂▂▃▃▃▃▃▃▄▄▄▄▄▅▅▅▅▅▅▆▆▆▆▆▇▇▇▇▇▇███</td></tr><tr><td>validation_fine_f1</td><td>▁▄▅▆▇▇▇▇▇▇▇▇▇▇█▇▇▇█▇████████████</td></tr><tr><td>training_fine_f1</td><td>▁▅▇▇████████████████████████████</td></tr><tr><td>validation_loss</td><td>█▆▅▄▃▃▃▂▂▂▂▂▂▂▂▂▂▂▂▂▂▁▂▁▁▁▁▁▁▁▁▁</td></tr></table><br/>"
      ],
      "text/plain": [
       "<IPython.core.display.HTML object>"
      ]
     },
     "metadata": {},
     "output_type": "display_data"
    },
    {
     "data": {
      "text/html": [
       "Synced 5 W&B file(s), 0 media file(s), 0 artifact file(s) and 0 other file(s)"
      ],
      "text/plain": [
       "<IPython.core.display.HTML object>"
      ]
     },
     "metadata": {},
     "output_type": "display_data"
    },
    {
     "data": {
      "text/html": [
       "\n",
       "                    <br/>Synced <strong style=\"color:#cdcd00\">sunny-sweep-32</strong>: <a href=\"https://wandb.ai/mndhamod/HGNN_sweep/runs/wrgg5pg6\" target=\"_blank\">https://wandb.ai/mndhamod/HGNN_sweep/runs/wrgg5pg6</a><br/>\n",
       "                "
      ],
      "text/plain": [
       "<IPython.core.display.HTML object>"
      ]
     },
     "metadata": {},
     "output_type": "display_data"
    },
    {
     "name": "stdout",
     "output_type": "stream",
     "text": [
      "\n"
     ]
    },
    {
     "name": "stderr",
     "output_type": "stream",
     "text": [
      "\u001b[34m\u001b[1mwandb\u001b[0m: Agent Starting Run: l5y4gyzh with config:\n",
      "\u001b[34m\u001b[1mwandb\u001b[0m: \tadaptive_alpha: 0.7916103025414466\n",
      "\u001b[34m\u001b[1mwandb\u001b[0m: \tadaptive_lambda: 0.06591446627391688\n",
      "\u001b[34m\u001b[1mwandb\u001b[0m: \tadaptive_smoothing: False\n",
      "\u001b[34m\u001b[1mwandb\u001b[0m: \taugmented: True\n",
      "\u001b[34m\u001b[1mwandb\u001b[0m: \tbatchSize: 64\n",
      "\u001b[34m\u001b[1mwandb\u001b[0m: \tfc_layers: 1\n",
      "\u001b[34m\u001b[1mwandb\u001b[0m: \timage_path: Curated4/Easy_50\n",
      "\u001b[34m\u001b[1mwandb\u001b[0m: \timg_res: 448\n",
      "\u001b[34m\u001b[1mwandb\u001b[0m: \tlambda: 0.007609180461819589\n",
      "\u001b[34m\u001b[1mwandb\u001b[0m: \tlearning_rate: 9.20263684197378e-05\n",
      "\u001b[34m\u001b[1mwandb\u001b[0m: \tlink_layer: avgpool\n",
      "\u001b[34m\u001b[1mwandb\u001b[0m: \tmodelType: HGNN_add\n",
      "\u001b[34m\u001b[1mwandb\u001b[0m: \tnoSpeciesBackprop: True\n",
      "\u001b[34m\u001b[1mwandb\u001b[0m: \tnumOfTrials: 1\n",
      "\u001b[34m\u001b[1mwandb\u001b[0m: \tsuffix: None\n",
      "\u001b[34m\u001b[1mwandb\u001b[0m: \ttl_model: ResNet18\n",
      "\u001b[34m\u001b[1mwandb\u001b[0m: \tunsupervisedOnTest: False\n"
     ]
    },
    {
     "data": {
      "text/html": [
       "\n",
       "                Tracking run with wandb version 0.10.12<br/>\n",
       "                Syncing run <strong style=\"color:#cdcd00\">smart-sweep-33</strong> to <a href=\"https://wandb.ai\" target=\"_blank\">Weights & Biases</a> <a href=\"https://docs.wandb.com/integrations/jupyter.html\" target=\"_blank\">(Documentation)</a>.<br/>\n",
       "                Project page: <a href=\"https://wandb.ai/mndhamod/HGNN_sweep\" target=\"_blank\">https://wandb.ai/mndhamod/HGNN_sweep</a><br/>\n",
       "                Sweep page: <a href=\"https://wandb.ai/mndhamod/HGNN_sweep/sweeps/7uhr6dty\" target=\"_blank\">https://wandb.ai/mndhamod/HGNN_sweep/sweeps/7uhr6dty</a><br/>\n",
       "Run page: <a href=\"https://wandb.ai/mndhamod/HGNN_sweep/runs/l5y4gyzh\" target=\"_blank\">https://wandb.ai/mndhamod/HGNN_sweep/runs/l5y4gyzh</a><br/>\n",
       "                Run data is saved locally in <code>/home/elhamod/HGNN/code/HGNN/HGNN/train/wandb/run-20210106_083844-l5y4gyzh</code><br/><br/>\n",
       "            "
      ],
      "text/plain": [
       "<IPython.core.display.HTML object>"
      ]
     },
     "metadata": {},
     "output_type": "display_data"
    },
    {
     "name": "stdout",
     "output_type": "stream",
     "text": [
      "{'adaptive_alpha': 0.7916103025414466, 'adaptive_lambda': 0.06591446627391688, 'adaptive_smoothing': False, 'augmented': True, 'batchSize': 64, 'fc_layers': 1, 'image_path': 'Curated4/Easy_50', 'img_res': 448, 'lambda': 0.007609180461819589, 'learning_rate': 9.20263684197378e-05, 'link_layer': 'avgpool', 'modelType': 'HGNN_add', 'noSpeciesBackprop': True, 'numOfTrials': 1, 'suffix': None, 'tl_model': 'ResNet18', 'unsupervisedOnTest': False}\n",
      "Creating datasets...\n",
      "Creating datasets... Done.\n",
      "Creating loaders...\n",
      "Creating loaders... Done.\n"
     ]
    },
    {
     "data": {
      "application/vnd.jupyter.widget-view+json": {
       "model_id": "2842de90ba6446cc9897744bfdd12eef",
       "version_major": 2,
       "version_minor": 0
      },
      "text/plain": [
       "HBox(children=(FloatProgress(value=0.0, description='trial', max=1.0, style=ProgressStyle(description_width='i…"
      ]
     },
     "metadata": {},
     "output_type": "display_data"
    },
    {
     "name": "stdout",
     "output_type": "stream",
     "text": [
      "{'experimentName': 'HGNN_sweep', 'modelName': 'models/68d75d89b4f8c7423acca10170bf61e70f16b67ed9d17931094f42cb', 'datasetName': 'datasplits/7c7513bdfb4e5577fef1c3ec0fa6452d30d87dbc95f258a7c86dd76b', 'experimentHash': 'bd1d2830962519f22436277a80158cc206a6c8a98c1492ad06f7a42a', 'trialHash': '68d75d89b4f8c7423acca10170bf61e70f16b67ed9d17931094f42cb', 'adaptive_alpha': 0.7916103025414466, 'adaptive_lambda': 0.06591446627391688, 'adaptive_smoothing': False, 'augmented': True, 'batchSize': 64, 'fc_layers': 1, 'image_path': 'Curated4/Easy_50', 'img_res': 448, 'lambda': 0.007609180461819589, 'learning_rate': 9.20263684197378e-05, 'link_layer': 'avgpool', 'modelType': 'HGNN_add', 'noSpeciesBackprop': True, 'numOfTrials': 1, 'suffix': None, 'tl_model': 'ResNet18', 'unsupervisedOnTest': False}\n"
     ]
    },
    {
     "name": "stderr",
     "output_type": "stream",
     "text": [
      "\r",
      "iteration:   0%|          | 0/500 [00:00<?, ?it/s]"
     ]
    },
    {
     "name": "stdout",
     "output_type": "stream",
     "text": [
      "Training started...\n"
     ]
    },
    {
     "name": "stderr",
     "output_type": "stream",
     "text": [
      "iteration:   5%|▌         | 26/500 [25:22<7:25:22, 56.38s/it, min_val_loss=1.18, train=1, val=0.836, val_loss=3.22]    "
     ]
    },
    {
     "name": "stdout",
     "output_type": "stream",
     "text": [
      "Early stopping\n",
      "total number of epochs:  25\n"
     ]
    },
    {
     "name": "stderr",
     "output_type": "stream",
     "text": [
      "iteration:   5%|▌         | 26/500 [25:25<7:43:28, 58.67s/it, min_val_loss=1.18, train=1, val=0.836, val_loss=3.22]\n"
     ]
    },
    {
     "data": {
      "text/html": [
       "<br/>Waiting for W&B process to finish, PID 65953<br/>Program ended successfully."
      ],
      "text/plain": [
       "<IPython.core.display.HTML object>"
      ]
     },
     "metadata": {},
     "output_type": "display_data"
    },
    {
     "data": {
      "application/vnd.jupyter.widget-view+json": {
       "model_id": "",
       "version_major": 2,
       "version_minor": 0
      },
      "text/plain": [
       "VBox(children=(Label(value=' 0.00MB of 0.00MB uploaded (0.00MB deduped)\\r'), FloatProgress(value=1.0, max=1.0)…"
      ]
     },
     "metadata": {},
     "output_type": "display_data"
    },
    {
     "data": {
      "text/html": [
       "Find user logs for this run at: <code>/home/elhamod/HGNN/code/HGNN/HGNN/train/wandb/run-20210106_083844-l5y4gyzh/logs/debug.log</code>"
      ],
      "text/plain": [
       "<IPython.core.display.HTML object>"
      ]
     },
     "metadata": {},
     "output_type": "display_data"
    },
    {
     "data": {
      "text/html": [
       "Find internal logs for this run at: <code>/home/elhamod/HGNN/code/HGNN/HGNN/train/wandb/run-20210106_083844-l5y4gyzh/logs/debug-internal.log</code>"
      ],
      "text/plain": [
       "<IPython.core.display.HTML object>"
      ]
     },
     "metadata": {},
     "output_type": "display_data"
    },
    {
     "data": {
      "text/html": [
       "<h3>Run summary:</h3><br/><style>\n",
       "    table.wandb td:nth-child(1) { padding: 0 10px; text-align: right }\n",
       "    </style><table class=\"wandb\">\n",
       "<tr><td>loss</td><td>0.39891</td></tr><tr><td>batch</td><td>493</td></tr><tr><td>epoch</td><td>25</td></tr><tr><td>loss_fine</td><td>0.39285</td></tr><tr><td>loss_coarse</td><td>0.79663</td></tr><tr><td>lambda_fine</td><td>1</td></tr><tr><td>lambda_coarse</td><td>0.00761</td></tr><tr><td>_step</td><td>519</td></tr><tr><td>_runtime</td><td>1525</td></tr><tr><td>_timestamp</td><td>1609941849</td></tr><tr><td>validation_fine_f1</td><td>0.83608</td></tr><tr><td>training_fine_f1</td><td>1.0</td></tr><tr><td>validation_loss</td><td>3.21646</td></tr></table>"
      ],
      "text/plain": [
       "<IPython.core.display.HTML object>"
      ]
     },
     "metadata": {},
     "output_type": "display_data"
    },
    {
     "data": {
      "text/html": [
       "<h3>Run history:</h3><br/><style>\n",
       "    table.wandb td:nth-child(1) { padding: 0 10px; text-align: right }\n",
       "    </style><table class=\"wandb\">\n",
       "<tr><td>loss</td><td>█▆▅▄▄▃▃▂▂▂▂▂▂▂▂▂▁▁▁▁▁▁▁▂▁▁▁▁▁▁▁▁▁▁▁▁▁▁▁▁</td></tr><tr><td>batch</td><td>▁▁▁▂▂▂▂▂▂▃▃▃▃▃▃▄▄▄▄▄▅▅▅▅▅▅▆▆▆▆▆▇▇▇▇▇▇███</td></tr><tr><td>epoch</td><td>▁▁▁▁▂▂▂▂▂▂▃▃▃▃▄▄▄▄▄▄▅▅▅▅▅▅▆▆▆▆▆▇▇▇▇▇▇███</td></tr><tr><td>loss_fine</td><td>█▆▅▄▄▃▃▂▂▂▂▂▂▂▂▂▁▁▁▁▁▁▁▂▁▁▁▁▁▁▁▁▁▁▁▁▁▁▁▁</td></tr><tr><td>loss_coarse</td><td>█▆▄▂▄▂▃▂▃▂▂▂▂▃▂▂▃▃▃▄▄▃▂▂▃▂▂▂▂▂▄▁▁▃▂▂▂▂▁▁</td></tr><tr><td>lambda_fine</td><td>▁▁▁▁▁▁▁▁▁▁▁▁▁▁▁▁▁▁▁▁▁▁▁▁▁▁▁▁▁▁▁▁▁▁▁▁▁▁▁▁</td></tr><tr><td>lambda_coarse</td><td>▁▁▁▁▁▁▁▁▁▁▁▁▁▁▁▁▁▁▁▁▁▁▁▁▁▁▁▁▁▁▁▁▁▁▁▁▁▁▁▁</td></tr><tr><td>_step</td><td>▁▁▁▁▂▂▂▂▂▃▃▃▃▃▃▄▄▄▄▄▅▅▅▅▅▅▆▆▆▆▆▆▇▇▇▇▇███</td></tr><tr><td>_runtime</td><td>▁▁▁▁▂▂▂▂▂▃▃▃▃▃▃▄▄▄▄▄▅▅▅▅▅▅▆▆▆▆▆▆▇▇▇▇▇███</td></tr><tr><td>_timestamp</td><td>▁▁▁▁▂▂▂▂▂▃▃▃▃▃▃▄▄▄▄▄▅▅▅▅▅▅▆▆▆▆▆▆▇▇▇▇▇███</td></tr><tr><td>validation_fine_f1</td><td>▁▃▆▇▇▇▇▇██▇███████████████</td></tr><tr><td>training_fine_f1</td><td>▁▄▇███████████████████████</td></tr><tr><td>validation_loss</td><td>█▆▄▄▃▃▃▂▂▂▂▁▂▂▁▂▂▂▂▁▁▁▁▁▁▁</td></tr></table><br/>"
      ],
      "text/plain": [
       "<IPython.core.display.HTML object>"
      ]
     },
     "metadata": {},
     "output_type": "display_data"
    },
    {
     "data": {
      "text/html": [
       "Synced 5 W&B file(s), 0 media file(s), 0 artifact file(s) and 0 other file(s)"
      ],
      "text/plain": [
       "<IPython.core.display.HTML object>"
      ]
     },
     "metadata": {},
     "output_type": "display_data"
    },
    {
     "data": {
      "text/html": [
       "\n",
       "                    <br/>Synced <strong style=\"color:#cdcd00\">smart-sweep-33</strong>: <a href=\"https://wandb.ai/mndhamod/HGNN_sweep/runs/l5y4gyzh\" target=\"_blank\">https://wandb.ai/mndhamod/HGNN_sweep/runs/l5y4gyzh</a><br/>\n",
       "                "
      ],
      "text/plain": [
       "<IPython.core.display.HTML object>"
      ]
     },
     "metadata": {},
     "output_type": "display_data"
    },
    {
     "name": "stdout",
     "output_type": "stream",
     "text": [
      "\n"
     ]
    },
    {
     "name": "stderr",
     "output_type": "stream",
     "text": [
      "\u001b[34m\u001b[1mwandb\u001b[0m: Agent Starting Run: ehw6uh3n with config:\n",
      "\u001b[34m\u001b[1mwandb\u001b[0m: \tadaptive_alpha: 0.8728232727446098\n",
      "\u001b[34m\u001b[1mwandb\u001b[0m: \tadaptive_lambda: 0.0932203888253661\n",
      "\u001b[34m\u001b[1mwandb\u001b[0m: \tadaptive_smoothing: False\n",
      "\u001b[34m\u001b[1mwandb\u001b[0m: \taugmented: True\n",
      "\u001b[34m\u001b[1mwandb\u001b[0m: \tbatchSize: 128\n",
      "\u001b[34m\u001b[1mwandb\u001b[0m: \tfc_layers: 1\n",
      "\u001b[34m\u001b[1mwandb\u001b[0m: \timage_path: Curated4/Easy_50\n",
      "\u001b[34m\u001b[1mwandb\u001b[0m: \timg_res: 448\n",
      "\u001b[34m\u001b[1mwandb\u001b[0m: \tlambda: 0.013560797397110252\n",
      "\u001b[34m\u001b[1mwandb\u001b[0m: \tlearning_rate: 5.328013359654212e-05\n",
      "\u001b[34m\u001b[1mwandb\u001b[0m: \tlink_layer: avgpool\n",
      "\u001b[34m\u001b[1mwandb\u001b[0m: \tmodelType: HGNN_add\n",
      "\u001b[34m\u001b[1mwandb\u001b[0m: \tnoSpeciesBackprop: True\n",
      "\u001b[34m\u001b[1mwandb\u001b[0m: \tnumOfTrials: 1\n",
      "\u001b[34m\u001b[1mwandb\u001b[0m: \tsuffix: None\n",
      "\u001b[34m\u001b[1mwandb\u001b[0m: \ttl_model: ResNet18\n",
      "\u001b[34m\u001b[1mwandb\u001b[0m: \tunsupervisedOnTest: False\n"
     ]
    },
    {
     "data": {
      "text/html": [
       "\n",
       "                Tracking run with wandb version 0.10.12<br/>\n",
       "                Syncing run <strong style=\"color:#cdcd00\">sunny-sweep-34</strong> to <a href=\"https://wandb.ai\" target=\"_blank\">Weights & Biases</a> <a href=\"https://docs.wandb.com/integrations/jupyter.html\" target=\"_blank\">(Documentation)</a>.<br/>\n",
       "                Project page: <a href=\"https://wandb.ai/mndhamod/HGNN_sweep\" target=\"_blank\">https://wandb.ai/mndhamod/HGNN_sweep</a><br/>\n",
       "                Sweep page: <a href=\"https://wandb.ai/mndhamod/HGNN_sweep/sweeps/7uhr6dty\" target=\"_blank\">https://wandb.ai/mndhamod/HGNN_sweep/sweeps/7uhr6dty</a><br/>\n",
       "Run page: <a href=\"https://wandb.ai/mndhamod/HGNN_sweep/runs/ehw6uh3n\" target=\"_blank\">https://wandb.ai/mndhamod/HGNN_sweep/runs/ehw6uh3n</a><br/>\n",
       "                Run data is saved locally in <code>/home/elhamod/HGNN/code/HGNN/HGNN/train/wandb/run-20210106_090417-ehw6uh3n</code><br/><br/>\n",
       "            "
      ],
      "text/plain": [
       "<IPython.core.display.HTML object>"
      ]
     },
     "metadata": {},
     "output_type": "display_data"
    },
    {
     "name": "stdout",
     "output_type": "stream",
     "text": [
      "{'adaptive_alpha': 0.8728232727446098, 'adaptive_lambda': 0.0932203888253661, 'adaptive_smoothing': False, 'augmented': True, 'batchSize': 128, 'fc_layers': 1, 'image_path': 'Curated4/Easy_50', 'img_res': 448, 'lambda': 0.013560797397110252, 'learning_rate': 5.328013359654212e-05, 'link_layer': 'avgpool', 'modelType': 'HGNN_add', 'noSpeciesBackprop': True, 'numOfTrials': 1, 'suffix': None, 'tl_model': 'ResNet18', 'unsupervisedOnTest': False}\n",
      "Creating datasets...\n",
      "Creating datasets... Done.\n",
      "Creating loaders...\n",
      "Creating loaders... Done.\n"
     ]
    },
    {
     "data": {
      "application/vnd.jupyter.widget-view+json": {
       "model_id": "ba15ca147103407ea537ffe76158a243",
       "version_major": 2,
       "version_minor": 0
      },
      "text/plain": [
       "HBox(children=(FloatProgress(value=0.0, description='trial', max=1.0, style=ProgressStyle(description_width='i…"
      ]
     },
     "metadata": {},
     "output_type": "display_data"
    },
    {
     "name": "stdout",
     "output_type": "stream",
     "text": [
      "{'experimentName': 'HGNN_sweep', 'modelName': 'models/4c8d6f58a791db371115813ac77b4bba98b056c1e1ca7e07537c5a82', 'datasetName': 'datasplits/7c7513bdfb4e5577fef1c3ec0fa6452d30d87dbc95f258a7c86dd76b', 'experimentHash': '0728b83500ff5abdd2df9cdfaef1d0a31b54ea7388626d4c02b19674', 'trialHash': '4c8d6f58a791db371115813ac77b4bba98b056c1e1ca7e07537c5a82', 'adaptive_alpha': 0.8728232727446098, 'adaptive_lambda': 0.0932203888253661, 'adaptive_smoothing': False, 'augmented': True, 'batchSize': 128, 'fc_layers': 1, 'image_path': 'Curated4/Easy_50', 'img_res': 448, 'lambda': 0.013560797397110252, 'learning_rate': 5.328013359654212e-05, 'link_layer': 'avgpool', 'modelType': 'HGNN_add', 'noSpeciesBackprop': True, 'numOfTrials': 1, 'suffix': None, 'tl_model': 'ResNet18', 'unsupervisedOnTest': False}\n"
     ]
    },
    {
     "name": "stderr",
     "output_type": "stream",
     "text": [
      "\r",
      "iteration:   0%|          | 0/500 [00:00<?, ?it/s]"
     ]
    },
    {
     "name": "stdout",
     "output_type": "stream",
     "text": [
      "Training started...\n"
     ]
    },
    {
     "name": "stderr",
     "output_type": "stream",
     "text": [
      "iteration:   6%|▋         | 32/500 [43:41<10:31:09, 80.92s/it, min_val_loss=1.23, train=1, val=0.795, val_loss=3.27]    "
     ]
    },
    {
     "name": "stdout",
     "output_type": "stream",
     "text": [
      "Early stopping\n",
      "total number of epochs:  31\n"
     ]
    },
    {
     "name": "stderr",
     "output_type": "stream",
     "text": [
      "iteration:   6%|▋         | 32/500 [43:43<10:39:28, 81.98s/it, min_val_loss=1.23, train=1, val=0.795, val_loss=3.27]\n"
     ]
    },
    {
     "data": {
      "text/html": [
       "<br/>Waiting for W&B process to finish, PID 1171<br/>Program ended successfully."
      ],
      "text/plain": [
       "<IPython.core.display.HTML object>"
      ]
     },
     "metadata": {},
     "output_type": "display_data"
    },
    {
     "data": {
      "application/vnd.jupyter.widget-view+json": {
       "model_id": "",
       "version_major": 2,
       "version_minor": 0
      },
      "text/plain": [
       "VBox(children=(Label(value=' 0.00MB of 0.00MB uploaded (0.00MB deduped)\\r'), FloatProgress(value=1.0, max=1.0)…"
      ]
     },
     "metadata": {},
     "output_type": "display_data"
    },
    {
     "data": {
      "text/html": [
       "Find user logs for this run at: <code>/home/elhamod/HGNN/code/HGNN/HGNN/train/wandb/run-20210106_090417-ehw6uh3n/logs/debug.log</code>"
      ],
      "text/plain": [
       "<IPython.core.display.HTML object>"
      ]
     },
     "metadata": {},
     "output_type": "display_data"
    },
    {
     "data": {
      "text/html": [
       "Find internal logs for this run at: <code>/home/elhamod/HGNN/code/HGNN/HGNN/train/wandb/run-20210106_090417-ehw6uh3n/logs/debug-internal.log</code>"
      ],
      "text/plain": [
       "<IPython.core.display.HTML object>"
      ]
     },
     "metadata": {},
     "output_type": "display_data"
    },
    {
     "data": {
      "text/html": [
       "<h3>Run summary:</h3><br/><style>\n",
       "    table.wandb td:nth-child(1) { padding: 0 10px; text-align: right }\n",
       "    </style><table class=\"wandb\">\n",
       "<tr><td>loss</td><td>0.41928</td></tr><tr><td>batch</td><td>319</td></tr><tr><td>epoch</td><td>31</td></tr><tr><td>loss_fine</td><td>0.4077</td></tr><tr><td>loss_coarse</td><td>0.85409</td></tr><tr><td>lambda_fine</td><td>1</td></tr><tr><td>lambda_coarse</td><td>0.01356</td></tr><tr><td>_step</td><td>351</td></tr><tr><td>_runtime</td><td>2623</td></tr><tr><td>_timestamp</td><td>1609944480</td></tr><tr><td>validation_fine_f1</td><td>0.79473</td></tr><tr><td>training_fine_f1</td><td>1.0</td></tr><tr><td>validation_loss</td><td>3.27297</td></tr></table>"
      ],
      "text/plain": [
       "<IPython.core.display.HTML object>"
      ]
     },
     "metadata": {},
     "output_type": "display_data"
    },
    {
     "data": {
      "text/html": [
       "<h3>Run history:</h3><br/><style>\n",
       "    table.wandb td:nth-child(1) { padding: 0 10px; text-align: right }\n",
       "    </style><table class=\"wandb\">\n",
       "<tr><td>loss</td><td>█▆▆▅▄▄▃▃▃▂▂▂▂▂▂▂▁▂▂▁▁▁▁▁▁▁▁▂▁▁▁▁▂▁▁▁▁▁▁▁</td></tr><tr><td>batch</td><td>▁▁▁▂▂▂▂▂▂▃▃▃▃▃▃▄▄▄▄▄▅▅▅▅▅▅▆▆▆▆▆▆▇▇▇▇▇███</td></tr><tr><td>epoch</td><td>▁▁▁▁▂▂▂▂▂▃▃▃▃▃▃▄▄▄▄▄▅▅▅▅▅▆▆▆▆▆▆▇▇▇▇▇████</td></tr><tr><td>loss_fine</td><td>█▆▆▅▄▄▃▃▃▃▂▂▂▂▂▂▁▂▂▁▁▁▁▁▁▁▁▂▁▁▁▁▂▁▁▁▁▁▁▁</td></tr><tr><td>loss_coarse</td><td>█▅▃▃▃▂▂▂▃▂▂▂▃▂▁▂▁▃▂▂▂▂▂▁▂▂▁▃▂▂▂▁▂▂▃▂▂▂▂▂</td></tr><tr><td>lambda_fine</td><td>▁▁▁▁▁▁▁▁▁▁▁▁▁▁▁▁▁▁▁▁▁▁▁▁▁▁▁▁▁▁▁▁▁▁▁▁▁▁▁▁</td></tr><tr><td>lambda_coarse</td><td>▁▁▁▁▁▁▁▁▁▁▁▁▁▁▁▁▁▁▁▁▁▁▁▁▁▁▁▁▁▁▁▁▁▁▁▁▁▁▁▁</td></tr><tr><td>_step</td><td>▁▁▁▁▂▂▂▂▂▃▃▃▃▃▃▄▄▄▄▄▅▅▅▅▅▅▆▆▆▆▆▇▇▇▇▇▇███</td></tr><tr><td>_runtime</td><td>▁▁▁▁▂▂▂▂▂▃▃▃▃▃▃▄▄▄▄▄▅▅▅▅▅▅▆▆▆▆▆▇▇▇▇▇▇███</td></tr><tr><td>_timestamp</td><td>▁▁▁▁▂▂▂▂▂▃▃▃▃▃▃▄▄▄▄▄▅▅▅▅▅▅▆▆▆▆▆▇▇▇▇▇▇███</td></tr><tr><td>validation_fine_f1</td><td>▁▂▄▅▆▆▇▇▇▇▇▇████████████████████</td></tr><tr><td>training_fine_f1</td><td>▁▃▄▅▆▇▇█████████████████████████</td></tr><tr><td>validation_loss</td><td>█▇▆▅▄▄▄▃▃▃▃▂▂▂▂▂▂▂▂▂▁▁▁▁▁▁▁▁▁▁▁▁</td></tr></table><br/>"
      ],
      "text/plain": [
       "<IPython.core.display.HTML object>"
      ]
     },
     "metadata": {},
     "output_type": "display_data"
    },
    {
     "data": {
      "text/html": [
       "Synced 5 W&B file(s), 0 media file(s), 0 artifact file(s) and 0 other file(s)"
      ],
      "text/plain": [
       "<IPython.core.display.HTML object>"
      ]
     },
     "metadata": {},
     "output_type": "display_data"
    },
    {
     "data": {
      "text/html": [
       "\n",
       "                    <br/>Synced <strong style=\"color:#cdcd00\">sunny-sweep-34</strong>: <a href=\"https://wandb.ai/mndhamod/HGNN_sweep/runs/ehw6uh3n\" target=\"_blank\">https://wandb.ai/mndhamod/HGNN_sweep/runs/ehw6uh3n</a><br/>\n",
       "                "
      ],
      "text/plain": [
       "<IPython.core.display.HTML object>"
      ]
     },
     "metadata": {},
     "output_type": "display_data"
    },
    {
     "name": "stdout",
     "output_type": "stream",
     "text": [
      "\n"
     ]
    },
    {
     "name": "stderr",
     "output_type": "stream",
     "text": [
      "\u001b[34m\u001b[1mwandb\u001b[0m: Agent Starting Run: 4snub33n with config:\n",
      "\u001b[34m\u001b[1mwandb\u001b[0m: \tadaptive_alpha: 0.5181509918802245\n",
      "\u001b[34m\u001b[1mwandb\u001b[0m: \tadaptive_lambda: 0.004963654566072589\n",
      "\u001b[34m\u001b[1mwandb\u001b[0m: \tadaptive_smoothing: True\n",
      "\u001b[34m\u001b[1mwandb\u001b[0m: \taugmented: True\n",
      "\u001b[34m\u001b[1mwandb\u001b[0m: \tbatchSize: 16\n",
      "\u001b[34m\u001b[1mwandb\u001b[0m: \tfc_layers: 1\n",
      "\u001b[34m\u001b[1mwandb\u001b[0m: \timage_path: Curated4/Easy_50\n",
      "\u001b[34m\u001b[1mwandb\u001b[0m: \timg_res: 448\n",
      "\u001b[34m\u001b[1mwandb\u001b[0m: \tlambda: 0.22748447486613677\n",
      "\u001b[34m\u001b[1mwandb\u001b[0m: \tlearning_rate: 5.0788456331924405e-05\n",
      "\u001b[34m\u001b[1mwandb\u001b[0m: \tlink_layer: avgpool\n",
      "\u001b[34m\u001b[1mwandb\u001b[0m: \tmodelType: HGNN_add\n",
      "\u001b[34m\u001b[1mwandb\u001b[0m: \tnoSpeciesBackprop: True\n",
      "\u001b[34m\u001b[1mwandb\u001b[0m: \tnumOfTrials: 1\n",
      "\u001b[34m\u001b[1mwandb\u001b[0m: \tsuffix: None\n",
      "\u001b[34m\u001b[1mwandb\u001b[0m: \ttl_model: ResNet18\n",
      "\u001b[34m\u001b[1mwandb\u001b[0m: \tunsupervisedOnTest: False\n"
     ]
    },
    {
     "data": {
      "text/html": [
       "\n",
       "                Tracking run with wandb version 0.10.12<br/>\n",
       "                Syncing run <strong style=\"color:#cdcd00\">eager-sweep-35</strong> to <a href=\"https://wandb.ai\" target=\"_blank\">Weights & Biases</a> <a href=\"https://docs.wandb.com/integrations/jupyter.html\" target=\"_blank\">(Documentation)</a>.<br/>\n",
       "                Project page: <a href=\"https://wandb.ai/mndhamod/HGNN_sweep\" target=\"_blank\">https://wandb.ai/mndhamod/HGNN_sweep</a><br/>\n",
       "                Sweep page: <a href=\"https://wandb.ai/mndhamod/HGNN_sweep/sweeps/7uhr6dty\" target=\"_blank\">https://wandb.ai/mndhamod/HGNN_sweep/sweeps/7uhr6dty</a><br/>\n",
       "Run page: <a href=\"https://wandb.ai/mndhamod/HGNN_sweep/runs/4snub33n\" target=\"_blank\">https://wandb.ai/mndhamod/HGNN_sweep/runs/4snub33n</a><br/>\n",
       "                Run data is saved locally in <code>/home/elhamod/HGNN/code/HGNN/HGNN/train/wandb/run-20210106_094808-4snub33n</code><br/><br/>\n",
       "            "
      ],
      "text/plain": [
       "<IPython.core.display.HTML object>"
      ]
     },
     "metadata": {},
     "output_type": "display_data"
    },
    {
     "name": "stdout",
     "output_type": "stream",
     "text": [
      "{'adaptive_alpha': 0.5181509918802245, 'adaptive_lambda': 0.004963654566072589, 'adaptive_smoothing': True, 'augmented': True, 'batchSize': 16, 'fc_layers': 1, 'image_path': 'Curated4/Easy_50', 'img_res': 448, 'lambda': 0.22748447486613677, 'learning_rate': 5.0788456331924405e-05, 'link_layer': 'avgpool', 'modelType': 'HGNN_add', 'noSpeciesBackprop': True, 'numOfTrials': 1, 'suffix': None, 'tl_model': 'ResNet18', 'unsupervisedOnTest': False}\n",
      "Creating datasets...\n",
      "Creating datasets... Done.\n",
      "Creating loaders...\n",
      "Creating loaders... Done.\n"
     ]
    },
    {
     "data": {
      "application/vnd.jupyter.widget-view+json": {
       "model_id": "21abe2d0c2eb417b9644ab15b874202a",
       "version_major": 2,
       "version_minor": 0
      },
      "text/plain": [
       "HBox(children=(FloatProgress(value=0.0, description='trial', max=1.0, style=ProgressStyle(description_width='i…"
      ]
     },
     "metadata": {},
     "output_type": "display_data"
    },
    {
     "name": "stdout",
     "output_type": "stream",
     "text": [
      "{'experimentName': 'HGNN_sweep', 'modelName': 'models/53bdedb3af7827bdbc02118e39c0c86d327eb9c85e18f51c2b6deb0d', 'datasetName': 'datasplits/7c7513bdfb4e5577fef1c3ec0fa6452d30d87dbc95f258a7c86dd76b', 'experimentHash': '5d260cba4dcdf0fafec3549ee0599ccbc905a7e8f7ee5a0288793560', 'trialHash': '53bdedb3af7827bdbc02118e39c0c86d327eb9c85e18f51c2b6deb0d', 'adaptive_alpha': 0.5181509918802245, 'adaptive_lambda': 0.004963654566072589, 'adaptive_smoothing': True, 'augmented': True, 'batchSize': 16, 'fc_layers': 1, 'image_path': 'Curated4/Easy_50', 'img_res': 448, 'lambda': 0.22748447486613677, 'learning_rate': 5.0788456331924405e-05, 'link_layer': 'avgpool', 'modelType': 'HGNN_add', 'noSpeciesBackprop': True, 'numOfTrials': 1, 'suffix': None, 'tl_model': 'ResNet18', 'unsupervisedOnTest': False}\n"
     ]
    },
    {
     "name": "stderr",
     "output_type": "stream",
     "text": [
      "\r",
      "iteration:   0%|          | 0/500 [00:00<?, ?it/s]"
     ]
    },
    {
     "name": "stdout",
     "output_type": "stream",
     "text": [
      "Training started...\n"
     ]
    },
    {
     "name": "stderr",
     "output_type": "stream",
     "text": [
      "iteration:   5%|▌         | 25/500 [19:02<5:49:08, 44.10s/it, min_val_loss=1.2, train=0.0984, val=0.0343, val_loss=3.62]"
     ]
    },
    {
     "name": "stdout",
     "output_type": "stream",
     "text": [
      "Early stopping\n",
      "total number of epochs:  24\n"
     ]
    },
    {
     "name": "stderr",
     "output_type": "stream",
     "text": [
      "iteration:   5%|▌         | 25/500 [19:05<6:02:39, 45.81s/it, min_val_loss=1.2, train=0.0984, val=0.0343, val_loss=3.62]\n"
     ]
    },
    {
     "data": {
      "text/html": [
       "<br/>Waiting for W&B process to finish, PID 13539<br/>Program ended successfully."
      ],
      "text/plain": [
       "<IPython.core.display.HTML object>"
      ]
     },
     "metadata": {},
     "output_type": "display_data"
    },
    {
     "data": {
      "application/vnd.jupyter.widget-view+json": {
       "model_id": "",
       "version_major": 2,
       "version_minor": 0
      },
      "text/plain": [
       "VBox(children=(Label(value=' 0.00MB of 0.00MB uploaded (0.00MB deduped)\\r'), FloatProgress(value=1.0, max=1.0)…"
      ]
     },
     "metadata": {},
     "output_type": "display_data"
    },
    {
     "data": {
      "text/html": [
       "Find user logs for this run at: <code>/home/elhamod/HGNN/code/HGNN/HGNN/train/wandb/run-20210106_094808-4snub33n/logs/debug.log</code>"
      ],
      "text/plain": [
       "<IPython.core.display.HTML object>"
      ]
     },
     "metadata": {},
     "output_type": "display_data"
    },
    {
     "data": {
      "text/html": [
       "Find internal logs for this run at: <code>/home/elhamod/HGNN/code/HGNN/HGNN/train/wandb/run-20210106_094808-4snub33n/logs/debug-internal.log</code>"
      ],
      "text/plain": [
       "<IPython.core.display.HTML object>"
      ]
     },
     "metadata": {},
     "output_type": "display_data"
    },
    {
     "data": {
      "text/html": [
       "<h3>Run summary:</h3><br/><style>\n",
       "    table.wandb td:nth-child(1) { padding: 0 10px; text-align: right }\n",
       "    </style><table class=\"wandb\">\n",
       "<tr><td>loss</td><td>1.25352</td></tr><tr><td>batch</td><td>1899</td></tr><tr><td>epoch</td><td>24</td></tr><tr><td>loss_fine</td><td>1.25352</td></tr><tr><td>loss_coarse</td><td>2.29951</td></tr><tr><td>lambda_fine</td><td>1.0</td></tr><tr><td>lambda_coarse</td><td>0.0</td></tr><tr><td>_step</td><td>1924</td></tr><tr><td>_runtime</td><td>1145</td></tr><tr><td>_timestamp</td><td>1609945633</td></tr><tr><td>validation_fine_f1</td><td>0.03433</td></tr><tr><td>training_fine_f1</td><td>0.09839</td></tr><tr><td>validation_loss</td><td>3.62067</td></tr></table>"
      ],
      "text/plain": [
       "<IPython.core.display.HTML object>"
      ]
     },
     "metadata": {},
     "output_type": "display_data"
    },
    {
     "data": {
      "text/html": [
       "<h3>Run history:</h3><br/><style>\n",
       "    table.wandb td:nth-child(1) { padding: 0 10px; text-align: right }\n",
       "    </style><table class=\"wandb\">\n",
       "<tr><td>loss</td><td>█▇▆▅▄▄▃▃▂▂▂▂▃▂▂▂▂▂▂▂▂▁▂▂▂▂▁▁▂▂▁▂▂▁▂▂▁▂▂▂</td></tr><tr><td>batch</td><td>▁▁▁▂▂▂▂▂▂▃▃▃▃▃▄▄▄▄▄▄▅▅▅▅▅▅▆▆▆▆▆▇▇▇▇▇▇███</td></tr><tr><td>epoch</td><td>▁▁▁▂▂▂▂▂▂▂▃▃▃▃▃▄▄▄▄▅▅▅▅▅▅▅▆▆▆▆▇▇▇▇▇▇▇███</td></tr><tr><td>loss_fine</td><td>█▇▆▅▄▄▃▃▂▂▂▂▃▂▂▂▂▂▂▂▂▁▂▂▂▂▁▁▂▂▁▂▂▁▂▂▁▂▂▂</td></tr><tr><td>loss_coarse</td><td>▇█▇▇█▆▇█▇█▇▇▇▇▇▇█▇▇▆▇▆█▆▃▅▃▃▃▃▄▂▄▂▁▁▂▂▂▃</td></tr><tr><td>lambda_fine</td><td>█████████████████████████████████▇▆▁▇▇██</td></tr><tr><td>lambda_coarse</td><td>▁▁▁▁▁▁▁▁▁▁▁▁▁▁▁▁▁▁▁▁▁▁▁▁▁▁▁▁▁▁▁▁▁▂▃█▂▂▁▁</td></tr><tr><td>_step</td><td>▁▁▁▂▂▂▂▂▂▃▃▃▃▃▃▄▄▄▄▄▅▅▅▅▅▅▆▆▆▆▆▇▇▇▇▇▇███</td></tr><tr><td>_runtime</td><td>▁▁▁▂▂▂▂▂▂▃▃▃▃▃▃▄▄▄▄▅▅▅▅▅▅▆▆▆▆▆▇▇▇▇▇▇▇███</td></tr><tr><td>_timestamp</td><td>▁▁▁▂▂▂▂▂▂▃▃▃▃▃▃▄▄▄▄▅▅▅▅▅▅▆▆▆▆▆▇▇▇▇▇▇▇███</td></tr><tr><td>validation_fine_f1</td><td>▄▆▇▇▇▇▇▇███████▇██▇███▆█▁</td></tr><tr><td>training_fine_f1</td><td>▄▆▇███████████████▇█████▁</td></tr><tr><td>validation_loss</td><td>▆▅▄▄▃▃▂▂▂▂▂▂▁▁▁▂▂▁▃▁▁▂▃▁█</td></tr></table><br/>"
      ],
      "text/plain": [
       "<IPython.core.display.HTML object>"
      ]
     },
     "metadata": {},
     "output_type": "display_data"
    },
    {
     "data": {
      "text/html": [
       "Synced 5 W&B file(s), 0 media file(s), 0 artifact file(s) and 0 other file(s)"
      ],
      "text/plain": [
       "<IPython.core.display.HTML object>"
      ]
     },
     "metadata": {},
     "output_type": "display_data"
    },
    {
     "data": {
      "text/html": [
       "\n",
       "                    <br/>Synced <strong style=\"color:#cdcd00\">eager-sweep-35</strong>: <a href=\"https://wandb.ai/mndhamod/HGNN_sweep/runs/4snub33n\" target=\"_blank\">https://wandb.ai/mndhamod/HGNN_sweep/runs/4snub33n</a><br/>\n",
       "                "
      ],
      "text/plain": [
       "<IPython.core.display.HTML object>"
      ]
     },
     "metadata": {},
     "output_type": "display_data"
    },
    {
     "name": "stdout",
     "output_type": "stream",
     "text": [
      "\n"
     ]
    },
    {
     "name": "stderr",
     "output_type": "stream",
     "text": [
      "\u001b[34m\u001b[1mwandb\u001b[0m: Agent Starting Run: 51x9qiln with config:\n",
      "\u001b[34m\u001b[1mwandb\u001b[0m: \tadaptive_alpha: 0.6746331851641582\n",
      "\u001b[34m\u001b[1mwandb\u001b[0m: \tadaptive_lambda: 0.07207583814251067\n",
      "\u001b[34m\u001b[1mwandb\u001b[0m: \tadaptive_smoothing: True\n",
      "\u001b[34m\u001b[1mwandb\u001b[0m: \taugmented: True\n",
      "\u001b[34m\u001b[1mwandb\u001b[0m: \tbatchSize: 16\n",
      "\u001b[34m\u001b[1mwandb\u001b[0m: \tfc_layers: 2\n",
      "\u001b[34m\u001b[1mwandb\u001b[0m: \timage_path: Curated4/Easy_50\n",
      "\u001b[34m\u001b[1mwandb\u001b[0m: \timg_res: 448\n",
      "\u001b[34m\u001b[1mwandb\u001b[0m: \tlambda: 0.0057451258396802735\n",
      "\u001b[34m\u001b[1mwandb\u001b[0m: \tlearning_rate: 0.00013303414213040608\n",
      "\u001b[34m\u001b[1mwandb\u001b[0m: \tlink_layer: avgpool\n",
      "\u001b[34m\u001b[1mwandb\u001b[0m: \tmodelType: HGNN_add\n",
      "\u001b[34m\u001b[1mwandb\u001b[0m: \tnoSpeciesBackprop: False\n",
      "\u001b[34m\u001b[1mwandb\u001b[0m: \tnumOfTrials: 1\n",
      "\u001b[34m\u001b[1mwandb\u001b[0m: \tsuffix: None\n",
      "\u001b[34m\u001b[1mwandb\u001b[0m: \ttl_model: ResNet18\n",
      "\u001b[34m\u001b[1mwandb\u001b[0m: \tunsupervisedOnTest: False\n"
     ]
    },
    {
     "data": {
      "text/html": [
       "\n",
       "                Tracking run with wandb version 0.10.12<br/>\n",
       "                Syncing run <strong style=\"color:#cdcd00\">cosmic-sweep-36</strong> to <a href=\"https://wandb.ai\" target=\"_blank\">Weights & Biases</a> <a href=\"https://docs.wandb.com/integrations/jupyter.html\" target=\"_blank\">(Documentation)</a>.<br/>\n",
       "                Project page: <a href=\"https://wandb.ai/mndhamod/HGNN_sweep\" target=\"_blank\">https://wandb.ai/mndhamod/HGNN_sweep</a><br/>\n",
       "                Sweep page: <a href=\"https://wandb.ai/mndhamod/HGNN_sweep/sweeps/7uhr6dty\" target=\"_blank\">https://wandb.ai/mndhamod/HGNN_sweep/sweeps/7uhr6dty</a><br/>\n",
       "Run page: <a href=\"https://wandb.ai/mndhamod/HGNN_sweep/runs/51x9qiln\" target=\"_blank\">https://wandb.ai/mndhamod/HGNN_sweep/runs/51x9qiln</a><br/>\n",
       "                Run data is saved locally in <code>/home/elhamod/HGNN/code/HGNN/HGNN/train/wandb/run-20210106_100720-51x9qiln</code><br/><br/>\n",
       "            "
      ],
      "text/plain": [
       "<IPython.core.display.HTML object>"
      ]
     },
     "metadata": {},
     "output_type": "display_data"
    },
    {
     "name": "stdout",
     "output_type": "stream",
     "text": [
      "{'adaptive_alpha': 0.6746331851641582, 'adaptive_lambda': 0.07207583814251067, 'adaptive_smoothing': True, 'augmented': True, 'batchSize': 16, 'fc_layers': 2, 'image_path': 'Curated4/Easy_50', 'img_res': 448, 'lambda': 0.0057451258396802735, 'learning_rate': 0.00013303414213040608, 'link_layer': 'avgpool', 'modelType': 'HGNN_add', 'noSpeciesBackprop': False, 'numOfTrials': 1, 'suffix': None, 'tl_model': 'ResNet18', 'unsupervisedOnTest': False}\n",
      "Creating datasets...\n",
      "Creating datasets... Done.\n",
      "Creating loaders...\n",
      "Creating loaders... Done.\n"
     ]
    },
    {
     "data": {
      "application/vnd.jupyter.widget-view+json": {
       "model_id": "bc50b786cec7428f8debd2f4b1a15a3d",
       "version_major": 2,
       "version_minor": 0
      },
      "text/plain": [
       "HBox(children=(FloatProgress(value=0.0, description='trial', max=1.0, style=ProgressStyle(description_width='i…"
      ]
     },
     "metadata": {},
     "output_type": "display_data"
    },
    {
     "name": "stdout",
     "output_type": "stream",
     "text": [
      "{'experimentName': 'HGNN_sweep', 'modelName': 'models/83cabf70c70b62b65c9ac737268eb6f5980bd8bb5fa71b6593751bfc', 'datasetName': 'datasplits/7c7513bdfb4e5577fef1c3ec0fa6452d30d87dbc95f258a7c86dd76b', 'experimentHash': '6cf293476076bb2e8d1a92ed391d26d48458efdcca6b72e1698c5726', 'trialHash': '83cabf70c70b62b65c9ac737268eb6f5980bd8bb5fa71b6593751bfc', 'adaptive_alpha': 0.6746331851641582, 'adaptive_lambda': 0.07207583814251067, 'adaptive_smoothing': True, 'augmented': True, 'batchSize': 16, 'fc_layers': 2, 'image_path': 'Curated4/Easy_50', 'img_res': 448, 'lambda': 0.0057451258396802735, 'learning_rate': 0.00013303414213040608, 'link_layer': 'avgpool', 'modelType': 'HGNN_add', 'noSpeciesBackprop': False, 'numOfTrials': 1, 'suffix': None, 'tl_model': 'ResNet18', 'unsupervisedOnTest': False}\n"
     ]
    },
    {
     "name": "stderr",
     "output_type": "stream",
     "text": [
      "\r",
      "iteration:   0%|          | 0/500 [00:00<?, ?it/s]"
     ]
    },
    {
     "name": "stdout",
     "output_type": "stream",
     "text": [
      "Training started...\n"
     ]
    },
    {
     "name": "stderr",
     "output_type": "stream",
     "text": [
      "iteration:   3%|▎         | 15/500 [11:33<6:06:18, 45.32s/it, min_val_loss=1.15, train=1, val=0.84, val_loss=3.12]     "
     ]
    },
    {
     "name": "stdout",
     "output_type": "stream",
     "text": [
      "Early stopping\n",
      "total number of epochs:  14\n"
     ]
    },
    {
     "name": "stderr",
     "output_type": "stream",
     "text": [
      "iteration:   3%|▎         | 15/500 [11:35<6:14:56, 46.39s/it, min_val_loss=1.15, train=1, val=0.84, val_loss=3.12]\n"
     ]
    },
    {
     "data": {
      "text/html": [
       "<br/>Waiting for W&B process to finish, PID 21043<br/>Program ended successfully."
      ],
      "text/plain": [
       "<IPython.core.display.HTML object>"
      ]
     },
     "metadata": {},
     "output_type": "display_data"
    },
    {
     "data": {
      "application/vnd.jupyter.widget-view+json": {
       "model_id": "",
       "version_major": 2,
       "version_minor": 0
      },
      "text/plain": [
       "VBox(children=(Label(value=' 0.00MB of 0.00MB uploaded (0.00MB deduped)\\r'), FloatProgress(value=1.0, max=1.0)…"
      ]
     },
     "metadata": {},
     "output_type": "display_data"
    },
    {
     "data": {
      "text/html": [
       "Find user logs for this run at: <code>/home/elhamod/HGNN/code/HGNN/HGNN/train/wandb/run-20210106_100720-51x9qiln/logs/debug.log</code>"
      ],
      "text/plain": [
       "<IPython.core.display.HTML object>"
      ]
     },
     "metadata": {},
     "output_type": "display_data"
    },
    {
     "data": {
      "text/html": [
       "Find internal logs for this run at: <code>/home/elhamod/HGNN/code/HGNN/HGNN/train/wandb/run-20210106_100720-51x9qiln/logs/debug-internal.log</code>"
      ],
      "text/plain": [
       "<IPython.core.display.HTML object>"
      ]
     },
     "metadata": {},
     "output_type": "display_data"
    },
    {
     "data": {
      "text/html": [
       "<h3>Run summary:</h3><br/><style>\n",
       "    table.wandb td:nth-child(1) { padding: 0 10px; text-align: right }\n",
       "    </style><table class=\"wandb\">\n",
       "<tr><td>loss</td><td>0.87412</td></tr><tr><td>batch</td><td>1139</td></tr><tr><td>epoch</td><td>14</td></tr><tr><td>loss_fine</td><td>0.83824</td></tr><tr><td>loss_coarse</td><td>1.10571</td></tr><tr><td>lambda_fine</td><td>0.86583</td></tr><tr><td>lambda_coarse</td><td>0.13417</td></tr><tr><td>_step</td><td>1154</td></tr><tr><td>_runtime</td><td>696</td></tr><tr><td>_timestamp</td><td>1609946336</td></tr><tr><td>validation_fine_f1</td><td>0.83967</td></tr><tr><td>training_fine_f1</td><td>1.0</td></tr><tr><td>validation_loss</td><td>3.1211</td></tr></table>"
      ],
      "text/plain": [
       "<IPython.core.display.HTML object>"
      ]
     },
     "metadata": {},
     "output_type": "display_data"
    },
    {
     "data": {
      "text/html": [
       "<h3>Run history:</h3><br/><style>\n",
       "    table.wandb td:nth-child(1) { padding: 0 10px; text-align: right }\n",
       "    </style><table class=\"wandb\">\n",
       "<tr><td>loss</td><td>██▆▄▄▄▄▃▂▂▃▃▂▃▂▁▂▂▂▂▃▃▂▁▂▂▁▂▂▂▂▁▁▂▂▁▁▂▂▁</td></tr><tr><td>batch</td><td>▁▁▁▁▂▂▂▂▂▃▃▃▃▃▃▄▄▄▄▄▅▅▅▅▅▅▆▆▆▆▆▇▇▇▇▇▇███</td></tr><tr><td>epoch</td><td>▁▁▁▁▁▂▂▂▃▃▃▃▃▃▃▃▄▄▄▅▅▅▅▅▅▅▅▆▆▇▇▇▇▇▇▇▇███</td></tr><tr><td>loss_fine</td><td>██▆▄▄▄▄▃▂▂▃▃▂▃▂▁▂▂▂▂▂▃▂▁▂▁▁▂▂▂▂▁▁▂▂▁▁▂▂▁</td></tr><tr><td>loss_coarse</td><td>███▄▅▇▄▄▅▄▃▆▄▅▂▄▄▃▄▆▅▄▃▄▂▄▂▃▃▂▂▁▂▃▅▃▃▃▄▂</td></tr><tr><td>lambda_fine</td><td>▅▄▆▃▄▇▂▄▆▃▂▆▅▅▂▅▅▃▄█▆▄▃▅▁▄▂▃▃▂▂▁▂▃▇▃▄▄▅▂</td></tr><tr><td>lambda_coarse</td><td>▄▅▃▆▅▂▇▅▃▆▇▃▄▄▇▄▄▆▅▁▃▅▆▄█▅▇▆▆▇▇█▇▆▂▆▅▅▄▇</td></tr><tr><td>_step</td><td>▁▁▁▁▂▂▂▂▂▃▃▃▃▃▃▄▄▄▄▄▅▅▅▅▅▅▆▆▆▆▆▇▇▇▇▇▇███</td></tr><tr><td>_runtime</td><td>▁▁▁▂▂▂▂▂▃▃▃▃▃▃▄▄▄▄▄▅▅▅▅▅▆▆▆▆▆▆▇▇▇▇▇▇▇███</td></tr><tr><td>_timestamp</td><td>▁▁▁▂▂▂▂▂▃▃▃▃▃▃▄▄▄▄▄▅▅▅▅▅▆▆▆▆▆▆▇▇▇▇▇▇▇███</td></tr><tr><td>validation_fine_f1</td><td>▁▄▅▆▇▇▇███▇██▆▇</td></tr><tr><td>training_fine_f1</td><td>▁▄▆████████████</td></tr><tr><td>validation_loss</td><td>█▇▅▃▃▂▂▂▁▂▂▁▁▃▁</td></tr></table><br/>"
      ],
      "text/plain": [
       "<IPython.core.display.HTML object>"
      ]
     },
     "metadata": {},
     "output_type": "display_data"
    },
    {
     "data": {
      "text/html": [
       "Synced 5 W&B file(s), 0 media file(s), 0 artifact file(s) and 0 other file(s)"
      ],
      "text/plain": [
       "<IPython.core.display.HTML object>"
      ]
     },
     "metadata": {},
     "output_type": "display_data"
    },
    {
     "data": {
      "text/html": [
       "\n",
       "                    <br/>Synced <strong style=\"color:#cdcd00\">cosmic-sweep-36</strong>: <a href=\"https://wandb.ai/mndhamod/HGNN_sweep/runs/51x9qiln\" target=\"_blank\">https://wandb.ai/mndhamod/HGNN_sweep/runs/51x9qiln</a><br/>\n",
       "                "
      ],
      "text/plain": [
       "<IPython.core.display.HTML object>"
      ]
     },
     "metadata": {},
     "output_type": "display_data"
    },
    {
     "name": "stdout",
     "output_type": "stream",
     "text": [
      "\n"
     ]
    },
    {
     "name": "stderr",
     "output_type": "stream",
     "text": [
      "\u001b[34m\u001b[1mwandb\u001b[0m: Agent Starting Run: qlrc1yp7 with config:\n",
      "\u001b[34m\u001b[1mwandb\u001b[0m: \tadaptive_alpha: 0.7488381112224674\n",
      "\u001b[34m\u001b[1mwandb\u001b[0m: \tadaptive_lambda: 0.04579475038707248\n",
      "\u001b[34m\u001b[1mwandb\u001b[0m: \tadaptive_smoothing: False\n",
      "\u001b[34m\u001b[1mwandb\u001b[0m: \taugmented: True\n",
      "\u001b[34m\u001b[1mwandb\u001b[0m: \tbatchSize: 32\n",
      "\u001b[34m\u001b[1mwandb\u001b[0m: \tfc_layers: 1\n",
      "\u001b[34m\u001b[1mwandb\u001b[0m: \timage_path: Curated4/Easy_50\n",
      "\u001b[34m\u001b[1mwandb\u001b[0m: \timg_res: 448\n",
      "\u001b[34m\u001b[1mwandb\u001b[0m: \tlambda: 0.027835114359806887\n",
      "\u001b[34m\u001b[1mwandb\u001b[0m: \tlearning_rate: 9.403332410583798e-05\n",
      "\u001b[34m\u001b[1mwandb\u001b[0m: \tlink_layer: avgpool\n",
      "\u001b[34m\u001b[1mwandb\u001b[0m: \tmodelType: HGNN_add\n",
      "\u001b[34m\u001b[1mwandb\u001b[0m: \tnoSpeciesBackprop: True\n",
      "\u001b[34m\u001b[1mwandb\u001b[0m: \tnumOfTrials: 1\n",
      "\u001b[34m\u001b[1mwandb\u001b[0m: \tsuffix: None\n",
      "\u001b[34m\u001b[1mwandb\u001b[0m: \ttl_model: ResNet18\n",
      "\u001b[34m\u001b[1mwandb\u001b[0m: \tunsupervisedOnTest: False\n"
     ]
    },
    {
     "data": {
      "text/html": [
       "\n",
       "                Tracking run with wandb version 0.10.12<br/>\n",
       "                Syncing run <strong style=\"color:#cdcd00\">smart-sweep-37</strong> to <a href=\"https://wandb.ai\" target=\"_blank\">Weights & Biases</a> <a href=\"https://docs.wandb.com/integrations/jupyter.html\" target=\"_blank\">(Documentation)</a>.<br/>\n",
       "                Project page: <a href=\"https://wandb.ai/mndhamod/HGNN_sweep\" target=\"_blank\">https://wandb.ai/mndhamod/HGNN_sweep</a><br/>\n",
       "                Sweep page: <a href=\"https://wandb.ai/mndhamod/HGNN_sweep/sweeps/7uhr6dty\" target=\"_blank\">https://wandb.ai/mndhamod/HGNN_sweep/sweeps/7uhr6dty</a><br/>\n",
       "Run page: <a href=\"https://wandb.ai/mndhamod/HGNN_sweep/runs/qlrc1yp7\" target=\"_blank\">https://wandb.ai/mndhamod/HGNN_sweep/runs/qlrc1yp7</a><br/>\n",
       "                Run data is saved locally in <code>/home/elhamod/HGNN/code/HGNN/HGNN/train/wandb/run-20210106_101904-qlrc1yp7</code><br/><br/>\n",
       "            "
      ],
      "text/plain": [
       "<IPython.core.display.HTML object>"
      ]
     },
     "metadata": {},
     "output_type": "display_data"
    },
    {
     "name": "stdout",
     "output_type": "stream",
     "text": [
      "{'adaptive_alpha': 0.7488381112224674, 'adaptive_lambda': 0.04579475038707248, 'adaptive_smoothing': False, 'augmented': True, 'batchSize': 32, 'fc_layers': 1, 'image_path': 'Curated4/Easy_50', 'img_res': 448, 'lambda': 0.027835114359806887, 'learning_rate': 9.403332410583798e-05, 'link_layer': 'avgpool', 'modelType': 'HGNN_add', 'noSpeciesBackprop': True, 'numOfTrials': 1, 'suffix': None, 'tl_model': 'ResNet18', 'unsupervisedOnTest': False}\n",
      "Creating datasets...\n",
      "Creating datasets... Done.\n",
      "Creating loaders...\n",
      "Creating loaders... Done.\n"
     ]
    },
    {
     "data": {
      "application/vnd.jupyter.widget-view+json": {
       "model_id": "f7f2e496004d4f349bc5f4c8149a5624",
       "version_major": 2,
       "version_minor": 0
      },
      "text/plain": [
       "HBox(children=(FloatProgress(value=0.0, description='trial', max=1.0, style=ProgressStyle(description_width='i…"
      ]
     },
     "metadata": {},
     "output_type": "display_data"
    },
    {
     "name": "stdout",
     "output_type": "stream",
     "text": [
      "{'experimentName': 'HGNN_sweep', 'modelName': 'models/a1c5a9d3d60f54105e6641df0d05aeef06a5738b38f10ba9c044255c', 'datasetName': 'datasplits/7c7513bdfb4e5577fef1c3ec0fa6452d30d87dbc95f258a7c86dd76b', 'experimentHash': 'de33d97e1eadc7b2bd0f62be41963ab50ec9b8261b7a82303f7e0d1e', 'trialHash': 'a1c5a9d3d60f54105e6641df0d05aeef06a5738b38f10ba9c044255c', 'adaptive_alpha': 0.7488381112224674, 'adaptive_lambda': 0.04579475038707248, 'adaptive_smoothing': False, 'augmented': True, 'batchSize': 32, 'fc_layers': 1, 'image_path': 'Curated4/Easy_50', 'img_res': 448, 'lambda': 0.027835114359806887, 'learning_rate': 9.403332410583798e-05, 'link_layer': 'avgpool', 'modelType': 'HGNN_add', 'noSpeciesBackprop': True, 'numOfTrials': 1, 'suffix': None, 'tl_model': 'ResNet18', 'unsupervisedOnTest': False}\n"
     ]
    },
    {
     "name": "stderr",
     "output_type": "stream",
     "text": [
      "\r",
      "iteration:   0%|          | 0/500 [00:00<?, ?it/s]"
     ]
    },
    {
     "name": "stdout",
     "output_type": "stream",
     "text": [
      "Training started...\n"
     ]
    },
    {
     "name": "stderr",
     "output_type": "stream",
     "text": [
      "iteration:   4%|▎         | 18/500 [14:47<6:38:23, 49.59s/it, min_val_loss=1.19, train=1, val=0.823, val_loss=3.21]   "
     ]
    },
    {
     "name": "stdout",
     "output_type": "stream",
     "text": [
      "Early stopping\n",
      "total number of epochs:  17\n"
     ]
    },
    {
     "name": "stderr",
     "output_type": "stream",
     "text": [
      "iteration:   4%|▎         | 18/500 [14:49<6:37:01, 49.42s/it, min_val_loss=1.19, train=1, val=0.823, val_loss=3.21]\n"
     ]
    },
    {
     "data": {
      "text/html": [
       "<br/>Waiting for W&B process to finish, PID 25798<br/>Program ended successfully."
      ],
      "text/plain": [
       "<IPython.core.display.HTML object>"
      ]
     },
     "metadata": {},
     "output_type": "display_data"
    },
    {
     "data": {
      "application/vnd.jupyter.widget-view+json": {
       "model_id": "",
       "version_major": 2,
       "version_minor": 0
      },
      "text/plain": [
       "VBox(children=(Label(value=' 0.00MB of 0.00MB uploaded (0.00MB deduped)\\r'), FloatProgress(value=1.0, max=1.0)…"
      ]
     },
     "metadata": {},
     "output_type": "display_data"
    },
    {
     "data": {
      "text/html": [
       "Find user logs for this run at: <code>/home/elhamod/HGNN/code/HGNN/HGNN/train/wandb/run-20210106_101904-qlrc1yp7/logs/debug.log</code>"
      ],
      "text/plain": [
       "<IPython.core.display.HTML object>"
      ]
     },
     "metadata": {},
     "output_type": "display_data"
    },
    {
     "data": {
      "text/html": [
       "Find internal logs for this run at: <code>/home/elhamod/HGNN/code/HGNN/HGNN/train/wandb/run-20210106_101904-qlrc1yp7/logs/debug-internal.log</code>"
      ],
      "text/plain": [
       "<IPython.core.display.HTML object>"
      ]
     },
     "metadata": {},
     "output_type": "display_data"
    },
    {
     "data": {
      "text/html": [
       "<h3>Run summary:</h3><br/><style>\n",
       "    table.wandb td:nth-child(1) { padding: 0 10px; text-align: right }\n",
       "    </style><table class=\"wandb\">\n",
       "<tr><td>loss</td><td>0.49428</td></tr><tr><td>batch</td><td>683</td></tr><tr><td>epoch</td><td>17</td></tr><tr><td>loss_fine</td><td>0.47153</td></tr><tr><td>loss_coarse</td><td>0.81737</td></tr><tr><td>lambda_fine</td><td>1</td></tr><tr><td>lambda_coarse</td><td>0.02784</td></tr><tr><td>_step</td><td>701</td></tr><tr><td>_runtime</td><td>889</td></tr><tr><td>_timestamp</td><td>1609947233</td></tr><tr><td>validation_fine_f1</td><td>0.82279</td></tr><tr><td>training_fine_f1</td><td>1.0</td></tr><tr><td>validation_loss</td><td>3.21091</td></tr></table>"
      ],
      "text/plain": [
       "<IPython.core.display.HTML object>"
      ]
     },
     "metadata": {},
     "output_type": "display_data"
    },
    {
     "data": {
      "text/html": [
       "<h3>Run history:</h3><br/><style>\n",
       "    table.wandb td:nth-child(1) { padding: 0 10px; text-align: right }\n",
       "    </style><table class=\"wandb\">\n",
       "<tr><td>loss</td><td>█▆▅▄▄▃▃▃▃▃▂▂▂▂▂▂▂▁▂▂▂▁▂▁▁▂▂▁▂▁▁▂▁▂▁▁▁▂▁▁</td></tr><tr><td>batch</td><td>▁▁▁▁▂▂▂▂▂▃▃▃▃▃▃▄▄▄▄▄▅▅▅▅▅▅▆▆▆▆▆▇▇▇▇▇▇███</td></tr><tr><td>epoch</td><td>▁▁▁▁▁▂▂▂▂▃▃▃▃▃▃▃▄▄▄▄▅▅▅▅▅▆▆▆▆▆▆▇▇▇▇▇████</td></tr><tr><td>loss_fine</td><td>█▆▅▄▄▃▃▃▃▃▂▂▂▂▂▂▂▁▂▂▂▁▂▁▁▂▂▁▂▁▁▂▁▂▁▁▁▂▁▁</td></tr><tr><td>loss_coarse</td><td>█▆▅▇▄▃▃▃▄▂▃▃▃▂▃▃▃▄▁▅▃▁▄▃▂▄▁▃▄▂▂▄▂▄▁▂▂▃▂▂</td></tr><tr><td>lambda_fine</td><td>▁▁▁▁▁▁▁▁▁▁▁▁▁▁▁▁▁▁▁▁▁▁▁▁▁▁▁▁▁▁▁▁▁▁▁▁▁▁▁▁</td></tr><tr><td>lambda_coarse</td><td>▁▁▁▁▁▁▁▁▁▁▁▁▁▁▁▁▁▁▁▁▁▁▁▁▁▁▁▁▁▁▁▁▁▁▁▁▁▁▁▁</td></tr><tr><td>_step</td><td>▁▁▁▁▂▂▂▂▂▃▃▃▃▃▃▄▄▄▄▄▅▅▅▅▅▅▆▆▆▆▆▇▇▇▇▇▇███</td></tr><tr><td>_runtime</td><td>▁▁▁▁▁▂▂▂▂▃▃▃▃▃▃▄▄▄▄▄▅▅▅▅▅▅▆▆▆▆▆▇▇▇▇▇████</td></tr><tr><td>_timestamp</td><td>▁▁▁▁▁▂▂▂▂▃▃▃▃▃▃▄▄▄▄▄▅▅▅▅▅▅▆▆▆▆▆▇▇▇▇▇████</td></tr><tr><td>validation_fine_f1</td><td>▁▅▇▇▇██▇██████▇█▇█</td></tr><tr><td>training_fine_f1</td><td>▁▅▇███████████████</td></tr><tr><td>validation_loss</td><td>█▆▅▃▃▃▂▁▂▂▂▂▁▁▁▁▁▂</td></tr></table><br/>"
      ],
      "text/plain": [
       "<IPython.core.display.HTML object>"
      ]
     },
     "metadata": {},
     "output_type": "display_data"
    },
    {
     "data": {
      "text/html": [
       "Synced 5 W&B file(s), 0 media file(s), 0 artifact file(s) and 0 other file(s)"
      ],
      "text/plain": [
       "<IPython.core.display.HTML object>"
      ]
     },
     "metadata": {},
     "output_type": "display_data"
    },
    {
     "data": {
      "text/html": [
       "\n",
       "                    <br/>Synced <strong style=\"color:#cdcd00\">smart-sweep-37</strong>: <a href=\"https://wandb.ai/mndhamod/HGNN_sweep/runs/qlrc1yp7\" target=\"_blank\">https://wandb.ai/mndhamod/HGNN_sweep/runs/qlrc1yp7</a><br/>\n",
       "                "
      ],
      "text/plain": [
       "<IPython.core.display.HTML object>"
      ]
     },
     "metadata": {},
     "output_type": "display_data"
    },
    {
     "name": "stdout",
     "output_type": "stream",
     "text": [
      "\n"
     ]
    },
    {
     "name": "stderr",
     "output_type": "stream",
     "text": [
      "\u001b[34m\u001b[1mwandb\u001b[0m: Agent Starting Run: rzrh7ajj with config:\n",
      "\u001b[34m\u001b[1mwandb\u001b[0m: \tadaptive_alpha: 0.6492071771782475\n",
      "\u001b[34m\u001b[1mwandb\u001b[0m: \tadaptive_lambda: 0.09106685842160359\n",
      "\u001b[34m\u001b[1mwandb\u001b[0m: \tadaptive_smoothing: True\n",
      "\u001b[34m\u001b[1mwandb\u001b[0m: \taugmented: True\n",
      "\u001b[34m\u001b[1mwandb\u001b[0m: \tbatchSize: 128\n",
      "\u001b[34m\u001b[1mwandb\u001b[0m: \tfc_layers: 1\n",
      "\u001b[34m\u001b[1mwandb\u001b[0m: \timage_path: Curated4/Easy_50\n",
      "\u001b[34m\u001b[1mwandb\u001b[0m: \timg_res: 448\n",
      "\u001b[34m\u001b[1mwandb\u001b[0m: \tlambda: 0.010290034851012188\n",
      "\u001b[34m\u001b[1mwandb\u001b[0m: \tlearning_rate: 5.617998652793708e-05\n",
      "\u001b[34m\u001b[1mwandb\u001b[0m: \tlink_layer: layer3\n",
      "\u001b[34m\u001b[1mwandb\u001b[0m: \tmodelType: HGNN_add\n",
      "\u001b[34m\u001b[1mwandb\u001b[0m: \tnoSpeciesBackprop: True\n",
      "\u001b[34m\u001b[1mwandb\u001b[0m: \tnumOfTrials: 1\n",
      "\u001b[34m\u001b[1mwandb\u001b[0m: \tsuffix: None\n",
      "\u001b[34m\u001b[1mwandb\u001b[0m: \ttl_model: ResNet18\n",
      "\u001b[34m\u001b[1mwandb\u001b[0m: \tunsupervisedOnTest: False\n"
     ]
    },
    {
     "data": {
      "text/html": [
       "\n",
       "                Tracking run with wandb version 0.10.12<br/>\n",
       "                Syncing run <strong style=\"color:#cdcd00\">cosmic-sweep-38</strong> to <a href=\"https://wandb.ai\" target=\"_blank\">Weights & Biases</a> <a href=\"https://docs.wandb.com/integrations/jupyter.html\" target=\"_blank\">(Documentation)</a>.<br/>\n",
       "                Project page: <a href=\"https://wandb.ai/mndhamod/HGNN_sweep\" target=\"_blank\">https://wandb.ai/mndhamod/HGNN_sweep</a><br/>\n",
       "                Sweep page: <a href=\"https://wandb.ai/mndhamod/HGNN_sweep/sweeps/7uhr6dty\" target=\"_blank\">https://wandb.ai/mndhamod/HGNN_sweep/sweeps/7uhr6dty</a><br/>\n",
       "Run page: <a href=\"https://wandb.ai/mndhamod/HGNN_sweep/runs/rzrh7ajj\" target=\"_blank\">https://wandb.ai/mndhamod/HGNN_sweep/runs/rzrh7ajj</a><br/>\n",
       "                Run data is saved locally in <code>/home/elhamod/HGNN/code/HGNN/HGNN/train/wandb/run-20210106_103401-rzrh7ajj</code><br/><br/>\n",
       "            "
      ],
      "text/plain": [
       "<IPython.core.display.HTML object>"
      ]
     },
     "metadata": {},
     "output_type": "display_data"
    },
    {
     "name": "stdout",
     "output_type": "stream",
     "text": [
      "{'adaptive_alpha': 0.6492071771782475, 'adaptive_lambda': 0.09106685842160359, 'adaptive_smoothing': True, 'augmented': True, 'batchSize': 128, 'fc_layers': 1, 'image_path': 'Curated4/Easy_50', 'img_res': 448, 'lambda': 0.010290034851012188, 'learning_rate': 5.617998652793708e-05, 'link_layer': 'layer3', 'modelType': 'HGNN_add', 'noSpeciesBackprop': True, 'numOfTrials': 1, 'suffix': None, 'tl_model': 'ResNet18', 'unsupervisedOnTest': False}\n",
      "Creating datasets...\n",
      "Creating datasets... Done.\n",
      "Creating loaders...\n",
      "Creating loaders... Done.\n"
     ]
    },
    {
     "data": {
      "application/vnd.jupyter.widget-view+json": {
       "model_id": "084464019b9f47059870ab4dedb7f328",
       "version_major": 2,
       "version_minor": 0
      },
      "text/plain": [
       "HBox(children=(FloatProgress(value=0.0, description='trial', max=1.0, style=ProgressStyle(description_width='i…"
      ]
     },
     "metadata": {},
     "output_type": "display_data"
    },
    {
     "name": "stdout",
     "output_type": "stream",
     "text": [
      "{'experimentName': 'HGNN_sweep', 'modelName': 'models/911bea1d7c2007bf34e9ea1d728476594b1280c62cbf6ab8c1402fbf', 'datasetName': 'datasplits/7c7513bdfb4e5577fef1c3ec0fa6452d30d87dbc95f258a7c86dd76b', 'experimentHash': '90e9073279e977631f26ddba36cf55143c7b5eb0b9eccefea7b77915', 'trialHash': '911bea1d7c2007bf34e9ea1d728476594b1280c62cbf6ab8c1402fbf', 'adaptive_alpha': 0.6492071771782475, 'adaptive_lambda': 0.09106685842160359, 'adaptive_smoothing': True, 'augmented': True, 'batchSize': 128, 'fc_layers': 1, 'image_path': 'Curated4/Easy_50', 'img_res': 448, 'lambda': 0.010290034851012188, 'learning_rate': 5.617998652793708e-05, 'link_layer': 'layer3', 'modelType': 'HGNN_add', 'noSpeciesBackprop': True, 'numOfTrials': 1, 'suffix': None, 'tl_model': 'ResNet18', 'unsupervisedOnTest': False}\n"
     ]
    },
    {
     "name": "stderr",
     "output_type": "stream",
     "text": [
      "\r",
      "iteration:   0%|          | 0/500 [00:00<?, ?it/s]"
     ]
    },
    {
     "name": "stdout",
     "output_type": "stream",
     "text": [
      "Training started...\n"
     ]
    },
    {
     "name": "stderr",
     "output_type": "stream",
     "text": [
      "iteration:   5%|▌         | 27/500 [36:53<10:41:31, 81.38s/it, min_val_loss=1.22, train=0.999, val=0.815, val_loss=3.28]"
     ]
    },
    {
     "name": "stdout",
     "output_type": "stream",
     "text": [
      "Early stopping\n",
      "total number of epochs:  26\n"
     ]
    },
    {
     "name": "stderr",
     "output_type": "stream",
     "text": [
      "iteration:   5%|▌         | 27/500 [36:56<10:47:09, 82.09s/it, min_val_loss=1.22, train=0.999, val=0.815, val_loss=3.28]\n"
     ]
    },
    {
     "data": {
      "text/html": [
       "<br/>Waiting for W&B process to finish, PID 31190<br/>Program ended successfully."
      ],
      "text/plain": [
       "<IPython.core.display.HTML object>"
      ]
     },
     "metadata": {},
     "output_type": "display_data"
    },
    {
     "data": {
      "application/vnd.jupyter.widget-view+json": {
       "model_id": "",
       "version_major": 2,
       "version_minor": 0
      },
      "text/plain": [
       "VBox(children=(Label(value=' 0.00MB of 0.00MB uploaded (0.00MB deduped)\\r'), FloatProgress(value=1.0, max=1.0)…"
      ]
     },
     "metadata": {},
     "output_type": "display_data"
    },
    {
     "data": {
      "text/html": [
       "Find user logs for this run at: <code>/home/elhamod/HGNN/code/HGNN/HGNN/train/wandb/run-20210106_103401-rzrh7ajj/logs/debug.log</code>"
      ],
      "text/plain": [
       "<IPython.core.display.HTML object>"
      ]
     },
     "metadata": {},
     "output_type": "display_data"
    },
    {
     "data": {
      "text/html": [
       "Find internal logs for this run at: <code>/home/elhamod/HGNN/code/HGNN/HGNN/train/wandb/run-20210106_103401-rzrh7ajj/logs/debug-internal.log</code>"
      ],
      "text/plain": [
       "<IPython.core.display.HTML object>"
      ]
     },
     "metadata": {},
     "output_type": "display_data"
    },
    {
     "data": {
      "text/html": [
       "<h3>Run summary:</h3><br/><style>\n",
       "    table.wandb td:nth-child(1) { padding: 0 10px; text-align: right }\n",
       "    </style><table class=\"wandb\">\n",
       "<tr><td>loss</td><td>0.43942</td></tr><tr><td>batch</td><td>269</td></tr><tr><td>epoch</td><td>26</td></tr><tr><td>loss_fine</td><td>0.36477</td></tr><tr><td>loss_coarse</td><td>0.85418</td></tr><tr><td>lambda_fine</td><td>0.84746</td></tr><tr><td>lambda_coarse</td><td>0.15254</td></tr><tr><td>_step</td><td>296</td></tr><tr><td>_runtime</td><td>2216</td></tr><tr><td>_timestamp</td><td>1609949457</td></tr><tr><td>validation_fine_f1</td><td>0.81538</td></tr><tr><td>training_fine_f1</td><td>0.99918</td></tr><tr><td>validation_loss</td><td>3.28233</td></tr></table>"
      ],
      "text/plain": [
       "<IPython.core.display.HTML object>"
      ]
     },
     "metadata": {},
     "output_type": "display_data"
    },
    {
     "data": {
      "text/html": [
       "<h3>Run history:</h3><br/><style>\n",
       "    table.wandb td:nth-child(1) { padding: 0 10px; text-align: right }\n",
       "    </style><table class=\"wandb\">\n",
       "<tr><td>loss</td><td>█▇▅▄▄▃▃▃▂▂▂▂▂▂▂▁▁▁▁▁▁▁▁▁▁▁▁▁▁▁▁▁▂▁▁▁▁▁▁▁</td></tr><tr><td>batch</td><td>▁▁▁▂▂▂▂▂▂▃▃▃▃▃▃▄▄▄▄▄▅▅▅▅▅▅▆▆▆▆▆▇▇▇▇▇▇███</td></tr><tr><td>epoch</td><td>▁▁▁▂▂▂▂▂▂▃▃▃▃▃▃▄▄▄▄▅▅▅▅▅▅▆▆▆▆▆▆▇▇▇▇▇▇███</td></tr><tr><td>loss_fine</td><td>█▇▅▄▄▃▃▃▂▂▂▂▂▂▂▁▁▁▁▁▁▁▁▁▁▁▁▁▁▁▁▁▂▁▁▁▁▁▁▁</td></tr><tr><td>loss_coarse</td><td>█▆▄▂▃▂▂▂▂▃▂▂▂▂▂▂▂▂▂▂▂▁▂▁▂▁▂▂▂▂▂▂▂▂▂▂▂▁▁▁</td></tr><tr><td>lambda_fine</td><td>█▃▃▁▂▁▃▃▃▆▄▄▄▆▆▆▆▆▆▆▇▃▆▅▆▅▅▆▆▅▇▆▆▇▆▆▇▅▄▄</td></tr><tr><td>lambda_coarse</td><td>▁▆▆█▇█▆▆▆▃▅▅▅▃▃▃▃▃▃▃▂▆▃▄▃▄▄▃▃▄▂▃▃▂▃▃▂▄▅▅</td></tr><tr><td>_step</td><td>▁▁▁▁▂▂▂▂▂▃▃▃▃▃▃▄▄▄▄▄▅▅▅▅▅▅▆▆▆▆▆▇▇▇▇▇▇███</td></tr><tr><td>_runtime</td><td>▁▁▁▂▂▂▂▂▂▃▃▃▃▃▃▄▄▄▄▄▅▅▅▅▅▆▆▆▆▆▆▇▇▇▇▇▇███</td></tr><tr><td>_timestamp</td><td>▁▁▁▂▂▂▂▂▂▃▃▃▃▃▃▄▄▄▄▄▅▅▅▅▅▆▆▆▆▆▆▇▇▇▇▇▇███</td></tr><tr><td>validation_fine_f1</td><td>▁▃▅▆▇▇▇▇███████████████████</td></tr><tr><td>training_fine_f1</td><td>▁▄▆▇███████████████████████</td></tr><tr><td>validation_loss</td><td>█▇▅▄▄▃▃▂▂▂▂▂▂▁▁▁▁▁▁▁▁▁▁▁▁▁▁</td></tr></table><br/>"
      ],
      "text/plain": [
       "<IPython.core.display.HTML object>"
      ]
     },
     "metadata": {},
     "output_type": "display_data"
    },
    {
     "data": {
      "text/html": [
       "Synced 5 W&B file(s), 0 media file(s), 0 artifact file(s) and 0 other file(s)"
      ],
      "text/plain": [
       "<IPython.core.display.HTML object>"
      ]
     },
     "metadata": {},
     "output_type": "display_data"
    },
    {
     "data": {
      "text/html": [
       "\n",
       "                    <br/>Synced <strong style=\"color:#cdcd00\">cosmic-sweep-38</strong>: <a href=\"https://wandb.ai/mndhamod/HGNN_sweep/runs/rzrh7ajj\" target=\"_blank\">https://wandb.ai/mndhamod/HGNN_sweep/runs/rzrh7ajj</a><br/>\n",
       "                "
      ],
      "text/plain": [
       "<IPython.core.display.HTML object>"
      ]
     },
     "metadata": {},
     "output_type": "display_data"
    },
    {
     "name": "stdout",
     "output_type": "stream",
     "text": [
      "\n"
     ]
    },
    {
     "name": "stderr",
     "output_type": "stream",
     "text": [
      "\u001b[34m\u001b[1mwandb\u001b[0m: Agent Starting Run: 2j8l1csp with config:\n",
      "\u001b[34m\u001b[1mwandb\u001b[0m: \tadaptive_alpha: 0.6937506616149797\n",
      "\u001b[34m\u001b[1mwandb\u001b[0m: \tadaptive_lambda: 0.050334438137477545\n",
      "\u001b[34m\u001b[1mwandb\u001b[0m: \tadaptive_smoothing: True\n",
      "\u001b[34m\u001b[1mwandb\u001b[0m: \taugmented: True\n",
      "\u001b[34m\u001b[1mwandb\u001b[0m: \tbatchSize: 32\n",
      "\u001b[34m\u001b[1mwandb\u001b[0m: \tfc_layers: 2\n",
      "\u001b[34m\u001b[1mwandb\u001b[0m: \timage_path: Curated4/Easy_50\n",
      "\u001b[34m\u001b[1mwandb\u001b[0m: \timg_res: 448\n",
      "\u001b[34m\u001b[1mwandb\u001b[0m: \tlambda: 0.023979859224454506\n",
      "\u001b[34m\u001b[1mwandb\u001b[0m: \tlearning_rate: 7.343831865703599e-05\n",
      "\u001b[34m\u001b[1mwandb\u001b[0m: \tlink_layer: avgpool\n",
      "\u001b[34m\u001b[1mwandb\u001b[0m: \tmodelType: HGNN_add\n",
      "\u001b[34m\u001b[1mwandb\u001b[0m: \tnoSpeciesBackprop: False\n",
      "\u001b[34m\u001b[1mwandb\u001b[0m: \tnumOfTrials: 1\n",
      "\u001b[34m\u001b[1mwandb\u001b[0m: \tsuffix: None\n",
      "\u001b[34m\u001b[1mwandb\u001b[0m: \ttl_model: ResNet18\n",
      "\u001b[34m\u001b[1mwandb\u001b[0m: \tunsupervisedOnTest: False\n"
     ]
    },
    {
     "data": {
      "text/html": [
       "\n",
       "                Tracking run with wandb version 0.10.12<br/>\n",
       "                Syncing run <strong style=\"color:#cdcd00\">expert-sweep-39</strong> to <a href=\"https://wandb.ai\" target=\"_blank\">Weights & Biases</a> <a href=\"https://docs.wandb.com/integrations/jupyter.html\" target=\"_blank\">(Documentation)</a>.<br/>\n",
       "                Project page: <a href=\"https://wandb.ai/mndhamod/HGNN_sweep\" target=\"_blank\">https://wandb.ai/mndhamod/HGNN_sweep</a><br/>\n",
       "                Sweep page: <a href=\"https://wandb.ai/mndhamod/HGNN_sweep/sweeps/7uhr6dty\" target=\"_blank\">https://wandb.ai/mndhamod/HGNN_sweep/sweeps/7uhr6dty</a><br/>\n",
       "Run page: <a href=\"https://wandb.ai/mndhamod/HGNN_sweep/runs/2j8l1csp\" target=\"_blank\">https://wandb.ai/mndhamod/HGNN_sweep/runs/2j8l1csp</a><br/>\n",
       "                Run data is saved locally in <code>/home/elhamod/HGNN/code/HGNN/HGNN/train/wandb/run-20210106_111105-2j8l1csp</code><br/><br/>\n",
       "            "
      ],
      "text/plain": [
       "<IPython.core.display.HTML object>"
      ]
     },
     "metadata": {},
     "output_type": "display_data"
    },
    {
     "name": "stdout",
     "output_type": "stream",
     "text": [
      "{'adaptive_alpha': 0.6937506616149797, 'adaptive_lambda': 0.050334438137477545, 'adaptive_smoothing': True, 'augmented': True, 'batchSize': 32, 'fc_layers': 2, 'image_path': 'Curated4/Easy_50', 'img_res': 448, 'lambda': 0.023979859224454506, 'learning_rate': 7.343831865703599e-05, 'link_layer': 'avgpool', 'modelType': 'HGNN_add', 'noSpeciesBackprop': False, 'numOfTrials': 1, 'suffix': None, 'tl_model': 'ResNet18', 'unsupervisedOnTest': False}\n",
      "Creating datasets...\n",
      "Creating datasets... Done.\n",
      "Creating loaders...\n",
      "Creating loaders... Done.\n"
     ]
    },
    {
     "data": {
      "application/vnd.jupyter.widget-view+json": {
       "model_id": "dd4f631887854cc3b7b4a85e73ebc7aa",
       "version_major": 2,
       "version_minor": 0
      },
      "text/plain": [
       "HBox(children=(FloatProgress(value=0.0, description='trial', max=1.0, style=ProgressStyle(description_width='i…"
      ]
     },
     "metadata": {},
     "output_type": "display_data"
    },
    {
     "name": "stdout",
     "output_type": "stream",
     "text": [
      "{'experimentName': 'HGNN_sweep', 'modelName': 'models/218c9be7531fc4873b4aeb5f404779d99df118c9c7b8f035a51eb2f2', 'datasetName': 'datasplits/7c7513bdfb4e5577fef1c3ec0fa6452d30d87dbc95f258a7c86dd76b', 'experimentHash': '04bf650bd5b5f754e976179ee99bdfe3d8845eb3b1631f7b0e697663', 'trialHash': '218c9be7531fc4873b4aeb5f404779d99df118c9c7b8f035a51eb2f2', 'adaptive_alpha': 0.6937506616149797, 'adaptive_lambda': 0.050334438137477545, 'adaptive_smoothing': True, 'augmented': True, 'batchSize': 32, 'fc_layers': 2, 'image_path': 'Curated4/Easy_50', 'img_res': 448, 'lambda': 0.023979859224454506, 'learning_rate': 7.343831865703599e-05, 'link_layer': 'avgpool', 'modelType': 'HGNN_add', 'noSpeciesBackprop': False, 'numOfTrials': 1, 'suffix': None, 'tl_model': 'ResNet18', 'unsupervisedOnTest': False}\n"
     ]
    },
    {
     "name": "stderr",
     "output_type": "stream",
     "text": [
      "\r",
      "iteration:   0%|          | 0/500 [00:00<?, ?it/s]"
     ]
    },
    {
     "name": "stdout",
     "output_type": "stream",
     "text": [
      "Training started...\n"
     ]
    },
    {
     "name": "stderr",
     "output_type": "stream",
     "text": [
      "iteration:   5%|▌         | 27/500 [22:31<6:24:23, 48.76s/it, min_val_loss=1.16, train=1, val=0.852, val_loss=3.16]   "
     ]
    },
    {
     "name": "stdout",
     "output_type": "stream",
     "text": [
      "Early stopping\n",
      "total number of epochs:  26\n"
     ]
    },
    {
     "name": "stderr",
     "output_type": "stream",
     "text": [
      "iteration:   5%|▌         | 27/500 [22:33<6:35:14, 50.14s/it, min_val_loss=1.16, train=1, val=0.852, val_loss=3.16]\n"
     ]
    },
    {
     "data": {
      "text/html": [
       "<br/>Waiting for W&B process to finish, PID 41576<br/>Program ended successfully."
      ],
      "text/plain": [
       "<IPython.core.display.HTML object>"
      ]
     },
     "metadata": {},
     "output_type": "display_data"
    },
    {
     "data": {
      "application/vnd.jupyter.widget-view+json": {
       "model_id": "",
       "version_major": 2,
       "version_minor": 0
      },
      "text/plain": [
       "VBox(children=(Label(value=' 0.00MB of 0.00MB uploaded (0.00MB deduped)\\r'), FloatProgress(value=1.0, max=1.0)…"
      ]
     },
     "metadata": {},
     "output_type": "display_data"
    },
    {
     "data": {
      "text/html": [
       "Find user logs for this run at: <code>/home/elhamod/HGNN/code/HGNN/HGNN/train/wandb/run-20210106_111105-2j8l1csp/logs/debug.log</code>"
      ],
      "text/plain": [
       "<IPython.core.display.HTML object>"
      ]
     },
     "metadata": {},
     "output_type": "display_data"
    },
    {
     "data": {
      "text/html": [
       "Find internal logs for this run at: <code>/home/elhamod/HGNN/code/HGNN/HGNN/train/wandb/run-20210106_111105-2j8l1csp/logs/debug-internal.log</code>"
      ],
      "text/plain": [
       "<IPython.core.display.HTML object>"
      ]
     },
     "metadata": {},
     "output_type": "display_data"
    },
    {
     "data": {
      "text/html": [
       "<h3>Run summary:</h3><br/><style>\n",
       "    table.wandb td:nth-child(1) { padding: 0 10px; text-align: right }\n",
       "    </style><table class=\"wandb\">\n",
       "<tr><td>loss</td><td>0.6175</td></tr><tr><td>batch</td><td>1025</td></tr><tr><td>epoch</td><td>26</td></tr><tr><td>loss_fine</td><td>0.60085</td></tr><tr><td>loss_coarse</td><td>0.72919</td></tr><tr><td>lambda_fine</td><td>0.87021</td></tr><tr><td>lambda_coarse</td><td>0.12979</td></tr><tr><td>_step</td><td>1052</td></tr><tr><td>_runtime</td><td>1354</td></tr><tr><td>_timestamp</td><td>1609950819</td></tr><tr><td>validation_fine_f1</td><td>0.8522</td></tr><tr><td>training_fine_f1</td><td>1.0</td></tr><tr><td>validation_loss</td><td>3.15509</td></tr></table>"
      ],
      "text/plain": [
       "<IPython.core.display.HTML object>"
      ]
     },
     "metadata": {},
     "output_type": "display_data"
    },
    {
     "data": {
      "text/html": [
       "<h3>Run history:</h3><br/><style>\n",
       "    table.wandb td:nth-child(1) { padding: 0 10px; text-align: right }\n",
       "    </style><table class=\"wandb\">\n",
       "<tr><td>loss</td><td>█▇▅▄▃▂▂▂▂▂▂▁▂▁▂▁▂▁▂▁▂▁▁▂▁▁▁▂▂▂▂▂▁▁▁▁▂▂▂▁</td></tr><tr><td>batch</td><td>▁▁▁▁▂▂▂▂▂▃▃▃▃▃▃▄▄▄▄▄▅▅▅▅▅▅▆▆▆▆▆▇▇▇▇▇▇███</td></tr><tr><td>epoch</td><td>▁▁▁▂▂▂▂▂▂▃▃▃▃▃▃▄▄▄▄▅▅▅▅▅▅▆▆▆▆▆▆▆▇▇▇▇▇███</td></tr><tr><td>loss_fine</td><td>█▇▅▄▃▂▂▂▂▂▂▁▂▁▂▁▂▁▂▁▂▁▁▂▁▁▁▂▂▂▂▂▁▁▁▂▂▂▂▁</td></tr><tr><td>loss_coarse</td><td>█▇▄▅▃▃▂▄▂▃▃▂▃▃▃▃▃▁▂▃▂▃▂▃▂▃▁▂▂▃▃▅▄▃▂▂▂▂▃▂</td></tr><tr><td>lambda_fine</td><td>▇▇▃▆▄▃▂▆▁▅▄▄▅▄▅▄▅▂▄▅▂▄▂▄▃▅▁▁▃▅▅█▆▅▃▃▃▂▅▂</td></tr><tr><td>lambda_coarse</td><td>▂▂▆▃▅▆▇▃█▄▅▅▄▅▄▅▄▇▅▄▇▅▇▅▆▄██▆▄▄▁▃▄▆▆▆▇▄▇</td></tr><tr><td>_step</td><td>▁▁▁▁▂▂▂▂▂▃▃▃▃▃▃▄▄▄▄▄▅▅▅▅▅▅▆▆▆▆▆▆▇▇▇▇▇███</td></tr><tr><td>_runtime</td><td>▁▁▁▂▂▂▂▂▂▃▃▃▃▃▃▄▄▄▄▅▅▅▅▅▅▆▆▆▆▆▆▆▇▇▇▇▇███</td></tr><tr><td>_timestamp</td><td>▁▁▁▂▂▂▂▂▂▃▃▃▃▃▃▄▄▄▄▅▅▅▅▅▅▆▆▆▆▆▆▆▇▇▇▇▇███</td></tr><tr><td>validation_fine_f1</td><td>▁▄▆▆▆▆▇▇▇▇▇█▇██▇██▇████████</td></tr><tr><td>training_fine_f1</td><td>▁▅▇████████████████████████</td></tr><tr><td>validation_loss</td><td>█▆▅▄▃▃▂▂▂▂▂▂▂▂▂▂▂▂▂▁▁▂▁▁▁▁▁</td></tr></table><br/>"
      ],
      "text/plain": [
       "<IPython.core.display.HTML object>"
      ]
     },
     "metadata": {},
     "output_type": "display_data"
    },
    {
     "data": {
      "text/html": [
       "Synced 5 W&B file(s), 0 media file(s), 0 artifact file(s) and 0 other file(s)"
      ],
      "text/plain": [
       "<IPython.core.display.HTML object>"
      ]
     },
     "metadata": {},
     "output_type": "display_data"
    },
    {
     "data": {
      "text/html": [
       "\n",
       "                    <br/>Synced <strong style=\"color:#cdcd00\">expert-sweep-39</strong>: <a href=\"https://wandb.ai/mndhamod/HGNN_sweep/runs/2j8l1csp\" target=\"_blank\">https://wandb.ai/mndhamod/HGNN_sweep/runs/2j8l1csp</a><br/>\n",
       "                "
      ],
      "text/plain": [
       "<IPython.core.display.HTML object>"
      ]
     },
     "metadata": {},
     "output_type": "display_data"
    },
    {
     "name": "stdout",
     "output_type": "stream",
     "text": [
      "\n"
     ]
    },
    {
     "name": "stderr",
     "output_type": "stream",
     "text": [
      "\u001b[34m\u001b[1mwandb\u001b[0m: Agent Starting Run: qcg2ecsq with config:\n",
      "\u001b[34m\u001b[1mwandb\u001b[0m: \tadaptive_alpha: 0.7858931820293342\n",
      "\u001b[34m\u001b[1mwandb\u001b[0m: \tadaptive_lambda: 0.023202620639872103\n",
      "\u001b[34m\u001b[1mwandb\u001b[0m: \tadaptive_smoothing: False\n",
      "\u001b[34m\u001b[1mwandb\u001b[0m: \taugmented: True\n",
      "\u001b[34m\u001b[1mwandb\u001b[0m: \tbatchSize: 16\n",
      "\u001b[34m\u001b[1mwandb\u001b[0m: \tfc_layers: 2\n",
      "\u001b[34m\u001b[1mwandb\u001b[0m: \timage_path: Curated4/Easy_50\n",
      "\u001b[34m\u001b[1mwandb\u001b[0m: \timg_res: 448\n",
      "\u001b[34m\u001b[1mwandb\u001b[0m: \tlambda: 0.005739992464563591\n",
      "\u001b[34m\u001b[1mwandb\u001b[0m: \tlearning_rate: 6.808108951059954e-05\n",
      "\u001b[34m\u001b[1mwandb\u001b[0m: \tlink_layer: avgpool\n",
      "\u001b[34m\u001b[1mwandb\u001b[0m: \tmodelType: HGNN_add\n",
      "\u001b[34m\u001b[1mwandb\u001b[0m: \tnoSpeciesBackprop: False\n",
      "\u001b[34m\u001b[1mwandb\u001b[0m: \tnumOfTrials: 1\n",
      "\u001b[34m\u001b[1mwandb\u001b[0m: \tsuffix: None\n",
      "\u001b[34m\u001b[1mwandb\u001b[0m: \ttl_model: ResNet18\n",
      "\u001b[34m\u001b[1mwandb\u001b[0m: \tunsupervisedOnTest: False\n"
     ]
    },
    {
     "data": {
      "text/html": [
       "\n",
       "                Tracking run with wandb version 0.10.12<br/>\n",
       "                Syncing run <strong style=\"color:#cdcd00\">driven-sweep-40</strong> to <a href=\"https://wandb.ai\" target=\"_blank\">Weights & Biases</a> <a href=\"https://docs.wandb.com/integrations/jupyter.html\" target=\"_blank\">(Documentation)</a>.<br/>\n",
       "                Project page: <a href=\"https://wandb.ai/mndhamod/HGNN_sweep\" target=\"_blank\">https://wandb.ai/mndhamod/HGNN_sweep</a><br/>\n",
       "                Sweep page: <a href=\"https://wandb.ai/mndhamod/HGNN_sweep/sweeps/7uhr6dty\" target=\"_blank\">https://wandb.ai/mndhamod/HGNN_sweep/sweeps/7uhr6dty</a><br/>\n",
       "Run page: <a href=\"https://wandb.ai/mndhamod/HGNN_sweep/runs/qcg2ecsq\" target=\"_blank\">https://wandb.ai/mndhamod/HGNN_sweep/runs/qcg2ecsq</a><br/>\n",
       "                Run data is saved locally in <code>/home/elhamod/HGNN/code/HGNN/HGNN/train/wandb/run-20210106_113346-qcg2ecsq</code><br/><br/>\n",
       "            "
      ],
      "text/plain": [
       "<IPython.core.display.HTML object>"
      ]
     },
     "metadata": {},
     "output_type": "display_data"
    },
    {
     "name": "stdout",
     "output_type": "stream",
     "text": [
      "{'adaptive_alpha': 0.7858931820293342, 'adaptive_lambda': 0.023202620639872103, 'adaptive_smoothing': False, 'augmented': True, 'batchSize': 16, 'fc_layers': 2, 'image_path': 'Curated4/Easy_50', 'img_res': 448, 'lambda': 0.005739992464563591, 'learning_rate': 6.808108951059954e-05, 'link_layer': 'avgpool', 'modelType': 'HGNN_add', 'noSpeciesBackprop': False, 'numOfTrials': 1, 'suffix': None, 'tl_model': 'ResNet18', 'unsupervisedOnTest': False}\n",
      "Creating datasets...\n",
      "Creating datasets... Done.\n",
      "Creating loaders...\n",
      "Creating loaders... Done.\n"
     ]
    },
    {
     "data": {
      "application/vnd.jupyter.widget-view+json": {
       "model_id": "edf3c56fc0704d06a488525b7b879962",
       "version_major": 2,
       "version_minor": 0
      },
      "text/plain": [
       "HBox(children=(FloatProgress(value=0.0, description='trial', max=1.0, style=ProgressStyle(description_width='i…"
      ]
     },
     "metadata": {},
     "output_type": "display_data"
    },
    {
     "name": "stdout",
     "output_type": "stream",
     "text": [
      "{'experimentName': 'HGNN_sweep', 'modelName': 'models/75433c8014169dd6f92c59762905aa9f1978277a399e5c0a7ac91f6c', 'datasetName': 'datasplits/7c7513bdfb4e5577fef1c3ec0fa6452d30d87dbc95f258a7c86dd76b', 'experimentHash': '21a4fdd77313f2da76be2fdc5e724a9fe7d7d12b36b7ccd17ecfac94', 'trialHash': '75433c8014169dd6f92c59762905aa9f1978277a399e5c0a7ac91f6c', 'adaptive_alpha': 0.7858931820293342, 'adaptive_lambda': 0.023202620639872103, 'adaptive_smoothing': False, 'augmented': True, 'batchSize': 16, 'fc_layers': 2, 'image_path': 'Curated4/Easy_50', 'img_res': 448, 'lambda': 0.005739992464563591, 'learning_rate': 6.808108951059954e-05, 'link_layer': 'avgpool', 'modelType': 'HGNN_add', 'noSpeciesBackprop': False, 'numOfTrials': 1, 'suffix': None, 'tl_model': 'ResNet18', 'unsupervisedOnTest': False}\n"
     ]
    },
    {
     "name": "stderr",
     "output_type": "stream",
     "text": [
      "\r",
      "iteration:   0%|          | 0/500 [00:00<?, ?it/s]"
     ]
    },
    {
     "name": "stdout",
     "output_type": "stream",
     "text": [
      "Training started...\n"
     ]
    },
    {
     "name": "stderr",
     "output_type": "stream",
     "text": [
      "iteration:   5%|▍         | 24/500 [18:14<5:51:25, 44.30s/it, min_val_loss=1.16, train=0.999, val=0.858, val_loss=3.16]"
     ]
    },
    {
     "name": "stdout",
     "output_type": "stream",
     "text": [
      "Early stopping\n",
      "total number of epochs:  23\n"
     ]
    },
    {
     "name": "stderr",
     "output_type": "stream",
     "text": [
      "iteration:   5%|▍         | 24/500 [18:16<6:02:21, 45.68s/it, min_val_loss=1.16, train=0.999, val=0.858, val_loss=3.16]\n"
     ]
    },
    {
     "data": {
      "text/html": [
       "<br/>Waiting for W&B process to finish, PID 49865<br/>Program ended successfully."
      ],
      "text/plain": [
       "<IPython.core.display.HTML object>"
      ]
     },
     "metadata": {},
     "output_type": "display_data"
    },
    {
     "data": {
      "application/vnd.jupyter.widget-view+json": {
       "model_id": "",
       "version_major": 2,
       "version_minor": 0
      },
      "text/plain": [
       "VBox(children=(Label(value=' 0.00MB of 0.00MB uploaded (0.00MB deduped)\\r'), FloatProgress(value=1.0, max=1.0)…"
      ]
     },
     "metadata": {},
     "output_type": "display_data"
    },
    {
     "data": {
      "text/html": [
       "Find user logs for this run at: <code>/home/elhamod/HGNN/code/HGNN/HGNN/train/wandb/run-20210106_113346-qcg2ecsq/logs/debug.log</code>"
      ],
      "text/plain": [
       "<IPython.core.display.HTML object>"
      ]
     },
     "metadata": {},
     "output_type": "display_data"
    },
    {
     "data": {
      "text/html": [
       "Find internal logs for this run at: <code>/home/elhamod/HGNN/code/HGNN/HGNN/train/wandb/run-20210106_113346-qcg2ecsq/logs/debug-internal.log</code>"
      ],
      "text/plain": [
       "<IPython.core.display.HTML object>"
      ]
     },
     "metadata": {},
     "output_type": "display_data"
    },
    {
     "data": {
      "text/html": [
       "<h3>Run summary:</h3><br/><style>\n",
       "    table.wandb td:nth-child(1) { padding: 0 10px; text-align: right }\n",
       "    </style><table class=\"wandb\">\n",
       "<tr><td>loss</td><td>1.18194</td></tr><tr><td>batch</td><td>1823</td></tr><tr><td>epoch</td><td>23</td></tr><tr><td>loss_fine</td><td>1.17556</td></tr><tr><td>loss_coarse</td><td>1.11213</td></tr><tr><td>lambda_fine</td><td>1</td></tr><tr><td>lambda_coarse</td><td>0.00574</td></tr><tr><td>_step</td><td>1847</td></tr><tr><td>_runtime</td><td>1096</td></tr><tr><td>_timestamp</td><td>1609951922</td></tr><tr><td>validation_fine_f1</td><td>0.85769</td></tr><tr><td>training_fine_f1</td><td>0.99918</td></tr><tr><td>validation_loss</td><td>3.15947</td></tr></table>"
      ],
      "text/plain": [
       "<IPython.core.display.HTML object>"
      ]
     },
     "metadata": {},
     "output_type": "display_data"
    },
    {
     "data": {
      "text/html": [
       "<h3>Run history:</h3><br/><style>\n",
       "    table.wandb td:nth-child(1) { padding: 0 10px; text-align: right }\n",
       "    </style><table class=\"wandb\">\n",
       "<tr><td>loss</td><td>█▆▅▆▃▃▃▃▂▃▂▃▂▃▂▂▃▂▂▃▂▂▁▂▂▃▁▂▂▁▂▂▂▁▃▂▂▁▁▂</td></tr><tr><td>batch</td><td>▁▁▁▁▂▂▂▂▂▃▃▃▃▃▃▄▄▄▄▄▅▅▅▅▅▅▆▆▆▆▆▇▇▇▇▇▇███</td></tr><tr><td>epoch</td><td>▁▁▁▁▂▂▂▂▂▃▃▃▃▃▃▄▄▄▄▄▅▅▅▅▅▆▆▆▆▆▆▆▇▇▇▇████</td></tr><tr><td>loss_fine</td><td>█▆▅▆▃▃▃▃▂▃▂▃▂▃▂▂▃▂▂▃▂▂▁▂▂▃▁▂▂▁▂▂▂▁▃▂▂▁▁▂</td></tr><tr><td>loss_coarse</td><td>█▆▆▄▅▃▄▄▃▂▄▆▁▅▃▄▃▃▃▄▃▄▄▃▄▃▂▂▂▂▂▁▆▂▁▄▃▂▃▃</td></tr><tr><td>lambda_fine</td><td>▁▁▁▁▁▁▁▁▁▁▁▁▁▁▁▁▁▁▁▁▁▁▁▁▁▁▁▁▁▁▁▁▁▁▁▁▁▁▁▁</td></tr><tr><td>lambda_coarse</td><td>▁▁▁▁▁▁▁▁▁▁▁▁▁▁▁▁▁▁▁▁▁▁▁▁▁▁▁▁▁▁▁▁▁▁▁▁▁▁▁▁</td></tr><tr><td>_step</td><td>▁▁▁▁▂▂▂▂▂▃▃▃▃▃▃▄▄▄▄▄▅▅▅▅▅▅▆▆▆▆▆▇▇▇▇▇▇███</td></tr><tr><td>_runtime</td><td>▁▁▁▁▂▂▂▂▂▃▃▃▃▃▃▄▄▄▄▄▅▅▅▅▅▆▆▆▆▆▆▇▇▇▇▇████</td></tr><tr><td>_timestamp</td><td>▁▁▁▁▂▂▂▂▂▃▃▃▃▃▃▄▄▄▄▄▅▅▅▅▅▆▆▆▆▆▆▇▇▇▇▇████</td></tr><tr><td>validation_fine_f1</td><td>▁▃▅▆▆▇▇▇▇▇▇█▇▇▇█▇██▇████</td></tr><tr><td>training_fine_f1</td><td>▁▅▇█████████████████████</td></tr><tr><td>validation_loss</td><td>█▆▅▄▃▃▂▂▂▂▂▂▂▂▁▁▁▁▁▂▁▁▁▁</td></tr></table><br/>"
      ],
      "text/plain": [
       "<IPython.core.display.HTML object>"
      ]
     },
     "metadata": {},
     "output_type": "display_data"
    },
    {
     "data": {
      "text/html": [
       "Synced 5 W&B file(s), 0 media file(s), 0 artifact file(s) and 0 other file(s)"
      ],
      "text/plain": [
       "<IPython.core.display.HTML object>"
      ]
     },
     "metadata": {},
     "output_type": "display_data"
    },
    {
     "data": {
      "text/html": [
       "\n",
       "                    <br/>Synced <strong style=\"color:#cdcd00\">driven-sweep-40</strong>: <a href=\"https://wandb.ai/mndhamod/HGNN_sweep/runs/qcg2ecsq\" target=\"_blank\">https://wandb.ai/mndhamod/HGNN_sweep/runs/qcg2ecsq</a><br/>\n",
       "                "
      ],
      "text/plain": [
       "<IPython.core.display.HTML object>"
      ]
     },
     "metadata": {},
     "output_type": "display_data"
    },
    {
     "name": "stdout",
     "output_type": "stream",
     "text": [
      "\n"
     ]
    },
    {
     "name": "stderr",
     "output_type": "stream",
     "text": [
      "\u001b[34m\u001b[1mwandb\u001b[0m: Agent Starting Run: i0q5ul2p with config:\n",
      "\u001b[34m\u001b[1mwandb\u001b[0m: \tadaptive_alpha: 0.8114564657635628\n",
      "\u001b[34m\u001b[1mwandb\u001b[0m: \tadaptive_lambda: 0.014215842660377575\n",
      "\u001b[34m\u001b[1mwandb\u001b[0m: \tadaptive_smoothing: False\n",
      "\u001b[34m\u001b[1mwandb\u001b[0m: \taugmented: True\n",
      "\u001b[34m\u001b[1mwandb\u001b[0m: \tbatchSize: 16\n",
      "\u001b[34m\u001b[1mwandb\u001b[0m: \tfc_layers: 1\n",
      "\u001b[34m\u001b[1mwandb\u001b[0m: \timage_path: Curated4/Easy_50\n",
      "\u001b[34m\u001b[1mwandb\u001b[0m: \timg_res: 448\n",
      "\u001b[34m\u001b[1mwandb\u001b[0m: \tlambda: 0.017599552045376072\n",
      "\u001b[34m\u001b[1mwandb\u001b[0m: \tlearning_rate: 0.00010607526754976522\n",
      "\u001b[34m\u001b[1mwandb\u001b[0m: \tlink_layer: avgpool\n",
      "\u001b[34m\u001b[1mwandb\u001b[0m: \tmodelType: HGNN_add\n",
      "\u001b[34m\u001b[1mwandb\u001b[0m: \tnoSpeciesBackprop: False\n",
      "\u001b[34m\u001b[1mwandb\u001b[0m: \tnumOfTrials: 1\n",
      "\u001b[34m\u001b[1mwandb\u001b[0m: \tsuffix: None\n",
      "\u001b[34m\u001b[1mwandb\u001b[0m: \ttl_model: ResNet18\n",
      "\u001b[34m\u001b[1mwandb\u001b[0m: \tunsupervisedOnTest: False\n"
     ]
    },
    {
     "data": {
      "text/html": [
       "\n",
       "                Tracking run with wandb version 0.10.12<br/>\n",
       "                Syncing run <strong style=\"color:#cdcd00\">sandy-sweep-41</strong> to <a href=\"https://wandb.ai\" target=\"_blank\">Weights & Biases</a> <a href=\"https://docs.wandb.com/integrations/jupyter.html\" target=\"_blank\">(Documentation)</a>.<br/>\n",
       "                Project page: <a href=\"https://wandb.ai/mndhamod/HGNN_sweep\" target=\"_blank\">https://wandb.ai/mndhamod/HGNN_sweep</a><br/>\n",
       "                Sweep page: <a href=\"https://wandb.ai/mndhamod/HGNN_sweep/sweeps/7uhr6dty\" target=\"_blank\">https://wandb.ai/mndhamod/HGNN_sweep/sweeps/7uhr6dty</a><br/>\n",
       "Run page: <a href=\"https://wandb.ai/mndhamod/HGNN_sweep/runs/i0q5ul2p\" target=\"_blank\">https://wandb.ai/mndhamod/HGNN_sweep/runs/i0q5ul2p</a><br/>\n",
       "                Run data is saved locally in <code>/home/elhamod/HGNN/code/HGNN/HGNN/train/wandb/run-20210106_115211-i0q5ul2p</code><br/><br/>\n",
       "            "
      ],
      "text/plain": [
       "<IPython.core.display.HTML object>"
      ]
     },
     "metadata": {},
     "output_type": "display_data"
    },
    {
     "name": "stdout",
     "output_type": "stream",
     "text": [
      "{'adaptive_alpha': 0.8114564657635628, 'adaptive_lambda': 0.014215842660377575, 'adaptive_smoothing': False, 'augmented': True, 'batchSize': 16, 'fc_layers': 1, 'image_path': 'Curated4/Easy_50', 'img_res': 448, 'lambda': 0.017599552045376072, 'learning_rate': 0.00010607526754976522, 'link_layer': 'avgpool', 'modelType': 'HGNN_add', 'noSpeciesBackprop': False, 'numOfTrials': 1, 'suffix': None, 'tl_model': 'ResNet18', 'unsupervisedOnTest': False}\n",
      "Creating datasets...\n",
      "Creating datasets... Done.\n",
      "Creating loaders...\n",
      "Creating loaders... Done.\n"
     ]
    },
    {
     "data": {
      "application/vnd.jupyter.widget-view+json": {
       "model_id": "d874514d354c444a8df2263df4d808f5",
       "version_major": 2,
       "version_minor": 0
      },
      "text/plain": [
       "HBox(children=(FloatProgress(value=0.0, description='trial', max=1.0, style=ProgressStyle(description_width='i…"
      ]
     },
     "metadata": {},
     "output_type": "display_data"
    },
    {
     "name": "stdout",
     "output_type": "stream",
     "text": [
      "{'experimentName': 'HGNN_sweep', 'modelName': 'models/6ea26b34d9e71f23432adf6a69a74705d4e0f6a214bcd10d60fa5264', 'datasetName': 'datasplits/7c7513bdfb4e5577fef1c3ec0fa6452d30d87dbc95f258a7c86dd76b', 'experimentHash': 'eb6297dbc609805cb9ae14dfcaa1466b2c4bf8b98283597e3e546f5d', 'trialHash': '6ea26b34d9e71f23432adf6a69a74705d4e0f6a214bcd10d60fa5264', 'adaptive_alpha': 0.8114564657635628, 'adaptive_lambda': 0.014215842660377575, 'adaptive_smoothing': False, 'augmented': True, 'batchSize': 16, 'fc_layers': 1, 'image_path': 'Curated4/Easy_50', 'img_res': 448, 'lambda': 0.017599552045376072, 'learning_rate': 0.00010607526754976522, 'link_layer': 'avgpool', 'modelType': 'HGNN_add', 'noSpeciesBackprop': False, 'numOfTrials': 1, 'suffix': None, 'tl_model': 'ResNet18', 'unsupervisedOnTest': False}\n"
     ]
    },
    {
     "name": "stderr",
     "output_type": "stream",
     "text": [
      "\r",
      "iteration:   0%|          | 0/500 [00:00<?, ?it/s]"
     ]
    },
    {
     "name": "stdout",
     "output_type": "stream",
     "text": [
      "Training started...\n"
     ]
    },
    {
     "name": "stderr",
     "output_type": "stream",
     "text": [
      "iteration:   1%|          | 3/500 [02:17<6:21:50, 46.10s/it, min_val_loss=1.47, train=0.971, val=0.762, val_loss=3.25]"
     ]
    }
   ],
   "source": [
    "wandb.agent(sweep_id, function=train, count=100)\n",
    "# !CUDA_VISIBLE_DEVICES=1 wandb agent k7cnzayi --count 100 #train.py from program?"
   ]
  },
  {
   "cell_type": "code",
   "execution_count": null,
   "metadata": {},
   "outputs": [],
   "source": []
  },
  {
   "cell_type": "code",
   "execution_count": null,
   "metadata": {},
   "outputs": [],
   "source": []
  },
  {
   "cell_type": "code",
   "execution_count": null,
   "metadata": {},
   "outputs": [],
   "source": []
  }
 ],
 "metadata": {
  "kernelspec": {
   "display_name": "Python 3",
   "language": "python",
   "name": "python3"
  },
  "language_info": {
   "codemirror_mode": {
    "name": "ipython",
    "version": 3
   },
   "file_extension": ".py",
   "mimetype": "text/x-python",
   "name": "python",
   "nbconvert_exporter": "python",
   "pygments_lexer": "ipython3",
   "version": "3.6.9"
  }
 },
 "nbformat": 4,
 "nbformat_minor": 4
}
