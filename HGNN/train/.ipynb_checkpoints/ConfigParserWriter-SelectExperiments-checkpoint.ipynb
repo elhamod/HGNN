{
 "cells": [
  {
   "cell_type": "markdown",
   "metadata": {},
   "source": [
    "Imports"
   ]
  },
  {
   "cell_type": "code",
   "execution_count": 1,
   "metadata": {},
   "outputs": [],
   "source": [
    "from configParser import ConfigParser, getModelName"
   ]
  },
  {
   "cell_type": "markdown",
   "metadata": {},
   "source": [
    "Parameters: This is where the base parameters for your experiments are"
   ]
  },
  {
   "cell_type": "code",
   "execution_count": 2,
   "metadata": {},
   "outputs": [],
   "source": [
    "experimentName = \"dummy_experiment\"\n",
    "experimentsPath=\"/raid/elhamod/Fish/official_experiments/\" # Where experiment results will be produced\n",
    "dataPath=\"/raid/elhamod/Fish\" # Where data is\n",
    "\n",
    "# Do not change the order!\n",
    "params = {\n",
    "    \"image_path\": \"Official_Easy_30\", # This is the sub path under your data folder. The folder structure inside this path is supposed to be 3 folders: train/val/test. Each folder should follow pytorch ImageFolder structure.\n",
    "    \"suffix\": \"\", # obsolete. Do not change\n",
    "    \n",
    "    # dataset\n",
    "    \"img_res\": 448,\n",
    "    \"augmented\": True,\n",
    "\n",
    "    # training\n",
    "    \"batchSize\": 64,\n",
    "    \"learning_rate\":0.0001,\n",
    "    \"numOfTrials\":1, # The same experiment repeated n times for statistical analysis\n",
    "    \"modelType\":\"BB\", # or \"HGNN_add\" \n",
    "    \"lambda\": 0.01,\n",
    "    \"pretrained\": True,\n",
    "    \"tl_model\": \"ResNet18\", #'ResNet18', 'ResNet50'\n",
    "    \"link_layer\": \"avgpool\", # layer name should be consistent with tl_model layer names. e.g. \"layer3\"\n",
    "    \n",
    "    # Refer to Adaptive Smoothed Online Multi-Task Learning, Murugesan et al \n",
    "    \"adaptive_smoothing\": False,\n",
    "    \"adaptive_lambda\": 0.01,\n",
    "    \"adaptive_alpha\": 0.9,\n",
    "}\n",
    "\n"
   ]
  },
  {
   "cell_type": "markdown",
   "metadata": {},
   "source": [
    "Variations: This is where the variations for each experiment are pronounced"
   ]
  },
  {
   "cell_type": "code",
   "execution_count": 3,
   "metadata": {},
   "outputs": [
    {
     "data": {
      "text/plain": [
       "'/raid/elhamod/Fish/official_experiments/dummy_experiment/params.json'"
      ]
     },
     "execution_count": 3,
     "metadata": {},
     "output_type": "execute_result"
    }
   ],
   "source": [
    "cp = ConfigParser(experimentsPath, dataPath, experimentName)\n",
    "\n",
    "selected_hyperp_params = [\n",
    "    {\"modelType\": \"BB\"},\n",
    "    {\"modelType\": \"HGNN_add\"},\n",
    "]\n",
    "\n",
    "cp.write(params, selected_hyperp_params)\n",
    "\n"
   ]
  },
  {
   "cell_type": "code",
   "execution_count": 4,
   "metadata": {},
   "outputs": [
    {
     "name": "stdout",
     "output_type": "stream",
     "text": [
      "{'image_path': 'Official_Easy_30', 'suffix': '', 'img_res': 448, 'augmented': True, 'batchSize': 64, 'learning_rate': 0.0001, 'numOfTrials': 1, 'modelType': 'BB', 'lambda': 0.01, 'pretrained': True, 'tl_model': 'ResNet18', 'link_layer': 'avgpool', 'adaptive_smoothing': False, 'adaptive_lambda': 0.01, 'adaptive_alpha': 0.9, 'fc_layers': 1}\n",
      "models/30f202fa55ecf4d31cfb4b906ee773da2476bc394aa2467256f6b08e\n",
      "{'image_path': 'Official_Easy_30', 'suffix': '', 'img_res': 448, 'augmented': True, 'batchSize': 64, 'learning_rate': 0.0001, 'numOfTrials': 1, 'modelType': 'HGNN', 'lambda': 0.01, 'pretrained': True, 'tl_model': 'ResNet18', 'link_layer': 'avgpool', 'adaptive_smoothing': False, 'adaptive_lambda': 0.01, 'adaptive_alpha': 0.9, 'fc_layers': 1}\n",
      "models/b21aff7ff43c309e4e63d898766d2be960915421e12ff28c0d711708\n"
     ]
    }
   ],
   "source": [
    "for i in cp.getExperiments():\n",
    "    print(i)\n",
    "    print(getModelName(i))"
   ]
  }
 ],
 "metadata": {
  "kernelspec": {
   "display_name": "Python 3",
   "language": "python",
   "name": "python3"
  },
  "language_info": {
   "codemirror_mode": {
    "name": "ipython",
    "version": 3
   },
   "file_extension": ".py",
   "mimetype": "text/x-python",
   "name": "python",
   "nbconvert_exporter": "python",
   "pygments_lexer": "ipython3",
   "version": "3.6.9"
  }
 },
 "nbformat": 4,
 "nbformat_minor": 4
}
