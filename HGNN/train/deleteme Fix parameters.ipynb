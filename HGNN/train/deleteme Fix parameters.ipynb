{
 "cells": [
  {
   "cell_type": "markdown",
   "metadata": {},
   "source": [
    "imports"
   ]
  },
  {
   "cell_type": "code",
   "execution_count": 9,
   "metadata": {},
   "outputs": [],
   "source": [
    "from tqdm.notebook import tqdm as tqdm\n",
    "import os\n",
    "import json\n",
    "import pandas as pd\n",
    "\n",
    "from HGNN.train.configParser import ConfigParser, getModelName, getDatasetName\n",
    "from myhelpers import TrialStatistics"
   ]
  },
  {
   "cell_type": "markdown",
   "metadata": {},
   "source": [
    "parameters"
   ]
  },
  {
   "cell_type": "code",
   "execution_count": 10,
   "metadata": {},
   "outputs": [],
   "source": [
    "experimentsPath=\"/raid/elhamod/Fish/experiments/\"\n",
    "dataPath=\"/raid/elhamod/Fish/\"\n",
    "experimentName=\"biology_paper_easy_curated4_Medium\"\n",
    "\n",
    "cuda=0"
   ]
  },
  {
   "cell_type": "markdown",
   "metadata": {},
   "source": [
    "file and changes"
   ]
  },
  {
   "cell_type": "code",
   "execution_count": 11,
   "metadata": {},
   "outputs": [],
   "source": [
    "old_params_file = os.path.join(experimentsPath, experimentName, \"params.json\")\n",
    "\n",
    "# Keep same order as ConfigParserWriter!\n",
    "changes = {\n",
    "#     'phylogeny_loss_epsilon': 0.1\n",
    "}\n",
    "removes = []"
   ]
  },
  {
   "cell_type": "markdown",
   "metadata": {},
   "source": [
    "prepare"
   ]
  },
  {
   "cell_type": "code",
   "execution_count": 12,
   "metadata": {},
   "outputs": [],
   "source": [
    "config_parser = ConfigParser(experimentsPath, dataPath, experimentName)\n",
    "paramsIterator = config_parser.getExperiments()  \n",
    "number_of_experiments = sum(1 for e in paramsIterator)\n",
    "\n",
    "# populate a hash table of all experiments, indexed by trial hash\n",
    "experiments = {}\n",
    "for i, experiment_params in enumerate(config_parser.getExperiments(fixExperiments=False)):\n",
    "    num_of_models = experiment_params[\"numOfTrials\"]\n",
    "    for k in range(num_of_models):\n",
    "        old_trialHash = TrialStatistics.getTrialName(experiment_params, k)\n",
    "        experiment_params_new = {**experiment_params, **changes} \n",
    "        for key in removes:\n",
    "            experiment_params_new.pop(key, None)\n",
    "        experiment_params_new = config_parser.fixExperimentParams(experiment_params_new)\n",
    "        new_trialHash = TrialStatistics.getTrialName(experiment_params_new, k)\n",
    "        experiments[old_trialHash] = {\"trialHash\": new_trialHash}"
   ]
  },
  {
   "cell_type": "markdown",
   "metadata": {},
   "source": [
    "Fix models"
   ]
  },
  {
   "cell_type": "code",
   "execution_count": 13,
   "metadata": {},
   "outputs": [
    {
     "data": {
      "application/vnd.jupyter.widget-view+json": {
       "model_id": "d7c2f2e8d9f8481da0dd6c21199e0a12",
       "version_major": 2,
       "version_minor": 0
      },
      "text/plain": [
       "HBox(children=(FloatProgress(value=0.0, description='experiment', max=3.0, style=ProgressStyle(description_wid…"
      ]
     },
     "metadata": {},
     "output_type": "display_data"
    },
    {
     "data": {
      "application/vnd.jupyter.widget-view+json": {
       "model_id": "3a7f549632ec45b580d810b6970b0ec5",
       "version_major": 2,
       "version_minor": 0
      },
      "text/plain": [
       "HBox(children=(FloatProgress(value=0.0, description='trial', max=5.0, style=ProgressStyle(description_width='i…"
      ]
     },
     "metadata": {},
     "output_type": "display_data"
    },
    {
     "name": "stdout",
     "output_type": "stream",
     "text": [
      "model /raid/elhamod/Fish/experiments/biology_paper_easy_curated4_Medium/models/7c5553ab57de8ea7c22abee6033c9746c5cd2fa3b2c1ea5fcd75adbe -> /raid/elhamod/Fish/experiments/biology_paper_easy_curated4_Medium/models/d6b728c67cf15c261122c534ee142dbccfce95a394b4679303b9cfb9 updated\n",
      "json /raid/elhamod/Fish/experiments/biology_paper_easy_curated4_Medium/models/d6b728c67cf15c261122c534ee142dbccfce95a394b4679303b9cfb9/params.json updated\n",
      "model /raid/elhamod/Fish/experiments/biology_paper_easy_curated4_Medium/models/64bb30916efa6ebe01c82214e8c0686711fbafdce47aa7ff1826344d -> /raid/elhamod/Fish/experiments/biology_paper_easy_curated4_Medium/models/79bcc4112384531e0147cc1f83992ae21f01f11ce914df9cfb03d053 updated\n",
      "json /raid/elhamod/Fish/experiments/biology_paper_easy_curated4_Medium/models/79bcc4112384531e0147cc1f83992ae21f01f11ce914df9cfb03d053/params.json updated\n",
      "model /raid/elhamod/Fish/experiments/biology_paper_easy_curated4_Medium/models/df4b302f8ee7c3aa1e6f6b6f32e6ae3c0808ebba771ee14bda4198b9 -> /raid/elhamod/Fish/experiments/biology_paper_easy_curated4_Medium/models/4b3adc6ba20cf82bfb32598cbbc9b38a949b2a091c2f30695d37a643 updated\n",
      "json /raid/elhamod/Fish/experiments/biology_paper_easy_curated4_Medium/models/4b3adc6ba20cf82bfb32598cbbc9b38a949b2a091c2f30695d37a643/params.json updated\n",
      "model /raid/elhamod/Fish/experiments/biology_paper_easy_curated4_Medium/models/40fdfa8fd2c78dafeec40130a327ab068161a27c8329432bb5842e7c -> /raid/elhamod/Fish/experiments/biology_paper_easy_curated4_Medium/models/1d127f74e8e87278926fe6b36911aac034defcaef290dba3af8cf34a updated\n",
      "json /raid/elhamod/Fish/experiments/biology_paper_easy_curated4_Medium/models/1d127f74e8e87278926fe6b36911aac034defcaef290dba3af8cf34a/params.json updated\n",
      "model /raid/elhamod/Fish/experiments/biology_paper_easy_curated4_Medium/models/75631a44387105fd97f64d9c1d9e6e28d6b5d7085ee41803179829df -> /raid/elhamod/Fish/experiments/biology_paper_easy_curated4_Medium/models/d4584f3bba4573142682f1ff9d570e848a5b637391e4e1e6be606330 updated\n",
      "json /raid/elhamod/Fish/experiments/biology_paper_easy_curated4_Medium/models/d4584f3bba4573142682f1ff9d570e848a5b637391e4e1e6be606330/params.json updated\n",
      "\n"
     ]
    },
    {
     "data": {
      "application/vnd.jupyter.widget-view+json": {
       "model_id": "cce9347781b24af6905b51099a4fab76",
       "version_major": 2,
       "version_minor": 0
      },
      "text/plain": [
       "HBox(children=(FloatProgress(value=0.0, description='trial', max=5.0, style=ProgressStyle(description_width='i…"
      ]
     },
     "metadata": {},
     "output_type": "display_data"
    },
    {
     "name": "stdout",
     "output_type": "stream",
     "text": [
      "model /raid/elhamod/Fish/experiments/biology_paper_easy_curated4_Medium/models/ee13228d7c6eb1b2324bf3902a802a8df89df574c347e208bbb436b9 -> /raid/elhamod/Fish/experiments/biology_paper_easy_curated4_Medium/models/7af075f42b4a4e0d5746b064c4f67112c2b4930be1fe6d1fa817d629 updated\n",
      "json /raid/elhamod/Fish/experiments/biology_paper_easy_curated4_Medium/models/7af075f42b4a4e0d5746b064c4f67112c2b4930be1fe6d1fa817d629/params.json updated\n",
      "model /raid/elhamod/Fish/experiments/biology_paper_easy_curated4_Medium/models/ad2b4f04e479fbc990cfb07b5127bd9c259a93f2f04b60c38b89389e -> /raid/elhamod/Fish/experiments/biology_paper_easy_curated4_Medium/models/a547a007ad97adc3ae61fbc2131211a41888c33e87cdab6a3d679453 updated\n",
      "json /raid/elhamod/Fish/experiments/biology_paper_easy_curated4_Medium/models/a547a007ad97adc3ae61fbc2131211a41888c33e87cdab6a3d679453/params.json updated\n",
      "model /raid/elhamod/Fish/experiments/biology_paper_easy_curated4_Medium/models/73a5ac62c833bd6dfa45a55f3d5d75e638b15fc67191685e1aac20aa -> /raid/elhamod/Fish/experiments/biology_paper_easy_curated4_Medium/models/ea3decc0cd7966e20071b7d4dbe18c0127b87349176820a695872f85 updated\n",
      "json /raid/elhamod/Fish/experiments/biology_paper_easy_curated4_Medium/models/ea3decc0cd7966e20071b7d4dbe18c0127b87349176820a695872f85/params.json updated\n",
      "model /raid/elhamod/Fish/experiments/biology_paper_easy_curated4_Medium/models/496e2a040ab9601815f57f6e09270ff060ca6ef37d68c73e5ff76b7b -> /raid/elhamod/Fish/experiments/biology_paper_easy_curated4_Medium/models/686b67a38223f6e800a02d91caccd709a10ff32cba74b5da84960549 updated\n",
      "json /raid/elhamod/Fish/experiments/biology_paper_easy_curated4_Medium/models/686b67a38223f6e800a02d91caccd709a10ff32cba74b5da84960549/params.json updated\n",
      "model /raid/elhamod/Fish/experiments/biology_paper_easy_curated4_Medium/models/b9902a0045dae3c0bbea122214a5d214d5fa1b3d4c8fdb87bfbf0bc4 -> /raid/elhamod/Fish/experiments/biology_paper_easy_curated4_Medium/models/f3d5cec14b00462b24774a6745aa611879bb3df6858a56e121495f44 updated\n",
      "json /raid/elhamod/Fish/experiments/biology_paper_easy_curated4_Medium/models/f3d5cec14b00462b24774a6745aa611879bb3df6858a56e121495f44/params.json updated\n",
      "\n"
     ]
    },
    {
     "data": {
      "application/vnd.jupyter.widget-view+json": {
       "model_id": "4322a896c13f452b812f5ded973d2dce",
       "version_major": 2,
       "version_minor": 0
      },
      "text/plain": [
       "HBox(children=(FloatProgress(value=0.0, description='trial', max=5.0, style=ProgressStyle(description_width='i…"
      ]
     },
     "metadata": {},
     "output_type": "display_data"
    },
    {
     "name": "stdout",
     "output_type": "stream",
     "text": [
      "model /raid/elhamod/Fish/experiments/biology_paper_easy_curated4_Medium/models/582ad659eb796c3591ac9b51cd98c4e54884c95d6044feaf3c4eaec0 -> /raid/elhamod/Fish/experiments/biology_paper_easy_curated4_Medium/models/05e7e7e8f6618fcf928dd945cfb46a5d91769a0a1214a7c06ea916f4 updated\n",
      "json /raid/elhamod/Fish/experiments/biology_paper_easy_curated4_Medium/models/05e7e7e8f6618fcf928dd945cfb46a5d91769a0a1214a7c06ea916f4/params.json updated\n",
      "model /raid/elhamod/Fish/experiments/biology_paper_easy_curated4_Medium/models/d54709aa61527b46121b14f871475b4bd7cc2a5134eef6545658355e -> /raid/elhamod/Fish/experiments/biology_paper_easy_curated4_Medium/models/cfaaca319511aca663f80ed02d55af8493189b82f764b4c7dde5207b updated\n",
      "json /raid/elhamod/Fish/experiments/biology_paper_easy_curated4_Medium/models/cfaaca319511aca663f80ed02d55af8493189b82f764b4c7dde5207b/params.json updated\n",
      "model /raid/elhamod/Fish/experiments/biology_paper_easy_curated4_Medium/models/ac8ee2c7f2e29316aacc7a62f60d9515d997b62912e9fa666e53bf64 -> /raid/elhamod/Fish/experiments/biology_paper_easy_curated4_Medium/models/aee4331230ba31fa78d3b7f586a66c68d8b89ffc0e80e6c69130dbf7 updated\n",
      "json /raid/elhamod/Fish/experiments/biology_paper_easy_curated4_Medium/models/aee4331230ba31fa78d3b7f586a66c68d8b89ffc0e80e6c69130dbf7/params.json updated\n",
      "model /raid/elhamod/Fish/experiments/biology_paper_easy_curated4_Medium/models/319c12a73e653fcc25f6dba750c447a5b127fc1ffdbe8e1696a951a9 -> /raid/elhamod/Fish/experiments/biology_paper_easy_curated4_Medium/models/8c131491ebd3f985c7ac64b88007743f6e1fd67c3a7919df2d74d5cb updated\n",
      "json /raid/elhamod/Fish/experiments/biology_paper_easy_curated4_Medium/models/8c131491ebd3f985c7ac64b88007743f6e1fd67c3a7919df2d74d5cb/params.json updated\n",
      "model /raid/elhamod/Fish/experiments/biology_paper_easy_curated4_Medium/models/c3d9096b16107f1f5110d6f7358a5c7f9ac1fd6e223cd38c0d4b0b64 -> /raid/elhamod/Fish/experiments/biology_paper_easy_curated4_Medium/models/135a784f7d94bf2799662a7b9f1ae59fe85503c2772f64330760c78f updated\n",
      "json /raid/elhamod/Fish/experiments/biology_paper_easy_curated4_Medium/models/135a784f7d94bf2799662a7b9f1ae59fe85503c2772f64330760c78f/params.json updated\n",
      "\n",
      "\n"
     ]
    }
   ],
   "source": [
    "with tqdm(total=number_of_experiments, desc=\"experiment\") as bar:\n",
    "    for i, experiment_params in enumerate(config_parser.getExperiments(fixExperiments=False)):\n",
    "        experiment_params_new = {**experiment_params, **changes} \n",
    "        for key in removes:\n",
    "            experiment_params_new.pop(key, None)\n",
    "        experiment_params_new = config_parser.fixExperimentParams(experiment_params_new)\n",
    "\n",
    "        num_of_models = experiment_params[\"numOfTrials\"]\n",
    "        with tqdm(total=num_of_models, desc=\"trial\") as bar2:\n",
    "            for k in range(num_of_models):\n",
    "            \n",
    "                # Fix model names\n",
    "                old_model_name = getModelName(experiment_params, k)\n",
    "                old_modelPath = os.path.join(experimentsPath, experimentName, old_model_name)\n",
    "                new_model_name = getModelName(experiment_params_new, k)\n",
    "                new_modelPath = os.path.join(experimentsPath, experimentName, new_model_name)\n",
    "\n",
    "                try:\n",
    "                    if os.path.exists(old_modelPath):\n",
    "                        os.rename(old_modelPath, new_modelPath)\n",
    "                        print(\"model\", old_modelPath, '->', new_modelPath, \"updated\")\n",
    "\n",
    "                        j = json.dumps(experiment_params_new)\n",
    "                        json_fileName = os.path.join(new_modelPath, 'params.json')\n",
    "                        f = open(json_fileName,\"w\")        \n",
    "                        f.write(j)\n",
    "                        f.close()  \n",
    "                        print(\"json\", json_fileName, \"updated\")\n",
    "                    else:\n",
    "                        raise\n",
    "                    \n",
    "                except:\n",
    "                    print(\"model\", old_model_name, \"could not be fixed to\", new_model_name)\n",
    "                    pass  \n",
    "                \n",
    "                \n",
    "\n",
    "                bar2.update()\n",
    "                \n",
    "                experiments[TrialStatistics.getTrialName(experiment_params, k)]['modelName'] = new_model_name\n",
    "\n",
    "        bar.update()"
   ]
  },
  {
   "cell_type": "markdown",
   "metadata": {},
   "source": [
    "Fix results directory"
   ]
  },
  {
   "cell_type": "code",
   "execution_count": 14,
   "metadata": {},
   "outputs": [
    {
     "data": {
      "application/vnd.jupyter.widget-view+json": {
       "model_id": "6bc1ce6aa13049b4a4b26bc9b81576ee",
       "version_major": 2,
       "version_minor": 0
      },
      "text/plain": [
       "HBox(children=(FloatProgress(value=0.0, description='experiment', max=3.0, style=ProgressStyle(description_wid…"
      ]
     },
     "metadata": {},
     "output_type": "display_data"
    },
    {
     "name": "stdout",
     "output_type": "stream",
     "text": [
      "result /raid/elhamod/Fish/experiments/biology_paper_easy_curated4_Medium/results/e038ec76e27af102775f1c996ec1656c3a1a3da7ee222933c83f3cf8 -> /raid/elhamod/Fish/experiments/biology_paper_easy_curated4_Medium/results/d02451d2393fdbaa09031451d55942faf5fabde7e11df5b89dd52c9e updated\n",
      "json /raid/elhamod/Fish/experiments/biology_paper_easy_curated4_Medium/results/d02451d2393fdbaa09031451d55942faf5fabde7e11df5b89dd52c9e/params.json updated\n",
      "result /raid/elhamod/Fish/experiments/biology_paper_easy_curated4_Medium/results/82953d4489fca9af0efa6a8e3a815172a24a6f97969b70ef0902b878 -> /raid/elhamod/Fish/experiments/biology_paper_easy_curated4_Medium/results/81ba7f96e6a39fece451b53d234c43c77199398b0f10f423121d66b4 updated\n",
      "json /raid/elhamod/Fish/experiments/biology_paper_easy_curated4_Medium/results/81ba7f96e6a39fece451b53d234c43c77199398b0f10f423121d66b4/params.json updated\n",
      "result /raid/elhamod/Fish/experiments/biology_paper_easy_curated4_Medium/results/a5ebbe208fd77f10b532d2ee86a00700eb5a14624204a1b5a1e2aa1f -> /raid/elhamod/Fish/experiments/biology_paper_easy_curated4_Medium/results/d384d76693425e9b3890ebde63703cb09354086bd3050b9565abc209 updated\n",
      "json /raid/elhamod/Fish/experiments/biology_paper_easy_curated4_Medium/results/d384d76693425e9b3890ebde63703cb09354086bd3050b9565abc209/params.json updated\n",
      "\n"
     ]
    }
   ],
   "source": [
    "with tqdm(total=number_of_experiments, desc=\"experiment\") as bar:\n",
    "    for i, experiment_params in enumerate(config_parser.getExperiments(fixExperiments=False)):\n",
    "        experiment_params_new = {**experiment_params, **changes} \n",
    "        for key in removes:\n",
    "            experiment_params_new.pop(key, None)\n",
    "        experiment_params_new = config_parser.fixExperimentParams(experiment_params_new)\n",
    "\n",
    "        old_experimentHash = TrialStatistics.getTrialName(experiment_params)\n",
    "        old_experimentPath = os.path.join(experimentsPath, experimentName, \"results\", old_experimentHash)\n",
    "        new_experimentHash = TrialStatistics.getTrialName(experiment_params_new)\n",
    "        new_experimentPath = os.path.join(experimentsPath, experimentName, \"results\", new_experimentHash)\n",
    "        \n",
    "        try:\n",
    "            if os.path.exists(old_experimentPath):\n",
    "\n",
    "                os.rename(old_experimentPath, new_experimentPath)\n",
    "                print(\"result\", old_experimentPath, '->', new_experimentPath, \"updated\")\n",
    "\n",
    "                j = json.dumps(experiment_params_new)\n",
    "                json_fileName = os.path.join(new_experimentPath, 'params.json')\n",
    "                f = open(json_fileName,\"w\")        \n",
    "                f.write(j)\n",
    "                f.close()  \n",
    "                print(\"json\", json_fileName, \"updated\")\n",
    "            else:\n",
    "                raise\n",
    "                \n",
    "        except:\n",
    "            print(\"result\", old_experimentHash, \"could not be fixed to\",new_experimentHash)\n",
    "            pass \n",
    "        \n",
    "        experiments[TrialStatistics.getTrialName(experiment_params, 0)]['experimentHash'] = new_experimentHash\n",
    "        \n",
    "        bar.update()"
   ]
  },
  {
   "cell_type": "markdown",
   "metadata": {},
   "source": [
    "Fix experiments file"
   ]
  },
  {
   "cell_type": "code",
   "execution_count": 15,
   "metadata": {},
   "outputs": [
    {
     "data": {
      "application/vnd.jupyter.widget-view+json": {
       "model_id": "f2c2de2dca1546178db4cbfe306a3fda",
       "version_major": 2,
       "version_minor": 0
      },
      "text/plain": [
       "HBox(children=(FloatProgress(value=0.0, description='experiment', max=3.0, style=ProgressStyle(description_wid…"
      ]
     },
     "metadata": {},
     "output_type": "display_data"
    },
    {
     "data": {
      "application/vnd.jupyter.widget-view+json": {
       "model_id": "7a0ca4b8d79b42b69ff36684f33707f3",
       "version_major": 2,
       "version_minor": 0
      },
      "text/plain": [
       "HBox(children=(FloatProgress(value=0.0, description='trial', max=5.0, style=ProgressStyle(description_width='i…"
      ]
     },
     "metadata": {},
     "output_type": "display_data"
    },
    {
     "name": "stdout",
     "output_type": "stream",
     "text": [
      "\n"
     ]
    },
    {
     "name": "stderr",
     "output_type": "stream",
     "text": [
      "/home/elhamod/melhamodenv3/lib/python3.6/site-packages/ipykernel_launcher.py:23: UserWarning: Boolean Series key will be reindexed to match DataFrame index.\n"
     ]
    },
    {
     "data": {
      "application/vnd.jupyter.widget-view+json": {
       "model_id": "a6aef6eb75fe4a9db24067d920438a1b",
       "version_major": 2,
       "version_minor": 0
      },
      "text/plain": [
       "HBox(children=(FloatProgress(value=0.0, description='trial', max=5.0, style=ProgressStyle(description_width='i…"
      ]
     },
     "metadata": {},
     "output_type": "display_data"
    },
    {
     "name": "stdout",
     "output_type": "stream",
     "text": [
      "\n"
     ]
    },
    {
     "data": {
      "application/vnd.jupyter.widget-view+json": {
       "model_id": "e25645c73ae943aa8f877c586779c838",
       "version_major": 2,
       "version_minor": 0
      },
      "text/plain": [
       "HBox(children=(FloatProgress(value=0.0, description='trial', max=5.0, style=ProgressStyle(description_width='i…"
      ]
     },
     "metadata": {},
     "output_type": "display_data"
    },
    {
     "name": "stdout",
     "output_type": "stream",
     "text": [
      "\n",
      "\n"
     ]
    }
   ],
   "source": [
    "# open experiments.csv file\n",
    "experimentsFileNameAndPath=os.path.join(experimentsPath, \"experiments.csv\")\n",
    "experiments_file= pd.read_csv(experimentsFileNameAndPath)\n",
    "\n",
    "# For all experiments\n",
    "with tqdm(total=number_of_experiments, desc=\"experiment\") as bar:\n",
    "    for i, experiment_params in enumerate(config_parser.getExperiments(fixExperiments=False)):\n",
    "        \n",
    "        numOfTrials = experiment_params[\"numOfTrials\"]\n",
    "        trialHash_0 = TrialStatistics.getTrialName(experiment_params, 0) # used for keys who don't change for different trials\n",
    "        for key in removes:\n",
    "            experiment_params_new.pop(key, None)\n",
    "        experiment_params_new = {**experiment_params, **changes} \n",
    "        experiment_params_new = config_parser.fixExperimentParams(experiment_params_new)\n",
    "        \n",
    "        # For all trials\n",
    "        with tqdm(total=num_of_models, desc=\"trial\") as bar2:\n",
    "            for j in range(numOfTrials):\n",
    "                \n",
    "                trialHash = TrialStatistics.getTrialName(experiment_params, j)\n",
    "                try:\n",
    "                    # If old entry doesn't exist, nothing to update\n",
    "                    record_exists = not (experiments_file[experiments_file['trialHash'] == trialHash][experiments_file['experimentName'] == experimentName]).empty\n",
    "                    if record_exists:\n",
    "                        \n",
    "                        # drop old row and caluclate new row\n",
    "                        new_trialHash = experiments[trialHash][\"trialHash\"]\n",
    "                        experiments_file.drop(experiments_file[experiments_file['trialHash'] == trialHash][experiments_file['experimentName'] == experimentName].index, inplace = True) \n",
    "                        row_information = {\n",
    "                            'experimentName': experimentName,\n",
    "                            'modelName': experiments[trialHash][\"modelName\"],\n",
    "                            'datasetName': experiments[trialHash_0][\"datasetName\"],\n",
    "                            'experimentHash': experiments[trialHash_0][\"experimentHash\"],\n",
    "                            'trialHash': new_trialHash\n",
    "                        }\n",
    "                        row_information = {**row_information, **experiment_params_new} \n",
    "\n",
    "                        # error handling to avoid duplicates\n",
    "                        record_exists = not (experiments_file[experiments_file['trialHash'] == new_trialHash][experiments_file['experimentName'] == experimentName]).empty\n",
    "                        if record_exists:\n",
    "                            experiments_file.drop(experiments_file[experiments_file['trialHash'] == new_trialHash][experiments_file['experimentName'] == experimentName].index, inplace = True) \n",
    "\n",
    "                        # update with new entry    \n",
    "                        experiments_file = experiments_file.append(pd.DataFrame(row_information, index=[0]), ignore_index = True)\n",
    "                        print(\"trialHash\", trialHash, \"->\", new_trialHash, \"updated\")\n",
    "                except:\n",
    "                    print(\"trialHash\", trialHash, \"could not be updated!\")\n",
    "                    pass\n",
    "                bar2.update()\n",
    "        bar.update()\n",
    "\n",
    "# resave file\n",
    "experiments_file.to_csv(experimentsFileNameAndPath, header=True, index=False)"
   ]
  },
  {
   "cell_type": "markdown",
   "metadata": {},
   "source": [
    "Fix params file"
   ]
  },
  {
   "cell_type": "code",
   "execution_count": 16,
   "metadata": {},
   "outputs": [
    {
     "data": {
      "application/vnd.jupyter.widget-view+json": {
       "model_id": "0f8f8b5d99b94fcdb2bb65a14fb16d40",
       "version_major": 2,
       "version_minor": 0
      },
      "text/plain": [
       "HBox(children=(FloatProgress(value=0.0, description='experiment', max=3.0, style=ProgressStyle(description_wid…"
      ]
     },
     "metadata": {},
     "output_type": "display_data"
    },
    {
     "name": "stdout",
     "output_type": "stream",
     "text": [
      "{'image_path': 'Curated4/Medium', 'suffix': 'curated_30_50', 'img_res': 448, 'augmented': True, 'batchSize': 64, 'learning_rate': 0.0001, 'numOfTrials': 5, 'fc_layers': 1, 'modelType': 'HGNN_add', 'lambda': 0.01, 'unsupervisedOnTest': False, 'tl_model': 'ResNet18', 'link_layer': 'avgpool', 'adaptive_smoothing': True, 'adaptive_lambda': 0.01, 'adaptive_alpha': 0.9, 'noSpeciesBackprop': False}\n",
      "{'image_path': 'Curated4/Medium', 'suffix': 'curated_30_50', 'img_res': 448, 'augmented': True, 'batchSize': 64, 'learning_rate': 0.0001, 'numOfTrials': 5, 'fc_layers': 1, 'modelType': 'BB', 'lambda': 0.01, 'unsupervisedOnTest': False, 'tl_model': 'ResNet18', 'link_layer': 'avgpool', 'adaptive_smoothing': True, 'adaptive_lambda': 0.01, 'adaptive_alpha': 0.9, 'noSpeciesBackprop': False}\n",
      "{'image_path': 'Curated4/Medium', 'suffix': 'curated_30_50', 'img_res': 448, 'augmented': True, 'batchSize': 64, 'learning_rate': 0.0001, 'numOfTrials': 5, 'fc_layers': 1, 'modelType': 'DSN', 'lambda': 0.01, 'unsupervisedOnTest': False, 'tl_model': 'ResNet18', 'link_layer': 'avgpool', 'adaptive_smoothing': True, 'adaptive_lambda': 0.01, 'adaptive_alpha': 0.9, 'noSpeciesBackprop': False}\n",
      "\n",
      "json /raid/elhamod/Fish/experiments/biology_paper_easy_curated4_Medium/params.json updated\n"
     ]
    }
   ],
   "source": [
    "experiment_list = []\n",
    "with tqdm(total=number_of_experiments, desc=\"experiment\") as bar:\n",
    "    for i, experiment_params in enumerate(config_parser.getExperiments(fixExperiments=False)):\n",
    "        \n",
    "        experiment_params_new = {**experiment_params, **changes} \n",
    "        for key in removes:\n",
    "            experiment_params_new.pop(key, None)\n",
    "        print(experiment_params_new)\n",
    "        experiment_list.append(experiment_params_new)\n",
    "        bar.update()\n",
    "\n",
    "\n",
    "j = json.dumps({\"experimentList\": experiment_list})\n",
    "f = open(old_params_file,\"w\")        \n",
    "f.write(j)\n",
    "f.close()  \n",
    "print(\"json\", old_params_file, \"updated\")"
   ]
  },
  {
   "cell_type": "code",
   "execution_count": null,
   "metadata": {},
   "outputs": [],
   "source": []
  }
 ],
 "metadata": {
  "kernelspec": {
   "display_name": "Python 3",
   "language": "python",
   "name": "python3"
  },
  "language_info": {
   "codemirror_mode": {
    "name": "ipython",
    "version": 3
   },
   "file_extension": ".py",
   "mimetype": "text/x-python",
   "name": "python",
   "nbconvert_exporter": "python",
   "pygments_lexer": "ipython3",
   "version": "3.6.9"
  }
 },
 "nbformat": 4,
 "nbformat_minor": 4
}
