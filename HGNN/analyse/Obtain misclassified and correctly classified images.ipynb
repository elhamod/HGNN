{
 "cells": [
  {
   "cell_type": "markdown",
   "metadata": {},
   "source": [
    "imports"
   ]
  },
  {
   "cell_type": "code",
   "execution_count": 1,
   "metadata": {},
   "outputs": [],
   "source": [
    "import torch\n",
    "import os\n",
    "import pandas as pd\n",
    "import numpy as np\n",
    "import matplotlib.pyplot as plt\n",
    "from matplotlib.backends.backend_pdf import PdfPages\n",
    "from tqdm.notebook import tqdm as tqdm\n",
    "from PIL import Image, ImageDraw, ImageFont\n",
    "import math\n",
    "\n",
    "from HGNN.train.configParser import ConfigParser, getExperimentParamsAndRecord\n",
    "from HGNN.train import CNN, dataLoader"
   ]
  },
  {
   "cell_type": "markdown",
   "metadata": {},
   "source": [
    "parameters"
   ]
  },
  {
   "cell_type": "code",
   "execution_count": 2,
   "metadata": {},
   "outputs": [],
   "source": [
    "experimentsPath=\"/raid/elhamod/Fish/experiments/\"\n",
    "dataPath=\"/raid/elhamod/Fish/\"\n",
    "experimentName=\"biology_paper_medium_curated3_50_30\"\n",
    "trial_hash=\"fc3f98edf24b6b374e87720d07c377ba5d995dedb35728ab8c377d62\"\n",
    "\n",
    "cuda=6\n",
    "\n",
    "numOfRows=None\n",
    "plotCorrectlyClassified=True"
   ]
  },
  {
   "cell_type": "markdown",
   "metadata": {},
   "source": [
    "cuda"
   ]
  },
  {
   "cell_type": "code",
   "execution_count": 3,
   "metadata": {},
   "outputs": [
    {
     "name": "stdout",
     "output_type": "stream",
     "text": [
      "using cuda 6\n"
     ]
    }
   ],
   "source": [
    "# set cuda\n",
    "if torch.cuda.is_available():\n",
    "    torch.cuda.set_device(cuda)\n",
    "    print(\"using cuda\", cuda)"
   ]
  },
  {
   "cell_type": "markdown",
   "metadata": {},
   "source": [
    "Get dataset"
   ]
  },
  {
   "cell_type": "code",
   "execution_count": 4,
   "metadata": {},
   "outputs": [
    {
     "name": "stdout",
     "output_type": "stream",
     "text": [
      "{'image_path': 'Curated3/Medium', 'suffix': 'curated_30_50', 'img_res': 448, 'augmented': True, 'batchSize': 64, 'learning_rate': 0.0001, 'numOfTrials': 5, 'fc_layers': 1, 'modelType': 'BB', 'lambda': 0.01, 'unsupervisedOnTest': False, 'tl_model': 'ResNet18', 'link_layer': 'avgpool', 'adaptive_smoothing': True, 'adaptive_lambda': 0.01, 'adaptive_alpha': 0.9}\n",
      "Creating datasets...\n",
      "Creating datasets... Done.\n"
     ]
    }
   ],
   "source": [
    "experimentPathAndName = os.path.join(experimentsPath, experimentName)\n",
    "experiment_params, experimentRecord = getExperimentParamsAndRecord(experimentsPath, experimentName, trial_hash)\n",
    "resolution = experiment_params['img_res']\n",
    "print(experiment_params)\n",
    "\n",
    "config_parser = ConfigParser(experimentsPath, dataPath, experimentName)\n",
    "datasetManager = dataLoader.datasetManager(experimentPathAndName, dataPath, True)\n",
    "datasetManager.updateParams(config_parser.fixPaths({**experiment_params,**{'augmented': False}}))\n",
    "train_dataset, _, test_dataset = datasetManager.getDataset()\n",
    "train_dataset.toggle_image_loading(augmentation=False, normalization=train_dataset.normalization_enabled) # Needed so we always get the same prediction accuracy \n",
    "fineList = train_dataset.csv_processor.getFineList()\n",
    "coarseList = train_dataset.csv_processor.getCoarseList()\n",
    "\n",
    "# get a test loader without randomization\n",
    "test_loader = torch.utils.data.DataLoader(test_dataset, batch_size=1)\n",
    "train_loader = torch.utils.data.DataLoader(train_dataset, batch_size=1)"
   ]
  },
  {
   "cell_type": "markdown",
   "metadata": {},
   "source": [
    "Get untrained model"
   ]
  },
  {
   "cell_type": "code",
   "execution_count": 5,
   "metadata": {},
   "outputs": [],
   "source": [
    "architecture = {\n",
    "    \"fine\": len(fineList),\n",
    "    \"coarse\" : len(coarseList)\n",
    "}\n",
    "model = CNN.create_model(architecture, experiment_params, cuda)\n",
    "\n",
    "# get the model and the parameters\n",
    "modelName = experimentRecord.iloc[0][\"modelName\"]\n",
    "trialName = os.path.join(experimentPathAndName, modelName)\n",
    "_ = CNN.loadModel(model, trialName, cuda)"
   ]
  },
  {
   "cell_type": "markdown",
   "metadata": {},
   "source": [
    "sort through predictions"
   ]
  },
  {
   "cell_type": "code",
   "execution_count": 6,
   "metadata": {
    "scrolled": false
   },
   "outputs": [
    {
     "data": {
      "application/vnd.jupyter.widget-view+json": {
       "model_id": "af432117497a407787c5dd0f986aa6da",
       "version_major": 2,
       "version_minor": 0
      },
      "text/plain": [
       "HBox(children=(FloatProgress(value=0.0, max=977.0), HTML(value='')))"
      ]
     },
     "metadata": {},
     "output_type": "display_data"
    },
    {
     "name": "stdout",
     "output_type": "stream",
     "text": [
      "\n"
     ]
    }
   ],
   "source": [
    "df_misclassified = pd.DataFrame(columns=['file name', 'true label', 'probability of true label', 'predicted label'])\n",
    "df_correctlyclassified_columns = ['file name', 'true label', 'probability of true label']\n",
    "df_correctlyclassified = pd.DataFrame(columns=df_correctlyclassified_columns)\n",
    "\n",
    "# get probability of correct prediction and true label\n",
    "predProblist, lbllist = CNN.getLoaderPredictionProbabilities(test_loader, model, experiment_params, device=cuda)\n",
    "_, predlist = torch.max(predProblist, 1)\n",
    "lbllist = lbllist.reshape(lbllist.shape[0], -1)\n",
    "# True label\n",
    "correct_predProblist = predProblist.gather(1, lbllist)\n",
    "correct_predProblist = correct_predProblist.reshape(1, -1)\n",
    "correct_predProblist = correct_predProblist[0]\n",
    "# Predicted label\n",
    "predicted_predProblist = predProblist.gather(1, predlist.unsqueeze(0).T)\n",
    "predicted_predProblist = predicted_predProblist.reshape(1, -1)\n",
    "predicted_predProblist = predicted_predProblist[0]\n",
    "\n",
    "for i, lbl in enumerate(tqdm(lbllist)):\n",
    "    prd = predlist[i]\n",
    "    correctProb = correct_predProblist[i]\n",
    "    prdProb = predicted_predProblist[i]\n",
    "    fileName = test_dataset[i]['fileName']\n",
    "    fileNameFull = test_dataset[i]['fileNameFull']\n",
    "    \n",
    "    if torch.cuda.is_available():\n",
    "        lbl = lbl.cpu()\n",
    "        prd = prd.cpu()\n",
    "        prdProb = prdProb.cpu()\n",
    "        correctProb = correctProb.cpu()\n",
    "    \n",
    "    if(lbl != prd):\n",
    "        row = {'file name' : fileName ,\n",
    "           'full file name' : fileNameFull ,\n",
    "           'true label' : int(lbl.numpy()), \n",
    "           'probability of true label': float(correctProb.numpy()),\n",
    "           'probability of predicted label': float(prdProb.numpy()),\n",
    "           'predicted label' : int(prd.numpy())}\n",
    "        df_misclassified = df_misclassified.append(row, ignore_index=True)\n",
    "    else:\n",
    "        row = {'file name' : fileName ,\n",
    "           'full file name' : fileNameFull ,\n",
    "           'true label' : int(lbl.numpy()), \n",
    "           'probability of true label': float(correctProb.numpy())}\n",
    "        df_correctlyclassified = df_correctlyclassified.append(row, ignore_index=True)"
   ]
  },
  {
   "cell_type": "code",
   "execution_count": 7,
   "metadata": {},
   "outputs": [],
   "source": [
    "test_predProblist = predProblist\n",
    "train_predProblist, _ = CNN.getLoaderPredictionProbabilities(train_loader, model, experiment_params, device=cuda)"
   ]
  },
  {
   "cell_type": "code",
   "execution_count": 8,
   "metadata": {},
   "outputs": [],
   "source": [
    "df_misclassified = df_misclassified.sort_values(by=[ 'true label', 'probability of true label'])\n",
    "df_correctlyclassified = df_correctlyclassified.sort_values(by=['true label', 'probability of true label'])"
   ]
  },
  {
   "cell_type": "markdown",
   "metadata": {},
   "source": [
    "define function to plot top n of a category"
   ]
  },
  {
   "cell_type": "code",
   "execution_count": 9,
   "metadata": {},
   "outputs": [
    {
     "data": {
      "application/vnd.jupyter.widget-view+json": {
       "model_id": "499989b299514e7f9d47ac84e731f0a0",
       "version_major": 2,
       "version_minor": 0
      },
      "text/plain": [
       "HBox(children=(FloatProgress(value=0.0, description='Getting sub-indices', max=3124.0, style=ProgressStyle(des…"
      ]
     },
     "metadata": {},
     "output_type": "display_data"
    },
    {
     "name": "stdout",
     "output_type": "stream",
     "text": [
      "\n"
     ]
    }
   ],
   "source": [
    "# Create indices per label\n",
    "class_training_indices_dict = {}\n",
    "indx=0\n",
    "for batch in tqdm(train_loader, desc=\"Getting sub-indices\"):\n",
    "    lbl = batch['fine'].item()\n",
    "    if lbl not in class_training_indices_dict.keys():\n",
    "        class_training_indices_dict[lbl] = [indx]\n",
    "    else:\n",
    "        class_training_indices_dict[lbl].append(indx)\n",
    "    indx = indx + 1"
   ]
  },
  {
   "cell_type": "code",
   "execution_count": 10,
   "metadata": {},
   "outputs": [],
   "source": [
    "# Given a data frame of specimen, prints a pdf of a grid of those examples with information about them\n",
    "# showPrediction: Should only used to show misclassifications\n",
    "# showClosestClassTrainingExample: Should only used to show misclassifications\n",
    "def plot_top_n(df, fig_file_name, class_training_indices_dict, ismisclassified, numOfRows=None, perRow=5):\n",
    "    font = ImageFont.truetype(font='DejaVuSans.ttf', size=int(float(resolution) / 30))\n",
    "    \n",
    "    # construct results data frame\n",
    "    h_list = ['image','image','image','image','image',\n",
    "              'closest predicted class example from training set','closest predicted class example from training set','closest predicted class example from training set',]\n",
    "    h2_list = ['file name','true label','probability of true label','predicted label','probability of predicted label',\n",
    "             'file name','true label','cosine similarity',]\n",
    "    \n",
    "#     if show_same_class:\n",
    "    h_list = h_list + ['closest same class example from training set','closest same class example from training set']\n",
    "    h2_list = h2_list + ['file name','cosine similarity']\n",
    "        \n",
    "    df_result = pd.DataFrame(columns = [np.array(h_list), np.array(h2_list)]  )   \n",
    "    \n",
    "    # Disable augmentation\n",
    "    augmentation, normalization, _ = test_dataset.toggle_image_loading(augmentation=False, normalization=test_dataset.normalization_enabled)\n",
    "    \n",
    "    if numOfRows is None:\n",
    "        numOfRows = len(fineList)\n",
    "#         numOfRows = df['true label'].nunique()\n",
    "    topn = df.groupby('true label').head(perRow)\n",
    "                        \n",
    "    rows_per_page = 10\n",
    "    number_of_pages = math.floor(numOfRows/rows_per_page)+1\n",
    "    with tqdm(total=perRow * numOfRows, desc=\"figure\") as bar:\n",
    "        with PdfPages(os.path.join(experimentPathAndName, modelName, fig_file_name+\".pdf\")) as pdf:\n",
    "            for k in range(number_of_pages):\n",
    "                fig, axes = plt.subplots(ncols=perRow, nrows=rows_per_page, figsize=(15, 4*rows_per_page), dpi= 300)\n",
    "\n",
    "                for i, row in enumerate(axes):\n",
    "                    if i >= numOfRows + k*rows_per_page:\n",
    "                        break\n",
    "                        \n",
    "                    topn_lbl = topn[topn['true label']==i+k*rows_per_page]\n",
    "                    for j, ax in enumerate(row):\n",
    "\n",
    "                        if len(topn_lbl.index) > j:\n",
    "\n",
    "                            entry = topn_lbl.iloc[j]\n",
    "                            fileName = entry['file name']\n",
    "                            fileNameFull = entry['full file name']\n",
    "                            trueLabel = entry['true label']\n",
    "                            correct_prob = entry['probability of true label']\n",
    "                            \n",
    "                            if ismisclassified:\n",
    "                                prediction = entry['predicted label']\n",
    "                                predicted_prob = entry['probability of predicted label']\n",
    "                            \n",
    "                            img = Image.open(fileNameFull)\n",
    "                            img = resize(img) \n",
    "                            img_ = rotateImageIfNeeded(img)\n",
    "                            \n",
    "                            if ismisclassified:\n",
    "                                predicted_class_training_indices = class_training_indices_dict[prediction]\n",
    "                                predicted_class_training_dataset = torch.utils.data.Subset(train_dataset, predicted_class_training_indices)\n",
    "\n",
    "                                # get closest training image from dataset training set\n",
    "                                closest, cosine_score = get_closest_example(fileName, test_dataset, test_predProblist, predicted_class_training_dataset, train_predProblist[predicted_class_training_indices, :])\n",
    "                                closest_fileName = closest['fileNameFull']\n",
    "                                closest_species = fineList[closest['fine']]\n",
    "                                img2 = Image.open(closest_fileName)\n",
    "                                img2 = resize(img2) \n",
    "                                draw = ImageDraw.Draw(img2)\n",
    "                                draw.text((0, 0),\"closest prediction\\n\" + closest_species + \"\\n\" + closest['fileName'],(255,0,0), font=font)\n",
    "                            \n",
    "                            \n",
    "                                img2_ = rotateImageIfNeeded(img2)\n",
    "                        \n",
    "                                vis = Image.new('RGB', (img_.width, img_.height + img2_.height))\n",
    "                                vis.paste(img_, (0, 0))\n",
    "                                vis.paste(img2_, (0, img_.height))\n",
    "                                \n",
    "                            else:\n",
    "                                vis=img_\n",
    "                            \n",
    "                            \n",
    "                            # get closest training image from dataset training set of same class\n",
    "                            # get subset of trainign set that corresponds to the true label\n",
    "                            class_training_indices = class_training_indices_dict[trueLabel]\n",
    "                            class_training_dataset = torch.utils.data.Subset(train_dataset, class_training_indices)\n",
    "\n",
    "                            closest_fromClass, cosine_score_fromClass = get_closest_example(fileName, test_dataset, test_predProblist, class_training_dataset, train_predProblist[class_training_indices, :])\n",
    "                            closest_fromClass_fileName = closest_fromClass['fileNameFull']\n",
    "                            closest_fromClass_species = fineList[closest_fromClass['fine']]\n",
    "                            img3 = Image.open(closest_fromClass_fileName)\n",
    "                            img3 = resize(img3) \n",
    "\n",
    "                            draw2 = ImageDraw.Draw(img3)\n",
    "                            draw2.text((0, 0),\"closest same label\\n\" + closest_fromClass['fileName'],(255,0,0), font=font)\n",
    "                            img3_ = rotateImageIfNeeded(img3)\n",
    "\n",
    "                            vis2 = Image.new('RGB', (vis.width, vis.height + img3_.height))\n",
    "                            vis2.paste(vis, (0, 0))\n",
    "                            vis2.paste(img3_, (0, vis.height))\n",
    "\n",
    "                            ax.imshow(vis2)\n",
    "                            txt = f\"{fileName} \\n {fineList[trueLabel]}\"\n",
    "                            if ismisclassified:\n",
    "                                txt = txt + f\" \\n as {fineList[prediction]}\"\n",
    "                            ax.set_title(txt)\n",
    "                            \n",
    "                            # add to dataframe\n",
    "                            row = {\n",
    "                                ('image', 'file name'): fileName,\n",
    "                                ('image', 'true label'): fineList[trueLabel],\n",
    "                                ('image', 'probability of true label'): round(correct_prob, 3),\n",
    "                                ('closest same class example from training set', 'file name'): closest_fromClass_fileName,\n",
    "                                ('closest same class example from training set', 'cosine similarity'): round(cosine_score_fromClass, 3),\n",
    "                            }\n",
    "                            if ismisclassified:\n",
    "                                row = {**row, **{\n",
    "                                    ('image', 'predicted label'): fineList[prediction],\n",
    "                                    ('image', 'probability of predicted label'): round(predicted_prob, 3),\n",
    "                                    ('closest predicted class example from training set', 'file name'): closest_fileName,\n",
    "                                    ('closest predicted class example from training set', 'true label'): closest_species,\n",
    "                                    ('closest predicted class example from training set', 'cosine similarity'): round(cosine_score, 3),\n",
    "                               }}\n",
    "                            df_result = df_result.append(row, ignore_index=True)\n",
    "\n",
    "                        bar.update()\n",
    "\n",
    "                fig.tight_layout(rect=[0, 0.03, 1, 0.95])\n",
    "                pdf.savefig()\n",
    "                df_result.to_csv(os.path.join(experimentPathAndName, modelName, fig_file_name+\".csv\"))\n",
    "                plt.close()\n",
    "\n",
    "    # Reenable aggregation if needed.\n",
    "    test_dataset.toggle_image_loading(augmentation=augmentation, normalization=normalization)\n",
    "\n",
    "def get_closest_example(fileName, source_dataset, source_dataset_predProblist, target_dataset, target_dataset_predProblist):\n",
    "    example=source_dataset_predProblist[source_dataset.getIdxByFileName(fileName), :]\n",
    "    top_1 = torch.topk(CNN.get_distance_from_example2(target_dataset_predProblist, example), 1)\n",
    "    closest = target_dataset[top_1.indices[0][0].item()]\n",
    "    cosine_score = top_1.values[0][0].item()\n",
    "    return closest, cosine_score\n",
    "\n",
    "# Makes sure that the width is more than the height\n",
    "def rotateImageIfNeeded(img):\n",
    "    width, height = img.size\n",
    "    if width < height:\n",
    "        return img.rotate(90, expand=True)\n",
    "    else:\n",
    "        return img\n",
    "    \n",
    "def resize(img):\n",
    "    width, height = img.size\n",
    "    max_ = min(resolution/width, resolution/height)\n",
    "    return img.resize((int(max_*width), int(max_*height)), Image.ANTIALIAS)"
   ]
  },
  {
   "cell_type": "markdown",
   "metadata": {},
   "source": [
    "Display and save mispredicted"
   ]
  },
  {
   "cell_type": "code",
   "execution_count": 11,
   "metadata": {
    "scrolled": false
   },
   "outputs": [
    {
     "data": {
      "application/vnd.jupyter.widget-view+json": {
       "model_id": "2d27c132526d443a993476544563dc61",
       "version_major": 2,
       "version_minor": 0
      },
      "text/plain": [
       "HBox(children=(FloatProgress(value=0.0, description='figure', max=510.0, style=ProgressStyle(description_width…"
      ]
     },
     "metadata": {},
     "output_type": "display_data"
    },
    {
     "name": "stdout",
     "output_type": "stream",
     "text": [
      "\n"
     ]
    },
    {
     "data": {
      "text/html": [
       "<div>\n",
       "<style scoped>\n",
       "    .dataframe tbody tr th:only-of-type {\n",
       "        vertical-align: middle;\n",
       "    }\n",
       "\n",
       "    .dataframe tbody tr th {\n",
       "        vertical-align: top;\n",
       "    }\n",
       "\n",
       "    .dataframe thead th {\n",
       "        text-align: right;\n",
       "    }\n",
       "</style>\n",
       "<table border=\"1\" class=\"dataframe\">\n",
       "  <thead>\n",
       "    <tr style=\"text-align: right;\">\n",
       "      <th></th>\n",
       "      <th>file name</th>\n",
       "      <th>true label</th>\n",
       "      <th>probability of true label</th>\n",
       "      <th>predicted label</th>\n",
       "      <th>full file name</th>\n",
       "      <th>probability of predicted label</th>\n",
       "    </tr>\n",
       "  </thead>\n",
       "  <tbody>\n",
       "    <tr>\n",
       "      <th>2</th>\n",
       "      <td>UWZM-F-0000005.JPG</td>\n",
       "      <td>0</td>\n",
       "      <td>0.012882</td>\n",
       "      <td>1</td>\n",
       "      <td>/raid/elhamod/Fish/Curated3/Medium/curated_30_...</td>\n",
       "      <td>0.082710</td>\n",
       "    </tr>\n",
       "    <tr>\n",
       "      <th>0</th>\n",
       "      <td>INHS_FISH_101620.JPG</td>\n",
       "      <td>0</td>\n",
       "      <td>0.034373</td>\n",
       "      <td>1</td>\n",
       "      <td>/raid/elhamod/Fish/Curated3/Medium/curated_30_...</td>\n",
       "      <td>0.065993</td>\n",
       "    </tr>\n",
       "    <tr>\n",
       "      <th>1</th>\n",
       "      <td>UWZM-F-0000004.JPG</td>\n",
       "      <td>0</td>\n",
       "      <td>0.044425</td>\n",
       "      <td>1</td>\n",
       "      <td>/raid/elhamod/Fish/Curated3/Medium/curated_30_...</td>\n",
       "      <td>0.240449</td>\n",
       "    </tr>\n",
       "    <tr>\n",
       "      <th>3</th>\n",
       "      <td>83467_lat_FMNH_FZ.jpg</td>\n",
       "      <td>1</td>\n",
       "      <td>0.019879</td>\n",
       "      <td>13</td>\n",
       "      <td>/raid/elhamod/Fish/Curated3/Medium/curated_30_...</td>\n",
       "      <td>0.036785</td>\n",
       "    </tr>\n",
       "    <tr>\n",
       "      <th>4</th>\n",
       "      <td>86978_lat_FMNH_FZ.jpg</td>\n",
       "      <td>1</td>\n",
       "      <td>0.021401</td>\n",
       "      <td>45</td>\n",
       "      <td>/raid/elhamod/Fish/Curated3/Medium/curated_30_...</td>\n",
       "      <td>0.079175</td>\n",
       "    </tr>\n",
       "    <tr>\n",
       "      <th>...</th>\n",
       "      <td>...</td>\n",
       "      <td>...</td>\n",
       "      <td>...</td>\n",
       "      <td>...</td>\n",
       "      <td>...</td>\n",
       "      <td>...</td>\n",
       "    </tr>\n",
       "    <tr>\n",
       "      <th>199</th>\n",
       "      <td>UWZM-F-0003633.JPG</td>\n",
       "      <td>98</td>\n",
       "      <td>0.052314</td>\n",
       "      <td>94</td>\n",
       "      <td>/raid/elhamod/Fish/Curated3/Medium/curated_30_...</td>\n",
       "      <td>0.080235</td>\n",
       "    </tr>\n",
       "    <tr>\n",
       "      <th>200</th>\n",
       "      <td>INHS_FISH_68537.jpg</td>\n",
       "      <td>100</td>\n",
       "      <td>0.075788</td>\n",
       "      <td>59</td>\n",
       "      <td>/raid/elhamod/Fish/Curated3/Medium/curated_30_...</td>\n",
       "      <td>0.189533</td>\n",
       "    </tr>\n",
       "    <tr>\n",
       "      <th>203</th>\n",
       "      <td>JFBM-FISH-0011714.jpg</td>\n",
       "      <td>101</td>\n",
       "      <td>0.008779</td>\n",
       "      <td>91</td>\n",
       "      <td>/raid/elhamod/Fish/Curated3/Medium/curated_30_...</td>\n",
       "      <td>0.038377</td>\n",
       "    </tr>\n",
       "    <tr>\n",
       "      <th>201</th>\n",
       "      <td>INHS_FISH_50838.jpg</td>\n",
       "      <td>101</td>\n",
       "      <td>0.028608</td>\n",
       "      <td>2</td>\n",
       "      <td>/raid/elhamod/Fish/Curated3/Medium/curated_30_...</td>\n",
       "      <td>0.049822</td>\n",
       "    </tr>\n",
       "    <tr>\n",
       "      <th>202</th>\n",
       "      <td>INHS_FISH_64986.jpg</td>\n",
       "      <td>101</td>\n",
       "      <td>0.040172</td>\n",
       "      <td>95</td>\n",
       "      <td>/raid/elhamod/Fish/Curated3/Medium/curated_30_...</td>\n",
       "      <td>0.385845</td>\n",
       "    </tr>\n",
       "  </tbody>\n",
       "</table>\n",
       "<p>204 rows × 6 columns</p>\n",
       "</div>"
      ],
      "text/plain": [
       "                 file name true label  probability of true label  \\\n",
       "2       UWZM-F-0000005.JPG          0                   0.012882   \n",
       "0     INHS_FISH_101620.JPG          0                   0.034373   \n",
       "1       UWZM-F-0000004.JPG          0                   0.044425   \n",
       "3    83467_lat_FMNH_FZ.jpg          1                   0.019879   \n",
       "4    86978_lat_FMNH_FZ.jpg          1                   0.021401   \n",
       "..                     ...        ...                        ...   \n",
       "199     UWZM-F-0003633.JPG         98                   0.052314   \n",
       "200    INHS_FISH_68537.jpg        100                   0.075788   \n",
       "203  JFBM-FISH-0011714.jpg        101                   0.008779   \n",
       "201    INHS_FISH_50838.jpg        101                   0.028608   \n",
       "202    INHS_FISH_64986.jpg        101                   0.040172   \n",
       "\n",
       "    predicted label                                     full file name  \\\n",
       "2                 1  /raid/elhamod/Fish/Curated3/Medium/curated_30_...   \n",
       "0                 1  /raid/elhamod/Fish/Curated3/Medium/curated_30_...   \n",
       "1                 1  /raid/elhamod/Fish/Curated3/Medium/curated_30_...   \n",
       "3                13  /raid/elhamod/Fish/Curated3/Medium/curated_30_...   \n",
       "4                45  /raid/elhamod/Fish/Curated3/Medium/curated_30_...   \n",
       "..              ...                                                ...   \n",
       "199              94  /raid/elhamod/Fish/Curated3/Medium/curated_30_...   \n",
       "200              59  /raid/elhamod/Fish/Curated3/Medium/curated_30_...   \n",
       "203              91  /raid/elhamod/Fish/Curated3/Medium/curated_30_...   \n",
       "201               2  /raid/elhamod/Fish/Curated3/Medium/curated_30_...   \n",
       "202              95  /raid/elhamod/Fish/Curated3/Medium/curated_30_...   \n",
       "\n",
       "     probability of predicted label  \n",
       "2                          0.082710  \n",
       "0                          0.065993  \n",
       "1                          0.240449  \n",
       "3                          0.036785  \n",
       "4                          0.079175  \n",
       "..                              ...  \n",
       "199                        0.080235  \n",
       "200                        0.189533  \n",
       "203                        0.038377  \n",
       "201                        0.049822  \n",
       "202                        0.385845  \n",
       "\n",
       "[204 rows x 6 columns]"
      ]
     },
     "execution_count": 11,
     "metadata": {},
     "output_type": "execute_result"
    }
   ],
   "source": [
    "df_misclassified.to_csv(os.path.join(experimentPathAndName, modelName, 'misclassified examples.csv'))\n",
    "plot_top_n(df_misclassified, \"misclassified\", class_training_indices_dict, ismisclassified=True, numOfRows=numOfRows)\n",
    "df_misclassified"
   ]
  },
  {
   "cell_type": "markdown",
   "metadata": {},
   "source": [
    "Display and save correctly predicted"
   ]
  },
  {
   "cell_type": "code",
   "execution_count": 12,
   "metadata": {},
   "outputs": [
    {
     "data": {
      "application/vnd.jupyter.widget-view+json": {
       "model_id": "106c791b6ec140a79f0d8e07332f2ae4",
       "version_major": 2,
       "version_minor": 0
      },
      "text/plain": [
       "HBox(children=(FloatProgress(value=0.0, description='figure', max=510.0, style=ProgressStyle(description_width…"
      ]
     },
     "metadata": {},
     "output_type": "display_data"
    },
    {
     "name": "stdout",
     "output_type": "stream",
     "text": [
      "\n"
     ]
    },
    {
     "data": {
      "text/html": [
       "<div>\n",
       "<style scoped>\n",
       "    .dataframe tbody tr th:only-of-type {\n",
       "        vertical-align: middle;\n",
       "    }\n",
       "\n",
       "    .dataframe tbody tr th {\n",
       "        vertical-align: top;\n",
       "    }\n",
       "\n",
       "    .dataframe thead th {\n",
       "        text-align: right;\n",
       "    }\n",
       "</style>\n",
       "<table border=\"1\" class=\"dataframe\">\n",
       "  <thead>\n",
       "    <tr style=\"text-align: right;\">\n",
       "      <th></th>\n",
       "      <th>file name</th>\n",
       "      <th>true label</th>\n",
       "      <th>probability of true label</th>\n",
       "    </tr>\n",
       "  </thead>\n",
       "  <tbody>\n",
       "    <tr>\n",
       "      <th>0</th>\n",
       "      <td>100788_lat_FMNH_FZ.jpg</td>\n",
       "      <td>0</td>\n",
       "      <td>0.245145</td>\n",
       "    </tr>\n",
       "    <tr>\n",
       "      <th>5</th>\n",
       "      <td>INHS_FISH_5773.JPG</td>\n",
       "      <td>0</td>\n",
       "      <td>0.523608</td>\n",
       "    </tr>\n",
       "    <tr>\n",
       "      <th>3</th>\n",
       "      <td>INHS_FISH_1157.JPG</td>\n",
       "      <td>0</td>\n",
       "      <td>0.790208</td>\n",
       "    </tr>\n",
       "    <tr>\n",
       "      <th>6</th>\n",
       "      <td>INHS_FISH_5837.JPG</td>\n",
       "      <td>0</td>\n",
       "      <td>0.826976</td>\n",
       "    </tr>\n",
       "    <tr>\n",
       "      <th>1</th>\n",
       "      <td>INHS_FISH_100595.jpg</td>\n",
       "      <td>0</td>\n",
       "      <td>0.887488</td>\n",
       "    </tr>\n",
       "    <tr>\n",
       "      <th>...</th>\n",
       "      <td>...</td>\n",
       "      <td>...</td>\n",
       "      <td>...</td>\n",
       "    </tr>\n",
       "    <tr>\n",
       "      <th>768</th>\n",
       "      <td>INHS_FISH_53056.jpg</td>\n",
       "      <td>101</td>\n",
       "      <td>0.418759</td>\n",
       "    </tr>\n",
       "    <tr>\n",
       "      <th>767</th>\n",
       "      <td>INHS_FISH_39579.jpg</td>\n",
       "      <td>101</td>\n",
       "      <td>0.463106</td>\n",
       "    </tr>\n",
       "    <tr>\n",
       "      <th>770</th>\n",
       "      <td>JFBM-FISH-0030701.jpg</td>\n",
       "      <td>101</td>\n",
       "      <td>0.482620</td>\n",
       "    </tr>\n",
       "    <tr>\n",
       "      <th>771</th>\n",
       "      <td>JFBM-FISH-0034781.jpg</td>\n",
       "      <td>101</td>\n",
       "      <td>0.875861</td>\n",
       "    </tr>\n",
       "    <tr>\n",
       "      <th>766</th>\n",
       "      <td>INHS_FISH_32998.jpg</td>\n",
       "      <td>101</td>\n",
       "      <td>0.927865</td>\n",
       "    </tr>\n",
       "  </tbody>\n",
       "</table>\n",
       "<p>773 rows × 3 columns</p>\n",
       "</div>"
      ],
      "text/plain": [
       "                  file name true label  probability of true label\n",
       "0    100788_lat_FMNH_FZ.jpg          0                   0.245145\n",
       "5        INHS_FISH_5773.JPG          0                   0.523608\n",
       "3        INHS_FISH_1157.JPG          0                   0.790208\n",
       "6        INHS_FISH_5837.JPG          0                   0.826976\n",
       "1      INHS_FISH_100595.jpg          0                   0.887488\n",
       "..                      ...        ...                        ...\n",
       "768     INHS_FISH_53056.jpg        101                   0.418759\n",
       "767     INHS_FISH_39579.jpg        101                   0.463106\n",
       "770   JFBM-FISH-0030701.jpg        101                   0.482620\n",
       "771   JFBM-FISH-0034781.jpg        101                   0.875861\n",
       "766     INHS_FISH_32998.jpg        101                   0.927865\n",
       "\n",
       "[773 rows x 3 columns]"
      ]
     },
     "execution_count": 12,
     "metadata": {},
     "output_type": "execute_result"
    }
   ],
   "source": [
    "df_correctlyclassified.to_csv(os.path.join(experimentPathAndName, modelName, 'correctly classified examples.csv'))\n",
    "if plotCorrectlyClassified:\n",
    "    plot_top_n(df_correctlyclassified, \"correctly classified\", class_training_indices_dict, ismisclassified=False, numOfRows=numOfRows)\n",
    "df_correctlyclassified[df_correctlyclassified_columns]"
   ]
  },
  {
   "cell_type": "code",
   "execution_count": null,
   "metadata": {},
   "outputs": [],
   "source": []
  },
  {
   "cell_type": "code",
   "execution_count": null,
   "metadata": {},
   "outputs": [],
   "source": []
  }
 ],
 "metadata": {
  "kernelspec": {
   "display_name": "Python 3",
   "language": "python",
   "name": "python3"
  },
  "language_info": {
   "codemirror_mode": {
    "name": "ipython",
    "version": 3
   },
   "file_extension": ".py",
   "mimetype": "text/x-python",
   "name": "python",
   "nbconvert_exporter": "python",
   "pygments_lexer": "ipython3",
   "version": "3.6.9"
  }
 },
 "nbformat": 4,
 "nbformat_minor": 4
}
