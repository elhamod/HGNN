{
 "cells": [
  {
   "cell_type": "markdown",
   "metadata": {},
   "source": [
    "import"
   ]
  },
  {
   "cell_type": "code",
   "execution_count": 1,
   "metadata": {},
   "outputs": [],
   "source": [
    "import matplotlib.pyplot as plt\n",
    "import torch\n",
    "import os\n",
    "import pandas as pd\n",
    "import math\n",
    "\n",
    "from tqdm.notebook import tqdm as tqdm\n",
    "from tqdm.auto import trange\n",
    "\n",
    "import warnings\n",
    "warnings.filterwarnings(\"ignore\")\n",
    "import sys\n",
    "sys.path.insert(1, '../train')\n",
    "sys.path.insert(1, '../misc')\n",
    "\n",
    "import config_plots, TrialStatistics\n",
    "import CNN, dataLoader\n",
    "from configParser import ConfigParser, getModelName\n",
    "from flashtorch_modefied import CNN_wrapper, Backprop, SaliencyMap\n",
    "\n",
    "config_plots.global_settings()\n",
    "\n",
    "experimetnsFileName = \"experiments.csv\""
   ]
  },
  {
   "cell_type": "markdown",
   "metadata": {},
   "source": [
    "parameters"
   ]
  },
  {
   "cell_type": "code",
   "execution_count": 2,
   "metadata": {},
   "outputs": [],
   "source": [
    "experimentsPath=\"/raid/elhamod/Fish/official_experiments/\" # Where experiment results will be produced\n",
    "dataPath=\"/raid/elhamod/Fish/Curated4\" # Where data is\n",
    "experimentName=\"Easy\"\n",
    "\n",
    "trial_hash=\"268af0509863b63158fbca64174789deb89ce5648a76506daf7f8db5\" #HGNN\n",
    "\n",
    "num_workers=8\n",
    "patchsize=49\n",
    "\n",
    "cuda=1"
   ]
  },
  {
   "cell_type": "markdown",
   "metadata": {},
   "source": [
    "cuda"
   ]
  },
  {
   "cell_type": "code",
   "execution_count": 3,
   "metadata": {},
   "outputs": [
    {
     "name": "stdout",
     "output_type": "stream",
     "text": [
      "using cuda 1\n"
     ]
    }
   ],
   "source": [
    "# set cuda\n",
    "if torch.cuda.is_available():\n",
    "    torch.cuda.set_device(cuda)\n",
    "    print(\"using cuda\", cuda)"
   ]
  },
  {
   "cell_type": "markdown",
   "metadata": {},
   "source": [
    "importLoad experiment"
   ]
  },
  {
   "cell_type": "code",
   "execution_count": 4,
   "metadata": {},
   "outputs": [],
   "source": [
    "config_parser = ConfigParser(experimentsPath, dataPath, experimentName)\n",
    "\n",
    "experimentPathAndName = os.path.join(experimentsPath, experimentName)\n",
    "\n",
    "datasetManager = dataLoader.datasetManager(experimentPathAndName, dataPath)\n",
    "\n",
    "paramsIterator = config_parser.getExperiments()  \n",
    "number_of_experiments = sum(1 for e in paramsIterator)  "
   ]
  },
  {
   "cell_type": "markdown",
   "metadata": {},
   "source": [
    "load dataset and model"
   ]
  },
  {
   "cell_type": "code",
   "execution_count": 5,
   "metadata": {},
   "outputs": [
    {
     "name": "stdout",
     "output_type": "stream",
     "text": [
      "{'experimentName': 'Easy', 'modelName': 'models/268af0509863b63158fbca64174789deb89ce5648a76506daf7f8db5', 'datasetName': nan, 'experimentHash': 'fbf4c275e857df725e65ca95f294905a0966e68874b376dc8d1d1da9', 'trialHash': '268af0509863b63158fbca64174789deb89ce5648a76506daf7f8db5', 'image_path': 'Easy_50', 'suffix': None, 'img_res': 448, 'augmented': True, 'batchSize': 64, 'learning_rate': 0.0001, 'numOfTrials': 5, 'modelType': 'HGNN', 'lambda': 0.01, 'pretrained': True, 'tl_model': 'ResNet18', 'link_layer': 'avgpool', 'adaptive_smoothing': True, 'adaptive_lambda': 0.01, 'adaptive_alpha': 0.9, 'fc_layers': 1, 'unsupervisedOnTest': nan, 'noSpeciesBackprop': False, 'phylogeny_loss': nan, 'phylogeny_loss_epsilon': nan}\n",
      "Creating datasets...\n",
      "Creating datasets... Done.\n",
      "Creating loaders...\n",
      "Creating loaders... Done.\n"
     ]
    }
   ],
   "source": [
    "# Get experiment parameters\n",
    "experimentsFileNameAndPath = os.path.join(experimentsPath, experimetnsFileName)\n",
    "if os.path.exists(experimentsFileNameAndPath):\n",
    "    experiments_df = pd.read_csv(experimentsFileNameAndPath)\n",
    "else:\n",
    "    raise Exception(\"Experiment not \" + trial_hash + \" found!\")\n",
    "experimentRecord = experiments_df[experiments_df[\"trialHash\"] == trial_hash]\n",
    "experiment_params = experimentRecord.to_dict('records')[0]\n",
    "\n",
    "# This is needed to get saliency map for a model that does not do back propagation.\n",
    "experiment_params['noSpeciesBackprop'] = False \n",
    "\n",
    "if math.isnan(experiment_params['suffix']):\n",
    "    experiment_params['suffix'] = None\n",
    "print(experiment_params)\n",
    "\n",
    "\n",
    "# Create the model\n",
    "datasetManager.updateParams(config_parser.fixPaths(experiment_params))\n",
    "train_loader, validation_loader, test_loader = datasetManager.getLoaders()\n",
    "fineList = test_loader.dataset.csv_processor.getFineList()\n",
    "coarseList = test_loader.dataset.csv_processor.getCoarseList()\n",
    "numberOffine = len(fineList)\n",
    "numberOfcoarse = len(coarseList)\n",
    "architecture = {\n",
    "    \"fine\": numberOffine,\n",
    "    \"coarse\" : numberOfcoarse\n",
    "}\n",
    "model = CNN.create_model(architecture, experiment_params, device=cuda)"
   ]
  },
  {
   "cell_type": "markdown",
   "metadata": {},
   "source": [
    "Load model of a specific trial"
   ]
  },
  {
   "cell_type": "code",
   "execution_count": 6,
   "metadata": {},
   "outputs": [],
   "source": [
    "# get the model and the parameters\n",
    "modelName = experimentRecord.iloc[0][\"modelName\"]\n",
    "trialName = os.path.join(experimentPathAndName, modelName)\n",
    "\n",
    "df, epochs, time_elapsed = CNN.loadModel(model, trialName, device=cuda)"
   ]
  },
  {
   "cell_type": "markdown",
   "metadata": {},
   "source": [
    "Model wrapper"
   ]
  },
  {
   "cell_type": "code",
   "execution_count": 7,
   "metadata": {},
   "outputs": [],
   "source": [
    "wrapped_model = CNN_wrapper(model, experiment_params, test_loader.dataset)\n",
    "saliencyMap = SaliencyMap(test_loader.dataset, wrapped_model, experimentPathAndName, trial_hash, experiment_params)"
   ]
  },
  {
   "cell_type": "markdown",
   "metadata": {},
   "source": [
    "Iterate and give score"
   ]
  },
  {
   "cell_type": "code",
   "execution_count": 8,
   "metadata": {},
   "outputs": [],
   "source": [
    "from PIL import Image\n",
    "\n",
    "import gc\n",
    "\n",
    "\n",
    "def getAverageCorrectProb(loader, layerName, box_width, topk, df):\n",
    "    prob = []\n",
    "    with tqdm(total=len(loader.dataset)) as bar:\n",
    "        colName = layerName + \"/box\" + \"/iter\" + str(topk)\n",
    "        df[colName, \"prob\"] = \"\"\n",
    "        df[colName, \"predictedFine\"] = \"\"\n",
    "        df[colName, \"withinSameGenus\"] = \"\"\n",
    "        for img in loader:\n",
    "            fileNames = img['fileNameFull']\n",
    "            fileName_bases =  img['fileName']\n",
    "            lbls=img[layerName]\n",
    "            \n",
    "            for i, fileName in enumerate(fileNames):\n",
    "                fileName_base = fileName_bases[i]\n",
    "                if topk > 0:\n",
    "                    _, A = saliencyMap.GetSaliencyMap(fileName,layerName,box_width =box_width, maxCovered=True, topk=topk, plot=False, use_gpu=True,generate_all_steps=False)\n",
    "                else:\n",
    "                    isSpecies = (layerName == \"fine\")\n",
    "                    activationOutputs = {\n",
    "                        \"fine\": isSpecies,\n",
    "                        \"coarse\" : not isSpecies\n",
    "                    }\n",
    "                    img = saliencyMap.getTransformedImage(Image.open(fileName), False, True)\n",
    "                    wrapped_model.setOutputsOfInterest(activationOutputs)\n",
    "\n",
    "                    if torch.cuda.is_available():\n",
    "                        img = img.cuda()\n",
    "                    A = wrapped_model(img)\n",
    "                    \n",
    "                if (layerName == \"coarse\" or layerName == \"fine\"):\n",
    "                    A = torch.nn.Softmax(dim=1)(A)\n",
    "                \n",
    "                if torch.cuda.is_available():\n",
    "                    A = A.detach().cpu()\n",
    "                prob_ = A[0][lbls[i]]\n",
    "                prob.append(prob_)\n",
    "\n",
    "                fine = loader.dataset.csv_processor.getFineLabel(fileName_base)\n",
    "                coarse = loader.dataset.csv_processor.getCoarseLabel(fileName_base)\n",
    "                pred_fine = loader.dataset.csv_processor.getFineList()[torch.argmax(A[0])] \n",
    "                right_genus = loader.dataset.csv_processor.getCoarseFromFine(pred_fine) == loader.dataset.csv_processor.getCoarseFromFine(fine)\n",
    "                \n",
    "                if fileName_base not in df.index: \n",
    "                    temp = pd.DataFrame({\n",
    "                        \"fileName\": [fileName_base],\n",
    "                        \"fine\": [fine],\n",
    "                        \"coarse\": [coarse],\n",
    "                    })\n",
    "                    temp = temp.set_index( \"fileName\")\n",
    "                    df = df.append(temp)\n",
    "                \n",
    "                df.loc[fileName_base][colName, \"prob\"] = prob_.item()\n",
    "                df.loc[fileName_base][colName, \"predictedFine\"] = pred_fine\n",
    "                df.loc[fileName_base][colName, \"withinSameGenus\"] = right_genus\n",
    "\n",
    "                bar.update()\n",
    "                \n",
    "\n",
    "    return (sum(prob) / len(prob)).item(), df\n",
    "\n",
    "\n",
    "def add_occlusion_result(df, loader, func, label, patchsize, iterations, df2):\n",
    "    result, df2 = func(loader, label, patchsize, iterations, df2)\n",
    "    return df.append(pd.DataFrame({\n",
    "        \"label\": [label],\n",
    "        \"patch size\": [patchsize],\n",
    "        \"iterations\": [iterations],\n",
    "        \"average correct probability\": [result]\n",
    "    })), df2"
   ]
  },
  {
   "cell_type": "code",
   "execution_count": 9,
   "metadata": {},
   "outputs": [],
   "source": [
    "# Create the test loader with small batch\n",
    "test_loader = torch.utils.data.DataLoader(test_loader.dataset, batch_size=100, num_workers=num_workers)\n",
    "\n",
    "df = pd.DataFrame()\n",
    "df2 = pd.DataFrame(columns=['fileName', 'fine', 'coarse'])\n",
    "df2 = df2.set_index('fileName')"
   ]
  },
  {
   "cell_type": "code",
   "execution_count": 10,
   "metadata": {},
   "outputs": [
    {
     "data": {
      "application/vnd.jupyter.widget-view+json": {
       "model_id": "1942ae3b7c4547799cddbcab9abf9e70",
       "version_major": 2,
       "version_minor": 0
      },
      "text/plain": [
       "HBox(children=(FloatProgress(value=0.0, max=380.0), HTML(value='')))"
      ]
     },
     "metadata": {},
     "output_type": "display_data"
    },
    {
     "name": "stdout",
     "output_type": "stream",
     "text": [
      "\n"
     ]
    }
   ],
   "source": [
    "df, df2 = add_occlusion_result(df, test_loader, getAverageCorrectProb, \"fine\", patchsize, 0, df2)"
   ]
  },
  {
   "cell_type": "code",
   "execution_count": 11,
   "metadata": {
    "scrolled": true
   },
   "outputs": [
    {
     "data": {
      "application/vnd.jupyter.widget-view+json": {
       "model_id": "0391d991c3d3453385d1d38321d463f3",
       "version_major": 2,
       "version_minor": 0
      },
      "text/plain": [
       "HBox(children=(FloatProgress(value=0.0, max=380.0), HTML(value='')))"
      ]
     },
     "metadata": {},
     "output_type": "display_data"
    },
    {
     "name": "stdout",
     "output_type": "stream",
     "text": [
      "\n"
     ]
    }
   ],
   "source": [
    "df, df2 = add_occlusion_result(df, test_loader, getAverageCorrectProb, \"fine\", patchsize, 1, df2)"
   ]
  },
  {
   "cell_type": "code",
   "execution_count": 12,
   "metadata": {},
   "outputs": [
    {
     "data": {
      "application/vnd.jupyter.widget-view+json": {
       "model_id": "43aeb7de9aa6449287fc0f9386ebb23f",
       "version_major": 2,
       "version_minor": 0
      },
      "text/plain": [
       "HBox(children=(FloatProgress(value=0.0, max=380.0), HTML(value='')))"
      ]
     },
     "metadata": {},
     "output_type": "display_data"
    },
    {
     "name": "stdout",
     "output_type": "stream",
     "text": [
      "\n"
     ]
    }
   ],
   "source": [
    "df, df2 = add_occlusion_result(df, test_loader, getAverageCorrectProb, \"fine\", patchsize, 2, df2)"
   ]
  },
  {
   "cell_type": "code",
   "execution_count": 13,
   "metadata": {},
   "outputs": [
    {
     "data": {
      "application/vnd.jupyter.widget-view+json": {
       "model_id": "e9cf3513154842a9a314c5832f443ee6",
       "version_major": 2,
       "version_minor": 0
      },
      "text/plain": [
       "HBox(children=(FloatProgress(value=0.0, max=380.0), HTML(value='')))"
      ]
     },
     "metadata": {},
     "output_type": "display_data"
    },
    {
     "name": "stdout",
     "output_type": "stream",
     "text": [
      "\n"
     ]
    }
   ],
   "source": [
    "df, df2 = add_occlusion_result(df, test_loader, getAverageCorrectProb, \"fine\", patchsize, 3, df2)"
   ]
  },
  {
   "cell_type": "code",
   "execution_count": 14,
   "metadata": {},
   "outputs": [
    {
     "data": {
      "application/vnd.jupyter.widget-view+json": {
       "model_id": "ce84d8c810994f07ad0b708310630a40",
       "version_major": 2,
       "version_minor": 0
      },
      "text/plain": [
       "HBox(children=(FloatProgress(value=0.0, max=380.0), HTML(value='')))"
      ]
     },
     "metadata": {},
     "output_type": "display_data"
    },
    {
     "name": "stdout",
     "output_type": "stream",
     "text": [
      "\n"
     ]
    }
   ],
   "source": [
    "df, df2 = add_occlusion_result(df, test_loader, getAverageCorrectProb, \"fine\", patchsize, 4, df2)"
   ]
  },
  {
   "cell_type": "code",
   "execution_count": 15,
   "metadata": {},
   "outputs": [],
   "source": [
    "df.reset_index().to_csv(os.path.join(experimentPathAndName, \"models\", trial_hash, 'occlusion_summary.csv'))"
   ]
  },
  {
   "cell_type": "code",
   "execution_count": 16,
   "metadata": {},
   "outputs": [
    {
     "data": {
      "text/html": [
       "<div>\n",
       "<style scoped>\n",
       "    .dataframe tbody tr th:only-of-type {\n",
       "        vertical-align: middle;\n",
       "    }\n",
       "\n",
       "    .dataframe tbody tr th {\n",
       "        vertical-align: top;\n",
       "    }\n",
       "\n",
       "    .dataframe thead th {\n",
       "        text-align: right;\n",
       "    }\n",
       "</style>\n",
       "<table border=\"1\" class=\"dataframe\">\n",
       "  <thead>\n",
       "    <tr style=\"text-align: right;\">\n",
       "      <th></th>\n",
       "      <th>label</th>\n",
       "      <th>patch size</th>\n",
       "      <th>iterations</th>\n",
       "      <th>average correct probability</th>\n",
       "    </tr>\n",
       "  </thead>\n",
       "  <tbody>\n",
       "    <tr>\n",
       "      <th>0</th>\n",
       "      <td>fine</td>\n",
       "      <td>49</td>\n",
       "      <td>0</td>\n",
       "      <td>0.481954</td>\n",
       "    </tr>\n",
       "    <tr>\n",
       "      <th>0</th>\n",
       "      <td>fine</td>\n",
       "      <td>49</td>\n",
       "      <td>1</td>\n",
       "      <td>0.369082</td>\n",
       "    </tr>\n",
       "    <tr>\n",
       "      <th>0</th>\n",
       "      <td>fine</td>\n",
       "      <td>49</td>\n",
       "      <td>2</td>\n",
       "      <td>0.307433</td>\n",
       "    </tr>\n",
       "    <tr>\n",
       "      <th>0</th>\n",
       "      <td>fine</td>\n",
       "      <td>49</td>\n",
       "      <td>3</td>\n",
       "      <td>0.256257</td>\n",
       "    </tr>\n",
       "    <tr>\n",
       "      <th>0</th>\n",
       "      <td>fine</td>\n",
       "      <td>49</td>\n",
       "      <td>4</td>\n",
       "      <td>0.215290</td>\n",
       "    </tr>\n",
       "  </tbody>\n",
       "</table>\n",
       "</div>"
      ],
      "text/plain": [
       "  label  patch size  iterations  average correct probability\n",
       "0  fine          49           0                     0.481954\n",
       "0  fine          49           1                     0.369082\n",
       "0  fine          49           2                     0.307433\n",
       "0  fine          49           3                     0.256257\n",
       "0  fine          49           4                     0.215290"
      ]
     },
     "execution_count": 16,
     "metadata": {},
     "output_type": "execute_result"
    }
   ],
   "source": [
    "df"
   ]
  }
 ],
 "metadata": {
  "kernelspec": {
   "display_name": "Python 3",
   "language": "python",
   "name": "python3"
  },
  "language_info": {
   "codemirror_mode": {
    "name": "ipython",
    "version": 3
   },
   "file_extension": ".py",
   "mimetype": "text/x-python",
   "name": "python",
   "nbconvert_exporter": "python",
   "pygments_lexer": "ipython3",
   "version": "3.6.9"
  }
 },
 "nbformat": 4,
 "nbformat_minor": 4
}
