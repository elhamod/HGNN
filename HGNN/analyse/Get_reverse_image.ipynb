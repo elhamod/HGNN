{
 "cells": [
  {
   "cell_type": "markdown",
   "metadata": {},
   "source": [
    "imports"
   ]
  },
  {
   "cell_type": "code",
   "execution_count": null,
   "metadata": {},
   "outputs": [],
   "source": [
    "import torch\n",
    "import os\n",
    "import numpy as np\n",
    "from tqdm import tqdm\n",
    "\n",
    "import pandas as pd\n",
    "\n",
    "from myhelpers import cifar_dataLoader\n",
    "\n",
    "from HGNN.train.configParser import ConfigParser\n",
    "from HGNN.train import CNN, dataLoader\n",
    "from myhelpers.memory import get_cuda_memory\n",
    "from myhelpers.image_show import showExample, getClosestImageFromDataloader\n",
    "from myhelpers.images_tsne import get_tsne\n",
    "from misc import get_classification_df\n",
    "from PIL import Image\n",
    "from torchvision import transforms as torchvision_transforms\n",
    "\n",
    "experimetnsFileName = \"experiments.csv\""
   ]
  },
  {
   "cell_type": "markdown",
   "metadata": {},
   "source": [
    "parameters"
   ]
  },
  {
   "cell_type": "code",
   "execution_count": null,
   "metadata": {},
   "outputs": [],
   "source": [
    "experimentsPath=\"/raid/elhamod/Fish/experiments/\"\n",
    "dataPath=\"/raid/elhamod/Fish/\"\n",
    "experimentName=\"Fish30-5run-PhyloNN6\"#\"Fish-L1-experiment2\"#\"CIFAR_phylogeny_HGNN_lambdaExperiment\"\n",
    "# trial_hash=\"27a4da8bf0c3bca7096cddf192ecf3069e035ad3fbba69bbd47bd157\" #MSE + L1\n",
    "#\"5922bad3c69f629daa0af24121e292a895f308e7cae3ec4f64536186\"#hier\n",
    "trial_hash=\"0e8bc6eb6edfb88c5a419e14ab0b445d72ee1945bd474a26a7abcbd4\" #PhyloNN\n",
    "SEED_INT=4 # order of the trial_hash when executed\n",
    "\n",
    "layer= 'layer2' #'gap_features'\n",
    "\n",
    "#random image if None. Otherwise, the path\n",
    "init_image =\"test/Notropis buchanani/INHS_FISH_108458.jpg\" \n",
    "# init_image = None\n",
    "\n",
    "\n",
    "# name of image the features of which we will mimic. \n",
    "# image_of_features=\"test/Notropis buchanani/INHS_FISH_102641.jpg\" # same species\n",
    "# image_of_features = \"test/Notropis telescopus/INHS_FISH_87353.jpg\" # close species\n",
    "image_of_features = \"test/Lepisosteus platostomus/INHS_FISH_87088.jpg\" # far species\n",
    "# image_of_features = \"test/Notropis buccatus/dog-puppy-on-garden-royalty-free-image-1586966191.jpg\" # dog #TODO: DELETE THIS IMAGE FROM SERVER\n",
    "# If there is a <name>_<layer>_features.py file exists, it will load. This can be used to load any artificially constructed embedding value\n",
    "# If that file does not exist, then load the image, create the embedding, and save the file\n",
    "\n",
    "tv_lambda=0\n",
    "max_iter = 500\n",
    "cuda=0"
   ]
  },
  {
   "attachments": {
    "d63a13e4-fddb-46b7-91bf-4f8de9d2fb79.png": {
     "image/png": "[encoded data removed]"
    }
   },
   "cell_type": "markdown",
   "metadata": {},
   "source": [
    "![image.png](attachment:d63a13e4-fddb-46b7-91bf-4f8de9d2fb79.png)"
   ]
  },
  {
   "cell_type": "markdown",
   "metadata": {},
   "source": [
    "Show example and closest images"
   ]
  },
  {
   "cell_type": "markdown",
   "metadata": {},
   "source": [
    "cuda"
   ]
  },
  {
   "cell_type": "code",
   "execution_count": null,
   "metadata": {},
   "outputs": [],
   "source": [
    "# set cuda\n",
    "if torch.cuda.is_available():\n",
    "    torch.cuda.set_device(cuda)\n",
    "    print(\"using cuda\", cuda)\n",
    "    \n",
    "torch.multiprocessing.set_start_method('spawn')"
   ]
  },
  {
   "cell_type": "markdown",
   "metadata": {},
   "source": [
    "Get dataset"
   ]
  },
  {
   "cell_type": "code",
   "execution_count": null,
   "metadata": {},
   "outputs": [],
   "source": [
    "# Get experiment parameters\n",
    "experimentsFileNameAndPath = os.path.join(experimentsPath, experimetnsFileName)\n",
    "if os.path.exists(experimentsFileNameAndPath):\n",
    "    experiments_df = pd.read_csv(experimentsFileNameAndPath)\n",
    "    experiments_df = experiments_df.where(pd.notnull(experiments_df), None)\n",
    "else:\n",
    "    raise Exception(\"Experiment not \" + trial_hash + \" found!\")\n",
    "experimentRecord = experiments_df[experiments_df[\"trialHash\"] == trial_hash]\n",
    "experiment_params = experimentRecord.to_dict('records')[0]\n",
    "print(experiment_params)\n",
    "\n",
    "config_parser = ConfigParser(experimentsPath, dataPath, experimentName)\n",
    "experiment_params = config_parser.fixExperimentParams(experiment_params)\n",
    "experimentPathAndName = os.path.join(experimentsPath, experimentName)\n",
    "if experiment_params['image_path'] == 'cifar-100-python':\n",
    "    datasetManager = cifar_dataLoader.datasetManager(experimentPathAndName, dataPath)\n",
    "else:\n",
    "    datasetManager = dataLoader.datasetManager(experimentPathAndName, dataPath)\n",
    "datasetManager.updateParams(config_parser.fixPaths(experiment_params))\n",
    "train_loader, validation_loader, test_loader = datasetManager.getLoaders(SEED_INT)\n",
    "\n",
    "# dataloader = torch.utils.data.DataLoader(test_loader.dataset if dataset_name==\"test\" else train_loader.dataset, pin_memory=True, batch_size=batch_size, num_workers=num_workers)\n",
    "# dataset = dataloader.dataset"
   ]
  },
  {
   "cell_type": "markdown",
   "metadata": {},
   "source": [
    "Get untrained model"
   ]
  },
  {
   "cell_type": "code",
   "execution_count": null,
   "metadata": {},
   "outputs": [],
   "source": [
    "%%capture\n",
    "\n",
    "# architecture = {\n",
    "#     \"fine\": len(dataset.csv_processor.getFineList()),\n",
    "#     \"coarse\" : len(dataset.csv_processor.getCoarseList())\n",
    "# }\n",
    "architecture = CNN.get_architecture(experiment_params, train_loader.dataset.csv_processor)\n",
    "model = CNN.create_model(architecture, experiment_params, cuda)\n",
    "\n",
    "# get the model and the parameters\n",
    "modelName = experimentRecord.iloc[0][\"modelName\"]\n",
    "trialName = os.path.join(experimentPathAndName, modelName)\n",
    "_ = CNN.loadModel(model, trialName)\n",
    "model.eval()"
   ]
  },
  {
   "cell_type": "markdown",
   "metadata": {},
   "source": [
    "Use reverse image\n",
    "#From https://github.com/paulu/deepfeatinterp/blob/76b72e0a3b683a8cdeb13ed35b932680dc159ed1/deepmodels_torch.py"
   ]
  },
  {
   "cell_type": "code",
   "execution_count": null,
   "metadata": {},
   "outputs": [],
   "source": [
    "def getTransformedImage(dataset, img, augmentation, normalization):\n",
    "    augmentation2, normalization2, pad2 = dataset.toggle_image_loading(augmentation=augmentation, normalization=normalization)\n",
    "    transforms = dataset.getTransforms()\n",
    "    composedTransforms = torchvision_transforms.Compose(transforms)\n",
    "    img_clone = composedTransforms(img)\n",
    "#     print(img_clone.shape)\n",
    "#     img_clone = img_clone.unsqueeze(0)\n",
    "#     print(img_clone.shape)\n",
    "    dataset.toggle_image_loading(augmentation2, normalization2, pad2)\n",
    "    return img_clone"
   ]
  },
  {
   "cell_type": "code",
   "execution_count": null,
   "metadata": {},
   "outputs": [],
   "source": [
    "def get_init_image(experiment_params, init_image, loader):\n",
    "    if init_image is None:\n",
    "        x = torch.rand((3, experiment_params['img_res'], experiment_params['img_res']))\n",
    "#         x = torch.from_numpy(x)\n",
    "        original = x.permute(1,2,0)\n",
    "        original = original.detach().numpy()\n",
    "        original = original* 255\n",
    "        original = original.astype(np.uint8)\n",
    "        original = Image.fromarray(original)\n",
    "    else:\n",
    "#         title = ntpath.basename(init_image)\n",
    "        init_image_ = os.path.join(dataPath, experiment_params[\"image_path\"], init_image)\n",
    "        original = Image.open(init_image_)\n",
    "    #     image_non_normalized = getTransformedImage(test_loader.dataset, original, False, False)\n",
    "        x = getTransformedImage(test_loader.dataset, original, False, True)\n",
    "#         print('x', x.shape)\n",
    "    \n",
    "    if cuda is not None:\n",
    "        x = x.cuda()\n",
    "    \n",
    "    return x, original"
   ]
  },
  {
   "cell_type": "code",
   "execution_count": null,
   "metadata": {},
   "outputs": [],
   "source": [
    "def get_dest_embedding(experiment_params, image_of_features, model, layer):\n",
    "    embedding_file_name = \"features_\"+layer+\"_\"+image_of_features.replace('/', '_')+\".py\"\n",
    "    embedding_dir = os.path.join(trialName, 'embeddings')\n",
    "    embedding_file =  os.path.join(embedding_dir, embedding_file_name)\n",
    "    \n",
    "    image_file = os.path.join(dataPath, experiment_params[\"image_path\"], image_of_features)\n",
    "    img_ = Image.open(image_file)\n",
    "    \n",
    "    if os.path.exists(embedding_file):\n",
    "        F = torch.load(embedding_file)\n",
    "        print('file loaded:',embedding_file)\n",
    "    else:\n",
    "        img_ = getTransformedImage(test_loader.dataset, img_, False, True)\n",
    "        img_ = img_.unsqueeze(0)\n",
    "        if cuda is not None:\n",
    "            img_ = img_.cuda()\n",
    "        F = model.activations(img_)[layer]\n",
    "        if not os.path.exists(embedding_dir):\n",
    "            os.mkdir(embedding_dir)\n",
    "        torch.save(F, embedding_file)\n",
    "        print('file saved:',embedding_file)\n",
    "        \n",
    "    return F, img_\n",
    "                       "
   ]
  },
  {
   "cell_type": "code",
   "execution_count": null,
   "metadata": {},
   "outputs": [],
   "source": [
    "intervals = [0, int(0.25*512), int(0.5*512), int(0.75*512), 512]\n",
    "phylo_caps = [0.5, 0.3, 0.1, 0]\n",
    "\n",
    "def print_features(f, title):\n",
    "    print('features of ' + title)\n",
    "    for i in range(len(intervals)-1):\n",
    "        print(intervals[i], '-', intervals[i+1], ':',  f.view(-1)[intervals[i]:intervals[i+1]])\n",
    "    print('---')\n",
    "    \n",
    "def print_dist(f1, f2):\n",
    "    print('cosine distances between two embeddings')\n",
    "    for i in range(len(intervals)-1):\n",
    "        b = intervals[i]\n",
    "        e = intervals[i+1]\n",
    "        d1 = f1[:, b:e].view(1,-1)\n",
    "        d2 = f2[:, b:e].view(1,-1)\n",
    "        target_cosine = torch.ones(d1.size(0))\n",
    "        if cuda is not None:\n",
    "            target_cosine = target_cosine.cuda()\n",
    "        print('distance(', b, '-', e, '):',  torch.nn.CosineEmbeddingLoss()(d1, d2, target_cosine).item())\n",
    "    print('---')"
   ]
  },
  {
   "cell_type": "code",
   "execution_count": null,
   "metadata": {},
   "outputs": [],
   "source": [
    "class TVLoss(torch.nn.Module):\n",
    "    def __init__(self, eps=1e-3, beta=2):\n",
    "        super(TVLoss, self).__init__()\n",
    "        self.eps = eps\n",
    "        self.beta = beta\n",
    "\n",
    "    def forward(self, input):\n",
    "        x_diff = input[:, :, :-1, :-1] - input[:, :, :-1, 1:]\n",
    "        y_diff = input[:, :, :-1, :-1] - input[:, :, 1:, :-1]\n",
    "\n",
    "        sq_diff = torch.clamp(x_diff * x_diff + y_diff * y_diff, self.eps, 10000000)\n",
    "        return torch.norm(sq_diff, self.beta / 2.0) ** (self.beta / 2.0)"
   ]
  },
  {
   "cell_type": "code",
   "execution_count": null,
   "metadata": {},
   "outputs": [],
   "source": [
    "destination = None\n",
    "\n",
    "if cuda is not None:\n",
    "    model = model.cuda()\n",
    "\n",
    "\n",
    "\n",
    "x, original = get_init_image(experiment_params, init_image, test_loader)\n",
    "\n",
    "# x = model(x)\n",
    "x = x.contiguous().view(1, *x.size())\n",
    "recon_var = torch.nn.Parameter(x.cuda(), requires_grad = True)\n",
    "# Get size of features\n",
    "orig_feature_vars = model.activations(recon_var)[layer]\n",
    "\n",
    "F, destination = get_dest_embedding(experiment_params, image_of_features, model, layer)\n",
    "\n",
    "# I fyou wanna use a constant artificial descriptor for destination\n",
    "# # ones_ = torch.ones((128))\n",
    "# ones_ = torch.zeros((128))\n",
    "# # print(ones_.shape)\n",
    "# # print(orig_feature_vars[:, 128:512].view(-1).shape)\n",
    "# if cuda is not None:\n",
    "#     ones_ = ones_.cuda()\n",
    "# F = torch.autograd.Variable(torch.cat((ones_, orig_feature_vars[:, 128:512].view(-1))).unsqueeze(0))\n",
    "# # print(F.shape)\n",
    "    \n",
    "\n",
    "# x = x.permute(2, 0, 1)\n",
    "orig_size = x.size()\n",
    "\n",
    "\n",
    "\n",
    "# sizes = ([f.data[:1].size() for f in orig_feature_vars])\n",
    "# cat_offsets = torch.cat([torch.Tensor([0]), torch.cumsum(torch.Tensor([f.data[:1].nelement() for f in orig_feature_vars]), 0)])\n",
    "\n",
    "# Reshape provided features to match original features\n",
    "# cat_features = torch.from_numpy(F).view(-1)\n",
    "# features = tuple(Variable(cat_features[int(start_i):int(end_i)].view(size)).cuda()\n",
    "#   for size, start_i, end_i in zip(sizes, cat_offsets[:-1], cat_offsets[1:]))\n",
    "features = F\n",
    "\n",
    "# print embeddings\n",
    "print_features(orig_feature_vars, 'current features')\n",
    "print_features(features, 'destination features')\n",
    "print_dist(orig_feature_vars, features)\n",
    "\n",
    "\n",
    "# Create optimizer and loss functions\n",
    "optimizer = torch.optim.LBFGS(\n",
    "  params = [recon_var],\n",
    "  max_iter = max_iter,\n",
    ")\n",
    "optimizer.n_steps = 0\n",
    "criterion = torch.nn.MSELoss(reduction  = 'sum')\n",
    "# criterion = torch.nn.CosineEmbeddingLoss()\n",
    "criterion_tv = TVLoss()\n",
    "if cuda is not None:\n",
    "    criterion = criterion.cuda()\n",
    "    criterion_tv = criterion_tv.cuda()\n",
    "\n",
    "# Optimize\n",
    "def step():\n",
    "    model.zero_grad()\n",
    "    if recon_var.grad is not None:\n",
    "        recon_var.grad.data.fill_(0)\n",
    "\n",
    "    output_var = model.activations(recon_var)[layer]\n",
    "    loss1 = criterion(output_var, features)\n",
    "#     target_cosine = torch.ones(output_var.size(0))\n",
    "#     if cuda is not None:\n",
    "#         target_cosine = target_cosine.cuda()\n",
    "#     loss1 = criterion(output_var, features,target_cosine)\n",
    "#     loss4 = criterion4(output_var[1], features[1])\n",
    "#     loss5 = criterion5(output_var[2], features[2])\n",
    "    loss_tv = tv_lambda * criterion_tv(recon_var)\n",
    "    loss = loss1 + loss_tv\n",
    "    loss.backward(retain_graph=True)\n",
    "\n",
    "    if optimizer.n_steps % 25 == 0:\n",
    "        print('Step: %d  total: %.5f  mse: %.5f  tv: %.5f' %\n",
    "          (optimizer.n_steps, loss.item(), loss1.item(), loss_tv.item()))\n",
    "\n",
    "    optimizer.n_steps += 1\n",
    "    return loss\n",
    "\n",
    "optimizer.step(step)\n",
    "# self.forward_model.cpu()\n",
    "recon = recon_var.data[0].cpu()\n",
    "\n",
    "# Return the new image\n",
    "# recon = self.reverse_transform(recon)\n",
    "plt_img = test_loader.dataset.denormalizer(recon)\n",
    "# print('plt_img1', plt_img.shape)\n",
    "\n",
    "plt_img = plt_img.squeeze().permute(1,2,0)\n",
    "plt_img = torch.clip(plt_img, min=0, max=1)\n",
    "plt_img = plt_img.detach().numpy()\n",
    "plt_img = plt_img* 255\n",
    "plt_img = plt_img.astype(np.uint8)\n",
    "plt_img = Image.fromarray(plt_img)\n",
    "\n",
    "# get new emnbedding\n",
    "temp_ = getTransformedImage(test_loader.dataset, plt_img, False, True)\n",
    "if cuda is not None:\n",
    "    temp_ = temp_.cuda()\n",
    "temp_ = model.activations(temp_.unsqueeze(0))[layer]\n",
    "print_dist(temp_, features)\n",
    "    \n",
    "# recon = unfit_from_quantum(recon, orig_size)\n",
    "# recon = recon.squeeze()\n",
    "# recon = recon.permute(1, 2, 0)\n",
    "# return recon.numpy()\n",
    "# plt_img"
   ]
  },
  {
   "cell_type": "code",
   "execution_count": null,
   "metadata": {},
   "outputs": [],
   "source": [
    "import matplotlib.pyplot as plt\n",
    "from matplotlib.pyplot import figure\n",
    "\n",
    "# Add padding\n",
    "original_ = getTransformedImage(test_loader.dataset, original, False, True)\n",
    "original_ = test_loader.dataset.denormalizer(original_)\n",
    "original_ = original_.squeeze().permute(1,2,0)\n",
    "original_ = torch.clip(original_, min=0, max=1)\n",
    "original_ = original_.detach().numpy()\n",
    "original_ = original_* 255\n",
    "original_ = original_.astype(np.uint8)\n",
    "original_ = Image.fromarray(original_)\n",
    "\n",
    "f, axarr = plt.subplots(1,3,figsize=(30,30))\n",
    "axarr[0].imshow(plt_img)\n",
    "axarr[1].imshow(original_)\n",
    "axarr[2].imshow(destination)\n",
    "axarr[0].title.set_text('Generated')\n",
    "axarr[1].title.set_text('Original')\n",
    "axarr[2].title.set_text('Target')\n",
    "axarr[0].axes.xaxis.set_ticks([])\n",
    "axarr[0].axes.yaxis.set_ticks([])\n",
    "axarr[1].axes.xaxis.set_ticks([])\n",
    "axarr[1].axes.yaxis.set_ticks([])\n",
    "axarr[2].axes.xaxis.set_ticks([])\n",
    "axarr[2].axes.yaxis.set_ticks([])\n"
   ]
  },
  {
   "cell_type": "code",
   "execution_count": null,
   "metadata": {},
   "outputs": [],
   "source": [
    "from PIL import ImageChops\n",
    "import PIL.ImageOps \n",
    "\n",
    "print('diff between initial and generated images')\n",
    "diff = PIL.ImageOps.invert(ImageChops.difference(original_, plt_img))\n",
    "diff"
   ]
  },
  {
   "cell_type": "code",
   "execution_count": null,
   "metadata": {},
   "outputs": [],
   "source": [
    "np.array(diff)\n",
    "np.max(diff)"
   ]
  },
  {
   "cell_type": "code",
   "execution_count": null,
   "metadata": {},
   "outputs": [],
   "source": [
    "model.activations(recon_var)"
   ]
  },
  {
   "cell_type": "code",
   "execution_count": null,
   "metadata": {},
   "outputs": [],
   "source": [
    "b = torch.rand(1, 4)\n",
    "print(b.shape)\n",
    "a = torch.rand(1, 4)\n",
    "print(b.shape)\n",
    "c = torch.cat([a, b], dim=1)\n",
    "print(c.shape)"
   ]
  },
  {
   "cell_type": "code",
   "execution_count": null,
   "metadata": {},
   "outputs": [],
   "source": []
  }
 ],
 "metadata": {
  "kernelspec": {
   "display_name": "Python 3",
   "language": "python",
   "name": "python3"
  },
  "language_info": {
   "codemirror_mode": {
    "name": "ipython",
    "version": 3
   },
   "file_extension": ".py",
   "mimetype": "text/x-python",
   "name": "python",
   "nbconvert_exporter": "python",
   "pygments_lexer": "ipython3",
   "version": "3.6.9"
  }
 },
 "nbformat": 4,
 "nbformat_minor": 4
}
