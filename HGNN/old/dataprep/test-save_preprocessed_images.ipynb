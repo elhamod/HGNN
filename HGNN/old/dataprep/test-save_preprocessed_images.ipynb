{
 "cells": [
  {
   "cell_type": "code",
   "execution_count": 2,
   "metadata": {},
   "outputs": [
    {
     "name": "stdout",
     "output_type": "stream",
     "text": [
      "{'image_path': '/data/BGNN_data/INHS_cropped', 'suffix': '50', 'training_count': 0.64, 'validation_count': 0.16, 'imageDimension': 224, 'n_channels': 3, 'augmentation': False, 'batchSize': 1300, 'n_epochs': 10000, 'learning_rate': 0.0001, 'numOfTrials': 1, 'patience': 200, 'useHeirarchy': True, 'useRelu': True, 'downsample': True, 'downsampleOutput': 200, 'takeFromIntermediate': True, 'takeFromIntermediateOutput': 200, 'fc_layers': 2, 'useAdam': True, 'resnet': '18', 'normalize': True, 'softmax': True, 'batchNormalize': True}\n"
     ]
    }
   ],
   "source": [
    "# defining global variables\n",
    "experimentName = \"test_22987_suffix50_hier_datasetexperiment\"\n",
    "\n",
    "from configParser import ConfigParser\n",
    "params = ConfigParser(experimentName).read()\n",
    "print(params)\n",
    "\n",
    "import os\n",
    "experimentName = os.path.join(experimentName, \"single-trial\")\n",
    "import TrialStatistics\n",
    "ts = TrialStatistics.TrialStatistics(experimentName)\n",
    "\n",
    "import dataLoader"
   ]
  },
  {
   "cell_type": "code",
   "execution_count": 10,
   "metadata": {},
   "outputs": [
    {
     "name": "stdout",
     "output_type": "stream",
     "text": [
      "/data/BGNN_data/INHS_cropped/images2\n"
     ]
    }
   ],
   "source": [
    "output_dir = os.path.join(params[\"image_path\"], 'images2') # /data/BGNN_data/INHS_cropped/images_transformed \n",
    "print(output_dir)\n",
    "if not os.path.exists(output_dir):\n",
    "    os.makedirs(output_dir)"
   ]
  },
  {
   "cell_type": "code",
   "execution_count": 6,
   "metadata": {},
   "outputs": [
    {
     "name": "stdout",
     "output_type": "stream",
     "text": [
      "We are using cuda\n"
     ]
    }
   ],
   "source": [
    "import torch \n",
    "# CUDA support \n",
    "if torch.cuda.is_available():\n",
    "    torch.cuda.set_device(0) # 0\n",
    "    torch.set_default_tensor_type('torch.cuda.FloatTensor')\n",
    "    print(\"We are using cuda\")"
   ]
  },
  {
   "cell_type": "code",
   "execution_count": 7,
   "metadata": {},
   "outputs": [
    {
     "name": "stdout",
     "output_type": "stream",
     "text": [
      "Loading dataset...\n"
     ]
    },
    {
     "name": "stderr",
     "output_type": "stream",
     "text": [
      "  0% (5 of 2650) |                       | Elapsed Time: 0:00:00 ETA:   0:02:30"
     ]
    },
    {
     "name": "stdout",
     "output_type": "stream",
     "text": [
      "Going through image files\n"
     ]
    },
    {
     "name": "stderr",
     "output_type": "stream",
     "text": [
      "100% (2650 of 2650) |####################| Elapsed Time: 0:03:08 Time:  0:03:08\n"
     ]
    },
    {
     "name": "stdout",
     "output_type": "stream",
     "text": [
      "dataset has a mean: tensor([0.7610, 0.7300, 0.6575]) and std: tensor([0.1328, 0.1649, 0.1979])\n",
      "file /data/BGNN_data/INHS_cropped/50/test_22987_suffix50_hier_datasetexperiment/single-trial/tc0.640000_vc0.160000_d224_c3_augFalse_nTrue/dataset.pkl written\n"
     ]
    }
   ],
   "source": [
    "datasetManager = dataLoader.datasetManager(experimentName, True)\n",
    "datasetManager.updateParams(params)\n",
    "dataset = datasetManager.getDataset()"
   ]
  },
  {
   "cell_type": "code",
   "execution_count": 11,
   "metadata": {},
   "outputs": [
    {
     "name": "stderr",
     "output_type": "stream",
     "text": [
      "100% (2650 of 2650) |####################| Elapsed Time: 0:01:17 Time:  0:01:17\n"
     ]
    }
   ],
   "source": [
    "from torchvision.utils import save_image\n",
    "import progressbar\n",
    "\n",
    "idx = 0\n",
    "dataset_len = len(dataset.samples)\n",
    "with progressbar.ProgressBar(maxval=dataset_len, redirect_stdout=True) as bar:\n",
    "    bar.update(0)\n",
    "    for i in range(dataset_len):\n",
    "        record = dataset[i]\n",
    "        img = record['image']\n",
    "        save_image(img, os.path.join(output_dir, record['fileName']))\n",
    "        idx = idx + 1\n",
    "        bar.update(idx)"
   ]
  },
  {
   "cell_type": "code",
   "execution_count": null,
   "metadata": {},
   "outputs": [],
   "source": []
  }
 ],
 "metadata": {
  "kernelspec": {
   "display_name": "Python 3",
   "language": "python",
   "name": "python3"
  },
  "language_info": {
   "codemirror_mode": {
    "name": "ipython",
    "version": 3
   },
   "file_extension": ".py",
   "mimetype": "text/x-python",
   "name": "python",
   "nbconvert_exporter": "python",
   "pygments_lexer": "ipython3",
   "version": "3.6.9"
  }
 },
 "nbformat": 4,
 "nbformat_minor": 4
}
